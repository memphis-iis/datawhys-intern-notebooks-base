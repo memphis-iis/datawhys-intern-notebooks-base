{
 "cells": [
  {
   "cell_type": "markdown",
   "metadata": {
    "deletable": false,
    "editable": false
   },
   "source": [
    "Copyright 2020 Andrew M. Olney and made available under [CC BY-SA](https://creativecommons.org/licenses/by-sa/4.0) for text and [Apache-2.0](http://www.apache.org/licenses/LICENSE-2.0) for code.\n"
   ]
  },
  {
   "cell_type": "markdown",
   "metadata": {},
   "source": [
    "# $K$-Nearest Neighbor Regression: Problem solving"
   ]
  },
  {
   "cell_type": "markdown",
   "metadata": {},
   "source": [
    "In this session, we will look at another dataset, `mpg`, that examines the performance of cars from the 1970s.\n",
    "The variables in it are:\n",
    "\n",
    "| Variable | Description                              |\n",
    "|----------|:------------------------------------------|\n",
    "| mpg      | Miles/(US) gallon                        |\n",
    "| cyl      | Number of cylinders                      |\n",
    "| disp     | Displacement (cu.in.)                    |\n",
    "| hp       | Gross horsepower                         |\n",
    "| drat     | Rear axle ratio                          |\n",
    "| wt       | Weight (1000 lbs)                        |\n",
    "| qsec     | 1/4 mile time                            |\n",
    "| vs       | Engine (0 = V-shaped, 1 = straight)      |\n",
    "| am       | Transmission (0 = automatic, 1 = manual) |\n",
    "| gear     | Number of forward gears                  |\n",
    "| carb     | Number of carburetors                    | \n",
    "| **name**     | **Name of car model**|\n",
    "\n",
    "<div style=\"text-align:center;font-size: smaller\">\n",
    "    <b>Source:</b> This dataset was taken from the StatLib library which is maintained at Carnegie Mellon University.\n",
    "</div>"
   ]
  },
  {
   "cell_type": "markdown",
   "metadata": {},
   "source": [
    "The last variable, `name` is not data but rather an ID.\n",
    "\n",
    "For this session, we are interested in predicting `mpg`.\n",
    "\n",
    "**QUESTION:**\n",
    "\n",
    "What makes name an ID?"
   ]
  },
  {
   "cell_type": "markdown",
   "metadata": {},
   "source": [
    "**ANSWER: (click here to edit)**\n",
    "\n\n<hr>"
   ]
  },
  {
   "cell_type": "markdown",
   "metadata": {},
   "source": [
    "## Load the data\n",
    "\n",
    "Start by importing `pandas`."
   ]
  },
  {
   "cell_type": "code",
   "execution_count": 2,
   "metadata": {
    "user_blocks": [
     "importAs"
    ],
    "user_blocks_xml": "<xml xmlns=\"https://developers.google.com/blockly/xml\"><variables><variable id=\"A]5Vf/x,=8dk=KKk3OrJ\">pd</variable></variables><block type=\"importAs\" id=\"/k@:}OLWtAh)hpx[.2^]\" x=\"150\" y=\"308\"><field name=\"libraryName\">pandas</field><field name=\"VAR\" id=\"A]5Vf/x,=8dk=KKk3OrJ\">pd</field></block></xml>",
    "user_code_from_blocks": "import pandas as pd\n"
   },
   "outputs": [],
   "source": []
  },
  {
   "cell_type": "markdown",
   "metadata": {},
   "source": [
    "Load a dataframe with `\"datasets/mpg-nona.csv\"` but tell `pandas` to treat `name` as an ID.\n",
    "\n",
    "Hint: `read_csv` using the filename and `index_col=\"name\"`."
   ]
  },
  {
   "cell_type": "code",
   "execution_count": 4,
   "metadata": {
    "user_blocks": [
     "variables_set",
     "varDoMethod",
     "text",
     "dummyOutputCodeBlock",
     "variables_get"
    ],
    "user_blocks_xml": "<xml xmlns=\"https://developers.google.com/blockly/xml\"><variables><variable id=\"$%drMkQ:qhLh-L8dv:ow\">dataframe</variable><variable id=\"A]5Vf/x,=8dk=KKk3OrJ\">pd</variable></variables><block type=\"variables_set\" id=\"FJGldw(qFp?V=E]uaN)4\" x=\"3\" y=\"114\"><field name=\"VAR\" id=\"$%drMkQ:qhLh-L8dv:ow\">dataframe</field><value name=\"VALUE\"><block type=\"varDoMethod\" id=\"4s18v%0iqE%_l@{fLYCo\"><mutation items=\"2\"></mutation><field name=\"VAR\" id=\"A]5Vf/x,=8dk=KKk3OrJ\">pd</field><field name=\"MEMBER\">read_csv</field><data>pd:read_csv</data><value name=\"ADD0\"><block type=\"text\" id=\"tN4Jmaffy/={ZFo;uu;W\"><field name=\"TEXT\">datasets/mpg-nona.csv</field></block></value><value name=\"ADD1\"><block type=\"dummyOutputCodeBlock\" id=\"@fuk{Xo8y56/8Y$fXPCW\"><field name=\"CODE\">index_col=\"name\"</field></block></value></block></value></block><block type=\"variables_get\" id=\"xe,_So|iQl`4_no@5h_m\" x=\"8\" y=\"296\"><field name=\"VAR\" id=\"$%drMkQ:qhLh-L8dv:ow\">dataframe</field></block></xml>",
    "user_code_from_blocks": "dataframe = pd.read_csv('datasets/mpg-nona.csv',index_col=\"name\")\n\ndataframe\n"
   },
   "outputs": [],
   "source": []
  },
  {
   "cell_type": "markdown",
   "metadata": {},
   "source": [
    "**QUESTION:**\n",
    "\n",
    "If we had kept `name` as a variable, what do you think would have happened?"
   ]
  },
  {
   "cell_type": "markdown",
   "metadata": {},
   "source": [
    "**ANSWER: (click here to edit)**\n",
    "\n\n<hr>"
   ]
  },
  {
   "cell_type": "markdown",
   "metadata": {},
   "source": [
    "## Prepare train/test sets\n",
    "\n",
    "Create a new dataframe without `mpg` (i.e, using `drop`) to use as your `X`."
   ]
  },
  {
   "cell_type": "code",
   "execution_count": 8,
   "metadata": {
    "user_blocks": [
     "variables_set",
     "varDoMethod",
     "dummyOutputCodeBlock",
     "variables_get"
    ],
    "user_blocks_xml": "<xml xmlns=\"https://developers.google.com/blockly/xml\"><variables><variable id=\".X4`4]:_GBz1DeII8[o2\">X</variable><variable id=\"$%drMkQ:qhLh-L8dv:ow\">dataframe</variable></variables><block type=\"variables_set\" id=\"j12HEn?u}2$P-S)Ax6d(\" x=\"18\" y=\"151\"><field name=\"VAR\" id=\".X4`4]:_GBz1DeII8[o2\">X</field><value name=\"VALUE\"><block type=\"varDoMethod\" id=\"PMH^/O2y?rD(Y}r-N6eY\"><mutation items=\"1\"></mutation><field name=\"VAR\" id=\"$%drMkQ:qhLh-L8dv:ow\">dataframe</field><field name=\"MEMBER\">drop</field><data>dataframe:drop</data><value name=\"ADD0\"><block type=\"dummyOutputCodeBlock\" id=\"8N-YF(7ms%)oox.~Z;b/\"><field name=\"CODE\">columns=[\"mpg\"]</field></block></value></block></value></block><block type=\"variables_get\" id=\"DdFRZt{,QusD6$#{{SUu\" x=\"8\" y=\"296\"><field name=\"VAR\" id=\".X4`4]:_GBz1DeII8[o2\">X</field></block></xml>",
    "user_code_from_blocks": "X = dataframe.drop(columns=[\"mpg\"])\n\nX\n"
   },
   "outputs": [],
   "source": []
  },
  {
   "cell_type": "markdown",
   "metadata": {},
   "source": [
    "Create a new dataframe with *only* `mpg` to use as your `Y`."
   ]
  },
  {
   "cell_type": "code",
   "execution_count": 10,
   "metadata": {
    "user_blocks": [
     "variables_set",
     "indexer",
     "lists_create_with",
     "text",
     "variables_get"
    ],
    "user_blocks_xml": "<xml xmlns=\"https://developers.google.com/blockly/xml\"><variables><variable id=\"fnSh@+0BWBw|hcm3M|WE\">Y</variable><variable id=\"$%drMkQ:qhLh-L8dv:ow\">dataframe</variable></variables><block type=\"variables_set\" id=\"_:J1([xryT4i+F7k{#[%\" x=\"17\" y=\"175\"><field name=\"VAR\" id=\"fnSh@+0BWBw|hcm3M|WE\">Y</field><value name=\"VALUE\"><block type=\"indexer\" id=\"22hOF=T:mHvJrMybHkPs\"><field name=\"VAR\" id=\"$%drMkQ:qhLh-L8dv:ow\">dataframe</field><value name=\"INDEX\"><block type=\"lists_create_with\" id=\"qT2G_{7q~*L;[5j:vtKq\"><mutation items=\"1\"></mutation><value name=\"ADD0\"><block type=\"text\" id=\"=UVLwuCW$1d9ZJ]6HF_,\"><field name=\"TEXT\">mpg</field></block></value></block></value></block></value></block><block type=\"variables_get\" id=\"pog__n6Jf{VK_sNEB)B$\" x=\"17\" y=\"239\"><field name=\"VAR\" id=\"fnSh@+0BWBw|hcm3M|WE\">Y</field></block></xml>",
    "user_code_from_blocks": "Y = dataframe[['mpg']]\n\nY\n"
   },
   "outputs": [],
   "source": []
  },
  {
   "cell_type": "markdown",
   "metadata": {},
   "source": [
    "The next step is to split `X` and `Y` into train and test sets. \n",
    "\n",
    "First do the import for splitting."
   ]
  },
  {
   "cell_type": "code",
   "execution_count": 12,
   "metadata": {
    "user_blocks": [
     "importAs"
    ],
    "user_blocks_xml": "<xml xmlns=\"https://developers.google.com/blockly/xml\"><variables><variable id=\"uASGz64Zb$AOvQyV4pRj\">model_selection</variable></variables><block type=\"importAs\" id=\"sN1YO5FEzpHyxb31@j,Z\" x=\"16\" y=\"10\"><field name=\"libraryName\">sklearn.model_selection</field><field name=\"VAR\" id=\"uASGz64Zb$AOvQyV4pRj\">model_selection</field></block></xml>",
    "user_code_from_blocks": "import sklearn.model_selection as model_selection\n"
   },
   "outputs": [],
   "source": []
  },
  {
   "cell_type": "markdown",
   "metadata": {},
   "source": [
    "Now split the data."
   ]
  },
  {
   "cell_type": "code",
   "execution_count": 14,
   "metadata": {
    "user_blocks": [
     "variables_set",
     "varDoMethod",
     "variables_get",
     "variables_get",
     "dummyOutputCodeBlock",
     "variables_get"
    ],
    "user_blocks_xml": "<xml xmlns=\"https://developers.google.com/blockly/xml\"><variables><variable id=\"_ut$e0PL4OMi4o1MXTpw\">splits</variable><variable id=\"$%drMkQ:qhLh-L8dv:ow\">dataframe</variable><variable id=\"uASGz64Zb$AOvQyV4pRj\">model_selection</variable><variable id=\".X4`4]:_GBz1DeII8[o2\">X</variable><variable id=\"fnSh@+0BWBw|hcm3M|WE\">Y</variable></variables><block type=\"variables_set\" id=\"oTGRJ#{R!U^we@Bl@pkT\" x=\"19\" y=\"206\"><field name=\"VAR\" id=\"_ut$e0PL4OMi4o1MXTpw\">splits</field><value name=\"VALUE\"><block type=\"varDoMethod\" id=\"f?j@ker(a#hJv;Nh)IGX\"><mutation items=\"3\"></mutation><field name=\"VAR\" id=\"uASGz64Zb$AOvQyV4pRj\">model_selection</field><field name=\"MEMBER\">train_test_split</field><data>model_selection:train_test_split</data><value name=\"ADD0\"><block type=\"variables_get\" id=\".mm}`*H4)i%Eq5z={e-$\"><field name=\"VAR\" id=\".X4`4]:_GBz1DeII8[o2\">X</field></block></value><value name=\"ADD1\"><block type=\"variables_get\" id=\"I3dOV;CPBf^~E%BvgthZ\"><field name=\"VAR\" id=\"fnSh@+0BWBw|hcm3M|WE\">Y</field></block></value><value name=\"ADD2\"><block type=\"dummyOutputCodeBlock\" id=\"@Hg?ib/!8fH$;f3pWJy2\"><field name=\"CODE\">test_size=0.2</field></block></value></block></value></block><block type=\"variables_get\" id=\"LziQaRD`q6IGN=vPaqsj\" x=\"8\" y=\"364\"><field name=\"VAR\" id=\"$%drMkQ:qhLh-L8dv:ow\">dataframe</field></block></xml>",
    "user_code_from_blocks": "splits = model_selection.train_test_split(X,Y,test_size=0.2)\n\ndataframe\n"
   },
   "outputs": [],
   "source": []
  },
  {
   "cell_type": "markdown",
   "metadata": {},
   "source": [
    "## KNN regression model\n",
    "\n",
    "Import the five libraries you need for:\n",
    "\n",
    "- KNN regression\n",
    "- Mean squared error\n",
    "- Ravel\n",
    "- Scale\n",
    "- Pipeline"
   ]
  },
  {
   "cell_type": "code",
   "execution_count": 16,
   "metadata": {
    "user_blocks": [
     "importAs",
     "importAs",
     "importAs",
     "importAs",
     "importAs"
    ],
    "user_blocks_xml": "<xml xmlns=\"https://developers.google.com/blockly/xml\"><variables><variable id=\"MvUG^P$o3=I*6/67?Rk:\">neighbors</variable><variable id=\")}+w@N9iB/j=:+PLkMv8\">metrics</variable><variable id=\"Zhzp)s*VL?V@ES3(j:*b\">np</variable><variable id=\".T`xqZHAu7r0$MQ4s=Yg\">pp</variable><variable id=\"=z9KfSBWpoDS,oj-?yx,\">pipe</variable></variables><block type=\"importAs\" id=\"Jkis0rqxTm[rs0.yA(O7\" x=\"183\" y=\"249\"><field name=\"libraryName\">sklearn.neighbors</field><field name=\"VAR\" id=\"MvUG^P$o3=I*6/67?Rk:\">neighbors</field><next><block type=\"importAs\" id=\"*G_SVgZ;}hIr,Hi1~$Z6\"><field name=\"libraryName\">sklearn.metrics</field><field name=\"VAR\" id=\")}+w@N9iB/j=:+PLkMv8\">metrics</field><next><block type=\"importAs\" id=\"1ODp#_M`@7Fj/@US}H%#\"><field name=\"libraryName\">numpy</field><field name=\"VAR\" id=\"Zhzp)s*VL?V@ES3(j:*b\">np</field><next><block type=\"importAs\" id=\"/YAkt4vqDQp/.5;pPcY.\"><field name=\"libraryName\">sklearn.preprocessing</field><field name=\"VAR\" id=\".T`xqZHAu7r0$MQ4s=Yg\">pp</field><next><block type=\"importAs\" id=\"O15G]dI#1oM;`7^r@Pr,\"><field name=\"libraryName\">sklearn.pipeline</field><field name=\"VAR\" id=\"=z9KfSBWpoDS,oj-?yx,\">pipe</field></block></next></block></next></block></next></block></next></block></xml>",
    "user_code_from_blocks": "import sklearn.neighbors as neighbors\nimport sklearn.metrics as metrics\nimport numpy as np\nimport sklearn.preprocessing as pp\nimport sklearn.pipeline as pipe\n"
   },
   "outputs": [],
   "source": []
  },
  {
   "cell_type": "markdown",
   "metadata": {},
   "source": [
    "Create a pipeline with a scaler and KNN regression.\n",
    "Remember we need the scaler to put all our variables on the same scale."
   ]
  },
  {
   "cell_type": "code",
   "execution_count": 18,
   "metadata": {
    "user_blocks": [
     "variables_set",
     "varDoMethod",
     "varCreateObject",
     "varCreateObject",
     "dummyOutputCodeBlock"
    ],
    "user_blocks_xml": "<xml xmlns=\"https://developers.google.com/blockly/xml\"><variables><variable id=\"`P)`+jl|;h{.[r}{78q6\">std_clf</variable><variable id=\"=z9KfSBWpoDS,oj-?yx,\">pipe</variable><variable id=\".T`xqZHAu7r0$MQ4s=Yg\">pp</variable><variable id=\"MvUG^P$o3=I*6/67?Rk:\">neighbors</variable></variables><block type=\"variables_set\" id=\"}81D/tZY#o}$E:M}:u4x\" x=\"28\" y=\"96\"><field name=\"VAR\" id=\"`P)`+jl|;h{.[r}{78q6\">std_clf</field><value name=\"VALUE\"><block type=\"varDoMethod\" id=\"(Noh/e~gvTM3-4|;g]s[\"><mutation items=\"2\"></mutation><field name=\"VAR\" id=\"=z9KfSBWpoDS,oj-?yx,\">pipe</field><field name=\"MEMBER\">make_pipeline</field><data>pipe:make_pipeline</data><value name=\"ADD0\"><block type=\"varCreateObject\" id=\"e9G_EPu`q{*0`$!~:jh~\"><mutation items=\"1\"></mutation><field name=\"VAR\" id=\".T`xqZHAu7r0$MQ4s=Yg\">pp</field><field name=\"MEMBER\">StandardScaler</field><data>pp:StandardScaler</data></block></value><value name=\"ADD1\"><block type=\"varCreateObject\" id=\"ar7keIh-Yv)+b+#Edsp_\"><mutation items=\"1\"></mutation><field name=\"VAR\" id=\"MvUG^P$o3=I*6/67?Rk:\">neighbors</field><field name=\"MEMBER\">KNeighborsRegressor</field><data>neighbors:KNeighborsRegressor</data><value name=\"ADD0\"><block type=\"dummyOutputCodeBlock\" id=\"Q!`Pnb+=Gq!aL4Xa}S{z\"><field name=\"CODE\">n_neighbors = 10</field></block></value></block></value></block></value></block></xml>",
    "user_code_from_blocks": "std_clf = pipe.make_pipeline(pp.StandardScaler(),neighbors.KNeighborsRegressor(n_neighbors = 10))\n"
   },
   "outputs": [],
   "source": []
  },
  {
   "cell_type": "markdown",
   "metadata": {},
   "source": [
    "Train the KNN regression model using the pipeline (i.e. use `fit`)."
   ]
  },
  {
   "cell_type": "code",
   "execution_count": 20,
   "metadata": {
    "user_blocks": [
     "varDoMethod",
     "lists_getIndex",
     "variables_get",
     "math_number",
     "varDoMethod",
     "lists_getIndex",
     "variables_get",
     "math_number"
    ],
    "user_blocks_xml": "<xml xmlns=\"https://developers.google.com/blockly/xml\"><variables><variable id=\"`P)`+jl|;h{.[r}{78q6\">std_clf</variable><variable id=\"Zhzp)s*VL?V@ES3(j:*b\">np</variable><variable id=\"_ut$e0PL4OMi4o1MXTpw\">splits</variable></variables><block type=\"varDoMethod\" id=\"Z)$q-zn.KTC{+^l-wH6u\" x=\"-34\" y=\"159\"><mutation items=\"2\"></mutation><field name=\"VAR\" id=\"`P)`+jl|;h{.[r}{78q6\">std_clf</field><field name=\"MEMBER\">fit</field><data>std_clf:fit</data><value name=\"ADD0\"><block type=\"lists_getIndex\" id=\"C#,#1*rEm+]qEx?L1x[L\"><mutation statement=\"false\" at=\"true\"></mutation><field name=\"MODE\">GET</field><field name=\"WHERE\">FROM_START</field><value name=\"VALUE\"><block type=\"variables_get\" id=\"b_Sz{9#d7d=ystO|k?l_\"><field name=\"VAR\" id=\"_ut$e0PL4OMi4o1MXTpw\">splits</field></block></value><value name=\"AT\"><block type=\"math_number\" id=\":s{r1~S,,@.CSh#9`$R;\"><field name=\"NUM\">1</field></block></value></block></value><value name=\"ADD1\"><block type=\"varDoMethod\" id=\"zYBlZ,!^P^%Ib5R@Ch.H\"><mutation items=\"1\"></mutation><field name=\"VAR\" id=\"Zhzp)s*VL?V@ES3(j:*b\">np</field><field name=\"MEMBER\">ravel</field><data>np:ravel</data><value name=\"ADD0\"><block type=\"lists_getIndex\" id=\"^)UBt0jM;BnGmWeG7pw*\"><mutation statement=\"false\" at=\"true\"></mutation><field name=\"MODE\">GET</field><field name=\"WHERE\">FROM_START</field><value name=\"VALUE\"><block type=\"variables_get\" id=\"4Vo!*g]qQ=D}XtD2i39/\"><field name=\"VAR\" id=\"_ut$e0PL4OMi4o1MXTpw\">splits</field></block></value><value name=\"AT\"><block type=\"math_number\" id=\"RysCD3.C27sBxztz(T}2\"><field name=\"NUM\">3</field></block></value></block></value></block></value></block></xml>",
    "user_code_from_blocks": "std_clf.fit(splits[0],np.ravel(splits[2]))\n"
   },
   "outputs": [],
   "source": []
  },
  {
   "cell_type": "markdown",
   "metadata": {},
   "source": [
    "Predict the mpg using the test data."
   ]
  },
  {
   "cell_type": "code",
   "execution_count": 22,
   "metadata": {
    "user_blocks": [
     "variables_set",
     "varDoMethod",
     "lists_getIndex",
     "variables_get",
     "math_number",
     "variables_get"
    ],
    "user_blocks_xml": "<xml xmlns=\"https://developers.google.com/blockly/xml\"><variables><variable id=\"5lkT$zi8W,`TXDny?Cv7\">predictions</variable><variable id=\"`P)`+jl|;h{.[r}{78q6\">std_clf</variable><variable id=\"_ut$e0PL4OMi4o1MXTpw\">splits</variable></variables><block type=\"variables_set\" id=\"NHw$/HH988vNLbZgn)CM\" x=\"-54\" y=\"190\"><field name=\"VAR\" id=\"5lkT$zi8W,`TXDny?Cv7\">predictions</field><value name=\"VALUE\"><block type=\"varDoMethod\" id=\"N}3ds6:i%0MtTA:(2im4\"><mutation items=\"1\"></mutation><field name=\"VAR\" id=\"`P)`+jl|;h{.[r}{78q6\">std_clf</field><field name=\"MEMBER\">predict</field><data>std_clf:predict</data><value name=\"ADD0\"><block type=\"lists_getIndex\" id=\"@lpyN+:CEcPQ#Q:Svm|9\"><mutation statement=\"false\" at=\"true\"></mutation><field name=\"MODE\">GET</field><field name=\"WHERE\">FROM_START</field><value name=\"VALUE\"><block type=\"variables_get\" id=\"ng))4fZyb@U1|eswo1}:\"><field name=\"VAR\" id=\"_ut$e0PL4OMi4o1MXTpw\">splits</field></block></value><value name=\"AT\"><block type=\"math_number\" id=\"Lo)w=2LL|Tf-L/gkeTdT\"><field name=\"NUM\">2</field></block></value></block></value></block></value></block><block type=\"variables_get\" id=\"hEVH$Cl8Tw9^=,@Ir([y\" x=\"-52\" y=\"280\"><field name=\"VAR\" id=\"5lkT$zi8W,`TXDny?Cv7\">predictions</field></block></xml>",
    "user_code_from_blocks": "predictions = std_clf.predict(splits[1])\n\npredictions\n"
   },
   "outputs": [],
   "source": []
  },
  {
   "cell_type": "markdown",
   "metadata": {},
   "source": [
    "## Assessing the model"
   ]
  },
  {
   "cell_type": "markdown",
   "metadata": {},
   "source": [
    "Calculate the RMSE of the predictions."
   ]
  },
  {
   "cell_type": "code",
   "execution_count": 24,
   "metadata": {
    "user_blocks": [
     "math_single",
     "varDoMethod",
     "lists_getIndex",
     "variables_get",
     "math_number",
     "variables_get"
    ],
    "user_blocks_xml": "<xml xmlns=\"https://developers.google.com/blockly/xml\"><variables><variable id=\")}+w@N9iB/j=:+PLkMv8\">metrics</variable><variable id=\"5lkT$zi8W,`TXDny?Cv7\">predictions</variable><variable id=\"_ut$e0PL4OMi4o1MXTpw\">splits</variable></variables><block type=\"math_single\" id=\"K+~AfTut!=kX_{{*?zjq\" x=\"-102\" y=\"160\"><field name=\"OP\">ROOT</field><value name=\"NUM\"><block type=\"varDoMethod\" id=\"dtb+F,1WedaH`AXMNxY[\"><mutation items=\"2\"></mutation><field name=\"VAR\" id=\")}+w@N9iB/j=:+PLkMv8\">metrics</field><field name=\"MEMBER\">mean_squared_error</field><data>metrics:mean_squared_error</data><value name=\"ADD0\"><block type=\"lists_getIndex\" id=\"%Q5nelLnQN_U[o);kAqv\"><mutation statement=\"false\" at=\"true\"></mutation><field name=\"MODE\">GET</field><field name=\"WHERE\">FROM_START</field><value name=\"VALUE\"><block type=\"variables_get\" id=\"eCZagv7%IlQ;!+X*/wn7\"><field name=\"VAR\" id=\"_ut$e0PL4OMi4o1MXTpw\">splits</field></block></value><value name=\"AT\"><block type=\"math_number\" id=\"+UoB2X],lB*~xVCJOMRM\"><field name=\"NUM\">4</field></block></value></block></value><value name=\"ADD1\"><block type=\"variables_get\" id=\"Y`5[z@^QpYeXO!b/zuki\"><field name=\"VAR\" id=\"5lkT$zi8W,`TXDny?Cv7\">predictions</field></block></value></block></value></block></xml>",
    "user_code_from_blocks": "\nimport math\n\n\nmath.sqrt(metrics.mean_squared_error(splits[3],predictions))\n"
   },
   "outputs": [],
   "source": []
  },
  {
   "cell_type": "markdown",
   "metadata": {},
   "source": [
    "**QUESTION:**\n",
    "\n",
    "What was your rmse?\n",
    "If you redo your splits and retrain the model, does it change?\n",
    "Why?"
   ]
  },
  {
   "cell_type": "markdown",
   "metadata": {},
   "source": [
    "**ANSWER: (click here to edit)**\n",
    "\n\n<hr>"
   ]
  },
  {
   "cell_type": "markdown",
   "metadata": {},
   "source": [
    "## Finding the optimal K"
   ]
  },
  {
   "cell_type": "markdown",
   "metadata": {},
   "source": [
    "Find the optimal K for the model by trying K=1, 10, 25, 50, 100, and 250 in a loop."
   ]
  },
  {
   "cell_type": "code",
   "execution_count": 26,
   "metadata": {
    "user_blocks": [
     "controls_forEach",
     "lists_create_with",
     "math_number",
     "math_number",
     "math_number",
     "math_number",
     "math_number",
     "math_number",
     "variables_set",
     "varDoMethod",
     "varCreateObject",
     "varCreateObject",
     "dummyOutputCodeBlock",
     "valueNoOutputCodeBlock",
     "varDoMethod",
     "lists_getIndex",
     "variables_get",
     "math_number",
     "varDoMethod",
     "lists_getIndex",
     "variables_get",
     "math_number",
     "variables_set",
     "varDoMethod",
     "lists_getIndex",
     "variables_get",
     "math_number",
     "variables_set",
     "math_single",
     "varDoMethod",
     "lists_getIndex",
     "variables_get",
     "math_number",
     "variables_get",
     "text_print",
     "text_join",
     "variables_get",
     "text",
     "variables_get"
    ],
    "user_blocks_xml": "<xml xmlns=\"https://developers.google.com/blockly/xml\"><variables><variable id=\"nr%W_%EA(*n$_f,PuH#c\">j</variable><variable id=\"`P)`+jl|;h{.[r}{78q6\">std_clf</variable><variable id=\"=z9KfSBWpoDS,oj-?yx,\">pipe</variable><variable id=\".T`xqZHAu7r0$MQ4s=Yg\">pp</variable><variable id=\"MvUG^P$o3=I*6/67?Rk:\">neighbors</variable><variable id=\"5lkT$zi8W,`TXDny?Cv7\">predictions</variable><variable id=\"Zhzp)s*VL?V@ES3(j:*b\">np</variable><variable id=\"RN+myW;vx){}Q0LuFA9y\">rmse</variable><variable id=\"_ut$e0PL4OMi4o1MXTpw\">splits</variable><variable id=\")}+w@N9iB/j=:+PLkMv8\">metrics</variable></variables><block type=\"controls_forEach\" id=\"MbWYZ/u3Q#+3*u`TM}ce\" x=\"-33\" y=\"25\"><field name=\"VAR\" id=\"nr%W_%EA(*n$_f,PuH#c\">j</field><value name=\"LIST\"><block type=\"lists_create_with\" id=\"Q6_EXa41T:y(.uy[pm.V\"><mutation items=\"6\"></mutation><value name=\"ADD0\"><block type=\"math_number\" id=\"+BJ@yT0IgJORgO^/))c~\"><field name=\"NUM\">1</field></block></value><value name=\"ADD1\"><block type=\"math_number\" id=\".~r[qy7$p-Jy_g:ACHYr\"><field name=\"NUM\">10</field></block></value><value name=\"ADD2\"><block type=\"math_number\" id=\"w!m`o}C;PB7OhYP5ZTq~\"><field name=\"NUM\">25</field></block></value><value name=\"ADD3\"><block type=\"math_number\" id=\"?!EK)M.j{u~@|;ytL|nd\"><field name=\"NUM\">50</field></block></value><value name=\"ADD4\"><block type=\"math_number\" id=\"cLtaU]#w-;S(sUq8pw/l\"><field name=\"NUM\">100</field></block></value><value name=\"ADD5\"><block type=\"math_number\" id=\"910qY[[4~4nziBPT;K+G\"><field name=\"NUM\">250</field></block></value></block></value><statement name=\"DO\"><block type=\"variables_set\" id=\"8APEX{xGs3Qz/$NzTFrY\"><field name=\"VAR\" id=\"`P)`+jl|;h{.[r}{78q6\">std_clf</field><value name=\"VALUE\"><block type=\"varDoMethod\" id=\"W=ep`rJjDXvsAV^R+NIG\"><mutation items=\"2\"></mutation><field name=\"VAR\" id=\"=z9KfSBWpoDS,oj-?yx,\">pipe</field><field name=\"MEMBER\">make_pipeline</field><data>pipe:make_pipeline</data><value name=\"ADD0\"><block type=\"varCreateObject\" id=\"ME+Z@t~BnN}LL22r%Hxt\"><mutation items=\"1\"></mutation><field name=\"VAR\" id=\".T`xqZHAu7r0$MQ4s=Yg\">pp</field><field name=\"MEMBER\">StandardScaler</field><data>pp:StandardScaler</data></block></value><value name=\"ADD1\"><block type=\"varCreateObject\" id=\"p=kmgsx6gSLD(RSPi]We\"><mutation items=\"1\"></mutation><field name=\"VAR\" id=\"MvUG^P$o3=I*6/67?Rk:\">neighbors</field><field name=\"MEMBER\">KNeighborsRegressor</field><data>neighbors:KNeighborsRegressor</data><value name=\"ADD0\"><block type=\"dummyOutputCodeBlock\" id=\"4*MO9`pDvGbjv^%|]#Jm\"><field name=\"CODE\">n_neighbors = j</field></block></value></block></value></block></value><next><block type=\"valueNoOutputCodeBlock\" id=\"b2$eeB}vA+APG9EY4RvG\"><field name=\"CODE\"></field><value name=\"INPUT\"><block type=\"varDoMethod\" id=\"!a#R5q~=+4G.fWQ-a:Ai\"><mutation items=\"2\"></mutation><field name=\"VAR\" id=\"`P)`+jl|;h{.[r}{78q6\">std_clf</field><field name=\"MEMBER\">fit</field><data>std_clf:fit</data><value name=\"ADD0\"><block type=\"lists_getIndex\" id=\"Bg)U?tUT/i!BuqI+~78i\"><mutation statement=\"false\" at=\"true\"></mutation><field name=\"MODE\">GET</field><field name=\"WHERE\">FROM_START</field><value name=\"VALUE\"><block type=\"variables_get\" id=\"J0_:T[7!I[/pre=^gqIw\"><field name=\"VAR\" id=\"_ut$e0PL4OMi4o1MXTpw\">splits</field></block></value><value name=\"AT\"><block type=\"math_number\" id=\"Jt|3]Id8E7gD7O}{bmrW\"><field name=\"NUM\">1</field></block></value></block></value><value name=\"ADD1\"><block type=\"varDoMethod\" id=\"7!WF{br/dCPJd;YQ:(Ik\"><mutation items=\"1\"></mutation><field name=\"VAR\" id=\"Zhzp)s*VL?V@ES3(j:*b\">np</field><field name=\"MEMBER\">ravel</field><data>np:ravel</data><value name=\"ADD0\"><block type=\"lists_getIndex\" id=\"p9_vm4JY1L*#.U$2H~(3\"><mutation statement=\"false\" at=\"true\"></mutation><field name=\"MODE\">GET</field><field name=\"WHERE\">FROM_START</field><value name=\"VALUE\"><block type=\"variables_get\" id=\"Ix.0Sy(FQ_=FtQZ`E7YO\"><field name=\"VAR\" id=\"_ut$e0PL4OMi4o1MXTpw\">splits</field></block></value><value name=\"AT\"><block type=\"math_number\" id=\"R!St?-]QDZB.6:gA5w9[\"><field name=\"NUM\">3</field></block></value></block></value></block></value></block></value><next><block type=\"variables_set\" id=\"}aopG5Di|aBV}PCsFRt|\"><field name=\"VAR\" id=\"5lkT$zi8W,`TXDny?Cv7\">predictions</field><value name=\"VALUE\"><block type=\"varDoMethod\" id=\"{!ML%F.iI.(gk.yKaKAo\"><mutation items=\"1\"></mutation><field name=\"VAR\" id=\"`P)`+jl|;h{.[r}{78q6\">std_clf</field><field name=\"MEMBER\">predict</field><data>std_clf:predict</data><value name=\"ADD0\"><block type=\"lists_getIndex\" id=\"NnMds!lCkgRZMy3GES4A\"><mutation statement=\"false\" at=\"true\"></mutation><field name=\"MODE\">GET</field><field name=\"WHERE\">FROM_START</field><value name=\"VALUE\"><block type=\"variables_get\" id=\"u{3q7m[%l/#e^qWs(A+$\"><field name=\"VAR\" id=\"_ut$e0PL4OMi4o1MXTpw\">splits</field></block></value><value name=\"AT\"><block type=\"math_number\" id=\"J=#ZnMxhAvm4we#*n[1u\"><field name=\"NUM\">2</field></block></value></block></value></block></value><next><block type=\"variables_set\" id=\"]Ea4cP;)eg*?FYSg,Hut\"><field name=\"VAR\" id=\"RN+myW;vx){}Q0LuFA9y\">rmse</field><value name=\"VALUE\"><block type=\"math_single\" id=\"Zj7qwunxC88s#@FHZp;o\"><field name=\"OP\">ROOT</field><value name=\"NUM\"><block type=\"varDoMethod\" id=\"7qLvGJ/o$}+](kkcy*!s\"><mutation items=\"2\"></mutation><field name=\"VAR\" id=\")}+w@N9iB/j=:+PLkMv8\">metrics</field><field name=\"MEMBER\">mean_squared_error</field><data>metrics:mean_squared_error</data><value name=\"ADD0\"><block type=\"lists_getIndex\" id=\"~=g?~X5=@%yq(ykF,@vT\"><mutation statement=\"false\" at=\"true\"></mutation><field name=\"MODE\">GET</field><field name=\"WHERE\">FROM_START</field><value name=\"VALUE\"><block type=\"variables_get\" id=\"p^5+}-qjm4#-sUjITW:U\"><field name=\"VAR\" id=\"_ut$e0PL4OMi4o1MXTpw\">splits</field></block></value><value name=\"AT\"><block type=\"math_number\" id=\"p+QpL(p9Fvb81#)=M#AO\"><field name=\"NUM\">4</field></block></value></block></value><value name=\"ADD1\"><block type=\"variables_get\" id=\"JlQHE,X|BqgbRt62iHR}\"><field name=\"VAR\" id=\"5lkT$zi8W,`TXDny?Cv7\">predictions</field></block></value></block></value></block></value><next><block type=\"text_print\" id=\"vG7/v1s~ddKS,]{?){9j\"><value name=\"TEXT\"><shadow type=\"text\" id=\"m]M`(:U/i~j@n/SHk!aE\"><field name=\"TEXT\">abc</field></shadow><block type=\"text_join\" id=\";i@2WV=j)URh;Nq30iJE\"><mutation items=\"3\"></mutation><value name=\"ADD0\"><block type=\"variables_get\" id=\"79Ugt/dg#lCaHOD+ufw=\"><field name=\"VAR\" id=\"nr%W_%EA(*n$_f,PuH#c\">j</field></block></value><value name=\"ADD1\"><block type=\"text\" id=\"2fUR/Sw-q*p=QW,%x7!;\"><field name=\"TEXT\">:</field></block></value><value name=\"ADD2\"><block type=\"variables_get\" id=\"Hz-2Ry[Go)mlv?{#UdM6\"><field name=\"VAR\" id=\"RN+myW;vx){}Q0LuFA9y\">rmse</field></block></value></block></value></block></next></block></next></block></next></block></next></block></statement></block></xml>",
    "user_code_from_blocks": "\nimport math\n\n\nfor j in [1, 10, 25, 50, 100, 250]:\n  std_clf = pipe.make_pipeline(pp.StandardScaler(),neighbors.KNeighborsRegressor(n_neighbors = j))\n  (std_clf.fit(splits[0],np.ravel(splits[2])))\n  predictions = std_clf.predict(splits[1])\n  rmse = math.sqrt(metrics.mean_squared_error(splits[3],predictions))\n  print(''.join([str(x) for x in [j, ':', rmse]]))\n"
   },
   "outputs": [],
   "source": []
  },
  {
   "cell_type": "markdown",
   "metadata": {},
   "source": [
    "**QUESTION:**\n",
    "\n",
    "What was your optimal K?"
   ]
  },
  {
   "cell_type": "markdown",
   "metadata": {},
   "source": [
    "**ANSWER: (click here to edit)**\n",
    "\n\n<hr>"
   ]
  },
  {
   "cell_type": "markdown",
   "metadata": {},
   "source": [
    "## Plot the predictions for different values of K"
   ]
  },
  {
   "cell_type": "markdown",
   "metadata": {},
   "source": [
    "**This is very challenging and you might not finish!**\n",
    "\n",
    "First import plotly.graph_objects and create an empty figure."
   ]
  },
  {
   "cell_type": "code",
   "execution_count": 28,
   "metadata": {
    "user_blocks": [
     "importAs",
     "variables_set",
     "varCreateObject"
    ],
    "user_blocks_xml": "<xml xmlns=\"https://developers.google.com/blockly/xml\"><variables><variable id=\"`iml3^SQ8#}M{aSRdsjz\">go</variable><variable id=\"@U5l^JIp,}.H=ECCW?@g\">fig</variable></variables><block type=\"importAs\" id=\"GUc5k[3F^kaH{ibSnb$o\" x=\"46\" y=\"107\"><field name=\"libraryName\">plotly.graph_objects</field><field name=\"VAR\" id=\"`iml3^SQ8#}M{aSRdsjz\">go</field><next><block type=\"variables_set\" id=\"YRwvIfDCNvs=}BMmqLL~\"><field name=\"VAR\" id=\"@U5l^JIp,}.H=ECCW?@g\">fig</field><value name=\"VALUE\"><block type=\"varCreateObject\" id=\"(Mgw,PH[[Pi;j6VEvjza\"><mutation items=\"1\"></mutation><field name=\"VAR\" id=\"`iml3^SQ8#}M{aSRdsjz\">go</field><field name=\"MEMBER\">Figure</field><data>go:Figure</data></block></value></block></next></block></xml>",
    "user_code_from_blocks": "import plotly.graph_objects as go\nfig = go.Figure()\n"
   },
   "outputs": [],
   "source": []
  },
  {
   "cell_type": "markdown",
   "metadata": {},
   "source": [
    "Copy your loop above pasted it below.\n",
    "\n",
    "Then copy your plot blocks where you plotted the data and predictions from the last session and put it inside the loop (adding below the last statement in the loop each time).\n",
    "\n",
    "For your `x=` variable, use `acceleration`.\n",
    "\n",
    "Then add one last block at the bottom of the loop:\n",
    "\n",
    "- Empty freestyle followed by `with fig do show using` (change `fig` to whatever you named your figure variable)\n",
    "\n",
    "This will produce a plot for each of your different levels of K.\n",
    "\n",
    "**Be careful with copy/paste errors. See hints for copying blocks between notebooks on #help.**"
   ]
  },
  {
   "cell_type": "code",
   "execution_count": 30,
   "metadata": {
    "user_blocks": [
     "controls_forEach",
     "lists_create_with",
     "math_number",
     "math_number",
     "math_number",
     "math_number",
     "math_number",
     "math_number",
     "variables_set",
     "varDoMethod",
     "varCreateObject",
     "varCreateObject",
     "dummyOutputCodeBlock",
     "valueNoOutputCodeBlock",
     "varDoMethod",
     "lists_getIndex",
     "variables_get",
     "math_number",
     "varDoMethod",
     "lists_getIndex",
     "variables_get",
     "math_number",
     "variables_set",
     "varDoMethod",
     "lists_getIndex",
     "variables_get",
     "math_number",
     "variables_set",
     "math_single",
     "varDoMethod",
     "lists_getIndex",
     "variables_get",
     "math_number",
     "variables_get",
     "variables_set",
     "lists_getIndex",
     "variables_get",
     "math_number",
     "variables_set",
     "indexer",
     "lists_create_with",
     "text",
     "variables_set",
     "varCreateObject",
     "valueNoOutputCodeBlock",
     "varDoMethod",
     "valueOutputCodeBlock",
     "varDoMethod",
     "variables_get",
     "valueOutputCodeBlock",
     "varDoMethod",
     "lists_getIndex",
     "variables_get",
     "math_number",
     "dummyOutputCodeBlock",
     "dummyOutputCodeBlock",
     "dummyOutputCodeBlock",
     "valueNoOutputCodeBlock",
     "varDoMethod",
     "valueOutputCodeBlock",
     "varDoMethod",
     "variables_get",
     "valueOutputCodeBlock",
     "varDoMethod",
     "variables_get",
     "dummyOutputCodeBlock",
     "dummyOutputCodeBlock",
     "dummyOutputCodeBlock",
     "valueNoOutputCodeBlock",
     "varDoMethod"
    ],
    "user_blocks_xml": "<xml xmlns=\"https://developers.google.com/blockly/xml\"><variables><variable id=\"nr%W_%EA(*n$_f,PuH#c\">j</variable><variable id=\"`P)`+jl|;h{.[r}{78q6\">std_clf</variable><variable id=\"=z9KfSBWpoDS,oj-?yx,\">pipe</variable><variable id=\".T`xqZHAu7r0$MQ4s=Yg\">pp</variable><variable id=\"MvUG^P$o3=I*6/67?Rk:\">neighbors</variable><variable id=\"5lkT$zi8W,`TXDny?Cv7\">predictions</variable><variable id=\"Zhzp)s*VL?V@ES3(j:*b\">np</variable><variable id=\"RN+myW;vx){}Q0LuFA9y\">rmse</variable><variable id=\"_ut$e0PL4OMi4o1MXTpw\">splits</variable><variable id=\"fe.98]:,bU@x*=}zaJ1/\">Xtest</variable><variable id=\")}+w@N9iB/j=:+PLkMv8\">metrics</variable><variable id=\"rVUZld`HfW,n/PC{X!9-\">lstat</variable><variable id=\"@U5l^JIp,}.H=ECCW?@g\">fig</variable><variable id=\"`iml3^SQ8#}M{aSRdsjz\">go</variable></variables><block type=\"controls_forEach\" id=\"MbWYZ/u3Q#+3*u`TM}ce\" x=\"46\" y=\"100\"><field name=\"VAR\" id=\"nr%W_%EA(*n$_f,PuH#c\">j</field><value name=\"LIST\"><block type=\"lists_create_with\" id=\"Q6_EXa41T:y(.uy[pm.V\"><mutation items=\"6\"></mutation><value name=\"ADD0\"><block type=\"math_number\" id=\"+BJ@yT0IgJORgO^/))c~\"><field name=\"NUM\">1</field></block></value><value name=\"ADD1\"><block type=\"math_number\" id=\".~r[qy7$p-Jy_g:ACHYr\"><field name=\"NUM\">10</field></block></value><value name=\"ADD2\"><block type=\"math_number\" id=\"w!m`o}C;PB7OhYP5ZTq~\"><field name=\"NUM\">25</field></block></value><value name=\"ADD3\"><block type=\"math_number\" id=\"?!EK)M.j{u~@|;ytL|nd\"><field name=\"NUM\">50</field></block></value><value name=\"ADD4\"><block type=\"math_number\" id=\"cLtaU]#w-;S(sUq8pw/l\"><field name=\"NUM\">100</field></block></value><value name=\"ADD5\"><block type=\"math_number\" id=\"910qY[[4~4nziBPT;K+G\"><field name=\"NUM\">250</field></block></value></block></value><statement name=\"DO\"><block type=\"variables_set\" id=\"8APEX{xGs3Qz/$NzTFrY\"><field name=\"VAR\" id=\"`P)`+jl|;h{.[r}{78q6\">std_clf</field><value name=\"VALUE\"><block type=\"varDoMethod\" id=\"W=ep`rJjDXvsAV^R+NIG\"><mutation items=\"2\"></mutation><field name=\"VAR\" id=\"=z9KfSBWpoDS,oj-?yx,\">pipe</field><field name=\"MEMBER\">make_pipeline</field><data>pipe:make_pipeline</data><value name=\"ADD0\"><block type=\"varCreateObject\" id=\"ME+Z@t~BnN}LL22r%Hxt\"><mutation items=\"1\"></mutation><field name=\"VAR\" id=\".T`xqZHAu7r0$MQ4s=Yg\">pp</field><field name=\"MEMBER\">StandardScaler</field><data>pp:StandardScaler</data></block></value><value name=\"ADD1\"><block type=\"varCreateObject\" id=\"p=kmgsx6gSLD(RSPi]We\"><mutation items=\"1\"></mutation><field name=\"VAR\" id=\"MvUG^P$o3=I*6/67?Rk:\">neighbors</field><field name=\"MEMBER\">KNeighborsRegressor</field><data>neighbors:KNeighborsRegressor</data><value name=\"ADD0\"><block type=\"dummyOutputCodeBlock\" id=\"4*MO9`pDvGbjv^%|]#Jm\"><field name=\"CODE\">n_neighbors = j</field></block></value></block></value></block></value><next><block type=\"valueNoOutputCodeBlock\" id=\"b2$eeB}vA+APG9EY4RvG\"><field name=\"CODE\"></field><value name=\"INPUT\"><block type=\"varDoMethod\" id=\"!a#R5q~=+4G.fWQ-a:Ai\"><mutation items=\"2\"></mutation><field name=\"VAR\" id=\"`P)`+jl|;h{.[r}{78q6\">std_clf</field><field name=\"MEMBER\">fit</field><data>std_clf:fit</data><value name=\"ADD0\"><block type=\"lists_getIndex\" id=\"Bg)U?tUT/i!BuqI+~78i\"><mutation statement=\"false\" at=\"true\"></mutation><field name=\"MODE\">GET</field><field name=\"WHERE\">FROM_START</field><value name=\"VALUE\"><block type=\"variables_get\" id=\"J0_:T[7!I[/pre=^gqIw\"><field name=\"VAR\" id=\"_ut$e0PL4OMi4o1MXTpw\">splits</field></block></value><value name=\"AT\"><block type=\"math_number\" id=\"Jt|3]Id8E7gD7O}{bmrW\"><field name=\"NUM\">1</field></block></value></block></value><value name=\"ADD1\"><block type=\"varDoMethod\" id=\"7!WF{br/dCPJd;YQ:(Ik\"><mutation items=\"1\"></mutation><field name=\"VAR\" id=\"Zhzp)s*VL?V@ES3(j:*b\">np</field><field name=\"MEMBER\">ravel</field><data>np:ravel</data><value name=\"ADD0\"><block type=\"lists_getIndex\" id=\"p9_vm4JY1L*#.U$2H~(3\"><mutation statement=\"false\" at=\"true\"></mutation><field name=\"MODE\">GET</field><field name=\"WHERE\">FROM_START</field><value name=\"VALUE\"><block type=\"variables_get\" id=\"Ix.0Sy(FQ_=FtQZ`E7YO\"><field name=\"VAR\" id=\"_ut$e0PL4OMi4o1MXTpw\">splits</field></block></value><value name=\"AT\"><block type=\"math_number\" id=\"R!St?-]QDZB.6:gA5w9[\"><field name=\"NUM\">3</field></block></value></block></value></block></value></block></value><next><block type=\"variables_set\" id=\"}aopG5Di|aBV}PCsFRt|\"><field name=\"VAR\" id=\"5lkT$zi8W,`TXDny?Cv7\">predictions</field><value name=\"VALUE\"><block type=\"varDoMethod\" id=\"{!ML%F.iI.(gk.yKaKAo\"><mutation items=\"1\"></mutation><field name=\"VAR\" id=\"`P)`+jl|;h{.[r}{78q6\">std_clf</field><field name=\"MEMBER\">predict</field><data>std_clf:predict</data><value name=\"ADD0\"><block type=\"lists_getIndex\" id=\"NnMds!lCkgRZMy3GES4A\"><mutation statement=\"false\" at=\"true\"></mutation><field name=\"MODE\">GET</field><field name=\"WHERE\">FROM_START</field><value name=\"VALUE\"><block type=\"variables_get\" id=\"u{3q7m[%l/#e^qWs(A+$\"><field name=\"VAR\" id=\"_ut$e0PL4OMi4o1MXTpw\">splits</field></block></value><value name=\"AT\"><block type=\"math_number\" id=\"J=#ZnMxhAvm4we#*n[1u\"><field name=\"NUM\">2</field></block></value></block></value></block></value><next><block type=\"variables_set\" id=\"]Ea4cP;)eg*?FYSg,Hut\"><field name=\"VAR\" id=\"RN+myW;vx){}Q0LuFA9y\">rmse</field><value name=\"VALUE\"><block type=\"math_single\" id=\"Zj7qwunxC88s#@FHZp;o\"><field name=\"OP\">ROOT</field><value name=\"NUM\"><block type=\"varDoMethod\" id=\"7qLvGJ/o$}+](kkcy*!s\"><mutation items=\"2\"></mutation><field name=\"VAR\" id=\")}+w@N9iB/j=:+PLkMv8\">metrics</field><field name=\"MEMBER\">mean_squared_error</field><data>metrics:mean_squared_error</data><value name=\"ADD0\"><block type=\"lists_getIndex\" id=\"~=g?~X5=@%yq(ykF,@vT\"><mutation statement=\"false\" at=\"true\"></mutation><field name=\"MODE\">GET</field><field name=\"WHERE\">FROM_START</field><value name=\"VALUE\"><block type=\"variables_get\" id=\"p^5+}-qjm4#-sUjITW:U\"><field name=\"VAR\" id=\"_ut$e0PL4OMi4o1MXTpw\">splits</field></block></value><value name=\"AT\"><block type=\"math_number\" id=\"p+QpL(p9Fvb81#)=M#AO\"><field name=\"NUM\">4</field></block></value></block></value><value name=\"ADD1\"><block type=\"variables_get\" id=\"JlQHE,X|BqgbRt62iHR}\"><field name=\"VAR\" id=\"5lkT$zi8W,`TXDny?Cv7\">predictions</field></block></value></block></value></block></value><next><block type=\"variables_set\" id=\"}GTn}Q9,G*xaf0J#m.P+\"><field name=\"VAR\" id=\"fe.98]:,bU@x*=}zaJ1/\">Xtest</field><value name=\"VALUE\"><block type=\"lists_getIndex\" id=\"LpEy)}~^*_Nv6R+9Tw8o\"><mutation statement=\"false\" at=\"true\"></mutation><field name=\"MODE\">GET</field><field name=\"WHERE\">FROM_START</field><value name=\"VALUE\"><block type=\"variables_get\" id=\"Z.7:EF^#6m)oIBBRX5y0\"><field name=\"VAR\" id=\"_ut$e0PL4OMi4o1MXTpw\">splits</field></block></value><value name=\"AT\"><block type=\"math_number\" id=\"yFr,LJ/1)CB$arw;EcAf\"><field name=\"NUM\">2</field></block></value></block></value><next><block type=\"variables_set\" id=\"E(-/u.}}rE]{N_3{Vu?d\"><field name=\"VAR\" id=\"rVUZld`HfW,n/PC{X!9-\">lstat</field><value name=\"VALUE\"><block type=\"indexer\" id=\"ag#-9SqC~GB(TlKfkbZ`\"><field name=\"VAR\" id=\"fe.98]:,bU@x*=}zaJ1/\">Xtest</field><value name=\"INDEX\"><block type=\"lists_create_with\" id=\"n4,FKV=^albEXXw!YbkU\"><mutation items=\"1\"></mutation><value name=\"ADD0\"><block type=\"text\" id=\"`A-j$xY[rlgo%5Beee:@\"><field name=\"TEXT\">acceleration</field></block></value></block></value></block></value><next><block type=\"variables_set\" id=\"8m1y-]+)piOjziJ$8mJU\"><field name=\"VAR\" id=\"@U5l^JIp,}.H=ECCW?@g\">fig</field><value name=\"VALUE\"><block type=\"varCreateObject\" id=\"@B1nGYL3XWr!5d)uKndx\"><mutation items=\"1\"></mutation><field name=\"VAR\" id=\"`iml3^SQ8#}M{aSRdsjz\">go</field><field name=\"MEMBER\">Figure</field><data>go:Figure</data></block></value><next><block type=\"valueNoOutputCodeBlock\" id=\"cJ[;o12D|PbQ1taRm$$(\"><field name=\"CODE\"></field><value name=\"INPUT\"><block type=\"varDoMethod\" id=\"=I}N1hrc%ohlFaQ{Bg9[\"><mutation items=\"5\"></mutation><field name=\"VAR\" id=\"@U5l^JIp,}.H=ECCW?@g\">fig</field><field name=\"MEMBER\">add_scatter</field><data>fig:add_scatter</data><value name=\"ADD0\"><block type=\"valueOutputCodeBlock\" id=\"GzOu,jb7j1y7Gi+Ww,nz\"><field name=\"CODE\">x=</field><value name=\"INPUT\"><block type=\"varDoMethod\" id=\"RZq;ySQ.#PpKy`F@%B,v\"><mutation items=\"1\"></mutation><field name=\"VAR\" id=\"Zhzp)s*VL?V@ES3(j:*b\">np</field><field name=\"MEMBER\">ravel</field><data>np:ravel</data><value name=\"ADD0\"><block type=\"variables_get\" id=\"o.V]E6C-PTjwZpsDw+9R\"><field name=\"VAR\" id=\"rVUZld`HfW,n/PC{X!9-\">lstat</field></block></value></block></value></block></value><value name=\"ADD1\"><block type=\"valueOutputCodeBlock\" id=\"38X2;2m|S$D#Nyk/{)tA\"><field name=\"CODE\">y=</field><value name=\"INPUT\"><block type=\"varDoMethod\" id=\"%$sb,zqtcn}no4-26/.p\"><mutation items=\"1\"></mutation><field name=\"VAR\" id=\"Zhzp)s*VL?V@ES3(j:*b\">np</field><field name=\"MEMBER\">ravel</field><data>np:ravel</data><value name=\"ADD0\"><block type=\"lists_getIndex\" id=\"b|YGLq}0yyc#cybsaGUq\"><mutation statement=\"false\" at=\"true\"></mutation><field name=\"MODE\">GET</field><field name=\"WHERE\">FROM_START</field><value name=\"VALUE\"><block type=\"variables_get\" id=\"YB@u00`!A11SK#[yHNFl\"><field name=\"VAR\" id=\"_ut$e0PL4OMi4o1MXTpw\">splits</field></block></value><value name=\"AT\"><block type=\"math_number\" id=\"+~)jaNq?!fkjQN`c/Fjo\"><field name=\"NUM\">4</field></block></value></block></value></block></value></block></value><value name=\"ADD2\"><block type=\"dummyOutputCodeBlock\" id=\"5=f=,lWa)JjUqtFZ{_BX\"><field name=\"CODE\">mode=\"markers\"</field></block></value><value name=\"ADD3\"><block type=\"dummyOutputCodeBlock\" id=\"GJn+onXp(BOtQ$GNMl/1\"><field name=\"CODE\">name=\"observed\" </field></block></value><value name=\"ADD4\"><block type=\"dummyOutputCodeBlock\" id=\"2m%fYG4,!=378N%BV%6z\"><field name=\"CODE\">line=dict(color='royalblue')</field></block></value></block></value><next><block type=\"valueNoOutputCodeBlock\" id=\"zhUYu.4^VDw,@~4{/%!1\"><field name=\"CODE\"></field><value name=\"INPUT\"><block type=\"varDoMethod\" id=\"Vr`hq?JU`Y7P0v57?OYZ\"><mutation items=\"5\"></mutation><field name=\"VAR\" id=\"@U5l^JIp,}.H=ECCW?@g\">fig</field><field name=\"MEMBER\">add_scatter</field><data>fig:add_scatter</data><value name=\"ADD0\"><block type=\"valueOutputCodeBlock\" id=\"8K-ZX`@=yNiNsNFQfOn*\"><field name=\"CODE\">x=</field><value name=\"INPUT\"><block type=\"varDoMethod\" id=\",CMi4bm1hLU_=(96R~RI\"><mutation items=\"1\"></mutation><field name=\"VAR\" id=\"Zhzp)s*VL?V@ES3(j:*b\">np</field><field name=\"MEMBER\">ravel</field><data>np:ravel</data><value name=\"ADD0\"><block type=\"variables_get\" id=\"$^M/]P5Fw#gOIkkUNM#P\"><field name=\"VAR\" id=\"rVUZld`HfW,n/PC{X!9-\">lstat</field></block></value></block></value></block></value><value name=\"ADD1\"><block type=\"valueOutputCodeBlock\" id=\"iK0B/(F)%.T;(t3bz8:[\"><field name=\"CODE\">y=</field><value name=\"INPUT\"><block type=\"varDoMethod\" id=\"qtq?EjkX0P1X1jXXTb,n\"><mutation items=\"1\"></mutation><field name=\"VAR\" id=\"Zhzp)s*VL?V@ES3(j:*b\">np</field><field name=\"MEMBER\">ravel</field><data>np:ravel</data><value name=\"ADD0\"><block type=\"variables_get\" id=\"5Z:%1U+MUOXv14yZB+h?\"><field name=\"VAR\" id=\"5lkT$zi8W,`TXDny?Cv7\">predictions</field></block></value></block></value></block></value><value name=\"ADD2\"><block type=\"dummyOutputCodeBlock\" id=\"-3Mp(X`N=6s~l[Osko|s\"><field name=\"CODE\">mode=\"markers\"</field></block></value><value name=\"ADD3\"><block type=\"dummyOutputCodeBlock\" id=\"Wx`Pma.$`Hi~v=Qmj3AF\"><field name=\"CODE\">name=\"predicted\" </field></block></value><value name=\"ADD4\"><block type=\"dummyOutputCodeBlock\" id=\"-7l}r-x$czChXC9xrdnT\"><field name=\"CODE\">line=dict(color='orange')</field></block></value></block></value><next><block type=\"valueNoOutputCodeBlock\" id=\"!U}8]:1sKNtLT|1CSkS`\"><field name=\"CODE\"></field><value name=\"INPUT\"><block type=\"varDoMethod\" id=\"o+#9DaOam![G}o3Th.?W\"><mutation items=\"1\"></mutation><field name=\"VAR\" id=\"@U5l^JIp,}.H=ECCW?@g\">fig</field><field name=\"MEMBER\">show</field><data>fig:show</data></block></value></block></next></block></next></block></next></block></next></block></next></block></next></block></next></block></next></block></next></block></statement></block></xml>",
    "user_code_from_blocks": "\nimport math\n\n\nfor j in [1, 10, 25, 50, 100, 250]:\n  std_clf = pipe.make_pipeline(pp.StandardScaler(),neighbors.KNeighborsRegressor(n_neighbors = j))\n  (std_clf.fit(splits[0],np.ravel(splits[2])))\n  predictions = std_clf.predict(splits[1])\n  rmse = math.sqrt(metrics.mean_squared_error(splits[3],predictions))\n  Xtest = splits[1]\n  lstat = Xtest[['acceleration']]\n  fig = go.Figure()\n  (fig.add_scatter(x= (np.ravel(lstat)),y= (np.ravel(splits[3])),mode=\"markers\",name=\"observed\",line=dict(color='royalblue')))\n  (fig.add_scatter(x= (np.ravel(lstat)),y= (np.ravel(predictions)),mode=\"markers\",name=\"predicted\",line=dict(color='orange')))\n  (fig.show())\n"
   },
   "outputs": [],
   "source": []
  },
  {
   "cell_type": "markdown",
   "metadata": {},
   "source": [
    "<!--  -->"
   ]
  }
 ],
 "metadata": {
  "kernelspec": {
   "display_name": "Python 3 (ipykernel)",
   "language": "python",
   "name": "python3"
  },
  "language_info": {
   "codemirror_mode": {
    "name": "ipython",
    "version": 3
   },
   "file_extension": ".py",
   "mimetype": "text/x-python",
   "name": "python",
   "nbconvert_exporter": "python",
   "pygments_lexer": "ipython3",
   "version": "3.12.6"
  }
 },
 "nbformat": 4,
 "nbformat_minor": 4
}
