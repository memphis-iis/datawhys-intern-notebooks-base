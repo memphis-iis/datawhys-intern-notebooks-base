{
 "cells": [
  {
   "cell_type": "markdown",
   "metadata": {
    "deletable": false,
    "editable": false
   },
   "source": [
    "Copyright 2020 Andrew M. Olney and made available under [CC BY-SA](https://creativecommons.org/licenses/by-sa/4.0) for text and [Apache-2.0](http://www.apache.org/licenses/LICENSE-2.0) for code.\n"
   ]
  },
  {
   "cell_type": "markdown",
   "metadata": {},
   "source": [
    "# Random forests: Problem solving\n",
    "\n",
    "In this session, we'll use the `boston` dataset, which has been used to examine the relationship between assorted variables and house prices:\n",
    "\n",
    "\n",
    "| Variable | Type | Description |\n",
    "|:----|:-----|:----------|\n",
    "|crim | Ratio | per capita crime rate by town | \n",
    "|zn | Ratio | proportion of residential land zoned for lots over 25,000 sq. ft. | \n",
    "|indus | Ratio | proportion of non-retain business acres per town | \n",
    "|chas | Nominal (binary) | Charles River dummy variable (=1 if tract bounds river, =0 otherwise) | \n",
    "|nox | Ratio | nitrogen oxides concentration (parts per 10 million) | \n",
    "|rm | Ratio | average number of rooms per dwelling | \n",
    "|age | Ratio | proportion of owner-occupied units built prior to 1940 | \n",
    "|dis | Ratio | weighted mean of distances to fie Boston employment centers | \n",
    "|rad | Ordinal | index of accessibility to radial highways | \n",
    "|tax | Ratio | full-value proporty tax rate per \\$10,000 | \n",
    "|ptratio | Ratio | pupil-teacher ratio by town | \n",
    "|lstat | Ratio | percent lower status of population (defined as non-high school graduate, manual labor) | \n",
    "|medv | Ratio | median value of owner-occupied homes in $1000s | \n",
    "\n",
    "<div style=\"text-align:center;font-size: smaller\">\n",
    "    <b>Source:</b> This dataset was taken from the StatLib library which is maintained at Carnegie Mellon University.\n",
    "</div>\n",
    "<br>\n",
    "    \n",
    "As before, we'll try to predict `medv` using the rest of the variables.\n",
    "\n",
    "**Because `medv` is a ratio variable, we will do random forest regression trees not decision trees.**\n",
    "\n",
    "Additionally, we will compare the performance of three models on this problem:\n",
    "\n",
    "- Regression trees\n",
    "- Bagged regression trees\n",
    "- Random forest regression trees"
   ]
  },
  {
   "cell_type": "markdown",
   "metadata": {},
   "source": [
    "## Load data\n",
    "\n",
    "Import `pandas` to load a dataframe."
   ]
  },
  {
   "cell_type": "code",
   "execution_count": 2,
   "metadata": {
    "user_blocks": [
     "importAs"
    ],
    "user_blocks_xml": "<xml xmlns=\"https://developers.google.com/blockly/xml\"><variables><variable id=\"A]5Vf/x,=8dk=KKk3OrJ\">pd</variable></variables><block type=\"importAs\" id=\"/k@:}OLWtAh)hpx[.2^]\" x=\"150\" y=\"308\"><field name=\"libraryName\">pandas</field><field name=\"VAR\" id=\"A]5Vf/x,=8dk=KKk3OrJ\">pd</field></block></xml>",
    "user_code_from_blocks": "import pandas as pd\n"
   },
   "outputs": [],
   "source": []
  },
  {
   "cell_type": "markdown",
   "metadata": {},
   "source": [
    "Load the dataframe."
   ]
  },
  {
   "cell_type": "code",
   "execution_count": 4,
   "metadata": {
    "user_blocks": [
     "variables_set",
     "varDoMethod",
     "text",
     "variables_get"
    ],
    "user_blocks_xml": "<xml xmlns=\"https://developers.google.com/blockly/xml\"><variables><variable id=\"Y+grzOaS*0=OHV6zO8m/\">dataframe</variable><variable id=\"A]5Vf/x,=8dk=KKk3OrJ\">pd</variable></variables><block type=\"variables_set\" id=\"FJGldw(qFp?V=E]uaN)4\" x=\"42\" y=\"64\"><field name=\"VAR\" id=\"Y+grzOaS*0=OHV6zO8m/\">dataframe</field><value name=\"VALUE\"><block type=\"varDoMethod\" id=\"4s18v%0iqE%_l@{fLYCo\"><mutation items=\"1\"></mutation><field name=\"VAR\" id=\"A]5Vf/x,=8dk=KKk3OrJ\">pd</field><field name=\"MEMBER\">read_csv</field><data>pd:read_csv</data><value name=\"ADD0\"><block type=\"text\" id=\"tN4Jmaffy/={ZFo;uu;W\"><field name=\"TEXT\">datasets/boston.csv</field></block></value></block></value></block><block type=\"variables_get\" id=\"kd_[EnCEx6O}:gck{;r5\" x=\"46\" y=\"162\"><field name=\"VAR\" id=\"Y+grzOaS*0=OHV6zO8m/\">dataframe</field></block></xml>",
    "user_code_from_blocks": "dataframe = pd.read_csv('datasets/boston.csv')\n\ndataframe\n"
   },
   "outputs": [],
   "source": []
  },
  {
   "cell_type": "markdown",
   "metadata": {},
   "source": [
    "## Explore data\n",
    "\n",
    "Some of these steps we've done before with these data, so we'll skip the normal interpretation steps on those parts.\n",
    "\n",
    "Describe the data."
   ]
  },
  {
   "cell_type": "code",
   "execution_count": 6,
   "metadata": {
    "user_blocks": [
     "varDoMethod"
    ],
    "user_blocks_xml": "<xml xmlns=\"https://developers.google.com/blockly/xml\"><variables><variable id=\"Y+grzOaS*0=OHV6zO8m/\">dataframe</variable></variables><block type=\"varDoMethod\" id=\"-[lX-}4sT`|#7E(Sti)^\" x=\"8\" y=\"188\"><mutation items=\"1\"></mutation><field name=\"VAR\" id=\"Y+grzOaS*0=OHV6zO8m/\">dataframe</field><field name=\"MEMBER\">describe</field><data>dataframe:describe</data></block></xml>",
    "user_code_from_blocks": "dataframe.describe()\n"
   },
   "outputs": [],
   "source": []
  },
  {
   "cell_type": "markdown",
   "metadata": {},
   "source": [
    "Make a correlation heatmap.\n",
    "\n",
    "First import `plotly.express`."
   ]
  },
  {
   "cell_type": "code",
   "execution_count": 8,
   "metadata": {
    "user_blocks": [
     "importAs"
    ],
    "user_blocks_xml": "<xml xmlns=\"https://developers.google.com/blockly/xml\"><variables><variable id=\"+yh,Zg{hON]zy6D~.rH#\">px</variable></variables><block type=\"importAs\" id=\"JKd}DIrGfV*IelKZ!4ls\" x=\"129\" y=\"219\"><field name=\"libraryName\">plotly.express</field><field name=\"VAR\" id=\"+yh,Zg{hON]zy6D~.rH#\">px</field></block></xml>",
    "user_code_from_blocks": "import plotly.express as px\n"
   },
   "outputs": [],
   "source": []
  },
  {
   "cell_type": "markdown",
   "metadata": {},
   "source": [
    "Create a correlation matrix."
   ]
  },
  {
   "cell_type": "code",
   "execution_count": 10,
   "metadata": {
    "user_blocks": [
     "variables_set",
     "varDoMethod"
    ],
    "user_blocks_xml": "<xml xmlns=\"https://developers.google.com/blockly/xml\"><variables><variable id=\"Km/Jt%8YE.[}?9^E?9N;\">corr</variable><variable id=\"Y+grzOaS*0=OHV6zO8m/\">dataframe</variable></variables><block type=\"variables_set\" id=\"/i824a)~PM!?y(vR5o.7\" x=\"88\" y=\"75\"><field name=\"VAR\" id=\"Km/Jt%8YE.[}?9^E?9N;\">corr</field><value name=\"VALUE\"><block type=\"varDoMethod\" id=\"W{%v1dBEDnD_:orevoPY\"><mutation items=\"1\"></mutation><field name=\"VAR\" id=\"Y+grzOaS*0=OHV6zO8m/\">dataframe</field><field name=\"MEMBER\">corr</field><data>dataframe:corr</data></block></value></block></xml>",
    "user_code_from_blocks": "corr = dataframe.corr()\n"
   },
   "outputs": [],
   "source": []
  },
  {
   "cell_type": "markdown",
   "metadata": {},
   "source": [
    "And show the correlation heatmap with row/column labels."
   ]
  },
  {
   "cell_type": "code",
   "execution_count": 12,
   "metadata": {
    "user_blocks": [
     "varDoMethod",
     "variables_get",
     "valueOutputCodeBlock",
     "varGetProperty",
     "valueOutputCodeBlock",
     "varGetProperty"
    ],
    "user_blocks_xml": "<xml xmlns=\"https://developers.google.com/blockly/xml\"><variables><variable id=\"+yh,Zg{hON]zy6D~.rH#\">px</variable><variable id=\"Km/Jt%8YE.[}?9^E?9N;\">corr</variable></variables><block type=\"varDoMethod\" id=\"7PkTI5@+A6#C}J7CTmyF\" x=\"0\" y=\"0\"><mutation items=\"3\"></mutation><field name=\"VAR\" id=\"+yh,Zg{hON]zy6D~.rH#\">px</field><field name=\"MEMBER\">imshow</field><data>px:imshow</data><value name=\"ADD0\"><block type=\"variables_get\" id=\":;^8]9y7jv$I.u56eu+w\"><field name=\"VAR\" id=\"Km/Jt%8YE.[}?9^E?9N;\">corr</field></block></value><value name=\"ADD1\"><block type=\"valueOutputCodeBlock\" id=\"azE.sa4Vaf3Tqnxg+Wj$\"><field name=\"CODE\">x=</field><value name=\"INPUT\"><block type=\"varGetProperty\" id=\",Xr0Xc;@G;@aMs+upu)L\"><field name=\"VAR\" id=\"Km/Jt%8YE.[}?9^E?9N;\">corr</field><field name=\"MEMBER\">columns</field><data>corr:columns</data></block></value></block></value><value name=\"ADD2\"><block type=\"valueOutputCodeBlock\" id=\"OG/hi7jGihv_4MF;pM(i\"><field name=\"CODE\">y=</field><value name=\"INPUT\"><block type=\"varGetProperty\" id=\".$GSSp$+O[)pLmOP[sk@\"><field name=\"VAR\" id=\"Km/Jt%8YE.[}?9^E?9N;\">corr</field><field name=\"MEMBER\">columns</field><data>corr:columns</data></block></value></block></value></block></xml>",
    "user_code_from_blocks": "px.imshow(corr,x= (corr.columns),y= (corr.columns))\n"
   },
   "outputs": [],
   "source": []
  },
  {
   "cell_type": "markdown",
   "metadata": {},
   "source": [
    "Because these variables are highly correlated (an numeric), a scatterplot matrix would make a lot of sense.\n",
    "\n",
    "Use `plotly` to make a `scatter_matrix` of the dataframe.\n",
    "If you have a hard time reading the labels, you can give it something like `width=1000` and `height=1000` to make it bigger."
   ]
  },
  {
   "cell_type": "code",
   "execution_count": 14,
   "metadata": {
    "user_blocks": [
     "varDoMethod",
     "variables_get",
     "dummyOutputCodeBlock",
     "dummyOutputCodeBlock"
    ],
    "user_blocks_xml": "<xml xmlns=\"https://developers.google.com/blockly/xml\"><variables><variable id=\"+yh,Zg{hON]zy6D~.rH#\">px</variable><variable id=\"Y+grzOaS*0=OHV6zO8m/\">dataframe</variable></variables><block type=\"varDoMethod\" id=\"K_Y0K-1=:jF)7/~qEX=/\" x=\"0\" y=\"0\"><mutation items=\"3\"></mutation><field name=\"VAR\" id=\"+yh,Zg{hON]zy6D~.rH#\">px</field><field name=\"MEMBER\">scatter_matrix</field><data>px:scatter_matrix</data><value name=\"ADD0\"><block type=\"variables_get\" id=\"%h3}=^{z3cVOb@/:fg6J\"><field name=\"VAR\" id=\"Y+grzOaS*0=OHV6zO8m/\">dataframe</field></block></value><value name=\"ADD1\"><block type=\"dummyOutputCodeBlock\" id=\"]Npu=MiIi:j@dVoiGHgt\"><field name=\"CODE\">height=1000</field></block></value><value name=\"ADD2\"><block type=\"dummyOutputCodeBlock\" id=\"8n!ZYE^-6}84#rqNVNl/\"><field name=\"CODE\">width=1000</field></block></value></block></xml>",
    "user_code_from_blocks": "px.scatter_matrix(dataframe,height=1000,width=1000)\n"
   },
   "outputs": [],
   "source": []
  },
  {
   "cell_type": "markdown",
   "metadata": {},
   "source": [
    "-----------\n",
    "**QUESTION:**\n",
    "\n",
    "Remembering that a perfect correlation is a line, and no correlation is a uniform random scattering of datapoints, what would you say about the pattern of these scatterplots overall?\n",
    "Of the scatterplots in the last row (i.e. correlated with `medv`) in particular?"
   ]
  },
  {
   "cell_type": "markdown",
   "metadata": {},
   "source": [
    "**ANSWER: (click here to edit)**\n",
    "\n\n<hr>"
   ]
  },
  {
   "cell_type": "markdown",
   "metadata": {},
   "source": [
    "Ultimately we want to predict median house value (`medv`), so make a histogram of that."
   ]
  },
  {
   "cell_type": "code",
   "execution_count": 16,
   "metadata": {
    "user_blocks": [
     "varDoMethod",
     "variables_get",
     "dummyOutputCodeBlock"
    ],
    "user_blocks_xml": "<xml xmlns=\"https://developers.google.com/blockly/xml\"><variables><variable id=\"+yh,Zg{hON]zy6D~.rH#\">px</variable><variable id=\"Y+grzOaS*0=OHV6zO8m/\">dataframe</variable></variables><block type=\"varDoMethod\" id=\"#Tiud2f{UIkXM/h4;AmX\" x=\"0\" y=\"0\"><mutation items=\"2\"></mutation><field name=\"VAR\" id=\"+yh,Zg{hON]zy6D~.rH#\">px</field><field name=\"MEMBER\">histogram</field><data>px:histogram</data><value name=\"ADD0\"><block type=\"variables_get\" id=\")gY)bM`$Mtsdq-Pdit#N\"><field name=\"VAR\" id=\"Y+grzOaS*0=OHV6zO8m/\">dataframe</field></block></value><value name=\"ADD1\"><block type=\"dummyOutputCodeBlock\" id=\"PI-[,1QmMDguHkVLv_Sc\"><field name=\"CODE\">x=\"medv\"</field></block></value></block></xml>",
    "user_code_from_blocks": "px.histogram(dataframe,x=\"medv\")\n"
   },
   "outputs": [],
   "source": []
  },
  {
   "cell_type": "markdown",
   "metadata": {},
   "source": [
    "------------------\n",
    "**QUESTION:**\n",
    "\n",
    "Do you think we need to transform `medv` to make it more normal? Why or why not?"
   ]
  },
  {
   "cell_type": "markdown",
   "metadata": {},
   "source": [
    "**ANSWER: (click here to edit)**\n",
    "\n\n<hr>"
   ]
  },
  {
   "cell_type": "markdown",
   "metadata": {},
   "source": [
    "## Prepare train/test sets\n",
    "\n",
    "If we were just using bagging or random forests, we could use OOB performance instead of splitting the data into training and testing sets.\n",
    "\n",
    "However, splitting is necessary if we want to compare to regression trees.\n",
    "\n",
    "Start by dropping the response variable, `medv` to make a new dataframe called `X`.\n",
    "\n",
    "Save a dataframe with just `medv` in `Y`. "
   ]
  },
  {
   "cell_type": "code",
   "execution_count": 22,
   "metadata": {
    "user_blocks": [
     "variables_set",
     "varDoMethod",
     "dummyOutputCodeBlock",
     "variables_set",
     "indexer",
     "lists_create_with",
     "text"
    ],
    "user_blocks_xml": "<xml xmlns=\"https://developers.google.com/blockly/xml\"><variables><variable id=\"_z/H/tTnOYS1Lla2~;*0\">X</variable><variable id=\"o8#tp%!,_Okj2aVwX(DL\">Y</variable><variable id=\"Y+grzOaS*0=OHV6zO8m/\">dataframe</variable></variables><block type=\"variables_set\" id=\"M9g^9:hbZQ0Cb9jKq9V6\" x=\"64\" y=\"111\"><field name=\"VAR\" id=\"_z/H/tTnOYS1Lla2~;*0\">X</field><value name=\"VALUE\"><block type=\"varDoMethod\" id=\"k7t38%eJz)@=B8{vW^(u\"><mutation items=\"1\"></mutation><field name=\"VAR\" id=\"Y+grzOaS*0=OHV6zO8m/\">dataframe</field><field name=\"MEMBER\">drop</field><data>dataframe:drop</data><value name=\"ADD0\"><block type=\"dummyOutputCodeBlock\" id=\"fk{P(H^@/_!^1+tw-Hi*\"><field name=\"CODE\">columns=[\"medv\"]</field></block></value></block></value></block><block type=\"variables_set\" id=\"AfS6+vO/i%7i^LvFLvFa\" x=\"76\" y=\"214\"><field name=\"VAR\" id=\"o8#tp%!,_Okj2aVwX(DL\">Y</field><value name=\"VALUE\"><block type=\"indexer\" id=\"TL#b!#{[zvX*;C.Hv/0I\"><field name=\"VAR\" id=\"Y+grzOaS*0=OHV6zO8m/\">dataframe</field><value name=\"INDEX\"><block type=\"lists_create_with\" id=\"x3z0}lY0DE*JB:y/OH|M\"><mutation items=\"1\"></mutation><value name=\"ADD0\"><block type=\"text\" id=\"O2`:Q-pVIpQx2m6U6ly]\"><field name=\"TEXT\">medv</field></block></value></block></value></block></value></block></xml>",
    "user_code_from_blocks": "X = dataframe.drop(columns=[\"medv\"])\n\nY = dataframe[['medv']]\n"
   },
   "outputs": [],
   "source": []
  },
  {
   "cell_type": "markdown",
   "metadata": {},
   "source": [
    "Import `sklearn.model_selection` to split the data into train/test sets."
   ]
  },
  {
   "cell_type": "code",
   "execution_count": 24,
   "metadata": {
    "user_blocks": [
     "importAs"
    ],
    "user_blocks_xml": "<xml xmlns=\"https://developers.google.com/blockly/xml\"><variables><variable id=\"-q~R*yx.VGQ@%!0Q+!gh\">model_selection</variable></variables><block type=\"importAs\" id=\"E{QJ$O@lc8u.;OTWdVgf\" x=\"-89\" y=\"168\"><field name=\"libraryName\">sklearn.model_selection</field><field name=\"VAR\" id=\"-q~R*yx.VGQ@%!0Q+!gh\">model_selection</field></block></xml>",
    "user_code_from_blocks": "import sklearn.model_selection as model_selection\n"
   },
   "outputs": [],
   "source": []
  },
  {
   "cell_type": "markdown",
   "metadata": {},
   "source": [
    "And do the actual split."
   ]
  },
  {
   "cell_type": "code",
   "execution_count": 26,
   "metadata": {
    "user_blocks": [
     "variables_set",
     "varDoMethod",
     "variables_get",
     "variables_get",
     "dummyOutputCodeBlock"
    ],
    "user_blocks_xml": "<xml xmlns=\"https://developers.google.com/blockly/xml\"><variables><variable id=\"{Yt*9=2tTC$JepE9BcRz\">splits</variable><variable id=\"-q~R*yx.VGQ@%!0Q+!gh\">model_selection</variable><variable id=\"_z/H/tTnOYS1Lla2~;*0\">X</variable><variable id=\"o8#tp%!,_Okj2aVwX(DL\">Y</variable></variables><block type=\"variables_set\" id=\"HpD!.HSC`PPRg]21i*7c\" x=\"26\" y=\"81\"><field name=\"VAR\" id=\"{Yt*9=2tTC$JepE9BcRz\">splits</field><value name=\"VALUE\"><block type=\"varDoMethod\" id=\"fUetl3$Ak=SI~T6T5!6c\"><mutation items=\"3\"></mutation><field name=\"VAR\" id=\"-q~R*yx.VGQ@%!0Q+!gh\">model_selection</field><field name=\"MEMBER\">train_test_split</field><data>model_selection:train_test_split</data><value name=\"ADD0\"><block type=\"variables_get\" id=\"jN^;NIVaV%22*W_^|!uK\"><field name=\"VAR\" id=\"_z/H/tTnOYS1Lla2~;*0\">X</field></block></value><value name=\"ADD1\"><block type=\"variables_get\" id=\"OOZSj;YDm{T6q%{~5?B1\"><field name=\"VAR\" id=\"o8#tp%!,_Okj2aVwX(DL\">Y</field></block></value><value name=\"ADD2\"><block type=\"dummyOutputCodeBlock\" id=\"Gg*^%q4qIJwc*of,V|rb\"><field name=\"CODE\">random_state=1</field></block></value></block></value></block></xml>",
    "user_code_from_blocks": "splits = model_selection.train_test_split(X,Y,random_state=1)\n"
   },
   "outputs": [],
   "source": []
  },
  {
   "cell_type": "markdown",
   "metadata": {},
   "source": [
    "## Fit models\n",
    "\n",
    "Fit three models in turn:\n",
    "\n",
    "- Regression tree\n",
    "- Bagged regression tree\n",
    "- Random forest regression tree\n",
    "\n",
    "**We're going to get predictions from each of these models and then compare them.**\n",
    "\n",
    "Import the `sklearn.tree` and `sklearn.ensemble` libraries."
   ]
  },
  {
   "cell_type": "code",
   "execution_count": 41,
   "metadata": {
    "user_blocks": [
     "importAs",
     "importAs"
    ],
    "user_blocks_xml": "<xml xmlns=\"https://developers.google.com/blockly/xml\"><variables><variable id=\"tkeU~z;dQ]^6[?rbF?)9\">tree</variable><variable id=\"YrOLY99XD^WJhuTK)IFx\">ensemble</variable></variables><block type=\"importAs\" id=\"B:2{AB~*s},^$L!3{LPk\" x=\"69\" y=\"73\"><field name=\"libraryName\">sklearn.tree</field><field name=\"VAR\" id=\"tkeU~z;dQ]^6[?rbF?)9\">tree</field><next><block type=\"importAs\" id=\"aH_~S~W~@4D,8tXvn_s6\"><field name=\"libraryName\">sklearn.ensemble</field><field name=\"VAR\" id=\"YrOLY99XD^WJhuTK)IFx\">ensemble</field></block></next></block></xml>",
    "user_code_from_blocks": "import sklearn.tree as tree\nimport sklearn.ensemble as ensemble\n"
   },
   "outputs": [],
   "source": []
  },
  {
   "cell_type": "markdown",
   "metadata": {},
   "source": [
    "### Regression tree\n",
    "\n",
    "Create the regression tree model.\n",
    "Go ahead and create it with a freestyle `random_state=1` so we all get the same results."
   ]
  },
  {
   "cell_type": "code",
   "execution_count": 43,
   "metadata": {
    "user_blocks": [
     "variables_set",
     "varCreateObject",
     "dummyOutputCodeBlock"
    ],
    "user_blocks_xml": "<xml xmlns=\"https://developers.google.com/blockly/xml\"><variables><variable id=\"dE3=o8T5`CCHo%,m,2(A\">regressionTree</variable><variable id=\"tkeU~z;dQ]^6[?rbF?)9\">tree</variable></variables><block type=\"variables_set\" id=\"zW~dc)uX.9yIdvHf.vvz\" x=\"1\" y=\"178\"><field name=\"VAR\" id=\"dE3=o8T5`CCHo%,m,2(A\">regressionTree</field><value name=\"VALUE\"><block type=\"varCreateObject\" id=\"0I6gCe=.wV.oI1[UHnIf\"><mutation items=\"1\"></mutation><field name=\"VAR\" id=\"tkeU~z;dQ]^6[?rbF?)9\">tree</field><field name=\"MEMBER\">DecisionTreeRegressor</field><data>tree:DecisionTreeRegressor</data><value name=\"ADD0\"><block type=\"dummyOutputCodeBlock\" id=\"!`-E%6XkL$v~(l2o|@vx\"><field name=\"CODE\">random_state=1</field></block></value></block></value></block></xml>",
    "user_code_from_blocks": "regressionTree = tree.DecisionTreeRegressor(random_state=1)\n"
   },
   "outputs": [],
   "source": []
  },
  {
   "cell_type": "markdown",
   "metadata": {},
   "source": [
    "Fit the regression tree model and get predictions."
   ]
  },
  {
   "cell_type": "code",
   "execution_count": 45,
   "metadata": {
    "user_blocks": [
     "varDoMethod",
     "lists_getIndex",
     "variables_get",
     "math_number",
     "lists_getIndex",
     "variables_get",
     "math_number",
     "variables_set",
     "varDoMethod",
     "lists_getIndex",
     "variables_get",
     "math_number"
    ],
    "user_blocks_xml": "<xml xmlns=\"https://developers.google.com/blockly/xml\"><variables><variable id=\"dE3=o8T5`CCHo%,m,2(A\">regressionTree</variable><variable id=\"v4b`=H5!0=v2ZUg#rwdc\">predictionsRegressionTree</variable><variable id=\"{Yt*9=2tTC$JepE9BcRz\">splits</variable></variables><block type=\"varDoMethod\" id=\"-@fm,911cJiCu@jkys%R\" x=\"15\" y=\"36\"><mutation items=\"2\"></mutation><field name=\"VAR\" id=\"dE3=o8T5`CCHo%,m,2(A\">regressionTree</field><field name=\"MEMBER\">fit</field><data>regressionTree:fit</data><value name=\"ADD0\"><block type=\"lists_getIndex\" id=\"W~.ZU([-)(,-i3=bTsB|\"><mutation statement=\"false\" at=\"true\"></mutation><field name=\"MODE\">GET</field><field name=\"WHERE\">FROM_START</field><value name=\"VALUE\"><block type=\"variables_get\" id=\"GIJn[jpD_~wa}#7IO!1K\"><field name=\"VAR\" id=\"{Yt*9=2tTC$JepE9BcRz\">splits</field></block></value><value name=\"AT\"><block type=\"math_number\" id=\"Rh[;nrMLN$[cFFsZC~T|\"><field name=\"NUM\">1</field></block></value></block></value><value name=\"ADD1\"><block type=\"lists_getIndex\" id=\"YkCD57xF*SSN3[`_op{u\"><mutation statement=\"false\" at=\"true\"></mutation><field name=\"MODE\">GET</field><field name=\"WHERE\">FROM_START</field><value name=\"VALUE\"><block type=\"variables_get\" id=\"M@?wn}aoHxJYan0=AE3$\"><field name=\"VAR\" id=\"{Yt*9=2tTC$JepE9BcRz\">splits</field></block></value><value name=\"AT\"><block type=\"math_number\" id=\"jNUa2BdXPG?H8|.br*@e\"><field name=\"NUM\">3</field></block></value></block></value></block><block type=\"variables_set\" id=\"hYTHG6w/4_XrC:bR/Tg6\" x=\"-12\" y=\"253\"><field name=\"VAR\" id=\"v4b`=H5!0=v2ZUg#rwdc\">predictionsRegressionTree</field><value name=\"VALUE\"><block type=\"varDoMethod\" id=\"6wcPa{b$~7!fP,(9Haqr\"><mutation items=\"1\"></mutation><field name=\"VAR\" id=\"dE3=o8T5`CCHo%,m,2(A\">regressionTree</field><field name=\"MEMBER\">predict</field><data>regressionTree:predict</data><value name=\"ADD0\"><block type=\"lists_getIndex\" id=\"(b.Ja7F_dbv:extS3!R#\"><mutation statement=\"false\" at=\"true\"></mutation><field name=\"MODE\">GET</field><field name=\"WHERE\">FROM_START</field><value name=\"VALUE\"><block type=\"variables_get\" id=\"]z^sd:]CSl!6.?CCL.94\"><field name=\"VAR\" id=\"{Yt*9=2tTC$JepE9BcRz\">splits</field></block></value><value name=\"AT\"><block type=\"math_number\" id=\"#`:Dto*gHNUBL~{WuQz?\"><field name=\"NUM\">2</field></block></value></block></value></block></value></block></xml>",
    "user_code_from_blocks": "regressionTree.fit(splits[0],splits[2])\n\npredictionsRegressionTree = regressionTree.predict(splits[1])\n"
   },
   "outputs": [],
   "source": []
  },
  {
   "cell_type": "markdown",
   "metadata": {},
   "source": [
    "### Bagged regression tree\n",
    "\n",
    "Next create the bagged regression tree model by using `BaggingRegressor`.\n",
    "Just as `BaggingClassifier` uses a decision tree by default, `BaggingRegressor` uses a regression tree by default.\n",
    "Use the same parameters as the random forest notebook (e.g. 100 trees, etc)."
   ]
  },
  {
   "cell_type": "code",
   "execution_count": 47,
   "metadata": {
    "user_blocks": [
     "variables_set",
     "varCreateObject",
     "dummyOutputCodeBlock",
     "dummyOutputCodeBlock",
     "dummyOutputCodeBlock",
     "dummyOutputCodeBlock"
    ],
    "user_blocks_xml": "<xml xmlns=\"https://developers.google.com/blockly/xml\"><variables><variable id=\"XuKv*{qNU92..^WV;EO*\">baggedRegressionTree</variable><variable id=\"YrOLY99XD^WJhuTK)IFx\">ensemble</variable></variables><block type=\"variables_set\" id=\"Fyby#Z6`$J{8yxJ#gF-6\" x=\"30\" y=\"140\"><field name=\"VAR\" id=\"XuKv*{qNU92..^WV;EO*\">baggedRegressionTree</field><value name=\"VALUE\"><block type=\"varCreateObject\" id=\"r3OQ@H/8b[IQZMW^g~*k\"><mutation items=\"4\"></mutation><field name=\"VAR\" id=\"YrOLY99XD^WJhuTK)IFx\">ensemble</field><field name=\"MEMBER\">BaggingRegressor</field><data>ensemble:BaggingRegressor</data><value name=\"ADD0\"><block type=\"dummyOutputCodeBlock\" id=\"1Ngu=B.6@#0XXY3Ee}pw\"><field name=\"CODE\">n_estimators=100</field></block></value><value name=\"ADD1\"><block type=\"dummyOutputCodeBlock\" id=\"u*E7?6w]CWy9HrFCCq!Z\"><field name=\"CODE\">max_samples=.3</field></block></value><value name=\"ADD2\"><block type=\"dummyOutputCodeBlock\" id=\"A{D~w8=/nI[ik_-n`@2y\"><field name=\"CODE\">oob_score=True</field></block></value><value name=\"ADD3\"><block type=\"dummyOutputCodeBlock\" id=\"x%*#E(klF:]smI~uzw!/\"><field name=\"CODE\">random_state=1</field></block></value></block></value></block></xml>",
    "user_code_from_blocks": "baggedRegressionTree = ensemble.BaggingRegressor(n_estimators=100,max_samples=.3,oob_score=True,random_state=1)\n"
   },
   "outputs": [],
   "source": []
  },
  {
   "cell_type": "markdown",
   "metadata": {},
   "source": [
    "Interestingly, for this model, `sklearn` requires us to use `ravel` on `Y` when fitting the model, so import `numpy`."
   ]
  },
  {
   "cell_type": "code",
   "execution_count": 49,
   "metadata": {
    "user_blocks": [
     "importAs"
    ],
    "user_blocks_xml": "<xml xmlns=\"https://developers.google.com/blockly/xml\"><variables><variable id=\"hxqH|@PJU~wrI]t*tHgd\">np</variable></variables><block type=\"importAs\" id=\"aJlH?2f)a*NvrcMcn@dA\" x=\"16\" y=\"10\"><field name=\"libraryName\">numpy</field><field name=\"VAR\" id=\"hxqH|@PJU~wrI]t*tHgd\">np</field></block></xml>",
    "user_code_from_blocks": "import numpy as np\n"
   },
   "outputs": [],
   "source": []
  },
  {
   "cell_type": "markdown",
   "metadata": {},
   "source": [
    "Fit the bagged regression tree using `ravel` on `Y` and get predictions."
   ]
  },
  {
   "cell_type": "code",
   "execution_count": 51,
   "metadata": {
    "user_blocks": [
     "varDoMethod",
     "lists_getIndex",
     "variables_get",
     "math_number",
     "varDoMethod",
     "lists_getIndex",
     "variables_get",
     "math_number",
     "variables_set",
     "varDoMethod",
     "lists_getIndex",
     "variables_get",
     "math_number"
    ],
    "user_blocks_xml": "<xml xmlns=\"https://developers.google.com/blockly/xml\"><variables><variable id=\"XuKv*{qNU92..^WV;EO*\">baggedRegressionTree</variable><variable id=\"A$dO:gbBFcasm~tQ$WNX\">predictionsBaggedRegressionTree</variable><variable id=\"hxqH|@PJU~wrI]t*tHgd\">np</variable><variable id=\"{Yt*9=2tTC$JepE9BcRz\">splits</variable></variables><block type=\"varDoMethod\" id=\"-@fm,911cJiCu@jkys%R\" x=\"15\" y=\"36\"><mutation items=\"2\"></mutation><field name=\"VAR\" id=\"XuKv*{qNU92..^WV;EO*\">baggedRegressionTree</field><field name=\"MEMBER\">fit</field><data>baggedRegressionTree:fit</data><value name=\"ADD0\"><block type=\"lists_getIndex\" id=\"W~.ZU([-)(,-i3=bTsB|\"><mutation statement=\"false\" at=\"true\"></mutation><field name=\"MODE\">GET</field><field name=\"WHERE\">FROM_START</field><value name=\"VALUE\"><block type=\"variables_get\" id=\"GIJn[jpD_~wa}#7IO!1K\"><field name=\"VAR\" id=\"{Yt*9=2tTC$JepE9BcRz\">splits</field></block></value><value name=\"AT\"><block type=\"math_number\" id=\"Rh[;nrMLN$[cFFsZC~T|\"><field name=\"NUM\">1</field></block></value></block></value><value name=\"ADD1\"><block type=\"varDoMethod\" id=\",k`5;Cqc+i`C#J$mzc4P\"><mutation items=\"1\"></mutation><field name=\"VAR\" id=\"hxqH|@PJU~wrI]t*tHgd\">np</field><field name=\"MEMBER\">ravel</field><data>np:ravel</data><value name=\"ADD0\"><block type=\"lists_getIndex\" id=\"YkCD57xF*SSN3[`_op{u\"><mutation statement=\"false\" at=\"true\"></mutation><field name=\"MODE\">GET</field><field name=\"WHERE\">FROM_START</field><value name=\"VALUE\"><block type=\"variables_get\" id=\"M@?wn}aoHxJYan0=AE3$\"><field name=\"VAR\" id=\"{Yt*9=2tTC$JepE9BcRz\">splits</field></block></value><value name=\"AT\"><block type=\"math_number\" id=\"jNUa2BdXPG?H8|.br*@e\"><field name=\"NUM\">3</field></block></value></block></value></block></value></block><block type=\"variables_set\" id=\"hYTHG6w/4_XrC:bR/Tg6\" x=\"-12\" y=\"253\"><field name=\"VAR\" id=\"A$dO:gbBFcasm~tQ$WNX\">predictionsBaggedRegressionTree</field><value name=\"VALUE\"><block type=\"varDoMethod\" id=\"6wcPa{b$~7!fP,(9Haqr\"><mutation items=\"1\"></mutation><field name=\"VAR\" id=\"XuKv*{qNU92..^WV;EO*\">baggedRegressionTree</field><field name=\"MEMBER\">predict</field><data>baggedRegressionTree:predict</data><value name=\"ADD0\"><block type=\"lists_getIndex\" id=\"(b.Ja7F_dbv:extS3!R#\"><mutation statement=\"false\" at=\"true\"></mutation><field name=\"MODE\">GET</field><field name=\"WHERE\">FROM_START</field><value name=\"VALUE\"><block type=\"variables_get\" id=\"]z^sd:]CSl!6.?CCL.94\"><field name=\"VAR\" id=\"{Yt*9=2tTC$JepE9BcRz\">splits</field></block></value><value name=\"AT\"><block type=\"math_number\" id=\"#`:Dto*gHNUBL~{WuQz?\"><field name=\"NUM\">2</field></block></value></block></value></block></value></block></xml>",
    "user_code_from_blocks": "baggedRegressionTree.fit(splits[0],np.ravel(splits[2]))\n\npredictionsBaggedRegressionTree = baggedRegressionTree.predict(splits[1])\n"
   },
   "outputs": [],
   "source": []
  },
  {
   "cell_type": "markdown",
   "metadata": {},
   "source": [
    "### Random forest regression tree\n",
    "\n",
    "Next create the random forest regression tree model by using `RandomForestRegressor`, which also uses a regression tree by default.\n",
    "Use the same parameters as before."
   ]
  },
  {
   "cell_type": "code",
   "execution_count": 53,
   "metadata": {
    "user_blocks": [
     "variables_set",
     "varCreateObject",
     "dummyOutputCodeBlock",
     "dummyOutputCodeBlock",
     "dummyOutputCodeBlock",
     "dummyOutputCodeBlock"
    ],
    "user_blocks_xml": "<xml xmlns=\"https://developers.google.com/blockly/xml\"><variables><variable id=\"Mvcq+P(afE9x6R@bF+6B\">randomForestRegressionTree</variable><variable id=\"YrOLY99XD^WJhuTK)IFx\">ensemble</variable></variables><block type=\"variables_set\" id=\"Fyby#Z6`$J{8yxJ#gF-6\" x=\"-9\" y=\"81\"><field name=\"VAR\" id=\"Mvcq+P(afE9x6R@bF+6B\">randomForestRegressionTree</field><value name=\"VALUE\"><block type=\"varCreateObject\" id=\"r3OQ@H/8b[IQZMW^g~*k\"><mutation items=\"4\"></mutation><field name=\"VAR\" id=\"YrOLY99XD^WJhuTK)IFx\">ensemble</field><field name=\"MEMBER\">RandomForestRegressor</field><data>ensemble:RandomForestRegressor</data><value name=\"ADD0\"><block type=\"dummyOutputCodeBlock\" id=\"1Ngu=B.6@#0XXY3Ee}pw\"><field name=\"CODE\">n_estimators=100</field></block></value><value name=\"ADD1\"><block type=\"dummyOutputCodeBlock\" id=\"u*E7?6w]CWy9HrFCCq!Z\"><field name=\"CODE\">max_samples=.3</field></block></value><value name=\"ADD2\"><block type=\"dummyOutputCodeBlock\" id=\"A{D~w8=/nI[ik_-n`@2y\"><field name=\"CODE\">oob_score=True</field></block></value><value name=\"ADD3\"><block type=\"dummyOutputCodeBlock\" id=\"x%*#E(klF:]smI~uzw!/\"><field name=\"CODE\">random_state=1</field></block></value></block></value></block></xml>",
    "user_code_from_blocks": "randomForestRegressionTree = ensemble.RandomForestRegressor(n_estimators=100,max_samples=.3,oob_score=True,random_state=1)\n"
   },
   "outputs": [],
   "source": []
  },
  {
   "cell_type": "markdown",
   "metadata": {},
   "source": [
    "Fit the random forest regression tree using `ravel` on `Y` and get predictions."
   ]
  },
  {
   "cell_type": "code",
   "execution_count": 55,
   "metadata": {
    "user_blocks": [
     "varDoMethod",
     "lists_getIndex",
     "variables_get",
     "math_number",
     "varDoMethod",
     "lists_getIndex",
     "variables_get",
     "math_number",
     "variables_set",
     "varDoMethod",
     "lists_getIndex",
     "variables_get",
     "math_number"
    ],
    "user_blocks_xml": "<xml xmlns=\"https://developers.google.com/blockly/xml\"><variables><variable id=\"Mvcq+P(afE9x6R@bF+6B\">randomForestRegressionTree</variable><variable id=\"D#Cge-Va(a]G+RxWDa,D\">predictionsRandomForestRegressionTree</variable><variable id=\"hxqH|@PJU~wrI]t*tHgd\">np</variable><variable id=\"{Yt*9=2tTC$JepE9BcRz\">splits</variable></variables><block type=\"varDoMethod\" id=\"-@fm,911cJiCu@jkys%R\" x=\"15\" y=\"36\"><mutation items=\"2\"></mutation><field name=\"VAR\" id=\"Mvcq+P(afE9x6R@bF+6B\">randomForestRegressionTree</field><field name=\"MEMBER\">fit</field><data>randomForestRegressionTree:fit</data><value name=\"ADD0\"><block type=\"lists_getIndex\" id=\"W~.ZU([-)(,-i3=bTsB|\"><mutation statement=\"false\" at=\"true\"></mutation><field name=\"MODE\">GET</field><field name=\"WHERE\">FROM_START</field><value name=\"VALUE\"><block type=\"variables_get\" id=\"GIJn[jpD_~wa}#7IO!1K\"><field name=\"VAR\" id=\"{Yt*9=2tTC$JepE9BcRz\">splits</field></block></value><value name=\"AT\"><block type=\"math_number\" id=\"Rh[;nrMLN$[cFFsZC~T|\"><field name=\"NUM\">1</field></block></value></block></value><value name=\"ADD1\"><block type=\"varDoMethod\" id=\",k`5;Cqc+i`C#J$mzc4P\"><mutation items=\"1\"></mutation><field name=\"VAR\" id=\"hxqH|@PJU~wrI]t*tHgd\">np</field><field name=\"MEMBER\">ravel</field><data>np:ravel</data><value name=\"ADD0\"><block type=\"lists_getIndex\" id=\"YkCD57xF*SSN3[`_op{u\"><mutation statement=\"false\" at=\"true\"></mutation><field name=\"MODE\">GET</field><field name=\"WHERE\">FROM_START</field><value name=\"VALUE\"><block type=\"variables_get\" id=\"M@?wn}aoHxJYan0=AE3$\"><field name=\"VAR\" id=\"{Yt*9=2tTC$JepE9BcRz\">splits</field></block></value><value name=\"AT\"><block type=\"math_number\" id=\"jNUa2BdXPG?H8|.br*@e\"><field name=\"NUM\">3</field></block></value></block></value></block></value></block><block type=\"variables_set\" id=\"hYTHG6w/4_XrC:bR/Tg6\" x=\"-12\" y=\"253\"><field name=\"VAR\" id=\"D#Cge-Va(a]G+RxWDa,D\">predictionsRandomForestRegressionTree</field><value name=\"VALUE\"><block type=\"varDoMethod\" id=\"6wcPa{b$~7!fP,(9Haqr\"><mutation items=\"1\"></mutation><field name=\"VAR\" id=\"Mvcq+P(afE9x6R@bF+6B\">randomForestRegressionTree</field><field name=\"MEMBER\">predict</field><data>randomForestRegressionTree:predict</data><value name=\"ADD0\"><block type=\"lists_getIndex\" id=\"(b.Ja7F_dbv:extS3!R#\"><mutation statement=\"false\" at=\"true\"></mutation><field name=\"MODE\">GET</field><field name=\"WHERE\">FROM_START</field><value name=\"VALUE\"><block type=\"variables_get\" id=\"]z^sd:]CSl!6.?CCL.94\"><field name=\"VAR\" id=\"{Yt*9=2tTC$JepE9BcRz\">splits</field></block></value><value name=\"AT\"><block type=\"math_number\" id=\"#`:Dto*gHNUBL~{WuQz?\"><field name=\"NUM\">2</field></block></value></block></value></block></value></block></xml>",
    "user_code_from_blocks": "randomForestRegressionTree.fit(splits[0],np.ravel(splits[2]))\n\npredictionsRandomForestRegressionTree = randomForestRegressionTree.predict(splits[1])\n"
   },
   "outputs": [],
   "source": []
  },
  {
   "cell_type": "markdown",
   "metadata": {},
   "source": [
    "## Evaluate the models"
   ]
  },
  {
   "cell_type": "markdown",
   "metadata": {},
   "source": [
    "### Regression tree\n",
    "\n",
    "- Get the $r^2$ on the *training* set\n",
    "\n",
    "- Get the $r^2$ on the *testing* set"
   ]
  },
  {
   "cell_type": "code",
   "execution_count": 57,
   "metadata": {
    "user_blocks": [
     "text_print",
     "text_join",
     "text",
     "varDoMethod",
     "lists_getIndex",
     "variables_get",
     "math_number",
     "lists_getIndex",
     "variables_get",
     "math_number",
     "text_print",
     "text_join",
     "text",
     "varDoMethod",
     "lists_getIndex",
     "variables_get",
     "math_number",
     "lists_getIndex",
     "variables_get",
     "math_number"
    ],
    "user_blocks_xml": "<xml xmlns=\"https://developers.google.com/blockly/xml\"><variables><variable id=\"dE3=o8T5`CCHo%,m,2(A\">regressionTree</variable><variable id=\"{Yt*9=2tTC$JepE9BcRz\">splits</variable></variables><block type=\"text_print\" id=\"~IM}M:,`?~tIB8VB1m^X\" x=\"0\" y=\"0\"><value name=\"TEXT\"><block type=\"text_join\" id=\"SP${6|~=}gsMxiy4{Nq6\"><mutation items=\"2\"></mutation><value name=\"ADD0\"><block type=\"text\" id=\"A9Io`Zzs7V]5]Q{u_YJb\"><field name=\"TEXT\">Training r2:</field></block></value><value name=\"ADD1\"><block type=\"varDoMethod\" id=\"%!VjUHB:+Srn(8bKuAIJ\"><mutation items=\"2\"></mutation><field name=\"VAR\" id=\"dE3=o8T5`CCHo%,m,2(A\">regressionTree</field><field name=\"MEMBER\">score</field><data>regressionTree:score</data><value name=\"ADD0\"><block type=\"lists_getIndex\" id=\"d#d#BS{ihm?]_9Sy!`n1\"><mutation statement=\"false\" at=\"true\"></mutation><field name=\"MODE\">GET</field><field name=\"WHERE\">FROM_START</field><value name=\"VALUE\"><block type=\"variables_get\" id=\"Hz=Ub^QN}T3,w[Q~vkCp\"><field name=\"VAR\" id=\"{Yt*9=2tTC$JepE9BcRz\">splits</field></block></value><value name=\"AT\"><block type=\"math_number\" id=\";~m;0oTRak[R?]rp!IkI\"><field name=\"NUM\">1</field></block></value></block></value><value name=\"ADD1\"><block type=\"lists_getIndex\" id=\"G/?J@!@Zg}9|fSK;WcH:\"><mutation statement=\"false\" at=\"true\"></mutation><field name=\"MODE\">GET</field><field name=\"WHERE\">FROM_START</field><value name=\"VALUE\"><block type=\"variables_get\" id=\"V$Rp`[Cu:yN7vsE5_b+w\"><field name=\"VAR\" id=\"{Yt*9=2tTC$JepE9BcRz\">splits</field></block></value><value name=\"AT\"><block type=\"math_number\" id=\"~R]wA!S4a75y!9c.F{9d\"><field name=\"NUM\">3</field></block></value></block></value></block></value></block></value><next><block type=\"text_print\" id=\"42m=3VdZu:@waL-B4}xG\"><value name=\"TEXT\"><block type=\"text_join\" id=\"HjXt2%Fit]k#OR`KWq{*\"><mutation items=\"2\"></mutation><value name=\"ADD0\"><block type=\"text\" id=\"ex)?4*uJ?Qrr-oAFFAai\"><field name=\"TEXT\">Testing r2:</field></block></value><value name=\"ADD1\"><block type=\"varDoMethod\" id=\"Q!UFRkI}`Idyyd_e[TQ{\"><mutation items=\"2\"></mutation><field name=\"VAR\" id=\"dE3=o8T5`CCHo%,m,2(A\">regressionTree</field><field name=\"MEMBER\">score</field><data>regressionTree:score</data><value name=\"ADD0\"><block type=\"lists_getIndex\" id=\"+MD`-:6~FyLnj2dG}Wn6\"><mutation statement=\"false\" at=\"true\"></mutation><field name=\"MODE\">GET</field><field name=\"WHERE\">FROM_START</field><value name=\"VALUE\"><block type=\"variables_get\" id=\"ttoJ2j;lJgXNoFqC})PY\"><field name=\"VAR\" id=\"{Yt*9=2tTC$JepE9BcRz\">splits</field></block></value><value name=\"AT\"><block type=\"math_number\" id=\"anndJC]ouLVh--o3P^l4\"><field name=\"NUM\">2</field></block></value></block></value><value name=\"ADD1\"><block type=\"lists_getIndex\" id=\"!kR]i230}sW~7pI7Ly}Z\"><mutation statement=\"false\" at=\"true\"></mutation><field name=\"MODE\">GET</field><field name=\"WHERE\">FROM_START</field><value name=\"VALUE\"><block type=\"variables_get\" id=\"2[^L;t[YfC`cm0jE+Q1X\"><field name=\"VAR\" id=\"{Yt*9=2tTC$JepE9BcRz\">splits</field></block></value><value name=\"AT\"><block type=\"math_number\" id=\"7U$Dd.q*|fxYnYCaD-hA\"><field name=\"NUM\">4</field></block></value></block></value></block></value></block></value></block></next></block></xml>",
    "user_code_from_blocks": "print('Training r2:' + str(regressionTree.score(splits[0],splits[2])))\nprint('Testing r2:' + str(regressionTree.score(splits[1],splits[3])))\n"
   },
   "outputs": [],
   "source": []
  },
  {
   "cell_type": "markdown",
   "metadata": {},
   "source": [
    "### Bagged regression tree\n",
    "\n",
    "- Get the $r^2$ on the *training* set\n",
    "\n",
    "- Get the $r^2$ on the *testing* set"
   ]
  },
  {
   "cell_type": "code",
   "execution_count": 59,
   "metadata": {
    "user_blocks": [
     "text_print",
     "text_join",
     "text",
     "varDoMethod",
     "lists_getIndex",
     "variables_get",
     "math_number",
     "lists_getIndex",
     "variables_get",
     "math_number",
     "text_print",
     "text_join",
     "text",
     "varDoMethod",
     "lists_getIndex",
     "variables_get",
     "math_number",
     "lists_getIndex",
     "variables_get",
     "math_number"
    ],
    "user_blocks_xml": "<xml xmlns=\"https://developers.google.com/blockly/xml\"><variables><variable id=\"XuKv*{qNU92..^WV;EO*\">baggedRegressionTree</variable><variable id=\"{Yt*9=2tTC$JepE9BcRz\">splits</variable></variables><block type=\"text_print\" id=\"~IM}M:,`?~tIB8VB1m^X\" x=\"0\" y=\"0\"><value name=\"TEXT\"><block type=\"text_join\" id=\"SP${6|~=}gsMxiy4{Nq6\"><mutation items=\"2\"></mutation><value name=\"ADD0\"><block type=\"text\" id=\"A9Io`Zzs7V]5]Q{u_YJb\"><field name=\"TEXT\">Training r2:</field></block></value><value name=\"ADD1\"><block type=\"varDoMethod\" id=\"%!VjUHB:+Srn(8bKuAIJ\"><mutation items=\"2\"></mutation><field name=\"VAR\" id=\"XuKv*{qNU92..^WV;EO*\">baggedRegressionTree</field><field name=\"MEMBER\">score</field><data>baggedRegressionTree:score</data><value name=\"ADD0\"><block type=\"lists_getIndex\" id=\"d#d#BS{ihm?]_9Sy!`n1\"><mutation statement=\"false\" at=\"true\"></mutation><field name=\"MODE\">GET</field><field name=\"WHERE\">FROM_START</field><value name=\"VALUE\"><block type=\"variables_get\" id=\"Hz=Ub^QN}T3,w[Q~vkCp\"><field name=\"VAR\" id=\"{Yt*9=2tTC$JepE9BcRz\">splits</field></block></value><value name=\"AT\"><block type=\"math_number\" id=\";~m;0oTRak[R?]rp!IkI\"><field name=\"NUM\">1</field></block></value></block></value><value name=\"ADD1\"><block type=\"lists_getIndex\" id=\"G/?J@!@Zg}9|fSK;WcH:\"><mutation statement=\"false\" at=\"true\"></mutation><field name=\"MODE\">GET</field><field name=\"WHERE\">FROM_START</field><value name=\"VALUE\"><block type=\"variables_get\" id=\"V$Rp`[Cu:yN7vsE5_b+w\"><field name=\"VAR\" id=\"{Yt*9=2tTC$JepE9BcRz\">splits</field></block></value><value name=\"AT\"><block type=\"math_number\" id=\"~R]wA!S4a75y!9c.F{9d\"><field name=\"NUM\">3</field></block></value></block></value></block></value></block></value><next><block type=\"text_print\" id=\"42m=3VdZu:@waL-B4}xG\"><value name=\"TEXT\"><block type=\"text_join\" id=\"HjXt2%Fit]k#OR`KWq{*\"><mutation items=\"2\"></mutation><value name=\"ADD0\"><block type=\"text\" id=\"ex)?4*uJ?Qrr-oAFFAai\"><field name=\"TEXT\">Testing r2:</field></block></value><value name=\"ADD1\"><block type=\"varDoMethod\" id=\"Q!UFRkI}`Idyyd_e[TQ{\"><mutation items=\"2\"></mutation><field name=\"VAR\" id=\"XuKv*{qNU92..^WV;EO*\">baggedRegressionTree</field><field name=\"MEMBER\">score</field><data>baggedRegressionTree:score</data><value name=\"ADD0\"><block type=\"lists_getIndex\" id=\"+MD`-:6~FyLnj2dG}Wn6\"><mutation statement=\"false\" at=\"true\"></mutation><field name=\"MODE\">GET</field><field name=\"WHERE\">FROM_START</field><value name=\"VALUE\"><block type=\"variables_get\" id=\"ttoJ2j;lJgXNoFqC})PY\"><field name=\"VAR\" id=\"{Yt*9=2tTC$JepE9BcRz\">splits</field></block></value><value name=\"AT\"><block type=\"math_number\" id=\"anndJC]ouLVh--o3P^l4\"><field name=\"NUM\">2</field></block></value></block></value><value name=\"ADD1\"><block type=\"lists_getIndex\" id=\"!kR]i230}sW~7pI7Ly}Z\"><mutation statement=\"false\" at=\"true\"></mutation><field name=\"MODE\">GET</field><field name=\"WHERE\">FROM_START</field><value name=\"VALUE\"><block type=\"variables_get\" id=\"2[^L;t[YfC`cm0jE+Q1X\"><field name=\"VAR\" id=\"{Yt*9=2tTC$JepE9BcRz\">splits</field></block></value><value name=\"AT\"><block type=\"math_number\" id=\"7U$Dd.q*|fxYnYCaD-hA\"><field name=\"NUM\">4</field></block></value></block></value></block></value></block></value></block></next></block></xml>",
    "user_code_from_blocks": "print('Training r2:' + str(baggedRegressionTree.score(splits[0],splits[2])))\nprint('Testing r2:' + str(baggedRegressionTree.score(splits[1],splits[3])))\n"
   },
   "outputs": [],
   "source": []
  },
  {
   "cell_type": "markdown",
   "metadata": {},
   "source": [
    "### Random forest regression tree\n",
    "\n",
    "- Get the $r^2$ on the *training* set\n",
    "\n",
    "- Get the $r^2$ on the *testing* set"
   ]
  },
  {
   "cell_type": "code",
   "execution_count": 61,
   "metadata": {
    "user_blocks": [
     "text_print",
     "text_join",
     "text",
     "varDoMethod",
     "lists_getIndex",
     "variables_get",
     "math_number",
     "lists_getIndex",
     "variables_get",
     "math_number",
     "text_print",
     "text_join",
     "text",
     "varDoMethod",
     "lists_getIndex",
     "variables_get",
     "math_number",
     "lists_getIndex",
     "variables_get",
     "math_number"
    ],
    "user_blocks_xml": "<xml xmlns=\"https://developers.google.com/blockly/xml\"><variables><variable id=\"Mvcq+P(afE9x6R@bF+6B\">randomForestRegressionTree</variable><variable id=\"{Yt*9=2tTC$JepE9BcRz\">splits</variable></variables><block type=\"text_print\" id=\"~IM}M:,`?~tIB8VB1m^X\" x=\"0\" y=\"0\"><value name=\"TEXT\"><block type=\"text_join\" id=\"SP${6|~=}gsMxiy4{Nq6\"><mutation items=\"2\"></mutation><value name=\"ADD0\"><block type=\"text\" id=\"A9Io`Zzs7V]5]Q{u_YJb\"><field name=\"TEXT\">Training r2:</field></block></value><value name=\"ADD1\"><block type=\"varDoMethod\" id=\"%!VjUHB:+Srn(8bKuAIJ\"><mutation items=\"2\"></mutation><field name=\"VAR\" id=\"Mvcq+P(afE9x6R@bF+6B\">randomForestRegressionTree</field><field name=\"MEMBER\">score</field><data>randomForestRegressionTree:score</data><value name=\"ADD0\"><block type=\"lists_getIndex\" id=\"d#d#BS{ihm?]_9Sy!`n1\"><mutation statement=\"false\" at=\"true\"></mutation><field name=\"MODE\">GET</field><field name=\"WHERE\">FROM_START</field><value name=\"VALUE\"><block type=\"variables_get\" id=\"Hz=Ub^QN}T3,w[Q~vkCp\"><field name=\"VAR\" id=\"{Yt*9=2tTC$JepE9BcRz\">splits</field></block></value><value name=\"AT\"><block type=\"math_number\" id=\";~m;0oTRak[R?]rp!IkI\"><field name=\"NUM\">1</field></block></value></block></value><value name=\"ADD1\"><block type=\"lists_getIndex\" id=\"G/?J@!@Zg}9|fSK;WcH:\"><mutation statement=\"false\" at=\"true\"></mutation><field name=\"MODE\">GET</field><field name=\"WHERE\">FROM_START</field><value name=\"VALUE\"><block type=\"variables_get\" id=\"V$Rp`[Cu:yN7vsE5_b+w\"><field name=\"VAR\" id=\"{Yt*9=2tTC$JepE9BcRz\">splits</field></block></value><value name=\"AT\"><block type=\"math_number\" id=\"~R]wA!S4a75y!9c.F{9d\"><field name=\"NUM\">3</field></block></value></block></value></block></value></block></value><next><block type=\"text_print\" id=\"42m=3VdZu:@waL-B4}xG\"><value name=\"TEXT\"><block type=\"text_join\" id=\"HjXt2%Fit]k#OR`KWq{*\"><mutation items=\"2\"></mutation><value name=\"ADD0\"><block type=\"text\" id=\"ex)?4*uJ?Qrr-oAFFAai\"><field name=\"TEXT\">Testing r2:</field></block></value><value name=\"ADD1\"><block type=\"varDoMethod\" id=\"Q!UFRkI}`Idyyd_e[TQ{\"><mutation items=\"2\"></mutation><field name=\"VAR\" id=\"Mvcq+P(afE9x6R@bF+6B\">randomForestRegressionTree</field><field name=\"MEMBER\">score</field><data>randomForestRegressionTree:score</data><value name=\"ADD0\"><block type=\"lists_getIndex\" id=\"+MD`-:6~FyLnj2dG}Wn6\"><mutation statement=\"false\" at=\"true\"></mutation><field name=\"MODE\">GET</field><field name=\"WHERE\">FROM_START</field><value name=\"VALUE\"><block type=\"variables_get\" id=\"ttoJ2j;lJgXNoFqC})PY\"><field name=\"VAR\" id=\"{Yt*9=2tTC$JepE9BcRz\">splits</field></block></value><value name=\"AT\"><block type=\"math_number\" id=\"anndJC]ouLVh--o3P^l4\"><field name=\"NUM\">2</field></block></value></block></value><value name=\"ADD1\"><block type=\"lists_getIndex\" id=\"!kR]i230}sW~7pI7Ly}Z\"><mutation statement=\"false\" at=\"true\"></mutation><field name=\"MODE\">GET</field><field name=\"WHERE\">FROM_START</field><value name=\"VALUE\"><block type=\"variables_get\" id=\"2[^L;t[YfC`cm0jE+Q1X\"><field name=\"VAR\" id=\"{Yt*9=2tTC$JepE9BcRz\">splits</field></block></value><value name=\"AT\"><block type=\"math_number\" id=\"7U$Dd.q*|fxYnYCaD-hA\"><field name=\"NUM\">4</field></block></value></block></value></block></value></block></value></block></next></block></xml>",
    "user_code_from_blocks": "print('Training r2:' + str(randomForestRegressionTree.score(splits[0],splits[2])))\nprint('Testing r2:' + str(randomForestRegressionTree.score(splits[1],splits[3])))\n"
   },
   "outputs": [],
   "source": []
  },
  {
   "cell_type": "markdown",
   "metadata": {},
   "source": [
    "------------------\n",
    "**QUESTION:**\n",
    "\n",
    "Compare the three models with respect to their *training data performance*. Which is better?\n",
    "Now compare the three models with respect to their *testing data performance*. Which is better?\n",
    "What do these differences tell you?"
   ]
  },
  {
   "cell_type": "markdown",
   "metadata": {},
   "source": [
    "**ANSWER: (click here to edit)**\n",
    "\n\n<hr>"
   ]
  },
  {
   "cell_type": "markdown",
   "metadata": {},
   "source": [
    "## Feature importance\n",
    "\n",
    "Calculate the feature importance for the three models and plot it as a `plotly` bar chart.\n",
    "\n",
    "To get the column names for `x=` in the bar chart, you can use `from X get columns` as a shortcut."
   ]
  },
  {
   "cell_type": "markdown",
   "metadata": {},
   "source": [
    "### Regression tree"
   ]
  },
  {
   "cell_type": "code",
   "execution_count": 63,
   "metadata": {
    "user_blocks": [
     "varDoMethod",
     "valueOutputCodeBlock",
     "varGetProperty",
     "valueOutputCodeBlock",
     "varGetProperty"
    ],
    "user_blocks_xml": "<xml xmlns=\"https://developers.google.com/blockly/xml\"><variables><variable id=\"+yh,Zg{hON]zy6D~.rH#\">px</variable><variable id=\"_z/H/tTnOYS1Lla2~;*0\">X</variable><variable id=\"dE3=o8T5`CCHo%,m,2(A\">regressionTree</variable></variables><block type=\"varDoMethod\" id=\"XntGzn~qa18Ik6_`_)X8\" x=\"0\" y=\"0\"><mutation items=\"2\"></mutation><field name=\"VAR\" id=\"+yh,Zg{hON]zy6D~.rH#\">px</field><field name=\"MEMBER\">bar</field><data>px:bar</data><value name=\"ADD0\"><block type=\"valueOutputCodeBlock\" id=\"$ALMI7MUyW+_ndPYFX`6\"><field name=\"CODE\">x=</field><value name=\"INPUT\"><block type=\"varGetProperty\" id=\"]eR#Z1Q-Y.)v*wPlm%=h\"><field name=\"VAR\" id=\"_z/H/tTnOYS1Lla2~;*0\">X</field><field name=\"MEMBER\">columns</field><data>X:columns</data></block></value></block></value><value name=\"ADD1\"><block type=\"valueOutputCodeBlock\" id=\"3YVNFcVDtd*X{0Sg{6Oc\"><field name=\"CODE\">y=</field><value name=\"INPUT\"><block type=\"varGetProperty\" id=\"@z94kf*yvYscV2]OHY$,\"><field name=\"VAR\" id=\"dE3=o8T5`CCHo%,m,2(A\">regressionTree</field><field name=\"MEMBER\">feature_importances_</field><data>regressionTree:feature_importances_</data></block></value></block></value></block></xml>",
    "user_code_from_blocks": "px.bar(x= (X.columns),y= (regressionTree.feature_importances_))\n"
   },
   "outputs": [],
   "source": []
  },
  {
   "cell_type": "markdown",
   "metadata": {},
   "source": [
    "### Bagged regression tree\n",
    "\n",
    "For some reason, `sklearn` does not implement `feature_importances_` for `BaggingRegressor`, so use the following freestyle for the `y=` part of your plot: \n",
    "\n",
    "`np.mean([ tree.feature_importances_ for tree in baggedRegressionTree.estimators_ ], axis=0)`\n",
    "\n",
    "**You will need to change `baggedRegressionTree` to whatever you called this model above.**"
   ]
  },
  {
   "cell_type": "code",
   "execution_count": 65,
   "metadata": {
    "user_blocks": [
     "varDoMethod",
     "valueOutputCodeBlock",
     "varGetProperty",
     "valueOutputCodeBlock"
    ],
    "user_blocks_xml": "<xml xmlns=\"https://developers.google.com/blockly/xml\"><variables><variable id=\"+yh,Zg{hON]zy6D~.rH#\">px</variable><variable id=\"_z/H/tTnOYS1Lla2~;*0\">X</variable></variables><block type=\"varDoMethod\" id=\"XntGzn~qa18Ik6_`_)X8\" x=\"0\" y=\"0\"><mutation items=\"2\"></mutation><field name=\"VAR\" id=\"+yh,Zg{hON]zy6D~.rH#\">px</field><field name=\"MEMBER\">bar</field><data>px:bar</data><value name=\"ADD0\"><block type=\"valueOutputCodeBlock\" id=\"$ALMI7MUyW+_ndPYFX`6\"><field name=\"CODE\">x=</field><value name=\"INPUT\"><block type=\"varGetProperty\" id=\"]eR#Z1Q-Y.)v*wPlm%=h\"><field name=\"VAR\" id=\"_z/H/tTnOYS1Lla2~;*0\">X</field><field name=\"MEMBER\">columns</field><data>X:columns</data></block></value></block></value><value name=\"ADD1\"><block type=\"valueOutputCodeBlock\" id=\"3YVNFcVDtd*X{0Sg{6Oc\"><field name=\"CODE\">y=np.mean([ tree.feature_importances_ for tree in baggedRegressionTree.estimators_ ], axis=0)</field></block></value></block></xml>",
    "user_code_from_blocks": "px.bar(x= (X.columns),y=np.mean([ tree.feature_importances_ for tree in baggedRegressionTree.estimators_ ], axis=0))\n"
   },
   "outputs": [],
   "source": []
  },
  {
   "cell_type": "markdown",
   "metadata": {},
   "source": [
    "### Random forest regression tree\n",
    "\n",
    "This uses `feature_importances_`, so you can make the plot exactly like you would for the regression tree model."
   ]
  },
  {
   "cell_type": "code",
   "execution_count": 67,
   "metadata": {
    "user_blocks": [
     "varDoMethod",
     "valueOutputCodeBlock",
     "varGetProperty",
     "valueOutputCodeBlock",
     "varGetProperty"
    ],
    "user_blocks_xml": "<xml xmlns=\"https://developers.google.com/blockly/xml\"><variables><variable id=\"+yh,Zg{hON]zy6D~.rH#\">px</variable><variable id=\"_z/H/tTnOYS1Lla2~;*0\">X</variable><variable id=\"Mvcq+P(afE9x6R@bF+6B\">randomForestRegressionTree</variable></variables><block type=\"varDoMethod\" id=\"XntGzn~qa18Ik6_`_)X8\" x=\"0\" y=\"0\"><mutation items=\"2\"></mutation><field name=\"VAR\" id=\"+yh,Zg{hON]zy6D~.rH#\">px</field><field name=\"MEMBER\">bar</field><data>px:bar</data><value name=\"ADD0\"><block type=\"valueOutputCodeBlock\" id=\"$ALMI7MUyW+_ndPYFX`6\"><field name=\"CODE\">x=</field><value name=\"INPUT\"><block type=\"varGetProperty\" id=\"]eR#Z1Q-Y.)v*wPlm%=h\"><field name=\"VAR\" id=\"_z/H/tTnOYS1Lla2~;*0\">X</field><field name=\"MEMBER\">columns</field><data>X:columns</data></block></value></block></value><value name=\"ADD1\"><block type=\"valueOutputCodeBlock\" id=\"3YVNFcVDtd*X{0Sg{6Oc\"><field name=\"CODE\">y=</field><value name=\"INPUT\"><block type=\"varGetProperty\" id=\"@z94kf*yvYscV2]OHY$,\"><field name=\"VAR\" id=\"Mvcq+P(afE9x6R@bF+6B\">randomForestRegressionTree</field><field name=\"MEMBER\">feature_importances_</field><data>randomForestRegressionTree:feature_importances_</data></block></value></block></value></block></xml>",
    "user_code_from_blocks": "px.bar(x= (X.columns),y= (randomForestRegressionTree.feature_importances_))\n"
   },
   "outputs": [],
   "source": []
  },
  {
   "cell_type": "markdown",
   "metadata": {},
   "source": [
    "-----------\n",
    "**QUESTION:**\n",
    "\n",
    "Look carefully at the three feature importance plots, hovering your mouse over each bar.\n",
    "What are the major differences between them?"
   ]
  },
  {
   "cell_type": "markdown",
   "metadata": {},
   "source": [
    "**ANSWER: (click here to edit)**\n",
    "\n\n<hr>"
   ]
  },
  {
   "cell_type": "markdown",
   "metadata": {},
   "source": [
    "**QUESTION:**\n",
    "\n",
    "What other tool(s) can you think of that we haven't tried that we could use to compare these models?"
   ]
  },
  {
   "cell_type": "markdown",
   "metadata": {},
   "source": [
    "**ANSWER: (click here to edit)**\n",
    "\n\n<hr>"
   ]
  },
  {
   "cell_type": "markdown",
   "metadata": {},
   "source": [
    "<!--  -->"
   ]
  }
 ],
 "metadata": {
  "kernelspec": {
   "display_name": "Python 3 (ipykernel)",
   "language": "python",
   "name": "python3"
  },
  "language_info": {
   "codemirror_mode": {
    "name": "ipython",
    "version": 3
   },
   "file_extension": ".py",
   "mimetype": "text/x-python",
   "name": "python",
   "nbconvert_exporter": "python",
   "pygments_lexer": "ipython3",
   "version": "3.12.6"
  }
 },
 "nbformat": 4,
 "nbformat_minor": 4
}
