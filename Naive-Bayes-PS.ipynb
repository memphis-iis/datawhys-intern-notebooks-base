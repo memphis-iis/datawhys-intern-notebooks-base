{
 "cells": [
  {
   "cell_type": "markdown",
   "metadata": {
    "deletable": false,
    "editable": false
   },
   "source": [
    "Copyright 2020 Andrew M. Olney and made available under [CC BY-SA](https://creativecommons.org/licenses/by-sa/4.0) for text and [Apache-2.0](http://www.apache.org/licenses/LICENSE-2.0) for code.\n"
   ]
  },
  {
   "cell_type": "markdown",
   "metadata": {},
   "source": [
    "# Naive Bayes: Problem solving\n",
    "\n",
    "In this session, we will use the `mushroom` dataset.\n",
    "This dataset describes mushrooms along various nominal variables and labels them as poisonous or edible.\n",
    "Because the original dataset is a fair bit larger, we've randomly sampled 2000 rows.\n",
    "\n",
    "The goal is to predict `class`: whether the mushroom is poisonous or not.\n",
    "\n",
    "| Variable                 | Type    | Description                                                                                         |\n",
    "|:--------------------------|:---------|:-----------------------------------------------------------------------------------------------------|\n",
    "| cap-shape                | Nominal | bell=b,conical=c,convex=x,flat=f, knobbed=k,sunken=s                                                |\n",
    "| cap-surface              | Nominal | fibrous=f,grooves=g,scaly=y,smooth=s                                                                |\n",
    "| cap-color                | Nominal | brown=n,buff=b,cinnamon=c,gray=g,green=r, pink=p,purple=u,red=e,white=w,yellow=y                    |\n",
    "| bruises?                 | Nominal | bruises=t,no=f                                                                                      |\n",
    "| odor                     | Nominal | almond=a,anise=l,creosote=c,fishy=y,foul=f, musty=m,none=n,pungent=p,spicy=s                        |\n",
    "| gill-attachment          | Nominal | attached=a,descending=d,free=f,notched=n                                                            |\n",
    "| gill-spacing             | Nominal | close=c,crowded=w,distant=d                                                                         |\n",
    "| gill-size                | Nominal | broad=b,narrow=n                                                                                    |\n",
    "| gill-color               | Nominal | black=k,brown=n,buff=b,chocolate=h,gray=g, green=r,orange=o,pink=p,purple=u,red=e, white=w,yellow=y |\n",
    "| stalk-shape              | Nominal | enlarging=e,tapering=t                                                                              |\n",
    "| stalk-surface-above-ring | Nominal | fibrous=f,scaly=y,silky=k,smooth=s                                                                  |\n",
    "| stalk-surface-below-ring | Nominal | fibrous=f,scaly=y,silky=k,smooth=s                                                                  |\n",
    "| stalk-color-above-ring   | Nominal | brown=n,buff=b,cinnamon=c,gray=g,orange=o, pink=p,red=e,white=w,yellow=y                            |\n",
    "| stalk-color-below-ring   | Nominal | brown=n,buff=b,cinnamon=c,gray=g,orange=o, pink=p,red=e,white=w,yellow=y                            |\n",
    "| veil-type                | Nominal | partial=p,universal=u                                                                               |\n",
    "| veil-color               | Nominal | brown=n,orange=o,white=w,yellow=y                                                                   |\n",
    "| ring-number              | Nominal | none=n,one=o,two=t                                                                                  |\n",
    "| ring-type                | Nominal | cobwebby=c,evanescent=e,flaring=f,large=l, none=n,pendant=p,sheathing=s,zone=z                      |\n",
    "| spore-print-color        | Nominal | black=k,brown=n,buff=b,chocolate=h,green=r, orange=o,purple=u,white=w,yellow=y                      |\n",
    "| population               | Nominal | abundant=a,clustered=c,numerous=n, scattered=s,several=v,solitary=y                                 |\n",
    "| habitat                  | Nominal | grasses=g,leaves=l,meadows=m,paths=p, urban=u,waste=w,woods=d                                       |\n",
    "| class                    | Nominal | edible or poisonous                                                                                 |\n",
    "\n",
    "<div style=\"text-align:center;font-size: smaller\">\n",
    " <b>Source:</b> This dataset was taken from the <a href=\"https://archive.ics.uci.edu/ml/datasets/Mushroom\">UCI Machine Learning Repository library\n",
    "    </a></div>\n",
    "<br>"
   ]
  },
  {
   "cell_type": "markdown",
   "metadata": {},
   "source": [
    "## Load data\n",
    "\n",
    "Import `pandas` so we can load a dataframe."
   ]
  },
  {
   "cell_type": "code",
   "execution_count": 1,
   "metadata": {},
   "outputs": [],
   "source": []
  },
  {
   "cell_type": "markdown",
   "metadata": {},
   "source": [
    "Load the dataframe with `datasets/mushroom.csv`."
   ]
  },
  {
   "cell_type": "code",
   "execution_count": 2,
   "metadata": {},
   "outputs": [],
   "source": []
  },
  {
   "cell_type": "markdown",
   "metadata": {},
   "source": [
    "## Explore data\n",
    "\n",
    "Check the data makes sense with the five figure summary."
   ]
  },
  {
   "cell_type": "code",
   "execution_count": 3,
   "metadata": {},
   "outputs": [],
   "source": []
  },
  {
   "cell_type": "markdown",
   "metadata": {},
   "source": [
    "------------------\n",
    "**QUESTION:**\n",
    "\n",
    "Did any variables have NaN? How do you know?"
   ]
  },
  {
   "cell_type": "markdown",
   "metadata": {},
   "source": [
    "**ANSWER: (click here to edit)**\n",
    "\n\n<hr>"
   ]
  },
  {
   "cell_type": "markdown",
   "metadata": {},
   "source": [
    "**QUESTION:**\n",
    "\n",
    "Looking at `freq` for each variable, how do you think the levels of these variables are distributed?"
   ]
  },
  {
   "cell_type": "markdown",
   "metadata": {},
   "source": [
    "**ANSWER: (click here to edit)**\n",
    "\n\n<hr>"
   ]
  },
  {
   "cell_type": "markdown",
   "metadata": {},
   "source": [
    "Plot each variable separately.\n",
    "\n",
    "First import `plotly.express`."
   ]
  },
  {
   "cell_type": "code",
   "execution_count": 4,
   "metadata": {},
   "outputs": [],
   "source": []
  },
  {
   "cell_type": "markdown",
   "metadata": {},
   "source": [
    "Create an empty histogram figure."
   ]
  },
  {
   "cell_type": "code",
   "execution_count": 5,
   "metadata": {},
   "outputs": [],
   "source": []
  },
  {
   "cell_type": "markdown",
   "metadata": {},
   "source": [
    "Plot histograms of all the variables in a loop."
   ]
  },
  {
   "cell_type": "code",
   "execution_count": 6,
   "metadata": {},
   "outputs": [],
   "source": []
  },
  {
   "cell_type": "markdown",
   "metadata": {},
   "source": [
    "------------------\n",
    "**QUESTION:**\n",
    "\n",
    "What do you think about the distribution of levels of the variables now?"
   ]
  },
  {
   "cell_type": "markdown",
   "metadata": {},
   "source": [
    "**ANSWER: (click here to edit)**\n",
    "\n\n<hr>"
   ]
  },
  {
   "cell_type": "markdown",
   "metadata": {},
   "source": [
    "## Prepare train/test sets"
   ]
  },
  {
   "cell_type": "markdown",
   "metadata": {},
   "source": [
    "Separate our predictors (`X`) from our class label (`Y`), putting each into its own dataframe."
   ]
  },
  {
   "cell_type": "code",
   "execution_count": 7,
   "metadata": {},
   "outputs": [],
   "source": []
  },
  {
   "cell_type": "markdown",
   "metadata": {},
   "source": [
    "Convert the nominal variables in `X` to dummies, storing the result in `X`. \n",
    "Keep all levels. \n",
    "We're doing this because we will use Bernoulli naive Bayes."
   ]
  },
  {
   "cell_type": "code",
   "execution_count": 8,
   "metadata": {},
   "outputs": [],
   "source": []
  },
  {
   "cell_type": "markdown",
   "metadata": {},
   "source": [
    "To split the data into train/test sets, import `model_selection`."
   ]
  },
  {
   "cell_type": "code",
   "execution_count": 9,
   "metadata": {},
   "outputs": [],
   "source": []
  },
  {
   "cell_type": "markdown",
   "metadata": {},
   "source": [
    "And do the actual spliting of data, using `random_state=1`."
   ]
  },
  {
   "cell_type": "code",
   "execution_count": 10,
   "metadata": {},
   "outputs": [],
   "source": []
  },
  {
   "cell_type": "markdown",
   "metadata": {},
   "source": [
    "### Fit model\n",
    "\n",
    "Import libraries for:\n",
    "\n",
    "- Naive Bayes\n",
    "- Metrics\n",
    "- Ravel"
   ]
  },
  {
   "cell_type": "code",
   "execution_count": 11,
   "metadata": {},
   "outputs": [],
   "source": []
  },
  {
   "cell_type": "markdown",
   "metadata": {},
   "source": [
    "Create the Bernoulli naive Bayes model."
   ]
  },
  {
   "cell_type": "code",
   "execution_count": 12,
   "metadata": {},
   "outputs": [],
   "source": []
  },
  {
   "cell_type": "markdown",
   "metadata": {},
   "source": [
    "Train the model by calling `fit` on it."
   ]
  },
  {
   "cell_type": "code",
   "execution_count": 13,
   "metadata": {},
   "outputs": [],
   "source": []
  },
  {
   "cell_type": "markdown",
   "metadata": {},
   "source": [
    "Get and save predictions."
   ]
  },
  {
   "cell_type": "code",
   "execution_count": 14,
   "metadata": {},
   "outputs": [],
   "source": []
  },
  {
   "cell_type": "markdown",
   "metadata": {},
   "source": [
    "### Evaluate the model"
   ]
  },
  {
   "cell_type": "markdown",
   "metadata": {},
   "source": [
    "Get the accuracy."
   ]
  },
  {
   "cell_type": "code",
   "execution_count": 15,
   "metadata": {},
   "outputs": [],
   "source": []
  },
  {
   "cell_type": "markdown",
   "metadata": {},
   "source": [
    "And get the recall and precision."
   ]
  },
  {
   "cell_type": "code",
   "execution_count": 16,
   "metadata": {},
   "outputs": [],
   "source": []
  },
  {
   "cell_type": "markdown",
   "metadata": {},
   "source": [
    "Performance is very good for both classes."
   ]
  },
  {
   "cell_type": "markdown",
   "metadata": {},
   "source": [
    "------------------\n",
    "**QUESTION:**\n",
    "\n",
    "With this level of accuracy, would you eat a mushroom that the classifer said wasn't poisonous?"
   ]
  },
  {
   "cell_type": "markdown",
   "metadata": {},
   "source": [
    "**ANSWER: (click here to edit)**\n",
    "\n\n<hr>"
   ]
  },
  {
   "cell_type": "markdown",
   "metadata": {},
   "source": [
    "## Visualizing\n",
    "\n",
    "### Feature importance\n",
    "\n",
    "To see the feature importances, create a dataframe of the probabilities of predictors given the class label, i.e. `feature_log_prob_`, then give that dataframe correct row/column names (using `index` and `columns`, and finally raise it to the power of ten (because the default output is log)."
   ]
  },
  {
   "cell_type": "code",
   "execution_count": 17,
   "metadata": {},
   "outputs": [],
   "source": []
  },
  {
   "cell_type": "markdown",
   "metadata": {},
   "source": [
    "Plot these feature importances in a loop, where each is a bar plot.\n",
    "\n",
    "**Note:** This will take some time. Once it's done, you should be able to scroll down to view."
   ]
  },
  {
   "cell_type": "code",
   "execution_count": null,
   "metadata": {},
   "outputs": [],
   "source": []
  },
  {
   "cell_type": "markdown",
   "metadata": {},
   "source": [
    "------------------\n",
    "**QUESTION:**\n",
    "\n",
    "Are there any single features you think you'd trust to tell the difference between edible and poisonous?"
   ]
  },
  {
   "cell_type": "markdown",
   "metadata": {},
   "source": [
    "**ANSWER: (click here to edit)**\n",
    "\n\n<hr>"
   ]
  },
  {
   "cell_type": "markdown",
   "metadata": {},
   "source": []
  }
 ],
 "metadata": {
  "kernelspec": {
   "display_name": "xpython",
   "language": "python",
   "name": "xpython"
  },
  "language_info": {
   "file_extension": ".py",
   "mimetype": "text/x-python",
   "name": "python",
   "version": "3.7.6"
  }
 },
 "nbformat": 4,
 "nbformat_minor": 4
}
