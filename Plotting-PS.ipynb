{
 "cells": [
  {
   "cell_type": "markdown",
   "metadata": {
    "deletable": false,
    "editable": false
   },
   "source": [
    "Copyright 2022 Andrew M. Olney and made available under [CC BY-SA](https://creativecommons.org/licenses/by-sa/4.0) for text and [Apache-2.0](http://www.apache.org/licenses/LICENSE-2.0) for code.\n"
   ]
  },
  {
   "cell_type": "markdown",
   "metadata": {},
   "source": [
    "# Plotting: Problem solving\n",
    "\n",
    "In this notebook we'll look at the `cereal` dataset, which consists mostly of nutrition information along with some other properties:\n",
    "\n",
    "| Variable | Type | Description |\n",
    "|:-------|:-------|:-------|\n",
    "| name     | Nominal | Name of cereal (an ID)                                                                                                                          |\n",
    "| mfr      | Nominal | Manufacturer of cereal: (A)merican Home Food Products; (G)eneral Mills; (K)elloggs; (N)abisco; (P)ost; (Q)uaker Oats; (R)alston Purina |\n",
    "| type     | Nominal | (H)ot or (C)old                                                                                                                        |\n",
    "| calories | Ratio   | calories per serving                                                                                                                   |\n",
    "| protein  | Ratio   | grams of protein                                                                                                                       |\n",
    "| fat      | Ratio   | grams of fat                                                                                                                           |\n",
    "| sodium   | Ratio   | milligrams of sodium                                                                                                                   |\n",
    "| fiber    | Ratio   | grams of dietary fiber                                                                                                                 |\n",
    "| carbo    | Ratio   | grams of complex carbohydrates                                                                                                         |\n",
    "| sugars   | Ratio   | grams of sugars                                                                                                                        |\n",
    "| potass   | Ratio   | milligrams of potassium                                                                                                                |\n",
    "| vitamins | Ordinal | vitamins and minerals - 0, 25, or 100, indicating the typical percentage of FDA recommended                                            |\n",
    "| shelf    | Ratio   | display shelf (1, 2, or 3, counting from the floor)                                                                                    |\n",
    "| weight   | Ratio   | weight in ounces of one serving                                                                                                        |\n",
    "| cups     | Ratio   | number of cups in one serving                                                                                                          |\n",
    "| rating   | Ratio   | a rating of the cereals (Possibly from Consumer Reports?)                                                                              |\n",
    "      \n",
    "<div style=\"text-align:center;font-size: smaller\">\n",
    "    <b>Source:</b> This dataset was taken from <a href=\"https://www.kaggle.com/crawford/80-cereals\">Kaggle</a>.\n",
    "</div>\n",
    "<br>"
   ]
  },
  {
   "cell_type": "markdown",
   "metadata": {},
   "source": [
    "## Import libraries\n",
    "\n",
    "We need to load our data into a dataframe and do some plots, so import `pandas` and `plotly.express` below."
   ]
  },
  {
   "cell_type": "code",
   "execution_count": 4,
   "metadata": {
    "user_blocks": [
     "importAs",
     "importAs"
    ],
    "user_blocks_xml": "<xml xmlns=\"https://developers.google.com/blockly/xml\"><variables><variable id=\"+yh,Zg{hON]zy6D~.rH#\">px</variable><variable id=\"4+hh5$`7la4poj}NThGb\">pd</variable></variables><block type=\"importAs\" id=\"JKd}DIrGfV*IelKZ!4ls\" x=\"129\" y=\"219\"><field name=\"libraryName\">plotly.express</field><field name=\"VAR\" id=\"+yh,Zg{hON]zy6D~.rH#\">px</field><next><block type=\"importAs\" id=\"ml;eEF_WY:%m)CrF]n=F\"><field name=\"libraryName\">pandas</field><field name=\"VAR\" id=\"4+hh5$`7la4poj}NThGb\">pd</field></block></next></block></xml>",
    "user_code_from_blocks": "import plotly.express as px\nimport pandas as pd\n"
   },
   "outputs": [],
   "source": [
    "import plotly.express as px\n",
    "import pandas as pd\n",
    "\n",
    "#<xml xmlns=\"https://developers.google.com/blockly/xml\"><variables><variable id=\"+yh,Zg{hON]zy6D~.rH#\">px</variable><variable id=\"4+hh5$`7la4poj}NThGb\">pd</variable></variables><block type=\"importAs\" id=\"JKd}DIrGfV*IelKZ!4ls\" x=\"129\" y=\"219\"><field name=\"libraryName\">plotly.express</field><field name=\"VAR\" id=\"+yh,Zg{hON]zy6D~.rH#\">px</field><next><block type=\"importAs\" id=\"ml;eEF_WY:%m)CrF]n=F\"><field name=\"libraryName\">pandas</field><field name=\"VAR\" id=\"4+hh5$`7la4poj}NThGb\">pd</field></block></next></block></xml>"
   ]
  },
  {
   "cell_type": "markdown",
   "metadata": {},
   "source": [
    "<!-- We will cover plotting and reading the following data visualizations in `plotly`:\n",
    "\n",
    "- scatter plots \n",
    "- line graphs\n",
    "- bar charts\n",
    "- box plots\n",
    "- plots for distributions (histograms and density plots)\n",
    "\n",
    "We will specifically use the `plotly.express` library for quick and easy plotting. \n",
    "\n",
    "Keep in mind: some of the same plots can be done `plotly.graph_objs` and `plotly.figure_factory`. These libraries also allow for additional (and more complicated) plots or have additional flexibility.  -->"
   ]
  },
  {
   "cell_type": "markdown",
   "metadata": {},
   "source": [
    "## Load data"
   ]
  },
  {
   "cell_type": "markdown",
   "metadata": {},
   "source": [
    "Load `\"datasets/cereal.csv\"` into a dataframe and display the dataframe."
   ]
  },
  {
   "cell_type": "code",
   "execution_count": 8,
   "metadata": {
    "user_blocks": [
     "variables_set",
     "varDoMethod",
     "text",
     "variables_get"
    ],
    "user_blocks_xml": "<xml xmlns=\"https://developers.google.com/blockly/xml\"><variables><variable id=\"1m+6=s7NsBC*q3sFfiW%\">dataframe</variable><variable id=\"4+hh5$`7la4poj}NThGb\">pd</variable></variables><block type=\"variables_set\" id=\"eM|rNiy,R{-p1p$dVAR6\" x=\"0\" y=\"0\"><field name=\"VAR\" id=\"1m+6=s7NsBC*q3sFfiW%\">dataframe</field><value name=\"VALUE\"><block type=\"varDoMethod\" id=\".?df*Uxa+7wJ725Tdbys\"><mutation items=\"1\"></mutation><field name=\"VAR\" id=\"4+hh5$`7la4poj}NThGb\">pd</field><field name=\"MEMBER\">read_csv</field><data>pd:read_csv</data><value name=\"ADD0\"><block type=\"text\" id=\"BmGeXu-tK(kl.et,@l=H\"><field name=\"TEXT\">datasets/cereal.csv</field></block></value></block></value></block><block type=\"variables_get\" id=\"91r[]xd;.mrehlB8@4Gm\" x=\"61\" y=\"66\"><field name=\"VAR\" id=\"1m+6=s7NsBC*q3sFfiW%\">dataframe</field></block></xml>",
    "user_code_from_blocks": "dataframe = pd.read_csv('datasets/cereal.csv')\n\ndataframe\n"
   },
   "outputs": [
    {
     "data": {
      "text/html": [
       "<div>\n",
       "<style scoped>\n",
       "    .dataframe tbody tr th:only-of-type {\n",
       "        vertical-align: middle;\n",
       "    }\n",
       "\n",
       "    .dataframe tbody tr th {\n",
       "        vertical-align: top;\n",
       "    }\n",
       "\n",
       "    .dataframe thead th {\n",
       "        text-align: right;\n",
       "    }\n",
       "</style>\n",
       "<table border=\"1\" class=\"dataframe\">\n",
       "  <thead>\n",
       "    <tr style=\"text-align: right;\">\n",
       "      <th></th>\n",
       "      <th>name</th>\n",
       "      <th>mfr</th>\n",
       "      <th>type</th>\n",
       "      <th>calories</th>\n",
       "      <th>protein</th>\n",
       "      <th>fat</th>\n",
       "      <th>sodium</th>\n",
       "      <th>fiber</th>\n",
       "      <th>carbo</th>\n",
       "      <th>sugars</th>\n",
       "      <th>potass</th>\n",
       "      <th>vitamins</th>\n",
       "      <th>shelf</th>\n",
       "      <th>weight</th>\n",
       "      <th>cups</th>\n",
       "      <th>rating</th>\n",
       "    </tr>\n",
       "  </thead>\n",
       "  <tbody>\n",
       "    <tr>\n",
       "      <th>0</th>\n",
       "      <td>100% Bran</td>\n",
       "      <td>N</td>\n",
       "      <td>C</td>\n",
       "      <td>70</td>\n",
       "      <td>4</td>\n",
       "      <td>1</td>\n",
       "      <td>130</td>\n",
       "      <td>10.0</td>\n",
       "      <td>5.0</td>\n",
       "      <td>6.0</td>\n",
       "      <td>280.0</td>\n",
       "      <td>25</td>\n",
       "      <td>3</td>\n",
       "      <td>1.0</td>\n",
       "      <td>0.33</td>\n",
       "      <td>68.402973</td>\n",
       "    </tr>\n",
       "    <tr>\n",
       "      <th>1</th>\n",
       "      <td>100% Natural Bran</td>\n",
       "      <td>Q</td>\n",
       "      <td>C</td>\n",
       "      <td>120</td>\n",
       "      <td>3</td>\n",
       "      <td>5</td>\n",
       "      <td>15</td>\n",
       "      <td>2.0</td>\n",
       "      <td>8.0</td>\n",
       "      <td>8.0</td>\n",
       "      <td>135.0</td>\n",
       "      <td>0</td>\n",
       "      <td>3</td>\n",
       "      <td>1.0</td>\n",
       "      <td>1.00</td>\n",
       "      <td>33.983679</td>\n",
       "    </tr>\n",
       "    <tr>\n",
       "      <th>2</th>\n",
       "      <td>All-Bran</td>\n",
       "      <td>K</td>\n",
       "      <td>C</td>\n",
       "      <td>70</td>\n",
       "      <td>4</td>\n",
       "      <td>1</td>\n",
       "      <td>260</td>\n",
       "      <td>9.0</td>\n",
       "      <td>7.0</td>\n",
       "      <td>5.0</td>\n",
       "      <td>320.0</td>\n",
       "      <td>25</td>\n",
       "      <td>3</td>\n",
       "      <td>1.0</td>\n",
       "      <td>0.33</td>\n",
       "      <td>59.425505</td>\n",
       "    </tr>\n",
       "    <tr>\n",
       "      <th>3</th>\n",
       "      <td>All-Bran with Extra Fiber</td>\n",
       "      <td>K</td>\n",
       "      <td>C</td>\n",
       "      <td>50</td>\n",
       "      <td>4</td>\n",
       "      <td>0</td>\n",
       "      <td>140</td>\n",
       "      <td>14.0</td>\n",
       "      <td>8.0</td>\n",
       "      <td>0.0</td>\n",
       "      <td>330.0</td>\n",
       "      <td>25</td>\n",
       "      <td>3</td>\n",
       "      <td>1.0</td>\n",
       "      <td>0.50</td>\n",
       "      <td>93.704912</td>\n",
       "    </tr>\n",
       "    <tr>\n",
       "      <th>4</th>\n",
       "      <td>Almond Delight</td>\n",
       "      <td>R</td>\n",
       "      <td>C</td>\n",
       "      <td>110</td>\n",
       "      <td>2</td>\n",
       "      <td>2</td>\n",
       "      <td>200</td>\n",
       "      <td>1.0</td>\n",
       "      <td>14.0</td>\n",
       "      <td>8.0</td>\n",
       "      <td>NaN</td>\n",
       "      <td>25</td>\n",
       "      <td>3</td>\n",
       "      <td>1.0</td>\n",
       "      <td>0.75</td>\n",
       "      <td>34.384843</td>\n",
       "    </tr>\n",
       "    <tr>\n",
       "      <th>...</th>\n",
       "      <td>...</td>\n",
       "      <td>...</td>\n",
       "      <td>...</td>\n",
       "      <td>...</td>\n",
       "      <td>...</td>\n",
       "      <td>...</td>\n",
       "      <td>...</td>\n",
       "      <td>...</td>\n",
       "      <td>...</td>\n",
       "      <td>...</td>\n",
       "      <td>...</td>\n",
       "      <td>...</td>\n",
       "      <td>...</td>\n",
       "      <td>...</td>\n",
       "      <td>...</td>\n",
       "      <td>...</td>\n",
       "    </tr>\n",
       "    <tr>\n",
       "      <th>72</th>\n",
       "      <td>Triples</td>\n",
       "      <td>G</td>\n",
       "      <td>C</td>\n",
       "      <td>110</td>\n",
       "      <td>2</td>\n",
       "      <td>1</td>\n",
       "      <td>250</td>\n",
       "      <td>0.0</td>\n",
       "      <td>21.0</td>\n",
       "      <td>3.0</td>\n",
       "      <td>60.0</td>\n",
       "      <td>25</td>\n",
       "      <td>3</td>\n",
       "      <td>1.0</td>\n",
       "      <td>0.75</td>\n",
       "      <td>39.106174</td>\n",
       "    </tr>\n",
       "    <tr>\n",
       "      <th>73</th>\n",
       "      <td>Trix</td>\n",
       "      <td>G</td>\n",
       "      <td>C</td>\n",
       "      <td>110</td>\n",
       "      <td>1</td>\n",
       "      <td>1</td>\n",
       "      <td>140</td>\n",
       "      <td>0.0</td>\n",
       "      <td>13.0</td>\n",
       "      <td>12.0</td>\n",
       "      <td>25.0</td>\n",
       "      <td>25</td>\n",
       "      <td>2</td>\n",
       "      <td>1.0</td>\n",
       "      <td>1.00</td>\n",
       "      <td>27.753301</td>\n",
       "    </tr>\n",
       "    <tr>\n",
       "      <th>74</th>\n",
       "      <td>Wheat Chex</td>\n",
       "      <td>R</td>\n",
       "      <td>C</td>\n",
       "      <td>100</td>\n",
       "      <td>3</td>\n",
       "      <td>1</td>\n",
       "      <td>230</td>\n",
       "      <td>3.0</td>\n",
       "      <td>17.0</td>\n",
       "      <td>3.0</td>\n",
       "      <td>115.0</td>\n",
       "      <td>25</td>\n",
       "      <td>1</td>\n",
       "      <td>1.0</td>\n",
       "      <td>0.67</td>\n",
       "      <td>49.787445</td>\n",
       "    </tr>\n",
       "    <tr>\n",
       "      <th>75</th>\n",
       "      <td>Wheaties</td>\n",
       "      <td>G</td>\n",
       "      <td>C</td>\n",
       "      <td>100</td>\n",
       "      <td>3</td>\n",
       "      <td>1</td>\n",
       "      <td>200</td>\n",
       "      <td>3.0</td>\n",
       "      <td>17.0</td>\n",
       "      <td>3.0</td>\n",
       "      <td>110.0</td>\n",
       "      <td>25</td>\n",
       "      <td>1</td>\n",
       "      <td>1.0</td>\n",
       "      <td>1.00</td>\n",
       "      <td>51.592193</td>\n",
       "    </tr>\n",
       "    <tr>\n",
       "      <th>76</th>\n",
       "      <td>Wheaties Honey Gold</td>\n",
       "      <td>G</td>\n",
       "      <td>C</td>\n",
       "      <td>110</td>\n",
       "      <td>2</td>\n",
       "      <td>1</td>\n",
       "      <td>200</td>\n",
       "      <td>1.0</td>\n",
       "      <td>16.0</td>\n",
       "      <td>8.0</td>\n",
       "      <td>60.0</td>\n",
       "      <td>25</td>\n",
       "      <td>1</td>\n",
       "      <td>1.0</td>\n",
       "      <td>0.75</td>\n",
       "      <td>36.187559</td>\n",
       "    </tr>\n",
       "  </tbody>\n",
       "</table>\n",
       "<p>77 rows × 16 columns</p>\n",
       "</div>"
      ],
      "text/plain": [
       "                         name mfr type  calories  protein  fat  sodium  fiber  \\\n",
       "0                   100% Bran   N    C        70        4    1     130   10.0   \n",
       "1           100% Natural Bran   Q    C       120        3    5      15    2.0   \n",
       "2                    All-Bran   K    C        70        4    1     260    9.0   \n",
       "3   All-Bran with Extra Fiber   K    C        50        4    0     140   14.0   \n",
       "4              Almond Delight   R    C       110        2    2     200    1.0   \n",
       "..                        ...  ..  ...       ...      ...  ...     ...    ...   \n",
       "72                    Triples   G    C       110        2    1     250    0.0   \n",
       "73                       Trix   G    C       110        1    1     140    0.0   \n",
       "74                 Wheat Chex   R    C       100        3    1     230    3.0   \n",
       "75                   Wheaties   G    C       100        3    1     200    3.0   \n",
       "76        Wheaties Honey Gold   G    C       110        2    1     200    1.0   \n",
       "\n",
       "    carbo  sugars  potass  vitamins  shelf  weight  cups     rating  \n",
       "0     5.0     6.0   280.0        25      3     1.0  0.33  68.402973  \n",
       "1     8.0     8.0   135.0         0      3     1.0  1.00  33.983679  \n",
       "2     7.0     5.0   320.0        25      3     1.0  0.33  59.425505  \n",
       "3     8.0     0.0   330.0        25      3     1.0  0.50  93.704912  \n",
       "4    14.0     8.0     NaN        25      3     1.0  0.75  34.384843  \n",
       "..    ...     ...     ...       ...    ...     ...   ...        ...  \n",
       "72   21.0     3.0    60.0        25      3     1.0  0.75  39.106174  \n",
       "73   13.0    12.0    25.0        25      2     1.0  1.00  27.753301  \n",
       "74   17.0     3.0   115.0        25      1     1.0  0.67  49.787445  \n",
       "75   17.0     3.0   110.0        25      1     1.0  1.00  51.592193  \n",
       "76   16.0     8.0    60.0        25      1     1.0  0.75  36.187559  \n",
       "\n",
       "[77 rows x 16 columns]"
      ]
     },
     "execution_count": 8,
     "metadata": {},
     "output_type": "execute_result"
    }
   ],
   "source": [
    "dataframe = pd.read_csv('datasets/cereal.csv')\n",
    "\n",
    "dataframe\n",
    "\n",
    "#<xml xmlns=\"https://developers.google.com/blockly/xml\"><variables><variable id=\"1m+6=s7NsBC*q3sFfiW%\">dataframe</variable><variable id=\"4+hh5$`7la4poj}NThGb\">pd</variable></variables><block type=\"variables_set\" id=\"eM|rNiy,R{-p1p$dVAR6\" x=\"0\" y=\"0\"><field name=\"VAR\" id=\"1m+6=s7NsBC*q3sFfiW%\">dataframe</field><value name=\"VALUE\"><block type=\"varDoMethod\" id=\".?df*Uxa+7wJ725Tdbys\"><mutation items=\"1\"></mutation><field name=\"VAR\" id=\"4+hh5$`7la4poj}NThGb\">pd</field><field name=\"MEMBER\">read_csv</field><data>pd:read_csv</data><value name=\"ADD0\"><block type=\"text\" id=\"BmGeXu-tK(kl.et,@l=H\"><field name=\"TEXT\">datasets/cereal.csv</field></block></value></block></value></block><block type=\"variables_get\" id=\"91r[]xd;.mrehlB8@4Gm\" x=\"61\" y=\"66\"><field name=\"VAR\" id=\"1m+6=s7NsBC*q3sFfiW%\">dataframe</field></block></xml>"
   ]
  },
  {
   "cell_type": "markdown",
   "metadata": {},
   "source": [
    "## Research questions\n",
    "\n",
    "Any plot you make should be designed to address a question.\n",
    "At this point, we're **not making a statistical/quantitative argument** but rather a qualitative one.\n",
    "\n",
    "Here are some possible/plausible questions. \n",
    "For each one, think about the type of plot that might make the most sense.\n",
    "Then open up the dropdown to see the plot we're going to do.\n",
    "If you think we're choosing wrong, bring it up for discussion!"
   ]
  },
  {
   "cell_type": "markdown",
   "metadata": {},
   "source": [
    "#### Do fat and sugar go together?\n",
    "\n",
    "We might expect that fatty cereals have a lot of sugar and vice versa.\n",
    "What would be a good plot?\n",
    "\n",
    "<details>\n",
    "  <summary>Answer</summary>\n",
    "  \n",
    "  Since both variables are both ratio, a scatterplot makes sense. That way we can see the individual datapoints and even label them if we want.\n",
    "</details>"
   ]
  },
  {
   "cell_type": "markdown",
   "metadata": {},
   "source": [
    "#### Do some manufacturers have more sugar in their cereals than others?\n",
    "\n",
    "Maybe all manufacturers have similar product lines, but maybe some specialize in sugary cereal.\n",
    "What would be a good plot?\n",
    "\n",
    "<details>\n",
    "  <summary>Answer</summary>\n",
    "  \n",
    "  Since manufacturer is nominal and we want to compare manufacturers on a single value, a barplot makes sense. Then we can use the average amount of sugar for each one.\n",
    "</details>"
   ]
  },
  {
   "cell_type": "markdown",
   "metadata": {},
   "source": [
    "#### How do hot and cold cereals compare on healthy attributes like protein, fiber, and vitamins?\n",
    "\n",
    "Hot cereals are often more traditional and less processed, so maybe they have a better nutritional profile.\n",
    "What would be a good plot?\n",
    "\n",
    "<details>\n",
    "  <summary>Answer</summary>\n",
    "  \n",
    "  Since hot/cold is nominal and we want to compare them on multiple values, a line plot makes sense. We would then plot each healthy attribute as its own line on the plot.\n",
    "</details>"
   ]
  },
  {
   "cell_type": "markdown",
   "metadata": {},
   "source": [
    "#### Is protein approximately normally distributed, or are their cereals with unusually high and low amounts of protein?\n",
    "\n",
    "If protein is not being manipulated by manufacturers, we'd expect it to be approximately normal. But if manufacturers are intentionally adding/removing protein, we might see that in the distribution of the variable.\n",
    "What would be a good plot?\n",
    "\n",
    "<details>\n",
    "  <summary>Answer</summary>\n",
    "  \n",
    "  Histograms are the only plot we've talked about for the distribution of a variable.\n",
    "</details>"
   ]
  },
  {
   "cell_type": "markdown",
   "metadata": {},
   "source": [
    "## Do fat and sugar go together?\n",
    "\n",
    "Make a scatterplot using `fat` and `sugars`"
   ]
  },
  {
   "cell_type": "code",
   "execution_count": 17,
   "metadata": {
    "user_blocks": [
     "varDoMethod",
     "variables_get",
     "dummyOutputCodeBlock",
     "dummyOutputCodeBlock"
    ],
    "user_blocks_xml": "<xml xmlns=\"https://developers.google.com/blockly/xml\"><variables><variable id=\"+yh,Zg{hON]zy6D~.rH#\">px</variable><variable id=\"1m+6=s7NsBC*q3sFfiW%\">dataframe</variable></variables><block type=\"varDoMethod\" id=\"7PkTI5@+A6#C}J7CTmyF\" x=\"0\" y=\"0\"><mutation items=\"3\"></mutation><field name=\"VAR\" id=\"+yh,Zg{hON]zy6D~.rH#\">px</field><field name=\"MEMBER\">scatter</field><data>px:scatter</data><value name=\"ADD0\"><block type=\"variables_get\" id=\"+5u=XIC-0Mj87=/ifBv[\"><field name=\"VAR\" id=\"1m+6=s7NsBC*q3sFfiW%\">dataframe</field></block></value><value name=\"ADD1\"><block type=\"dummyOutputCodeBlock\" id=\"LtVrpN-coFOhTc:miwq6\"><field name=\"CODE\">x='fat'</field></block></value><value name=\"ADD2\"><block type=\"dummyOutputCodeBlock\" id=\"}5K8sF:0wxux#%hkL6pJ\"><field name=\"CODE\">y='sugars'</field></block></value></block></xml>",
    "user_code_from_blocks": "px.scatter(dataframe,x='fat',y='sugars')\n"
   },
   "outputs": [
    {
     "data": {
      "application/vnd.plotly.v1+json": {
       "config": {
        "plotlyServerURL": "https://plot.ly"
       },
       "data": [
        {
         "hovertemplate": "fat=%{x}<br>sugars=%{y}<extra></extra>",
         "legendgroup": "",
         "marker": {
          "color": "#636efa",
          "symbol": "circle"
         },
         "mode": "markers",
         "name": "",
         "orientation": "v",
         "showlegend": false,
         "type": "scatter",
         "x": {
          "bdata": "AQUBAAICAAIBAAICAwIBAAAAAQMAAAEAAQAAAgABAAEBAAMCAQABAQECAQEDAwIBAQIAAgEAAAABAgECAAAAAAAAAQAAAQEBAQEBAQE=",
          "dtype": "i1"
         },
         "xaxis": "x",
         "y": {
          "bdata": "AAAAAAAAGEAAAAAAAAAgQAAAAAAAABRAAAAAAAAAAAAAAAAAAAAgQAAAAAAAACRAAAAAAAAALEAAAAAAAAAgQAAAAAAAABhAAAAAAAAAFEAAAAAAAAAoQAAAAAAAAPA/AAAAAAAAIkAAAAAAAAAcQAAAAAAAACpAAAAAAAAACEAAAAAAAAAAQAAAAAAAAChAAAAAAAAAKkAAAAAAAAAcQAAAAAAAAAAAAAAAAAAACEAAAAAAAAAkQAAAAAAAABRAAAAAAAAAKkAAAAAAAAAmQAAAAAAAABxAAAAAAAAAJEAAAAAAAAAoQAAAAAAAAChAAAAAAAAALkAAAAAAAAAiQAAAAAAAABRAAAAAAAAACEAAAAAAAAAQQAAAAAAAACZAAAAAAAAAJEAAAAAAAAAmQAAAAAAAABhAAAAAAAAAIkAAAAAAAAAIQAAAAAAAABhAAAAAAAAAKEAAAAAAAAAIQAAAAAAAACZAAAAAAAAAJkAAAAAAAAAqQAAAAAAAABhAAAAAAAAAIkAAAAAAAAAcQAAAAAAAAABAAAAAAAAAJEAAAAAAAAAsQAAAAAAAAAhAAAAAAAAAAAAAAAAAAAAAAAAAAAAAABhAAAAAAAAA+H8AAAAAAAAoQAAAAAAAACBAAAAAAAAAGEAAAAAAAAAAQAAAAAAAAAhAAAAAAAAAAAAAAAAAAAAAAAAAAAAAAAAAAAAAAAAALkAAAAAAAAAIQAAAAAAAABRAAAAAAAAACEAAAAAAAAAsQAAAAAAAAAhAAAAAAAAACEAAAAAAAAAoQAAAAAAAAAhAAAAAAAAACEAAAAAAAAAgQA==",
          "dtype": "f8"
         },
         "yaxis": "y"
        }
       ],
       "layout": {
        "legend": {
         "tracegroupgap": 0
        },
        "margin": {
         "t": 60
        },
        "template": {
         "data": {
          "bar": [
           {
            "error_x": {
             "color": "#2a3f5f"
            },
            "error_y": {
             "color": "#2a3f5f"
            },
            "marker": {
             "line": {
              "color": "#E5ECF6",
              "width": 0.5
             },
             "pattern": {
              "fillmode": "overlay",
              "size": 10,
              "solidity": 0.2
             }
            },
            "type": "bar"
           }
          ],
          "barpolar": [
           {
            "marker": {
             "line": {
              "color": "#E5ECF6",
              "width": 0.5
             },
             "pattern": {
              "fillmode": "overlay",
              "size": 10,
              "solidity": 0.2
             }
            },
            "type": "barpolar"
           }
          ],
          "carpet": [
           {
            "aaxis": {
             "endlinecolor": "#2a3f5f",
             "gridcolor": "white",
             "linecolor": "white",
             "minorgridcolor": "white",
             "startlinecolor": "#2a3f5f"
            },
            "baxis": {
             "endlinecolor": "#2a3f5f",
             "gridcolor": "white",
             "linecolor": "white",
             "minorgridcolor": "white",
             "startlinecolor": "#2a3f5f"
            },
            "type": "carpet"
           }
          ],
          "choropleth": [
           {
            "colorbar": {
             "outlinewidth": 0,
             "ticks": ""
            },
            "type": "choropleth"
           }
          ],
          "contour": [
           {
            "colorbar": {
             "outlinewidth": 0,
             "ticks": ""
            },
            "colorscale": [
             [
              0,
              "#0d0887"
             ],
             [
              0.1111111111111111,
              "#46039f"
             ],
             [
              0.2222222222222222,
              "#7201a8"
             ],
             [
              0.3333333333333333,
              "#9c179e"
             ],
             [
              0.4444444444444444,
              "#bd3786"
             ],
             [
              0.5555555555555556,
              "#d8576b"
             ],
             [
              0.6666666666666666,
              "#ed7953"
             ],
             [
              0.7777777777777778,
              "#fb9f3a"
             ],
             [
              0.8888888888888888,
              "#fdca26"
             ],
             [
              1,
              "#f0f921"
             ]
            ],
            "type": "contour"
           }
          ],
          "contourcarpet": [
           {
            "colorbar": {
             "outlinewidth": 0,
             "ticks": ""
            },
            "type": "contourcarpet"
           }
          ],
          "heatmap": [
           {
            "colorbar": {
             "outlinewidth": 0,
             "ticks": ""
            },
            "colorscale": [
             [
              0,
              "#0d0887"
             ],
             [
              0.1111111111111111,
              "#46039f"
             ],
             [
              0.2222222222222222,
              "#7201a8"
             ],
             [
              0.3333333333333333,
              "#9c179e"
             ],
             [
              0.4444444444444444,
              "#bd3786"
             ],
             [
              0.5555555555555556,
              "#d8576b"
             ],
             [
              0.6666666666666666,
              "#ed7953"
             ],
             [
              0.7777777777777778,
              "#fb9f3a"
             ],
             [
              0.8888888888888888,
              "#fdca26"
             ],
             [
              1,
              "#f0f921"
             ]
            ],
            "type": "heatmap"
           }
          ],
          "histogram": [
           {
            "marker": {
             "pattern": {
              "fillmode": "overlay",
              "size": 10,
              "solidity": 0.2
             }
            },
            "type": "histogram"
           }
          ],
          "histogram2d": [
           {
            "colorbar": {
             "outlinewidth": 0,
             "ticks": ""
            },
            "colorscale": [
             [
              0,
              "#0d0887"
             ],
             [
              0.1111111111111111,
              "#46039f"
             ],
             [
              0.2222222222222222,
              "#7201a8"
             ],
             [
              0.3333333333333333,
              "#9c179e"
             ],
             [
              0.4444444444444444,
              "#bd3786"
             ],
             [
              0.5555555555555556,
              "#d8576b"
             ],
             [
              0.6666666666666666,
              "#ed7953"
             ],
             [
              0.7777777777777778,
              "#fb9f3a"
             ],
             [
              0.8888888888888888,
              "#fdca26"
             ],
             [
              1,
              "#f0f921"
             ]
            ],
            "type": "histogram2d"
           }
          ],
          "histogram2dcontour": [
           {
            "colorbar": {
             "outlinewidth": 0,
             "ticks": ""
            },
            "colorscale": [
             [
              0,
              "#0d0887"
             ],
             [
              0.1111111111111111,
              "#46039f"
             ],
             [
              0.2222222222222222,
              "#7201a8"
             ],
             [
              0.3333333333333333,
              "#9c179e"
             ],
             [
              0.4444444444444444,
              "#bd3786"
             ],
             [
              0.5555555555555556,
              "#d8576b"
             ],
             [
              0.6666666666666666,
              "#ed7953"
             ],
             [
              0.7777777777777778,
              "#fb9f3a"
             ],
             [
              0.8888888888888888,
              "#fdca26"
             ],
             [
              1,
              "#f0f921"
             ]
            ],
            "type": "histogram2dcontour"
           }
          ],
          "mesh3d": [
           {
            "colorbar": {
             "outlinewidth": 0,
             "ticks": ""
            },
            "type": "mesh3d"
           }
          ],
          "parcoords": [
           {
            "line": {
             "colorbar": {
              "outlinewidth": 0,
              "ticks": ""
             }
            },
            "type": "parcoords"
           }
          ],
          "pie": [
           {
            "automargin": true,
            "type": "pie"
           }
          ],
          "scatter": [
           {
            "fillpattern": {
             "fillmode": "overlay",
             "size": 10,
             "solidity": 0.2
            },
            "type": "scatter"
           }
          ],
          "scatter3d": [
           {
            "line": {
             "colorbar": {
              "outlinewidth": 0,
              "ticks": ""
             }
            },
            "marker": {
             "colorbar": {
              "outlinewidth": 0,
              "ticks": ""
             }
            },
            "type": "scatter3d"
           }
          ],
          "scattercarpet": [
           {
            "marker": {
             "colorbar": {
              "outlinewidth": 0,
              "ticks": ""
             }
            },
            "type": "scattercarpet"
           }
          ],
          "scattergeo": [
           {
            "marker": {
             "colorbar": {
              "outlinewidth": 0,
              "ticks": ""
             }
            },
            "type": "scattergeo"
           }
          ],
          "scattergl": [
           {
            "marker": {
             "colorbar": {
              "outlinewidth": 0,
              "ticks": ""
             }
            },
            "type": "scattergl"
           }
          ],
          "scattermap": [
           {
            "marker": {
             "colorbar": {
              "outlinewidth": 0,
              "ticks": ""
             }
            },
            "type": "scattermap"
           }
          ],
          "scattermapbox": [
           {
            "marker": {
             "colorbar": {
              "outlinewidth": 0,
              "ticks": ""
             }
            },
            "type": "scattermapbox"
           }
          ],
          "scatterpolar": [
           {
            "marker": {
             "colorbar": {
              "outlinewidth": 0,
              "ticks": ""
             }
            },
            "type": "scatterpolar"
           }
          ],
          "scatterpolargl": [
           {
            "marker": {
             "colorbar": {
              "outlinewidth": 0,
              "ticks": ""
             }
            },
            "type": "scatterpolargl"
           }
          ],
          "scatterternary": [
           {
            "marker": {
             "colorbar": {
              "outlinewidth": 0,
              "ticks": ""
             }
            },
            "type": "scatterternary"
           }
          ],
          "surface": [
           {
            "colorbar": {
             "outlinewidth": 0,
             "ticks": ""
            },
            "colorscale": [
             [
              0,
              "#0d0887"
             ],
             [
              0.1111111111111111,
              "#46039f"
             ],
             [
              0.2222222222222222,
              "#7201a8"
             ],
             [
              0.3333333333333333,
              "#9c179e"
             ],
             [
              0.4444444444444444,
              "#bd3786"
             ],
             [
              0.5555555555555556,
              "#d8576b"
             ],
             [
              0.6666666666666666,
              "#ed7953"
             ],
             [
              0.7777777777777778,
              "#fb9f3a"
             ],
             [
              0.8888888888888888,
              "#fdca26"
             ],
             [
              1,
              "#f0f921"
             ]
            ],
            "type": "surface"
           }
          ],
          "table": [
           {
            "cells": {
             "fill": {
              "color": "#EBF0F8"
             },
             "line": {
              "color": "white"
             }
            },
            "header": {
             "fill": {
              "color": "#C8D4E3"
             },
             "line": {
              "color": "white"
             }
            },
            "type": "table"
           }
          ]
         },
         "layout": {
          "annotationdefaults": {
           "arrowcolor": "#2a3f5f",
           "arrowhead": 0,
           "arrowwidth": 1
          },
          "autotypenumbers": "strict",
          "coloraxis": {
           "colorbar": {
            "outlinewidth": 0,
            "ticks": ""
           }
          },
          "colorscale": {
           "diverging": [
            [
             0,
             "#8e0152"
            ],
            [
             0.1,
             "#c51b7d"
            ],
            [
             0.2,
             "#de77ae"
            ],
            [
             0.3,
             "#f1b6da"
            ],
            [
             0.4,
             "#fde0ef"
            ],
            [
             0.5,
             "#f7f7f7"
            ],
            [
             0.6,
             "#e6f5d0"
            ],
            [
             0.7,
             "#b8e186"
            ],
            [
             0.8,
             "#7fbc41"
            ],
            [
             0.9,
             "#4d9221"
            ],
            [
             1,
             "#276419"
            ]
           ],
           "sequential": [
            [
             0,
             "#0d0887"
            ],
            [
             0.1111111111111111,
             "#46039f"
            ],
            [
             0.2222222222222222,
             "#7201a8"
            ],
            [
             0.3333333333333333,
             "#9c179e"
            ],
            [
             0.4444444444444444,
             "#bd3786"
            ],
            [
             0.5555555555555556,
             "#d8576b"
            ],
            [
             0.6666666666666666,
             "#ed7953"
            ],
            [
             0.7777777777777778,
             "#fb9f3a"
            ],
            [
             0.8888888888888888,
             "#fdca26"
            ],
            [
             1,
             "#f0f921"
            ]
           ],
           "sequentialminus": [
            [
             0,
             "#0d0887"
            ],
            [
             0.1111111111111111,
             "#46039f"
            ],
            [
             0.2222222222222222,
             "#7201a8"
            ],
            [
             0.3333333333333333,
             "#9c179e"
            ],
            [
             0.4444444444444444,
             "#bd3786"
            ],
            [
             0.5555555555555556,
             "#d8576b"
            ],
            [
             0.6666666666666666,
             "#ed7953"
            ],
            [
             0.7777777777777778,
             "#fb9f3a"
            ],
            [
             0.8888888888888888,
             "#fdca26"
            ],
            [
             1,
             "#f0f921"
            ]
           ]
          },
          "colorway": [
           "#636efa",
           "#EF553B",
           "#00cc96",
           "#ab63fa",
           "#FFA15A",
           "#19d3f3",
           "#FF6692",
           "#B6E880",
           "#FF97FF",
           "#FECB52"
          ],
          "font": {
           "color": "#2a3f5f"
          },
          "geo": {
           "bgcolor": "white",
           "lakecolor": "white",
           "landcolor": "#E5ECF6",
           "showlakes": true,
           "showland": true,
           "subunitcolor": "white"
          },
          "hoverlabel": {
           "align": "left"
          },
          "hovermode": "closest",
          "mapbox": {
           "style": "light"
          },
          "paper_bgcolor": "white",
          "plot_bgcolor": "#E5ECF6",
          "polar": {
           "angularaxis": {
            "gridcolor": "white",
            "linecolor": "white",
            "ticks": ""
           },
           "bgcolor": "#E5ECF6",
           "radialaxis": {
            "gridcolor": "white",
            "linecolor": "white",
            "ticks": ""
           }
          },
          "scene": {
           "xaxis": {
            "backgroundcolor": "#E5ECF6",
            "gridcolor": "white",
            "gridwidth": 2,
            "linecolor": "white",
            "showbackground": true,
            "ticks": "",
            "zerolinecolor": "white"
           },
           "yaxis": {
            "backgroundcolor": "#E5ECF6",
            "gridcolor": "white",
            "gridwidth": 2,
            "linecolor": "white",
            "showbackground": true,
            "ticks": "",
            "zerolinecolor": "white"
           },
           "zaxis": {
            "backgroundcolor": "#E5ECF6",
            "gridcolor": "white",
            "gridwidth": 2,
            "linecolor": "white",
            "showbackground": true,
            "ticks": "",
            "zerolinecolor": "white"
           }
          },
          "shapedefaults": {
           "line": {
            "color": "#2a3f5f"
           }
          },
          "ternary": {
           "aaxis": {
            "gridcolor": "white",
            "linecolor": "white",
            "ticks": ""
           },
           "baxis": {
            "gridcolor": "white",
            "linecolor": "white",
            "ticks": ""
           },
           "bgcolor": "#E5ECF6",
           "caxis": {
            "gridcolor": "white",
            "linecolor": "white",
            "ticks": ""
           }
          },
          "title": {
           "x": 0.05
          },
          "xaxis": {
           "automargin": true,
           "gridcolor": "white",
           "linecolor": "white",
           "ticks": "",
           "title": {
            "standoff": 15
           },
           "zerolinecolor": "white",
           "zerolinewidth": 2
          },
          "yaxis": {
           "automargin": true,
           "gridcolor": "white",
           "linecolor": "white",
           "ticks": "",
           "title": {
            "standoff": 15
           },
           "zerolinecolor": "white",
           "zerolinewidth": 2
          }
         }
        },
        "xaxis": {
         "anchor": "y",
         "domain": [
          0,
          1
         ],
         "title": {
          "text": "fat"
         }
        },
        "yaxis": {
         "anchor": "x",
         "domain": [
          0,
          1
         ],
         "title": {
          "text": "sugars"
         }
        }
       }
      },
      "image/png": "[encoded data removed]"
     },
     "metadata": {},
     "output_type": "display_data"
    }
   ],
   "source": [
    "px.scatter(dataframe,x='fat',y='sugars')\n",
    "\n",
    "#<xml xmlns=\"https://developers.google.com/blockly/xml\"><variables><variable id=\"+yh,Zg{hON]zy6D~.rH#\">px</variable><variable id=\"1m+6=s7NsBC*q3sFfiW%\">dataframe</variable></variables><block type=\"varDoMethod\" id=\"7PkTI5@+A6#C}J7CTmyF\" x=\"0\" y=\"0\"><mutation items=\"3\"></mutation><field name=\"VAR\" id=\"+yh,Zg{hON]zy6D~.rH#\">px</field><field name=\"MEMBER\">scatter</field><data>px:scatter</data><value name=\"ADD0\"><block type=\"variables_get\" id=\"+5u=XIC-0Mj87=/ifBv[\"><field name=\"VAR\" id=\"1m+6=s7NsBC*q3sFfiW%\">dataframe</field></block></value><value name=\"ADD1\"><block type=\"dummyOutputCodeBlock\" id=\"LtVrpN-coFOhTc:miwq6\"><field name=\"CODE\">x='fat'</field></block></value><value name=\"ADD2\"><block type=\"dummyOutputCodeBlock\" id=\"}5K8sF:0wxux#%hkL6pJ\"><field name=\"CODE\">y='sugars'</field></block></value></block></xml>"
   ]
  },
  {
   "cell_type": "markdown",
   "metadata": {},
   "source": [
    "<details>\n",
    "  <summary>Interpretation</summary>\n",
    "  \n",
    "That's a curious graph!\n",
    "Notice first that although there are 70+ cereals, we're only seeing about 35 points.\n",
    "That's because some cereals have the same values for sugar and fat, so they are plotted on top of each other - something to watch out for!\n",
    "\n",
    "Overall it looks like as fat increases, sugar goes to the middle of the range, i.e. about 7, rather than going high with it.\n",
    "</details>\n"
   ]
  },
  {
   "cell_type": "markdown",
   "metadata": {},
   "source": [
    "## Do some manufacturers have more sugar in their cereals than others?\n",
    "\n",
    "First, group by manufacturers (`mfr`)."
   ]
  },
  {
   "cell_type": "code",
   "execution_count": 55,
   "metadata": {
    "user_blocks": [
     "variables_set",
     "varDoMethod",
     "text",
     "varDoMethod",
     "dummyOutputCodeBlock"
    ],
    "user_blocks_xml": "<xml xmlns=\"https://developers.google.com/blockly/xml\"><variables><variable id=\"kvljy3ud{{GyqoMiju^J\">groups</variable><variable id=\"1m+6=s7NsBC*q3sFfiW%\">dataframe</variable></variables><block type=\"variables_set\" id=\"}Aojc:Gq,l`Zaa-*_+nu\" x=\"0\" y=\"0\"><field name=\"VAR\" id=\"kvljy3ud{{GyqoMiju^J\">groups</field><value name=\"VALUE\"><block type=\"varDoMethod\" id=\"7N0jg3hubfaIZAtm;0@d\"><mutation items=\"1\"></mutation><field name=\"VAR\" id=\"1m+6=s7NsBC*q3sFfiW%\">dataframe</field><field name=\"MEMBER\">groupby</field><data>dataframe:groupby</data><value name=\"ADD0\"><block type=\"text\" id=\"8PPe92Ny#t%l|xwhHi_v\"><field name=\"TEXT\">mfr</field></block></value></block></value></block><block type=\"varDoMethod\" id=\"`fP.Y+lhI~D+_$^[kr*8\" x=\"33\" y=\"134\"><mutation items=\"1\"></mutation><field name=\"VAR\" id=\"kvljy3ud{{GyqoMiju^J\">groups</field><field name=\"MEMBER\">mean</field><data>groups:mean</data><value name=\"ADD0\"><block type=\"dummyOutputCodeBlock\" id=\"Ndcm|7UihaPHz)3Khl^@\"><field name=\"CODE\">numeric_only=True</field></block></value></block></xml>",
    "user_code_from_blocks": "groups = dataframe.groupby('mfr')\n\ngroups.mean(numeric_only=True)\n"
   },
   "outputs": [
    {
     "data": {
      "text/html": [
       "<div>\n",
       "<style scoped>\n",
       "    .dataframe tbody tr th:only-of-type {\n",
       "        vertical-align: middle;\n",
       "    }\n",
       "\n",
       "    .dataframe tbody tr th {\n",
       "        vertical-align: top;\n",
       "    }\n",
       "\n",
       "    .dataframe thead th {\n",
       "        text-align: right;\n",
       "    }\n",
       "</style>\n",
       "<table border=\"1\" class=\"dataframe\">\n",
       "  <thead>\n",
       "    <tr style=\"text-align: right;\">\n",
       "      <th></th>\n",
       "      <th>calories</th>\n",
       "      <th>protein</th>\n",
       "      <th>fat</th>\n",
       "      <th>sodium</th>\n",
       "      <th>fiber</th>\n",
       "      <th>carbo</th>\n",
       "      <th>sugars</th>\n",
       "      <th>potass</th>\n",
       "      <th>vitamins</th>\n",
       "      <th>shelf</th>\n",
       "      <th>weight</th>\n",
       "      <th>cups</th>\n",
       "      <th>rating</th>\n",
       "    </tr>\n",
       "    <tr>\n",
       "      <th>mfr</th>\n",
       "      <th></th>\n",
       "      <th></th>\n",
       "      <th></th>\n",
       "      <th></th>\n",
       "      <th></th>\n",
       "      <th></th>\n",
       "      <th></th>\n",
       "      <th></th>\n",
       "      <th></th>\n",
       "      <th></th>\n",
       "      <th></th>\n",
       "      <th></th>\n",
       "      <th></th>\n",
       "    </tr>\n",
       "  </thead>\n",
       "  <tbody>\n",
       "    <tr>\n",
       "      <th>A</th>\n",
       "      <td>100.000000</td>\n",
       "      <td>4.000000</td>\n",
       "      <td>1.000000</td>\n",
       "      <td>0.000000</td>\n",
       "      <td>0.000000</td>\n",
       "      <td>16.000000</td>\n",
       "      <td>3.000000</td>\n",
       "      <td>95.000000</td>\n",
       "      <td>25.000000</td>\n",
       "      <td>2.000000</td>\n",
       "      <td>1.000000</td>\n",
       "      <td>1.000000</td>\n",
       "      <td>54.850917</td>\n",
       "    </tr>\n",
       "    <tr>\n",
       "      <th>G</th>\n",
       "      <td>111.363636</td>\n",
       "      <td>2.318182</td>\n",
       "      <td>1.363636</td>\n",
       "      <td>200.454545</td>\n",
       "      <td>1.272727</td>\n",
       "      <td>14.727273</td>\n",
       "      <td>7.954545</td>\n",
       "      <td>85.227273</td>\n",
       "      <td>35.227273</td>\n",
       "      <td>2.136364</td>\n",
       "      <td>1.049091</td>\n",
       "      <td>0.875000</td>\n",
       "      <td>34.485852</td>\n",
       "    </tr>\n",
       "    <tr>\n",
       "      <th>K</th>\n",
       "      <td>108.695652</td>\n",
       "      <td>2.652174</td>\n",
       "      <td>0.608696</td>\n",
       "      <td>174.782609</td>\n",
       "      <td>2.739130</td>\n",
       "      <td>15.130435</td>\n",
       "      <td>7.565217</td>\n",
       "      <td>103.043478</td>\n",
       "      <td>34.782609</td>\n",
       "      <td>2.347826</td>\n",
       "      <td>1.077826</td>\n",
       "      <td>0.796087</td>\n",
       "      <td>44.038462</td>\n",
       "    </tr>\n",
       "    <tr>\n",
       "      <th>N</th>\n",
       "      <td>86.666667</td>\n",
       "      <td>2.833333</td>\n",
       "      <td>0.166667</td>\n",
       "      <td>37.500000</td>\n",
       "      <td>4.000000</td>\n",
       "      <td>16.000000</td>\n",
       "      <td>1.833333</td>\n",
       "      <td>145.000000</td>\n",
       "      <td>8.333333</td>\n",
       "      <td>1.666667</td>\n",
       "      <td>0.971667</td>\n",
       "      <td>0.778333</td>\n",
       "      <td>67.968567</td>\n",
       "    </tr>\n",
       "    <tr>\n",
       "      <th>P</th>\n",
       "      <td>108.888889</td>\n",
       "      <td>2.444444</td>\n",
       "      <td>0.888889</td>\n",
       "      <td>146.111111</td>\n",
       "      <td>2.777778</td>\n",
       "      <td>13.222222</td>\n",
       "      <td>8.777778</td>\n",
       "      <td>113.888889</td>\n",
       "      <td>25.000000</td>\n",
       "      <td>2.444444</td>\n",
       "      <td>1.064444</td>\n",
       "      <td>0.714444</td>\n",
       "      <td>41.705744</td>\n",
       "    </tr>\n",
       "    <tr>\n",
       "      <th>Q</th>\n",
       "      <td>95.000000</td>\n",
       "      <td>2.625000</td>\n",
       "      <td>1.750000</td>\n",
       "      <td>92.500000</td>\n",
       "      <td>1.337500</td>\n",
       "      <td>11.571429</td>\n",
       "      <td>6.142857</td>\n",
       "      <td>74.375000</td>\n",
       "      <td>12.500000</td>\n",
       "      <td>2.375000</td>\n",
       "      <td>0.875000</td>\n",
       "      <td>0.823750</td>\n",
       "      <td>42.915990</td>\n",
       "    </tr>\n",
       "    <tr>\n",
       "      <th>R</th>\n",
       "      <td>115.000000</td>\n",
       "      <td>2.500000</td>\n",
       "      <td>1.250000</td>\n",
       "      <td>198.125000</td>\n",
       "      <td>1.875000</td>\n",
       "      <td>17.625000</td>\n",
       "      <td>6.125000</td>\n",
       "      <td>102.142857</td>\n",
       "      <td>25.000000</td>\n",
       "      <td>2.000000</td>\n",
       "      <td>1.000000</td>\n",
       "      <td>0.871250</td>\n",
       "      <td>41.542997</td>\n",
       "    </tr>\n",
       "  </tbody>\n",
       "</table>\n",
       "</div>"
      ],
      "text/plain": [
       "       calories   protein       fat      sodium     fiber      carbo  \\\n",
       "mfr                                                                    \n",
       "A    100.000000  4.000000  1.000000    0.000000  0.000000  16.000000   \n",
       "G    111.363636  2.318182  1.363636  200.454545  1.272727  14.727273   \n",
       "K    108.695652  2.652174  0.608696  174.782609  2.739130  15.130435   \n",
       "N     86.666667  2.833333  0.166667   37.500000  4.000000  16.000000   \n",
       "P    108.888889  2.444444  0.888889  146.111111  2.777778  13.222222   \n",
       "Q     95.000000  2.625000  1.750000   92.500000  1.337500  11.571429   \n",
       "R    115.000000  2.500000  1.250000  198.125000  1.875000  17.625000   \n",
       "\n",
       "       sugars      potass   vitamins     shelf    weight      cups     rating  \n",
       "mfr                                                                            \n",
       "A    3.000000   95.000000  25.000000  2.000000  1.000000  1.000000  54.850917  \n",
       "G    7.954545   85.227273  35.227273  2.136364  1.049091  0.875000  34.485852  \n",
       "K    7.565217  103.043478  34.782609  2.347826  1.077826  0.796087  44.038462  \n",
       "N    1.833333  145.000000   8.333333  1.666667  0.971667  0.778333  67.968567  \n",
       "P    8.777778  113.888889  25.000000  2.444444  1.064444  0.714444  41.705744  \n",
       "Q    6.142857   74.375000  12.500000  2.375000  0.875000  0.823750  42.915990  \n",
       "R    6.125000  102.142857  25.000000  2.000000  1.000000  0.871250  41.542997  "
      ]
     },
     "execution_count": 55,
     "metadata": {},
     "output_type": "execute_result"
    }
   ],
   "source": [
    "groups = dataframe.groupby('mfr')\n",
    "\n",
    "groups.mean(numeric_only=True)\n",
    "\n",
    "#<xml xmlns=\"https://developers.google.com/blockly/xml\"><variables><variable id=\"kvljy3ud{{GyqoMiju^J\">groups</variable><variable id=\"1m+6=s7NsBC*q3sFfiW%\">dataframe</variable></variables><block type=\"variables_set\" id=\"}Aojc:Gq,l`Zaa-*_+nu\" x=\"0\" y=\"0\"><field name=\"VAR\" id=\"kvljy3ud{{GyqoMiju^J\">groups</field><value name=\"VALUE\"><block type=\"varDoMethod\" id=\"7N0jg3hubfaIZAtm;0@d\"><mutation items=\"1\"></mutation><field name=\"VAR\" id=\"1m+6=s7NsBC*q3sFfiW%\">dataframe</field><field name=\"MEMBER\">groupby</field><data>dataframe:groupby</data><value name=\"ADD0\"><block type=\"text\" id=\"8PPe92Ny#t%l|xwhHi_v\"><field name=\"TEXT\">mfr</field></block></value></block></value></block><block type=\"varDoMethod\" id=\"`fP.Y+lhI~D+_$^[kr*8\" x=\"33\" y=\"134\"><mutation items=\"1\"></mutation><field name=\"VAR\" id=\"kvljy3ud{{GyqoMiju^J\">groups</field><field name=\"MEMBER\">mean</field><data>groups:mean</data><value name=\"ADD0\"><block type=\"dummyOutputCodeBlock\" id=\"Ndcm|7UihaPHz)3Khl^@\"><field name=\"CODE\">numeric_only=True</field></block></value></block></xml>"
   ]
  },
  {
   "cell_type": "markdown",
   "metadata": {},
   "source": [
    "Now make a barplot with the means of these groups for `sugars`."
   ]
  },
  {
   "cell_type": "code",
   "execution_count": 66,
   "metadata": {
    "user_blocks": [
     "varDoMethod",
     "varDoMethod",
     "dummyOutputCodeBlock",
     "dummyOutputCodeBlock"
    ],
    "user_blocks_xml": "<xml xmlns=\"https://developers.google.com/blockly/xml\"><variables><variable id=\"+yh,Zg{hON]zy6D~.rH#\">px</variable><variable id=\"kvljy3ud{{GyqoMiju^J\">groups</variable></variables><block type=\"varDoMethod\" id=\"7PkTI5@+A6#C}J7CTmyF\" x=\"154\" y=\"143\"><mutation items=\"2\"></mutation><field name=\"VAR\" id=\"+yh,Zg{hON]zy6D~.rH#\">px</field><field name=\"MEMBER\">bar</field><data>px:bar</data><value name=\"ADD0\"><block type=\"varDoMethod\" id=\"D8hJ~sZ}G*S_.m8H4Lm)\"><mutation items=\"1\"></mutation><field name=\"VAR\" id=\"kvljy3ud{{GyqoMiju^J\">groups</field><field name=\"MEMBER\">mean</field><data>groups:mean</data><value name=\"ADD0\"><block type=\"dummyOutputCodeBlock\" id=\"S72(JvqkcQ)6q_7Fw.*)\"><field name=\"CODE\">numeric_only=True</field></block></value></block></value><value name=\"ADD1\"><block type=\"dummyOutputCodeBlock\" id=\"[E_+Hw=gVTJPO$^~e}Z$\"><field name=\"CODE\"> y=\"sugars\"</field></block></value></block></xml>",
    "user_code_from_blocks": "px.bar(groups.mean(numeric_only=True),y=\"sugars\")\n"
   },
   "outputs": [
    {
     "data": {
      "application/vnd.plotly.v1+json": {
       "config": {
        "plotlyServerURL": "https://plot.ly"
       },
       "data": [
        {
         "hovertemplate": "mfr=%{x}<br>sugars=%{y}<extra></extra>",
         "legendgroup": "",
         "marker": {
          "color": "#636efa",
          "pattern": {
           "shape": ""
          }
         },
         "name": "",
         "orientation": "v",
         "showlegend": false,
         "textposition": "auto",
         "type": "bar",
         "x": [
          "A",
          "G",
          "K",
          "N",
          "P",
          "Q",
          "R"
         ],
         "xaxis": "x",
         "y": {
          "bdata": "AAAAAAAACEDRRRdddNEfQGQhC1nIQh5AVVVVVVVV/T/kOI7jOI4hQCVJkiRJkhhAAAAAAACAGEA=",
          "dtype": "f8"
         },
         "yaxis": "y"
        }
       ],
       "layout": {
        "barmode": "relative",
        "legend": {
         "tracegroupgap": 0
        },
        "margin": {
         "t": 60
        },
        "template": {
         "data": {
          "bar": [
           {
            "error_x": {
             "color": "#2a3f5f"
            },
            "error_y": {
             "color": "#2a3f5f"
            },
            "marker": {
             "line": {
              "color": "#E5ECF6",
              "width": 0.5
             },
             "pattern": {
              "fillmode": "overlay",
              "size": 10,
              "solidity": 0.2
             }
            },
            "type": "bar"
           }
          ],
          "barpolar": [
           {
            "marker": {
             "line": {
              "color": "#E5ECF6",
              "width": 0.5
             },
             "pattern": {
              "fillmode": "overlay",
              "size": 10,
              "solidity": 0.2
             }
            },
            "type": "barpolar"
           }
          ],
          "carpet": [
           {
            "aaxis": {
             "endlinecolor": "#2a3f5f",
             "gridcolor": "white",
             "linecolor": "white",
             "minorgridcolor": "white",
             "startlinecolor": "#2a3f5f"
            },
            "baxis": {
             "endlinecolor": "#2a3f5f",
             "gridcolor": "white",
             "linecolor": "white",
             "minorgridcolor": "white",
             "startlinecolor": "#2a3f5f"
            },
            "type": "carpet"
           }
          ],
          "choropleth": [
           {
            "colorbar": {
             "outlinewidth": 0,
             "ticks": ""
            },
            "type": "choropleth"
           }
          ],
          "contour": [
           {
            "colorbar": {
             "outlinewidth": 0,
             "ticks": ""
            },
            "colorscale": [
             [
              0,
              "#0d0887"
             ],
             [
              0.1111111111111111,
              "#46039f"
             ],
             [
              0.2222222222222222,
              "#7201a8"
             ],
             [
              0.3333333333333333,
              "#9c179e"
             ],
             [
              0.4444444444444444,
              "#bd3786"
             ],
             [
              0.5555555555555556,
              "#d8576b"
             ],
             [
              0.6666666666666666,
              "#ed7953"
             ],
             [
              0.7777777777777778,
              "#fb9f3a"
             ],
             [
              0.8888888888888888,
              "#fdca26"
             ],
             [
              1,
              "#f0f921"
             ]
            ],
            "type": "contour"
           }
          ],
          "contourcarpet": [
           {
            "colorbar": {
             "outlinewidth": 0,
             "ticks": ""
            },
            "type": "contourcarpet"
           }
          ],
          "heatmap": [
           {
            "colorbar": {
             "outlinewidth": 0,
             "ticks": ""
            },
            "colorscale": [
             [
              0,
              "#0d0887"
             ],
             [
              0.1111111111111111,
              "#46039f"
             ],
             [
              0.2222222222222222,
              "#7201a8"
             ],
             [
              0.3333333333333333,
              "#9c179e"
             ],
             [
              0.4444444444444444,
              "#bd3786"
             ],
             [
              0.5555555555555556,
              "#d8576b"
             ],
             [
              0.6666666666666666,
              "#ed7953"
             ],
             [
              0.7777777777777778,
              "#fb9f3a"
             ],
             [
              0.8888888888888888,
              "#fdca26"
             ],
             [
              1,
              "#f0f921"
             ]
            ],
            "type": "heatmap"
           }
          ],
          "histogram": [
           {
            "marker": {
             "pattern": {
              "fillmode": "overlay",
              "size": 10,
              "solidity": 0.2
             }
            },
            "type": "histogram"
           }
          ],
          "histogram2d": [
           {
            "colorbar": {
             "outlinewidth": 0,
             "ticks": ""
            },
            "colorscale": [
             [
              0,
              "#0d0887"
             ],
             [
              0.1111111111111111,
              "#46039f"
             ],
             [
              0.2222222222222222,
              "#7201a8"
             ],
             [
              0.3333333333333333,
              "#9c179e"
             ],
             [
              0.4444444444444444,
              "#bd3786"
             ],
             [
              0.5555555555555556,
              "#d8576b"
             ],
             [
              0.6666666666666666,
              "#ed7953"
             ],
             [
              0.7777777777777778,
              "#fb9f3a"
             ],
             [
              0.8888888888888888,
              "#fdca26"
             ],
             [
              1,
              "#f0f921"
             ]
            ],
            "type": "histogram2d"
           }
          ],
          "histogram2dcontour": [
           {
            "colorbar": {
             "outlinewidth": 0,
             "ticks": ""
            },
            "colorscale": [
             [
              0,
              "#0d0887"
             ],
             [
              0.1111111111111111,
              "#46039f"
             ],
             [
              0.2222222222222222,
              "#7201a8"
             ],
             [
              0.3333333333333333,
              "#9c179e"
             ],
             [
              0.4444444444444444,
              "#bd3786"
             ],
             [
              0.5555555555555556,
              "#d8576b"
             ],
             [
              0.6666666666666666,
              "#ed7953"
             ],
             [
              0.7777777777777778,
              "#fb9f3a"
             ],
             [
              0.8888888888888888,
              "#fdca26"
             ],
             [
              1,
              "#f0f921"
             ]
            ],
            "type": "histogram2dcontour"
           }
          ],
          "mesh3d": [
           {
            "colorbar": {
             "outlinewidth": 0,
             "ticks": ""
            },
            "type": "mesh3d"
           }
          ],
          "parcoords": [
           {
            "line": {
             "colorbar": {
              "outlinewidth": 0,
              "ticks": ""
             }
            },
            "type": "parcoords"
           }
          ],
          "pie": [
           {
            "automargin": true,
            "type": "pie"
           }
          ],
          "scatter": [
           {
            "fillpattern": {
             "fillmode": "overlay",
             "size": 10,
             "solidity": 0.2
            },
            "type": "scatter"
           }
          ],
          "scatter3d": [
           {
            "line": {
             "colorbar": {
              "outlinewidth": 0,
              "ticks": ""
             }
            },
            "marker": {
             "colorbar": {
              "outlinewidth": 0,
              "ticks": ""
             }
            },
            "type": "scatter3d"
           }
          ],
          "scattercarpet": [
           {
            "marker": {
             "colorbar": {
              "outlinewidth": 0,
              "ticks": ""
             }
            },
            "type": "scattercarpet"
           }
          ],
          "scattergeo": [
           {
            "marker": {
             "colorbar": {
              "outlinewidth": 0,
              "ticks": ""
             }
            },
            "type": "scattergeo"
           }
          ],
          "scattergl": [
           {
            "marker": {
             "colorbar": {
              "outlinewidth": 0,
              "ticks": ""
             }
            },
            "type": "scattergl"
           }
          ],
          "scattermap": [
           {
            "marker": {
             "colorbar": {
              "outlinewidth": 0,
              "ticks": ""
             }
            },
            "type": "scattermap"
           }
          ],
          "scattermapbox": [
           {
            "marker": {
             "colorbar": {
              "outlinewidth": 0,
              "ticks": ""
             }
            },
            "type": "scattermapbox"
           }
          ],
          "scatterpolar": [
           {
            "marker": {
             "colorbar": {
              "outlinewidth": 0,
              "ticks": ""
             }
            },
            "type": "scatterpolar"
           }
          ],
          "scatterpolargl": [
           {
            "marker": {
             "colorbar": {
              "outlinewidth": 0,
              "ticks": ""
             }
            },
            "type": "scatterpolargl"
           }
          ],
          "scatterternary": [
           {
            "marker": {
             "colorbar": {
              "outlinewidth": 0,
              "ticks": ""
             }
            },
            "type": "scatterternary"
           }
          ],
          "surface": [
           {
            "colorbar": {
             "outlinewidth": 0,
             "ticks": ""
            },
            "colorscale": [
             [
              0,
              "#0d0887"
             ],
             [
              0.1111111111111111,
              "#46039f"
             ],
             [
              0.2222222222222222,
              "#7201a8"
             ],
             [
              0.3333333333333333,
              "#9c179e"
             ],
             [
              0.4444444444444444,
              "#bd3786"
             ],
             [
              0.5555555555555556,
              "#d8576b"
             ],
             [
              0.6666666666666666,
              "#ed7953"
             ],
             [
              0.7777777777777778,
              "#fb9f3a"
             ],
             [
              0.8888888888888888,
              "#fdca26"
             ],
             [
              1,
              "#f0f921"
             ]
            ],
            "type": "surface"
           }
          ],
          "table": [
           {
            "cells": {
             "fill": {
              "color": "#EBF0F8"
             },
             "line": {
              "color": "white"
             }
            },
            "header": {
             "fill": {
              "color": "#C8D4E3"
             },
             "line": {
              "color": "white"
             }
            },
            "type": "table"
           }
          ]
         },
         "layout": {
          "annotationdefaults": {
           "arrowcolor": "#2a3f5f",
           "arrowhead": 0,
           "arrowwidth": 1
          },
          "autotypenumbers": "strict",
          "coloraxis": {
           "colorbar": {
            "outlinewidth": 0,
            "ticks": ""
           }
          },
          "colorscale": {
           "diverging": [
            [
             0,
             "#8e0152"
            ],
            [
             0.1,
             "#c51b7d"
            ],
            [
             0.2,
             "#de77ae"
            ],
            [
             0.3,
             "#f1b6da"
            ],
            [
             0.4,
             "#fde0ef"
            ],
            [
             0.5,
             "#f7f7f7"
            ],
            [
             0.6,
             "#e6f5d0"
            ],
            [
             0.7,
             "#b8e186"
            ],
            [
             0.8,
             "#7fbc41"
            ],
            [
             0.9,
             "#4d9221"
            ],
            [
             1,
             "#276419"
            ]
           ],
           "sequential": [
            [
             0,
             "#0d0887"
            ],
            [
             0.1111111111111111,
             "#46039f"
            ],
            [
             0.2222222222222222,
             "#7201a8"
            ],
            [
             0.3333333333333333,
             "#9c179e"
            ],
            [
             0.4444444444444444,
             "#bd3786"
            ],
            [
             0.5555555555555556,
             "#d8576b"
            ],
            [
             0.6666666666666666,
             "#ed7953"
            ],
            [
             0.7777777777777778,
             "#fb9f3a"
            ],
            [
             0.8888888888888888,
             "#fdca26"
            ],
            [
             1,
             "#f0f921"
            ]
           ],
           "sequentialminus": [
            [
             0,
             "#0d0887"
            ],
            [
             0.1111111111111111,
             "#46039f"
            ],
            [
             0.2222222222222222,
             "#7201a8"
            ],
            [
             0.3333333333333333,
             "#9c179e"
            ],
            [
             0.4444444444444444,
             "#bd3786"
            ],
            [
             0.5555555555555556,
             "#d8576b"
            ],
            [
             0.6666666666666666,
             "#ed7953"
            ],
            [
             0.7777777777777778,
             "#fb9f3a"
            ],
            [
             0.8888888888888888,
             "#fdca26"
            ],
            [
             1,
             "#f0f921"
            ]
           ]
          },
          "colorway": [
           "#636efa",
           "#EF553B",
           "#00cc96",
           "#ab63fa",
           "#FFA15A",
           "#19d3f3",
           "#FF6692",
           "#B6E880",
           "#FF97FF",
           "#FECB52"
          ],
          "font": {
           "color": "#2a3f5f"
          },
          "geo": {
           "bgcolor": "white",
           "lakecolor": "white",
           "landcolor": "#E5ECF6",
           "showlakes": true,
           "showland": true,
           "subunitcolor": "white"
          },
          "hoverlabel": {
           "align": "left"
          },
          "hovermode": "closest",
          "mapbox": {
           "style": "light"
          },
          "paper_bgcolor": "white",
          "plot_bgcolor": "#E5ECF6",
          "polar": {
           "angularaxis": {
            "gridcolor": "white",
            "linecolor": "white",
            "ticks": ""
           },
           "bgcolor": "#E5ECF6",
           "radialaxis": {
            "gridcolor": "white",
            "linecolor": "white",
            "ticks": ""
           }
          },
          "scene": {
           "xaxis": {
            "backgroundcolor": "#E5ECF6",
            "gridcolor": "white",
            "gridwidth": 2,
            "linecolor": "white",
            "showbackground": true,
            "ticks": "",
            "zerolinecolor": "white"
           },
           "yaxis": {
            "backgroundcolor": "#E5ECF6",
            "gridcolor": "white",
            "gridwidth": 2,
            "linecolor": "white",
            "showbackground": true,
            "ticks": "",
            "zerolinecolor": "white"
           },
           "zaxis": {
            "backgroundcolor": "#E5ECF6",
            "gridcolor": "white",
            "gridwidth": 2,
            "linecolor": "white",
            "showbackground": true,
            "ticks": "",
            "zerolinecolor": "white"
           }
          },
          "shapedefaults": {
           "line": {
            "color": "#2a3f5f"
           }
          },
          "ternary": {
           "aaxis": {
            "gridcolor": "white",
            "linecolor": "white",
            "ticks": ""
           },
           "baxis": {
            "gridcolor": "white",
            "linecolor": "white",
            "ticks": ""
           },
           "bgcolor": "#E5ECF6",
           "caxis": {
            "gridcolor": "white",
            "linecolor": "white",
            "ticks": ""
           }
          },
          "title": {
           "x": 0.05
          },
          "xaxis": {
           "automargin": true,
           "gridcolor": "white",
           "linecolor": "white",
           "ticks": "",
           "title": {
            "standoff": 15
           },
           "zerolinecolor": "white",
           "zerolinewidth": 2
          },
          "yaxis": {
           "automargin": true,
           "gridcolor": "white",
           "linecolor": "white",
           "ticks": "",
           "title": {
            "standoff": 15
           },
           "zerolinecolor": "white",
           "zerolinewidth": 2
          }
         }
        },
        "xaxis": {
         "anchor": "y",
         "domain": [
          0,
          1
         ],
         "title": {
          "text": "mfr"
         }
        },
        "yaxis": {
         "anchor": "x",
         "domain": [
          0,
          1
         ],
         "title": {
          "text": "sugars"
         }
        }
       }
      },
      "image/png": "[encoded data removed]"
     },
     "metadata": {},
     "output_type": "display_data"
    }
   ],
   "source": [
    "px.bar(groups.mean(numeric_only=True),y=\"sugars\")\n",
    "\n",
    "#<xml xmlns=\"https://developers.google.com/blockly/xml\"><variables><variable id=\"+yh,Zg{hON]zy6D~.rH#\">px</variable><variable id=\"kvljy3ud{{GyqoMiju^J\">groups</variable></variables><block type=\"varDoMethod\" id=\"7PkTI5@+A6#C}J7CTmyF\" x=\"154\" y=\"143\"><mutation items=\"2\"></mutation><field name=\"VAR\" id=\"+yh,Zg{hON]zy6D~.rH#\">px</field><field name=\"MEMBER\">bar</field><data>px:bar</data><value name=\"ADD0\"><block type=\"varDoMethod\" id=\"D8hJ~sZ}G*S_.m8H4Lm)\"><mutation items=\"1\"></mutation><field name=\"VAR\" id=\"kvljy3ud{{GyqoMiju^J\">groups</field><field name=\"MEMBER\">mean</field><data>groups:mean</data><value name=\"ADD0\"><block type=\"dummyOutputCodeBlock\" id=\"S72(JvqkcQ)6q_7Fw.*)\"><field name=\"CODE\">numeric_only=True</field></block></value></block></value><value name=\"ADD1\"><block type=\"dummyOutputCodeBlock\" id=\"[E_+Hw=gVTJPO$^~e}Z$\"><field name=\"CODE\"> y=\"sugars\"</field></block></value></block></xml>"
   ]
  },
  {
   "cell_type": "markdown",
   "metadata": {},
   "source": [
    "<details>\n",
    "  <summary>Interpretation</summary>\n",
    "  \n",
    "It certainly looks like some manufacturers specialize in low sugar, e.g. `American Home Food Products` and `Nabisco`.\n",
    "</details>"
   ]
  },
  {
   "cell_type": "markdown",
   "metadata": {},
   "source": [
    "## How do hot and cold cereals compare on healthy attributes like protein, fiber, and vitamins?\n",
    "\n",
    "The first notebook made a line plot with the groups.\n",
    "However, that would show **all** the variables, and this dataframe has too many for that.\n",
    "\n",
    "So as a first step, create a new dataframe `healthy` with just the columns `type`,`protein`, `fiber`, `vitamins` in it, then display `healthy`.\n",
    "\n",
    "*Hint: selecting columns was shown in the 'Nature of data' notebook*."
   ]
  },
  {
   "cell_type": "code",
   "execution_count": 68,
   "metadata": {
    "user_blocks": [
     "variables_set",
     "indexer",
     "lists_create_with",
     "text",
     "text",
     "text",
     "text",
     "variables_get"
    ],
    "user_blocks_xml": "<xml xmlns=\"https://developers.google.com/blockly/xml\"><variables><variable id=\"0O#9D6QT!8:zZfaersHo\">healthy</variable><variable id=\"1m+6=s7NsBC*q3sFfiW%\">dataframe</variable></variables><block type=\"variables_set\" id=\"Pp36j_tRClcER(Wl`kf*\" x=\"25\" y=\"194\"><field name=\"VAR\" id=\"0O#9D6QT!8:zZfaersHo\">healthy</field><value name=\"VALUE\"><block type=\"indexer\" id=\"G)%7AN/#CM!nZ49*+4jB\"><field name=\"VAR\" id=\"1m+6=s7NsBC*q3sFfiW%\">dataframe</field><value name=\"INDEX\"><block type=\"lists_create_with\" id=\"[89k1,iojvsqw()]zT5f\"><mutation items=\"4\"></mutation><value name=\"ADD0\"><block type=\"text\" id=\"$8jH!gnmt6?BI)ahw7oe\"><field name=\"TEXT\">protein</field></block></value><value name=\"ADD1\"><block type=\"text\" id=\"Ppd|YmvEeHWQ)K{Yc0J.\"><field name=\"TEXT\">fiber</field></block></value><value name=\"ADD2\"><block type=\"text\" id=\"kMemV@/4[|Gu?rv75E;x\"><field name=\"TEXT\">vitamins</field></block></value><value name=\"ADD3\"><block type=\"text\" id=\"]~V[DW2;r)~;#f7V.!}O\"><field name=\"TEXT\">type</field></block></value></block></value></block></value></block><block type=\"variables_get\" id=\"ckq*EJ}AQxY#d::V:*G.\" x=\"25\" y=\"325\"><field name=\"VAR\" id=\"0O#9D6QT!8:zZfaersHo\">healthy</field></block></xml>",
    "user_code_from_blocks": "healthy = dataframe[['protein', 'fiber', 'vitamins', 'type']]\n\nhealthy\n"
   },
   "outputs": [
    {
     "data": {
      "text/html": [
       "<div>\n",
       "<style scoped>\n",
       "    .dataframe tbody tr th:only-of-type {\n",
       "        vertical-align: middle;\n",
       "    }\n",
       "\n",
       "    .dataframe tbody tr th {\n",
       "        vertical-align: top;\n",
       "    }\n",
       "\n",
       "    .dataframe thead th {\n",
       "        text-align: right;\n",
       "    }\n",
       "</style>\n",
       "<table border=\"1\" class=\"dataframe\">\n",
       "  <thead>\n",
       "    <tr style=\"text-align: right;\">\n",
       "      <th></th>\n",
       "      <th>protein</th>\n",
       "      <th>fiber</th>\n",
       "      <th>vitamins</th>\n",
       "      <th>type</th>\n",
       "    </tr>\n",
       "  </thead>\n",
       "  <tbody>\n",
       "    <tr>\n",
       "      <th>0</th>\n",
       "      <td>4</td>\n",
       "      <td>10.0</td>\n",
       "      <td>25</td>\n",
       "      <td>C</td>\n",
       "    </tr>\n",
       "    <tr>\n",
       "      <th>1</th>\n",
       "      <td>3</td>\n",
       "      <td>2.0</td>\n",
       "      <td>0</td>\n",
       "      <td>C</td>\n",
       "    </tr>\n",
       "    <tr>\n",
       "      <th>2</th>\n",
       "      <td>4</td>\n",
       "      <td>9.0</td>\n",
       "      <td>25</td>\n",
       "      <td>C</td>\n",
       "    </tr>\n",
       "    <tr>\n",
       "      <th>3</th>\n",
       "      <td>4</td>\n",
       "      <td>14.0</td>\n",
       "      <td>25</td>\n",
       "      <td>C</td>\n",
       "    </tr>\n",
       "    <tr>\n",
       "      <th>4</th>\n",
       "      <td>2</td>\n",
       "      <td>1.0</td>\n",
       "      <td>25</td>\n",
       "      <td>C</td>\n",
       "    </tr>\n",
       "    <tr>\n",
       "      <th>...</th>\n",
       "      <td>...</td>\n",
       "      <td>...</td>\n",
       "      <td>...</td>\n",
       "      <td>...</td>\n",
       "    </tr>\n",
       "    <tr>\n",
       "      <th>72</th>\n",
       "      <td>2</td>\n",
       "      <td>0.0</td>\n",
       "      <td>25</td>\n",
       "      <td>C</td>\n",
       "    </tr>\n",
       "    <tr>\n",
       "      <th>73</th>\n",
       "      <td>1</td>\n",
       "      <td>0.0</td>\n",
       "      <td>25</td>\n",
       "      <td>C</td>\n",
       "    </tr>\n",
       "    <tr>\n",
       "      <th>74</th>\n",
       "      <td>3</td>\n",
       "      <td>3.0</td>\n",
       "      <td>25</td>\n",
       "      <td>C</td>\n",
       "    </tr>\n",
       "    <tr>\n",
       "      <th>75</th>\n",
       "      <td>3</td>\n",
       "      <td>3.0</td>\n",
       "      <td>25</td>\n",
       "      <td>C</td>\n",
       "    </tr>\n",
       "    <tr>\n",
       "      <th>76</th>\n",
       "      <td>2</td>\n",
       "      <td>1.0</td>\n",
       "      <td>25</td>\n",
       "      <td>C</td>\n",
       "    </tr>\n",
       "  </tbody>\n",
       "</table>\n",
       "<p>77 rows × 4 columns</p>\n",
       "</div>"
      ],
      "text/plain": [
       "    protein  fiber  vitamins type\n",
       "0         4   10.0        25    C\n",
       "1         3    2.0         0    C\n",
       "2         4    9.0        25    C\n",
       "3         4   14.0        25    C\n",
       "4         2    1.0        25    C\n",
       "..      ...    ...       ...  ...\n",
       "72        2    0.0        25    C\n",
       "73        1    0.0        25    C\n",
       "74        3    3.0        25    C\n",
       "75        3    3.0        25    C\n",
       "76        2    1.0        25    C\n",
       "\n",
       "[77 rows x 4 columns]"
      ]
     },
     "execution_count": 68,
     "metadata": {},
     "output_type": "execute_result"
    }
   ],
   "source": [
    "healthy = dataframe[['protein', 'fiber', 'vitamins', 'type']]\n",
    "\n",
    "healthy\n",
    "\n",
    "#<xml xmlns=\"https://developers.google.com/blockly/xml\"><variables><variable id=\"0O#9D6QT!8:zZfaersHo\">healthy</variable><variable id=\"1m+6=s7NsBC*q3sFfiW%\">dataframe</variable></variables><block type=\"variables_set\" id=\"Pp36j_tRClcER(Wl`kf*\" x=\"25\" y=\"194\"><field name=\"VAR\" id=\"0O#9D6QT!8:zZfaersHo\">healthy</field><value name=\"VALUE\"><block type=\"indexer\" id=\"G)%7AN/#CM!nZ49*+4jB\"><field name=\"VAR\" id=\"1m+6=s7NsBC*q3sFfiW%\">dataframe</field><value name=\"INDEX\"><block type=\"lists_create_with\" id=\"[89k1,iojvsqw()]zT5f\"><mutation items=\"4\"></mutation><value name=\"ADD0\"><block type=\"text\" id=\"$8jH!gnmt6?BI)ahw7oe\"><field name=\"TEXT\">protein</field></block></value><value name=\"ADD1\"><block type=\"text\" id=\"Ppd|YmvEeHWQ)K{Yc0J.\"><field name=\"TEXT\">fiber</field></block></value><value name=\"ADD2\"><block type=\"text\" id=\"kMemV@/4[|Gu?rv75E;x\"><field name=\"TEXT\">vitamins</field></block></value><value name=\"ADD3\"><block type=\"text\" id=\"]~V[DW2;r)~;#f7V.!}O\"><field name=\"TEXT\">type</field></block></value></block></value></block></value></block><block type=\"variables_get\" id=\"ckq*EJ}AQxY#d::V:*G.\" x=\"25\" y=\"325\"><field name=\"VAR\" id=\"0O#9D6QT!8:zZfaersHo\">healthy</field></block></xml>"
   ]
  },
  {
   "cell_type": "markdown",
   "metadata": {},
   "source": [
    "Now group `healthy` by `type` and store in `healthy_groups`."
   ]
  },
  {
   "cell_type": "code",
   "execution_count": 74,
   "metadata": {
    "user_blocks": [
     "variables_set",
     "varDoMethod",
     "text",
     "varDoMethod"
    ],
    "user_blocks_xml": "<xml xmlns=\"https://developers.google.com/blockly/xml\"><variables><variable id=\"J(rC(w)3K0*@W+B.|)$m\">healthy_groups</variable><variable id=\"0O#9D6QT!8:zZfaersHo\">healthy</variable></variables><block type=\"variables_set\" id=\"iC#fL95orH^/Rc:grEa:\" x=\"0\" y=\"0\"><field name=\"VAR\" id=\"J(rC(w)3K0*@W+B.|)$m\">healthy_groups</field><value name=\"VALUE\"><block type=\"varDoMethod\" id=\"Ue@JD$CtEg_uHb9=gSf$\"><mutation items=\"1\"></mutation><field name=\"VAR\" id=\"0O#9D6QT!8:zZfaersHo\">healthy</field><field name=\"MEMBER\">groupby</field><data>healthy:groupby</data><value name=\"ADD0\"><block type=\"text\" id=\"N|)%)*$`+%J!c4,5u%*R\"><field name=\"TEXT\">type</field></block></value></block></value></block><block type=\"varDoMethod\" id=\"FL46`*[(r/Lk5i#jZKOJ\" x=\"32\" y=\"107\"><mutation items=\"1\"></mutation><field name=\"VAR\" id=\"J(rC(w)3K0*@W+B.|)$m\">healthy_groups</field><field name=\"MEMBER\">mean</field><data>healthy_groups:mean</data></block></xml>",
    "user_code_from_blocks": "healthy_groups = healthy.groupby('type')\n\nhealthy_groups.mean()\n"
   },
   "outputs": [
    {
     "data": {
      "text/html": [
       "<div>\n",
       "<style scoped>\n",
       "    .dataframe tbody tr th:only-of-type {\n",
       "        vertical-align: middle;\n",
       "    }\n",
       "\n",
       "    .dataframe tbody tr th {\n",
       "        vertical-align: top;\n",
       "    }\n",
       "\n",
       "    .dataframe thead th {\n",
       "        text-align: right;\n",
       "    }\n",
       "</style>\n",
       "<table border=\"1\" class=\"dataframe\">\n",
       "  <thead>\n",
       "    <tr style=\"text-align: right;\">\n",
       "      <th></th>\n",
       "      <th>protein</th>\n",
       "      <th>fiber</th>\n",
       "      <th>vitamins</th>\n",
       "    </tr>\n",
       "    <tr>\n",
       "      <th>type</th>\n",
       "      <th></th>\n",
       "      <th></th>\n",
       "      <th></th>\n",
       "    </tr>\n",
       "  </thead>\n",
       "  <tbody>\n",
       "    <tr>\n",
       "      <th>C</th>\n",
       "      <td>2.486486</td>\n",
       "      <td>2.189189</td>\n",
       "      <td>29.054054</td>\n",
       "    </tr>\n",
       "    <tr>\n",
       "      <th>H</th>\n",
       "      <td>4.000000</td>\n",
       "      <td>1.233333</td>\n",
       "      <td>8.333333</td>\n",
       "    </tr>\n",
       "  </tbody>\n",
       "</table>\n",
       "</div>"
      ],
      "text/plain": [
       "       protein     fiber   vitamins\n",
       "type                               \n",
       "C     2.486486  2.189189  29.054054\n",
       "H     4.000000  1.233333   8.333333"
      ]
     },
     "execution_count": 74,
     "metadata": {},
     "output_type": "execute_result"
    }
   ],
   "source": [
    "healthy_groups = healthy.groupby('type')\n",
    "\n",
    "healthy_groups.mean()\n",
    "\n",
    "#<xml xmlns=\"https://developers.google.com/blockly/xml\"><variables><variable id=\"J(rC(w)3K0*@W+B.|)$m\">healthy_groups</variable><variable id=\"0O#9D6QT!8:zZfaersHo\">healthy</variable></variables><block type=\"variables_set\" id=\"iC#fL95orH^/Rc:grEa:\" x=\"0\" y=\"0\"><field name=\"VAR\" id=\"J(rC(w)3K0*@W+B.|)$m\">healthy_groups</field><value name=\"VALUE\"><block type=\"varDoMethod\" id=\"Ue@JD$CtEg_uHb9=gSf$\"><mutation items=\"1\"></mutation><field name=\"VAR\" id=\"0O#9D6QT!8:zZfaersHo\">healthy</field><field name=\"MEMBER\">groupby</field><data>healthy:groupby</data><value name=\"ADD0\"><block type=\"text\" id=\"N|)%)*$`+%J!c4,5u%*R\"><field name=\"TEXT\">type</field></block></value></block></value></block><block type=\"varDoMethod\" id=\"FL46`*[(r/Lk5i#jZKOJ\" x=\"32\" y=\"107\"><mutation items=\"1\"></mutation><field name=\"VAR\" id=\"J(rC(w)3K0*@W+B.|)$m\">healthy_groups</field><field name=\"MEMBER\">mean</field><data>healthy_groups:mean</data></block></xml>"
   ]
  },
  {
   "cell_type": "markdown",
   "metadata": {},
   "source": [
    "Now make the line plot using the mean of `healthy_groups`."
   ]
  },
  {
   "cell_type": "code",
   "execution_count": 79,
   "metadata": {
    "user_blocks": [
     "varDoMethod",
     "varDoMethod"
    ],
    "user_blocks_xml": "<xml xmlns=\"https://developers.google.com/blockly/xml\"><variables><variable id=\"+yh,Zg{hON]zy6D~.rH#\">px</variable><variable id=\"J(rC(w)3K0*@W+B.|)$m\">healthy_groups</variable></variables><block type=\"varDoMethod\" id=\"7PkTI5@+A6#C}J7CTmyF\" x=\"0\" y=\"0\"><mutation items=\"1\"></mutation><field name=\"VAR\" id=\"+yh,Zg{hON]zy6D~.rH#\">px</field><field name=\"MEMBER\">line</field><data>px:line</data><value name=\"ADD0\"><block type=\"varDoMethod\" id=\"wn|1S@]V?-9-HAlO^4m3\"><mutation items=\"1\"></mutation><field name=\"VAR\" id=\"J(rC(w)3K0*@W+B.|)$m\">healthy_groups</field><field name=\"MEMBER\">mean</field><data>healthy_groups:mean</data></block></value></block></xml>",
    "user_code_from_blocks": "px.line(healthy_groups.mean())\n"
   },
   "outputs": [
    {
     "data": {
      "application/vnd.plotly.v1+json": {
       "config": {
        "plotlyServerURL": "https://plot.ly"
       },
       "data": [
        {
         "hovertemplate": "variable=protein<br>type=%{x}<br>value=%{y}<extra></extra>",
         "legendgroup": "protein",
         "line": {
          "color": "#636efa",
          "dash": "solid"
         },
         "marker": {
          "symbol": "circle"
         },
         "mode": "lines",
         "name": "protein",
         "orientation": "v",
         "showlegend": true,
         "type": "scatter",
         "x": [
          "C",
          "H"
         ],
         "xaxis": "x",
         "y": {
          "bdata": "RT7rBlPkA0AAAAAAAAAQQA==",
          "dtype": "f8"
         },
         "yaxis": "y"
        },
        {
         "hovertemplate": "variable=fiber<br>type=%{x}<br>value=%{y}<extra></extra>",
         "legendgroup": "fiber",
         "line": {
          "color": "#EF553B",
          "dash": "solid"
         },
         "marker": {
          "symbol": "circle"
         },
         "mode": "lines",
         "name": "fiber",
         "orientation": "v",
         "showlegend": true,
         "type": "scatter",
         "x": [
          "C",
          "H"
         ],
         "xaxis": "x",
         "y": {
          "bdata": "N5gin3WDAUC8u7u7u7vzPw==",
          "dtype": "f8"
         },
         "yaxis": "y"
        },
        {
         "hovertemplate": "variable=vitamins<br>type=%{x}<br>value=%{y}<extra></extra>",
         "legendgroup": "vitamins",
         "line": {
          "color": "#00cc96",
          "dash": "solid"
         },
         "marker": {
          "symbol": "circle"
         },
         "mode": "lines",
         "name": "vitamins",
         "orientation": "v",
         "showlegend": true,
         "type": "scatter",
         "x": [
          "C",
          "H"
         ],
         "xaxis": "x",
         "y": {
          "bdata": "3WCKfNYNPUCrqqqqqqogQA==",
          "dtype": "f8"
         },
         "yaxis": "y"
        }
       ],
       "layout": {
        "legend": {
         "title": {
          "text": "variable"
         },
         "tracegroupgap": 0
        },
        "margin": {
         "t": 60
        },
        "template": {
         "data": {
          "bar": [
           {
            "error_x": {
             "color": "#2a3f5f"
            },
            "error_y": {
             "color": "#2a3f5f"
            },
            "marker": {
             "line": {
              "color": "#E5ECF6",
              "width": 0.5
             },
             "pattern": {
              "fillmode": "overlay",
              "size": 10,
              "solidity": 0.2
             }
            },
            "type": "bar"
           }
          ],
          "barpolar": [
           {
            "marker": {
             "line": {
              "color": "#E5ECF6",
              "width": 0.5
             },
             "pattern": {
              "fillmode": "overlay",
              "size": 10,
              "solidity": 0.2
             }
            },
            "type": "barpolar"
           }
          ],
          "carpet": [
           {
            "aaxis": {
             "endlinecolor": "#2a3f5f",
             "gridcolor": "white",
             "linecolor": "white",
             "minorgridcolor": "white",
             "startlinecolor": "#2a3f5f"
            },
            "baxis": {
             "endlinecolor": "#2a3f5f",
             "gridcolor": "white",
             "linecolor": "white",
             "minorgridcolor": "white",
             "startlinecolor": "#2a3f5f"
            },
            "type": "carpet"
           }
          ],
          "choropleth": [
           {
            "colorbar": {
             "outlinewidth": 0,
             "ticks": ""
            },
            "type": "choropleth"
           }
          ],
          "contour": [
           {
            "colorbar": {
             "outlinewidth": 0,
             "ticks": ""
            },
            "colorscale": [
             [
              0,
              "#0d0887"
             ],
             [
              0.1111111111111111,
              "#46039f"
             ],
             [
              0.2222222222222222,
              "#7201a8"
             ],
             [
              0.3333333333333333,
              "#9c179e"
             ],
             [
              0.4444444444444444,
              "#bd3786"
             ],
             [
              0.5555555555555556,
              "#d8576b"
             ],
             [
              0.6666666666666666,
              "#ed7953"
             ],
             [
              0.7777777777777778,
              "#fb9f3a"
             ],
             [
              0.8888888888888888,
              "#fdca26"
             ],
             [
              1,
              "#f0f921"
             ]
            ],
            "type": "contour"
           }
          ],
          "contourcarpet": [
           {
            "colorbar": {
             "outlinewidth": 0,
             "ticks": ""
            },
            "type": "contourcarpet"
           }
          ],
          "heatmap": [
           {
            "colorbar": {
             "outlinewidth": 0,
             "ticks": ""
            },
            "colorscale": [
             [
              0,
              "#0d0887"
             ],
             [
              0.1111111111111111,
              "#46039f"
             ],
             [
              0.2222222222222222,
              "#7201a8"
             ],
             [
              0.3333333333333333,
              "#9c179e"
             ],
             [
              0.4444444444444444,
              "#bd3786"
             ],
             [
              0.5555555555555556,
              "#d8576b"
             ],
             [
              0.6666666666666666,
              "#ed7953"
             ],
             [
              0.7777777777777778,
              "#fb9f3a"
             ],
             [
              0.8888888888888888,
              "#fdca26"
             ],
             [
              1,
              "#f0f921"
             ]
            ],
            "type": "heatmap"
           }
          ],
          "histogram": [
           {
            "marker": {
             "pattern": {
              "fillmode": "overlay",
              "size": 10,
              "solidity": 0.2
             }
            },
            "type": "histogram"
           }
          ],
          "histogram2d": [
           {
            "colorbar": {
             "outlinewidth": 0,
             "ticks": ""
            },
            "colorscale": [
             [
              0,
              "#0d0887"
             ],
             [
              0.1111111111111111,
              "#46039f"
             ],
             [
              0.2222222222222222,
              "#7201a8"
             ],
             [
              0.3333333333333333,
              "#9c179e"
             ],
             [
              0.4444444444444444,
              "#bd3786"
             ],
             [
              0.5555555555555556,
              "#d8576b"
             ],
             [
              0.6666666666666666,
              "#ed7953"
             ],
             [
              0.7777777777777778,
              "#fb9f3a"
             ],
             [
              0.8888888888888888,
              "#fdca26"
             ],
             [
              1,
              "#f0f921"
             ]
            ],
            "type": "histogram2d"
           }
          ],
          "histogram2dcontour": [
           {
            "colorbar": {
             "outlinewidth": 0,
             "ticks": ""
            },
            "colorscale": [
             [
              0,
              "#0d0887"
             ],
             [
              0.1111111111111111,
              "#46039f"
             ],
             [
              0.2222222222222222,
              "#7201a8"
             ],
             [
              0.3333333333333333,
              "#9c179e"
             ],
             [
              0.4444444444444444,
              "#bd3786"
             ],
             [
              0.5555555555555556,
              "#d8576b"
             ],
             [
              0.6666666666666666,
              "#ed7953"
             ],
             [
              0.7777777777777778,
              "#fb9f3a"
             ],
             [
              0.8888888888888888,
              "#fdca26"
             ],
             [
              1,
              "#f0f921"
             ]
            ],
            "type": "histogram2dcontour"
           }
          ],
          "mesh3d": [
           {
            "colorbar": {
             "outlinewidth": 0,
             "ticks": ""
            },
            "type": "mesh3d"
           }
          ],
          "parcoords": [
           {
            "line": {
             "colorbar": {
              "outlinewidth": 0,
              "ticks": ""
             }
            },
            "type": "parcoords"
           }
          ],
          "pie": [
           {
            "automargin": true,
            "type": "pie"
           }
          ],
          "scatter": [
           {
            "fillpattern": {
             "fillmode": "overlay",
             "size": 10,
             "solidity": 0.2
            },
            "type": "scatter"
           }
          ],
          "scatter3d": [
           {
            "line": {
             "colorbar": {
              "outlinewidth": 0,
              "ticks": ""
             }
            },
            "marker": {
             "colorbar": {
              "outlinewidth": 0,
              "ticks": ""
             }
            },
            "type": "scatter3d"
           }
          ],
          "scattercarpet": [
           {
            "marker": {
             "colorbar": {
              "outlinewidth": 0,
              "ticks": ""
             }
            },
            "type": "scattercarpet"
           }
          ],
          "scattergeo": [
           {
            "marker": {
             "colorbar": {
              "outlinewidth": 0,
              "ticks": ""
             }
            },
            "type": "scattergeo"
           }
          ],
          "scattergl": [
           {
            "marker": {
             "colorbar": {
              "outlinewidth": 0,
              "ticks": ""
             }
            },
            "type": "scattergl"
           }
          ],
          "scattermap": [
           {
            "marker": {
             "colorbar": {
              "outlinewidth": 0,
              "ticks": ""
             }
            },
            "type": "scattermap"
           }
          ],
          "scattermapbox": [
           {
            "marker": {
             "colorbar": {
              "outlinewidth": 0,
              "ticks": ""
             }
            },
            "type": "scattermapbox"
           }
          ],
          "scatterpolar": [
           {
            "marker": {
             "colorbar": {
              "outlinewidth": 0,
              "ticks": ""
             }
            },
            "type": "scatterpolar"
           }
          ],
          "scatterpolargl": [
           {
            "marker": {
             "colorbar": {
              "outlinewidth": 0,
              "ticks": ""
             }
            },
            "type": "scatterpolargl"
           }
          ],
          "scatterternary": [
           {
            "marker": {
             "colorbar": {
              "outlinewidth": 0,
              "ticks": ""
             }
            },
            "type": "scatterternary"
           }
          ],
          "surface": [
           {
            "colorbar": {
             "outlinewidth": 0,
             "ticks": ""
            },
            "colorscale": [
             [
              0,
              "#0d0887"
             ],
             [
              0.1111111111111111,
              "#46039f"
             ],
             [
              0.2222222222222222,
              "#7201a8"
             ],
             [
              0.3333333333333333,
              "#9c179e"
             ],
             [
              0.4444444444444444,
              "#bd3786"
             ],
             [
              0.5555555555555556,
              "#d8576b"
             ],
             [
              0.6666666666666666,
              "#ed7953"
             ],
             [
              0.7777777777777778,
              "#fb9f3a"
             ],
             [
              0.8888888888888888,
              "#fdca26"
             ],
             [
              1,
              "#f0f921"
             ]
            ],
            "type": "surface"
           }
          ],
          "table": [
           {
            "cells": {
             "fill": {
              "color": "#EBF0F8"
             },
             "line": {
              "color": "white"
             }
            },
            "header": {
             "fill": {
              "color": "#C8D4E3"
             },
             "line": {
              "color": "white"
             }
            },
            "type": "table"
           }
          ]
         },
         "layout": {
          "annotationdefaults": {
           "arrowcolor": "#2a3f5f",
           "arrowhead": 0,
           "arrowwidth": 1
          },
          "autotypenumbers": "strict",
          "coloraxis": {
           "colorbar": {
            "outlinewidth": 0,
            "ticks": ""
           }
          },
          "colorscale": {
           "diverging": [
            [
             0,
             "#8e0152"
            ],
            [
             0.1,
             "#c51b7d"
            ],
            [
             0.2,
             "#de77ae"
            ],
            [
             0.3,
             "#f1b6da"
            ],
            [
             0.4,
             "#fde0ef"
            ],
            [
             0.5,
             "#f7f7f7"
            ],
            [
             0.6,
             "#e6f5d0"
            ],
            [
             0.7,
             "#b8e186"
            ],
            [
             0.8,
             "#7fbc41"
            ],
            [
             0.9,
             "#4d9221"
            ],
            [
             1,
             "#276419"
            ]
           ],
           "sequential": [
            [
             0,
             "#0d0887"
            ],
            [
             0.1111111111111111,
             "#46039f"
            ],
            [
             0.2222222222222222,
             "#7201a8"
            ],
            [
             0.3333333333333333,
             "#9c179e"
            ],
            [
             0.4444444444444444,
             "#bd3786"
            ],
            [
             0.5555555555555556,
             "#d8576b"
            ],
            [
             0.6666666666666666,
             "#ed7953"
            ],
            [
             0.7777777777777778,
             "#fb9f3a"
            ],
            [
             0.8888888888888888,
             "#fdca26"
            ],
            [
             1,
             "#f0f921"
            ]
           ],
           "sequentialminus": [
            [
             0,
             "#0d0887"
            ],
            [
             0.1111111111111111,
             "#46039f"
            ],
            [
             0.2222222222222222,
             "#7201a8"
            ],
            [
             0.3333333333333333,
             "#9c179e"
            ],
            [
             0.4444444444444444,
             "#bd3786"
            ],
            [
             0.5555555555555556,
             "#d8576b"
            ],
            [
             0.6666666666666666,
             "#ed7953"
            ],
            [
             0.7777777777777778,
             "#fb9f3a"
            ],
            [
             0.8888888888888888,
             "#fdca26"
            ],
            [
             1,
             "#f0f921"
            ]
           ]
          },
          "colorway": [
           "#636efa",
           "#EF553B",
           "#00cc96",
           "#ab63fa",
           "#FFA15A",
           "#19d3f3",
           "#FF6692",
           "#B6E880",
           "#FF97FF",
           "#FECB52"
          ],
          "font": {
           "color": "#2a3f5f"
          },
          "geo": {
           "bgcolor": "white",
           "lakecolor": "white",
           "landcolor": "#E5ECF6",
           "showlakes": true,
           "showland": true,
           "subunitcolor": "white"
          },
          "hoverlabel": {
           "align": "left"
          },
          "hovermode": "closest",
          "mapbox": {
           "style": "light"
          },
          "paper_bgcolor": "white",
          "plot_bgcolor": "#E5ECF6",
          "polar": {
           "angularaxis": {
            "gridcolor": "white",
            "linecolor": "white",
            "ticks": ""
           },
           "bgcolor": "#E5ECF6",
           "radialaxis": {
            "gridcolor": "white",
            "linecolor": "white",
            "ticks": ""
           }
          },
          "scene": {
           "xaxis": {
            "backgroundcolor": "#E5ECF6",
            "gridcolor": "white",
            "gridwidth": 2,
            "linecolor": "white",
            "showbackground": true,
            "ticks": "",
            "zerolinecolor": "white"
           },
           "yaxis": {
            "backgroundcolor": "#E5ECF6",
            "gridcolor": "white",
            "gridwidth": 2,
            "linecolor": "white",
            "showbackground": true,
            "ticks": "",
            "zerolinecolor": "white"
           },
           "zaxis": {
            "backgroundcolor": "#E5ECF6",
            "gridcolor": "white",
            "gridwidth": 2,
            "linecolor": "white",
            "showbackground": true,
            "ticks": "",
            "zerolinecolor": "white"
           }
          },
          "shapedefaults": {
           "line": {
            "color": "#2a3f5f"
           }
          },
          "ternary": {
           "aaxis": {
            "gridcolor": "white",
            "linecolor": "white",
            "ticks": ""
           },
           "baxis": {
            "gridcolor": "white",
            "linecolor": "white",
            "ticks": ""
           },
           "bgcolor": "#E5ECF6",
           "caxis": {
            "gridcolor": "white",
            "linecolor": "white",
            "ticks": ""
           }
          },
          "title": {
           "x": 0.05
          },
          "xaxis": {
           "automargin": true,
           "gridcolor": "white",
           "linecolor": "white",
           "ticks": "",
           "title": {
            "standoff": 15
           },
           "zerolinecolor": "white",
           "zerolinewidth": 2
          },
          "yaxis": {
           "automargin": true,
           "gridcolor": "white",
           "linecolor": "white",
           "ticks": "",
           "title": {
            "standoff": 15
           },
           "zerolinecolor": "white",
           "zerolinewidth": 2
          }
         }
        },
        "xaxis": {
         "anchor": "y",
         "domain": [
          0,
          1
         ],
         "title": {
          "text": "type"
         }
        },
        "yaxis": {
         "anchor": "x",
         "domain": [
          0,
          1
         ],
         "title": {
          "text": "value"
         }
        }
       }
      },
      "image/png": "[encoded data removed]"
     },
     "metadata": {},
     "output_type": "display_data"
    }
   ],
   "source": [
    "px.line(healthy_groups.mean())\n",
    "\n",
    "#<xml xmlns=\"https://developers.google.com/blockly/xml\"><variables><variable id=\"+yh,Zg{hON]zy6D~.rH#\">px</variable><variable id=\"J(rC(w)3K0*@W+B.|)$m\">healthy_groups</variable></variables><block type=\"varDoMethod\" id=\"7PkTI5@+A6#C}J7CTmyF\" x=\"0\" y=\"0\"><mutation items=\"1\"></mutation><field name=\"VAR\" id=\"+yh,Zg{hON]zy6D~.rH#\">px</field><field name=\"MEMBER\">line</field><data>px:line</data><value name=\"ADD0\"><block type=\"varDoMethod\" id=\"wn|1S@]V?-9-HAlO^4m3\"><mutation items=\"1\"></mutation><field name=\"VAR\" id=\"J(rC(w)3K0*@W+B.|)$m\">healthy_groups</field><field name=\"MEMBER\">mean</field><data>healthy_groups:mean</data></block></value></block></xml>"
   ]
  },
  {
   "cell_type": "markdown",
   "metadata": {},
   "source": [
    "<details>\n",
    "  <summary>Interpretation</summary>\n",
    "  \n",
    "Again, very interesting - looks like cold cereals are being enriched with vitamins in a way hot cereals are not.\n",
    "Hot cereals have a bit more protein but surprisingly less fiber.\n",
    "</details>\n"
   ]
  },
  {
   "cell_type": "markdown",
   "metadata": {},
   "source": [
    "## Is protein approximately normally distributed, or are their cereals with unusually high and low amounts of protein?\n",
    "\n",
    "Make a histogram on `protein` using `dataframe`"
   ]
  },
  {
   "cell_type": "code",
   "execution_count": 85,
   "metadata": {
    "user_blocks": [
     "varDoMethod",
     "variables_get",
     "dummyOutputCodeBlock"
    ],
    "user_blocks_xml": "<xml xmlns=\"https://developers.google.com/blockly/xml\"><variables><variable id=\"+yh,Zg{hON]zy6D~.rH#\">px</variable><variable id=\"1m+6=s7NsBC*q3sFfiW%\">dataframe</variable></variables><block type=\"varDoMethod\" id=\"7PkTI5@+A6#C}J7CTmyF\" x=\"0\" y=\"0\"><mutation items=\"2\"></mutation><field name=\"VAR\" id=\"+yh,Zg{hON]zy6D~.rH#\">px</field><field name=\"MEMBER\">histogram</field><data>px:histogram</data><value name=\"ADD0\"><block type=\"variables_get\" id=\"@5YzK0kubyXCwM.CO!(=\"><field name=\"VAR\" id=\"1m+6=s7NsBC*q3sFfiW%\">dataframe</field></block></value><value name=\"ADD1\"><block type=\"dummyOutputCodeBlock\" id=\"0UT`OgPlMp)UDnV|hC7-\"><field name=\"CODE\">x='protein'</field></block></value></block></xml>",
    "user_code_from_blocks": "px.histogram(dataframe,x='protein')\n"
   },
   "outputs": [
    {
     "data": {
      "application/vnd.plotly.v1+json": {
       "config": {
        "plotlyServerURL": "https://plot.ly"
       },
       "data": [
        {
         "bingroup": "x",
         "hovertemplate": "protein=%{x}<br>count=%{y}<extra></extra>",
         "legendgroup": "",
         "marker": {
          "color": "#636efa",
          "pattern": {
           "shape": ""
          }
         },
         "name": "",
         "orientation": "v",
         "showlegend": false,
         "type": "histogram",
         "x": {
          "bdata": "BAMEBAICAgMCAwEGAQMBAgIBAQMDAgICAgEDAwMBAgEDAwMBAwECAwIEAgQEBAMCAgMDAwMDAQIEBQMDAgECAgMDAgYCAgMDAgEDAwI=",
          "dtype": "i1"
         },
         "xaxis": "x",
         "yaxis": "y"
        }
       ],
       "layout": {
        "barmode": "relative",
        "legend": {
         "tracegroupgap": 0
        },
        "margin": {
         "t": 60
        },
        "template": {
         "data": {
          "bar": [
           {
            "error_x": {
             "color": "#2a3f5f"
            },
            "error_y": {
             "color": "#2a3f5f"
            },
            "marker": {
             "line": {
              "color": "#E5ECF6",
              "width": 0.5
             },
             "pattern": {
              "fillmode": "overlay",
              "size": 10,
              "solidity": 0.2
             }
            },
            "type": "bar"
           }
          ],
          "barpolar": [
           {
            "marker": {
             "line": {
              "color": "#E5ECF6",
              "width": 0.5
             },
             "pattern": {
              "fillmode": "overlay",
              "size": 10,
              "solidity": 0.2
             }
            },
            "type": "barpolar"
           }
          ],
          "carpet": [
           {
            "aaxis": {
             "endlinecolor": "#2a3f5f",
             "gridcolor": "white",
             "linecolor": "white",
             "minorgridcolor": "white",
             "startlinecolor": "#2a3f5f"
            },
            "baxis": {
             "endlinecolor": "#2a3f5f",
             "gridcolor": "white",
             "linecolor": "white",
             "minorgridcolor": "white",
             "startlinecolor": "#2a3f5f"
            },
            "type": "carpet"
           }
          ],
          "choropleth": [
           {
            "colorbar": {
             "outlinewidth": 0,
             "ticks": ""
            },
            "type": "choropleth"
           }
          ],
          "contour": [
           {
            "colorbar": {
             "outlinewidth": 0,
             "ticks": ""
            },
            "colorscale": [
             [
              0,
              "#0d0887"
             ],
             [
              0.1111111111111111,
              "#46039f"
             ],
             [
              0.2222222222222222,
              "#7201a8"
             ],
             [
              0.3333333333333333,
              "#9c179e"
             ],
             [
              0.4444444444444444,
              "#bd3786"
             ],
             [
              0.5555555555555556,
              "#d8576b"
             ],
             [
              0.6666666666666666,
              "#ed7953"
             ],
             [
              0.7777777777777778,
              "#fb9f3a"
             ],
             [
              0.8888888888888888,
              "#fdca26"
             ],
             [
              1,
              "#f0f921"
             ]
            ],
            "type": "contour"
           }
          ],
          "contourcarpet": [
           {
            "colorbar": {
             "outlinewidth": 0,
             "ticks": ""
            },
            "type": "contourcarpet"
           }
          ],
          "heatmap": [
           {
            "colorbar": {
             "outlinewidth": 0,
             "ticks": ""
            },
            "colorscale": [
             [
              0,
              "#0d0887"
             ],
             [
              0.1111111111111111,
              "#46039f"
             ],
             [
              0.2222222222222222,
              "#7201a8"
             ],
             [
              0.3333333333333333,
              "#9c179e"
             ],
             [
              0.4444444444444444,
              "#bd3786"
             ],
             [
              0.5555555555555556,
              "#d8576b"
             ],
             [
              0.6666666666666666,
              "#ed7953"
             ],
             [
              0.7777777777777778,
              "#fb9f3a"
             ],
             [
              0.8888888888888888,
              "#fdca26"
             ],
             [
              1,
              "#f0f921"
             ]
            ],
            "type": "heatmap"
           }
          ],
          "histogram": [
           {
            "marker": {
             "pattern": {
              "fillmode": "overlay",
              "size": 10,
              "solidity": 0.2
             }
            },
            "type": "histogram"
           }
          ],
          "histogram2d": [
           {
            "colorbar": {
             "outlinewidth": 0,
             "ticks": ""
            },
            "colorscale": [
             [
              0,
              "#0d0887"
             ],
             [
              0.1111111111111111,
              "#46039f"
             ],
             [
              0.2222222222222222,
              "#7201a8"
             ],
             [
              0.3333333333333333,
              "#9c179e"
             ],
             [
              0.4444444444444444,
              "#bd3786"
             ],
             [
              0.5555555555555556,
              "#d8576b"
             ],
             [
              0.6666666666666666,
              "#ed7953"
             ],
             [
              0.7777777777777778,
              "#fb9f3a"
             ],
             [
              0.8888888888888888,
              "#fdca26"
             ],
             [
              1,
              "#f0f921"
             ]
            ],
            "type": "histogram2d"
           }
          ],
          "histogram2dcontour": [
           {
            "colorbar": {
             "outlinewidth": 0,
             "ticks": ""
            },
            "colorscale": [
             [
              0,
              "#0d0887"
             ],
             [
              0.1111111111111111,
              "#46039f"
             ],
             [
              0.2222222222222222,
              "#7201a8"
             ],
             [
              0.3333333333333333,
              "#9c179e"
             ],
             [
              0.4444444444444444,
              "#bd3786"
             ],
             [
              0.5555555555555556,
              "#d8576b"
             ],
             [
              0.6666666666666666,
              "#ed7953"
             ],
             [
              0.7777777777777778,
              "#fb9f3a"
             ],
             [
              0.8888888888888888,
              "#fdca26"
             ],
             [
              1,
              "#f0f921"
             ]
            ],
            "type": "histogram2dcontour"
           }
          ],
          "mesh3d": [
           {
            "colorbar": {
             "outlinewidth": 0,
             "ticks": ""
            },
            "type": "mesh3d"
           }
          ],
          "parcoords": [
           {
            "line": {
             "colorbar": {
              "outlinewidth": 0,
              "ticks": ""
             }
            },
            "type": "parcoords"
           }
          ],
          "pie": [
           {
            "automargin": true,
            "type": "pie"
           }
          ],
          "scatter": [
           {
            "fillpattern": {
             "fillmode": "overlay",
             "size": 10,
             "solidity": 0.2
            },
            "type": "scatter"
           }
          ],
          "scatter3d": [
           {
            "line": {
             "colorbar": {
              "outlinewidth": 0,
              "ticks": ""
             }
            },
            "marker": {
             "colorbar": {
              "outlinewidth": 0,
              "ticks": ""
             }
            },
            "type": "scatter3d"
           }
          ],
          "scattercarpet": [
           {
            "marker": {
             "colorbar": {
              "outlinewidth": 0,
              "ticks": ""
             }
            },
            "type": "scattercarpet"
           }
          ],
          "scattergeo": [
           {
            "marker": {
             "colorbar": {
              "outlinewidth": 0,
              "ticks": ""
             }
            },
            "type": "scattergeo"
           }
          ],
          "scattergl": [
           {
            "marker": {
             "colorbar": {
              "outlinewidth": 0,
              "ticks": ""
             }
            },
            "type": "scattergl"
           }
          ],
          "scattermap": [
           {
            "marker": {
             "colorbar": {
              "outlinewidth": 0,
              "ticks": ""
             }
            },
            "type": "scattermap"
           }
          ],
          "scattermapbox": [
           {
            "marker": {
             "colorbar": {
              "outlinewidth": 0,
              "ticks": ""
             }
            },
            "type": "scattermapbox"
           }
          ],
          "scatterpolar": [
           {
            "marker": {
             "colorbar": {
              "outlinewidth": 0,
              "ticks": ""
             }
            },
            "type": "scatterpolar"
           }
          ],
          "scatterpolargl": [
           {
            "marker": {
             "colorbar": {
              "outlinewidth": 0,
              "ticks": ""
             }
            },
            "type": "scatterpolargl"
           }
          ],
          "scatterternary": [
           {
            "marker": {
             "colorbar": {
              "outlinewidth": 0,
              "ticks": ""
             }
            },
            "type": "scatterternary"
           }
          ],
          "surface": [
           {
            "colorbar": {
             "outlinewidth": 0,
             "ticks": ""
            },
            "colorscale": [
             [
              0,
              "#0d0887"
             ],
             [
              0.1111111111111111,
              "#46039f"
             ],
             [
              0.2222222222222222,
              "#7201a8"
             ],
             [
              0.3333333333333333,
              "#9c179e"
             ],
             [
              0.4444444444444444,
              "#bd3786"
             ],
             [
              0.5555555555555556,
              "#d8576b"
             ],
             [
              0.6666666666666666,
              "#ed7953"
             ],
             [
              0.7777777777777778,
              "#fb9f3a"
             ],
             [
              0.8888888888888888,
              "#fdca26"
             ],
             [
              1,
              "#f0f921"
             ]
            ],
            "type": "surface"
           }
          ],
          "table": [
           {
            "cells": {
             "fill": {
              "color": "#EBF0F8"
             },
             "line": {
              "color": "white"
             }
            },
            "header": {
             "fill": {
              "color": "#C8D4E3"
             },
             "line": {
              "color": "white"
             }
            },
            "type": "table"
           }
          ]
         },
         "layout": {
          "annotationdefaults": {
           "arrowcolor": "#2a3f5f",
           "arrowhead": 0,
           "arrowwidth": 1
          },
          "autotypenumbers": "strict",
          "coloraxis": {
           "colorbar": {
            "outlinewidth": 0,
            "ticks": ""
           }
          },
          "colorscale": {
           "diverging": [
            [
             0,
             "#8e0152"
            ],
            [
             0.1,
             "#c51b7d"
            ],
            [
             0.2,
             "#de77ae"
            ],
            [
             0.3,
             "#f1b6da"
            ],
            [
             0.4,
             "#fde0ef"
            ],
            [
             0.5,
             "#f7f7f7"
            ],
            [
             0.6,
             "#e6f5d0"
            ],
            [
             0.7,
             "#b8e186"
            ],
            [
             0.8,
             "#7fbc41"
            ],
            [
             0.9,
             "#4d9221"
            ],
            [
             1,
             "#276419"
            ]
           ],
           "sequential": [
            [
             0,
             "#0d0887"
            ],
            [
             0.1111111111111111,
             "#46039f"
            ],
            [
             0.2222222222222222,
             "#7201a8"
            ],
            [
             0.3333333333333333,
             "#9c179e"
            ],
            [
             0.4444444444444444,
             "#bd3786"
            ],
            [
             0.5555555555555556,
             "#d8576b"
            ],
            [
             0.6666666666666666,
             "#ed7953"
            ],
            [
             0.7777777777777778,
             "#fb9f3a"
            ],
            [
             0.8888888888888888,
             "#fdca26"
            ],
            [
             1,
             "#f0f921"
            ]
           ],
           "sequentialminus": [
            [
             0,
             "#0d0887"
            ],
            [
             0.1111111111111111,
             "#46039f"
            ],
            [
             0.2222222222222222,
             "#7201a8"
            ],
            [
             0.3333333333333333,
             "#9c179e"
            ],
            [
             0.4444444444444444,
             "#bd3786"
            ],
            [
             0.5555555555555556,
             "#d8576b"
            ],
            [
             0.6666666666666666,
             "#ed7953"
            ],
            [
             0.7777777777777778,
             "#fb9f3a"
            ],
            [
             0.8888888888888888,
             "#fdca26"
            ],
            [
             1,
             "#f0f921"
            ]
           ]
          },
          "colorway": [
           "#636efa",
           "#EF553B",
           "#00cc96",
           "#ab63fa",
           "#FFA15A",
           "#19d3f3",
           "#FF6692",
           "#B6E880",
           "#FF97FF",
           "#FECB52"
          ],
          "font": {
           "color": "#2a3f5f"
          },
          "geo": {
           "bgcolor": "white",
           "lakecolor": "white",
           "landcolor": "#E5ECF6",
           "showlakes": true,
           "showland": true,
           "subunitcolor": "white"
          },
          "hoverlabel": {
           "align": "left"
          },
          "hovermode": "closest",
          "mapbox": {
           "style": "light"
          },
          "paper_bgcolor": "white",
          "plot_bgcolor": "#E5ECF6",
          "polar": {
           "angularaxis": {
            "gridcolor": "white",
            "linecolor": "white",
            "ticks": ""
           },
           "bgcolor": "#E5ECF6",
           "radialaxis": {
            "gridcolor": "white",
            "linecolor": "white",
            "ticks": ""
           }
          },
          "scene": {
           "xaxis": {
            "backgroundcolor": "#E5ECF6",
            "gridcolor": "white",
            "gridwidth": 2,
            "linecolor": "white",
            "showbackground": true,
            "ticks": "",
            "zerolinecolor": "white"
           },
           "yaxis": {
            "backgroundcolor": "#E5ECF6",
            "gridcolor": "white",
            "gridwidth": 2,
            "linecolor": "white",
            "showbackground": true,
            "ticks": "",
            "zerolinecolor": "white"
           },
           "zaxis": {
            "backgroundcolor": "#E5ECF6",
            "gridcolor": "white",
            "gridwidth": 2,
            "linecolor": "white",
            "showbackground": true,
            "ticks": "",
            "zerolinecolor": "white"
           }
          },
          "shapedefaults": {
           "line": {
            "color": "#2a3f5f"
           }
          },
          "ternary": {
           "aaxis": {
            "gridcolor": "white",
            "linecolor": "white",
            "ticks": ""
           },
           "baxis": {
            "gridcolor": "white",
            "linecolor": "white",
            "ticks": ""
           },
           "bgcolor": "#E5ECF6",
           "caxis": {
            "gridcolor": "white",
            "linecolor": "white",
            "ticks": ""
           }
          },
          "title": {
           "x": 0.05
          },
          "xaxis": {
           "automargin": true,
           "gridcolor": "white",
           "linecolor": "white",
           "ticks": "",
           "title": {
            "standoff": 15
           },
           "zerolinecolor": "white",
           "zerolinewidth": 2
          },
          "yaxis": {
           "automargin": true,
           "gridcolor": "white",
           "linecolor": "white",
           "ticks": "",
           "title": {
            "standoff": 15
           },
           "zerolinecolor": "white",
           "zerolinewidth": 2
          }
         }
        },
        "xaxis": {
         "anchor": "y",
         "domain": [
          0,
          1
         ],
         "title": {
          "text": "protein"
         }
        },
        "yaxis": {
         "anchor": "x",
         "domain": [
          0,
          1
         ],
         "title": {
          "text": "count"
         }
        }
       }
      },
      "image/png": "[encoded data removed]"
     },
     "metadata": {},
     "output_type": "display_data"
    }
   ],
   "source": [
    "px.histogram(dataframe,x='protein')\n",
    "\n",
    "#<xml xmlns=\"https://developers.google.com/blockly/xml\"><variables><variable id=\"+yh,Zg{hON]zy6D~.rH#\">px</variable><variable id=\"1m+6=s7NsBC*q3sFfiW%\">dataframe</variable></variables><block type=\"varDoMethod\" id=\"7PkTI5@+A6#C}J7CTmyF\" x=\"0\" y=\"0\"><mutation items=\"2\"></mutation><field name=\"VAR\" id=\"+yh,Zg{hON]zy6D~.rH#\">px</field><field name=\"MEMBER\">histogram</field><data>px:histogram</data><value name=\"ADD0\"><block type=\"variables_get\" id=\"@5YzK0kubyXCwM.CO!(=\"><field name=\"VAR\" id=\"1m+6=s7NsBC*q3sFfiW%\">dataframe</field></block></value><value name=\"ADD1\"><block type=\"dummyOutputCodeBlock\" id=\"0UT`OgPlMp)UDnV|hC7-\"><field name=\"CODE\">x='protein'</field></block></value></block></xml>"
   ]
  },
  {
   "cell_type": "markdown",
   "metadata": {},
   "source": [
    "<details>\n",
    "  <summary>Interpretation</summary>\n",
    "  \n",
    "That certainly doesn't look normal.\n",
    "It seems that protein is being manipulated somehow when the level is high.\n",
    "</details>"
   ]
  },
  {
   "cell_type": "markdown",
   "metadata": {},
   "source": [
    "<!--  -->"
   ]
  }
 ],
 "metadata": {
  "kernelspec": {
   "display_name": "Python 3 (ipykernel)",
   "language": "python",
   "name": "python3"
  },
  "language_info": {
   "codemirror_mode": {
    "name": "ipython",
    "version": 3
   },
   "file_extension": ".py",
   "mimetype": "text/x-python",
   "name": "python",
   "nbconvert_exporter": "python",
   "pygments_lexer": "ipython3",
   "version": "3.12.6"
  }
 },
 "nbformat": 4,
 "nbformat_minor": 4
}
