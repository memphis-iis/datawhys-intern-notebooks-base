{
 "cells": [
  {
   "cell_type": "markdown",
   "metadata": {
    "deletable": false,
    "editable": false
   },
   "source": [
    "Copyright 2022 Andrew M. Olney and made available under [CC BY-SA](https://creativecommons.org/licenses/by-sa/4.0) for text and [Apache-2.0](http://www.apache.org/licenses/LICENSE-2.0) for code.\n"
   ]
  },
  {
   "cell_type": "markdown",
   "metadata": {},
   "source": [
    "# Plotting: Problem solving\n",
    "\n",
    "In this notebook we'll look at the `cereal` dataset, which consists mostly of nutrition information along with some other properties:\n",
    "\n",
    "| Variable | Type | Description |\n",
    "|:-------|:-------|:-------|\n",
    "| name     | Nominal | Name of cereal (an ID)                                                                                                                          |\n",
    "| mfr      | Nominal | Manufacturer of cereal: (A)merican Home Food Products; (G)eneral Mills; (K)elloggs; (N)abisco; (P)ost; (Q)uaker Oats; (R)alston Purina |\n",
    "| type     | Nominal | (H)ot or (C)old                                                                                                                        |\n",
    "| calories | Ratio   | calories per serving                                                                                                                   |\n",
    "| protein  | Ratio   | grams of protein                                                                                                                       |\n",
    "| fat      | Ratio   | grams of fat                                                                                                                           |\n",
    "| sodium   | Ratio   | milligrams of sodium                                                                                                                   |\n",
    "| fiber    | Ratio   | grams of dietary fiber                                                                                                                 |\n",
    "| carbo    | Ratio   | grams of complex carbohydrates                                                                                                         |\n",
    "| sugars   | Ratio   | grams of sugars                                                                                                                        |\n",
    "| potass   | Ratio   | milligrams of potassium                                                                                                                |\n",
    "| vitamins | Ordinal | vitamins and minerals - 0, 25, or 100, indicating the typical percentage of FDA recommended                                            |\n",
    "| shelf    | Ratio   | display shelf (1, 2, or 3, counting from the floor)                                                                                    |\n",
    "| weight   | Ratio   | weight in ounces of one serving                                                                                                        |\n",
    "| cups     | Ratio   | number of cups in one serving                                                                                                          |\n",
    "| rating   | Ratio   | a rating of the cereals (Possibly from Consumer Reports?)                                                                              |\n",
    "      \n",
    "<div style=\"text-align:center;font-size: smaller\">\n",
    "    <b>Source:</b> This dataset was taken from <a href=\"https://www.kaggle.com/crawford/80-cereals\">Kaggle</a>.\n",
    "</div>\n",
    "<br>"
   ]
  },
  {
   "cell_type": "markdown",
   "metadata": {},
   "source": [
    "## Import libraries\n",
    "\n",
    "We need to load our data into a dataframe and do some plots, so import `pandas` and `plotly.express` below."
   ]
  },
  {
   "cell_type": "code",
   "execution_count": 3,
   "metadata": {},
   "outputs": [],
   "source": []
  },
  {
   "cell_type": "markdown",
   "metadata": {},
   "source": [
    "<!-- We will cover plotting and reading the following data visualizations in `plotly`:\n",
    "\n",
    "- scatter plots \n",
    "- line graphs\n",
    "- bar charts\n",
    "- box plots\n",
    "- plots for distributions (histograms and density plots)\n",
    "\n",
    "We will specifically use the `plotly.express` library for quick and easy plotting. \n",
    "\n",
    "Keep in mind: some of the same plots can be done `plotly.graph_objs` and `plotly.figure_factory`. These libraries also allow for additional (and more complicated) plots or have additional flexibility.  -->"
   ]
  },
  {
   "cell_type": "markdown",
   "metadata": {},
   "source": [
    "## Load data"
   ]
  },
  {
   "cell_type": "markdown",
   "metadata": {},
   "source": [
    "Load `\"datasets/cereal.csv\"` into a dataframe and display the dataframe."
   ]
  },
  {
   "cell_type": "code",
   "execution_count": 4,
   "metadata": {},
   "outputs": [],
   "source": []
  },
  {
   "cell_type": "markdown",
   "metadata": {},
   "source": [
    "## Research questions\n",
    "\n",
    "Any plot you make should be designed to address a question.\n",
    "At this point, we're **not making a statistical/quantitative argument** but rather a qualitative one.\n",
    "\n",
    "Here are some possible/plausible questions. \n",
    "For each one, think about the type of plot that might make the most sense.\n",
    "Then open up the dropdown to see the plot we're going to do.\n",
    "If you think we're choosing wrong, bring it up for discussion!"
   ]
  },
  {
   "cell_type": "markdown",
   "metadata": {},
   "source": [
    "#### Do fat and sugar go together?\n",
    "\n",
    "We might expect that fatty cereals have a lot of sugar and vice versa.\n",
    "What would be a good plot?\n",
    "\n",
    "<details>\n",
    "  <summary>Answer</summary>\n",
    "  \n",
    "  Since both variables are both ratio, a scatterplot makes sense. That way we can see the individual datapoints and even label them if we want.\n",
    "</details>"
   ]
  },
  {
   "cell_type": "markdown",
   "metadata": {},
   "source": [
    "#### Do some manufacturers have more sugar in their cereals than others?\n",
    "\n",
    "Maybe all manufacturers have similar product lines, but maybe some specialize in sugary cereal.\n",
    "What would be a good plot?\n",
    "\n",
    "<details>\n",
    "  <summary>Answer</summary>\n",
    "  \n",
    "  Since manufacturer is nominal and we want to compare manufacturers on a single value, a barplot makes sense. Then we can use the average amount of sugar for each one.\n",
    "</details>"
   ]
  },
  {
   "cell_type": "markdown",
   "metadata": {},
   "source": [
    "#### How do hot and cold cereals compare on healthy attributes like protein, fiber, and vitamins?\n",
    "\n",
    "Hot cereals are often more traditional and less processed, so maybe they have a better nutritional profile.\n",
    "What would be a good plot?\n",
    "\n",
    "<details>\n",
    "  <summary>Answer</summary>\n",
    "  \n",
    "  Since hot/cold is nominal and we want to compare them on multiple values, a line plot makes sense. We would then plot each healthy attribute as its own line on the plot.\n",
    "</details>"
   ]
  },
  {
   "cell_type": "markdown",
   "metadata": {},
   "source": [
    "#### Is protein approximately normally distributed, or are their cereals with unusually high and low amounts of protein?\n",
    "\n",
    "If protein is not being manipulated by manufacturers, we'd expect it to be approximately normal. But if manufacturers are intentionally adding/removing protein, we might see that in the distribution of the variable.\n",
    "What would be a good plot?\n",
    "\n",
    "<details>\n",
    "  <summary>Answer</summary>\n",
    "  \n",
    "  Histograms are the only plot we've talked about for the distribution of a variable.\n",
    "</details>"
   ]
  },
  {
   "cell_type": "markdown",
   "metadata": {},
   "source": [
    "## Do fat and sugar go together?\n",
    "\n",
    "Make a scatterplot using `fat` and `sugars`"
   ]
  },
  {
   "cell_type": "code",
   "execution_count": 6,
   "metadata": {},
   "outputs": [],
   "source": []
  },
  {
   "cell_type": "markdown",
   "metadata": {},
   "source": [
    "<details>\n",
    "  <summary>Interpretation</summary>\n",
    "  \n",
    "That's a curious graph!\n",
    "Notice first that although there are 70+ cereals, we're only seeing about 35 points.\n",
    "That's because some cereals have the same values for sugar and fat, so they are plotted on top of each other - something to watch out for!\n",
    "\n",
    "Overall it looks like as fat increases, sugar goes to the middle of the range, i.e. about 7, rather than going high with it.\n",
    "</details>\n"
   ]
  },
  {
   "cell_type": "markdown",
   "metadata": {},
   "source": [
    "## Do some manufacturers have more sugar in their cereals than others?\n",
    "\n",
    "First, group by manufacturers (`mfr`)."
   ]
  },
  {
   "cell_type": "code",
   "execution_count": 7,
   "metadata": {},
   "outputs": [],
   "source": []
  },
  {
   "cell_type": "markdown",
   "metadata": {},
   "source": [
    "Now make a barplot with the means of these groups for `sugars`."
   ]
  },
  {
   "cell_type": "code",
   "execution_count": 9,
   "metadata": {},
   "outputs": [],
   "source": []
  },
  {
   "cell_type": "markdown",
   "metadata": {},
   "source": [
    "<details>\n",
    "  <summary>Interpretation</summary>\n",
    "  \n",
    "It certainly looks like some manufacturers specialize in low sugar, e.g. `American Home Food Products` and `Nabisco`.\n",
    "</details>"
   ]
  },
  {
   "cell_type": "markdown",
   "metadata": {},
   "source": [
    "## How do hot and cold cereals compare on healthy attributes like protein, fiber, and vitamins?\n",
    "\n",
    "The first notebook made a line plot with the groups.\n",
    "However, that would show **all** the variables, and this dataframe has too many for that.\n",
    "\n",
    "So as a first step, create a new dataframe `healthy` with just the columns `type`,`protein`, `fiber`, `vitamins` in it, then display `healthy`.\n",
    "\n",
    "*Hint: selecting columns was shown in the 'Nature of data' notebook*."
   ]
  },
  {
   "cell_type": "code",
   "execution_count": 12,
   "metadata": {},
   "outputs": [],
   "source": []
  },
  {
   "cell_type": "markdown",
   "metadata": {},
   "source": [
    "Now group `healthy` by `type` and store in `healthy_groups`."
   ]
  },
  {
   "cell_type": "code",
   "execution_count": 13,
   "metadata": {},
   "outputs": [],
   "source": []
  },
  {
   "cell_type": "markdown",
   "metadata": {},
   "source": [
    "Now make the line plot using the mean of `healthy_groups`."
   ]
  },
  {
   "cell_type": "code",
   "execution_count": 14,
   "metadata": {},
   "outputs": [],
   "source": []
  },
  {
   "cell_type": "markdown",
   "metadata": {},
   "source": [
    "<details>\n",
    "  <summary>Interpretation</summary>\n",
    "  \n",
    "Again, very interesting - looks like cold cereals are being enriched with vitamins in a way hot cereals are not.\n",
    "Hot cereals have a bit more protein but surprisingly less fiber.\n",
    "</details>\n"
   ]
  },
  {
   "cell_type": "markdown",
   "metadata": {},
   "source": [
    "## Is protein approximately normally distributed, or are their cereals with unusually high and low amounts of protein?\n",
    "\n",
    "Make a histogram on `protein` using `dataframe`"
   ]
  },
  {
   "cell_type": "code",
   "execution_count": 16,
   "metadata": {},
   "outputs": [],
   "source": []
  },
  {
   "cell_type": "markdown",
   "metadata": {},
   "source": [
    "<details>\n",
    "  <summary>Interpretation</summary>\n",
    "  \n",
    "That certainly doesn't look normal.\n",
    "It seems that protein is being manipulated somehow when the level is high.\n",
    "</details>"
   ]
  },
  {
   "cell_type": "markdown",
   "metadata": {},
   "source": [
    "<!--  -->"
   ]
  }
 ],
 "metadata": {
  "kernelspec": {
   "display_name": "xpython",
   "language": "python",
   "name": "xpython"
  },
  "language_info": {
   "file_extension": ".py",
   "mimetype": "text/x-python",
   "name": "python",
   "version": "3.7.6"
  }
 },
 "nbformat": 4,
 "nbformat_minor": 4
}
