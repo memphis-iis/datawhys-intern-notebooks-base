{
 "cells": [
  {
   "cell_type": "markdown",
   "metadata": {
    "deletable": false,
    "editable": false
   },
   "source": [
    "Copyright 2020 Andrew M. Olney and made available under [CC BY-SA](https://creativecommons.org/licenses/by-sa/4.0) for text and [Apache-2.0](http://www.apache.org/licenses/LICENSE-2.0) for code.\n"
   ]
  },
  {
   "cell_type": "markdown",
   "metadata": {},
   "source": [
    "# Decision trees: Problem solving\n",
    "\n",
    "We previously looked at predicting whether or not  a candy is popular based on its other properties using logistic regression.\n",
    "\n",
    "This gave us an idea of how  different properties **add** together to make a candy popular, but it didn't give us as much of an idea of how the properties act on each other.\n",
    "\n",
    "In this session, you will predict whether or not is popular using decision trees.\n",
    "\n",
    "This dataset [was collected](http://fivethirtyeight.com/features/the-ultimate-halloween-candy-power-ranking/) to discover the most popular Halloween candy.\n",
    "\n",
    "| Variable         | Type              | Description                                                  |\n",
    "|:-----------------|:------------------|:--------------------------------------------------------------|\n",
    "| chocolate        | Numeric (binary)  | Does it contain chocolate?                                   |\n",
    "| fruity           | Numeric (binary)  | Is it fruit flavored?                                        |\n",
    "| caramel          | Numeric (binary)  | Is there caramel in the candy?                               |\n",
    "| peanutalmondy    | Numeric (binary)  | Does it contain peanuts, peanut butter or almonds?           |\n",
    "| nougat           | Numeric (binary)  | Does it contain nougat?                                      |\n",
    "| crispedricewafer | Numeric (binary)  | Does it contain crisped rice, wafers, or a cookie component? |\n",
    "| hard             | Numeric (binary)  | Is it a hard candy?                                          |\n",
    "| bar              | Numeric (binary)  | Is it a candy bar?                                           |\n",
    "| pluribus         | Numeric (binary)  | Is it one of many candies in a bag or box?                   |\n",
    "| sugarpercent     | Numeric (0 to 1)  | The percentile of sugar it falls under within the data set.  |\n",
    "| pricepercent     | Numeric (0 to 1)  | The unit price percentile compared to the rest of the set.   |\n",
    "| winpercent       | Numeric (percent) | The overall win percentage according to 269,000 matchups     |\n",
    "| popular | Numeric (binary) | 1 if win percentage is over 50% and 0 otherwise |\n",
    "\n",
    "<div style=\"text-align:center;font-size: smaller\">\n",
    "    <b>Source:</b> This dataset is Copyright (c) 2014 ESPN Internet Ventures and distributed under an MIT license.\n",
    "</div>\n"
   ]
  },
  {
   "cell_type": "markdown",
   "metadata": {
    "slideshow": {
     "slide_type": "slide"
    }
   },
   "source": [
    "## Load the data\n",
    "\n",
    "First import `pandas`."
   ]
  },
  {
   "cell_type": "code",
   "execution_count": 1,
   "metadata": {
    "user_blocks": [
     "importAs"
    ],
    "user_blocks_xml": "<xml xmlns=\"https://developers.google.com/blockly/xml\"><variables><variable id=\"/%IFN5#t2uAm}E`8:KV:\">pd</variable></variables><block type=\"importAs\" id=\"_@5-r*j4E`}d?=DXLinf\" x=\"16\" y=\"10\"><field name=\"libraryName\">pandas</field><field name=\"VAR\" id=\"/%IFN5#t2uAm}E`8:KV:\">pd</field></block></xml>",
    "user_code_from_blocks": "import pandas as pd\n"
   },
   "outputs": [],
   "source": []
  },
  {
   "cell_type": "markdown",
   "metadata": {},
   "source": [
    "Load a dataframe with `\"datasets/candy-data.csv\"` but use `index_col=\"competitorname\"` to make `competitorname` an ID instead of a variable.\n",
    "Then display the dataframe."
   ]
  },
  {
   "cell_type": "code",
   "execution_count": 2,
   "metadata": {
    "user_blocks": [
     "variables_set",
     "varDoMethod",
     "text",
     "dummyOutputCodeBlock",
     "variables_get"
    ],
    "user_blocks_xml": "<xml xmlns=\"https://developers.google.com/blockly/xml\"><variables><variable id=\"-(zD`=)|+6ZJe1eZ)t2_\">dataframe</variable><variable id=\"/%IFN5#t2uAm}E`8:KV:\">pd</variable></variables><block type=\"variables_set\" id=\"gM*jw`FfIR3)8=g0iEB7\" x=\"45\" y=\"162\"><field name=\"VAR\" id=\"-(zD`=)|+6ZJe1eZ)t2_\">dataframe</field><value name=\"VALUE\"><block type=\"varDoMethod\" id=\"ny0sjvqTnn2B]K2za7Li\"><mutation items=\"2\"></mutation><field name=\"VAR\" id=\"/%IFN5#t2uAm}E`8:KV:\">pd</field><field name=\"MEMBER\">read_csv</field><data>pd:read_csv</data><value name=\"ADD0\"><block type=\"text\" id=\"dfrpI5b@DHr+DQ:|@vpv\"><field name=\"TEXT\">datasets/candy-data.csv</field></block></value><value name=\"ADD1\"><block type=\"dummyOutputCodeBlock\" id=\"94@wTULF[(zp|n3n`q1A\"><field name=\"CODE\">index_col=\"competitorname\"</field></block></value></block></value></block><block type=\"variables_get\" id=\"5g7J_+Ahe.sgQx}a2))V\" x=\"36\" y=\"241\"><field name=\"VAR\" id=\"-(zD`=)|+6ZJe1eZ)t2_\">dataframe</field></block></xml>",
    "user_code_from_blocks": "dataframe = pd.read_csv('datasets/candy-data.csv',index_col=\"competitorname\")\n\ndataframe\n"
   },
   "outputs": [],
   "source": []
  },
  {
   "cell_type": "markdown",
   "metadata": {},
   "source": [
    "## Explore the data\n",
    "\n",
    "Since this is a dataset you've looked at before, just make a correlation heatmap to show how the variables are related to each other.\n",
    "\n",
    "Start by importing `plotly.express`."
   ]
  },
  {
   "cell_type": "code",
   "execution_count": 3,
   "metadata": {
    "user_blocks": [
     "importAs"
    ],
    "user_blocks_xml": "<xml xmlns=\"https://developers.google.com/blockly/xml\"><variables><variable id=\"+yh,Zg{hON]zy6D~.rH#\">px</variable></variables><block type=\"importAs\" id=\"JKd}DIrGfV*IelKZ!4ls\" x=\"129\" y=\"219\"><field name=\"libraryName\">plotly.express</field><field name=\"VAR\" id=\"+yh,Zg{hON]zy6D~.rH#\">px</field></block></xml>",
    "user_code_from_blocks": "import plotly.express as px\n"
   },
   "outputs": [],
   "source": []
  },
  {
   "cell_type": "markdown",
   "metadata": {},
   "source": [
    "And create and show the heatmap figure in one line."
   ]
  },
  {
   "cell_type": "code",
   "execution_count": 4,
   "metadata": {
    "user_blocks": [
     "varDoMethod",
     "varDoMethod",
     "valueOutputCodeBlock",
     "varGetProperty",
     "valueOutputCodeBlock",
     "varGetProperty"
    ],
    "user_blocks_xml": "<xml xmlns=\"https://developers.google.com/blockly/xml\"><variables><variable id=\"+yh,Zg{hON]zy6D~.rH#\">px</variable><variable id=\"-(zD`=)|+6ZJe1eZ)t2_\">dataframe</variable></variables><block type=\"varDoMethod\" id=\"7PkTI5@+A6#C}J7CTmyF\" x=\"85\" y=\"71\"><mutation items=\"3\"></mutation><field name=\"VAR\" id=\"+yh,Zg{hON]zy6D~.rH#\">px</field><field name=\"MEMBER\">imshow</field><data>px:imshow</data><value name=\"ADD0\"><block type=\"varDoMethod\" id=\"?iaY9MJ88^K?_+|.(F,c\"><mutation items=\"1\"></mutation><field name=\"VAR\" id=\"-(zD`=)|+6ZJe1eZ)t2_\">dataframe</field><field name=\"MEMBER\">corr</field><data>dataframe:corr</data></block></value><value name=\"ADD1\"><block type=\"valueOutputCodeBlock\" id=\"WnnnMxlneM;E!_f#Ii$^\"><field name=\"CODE\">x=</field><value name=\"INPUT\"><block type=\"varGetProperty\" id=\"(l1WsMK=Bs_tLeZfLo8Y\"><field name=\"VAR\" id=\"-(zD`=)|+6ZJe1eZ)t2_\">dataframe</field><field name=\"MEMBER\">columns</field><data>dataframe:columns</data></block></value></block></value><value name=\"ADD2\"><block type=\"valueOutputCodeBlock\" id=\".dnkwWtKdzeJ:Hy*Rc/N\"><field name=\"CODE\">y=</field><value name=\"INPUT\"><block type=\"varGetProperty\" id=\"91us[f5X^$;!RDP:W7Vq\"><field name=\"VAR\" id=\"-(zD`=)|+6ZJe1eZ)t2_\">dataframe</field><field name=\"MEMBER\">columns</field><data>dataframe:columns</data></block></value></block></value></block></xml>",
    "user_code_from_blocks": "px.imshow(dataframe.corr(),x= (dataframe.columns),y= (dataframe.columns))\n"
   },
   "outputs": [],
   "source": []
  },
  {
   "cell_type": "markdown",
   "metadata": {},
   "source": [
    "----------------------------\n",
    "**QUESTION:**\n",
    "\n",
    "Look at the first two columns.\n",
    "What variables do these correspond to?"
   ]
  },
  {
   "cell_type": "markdown",
   "metadata": {},
   "source": [
    "**ANSWER: (click here to edit)**\n",
    "\n\n<hr>"
   ]
  },
  {
   "cell_type": "markdown",
   "metadata": {},
   "source": [
    "**QUESTION:**\n",
    "\n",
    "How would you describe their pattern of correlation with other variables?"
   ]
  },
  {
   "cell_type": "markdown",
   "metadata": {},
   "source": [
    "**ANSWER: (click here to edit)**\n",
    "\n\n<hr>"
   ]
  },
  {
   "cell_type": "markdown",
   "metadata": {},
   "source": [
    "## Prepare train/test sets\n",
    "\n",
    "You need to split the dataframe into training data and testing data, and also separate the predictors from the class labels.\n",
    "\n",
    "Start by dropping the label, `popular`, and its counterpart, `winpercent`, to make a new dataframe called `X`."
   ]
  },
  {
   "cell_type": "code",
   "execution_count": 8,
   "metadata": {
    "user_blocks": [
     "variables_set",
     "varDoMethod",
     "dummyOutputCodeBlock",
     "variables_get"
    ],
    "user_blocks_xml": "<xml xmlns=\"https://developers.google.com/blockly/xml\"><variables><variable id=\"_z/H/tTnOYS1Lla2~;*0\">X</variable><variable id=\"-(zD`=)|+6ZJe1eZ)t2_\">dataframe</variable></variables><block type=\"variables_set\" id=\"M9g^9:hbZQ0Cb9jKq9V6\" x=\"156\" y=\"135\"><field name=\"VAR\" id=\"_z/H/tTnOYS1Lla2~;*0\">X</field><value name=\"VALUE\"><block type=\"varDoMethod\" id=\"HF9HKI:lNqY;?[|G]m=P\"><mutation items=\"1\"></mutation><field name=\"VAR\" id=\"-(zD`=)|+6ZJe1eZ)t2_\">dataframe</field><field name=\"MEMBER\">drop</field><data>dataframe:drop</data><value name=\"ADD0\"><block type=\"dummyOutputCodeBlock\" id=\"WkdEs~{tWz~8u4:XkYHO\"><field name=\"CODE\">columns=['popular','winpercent']</field></block></value></block></value></block><block type=\"variables_get\" id=\"/Nr.JW@/a.GBv5TY]doh\" x=\"8\" y=\"296\"><field name=\"VAR\" id=\"_z/H/tTnOYS1Lla2~;*0\">X</field></block></xml>",
    "user_code_from_blocks": "X = dataframe.drop(columns=['popular','winpercent'])\n\nX\n"
   },
   "outputs": [],
   "source": []
  },
  {
   "cell_type": "markdown",
   "metadata": {},
   "source": [
    "Save a dataframe with just `popular` in `Y`."
   ]
  },
  {
   "cell_type": "code",
   "execution_count": 10,
   "metadata": {
    "user_blocks": [
     "variables_set",
     "indexer",
     "lists_create_with",
     "text",
     "variables_get"
    ],
    "user_blocks_xml": "<xml xmlns=\"https://developers.google.com/blockly/xml\"><variables><variable id=\"o8#tp%!,_Okj2aVwX(DL\">Y</variable><variable id=\"-(zD`=)|+6ZJe1eZ)t2_\">dataframe</variable></variables><block type=\"variables_set\" id=\"}]#HEKuNXU,bl61JboC+\" x=\"19\" y=\"268\"><field name=\"VAR\" id=\"o8#tp%!,_Okj2aVwX(DL\">Y</field><value name=\"VALUE\"><block type=\"indexer\" id=\"y*#)DVgO!%@-E$_~HpE)\"><field name=\"VAR\" id=\"-(zD`=)|+6ZJe1eZ)t2_\">dataframe</field><value name=\"INDEX\"><block type=\"lists_create_with\" id=\"1U,=SV*5.xPNGBe$e2!(\"><mutation items=\"1\"></mutation><value name=\"ADD0\"><block type=\"text\" id=\"77J3q}D!9)x]F3BujI.x\"><field name=\"TEXT\">popular</field></block></value></block></value></block></value></block><block type=\"variables_get\" id=\"IW~Wh/Ymz%;;U$NRbzs}\" x=\"21\" y=\"332\"><field name=\"VAR\" id=\"o8#tp%!,_Okj2aVwX(DL\">Y</field></block></xml>",
    "user_code_from_blocks": "Y = dataframe[['popular']]\n\nY\n"
   },
   "outputs": [],
   "source": []
  },
  {
   "cell_type": "markdown",
   "metadata": {},
   "source": [
    "Import `sklearn.model_selection` to split `X` and `Y` into train and test sets."
   ]
  },
  {
   "cell_type": "code",
   "execution_count": 12,
   "metadata": {
    "user_blocks": [
     "importAs"
    ],
    "user_blocks_xml": "<xml xmlns=\"https://developers.google.com/blockly/xml\"><variables><variable id=\"-q~R*yx.VGQ@%!0Q+!gh\">model_selection</variable></variables><block type=\"importAs\" id=\"E{QJ$O@lc8u.;OTWdVgf\" x=\"-89\" y=\"168\"><field name=\"libraryName\">sklearn.model_selection</field><field name=\"VAR\" id=\"-q~R*yx.VGQ@%!0Q+!gh\">model_selection</field></block></xml>",
    "user_code_from_blocks": "import sklearn.model_selection as model_selection\n"
   },
   "outputs": [],
   "source": []
  },
  {
   "cell_type": "markdown",
   "metadata": {},
   "source": [
    "Now do the splits. Use `random_state=1` so we all get the same answer"
   ]
  },
  {
   "cell_type": "code",
   "execution_count": 14,
   "metadata": {
    "user_blocks": [
     "variables_set",
     "varDoMethod",
     "variables_get",
     "variables_get",
     "dummyOutputCodeBlock"
    ],
    "user_blocks_xml": "<xml xmlns=\"https://developers.google.com/blockly/xml\"><variables><variable id=\"{Yt*9=2tTC$JepE9BcRz\">splits</variable><variable id=\"-q~R*yx.VGQ@%!0Q+!gh\">model_selection</variable><variable id=\"_z/H/tTnOYS1Lla2~;*0\">X</variable><variable id=\"o8#tp%!,_Okj2aVwX(DL\">Y</variable></variables><block type=\"variables_set\" id=\"HpD!.HSC`PPRg]21i*7c\" x=\"-75\" y=\"149\"><field name=\"VAR\" id=\"{Yt*9=2tTC$JepE9BcRz\">splits</field><value name=\"VALUE\"><block type=\"varDoMethod\" id=\"fUetl3$Ak=SI~T6T5!6c\"><mutation items=\"3\"></mutation><field name=\"VAR\" id=\"-q~R*yx.VGQ@%!0Q+!gh\">model_selection</field><field name=\"MEMBER\">train_test_split</field><data>model_selection:train_test_split</data><value name=\"ADD0\"><block type=\"variables_get\" id=\"jN^;NIVaV%22*W_^|!uK\"><field name=\"VAR\" id=\"_z/H/tTnOYS1Lla2~;*0\">X</field></block></value><value name=\"ADD1\"><block type=\"variables_get\" id=\"OOZSj;YDm{T6q%{~5?B1\"><field name=\"VAR\" id=\"o8#tp%!,_Okj2aVwX(DL\">Y</field></block></value><value name=\"ADD2\"><block type=\"dummyOutputCodeBlock\" id=\"Gg*^%q4qIJwc*of,V|rb\"><field name=\"CODE\">random_state=1</field></block></value></block></value></block></xml>",
    "user_code_from_blocks": "splits = model_selection.train_test_split(X,Y,random_state=1)\n"
   },
   "outputs": [],
   "source": []
  },
  {
   "cell_type": "markdown",
   "metadata": {},
   "source": [
    "## Decision tree model\n",
    "\n",
    "First import `sklearn.tree`."
   ]
  },
  {
   "cell_type": "code",
   "execution_count": 16,
   "metadata": {
    "user_blocks": [
     "importAs"
    ],
    "user_blocks_xml": "<xml xmlns=\"https://developers.google.com/blockly/xml\"><variables><variable id=\"tkeU~z;dQ]^6[?rbF?)9\">tree</variable></variables><block type=\"importAs\" id=\"?`a/SEo[mr`kFXR@l=`@\" x=\"16\" y=\"10\"><field name=\"libraryName\">sklearn.tree</field><field name=\"VAR\" id=\"tkeU~z;dQ]^6[?rbF?)9\">tree</field></block></xml>",
    "user_code_from_blocks": "import sklearn.tree as tree\n"
   },
   "outputs": [],
   "source": []
  },
  {
   "cell_type": "markdown",
   "metadata": {},
   "source": [
    "Now create the decision tree model"
   ]
  },
  {
   "cell_type": "code",
   "execution_count": 18,
   "metadata": {
    "user_blocks": [
     "variables_set",
     "varCreateObject"
    ],
    "user_blocks_xml": "<xml xmlns=\"https://developers.google.com/blockly/xml\"><variables><variable id=\"fYtGc,k9LOv^%_9|[cfE\">decisionTree</variable><variable id=\"tkeU~z;dQ]^6[?rbF?)9\">tree</variable></variables><block type=\"variables_set\" id=\"0{MIimjRn(`+`5M$0_U7\" x=\"-90\" y=\"132\"><field name=\"VAR\" id=\"fYtGc,k9LOv^%_9|[cfE\">decisionTree</field><value name=\"VALUE\"><block type=\"varCreateObject\" id=\"?`dwaKnOBjnrd}`doxhF\"><mutation items=\"1\"></mutation><field name=\"VAR\" id=\"tkeU~z;dQ]^6[?rbF?)9\">tree</field><field name=\"MEMBER\">DecisionTreeClassifier</field><data>tree:DecisionTreeClassifier</data></block></value></block></xml>",
    "user_code_from_blocks": "decisionTree = tree.DecisionTreeClassifier()\n"
   },
   "outputs": [],
   "source": []
  },
  {
   "cell_type": "markdown",
   "metadata": {},
   "source": [
    "----------------------------\n",
    "**QUESTION:**\n",
    "\n",
    "Why don't we need to scale anything?"
   ]
  },
  {
   "cell_type": "markdown",
   "metadata": {},
   "source": [
    "**ANSWER: (click here to edit)**\n",
    "\n\n<hr>"
   ]
  },
  {
   "cell_type": "markdown",
   "metadata": {},
   "source": [
    "Fit the model and get predictions."
   ]
  },
  {
   "cell_type": "code",
   "execution_count": 20,
   "metadata": {
    "user_blocks": [
     "varDoMethod",
     "lists_getIndex",
     "variables_get",
     "math_number",
     "lists_getIndex",
     "variables_get",
     "math_number",
     "variables_set",
     "varDoMethod",
     "lists_getIndex",
     "variables_get",
     "math_number"
    ],
    "user_blocks_xml": "<xml xmlns=\"https://developers.google.com/blockly/xml\"><variables><variable id=\"fYtGc,k9LOv^%_9|[cfE\">decisionTree</variable><variable id=\".hU+?FvKPIm~!dS$d-nj\">predictions</variable><variable id=\"{Yt*9=2tTC$JepE9BcRz\">splits</variable></variables><block type=\"varDoMethod\" id=\"-@fm,911cJiCu@jkys%R\" x=\"3\" y=\"112\"><mutation items=\"2\"></mutation><field name=\"VAR\" id=\"fYtGc,k9LOv^%_9|[cfE\">decisionTree</field><field name=\"MEMBER\">fit</field><data>decisionTree:fit</data><value name=\"ADD0\"><block type=\"lists_getIndex\" id=\"W~.ZU([-)(,-i3=bTsB|\"><mutation statement=\"false\" at=\"true\"></mutation><field name=\"MODE\">GET</field><field name=\"WHERE\">FROM_START</field><value name=\"VALUE\"><block type=\"variables_get\" id=\"GIJn[jpD_~wa}#7IO!1K\"><field name=\"VAR\" id=\"{Yt*9=2tTC$JepE9BcRz\">splits</field></block></value><value name=\"AT\"><block type=\"math_number\" id=\"Rh[;nrMLN$[cFFsZC~T|\"><field name=\"NUM\">1</field></block></value></block></value><value name=\"ADD1\"><block type=\"lists_getIndex\" id=\"YkCD57xF*SSN3[`_op{u\"><mutation statement=\"false\" at=\"true\"></mutation><field name=\"MODE\">GET</field><field name=\"WHERE\">FROM_START</field><value name=\"VALUE\"><block type=\"variables_get\" id=\"M@?wn}aoHxJYan0=AE3$\"><field name=\"VAR\" id=\"{Yt*9=2tTC$JepE9BcRz\">splits</field></block></value><value name=\"AT\"><block type=\"math_number\" id=\"jNUa2BdXPG?H8|.br*@e\"><field name=\"NUM\">3</field></block></value></block></value></block><block type=\"variables_set\" id=\"daux0S`FF4kBzgJJ/Mqz\" x=\"21\" y=\"283\"><field name=\"VAR\" id=\".hU+?FvKPIm~!dS$d-nj\">predictions</field><value name=\"VALUE\"><block type=\"varDoMethod\" id=\"RP,Dx+UgHdie=fa^FUQx\"><mutation items=\"1\"></mutation><field name=\"VAR\" id=\"fYtGc,k9LOv^%_9|[cfE\">decisionTree</field><field name=\"MEMBER\">predict</field><data>decisionTree:predict</data><value name=\"ADD0\"><block type=\"lists_getIndex\" id=\"8r8{|6/j)E}1Rxb?x?p$\"><mutation statement=\"false\" at=\"true\"></mutation><field name=\"MODE\">GET</field><field name=\"WHERE\">FROM_START</field><value name=\"VALUE\"><block type=\"variables_get\" id=\"Oyc5Q^u*myHiMK#zx_k/\"><field name=\"VAR\" id=\"{Yt*9=2tTC$JepE9BcRz\">splits</field></block></value><value name=\"AT\"><block type=\"math_number\" id=\"}ODw{=32f7kWh0kiF,%I\"><field name=\"NUM\">2</field></block></value></block></value></block></value></block></xml>",
    "user_code_from_blocks": "decisionTree.fit(splits[0],splits[2])\n\npredictions = decisionTree.predict(splits[1])\n"
   },
   "outputs": [],
   "source": []
  },
  {
   "cell_type": "markdown",
   "metadata": {},
   "source": [
    "## Evaluate model performance\n",
    "\n",
    "Import `sklearn.metrics`."
   ]
  },
  {
   "cell_type": "code",
   "execution_count": 22,
   "metadata": {
    "user_blocks": [
     "importAs"
    ],
    "user_blocks_xml": "<xml xmlns=\"https://developers.google.com/blockly/xml\"><variables><variable id=\"jpz]0=,hLYv~rN^#0dFO\">metrics</variable></variables><block type=\"importAs\" id=\"CEkPf]fPOl]|@Gl1lho[\" x=\"-101\" y=\"139\"><field name=\"libraryName\">sklearn.metrics</field><field name=\"VAR\" id=\"jpz]0=,hLYv~rN^#0dFO\">metrics</field></block></xml>",
    "user_code_from_blocks": "import sklearn.metrics as metrics\n"
   },
   "outputs": [],
   "source": []
  },
  {
   "cell_type": "markdown",
   "metadata": {},
   "source": [
    "Get the accuracy."
   ]
  },
  {
   "cell_type": "code",
   "execution_count": 24,
   "metadata": {
    "user_blocks": [
     "text_print",
     "varDoMethod",
     "lists_getIndex",
     "variables_get",
     "math_number",
     "variables_get"
    ],
    "user_blocks_xml": "<xml xmlns=\"https://developers.google.com/blockly/xml\"><variables><variable id=\"jpz]0=,hLYv~rN^#0dFO\">metrics</variable><variable id=\".hU+?FvKPIm~!dS$d-nj\">predictions</variable><variable id=\"{Yt*9=2tTC$JepE9BcRz\">splits</variable></variables><block type=\"text_print\" id=\"u8M]eo-vRBhX!L/a@4+J\" x=\"26\" y=\"198\"><value name=\"TEXT\"><block type=\"varDoMethod\" id=\"0B;?~qgT4?Xe8I|O=P)%\"><mutation items=\"2\"></mutation><field name=\"VAR\" id=\"jpz]0=,hLYv~rN^#0dFO\">metrics</field><field name=\"MEMBER\">accuracy_score</field><data>metrics:accuracy_score</data><value name=\"ADD0\"><block type=\"lists_getIndex\" id=\"13J^-{z`P=,aau/j:VF~\"><mutation statement=\"false\" at=\"true\"></mutation><field name=\"MODE\">GET</field><field name=\"WHERE\">FROM_START</field><value name=\"VALUE\"><block type=\"variables_get\" id=\"m^Z6y-8@L:s!oS)`%iJW\"><field name=\"VAR\" id=\"{Yt*9=2tTC$JepE9BcRz\">splits</field></block></value><value name=\"AT\"><block type=\"math_number\" id=\"u}VxLP~*Dbl0g4[AO,bL\"><field name=\"NUM\">4</field></block></value></block></value><value name=\"ADD1\"><block type=\"variables_get\" id=\"|3h,TPit9wg+a;bR[r$P\"><field name=\"VAR\" id=\".hU+?FvKPIm~!dS$d-nj\">predictions</field></block></value></block></value></block></xml>",
    "user_code_from_blocks": "print(metrics.accuracy_score(splits[3],predictions))\n"
   },
   "outputs": [],
   "source": []
  },
  {
   "cell_type": "markdown",
   "metadata": {},
   "source": [
    "And get the recall, precision, and f1."
   ]
  },
  {
   "cell_type": "code",
   "execution_count": 26,
   "metadata": {
    "user_blocks": [
     "text_print",
     "varDoMethod",
     "lists_getIndex",
     "variables_get",
     "math_number",
     "variables_get"
    ],
    "user_blocks_xml": "<xml xmlns=\"https://developers.google.com/blockly/xml\"><variables><variable id=\"jpz]0=,hLYv~rN^#0dFO\">metrics</variable><variable id=\".hU+?FvKPIm~!dS$d-nj\">predictions</variable><variable id=\"{Yt*9=2tTC$JepE9BcRz\">splits</variable></variables><block type=\"text_print\" id=\"jFo8knaDn;JRZ=Fj7Tzo\" x=\"12\" y=\"170\"><value name=\"TEXT\"><block type=\"varDoMethod\" id=\"(y`#h=AgNH6X+ahL$2L$\"><mutation items=\"2\"></mutation><field name=\"VAR\" id=\"jpz]0=,hLYv~rN^#0dFO\">metrics</field><field name=\"MEMBER\">classification_report</field><data>metrics:classification_report</data><value name=\"ADD0\"><block type=\"lists_getIndex\" id=\"*N[l.zzXc*IdHJ-Ur0D)\"><mutation statement=\"false\" at=\"true\"></mutation><field name=\"MODE\">GET</field><field name=\"WHERE\">FROM_START</field><value name=\"VALUE\"><block type=\"variables_get\" id=\"fQYj?Tz[y/t|%9~{2Pf[\"><field name=\"VAR\" id=\"{Yt*9=2tTC$JepE9BcRz\">splits</field></block></value><value name=\"AT\"><block type=\"math_number\" id=\"V(5k43YOsHPep%LEEd9Q\"><field name=\"NUM\">4</field></block></value></block></value><value name=\"ADD1\"><block type=\"variables_get\" id=\"mX(20KX!C)d_,/ddeysr\"><field name=\"VAR\" id=\".hU+?FvKPIm~!dS$d-nj\">predictions</field></block></value></block></value></block></xml>",
    "user_code_from_blocks": "print(metrics.classification_report(splits[3],predictions))\n"
   },
   "outputs": [],
   "source": []
  },
  {
   "cell_type": "markdown",
   "metadata": {},
   "source": [
    "As we can see, both the accuracy and the average precision, recall, and f1 are all very good."
   ]
  },
  {
   "cell_type": "markdown",
   "metadata": {},
   "source": [
    "## Display the Tree"
   ]
  },
  {
   "cell_type": "markdown",
   "metadata": {},
   "source": [
    "First import `graphviz`."
   ]
  },
  {
   "cell_type": "code",
   "execution_count": 29,
   "metadata": {
    "user_blocks": [
     "importAs"
    ],
    "user_blocks_xml": "<xml xmlns=\"https://developers.google.com/blockly/xml\"><variables><variable id=\"rrXqQ:9R(~X0,}F[1UD]\">graphviz</variable></variables><block type=\"importAs\" id=\"5j3UPoKQcO/bU0u!@P06\" x=\"16\" y=\"36\"><field name=\"libraryName\">graphviz</field><field name=\"VAR\" id=\"rrXqQ:9R(~X0,}F[1UD]\">graphviz</field></block></xml>",
    "user_code_from_blocks": "import graphviz as graphviz\n"
   },
   "outputs": [],
   "source": []
  },
  {
   "cell_type": "markdown",
   "metadata": {},
   "source": [
    "And use it to build the tree. Try to copy this from your other notebook if at all possible."
   ]
  },
  {
   "cell_type": "code",
   "execution_count": 31,
   "metadata": {
    "user_blocks": [
     "variables_set",
     "varDoMethod",
     "variables_get",
     "dummyOutputCodeBlock",
     "dummyOutputCodeBlock",
     "dummyOutputCodeBlock",
     "dummyOutputCodeBlock",
     "dummyOutputCodeBlock",
     "dummyOutputCodeBlock",
     "varCreateObject",
     "variables_get"
    ],
    "user_blocks_xml": "<xml xmlns=\"https://developers.google.com/blockly/xml\"><variables><variable id=\"F.ej=Hud7vT9uozVaF5C\">dot_data</variable><variable id=\"rrXqQ:9R(~X0,}F[1UD]\">graphviz</variable><variable id=\"tkeU~z;dQ]^6[?rbF?)9\">tree</variable><variable id=\"fYtGc,k9LOv^%_9|[cfE\">decisionTree</variable></variables><block type=\"variables_set\" id=\":6*zm74#9$!O3?QVUukE\" x=\"12\" y=\"176\"><field name=\"VAR\" id=\"F.ej=Hud7vT9uozVaF5C\">dot_data</field><value name=\"VALUE\"><block type=\"varDoMethod\" id=\"jsRyzb,9t~G^G@G@SMkS\"><mutation items=\"7\"></mutation><field name=\"VAR\" id=\"tkeU~z;dQ]^6[?rbF?)9\">tree</field><field name=\"MEMBER\">export_graphviz</field><data>tree:export_graphviz</data><value name=\"ADD0\"><block type=\"variables_get\" id=\"x$]b$%X#}qjO@0H/!O|N\"><field name=\"VAR\" id=\"fYtGc,k9LOv^%_9|[cfE\">decisionTree</field></block></value><value name=\"ADD1\"><block type=\"dummyOutputCodeBlock\" id=\"K!=:ty3DMPs#b^ziH=5p\"><field name=\"CODE\">out_file=None</field></block></value><value name=\"ADD2\"><block type=\"dummyOutputCodeBlock\" id=\"4=`@0`s#P?-p!O`Vv_8o\"><field name=\"CODE\">feature_names=[\"chocolate\",\"fruity\",\"caramel\",\"peanutyalmondy\",\"nougat\",\"crispedricewafer\",\"hard\",\"bar\",\"pluribus\",\"sugarpercent\",\"pricepercent\"]</field></block></value><value name=\"ADD3\"><block type=\"dummyOutputCodeBlock\" id=\"}9s+(fF@pHV!vFwa)B2v\"><field name=\"CODE\">class_names=['0','1']</field></block></value><value name=\"ADD4\"><block type=\"dummyOutputCodeBlock\" id=\"^IJ3b3Eg7K9k^6Of_4i%\"><field name=\"CODE\">filled=True</field></block></value><value name=\"ADD5\"><block type=\"dummyOutputCodeBlock\" id=\"VH!NxdBRgItjnN]Zs^Uh\"><field name=\"CODE\">rounded=True</field></block></value><value name=\"ADD6\"><block type=\"dummyOutputCodeBlock\" id=\"f*|7fCy,K/0{_WzfribG\"><field name=\"CODE\">special_characters=True</field></block></value></block></value></block><block type=\"varCreateObject\" id=\"e#:go,;P@0H5[+u[7oDT\" x=\"10\" y=\"425\"><mutation items=\"1\"></mutation><field name=\"VAR\" id=\"rrXqQ:9R(~X0,}F[1UD]\">graphviz</field><field name=\"MEMBER\">Source</field><data>graphviz:Source</data><value name=\"ADD0\"><block type=\"variables_get\" id=\"X!;l`d)95n$iGiWU~m(3\"><field name=\"VAR\" id=\"F.ej=Hud7vT9uozVaF5C\">dot_data</field></block></value></block></xml>",
    "user_code_from_blocks": "dot_data = tree.export_graphviz(decisionTree,out_file=None,feature_names=[\"chocolate\",\"fruity\",\"caramel\",\"peanutyalmondy\",\"nougat\",\"crispedricewafer\",\"hard\",\"bar\",\"pluribus\",\"sugarpercent\",\"pricepercent\"],class_names=['0','1'],filled=True,rounded=True,special_characters=True)\n\ngraphviz.Source(dot_data)\n"
   },
   "outputs": [],
   "source": []
  },
  {
   "cell_type": "markdown",
   "metadata": {},
   "source": [
    "--------------\n",
    "\n",
    "**QUESTION:**\n",
    "\n",
    "Explain the tree - what are the first three important decisions it makes?"
   ]
  },
  {
   "cell_type": "markdown",
   "metadata": {},
   "source": [
    "**ANSWER: (click here to edit)**\n",
    "\n\n<hr>"
   ]
  },
  {
   "attachments": {
    "image.png": {
     "image/png": "[encoded data removed]"
    }
   },
   "cell_type": "markdown",
   "metadata": {},
   "source": [
    "**QUESTION:**\n",
    "\n",
    "Consider what the logistic regression model said were important features below. \n",
    "How does the decision tree compare?\n",
    "\n",
    "![image.png](attachment:image.png)"
   ]
  },
  {
   "cell_type": "markdown",
   "metadata": {},
   "source": [
    "**ANSWER: (click here to edit)**\n",
    "\n\n<hr>"
   ]
  },
  {
   "cell_type": "markdown",
   "metadata": {},
   "source": [
    "**QUESTION:**\n",
    "\n",
    "Which model (decision tree or logistic regression) do you think is more correct?\n",
    "How would you know?"
   ]
  },
  {
   "cell_type": "markdown",
   "metadata": {},
   "source": [
    "**ANSWER: (click here to edit)**\n",
    "\n\n<hr>"
   ]
  },
  {
   "cell_type": "markdown",
   "metadata": {},
   "source": [
    "<!--  -->"
   ]
  }
 ],
 "metadata": {
  "kernelspec": {
   "display_name": "Python 3 (ipykernel)",
   "language": "python",
   "name": "python3"
  },
  "language_info": {
   "codemirror_mode": {
    "name": "ipython",
    "version": 3
   },
   "file_extension": ".py",
   "mimetype": "text/x-python",
   "name": "python",
   "nbconvert_exporter": "python",
   "pygments_lexer": "ipython3",
   "version": "3.12.6"
  }
 },
 "nbformat": 4,
 "nbformat_minor": 4
}
