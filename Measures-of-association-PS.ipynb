{
 "cells": [
  {
   "cell_type": "markdown",
   "metadata": {},
   "source": [
    "Copyright 2020 Andrew M. Olney, Dale Bowman and made available under [CC BY-SA](https://creativecommons.org/licenses/by-sa/4.0) for text and [Apache-2.0](http://www.apache.org/licenses/LICENSE-2.0) for code."
   ]
  },
  {
   "cell_type": "markdown",
   "metadata": {
    "deletable": false,
    "editable": false
   },
   "source": [
    "# Measures of association: Problem solving\n",
    "\n",
    "In this session we will take a closer look at the relationship between scatterplots and correlation matrices across several datasets.\n",
    "\n",
    "## Import libraries\n",
    "\n",
    "We need to load our data into a dataframe and do some plots, so import `pandas` and `plotly.express` below."
   ]
  },
  {
   "cell_type": "code",
   "execution_count": 4,
   "metadata": {
    "user_blocks": [
     "importAs",
     "importAs"
    ],
    "user_blocks_xml": "<xml xmlns=\"https://developers.google.com/blockly/xml\"><variables><variable id=\"i!#]:2XI=^qLb$e.|iwo\">pd</variable><variable id=\"+yh,Zg{hON]zy6D~.rH#\">px</variable></variables><block type=\"importAs\" id=\"*]+[97*lfc0xBExPyl{#\" x=\"174\" y=\"297\"><field name=\"libraryName\">pandas</field><field name=\"VAR\" id=\"i!#]:2XI=^qLb$e.|iwo\">pd</field><next><block type=\"importAs\" id=\"@#_k}BYSLDvIuIkJd!iA\"><field name=\"libraryName\">plotly.express</field><field name=\"VAR\" id=\"+yh,Zg{hON]zy6D~.rH#\">px</field></block></next></block></xml>",
    "user_code_from_blocks": "import pandas as pd\nimport plotly.express as px\n"
   },
   "outputs": [],
   "source": []
  },
  {
   "cell_type": "markdown",
   "metadata": {},
   "source": [
    "## MPG\n",
    "\n",
    "We'll use a new dataset that has the horsepower, MPG, and other features of 1970s cars called `mpg`.\n",
    "\n",
    "Load the CSV file \"datasets/mpg.csv\" into a dataframe."
   ]
  },
  {
   "cell_type": "code",
   "execution_count": 8,
   "metadata": {
    "user_blocks": [
     "variables_set",
     "varDoMethod",
     "text",
     "variables_get"
    ],
    "user_blocks_xml": "<xml xmlns=\"https://developers.google.com/blockly/xml\"><variables><variable id=\"!m][%?H-Yr,.F_SCv,^9\">dataframe</variable><variable id=\"i!#]:2XI=^qLb$e.|iwo\">pd</variable></variables><block type=\"variables_set\" id=\"QprsrLvZ_G:y4$!@2*d#\" x=\"21\" y=\"172\"><field name=\"VAR\" id=\"!m][%?H-Yr,.F_SCv,^9\">dataframe</field><value name=\"VALUE\"><block type=\"varDoMethod\" id=\"h[BIiU^0[[vbD`zoBn6+\"><mutation items=\"1\"></mutation><field name=\"VAR\" id=\"i!#]:2XI=^qLb$e.|iwo\">pd</field><field name=\"MEMBER\">read_csv</field><data>pd:read_csv</data><value name=\"ADD0\"><block type=\"text\" id=\"HyH?(x3/MuPXE`T5;)[@\"><field name=\"TEXT\">datasets/mpg.csv</field></block></value></block></value></block><block type=\"variables_get\" id=\"}Js9R,17:LQ,r~xJ0$tR\" x=\"-1\" y=\"364\"><field name=\"VAR\" id=\"!m][%?H-Yr,.F_SCv,^9\">dataframe</field></block></xml>",
    "user_code_from_blocks": "dataframe = pd.read_csv('datasets/mpg.csv')\n\ndataframe\n"
   },
   "outputs": [],
   "source": []
  },
  {
   "cell_type": "markdown",
   "metadata": {},
   "source": [
    "Now create and show a correlation matrix for the `mpg` dataframe."
   ]
  },
  {
   "cell_type": "code",
   "execution_count": 13,
   "metadata": {
    "user_blocks": [
     "variables_set",
     "varDoMethod",
     "dummyOutputCodeBlock",
     "variables_get"
    ],
    "user_blocks_xml": "<xml xmlns=\"https://developers.google.com/blockly/xml\"><variables><variable id=\"+fxL=2Fsb~[PLqWXWM[=\">corrMatrix</variable><variable id=\"!m][%?H-Yr,.F_SCv,^9\">dataframe</variable></variables><block type=\"variables_set\" id=\"|nP]@xz#(Ym{wTE#ZHN@\" x=\"-9\" y=\"199\"><field name=\"VAR\" id=\"+fxL=2Fsb~[PLqWXWM[=\">corrMatrix</field><value name=\"VALUE\"><block type=\"varDoMethod\" id=\"CwWM3/~Rfk?J8~*=W+~j\"><mutation items=\"1\"></mutation><field name=\"VAR\" id=\"!m][%?H-Yr,.F_SCv,^9\">dataframe</field><field name=\"MEMBER\">corr</field><data>dataframe:corr</data><value name=\"ADD0\"><block type=\"dummyOutputCodeBlock\" id=\"H*NyHqYN/u!;9N6CaJ6T\"><field name=\"CODE\">numeric_only=True</field></block></value></block></value></block><block type=\"variables_get\" id=\"![a0)2lQg~WMq./e9Jxk\" x=\"-7\" y=\"264\"><field name=\"VAR\" id=\"+fxL=2Fsb~[PLqWXWM[=\">corrMatrix</field></block></xml>",
    "user_code_from_blocks": "corrMatrix = dataframe.corr(numeric_only=True)\n\ncorrMatrix\n"
   },
   "outputs": [],
   "source": []
  },
  {
   "cell_type": "markdown",
   "metadata": {},
   "source": [
    "As we stated before, it's a lot easier to see the correlations as a heatmap, especially when there are a lot of them.\n",
    "\n",
    "Create a heatmap with axis labels below."
   ]
  },
  {
   "cell_type": "code",
   "execution_count": 15,
   "metadata": {
    "user_blocks": [
     "varDoMethod",
     "variables_get",
     "valueOutputCodeBlock",
     "varGetProperty",
     "valueOutputCodeBlock",
     "varGetProperty"
    ],
    "user_blocks_xml": "<xml xmlns=\"https://developers.google.com/blockly/xml\"><variables><variable id=\"+yh,Zg{hON]zy6D~.rH#\">px</variable><variable id=\"+fxL=2Fsb~[PLqWXWM[=\">corrMatrix</variable></variables><block type=\"varDoMethod\" id=\"7PkTI5@+A6#C}J7CTmyF\" x=\"63\" y=\"153\"><mutation items=\"3\"></mutation><field name=\"VAR\" id=\"+yh,Zg{hON]zy6D~.rH#\">px</field><field name=\"MEMBER\">imshow</field><data>px:imshow</data><value name=\"ADD0\"><block type=\"variables_get\" id=\"DrBaD`rGEl+a=qpT5bB%\"><field name=\"VAR\" id=\"+fxL=2Fsb~[PLqWXWM[=\">corrMatrix</field></block></value><value name=\"ADD1\"><block type=\"valueOutputCodeBlock\" id=\":t|BUn$4=yp,Djax!iYN\"><field name=\"CODE\">x=</field><value name=\"INPUT\"><block type=\"varGetProperty\" id=\"CpA=c^{:N7|bZ;w+s7iF\"><field name=\"VAR\" id=\"+fxL=2Fsb~[PLqWXWM[=\">corrMatrix</field><field name=\"MEMBER\">columns</field><data>corrMatrix:columns</data></block></value></block></value><value name=\"ADD2\"><block type=\"valueOutputCodeBlock\" id=\"v7C?W!4JXSX2V]}+b}D,\"><field name=\"CODE\">y=</field><value name=\"INPUT\"><block type=\"varGetProperty\" id=\"@6I4JtsNe;G~mlkM.aG{\"><field name=\"VAR\" id=\"+fxL=2Fsb~[PLqWXWM[=\">corrMatrix</field><field name=\"MEMBER\">columns</field><data>corrMatrix:columns</data></block></value></block></value></block></xml>",
    "user_code_from_blocks": "px.imshow(corrMatrix,x= (corrMatrix.columns),y= (corrMatrix.columns))\n"
   },
   "outputs": [],
   "source": []
  },
  {
   "cell_type": "markdown",
   "metadata": {},
   "source": [
    "**QUESTION:**\n",
    "\n",
    "Why do you think `acceleration` and `mpg` are positively correlated?"
   ]
  },
  {
   "cell_type": "markdown",
   "metadata": {},
   "source": [
    "**ANSWER: (click here to edit)**\n",
    "\n\n<hr>"
   ]
  },
  {
   "cell_type": "markdown",
   "metadata": {},
   "source": [
    "**QUESTION:**\n",
    "\n",
    "Why do you think `model_year` and `mpg` are positively correlated?"
   ]
  },
  {
   "cell_type": "markdown",
   "metadata": {},
   "source": [
    "**ANSWER: (click here to edit)**\n",
    "\n\n<hr>"
   ]
  },
  {
   "cell_type": "markdown",
   "metadata": {},
   "source": [
    "Here's something we didn't do before, but it's very similar to `plotly` plots we've already done.\n",
    "\n",
    "Create a new figure like you did above for the heatmap, but instead of `imshow` do `scatter_matrix`, and make the 3 things in your `using` list be\n",
    "\n",
    "- Your `mpg` dataframe\n",
    "- `width=1000`\n",
    "- `height=1000`\n",
    "\n",
    "This will create a figure with a matrix of scatterplots, one for each combination of variables in the dataframe."
   ]
  },
  {
   "cell_type": "code",
   "execution_count": 18,
   "metadata": {
    "user_blocks": [
     "varDoMethod",
     "variables_get",
     "dummyOutputCodeBlock",
     "dummyOutputCodeBlock"
    ],
    "user_blocks_xml": "<xml xmlns=\"https://developers.google.com/blockly/xml\"><variables><variable id=\"+yh,Zg{hON]zy6D~.rH#\">px</variable><variable id=\"!m][%?H-Yr,.F_SCv,^9\">dataframe</variable></variables><block type=\"varDoMethod\" id=\"7PkTI5@+A6#C}J7CTmyF\" x=\"7\" y=\"169\"><mutation items=\"3\"></mutation><field name=\"VAR\" id=\"+yh,Zg{hON]zy6D~.rH#\">px</field><field name=\"MEMBER\">scatter_matrix</field><data>px:scatter_matrix</data><value name=\"ADD0\"><block type=\"variables_get\" id=\"DrBaD`rGEl+a=qpT5bB%\"><field name=\"VAR\" id=\"!m][%?H-Yr,.F_SCv,^9\">dataframe</field></block></value><value name=\"ADD1\"><block type=\"dummyOutputCodeBlock\" id=\"o3A`qJmyzED,n$[s{C[z\"><field name=\"CODE\">height=1000</field></block></value><value name=\"ADD2\"><block type=\"dummyOutputCodeBlock\" id=\"{*f`@yKxQwFFt+lKJ0vp\"><field name=\"CODE\">width=1000</field></block></value></block></xml>",
    "user_code_from_blocks": "px.scatter_matrix(dataframe,height=1000,width=1000)\n"
   },
   "outputs": [],
   "source": []
  },
  {
   "cell_type": "markdown",
   "metadata": {},
   "source": [
    "Remember that correlation is a *linear* relationship, so curves and outliers can distort correlations.\n",
    "\n",
    "**QUESTION:**\n",
    "\n",
    "Looking at the scatterplot matrix, which variables have a linear relationship with `mpg`? \n",
    "Which have curved relationships with `mpg`?\n",
    "Which variables have outliers in their scatterplots with `mpg`?"
   ]
  },
  {
   "cell_type": "markdown",
   "metadata": {},
   "source": [
    "**ANSWER: (click here to edit)**\n",
    "\n\n<hr>"
   ]
  },
  {
   "cell_type": "markdown",
   "metadata": {},
   "source": [
    "**QUESTION:**\n",
    "\n",
    "Looking at the scatterplot matrix, which variables have a linear relationship with `cylinders`? \n",
    "Which have curved relationships with `cylinders`?\n",
    "Which variables have outliers in their scatterplots with `cylinders`?"
   ]
  },
  {
   "cell_type": "markdown",
   "metadata": {},
   "source": [
    "**ANSWER: (click here to edit)**\n",
    "\n\n<hr>"
   ]
  },
  {
   "cell_type": "markdown",
   "metadata": {},
   "source": [
    "**QUESTION:**\n",
    "\n",
    "How do the answers to the three questions above change for `displacement`, `horsepower`, and `weight`?"
   ]
  },
  {
   "cell_type": "markdown",
   "metadata": {},
   "source": [
    "**ANSWER: (click here to edit)**\n",
    "\n\n<hr>"
   ]
  },
  {
   "cell_type": "markdown",
   "metadata": {},
   "source": [
    "Now display the correlation matrix for `mpg` again below, so you don't have to scroll up an down as much. \n",
    "You're going to compare the correlation matrix and the scatterplot matrix."
   ]
  },
  {
   "cell_type": "code",
   "execution_count": 20,
   "metadata": {
    "user_blocks": [
     "variables_get"
    ],
    "user_blocks_xml": "<xml xmlns=\"https://developers.google.com/blockly/xml\"><variables><variable id=\"+fxL=2Fsb~[PLqWXWM[=\">corrMatrix</variable></variables><block type=\"variables_get\" id=\"/b?EtS_xo,TNr21:%XK:\" x=\"8\" y=\"298\"><field name=\"VAR\" id=\"+fxL=2Fsb~[PLqWXWM[=\">corrMatrix</field></block></xml>",
    "user_code_from_blocks": "corrMatrix\n"
   },
   "outputs": [],
   "source": []
  },
  {
   "cell_type": "markdown",
   "metadata": {},
   "source": [
    "**QUESTION:**\n",
    "\n",
    "With respect to the variable `mpg`, what correlations should we be careful with?"
   ]
  },
  {
   "cell_type": "markdown",
   "metadata": {},
   "source": [
    "**ANSWER: (click here to edit)**\n",
    "\n\n<hr>"
   ]
  },
  {
   "cell_type": "markdown",
   "metadata": {},
   "source": [
    "**QUESTION:**\n",
    "\n",
    "Are the associations between these variables and `mpg` likely to be weaker or stronger than the correlations suggest?"
   ]
  },
  {
   "cell_type": "markdown",
   "metadata": {},
   "source": [
    "**ANSWER: (click here to edit)**\n",
    "\n\n<hr>"
   ]
  },
  {
   "cell_type": "markdown",
   "metadata": {},
   "source": [
    "<!--  -->"
   ]
  }
 ],
 "metadata": {
  "kernelspec": {
   "display_name": "Python 3 (ipykernel)",
   "language": "python",
   "name": "python3"
  },
  "language_info": {
   "codemirror_mode": {
    "name": "ipython",
    "version": 3
   },
   "file_extension": ".py",
   "mimetype": "text/x-python",
   "name": "python",
   "nbconvert_exporter": "python",
   "pygments_lexer": "ipython3",
   "version": "3.12.6"
  }
 },
 "nbformat": 4,
 "nbformat_minor": 4
}
