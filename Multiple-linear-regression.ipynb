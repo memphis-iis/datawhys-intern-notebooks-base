{
 "cells": [
  {
   "cell_type": "markdown",
   "metadata": {
    "deletable": false,
    "editable": false
   },
   "source": [
    "Copyright 2020 Dale Bowman, Andrew M. Olney and made available under [CC BY-SA](https://creativecommons.org/licenses/by-sa/4.0) for text and [Apache-2.0](http://www.apache.org/licenses/LICENSE-2.0) for code.\n"
   ]
  },
  {
   "cell_type": "markdown",
   "metadata": {},
   "source": [
    "# Multiple linear regression  \n",
    "\n",
    "In many data sets there may be several predictor variables that have an effect on a response variable.\n",
    " In fact, the *interaction* between variables may also be used to predict response.\n",
    " When we incorporate these additional predictor variables into the analysis, the model is called *multiple regression* .\n",
    " The multiple regression model builds on the simple linear regression model by adding additional predictors with corresponding parameters.\n",
    " \n",
    "## What you will learn\n",
    "\n",
    "In the sections that follow you will learn about multiple regression, an extension of simple linear regression, and how it can be used to model your data for prediction.  We will study the following:\n",
    "\n",
    "- The multiple regression model\n",
    "- Interaction effects\n",
    "- Feature selection\n",
    "- Categorical variables\n",
    "- Diagnostics\n",
    "\n",
    "## When to use multiple regression\n",
    "\n",
    "Multiple regression models are useful when you have a continuous response variable and you believe there are multiple predictors that have a linear relationship with the response variable.  The ultimate goals of fitting a multiple regression model are to 1) predict the response for a new set of features and 2) determine which predictors are most influential on the response.\n",
    "\n",
    "\n",
    "## Multiple Regression Model\n",
    "Let's suppose we are interested in determining what factors might influence a baby's birth weight.\n",
    " In our data set we have information on birth weight, our response, and predictors: mother's age, weight and height and gestation period.\n",
    " A *main effects model*  includes each of the possible predictors but no interactions.\n",
    " Suppose we name these features as in the chart below.\n",
    " \n",
    "| Variable | Type  | Description       |\n",
    "|:--------|:-------|:-------------------|\n",
    "| BW       | Ratio | baby birth weight |\n",
    "| MA       | Ratio | mother's age      |\n",
    "| MW       | Ratio | mother's weight   |\n",
    "| MH       | Ratio | mother's height   |\n",
    "| GP       | Ratio | gestation period  |"
   ]
  },
  {
   "cell_type": "markdown",
   "metadata": {},
   "source": [
    "Then the theoretical main effects multiple regression model is \n",
    "\n",
    "$$BW = \\beta_0 + \\beta_1 MA + \\beta_2 MW + \\beta_3 MH + \\beta_4 GP+ \\epsilon.$$ \n",
    "\n",
    "Now we have five parameters to estimate from the data, $\\beta_0, \\beta_1, \\beta_2, \\beta_3$ and $\\beta_4$.\n",
    " The random error term, $\\epsilon$ has the same interpretation as in simple linear regression and is assumed to come from a normal distribution with mean equal to zero and variance equal to $\\sigma^2$.\n",
    " Note that multiple regression also includes the polynomial models discussed in the simple linear regression notebook.\n",
    " \n",
    "One of the most important things to notice about the equation above is that each variable makes a contribution **independently** of the other variables.\n",
    "This is sometimes called **additivity**: the effects of predictor variable are added together to get the total effect on `BW`."
   ]
  },
  {
   "cell_type": "markdown",
   "metadata": {},
   "source": [
    "## Interaction Effects\n",
    "\n",
    "Suppose in the example, through exploratory data analysis, we discover that younger mothers with long gestational times tend to have heavier babies, but older mother with short gestational times tend to have lighter babies.\n",
    " This could indicate an interaction effect on the response.\n",
    " When there is an interaction effect, the effects of the variables involved are not additive.\n",
    " \n",
    " Different numbers of variables can be involved in an interaction.\n",
    " When two features are involved in the interaction it is called a *two-way interaction* .\n",
    " There are three-way and higher interactions possible as well, but they are less common in practice.\n",
    " The *full model*  includes main effects and all interactions.\n",
    " For the example given here there are 6 two-way interactions possible between the variables, 4 possible three-way, and 1 four-way interaction in the full model.\n",
    " \n",
    " Often in practice we fit the full model to check for significant interaction effects.\n",
    " If there are no interactions that are significantly different from zero, we can drop the interaction terms and fit the main effects model to see which of those effects are significant.\n",
    " If interaction effects are significant (important in predicting the behavior of the response) then we will interpret the effects of the model in terms of the interaction.\n",
    " \n",
    "<!--  NOTE: not sure if correction for multiple comparisons is outside the scope here; I would in general not recommend to students that they test all possible interactions unless they had a theoretical reason to, or unless they were doinging something exploratory and then would collect new data to test any interaction found. -->"
   ]
  },
  {
   "cell_type": "markdown",
   "metadata": {},
   "source": [
    "## Feature Selection\n",
    "\n",
    "Suppose we run a full model for the four variables in our example and none of the interaction terms are significant.\n",
    " We then run a main effects model and we get parameter estimates as shown in the table below.\n",
    " \n",
    "| Coefficients | Estimate | Std. Error | p-value |\n",
    "|--------------|----------|------------|---------|\n",
    "| Intercept    | 36.69    | 5.97       | 1.44e-6 |\n",
    "| MA           | 0.36     | 1.00       | 0.7197  |\n",
    "| MW           | 3.02     | 0.85       | 0.0014  |\n",
    "| MH           | -0.02    | 0.01       | 0.1792  |\n",
    "| GP           | -0.81    | 0.66       | 0.2311  |"
   ]
  },
  {
   "cell_type": "markdown",
   "metadata": {},
   "source": [
    "Recall that the p-value is the probability of getting the estimate that we got from the data or something more extreme (further from zero).\n",
    " Small p-values (typically less than 0.05) indicate the associated parameter is different from zero, implying that the associated covariate is important to predict response.\n",
    " In our birth weight example, we see the p-value for the intercept is very low $1.44 \\times 10^{-6}$ and so the intercept is not at zero.\n",
    " The mother's weight (`MW`) has p-value 0.0014 which is very small, indicating that mother's weight has an important (significant) impact on her baby's birth weight.\n",
    " The p-value from all other Wald tests are large: 0.7197, 0.1792, and 0.2311, so we know none of these variables are important when predicting the birth weight.\n",
    " \n",
    "  We can modify the coefficient of determination to account for having more than one predictor in the model, called the *adjusted R-square* .\n",
    " R-square has the property that as you add more terms, it will always increase.\n",
    " The adjustment for more terms takes this into consideration.\n",
    " For this data the adjusted R-square is 0.8208, indicating a reasonably good fit.\n",
    "\n",
    "  Different combinations of the variables included in the model may give better or worse fits to the data.\n",
    " We can use several methods to select the \"best\" model for the data.\n",
    " One example is called *forward selection* .\n",
    " This method begins with an empty model (intercept only) and adds variables to the model one by one until the full main effects model is reached.\n",
    " In each forward step, you add the one variable that gives the best improvement to the fit.\n",
    " There is also *backward selection*  where you start with the full model and then drop the least important variables one at a time until you are left with the intercept only.\n",
    " If there are not too many features, you can also look at all possible models.\n",
    " Typically these models are compared using the AIC (Akaike information criterion) which measures the relative quality of models.\n",
    " Given a set of models, the preferred model is the one with the minimum AIC value.\n",
    " \n",
    "Previously we talked about splitting the data into training and test sets.\n",
    "In statistics, this is not common, and the models are trained with all the data.\n",
    "This is because statistics is generally more interested in the effect of a particular variable *across the entire dataset* than it is about using that variable to make a prediction about a particular datapoint.\n",
    "Because of this, we typically have concerns about how well linear regression will work with new data, i.e. will it have the same $r^2$ for new data or a lower $r^2$?\n",
    "Both forward and backward selection potentially enhance this problem because they tune the model to the data even more closely by removing variables that aren't \"important.\"\n",
    "You should always be very careful with such variable selection methods and their implications for model generalization.\n",
    "\n",
    "<!-- NOTE: sklearn does not seem to support forward/backward https://datascience.stackexchange.com/questions/937/does-scikit-learn-have-forward-selection-stepwise-regression-algorithm ; what it does support is sufficiently different/complicated that it doesn't seem useful to try to introduce it now ; this is an example where the given text would fit R perfectly but be difficult for python -->"
   ]
  },
  {
   "cell_type": "markdown",
   "metadata": {},
   "source": [
    "# Categorical Variables\n",
    "\n",
    "In the birth weight example, there is also information available about the mother's activity level during her pregnancy.\n",
    " Values for this categorical variable are: low, moderate, and high.\n",
    " How can we incorporate these into the model? \n",
    " Since they are not numeric, we have to create *dummy variables*  that are numeric to use.\n",
    " A dummy variable represents the presence or absence of a level of the categorical variable by a 1 and the absence by a zero.\n",
    "  Fortunately, most software packages that do multiple regression do this for us automatically.\n",
    " \n",
    "Often, one of the levels of the categorical variable is considered the \"baseline\" and the contributions to the response of the other levels are in relation to baseline.\n",
    "Let's look at the data again. \n",
    " In the table below, the mother's age is dropped and the mother's activity level (MAL) is included.\n",
    " \n",
    " | Coefficients | Estimate | Std. Error | p-value  |\n",
    "|--------------|----------|------------|----------|\n",
    "| Intercept    | 31.35    | 4.65       | 3.68e-07 |\n",
    "| MW           | 2.74     | 0.82       | 0.0026   |\n",
    "| MH           | -0.04    | 0.02       | 0.0420   |\n",
    "| GP           | 1.11     | 1.03       | 0.2917   |\n",
    "| MALmoderate  | -2.97    | 1.44       | 0.049     |\n",
    "| MALhigh      | -1.45    | 2.69       | 0.5946   |\n",
    " "
   ]
  },
  {
   "cell_type": "markdown",
   "metadata": {},
   "source": [
    "For the categorical variable `MAL`,  `MALlow` has been chosen as the baseline.\n",
    " The other two levels have parameter estimates that we can use to determine which are significantly different from the low level.\n",
    " This makes sense because all mothers will at least have low activity level, and the two additional dummy variables `MALhigh` and `MALmoderate` just get added on top of that.\n",
    " \n",
    " We can see that `MAL` moderate level is significantly different from the low level (p-value < 0.05).\n",
    " The parameter estimate for the moderate level of `MAL` is -2.97.\n",
    " This can be interpreted as: being in the moderately active group decreases birth weight by 2.97 units compared to babies in the low activity group.\n",
    " We also see that for babies with mothers in the high activity group, their birth weights are not different from birth weights in the low group, since the p-value is not low (0.5946 &gt; 0.05) and so this term does not have a significant effect on the response (birth weight).\n",
    " \n",
    "  This example highlights a phenomenon that often happens in multiple regression.\n",
    " When we drop the variable `MA` (mother's age) from the model and the categorical variable is included, both `MW` (mother's weight) and `MH` (mother's height) are both important predictors of birth weight (p-values 0.0026 and 0.0420 respectively).\n",
    " This is why it is important to perform some systematic model selection (forward or backward or all possible) to find an optimum set of features.\n",
    " \n",
    "# Diagnostics\n",
    "\n",
    "As in the simple linear regression case, we can use the residuals to check the fit of the model.\n",
    " Recall that the residuals are the observed response minus the predicted response.\n",
    " \n",
    "  - Plot the residuals against each independent variable to check whether higher order terms are needed  \n",
    "  - Plot the residuals versus the predicted values to check whether the variance is constant  \n",
    "  - Plot a qq-plot of the residuals to check for normality  \n",
    "  "
   ]
  },
  {
   "cell_type": "markdown",
   "metadata": {},
   "source": [
    "# Multicollinearity\n",
    "\n",
    "Multicollinearity occurs when two variables or features are linearly related, i.e.\n",
    " they have very strong correlation between them (close to -1 or 1).\n",
    " Practically this means that some of the independent variables are measuring the same thing and are not needed.\n",
    " In the extreme case (close to -1 or 1), the estimates of the parameters of the model cannot be obtained.\n",
    " This is because there is no unique solution for OLS when multicolinearity occurs.\n",
    " As a result, multicollinearity makes conclusions about which features should be used questionable."
   ]
  },
  {
   "cell_type": "markdown",
   "metadata": {},
   "source": [
    "## Example: Trees\n",
    "\n",
    "Let's take a look at a dataset we've seen before, `trees`, but with an additional tree type added `plum`:\n",
    "\n",
    "| Variable | Type  | Description                                           |\n",
    "|----------|-------|:-------------------------------------------------------|\n",
    "| Girth    | Ratio | Tree diameter (rather than girth, actually) in inches |\n",
    "| Height   | Ratio | Height in ft                                          |\n",
    "| Volume   | Ratio | Volume of timber in cubic ft                          |\n",
    "| Type | Nominal | The type of tree, cherry or plum |\n",
    "\n",
    "Much of what we'll do is the same as with simple linear regression, except:\n",
    "\n",
    "- Converting categorical variables into dummy variables\n",
    "- Different multiple predictors\n",
    "- Interactions\n",
    "\n",
    "### Load data\n",
    "\n",
    "Start by importing `pandas` so we can work with dataframes:\n",
    "\n",
    "- `import pandas as pd`"
   ]
  },
  {
   "cell_type": "code",
   "execution_count": 75,
   "metadata": {
    "user_blocks": [
     "importAs"
    ],
    "user_blocks_xml": "<xml xmlns=\"https://developers.google.com/blockly/xml\"><variables><variable id=\"Vd-20qkN(WN5nJAUj;?4\">pd</variable></variables><block type=\"importAs\" id=\"ji{aK+A5l`eBa?Q1/|Pf\" x=\"128\" y=\"319\"><field name=\"libraryName\">pandas</field><field name=\"VAR\" id=\"Vd-20qkN(WN5nJAUj;?4\">pd</field></block></xml>",
    "user_code_from_blocks": "import pandas as pd\n"
   },
   "outputs": [],
   "source": [
    "import pandas as pd\n",
    "\n",
    "#<xml xmlns=\"https://developers.google.com/blockly/xml\"><variables><variable id=\"Vd-20qkN(WN5nJAUj;?4\">pd</variable></variables><block type=\"importAs\" id=\"ji{aK+A5l`eBa?Q1/|Pf\" x=\"128\" y=\"319\"><field name=\"libraryName\">pandas</field><field name=\"VAR\" id=\"Vd-20qkN(WN5nJAUj;?4\">pd</field></block></xml>"
   ]
  },
  {
   "cell_type": "markdown",
   "metadata": {},
   "source": [
    "Load the dataframe with a CSV file:\n",
    "    \n",
    "- Set  `df` to with `pd` do `read_csv` using\n",
    "    - `\"datasets/trees2.csv\"`\n",
    "- `df` (to display)"
   ]
  },
  {
   "cell_type": "code",
   "execution_count": 77,
   "metadata": {
    "user_blocks": [
     "variables_set",
     "varDoMethod",
     "text",
     "variables_get"
    ],
    "user_blocks_xml": "<xml xmlns=\"https://developers.google.com/blockly/xml\"><variables><variable id=\"FUXr7i7@?fN1xCAh/=Fn\">df</variable><variable id=\"Vd-20qkN(WN5nJAUj;?4\">pd</variable></variables><block type=\"variables_set\" id=\"9aUm-oG6/!Z54ivA^qkm\" x=\"36\" y=\"169\"><field name=\"VAR\" id=\"FUXr7i7@?fN1xCAh/=Fn\">df</field><value name=\"VALUE\"><block type=\"varDoMethod\" id=\"g.yE$oK%3]$!k91|6U|I\"><mutation items=\"1\"></mutation><field name=\"VAR\" id=\"Vd-20qkN(WN5nJAUj;?4\">pd</field><field name=\"MEMBER\">read_csv</field><data>pd:read_csv</data><value name=\"ADD0\"><block type=\"text\" id=\"fBBU[Z}QCipaz#y=F$!p\"><field name=\"TEXT\">datasets/trees2.csv</field></block></value></block></value></block><block type=\"variables_get\" id=\".kIRsPV4CnEtZh=5+Y3:\" x=\"8\" y=\"296\"><field name=\"VAR\" id=\"FUXr7i7@?fN1xCAh/=Fn\">df</field></block></xml>",
    "user_code_from_blocks": "df = pd.read_csv('datasets/trees2.csv')\n\ndf\n"
   },
   "outputs": [
    {
     "data": {
      "text/html": [
       "<div>\n",
       "<style scoped>\n",
       "    .dataframe tbody tr th:only-of-type {\n",
       "        vertical-align: middle;\n",
       "    }\n",
       "\n",
       "    .dataframe tbody tr th {\n",
       "        vertical-align: top;\n",
       "    }\n",
       "\n",
       "    .dataframe thead th {\n",
       "        text-align: right;\n",
       "    }\n",
       "</style>\n",
       "<table border=\"1\" class=\"dataframe\">\n",
       "  <thead>\n",
       "    <tr style=\"text-align: right;\">\n",
       "      <th></th>\n",
       "      <th>Girth</th>\n",
       "      <th>Height</th>\n",
       "      <th>Volume</th>\n",
       "      <th>Type</th>\n",
       "    </tr>\n",
       "  </thead>\n",
       "  <tbody>\n",
       "    <tr>\n",
       "      <th>0</th>\n",
       "      <td>8.3</td>\n",
       "      <td>70.0</td>\n",
       "      <td>10.3</td>\n",
       "      <td>cherry</td>\n",
       "    </tr>\n",
       "    <tr>\n",
       "      <th>1</th>\n",
       "      <td>8.6</td>\n",
       "      <td>65.0</td>\n",
       "      <td>10.3</td>\n",
       "      <td>cherry</td>\n",
       "    </tr>\n",
       "    <tr>\n",
       "      <th>2</th>\n",
       "      <td>8.8</td>\n",
       "      <td>63.0</td>\n",
       "      <td>10.2</td>\n",
       "      <td>cherry</td>\n",
       "    </tr>\n",
       "    <tr>\n",
       "      <th>3</th>\n",
       "      <td>10.5</td>\n",
       "      <td>72.0</td>\n",
       "      <td>16.4</td>\n",
       "      <td>cherry</td>\n",
       "    </tr>\n",
       "    <tr>\n",
       "      <th>4</th>\n",
       "      <td>10.7</td>\n",
       "      <td>81.0</td>\n",
       "      <td>18.8</td>\n",
       "      <td>cherry</td>\n",
       "    </tr>\n",
       "    <tr>\n",
       "      <th>...</th>\n",
       "      <td>...</td>\n",
       "      <td>...</td>\n",
       "      <td>...</td>\n",
       "      <td>...</td>\n",
       "    </tr>\n",
       "    <tr>\n",
       "      <th>57</th>\n",
       "      <td>17.9</td>\n",
       "      <td>69.2</td>\n",
       "      <td>47.1</td>\n",
       "      <td>plum</td>\n",
       "    </tr>\n",
       "    <tr>\n",
       "      <th>58</th>\n",
       "      <td>18.8</td>\n",
       "      <td>67.3</td>\n",
       "      <td>50.5</td>\n",
       "      <td>plum</td>\n",
       "    </tr>\n",
       "    <tr>\n",
       "      <th>59</th>\n",
       "      <td>19.7</td>\n",
       "      <td>67.4</td>\n",
       "      <td>55.6</td>\n",
       "      <td>plum</td>\n",
       "    </tr>\n",
       "    <tr>\n",
       "      <th>60</th>\n",
       "      <td>17.2</td>\n",
       "      <td>67.3</td>\n",
       "      <td>42.3</td>\n",
       "      <td>plum</td>\n",
       "    </tr>\n",
       "    <tr>\n",
       "      <th>61</th>\n",
       "      <td>21.1</td>\n",
       "      <td>73.8</td>\n",
       "      <td>69.8</td>\n",
       "      <td>plum</td>\n",
       "    </tr>\n",
       "  </tbody>\n",
       "</table>\n",
       "<p>62 rows × 4 columns</p>\n",
       "</div>"
      ],
      "text/plain": [
       "    Girth  Height  Volume    Type\n",
       "0     8.3    70.0    10.3  cherry\n",
       "1     8.6    65.0    10.3  cherry\n",
       "2     8.8    63.0    10.2  cherry\n",
       "3    10.5    72.0    16.4  cherry\n",
       "4    10.7    81.0    18.8  cherry\n",
       "..    ...     ...     ...     ...\n",
       "57   17.9    69.2    47.1    plum\n",
       "58   18.8    67.3    50.5    plum\n",
       "59   19.7    67.4    55.6    plum\n",
       "60   17.2    67.3    42.3    plum\n",
       "61   21.1    73.8    69.8    plum\n",
       "\n",
       "[62 rows x 4 columns]"
      ]
     },
     "execution_count": 77,
     "metadata": {},
     "output_type": "execute_result"
    }
   ],
   "source": [
    "df = pd.read_csv('datasets/trees2.csv')\n",
    "\n",
    "df\n",
    "\n",
    "#<xml xmlns=\"https://developers.google.com/blockly/xml\"><variables><variable id=\"FUXr7i7@?fN1xCAh/=Fn\">df</variable><variable id=\"Vd-20qkN(WN5nJAUj;?4\">pd</variable></variables><block type=\"variables_set\" id=\"9aUm-oG6/!Z54ivA^qkm\" x=\"36\" y=\"169\"><field name=\"VAR\" id=\"FUXr7i7@?fN1xCAh/=Fn\">df</field><value name=\"VALUE\"><block type=\"varDoMethod\" id=\"g.yE$oK%3]$!k91|6U|I\"><mutation items=\"1\"></mutation><field name=\"VAR\" id=\"Vd-20qkN(WN5nJAUj;?4\">pd</field><field name=\"MEMBER\">read_csv</field><data>pd:read_csv</data><value name=\"ADD0\"><block type=\"text\" id=\"fBBU[Z}QCipaz#y=F$!p\"><field name=\"TEXT\">datasets/trees2.csv</field></block></value></block></value></block><block type=\"variables_get\" id=\".kIRsPV4CnEtZh=5+Y3:\" x=\"8\" y=\"296\"><field name=\"VAR\" id=\"FUXr7i7@?fN1xCAh/=Fn\">df</field></block></xml>"
   ]
  },
  {
   "cell_type": "markdown",
   "metadata": {},
   "source": [
    "We know that later on, we'd like to use `Type` as a predictor, so we need to convert it into a dummy variable.\n",
    "\n",
    "However, we'd also like to keep `Type` as a column for our plot labels. \n",
    "There are several ways to do this, but probably the easiest is to save `Type` and then put it back in the dataframe.\n",
    "\n",
    "It will make sense as we go:\n",
    "\n",
    "- Set `treeType` to `df[` list containing `\"Type\"` `]` (use {dictVariable}[] from LISTS)\n",
    "- `treeType` (to display)"
   ]
  },
  {
   "cell_type": "code",
   "execution_count": 79,
   "metadata": {
    "user_blocks": [
     "variables_set",
     "indexer",
     "lists_create_with",
     "text",
     "variables_get"
    ],
    "user_blocks_xml": "<xml xmlns=\"https://developers.google.com/blockly/xml\"><variables><variable id=\"hr*VLs~Y+rz.qsB5%AkC\">treeType</variable><variable id=\"FUXr7i7@?fN1xCAh/=Fn\">df</variable></variables><block type=\"variables_set\" id=\"n?M6{W!2xggQx@X7_00@\" x=\"0\" y=\"391\"><field name=\"VAR\" id=\"hr*VLs~Y+rz.qsB5%AkC\">treeType</field><value name=\"VALUE\"><block type=\"indexer\" id=\"3_O9X7-U(%IcMj/dcLIo\"><field name=\"VAR\" id=\"FUXr7i7@?fN1xCAh/=Fn\">df</field><value name=\"INDEX\"><block type=\"lists_create_with\" id=\"?V*^3XN6]-U+o1C:Vzq$\"><mutation items=\"1\"></mutation><value name=\"ADD0\"><block type=\"text\" id=\"^a?w!r[mo5(HVwiC0q=4\"><field name=\"TEXT\">Type</field></block></value></block></value></block></value></block><block type=\"variables_get\" id=\"Lvbr[Vv2??Mx*R}-s{,0\" x=\"8\" y=\"470\"><field name=\"VAR\" id=\"hr*VLs~Y+rz.qsB5%AkC\">treeType</field></block></xml>",
    "user_code_from_blocks": "treeType = df[['Type']]\n\ntreeType\n"
   },
   "outputs": [
    {
     "data": {
      "text/html": [
       "<div>\n",
       "<style scoped>\n",
       "    .dataframe tbody tr th:only-of-type {\n",
       "        vertical-align: middle;\n",
       "    }\n",
       "\n",
       "    .dataframe tbody tr th {\n",
       "        vertical-align: top;\n",
       "    }\n",
       "\n",
       "    .dataframe thead th {\n",
       "        text-align: right;\n",
       "    }\n",
       "</style>\n",
       "<table border=\"1\" class=\"dataframe\">\n",
       "  <thead>\n",
       "    <tr style=\"text-align: right;\">\n",
       "      <th></th>\n",
       "      <th>Type</th>\n",
       "    </tr>\n",
       "  </thead>\n",
       "  <tbody>\n",
       "    <tr>\n",
       "      <th>0</th>\n",
       "      <td>cherry</td>\n",
       "    </tr>\n",
       "    <tr>\n",
       "      <th>1</th>\n",
       "      <td>cherry</td>\n",
       "    </tr>\n",
       "    <tr>\n",
       "      <th>2</th>\n",
       "      <td>cherry</td>\n",
       "    </tr>\n",
       "    <tr>\n",
       "      <th>3</th>\n",
       "      <td>cherry</td>\n",
       "    </tr>\n",
       "    <tr>\n",
       "      <th>4</th>\n",
       "      <td>cherry</td>\n",
       "    </tr>\n",
       "    <tr>\n",
       "      <th>...</th>\n",
       "      <td>...</td>\n",
       "    </tr>\n",
       "    <tr>\n",
       "      <th>57</th>\n",
       "      <td>plum</td>\n",
       "    </tr>\n",
       "    <tr>\n",
       "      <th>58</th>\n",
       "      <td>plum</td>\n",
       "    </tr>\n",
       "    <tr>\n",
       "      <th>59</th>\n",
       "      <td>plum</td>\n",
       "    </tr>\n",
       "    <tr>\n",
       "      <th>60</th>\n",
       "      <td>plum</td>\n",
       "    </tr>\n",
       "    <tr>\n",
       "      <th>61</th>\n",
       "      <td>plum</td>\n",
       "    </tr>\n",
       "  </tbody>\n",
       "</table>\n",
       "<p>62 rows × 1 columns</p>\n",
       "</div>"
      ],
      "text/plain": [
       "      Type\n",
       "0   cherry\n",
       "1   cherry\n",
       "2   cherry\n",
       "3   cherry\n",
       "4   cherry\n",
       "..     ...\n",
       "57    plum\n",
       "58    plum\n",
       "59    plum\n",
       "60    plum\n",
       "61    plum\n",
       "\n",
       "[62 rows x 1 columns]"
      ]
     },
     "execution_count": 79,
     "metadata": {},
     "output_type": "execute_result"
    }
   ],
   "source": [
    "treeType = df[['Type']]\n",
    "\n",
    "treeType\n",
    "\n",
    "#<xml xmlns=\"https://developers.google.com/blockly/xml\"><variables><variable id=\"hr*VLs~Y+rz.qsB5%AkC\">treeType</variable><variable id=\"FUXr7i7@?fN1xCAh/=Fn\">df</variable></variables><block type=\"variables_set\" id=\"n?M6{W!2xggQx@X7_00@\" x=\"0\" y=\"391\"><field name=\"VAR\" id=\"hr*VLs~Y+rz.qsB5%AkC\">treeType</field><value name=\"VALUE\"><block type=\"indexer\" id=\"3_O9X7-U(%IcMj/dcLIo\"><field name=\"VAR\" id=\"FUXr7i7@?fN1xCAh/=Fn\">df</field><value name=\"INDEX\"><block type=\"lists_create_with\" id=\"?V*^3XN6]-U+o1C:Vzq$\"><mutation items=\"1\"></mutation><value name=\"ADD0\"><block type=\"text\" id=\"^a?w!r[mo5(HVwiC0q=4\"><field name=\"TEXT\">Type</field></block></value></block></value></block></value></block><block type=\"variables_get\" id=\"Lvbr[Vv2??Mx*R}-s{,0\" x=\"8\" y=\"470\"><field name=\"VAR\" id=\"hr*VLs~Y+rz.qsB5%AkC\">treeType</field></block></xml>"
   ]
  },
  {
   "cell_type": "markdown",
   "metadata": {},
   "source": [
    "To do the dummy conversion:\n",
    "    \n",
    "- Set `df` to with `pd` do `get_dummies` using\n",
    "    - `df`\n",
    "    - freestyle `drop_first=True`\n",
    "    - freestyle `dtype=int`\n",
    "- `df` (to display)"
   ]
  },
  {
   "cell_type": "code",
   "execution_count": 83,
   "metadata": {
    "user_blocks": [
     "variables_set",
     "varDoMethod",
     "variables_get",
     "dummyOutputCodeBlock",
     "dummyOutputCodeBlock",
     "variables_get"
    ],
    "user_blocks_xml": "<xml xmlns=\"https://developers.google.com/blockly/xml\"><variables><variable id=\"FUXr7i7@?fN1xCAh/=Fn\">df</variable><variable id=\"Vd-20qkN(WN5nJAUj;?4\">pd</variable></variables><block type=\"variables_set\" id=\"f~Vi_+$-EAjHP]f_eV;K\" x=\"18\" y=\"178\"><field name=\"VAR\" id=\"FUXr7i7@?fN1xCAh/=Fn\">df</field><value name=\"VALUE\"><block type=\"varDoMethod\" id=\"|n$+[JUtgfsvt4?c:yr_\"><mutation items=\"3\"></mutation><field name=\"VAR\" id=\"Vd-20qkN(WN5nJAUj;?4\">pd</field><field name=\"MEMBER\">get_dummies</field><data>pd:get_dummies</data><value name=\"ADD0\"><block type=\"variables_get\" id=\"Bbsj2h*vF?=ou`pb%n59\"><field name=\"VAR\" id=\"FUXr7i7@?fN1xCAh/=Fn\">df</field></block></value><value name=\"ADD1\"><block type=\"dummyOutputCodeBlock\" id=\"bMU2}K@krqBgj]d/*N%r\"><field name=\"CODE\">drop_first=True</field></block></value><value name=\"ADD2\"><block type=\"dummyOutputCodeBlock\" id=\"}*En]DJTv(!^z(wxPY$A\"><field name=\"CODE\">dtype=int</field></block></value></block></value></block><block type=\"variables_get\" id=\",+Vz^@/VMFmsKp@Yf2gT\" x=\"8\" y=\"296\"><field name=\"VAR\" id=\"FUXr7i7@?fN1xCAh/=Fn\">df</field></block></xml>",
    "user_code_from_blocks": "df = pd.get_dummies(df,drop_first=True,dtype=int)\n\ndf\n"
   },
   "outputs": [
    {
     "data": {
      "text/html": [
       "<div>\n",
       "<style scoped>\n",
       "    .dataframe tbody tr th:only-of-type {\n",
       "        vertical-align: middle;\n",
       "    }\n",
       "\n",
       "    .dataframe tbody tr th {\n",
       "        vertical-align: top;\n",
       "    }\n",
       "\n",
       "    .dataframe thead th {\n",
       "        text-align: right;\n",
       "    }\n",
       "</style>\n",
       "<table border=\"1\" class=\"dataframe\">\n",
       "  <thead>\n",
       "    <tr style=\"text-align: right;\">\n",
       "      <th></th>\n",
       "      <th>Girth</th>\n",
       "      <th>Height</th>\n",
       "      <th>Volume</th>\n",
       "      <th>Type_plum</th>\n",
       "    </tr>\n",
       "  </thead>\n",
       "  <tbody>\n",
       "    <tr>\n",
       "      <th>0</th>\n",
       "      <td>8.3</td>\n",
       "      <td>70.0</td>\n",
       "      <td>10.3</td>\n",
       "      <td>0</td>\n",
       "    </tr>\n",
       "    <tr>\n",
       "      <th>1</th>\n",
       "      <td>8.6</td>\n",
       "      <td>65.0</td>\n",
       "      <td>10.3</td>\n",
       "      <td>0</td>\n",
       "    </tr>\n",
       "    <tr>\n",
       "      <th>2</th>\n",
       "      <td>8.8</td>\n",
       "      <td>63.0</td>\n",
       "      <td>10.2</td>\n",
       "      <td>0</td>\n",
       "    </tr>\n",
       "    <tr>\n",
       "      <th>3</th>\n",
       "      <td>10.5</td>\n",
       "      <td>72.0</td>\n",
       "      <td>16.4</td>\n",
       "      <td>0</td>\n",
       "    </tr>\n",
       "    <tr>\n",
       "      <th>4</th>\n",
       "      <td>10.7</td>\n",
       "      <td>81.0</td>\n",
       "      <td>18.8</td>\n",
       "      <td>0</td>\n",
       "    </tr>\n",
       "    <tr>\n",
       "      <th>...</th>\n",
       "      <td>...</td>\n",
       "      <td>...</td>\n",
       "      <td>...</td>\n",
       "      <td>...</td>\n",
       "    </tr>\n",
       "    <tr>\n",
       "      <th>57</th>\n",
       "      <td>17.9</td>\n",
       "      <td>69.2</td>\n",
       "      <td>47.1</td>\n",
       "      <td>1</td>\n",
       "    </tr>\n",
       "    <tr>\n",
       "      <th>58</th>\n",
       "      <td>18.8</td>\n",
       "      <td>67.3</td>\n",
       "      <td>50.5</td>\n",
       "      <td>1</td>\n",
       "    </tr>\n",
       "    <tr>\n",
       "      <th>59</th>\n",
       "      <td>19.7</td>\n",
       "      <td>67.4</td>\n",
       "      <td>55.6</td>\n",
       "      <td>1</td>\n",
       "    </tr>\n",
       "    <tr>\n",
       "      <th>60</th>\n",
       "      <td>17.2</td>\n",
       "      <td>67.3</td>\n",
       "      <td>42.3</td>\n",
       "      <td>1</td>\n",
       "    </tr>\n",
       "    <tr>\n",
       "      <th>61</th>\n",
       "      <td>21.1</td>\n",
       "      <td>73.8</td>\n",
       "      <td>69.8</td>\n",
       "      <td>1</td>\n",
       "    </tr>\n",
       "  </tbody>\n",
       "</table>\n",
       "<p>62 rows × 4 columns</p>\n",
       "</div>"
      ],
      "text/plain": [
       "    Girth  Height  Volume  Type_plum\n",
       "0     8.3    70.0    10.3          0\n",
       "1     8.6    65.0    10.3          0\n",
       "2     8.8    63.0    10.2          0\n",
       "3    10.5    72.0    16.4          0\n",
       "4    10.7    81.0    18.8          0\n",
       "..    ...     ...     ...        ...\n",
       "57   17.9    69.2    47.1          1\n",
       "58   18.8    67.3    50.5          1\n",
       "59   19.7    67.4    55.6          1\n",
       "60   17.2    67.3    42.3          1\n",
       "61   21.1    73.8    69.8          1\n",
       "\n",
       "[62 rows x 4 columns]"
      ]
     },
     "execution_count": 83,
     "metadata": {},
     "output_type": "execute_result"
    }
   ],
   "source": [
    "df = pd.get_dummies(df,drop_first=True,dtype=int)\n",
    "\n",
    "df\n",
    "\n",
    "#<xml xmlns=\"https://developers.google.com/blockly/xml\"><variables><variable id=\"FUXr7i7@?fN1xCAh/=Fn\">df</variable><variable id=\"Vd-20qkN(WN5nJAUj;?4\">pd</variable></variables><block type=\"variables_set\" id=\"f~Vi_+$-EAjHP]f_eV;K\" x=\"18\" y=\"178\"><field name=\"VAR\" id=\"FUXr7i7@?fN1xCAh/=Fn\">df</field><value name=\"VALUE\"><block type=\"varDoMethod\" id=\"|n$+[JUtgfsvt4?c:yr_\"><mutation items=\"3\"></mutation><field name=\"VAR\" id=\"Vd-20qkN(WN5nJAUj;?4\">pd</field><field name=\"MEMBER\">get_dummies</field><data>pd:get_dummies</data><value name=\"ADD0\"><block type=\"variables_get\" id=\"Bbsj2h*vF?=ou`pb%n59\"><field name=\"VAR\" id=\"FUXr7i7@?fN1xCAh/=Fn\">df</field></block></value><value name=\"ADD1\"><block type=\"dummyOutputCodeBlock\" id=\"bMU2}K@krqBgj]d/*N%r\"><field name=\"CODE\">drop_first=True</field></block></value><value name=\"ADD2\"><block type=\"dummyOutputCodeBlock\" id=\"}*En]DJTv(!^z(wxPY$A\"><field name=\"CODE\">dtype=int</field></block></value></block></value></block><block type=\"variables_get\" id=\",+Vz^@/VMFmsKp@Yf2gT\" x=\"8\" y=\"296\"><field name=\"VAR\" id=\"FUXr7i7@?fN1xCAh/=Fn\">df</field></block></xml>"
   ]
  },
  {
   "cell_type": "markdown",
   "metadata": {},
   "source": [
    "Notice that `cherry` is now the base level, so `Type_plum` is in `0` where `cherry` was before and `1` where `plum` was before.\n",
    "\n",
    "To put `Type` back in, use `assign`:\n",
    "\n",
    "- Set `df` to with `df` do `assign` using\n",
    "    - freestyle `Type=treeType`\n",
    "- `df` (to display)"
   ]
  },
  {
   "cell_type": "code",
   "execution_count": 92,
   "metadata": {
    "user_blocks": [
     "variables_set",
     "varDoMethod",
     "dummyOutputCodeBlock",
     "variables_get"
    ],
    "user_blocks_xml": "<xml xmlns=\"https://developers.google.com/blockly/xml\"><variables><variable id=\"FUXr7i7@?fN1xCAh/=Fn\">df</variable></variables><block type=\"variables_set\" id=\"asM(PJ)BfN(o4N+9wUt$\" x=\"9\" y=\"199\"><field name=\"VAR\" id=\"FUXr7i7@?fN1xCAh/=Fn\">df</field><value name=\"VALUE\"><block type=\"varDoMethod\" id=\";29VMd-(]?GAtxBc4RYY\"><mutation items=\"1\"></mutation><field name=\"VAR\" id=\"FUXr7i7@?fN1xCAh/=Fn\">df</field><field name=\"MEMBER\">assign</field><data>df:assign</data><value name=\"ADD0\"><block type=\"dummyOutputCodeBlock\" id=\"0yKT_^W!N#JL!5%=T_+J\"><field name=\"CODE\">Type=treeType</field></block></value></block></value></block><block type=\"variables_get\" id=\"ud-EwSxWAO+@Jka0S8W(\" x=\"8\" y=\"296\"><field name=\"VAR\" id=\"FUXr7i7@?fN1xCAh/=Fn\">df</field></block></xml>",
    "user_code_from_blocks": "df = df.assign(Type=treeType)\n\ndf\n"
   },
   "outputs": [
    {
     "data": {
      "text/html": [
       "<div>\n",
       "<style scoped>\n",
       "    .dataframe tbody tr th:only-of-type {\n",
       "        vertical-align: middle;\n",
       "    }\n",
       "\n",
       "    .dataframe tbody tr th {\n",
       "        vertical-align: top;\n",
       "    }\n",
       "\n",
       "    .dataframe thead th {\n",
       "        text-align: right;\n",
       "    }\n",
       "</style>\n",
       "<table border=\"1\" class=\"dataframe\">\n",
       "  <thead>\n",
       "    <tr style=\"text-align: right;\">\n",
       "      <th></th>\n",
       "      <th>Girth</th>\n",
       "      <th>Height</th>\n",
       "      <th>Volume</th>\n",
       "      <th>Type_plum</th>\n",
       "      <th>Type</th>\n",
       "    </tr>\n",
       "  </thead>\n",
       "  <tbody>\n",
       "    <tr>\n",
       "      <th>0</th>\n",
       "      <td>8.3</td>\n",
       "      <td>70.0</td>\n",
       "      <td>10.3</td>\n",
       "      <td>0</td>\n",
       "      <td>cherry</td>\n",
       "    </tr>\n",
       "    <tr>\n",
       "      <th>1</th>\n",
       "      <td>8.6</td>\n",
       "      <td>65.0</td>\n",
       "      <td>10.3</td>\n",
       "      <td>0</td>\n",
       "      <td>cherry</td>\n",
       "    </tr>\n",
       "    <tr>\n",
       "      <th>2</th>\n",
       "      <td>8.8</td>\n",
       "      <td>63.0</td>\n",
       "      <td>10.2</td>\n",
       "      <td>0</td>\n",
       "      <td>cherry</td>\n",
       "    </tr>\n",
       "    <tr>\n",
       "      <th>3</th>\n",
       "      <td>10.5</td>\n",
       "      <td>72.0</td>\n",
       "      <td>16.4</td>\n",
       "      <td>0</td>\n",
       "      <td>cherry</td>\n",
       "    </tr>\n",
       "    <tr>\n",
       "      <th>4</th>\n",
       "      <td>10.7</td>\n",
       "      <td>81.0</td>\n",
       "      <td>18.8</td>\n",
       "      <td>0</td>\n",
       "      <td>cherry</td>\n",
       "    </tr>\n",
       "    <tr>\n",
       "      <th>...</th>\n",
       "      <td>...</td>\n",
       "      <td>...</td>\n",
       "      <td>...</td>\n",
       "      <td>...</td>\n",
       "      <td>...</td>\n",
       "    </tr>\n",
       "    <tr>\n",
       "      <th>57</th>\n",
       "      <td>17.9</td>\n",
       "      <td>69.2</td>\n",
       "      <td>47.1</td>\n",
       "      <td>1</td>\n",
       "      <td>plum</td>\n",
       "    </tr>\n",
       "    <tr>\n",
       "      <th>58</th>\n",
       "      <td>18.8</td>\n",
       "      <td>67.3</td>\n",
       "      <td>50.5</td>\n",
       "      <td>1</td>\n",
       "      <td>plum</td>\n",
       "    </tr>\n",
       "    <tr>\n",
       "      <th>59</th>\n",
       "      <td>19.7</td>\n",
       "      <td>67.4</td>\n",
       "      <td>55.6</td>\n",
       "      <td>1</td>\n",
       "      <td>plum</td>\n",
       "    </tr>\n",
       "    <tr>\n",
       "      <th>60</th>\n",
       "      <td>17.2</td>\n",
       "      <td>67.3</td>\n",
       "      <td>42.3</td>\n",
       "      <td>1</td>\n",
       "      <td>plum</td>\n",
       "    </tr>\n",
       "    <tr>\n",
       "      <th>61</th>\n",
       "      <td>21.1</td>\n",
       "      <td>73.8</td>\n",
       "      <td>69.8</td>\n",
       "      <td>1</td>\n",
       "      <td>plum</td>\n",
       "    </tr>\n",
       "  </tbody>\n",
       "</table>\n",
       "<p>62 rows × 5 columns</p>\n",
       "</div>"
      ],
      "text/plain": [
       "    Girth  Height  Volume  Type_plum    Type\n",
       "0     8.3    70.0    10.3          0  cherry\n",
       "1     8.6    65.0    10.3          0  cherry\n",
       "2     8.8    63.0    10.2          0  cherry\n",
       "3    10.5    72.0    16.4          0  cherry\n",
       "4    10.7    81.0    18.8          0  cherry\n",
       "..    ...     ...     ...        ...     ...\n",
       "57   17.9    69.2    47.1          1    plum\n",
       "58   18.8    67.3    50.5          1    plum\n",
       "59   19.7    67.4    55.6          1    plum\n",
       "60   17.2    67.3    42.3          1    plum\n",
       "61   21.1    73.8    69.8          1    plum\n",
       "\n",
       "[62 rows x 5 columns]"
      ]
     },
     "execution_count": 92,
     "metadata": {},
     "output_type": "execute_result"
    }
   ],
   "source": [
    "df = df.assign(Type=treeType)\n",
    "\n",
    "df\n",
    "\n",
    "#<xml xmlns=\"https://developers.google.com/blockly/xml\"><variables><variable id=\"FUXr7i7@?fN1xCAh/=Fn\">df</variable></variables><block type=\"variables_set\" id=\"asM(PJ)BfN(o4N+9wUt$\" x=\"9\" y=\"199\"><field name=\"VAR\" id=\"FUXr7i7@?fN1xCAh/=Fn\">df</field><value name=\"VALUE\"><block type=\"varDoMethod\" id=\";29VMd-(]?GAtxBc4RYY\"><mutation items=\"1\"></mutation><field name=\"VAR\" id=\"FUXr7i7@?fN1xCAh/=Fn\">df</field><field name=\"MEMBER\">assign</field><data>df:assign</data><value name=\"ADD0\"><block type=\"dummyOutputCodeBlock\" id=\"0yKT_^W!N#JL!5%=T_+J\"><field name=\"CODE\">Type=treeType</field></block></value></block></value></block><block type=\"variables_get\" id=\"ud-EwSxWAO+@Jka0S8W(\" x=\"8\" y=\"296\"><field name=\"VAR\" id=\"FUXr7i7@?fN1xCAh/=Fn\">df</field></block></xml>"
   ]
  },
  {
   "cell_type": "markdown",
   "metadata": {},
   "source": [
    "This is nice - we have our dummy code for modeling but also the nice original label in `Type` so we don't get confused."
   ]
  },
  {
   "cell_type": "markdown",
   "metadata": {},
   "source": [
    "### Explore data\n",
    "\n",
    "Let's start with some *overall* descriptive statistics:\n",
    "\n",
    "- with `df` do `describe`"
   ]
  },
  {
   "cell_type": "code",
   "execution_count": 95,
   "metadata": {
    "user_blocks": [
     "varDoMethod"
    ],
    "user_blocks_xml": "<xml xmlns=\"https://developers.google.com/blockly/xml\"><variables><variable id=\"FUXr7i7@?fN1xCAh/=Fn\">df</variable></variables><block type=\"varDoMethod\" id=\"?LJ($9e@x-B.Y,`==|to\" x=\"8\" y=\"188\"><mutation items=\"1\"></mutation><field name=\"VAR\" id=\"FUXr7i7@?fN1xCAh/=Fn\">df</field><field name=\"MEMBER\">describe</field><data>df:describe</data></block></xml>",
    "user_code_from_blocks": "df.describe()\n"
   },
   "outputs": [
    {
     "data": {
      "text/html": [
       "<div>\n",
       "<style scoped>\n",
       "    .dataframe tbody tr th:only-of-type {\n",
       "        vertical-align: middle;\n",
       "    }\n",
       "\n",
       "    .dataframe tbody tr th {\n",
       "        vertical-align: top;\n",
       "    }\n",
       "\n",
       "    .dataframe thead th {\n",
       "        text-align: right;\n",
       "    }\n",
       "</style>\n",
       "<table border=\"1\" class=\"dataframe\">\n",
       "  <thead>\n",
       "    <tr style=\"text-align: right;\">\n",
       "      <th></th>\n",
       "      <th>Girth</th>\n",
       "      <th>Height</th>\n",
       "      <th>Volume</th>\n",
       "      <th>Type_plum</th>\n",
       "    </tr>\n",
       "  </thead>\n",
       "  <tbody>\n",
       "    <tr>\n",
       "      <th>count</th>\n",
       "      <td>62.000000</td>\n",
       "      <td>62.000000</td>\n",
       "      <td>62.000000</td>\n",
       "      <td>62.000000</td>\n",
       "    </tr>\n",
       "    <tr>\n",
       "      <th>mean</th>\n",
       "      <td>13.182258</td>\n",
       "      <td>69.538710</td>\n",
       "      <td>27.819355</td>\n",
       "      <td>0.500000</td>\n",
       "    </tr>\n",
       "    <tr>\n",
       "      <th>std</th>\n",
       "      <td>3.388918</td>\n",
       "      <td>9.054613</td>\n",
       "      <td>16.352098</td>\n",
       "      <td>0.504082</td>\n",
       "    </tr>\n",
       "    <tr>\n",
       "      <th>min</th>\n",
       "      <td>8.300000</td>\n",
       "      <td>50.300000</td>\n",
       "      <td>7.500000</td>\n",
       "      <td>0.000000</td>\n",
       "    </tr>\n",
       "    <tr>\n",
       "      <th>25%</th>\n",
       "      <td>10.850000</td>\n",
       "      <td>63.125000</td>\n",
       "      <td>16.675000</td>\n",
       "      <td>0.000000</td>\n",
       "    </tr>\n",
       "    <tr>\n",
       "      <th>50%</th>\n",
       "      <td>12.000000</td>\n",
       "      <td>69.100000</td>\n",
       "      <td>21.650000</td>\n",
       "      <td>0.500000</td>\n",
       "    </tr>\n",
       "    <tr>\n",
       "      <th>75%</th>\n",
       "      <td>16.075000</td>\n",
       "      <td>76.000000</td>\n",
       "      <td>36.825000</td>\n",
       "      <td>1.000000</td>\n",
       "    </tr>\n",
       "    <tr>\n",
       "      <th>max</th>\n",
       "      <td>21.100000</td>\n",
       "      <td>87.000000</td>\n",
       "      <td>77.000000</td>\n",
       "      <td>1.000000</td>\n",
       "    </tr>\n",
       "  </tbody>\n",
       "</table>\n",
       "</div>"
      ],
      "text/plain": [
       "           Girth     Height     Volume  Type_plum\n",
       "count  62.000000  62.000000  62.000000  62.000000\n",
       "mean   13.182258  69.538710  27.819355   0.500000\n",
       "std     3.388918   9.054613  16.352098   0.504082\n",
       "min     8.300000  50.300000   7.500000   0.000000\n",
       "25%    10.850000  63.125000  16.675000   0.000000\n",
       "50%    12.000000  69.100000  21.650000   0.500000\n",
       "75%    16.075000  76.000000  36.825000   1.000000\n",
       "max    21.100000  87.000000  77.000000   1.000000"
      ]
     },
     "execution_count": 95,
     "metadata": {},
     "output_type": "execute_result"
    }
   ],
   "source": [
    "df.describe()\n",
    "\n",
    "#<xml xmlns=\"https://developers.google.com/blockly/xml\"><variables><variable id=\"FUXr7i7@?fN1xCAh/=Fn\">df</variable></variables><block type=\"varDoMethod\" id=\"?LJ($9e@x-B.Y,`==|to\" x=\"8\" y=\"188\"><mutation items=\"1\"></mutation><field name=\"VAR\" id=\"FUXr7i7@?fN1xCAh/=Fn\">df</field><field name=\"MEMBER\">describe</field><data>df:describe</data></block></xml>"
   ]
  },
  {
   "cell_type": "markdown",
   "metadata": {},
   "source": [
    "This is nice, but we suspect there might be some differences between cherry trees and plum trees that this doesn't show.\n",
    "\n",
    "We can `describe` each group as well:\n",
    "\n",
    "- Set `groups` to with `df` do `groupby` using \n",
    "    - `\"Type\"`"
   ]
  },
  {
   "cell_type": "code",
   "execution_count": 99,
   "metadata": {
    "user_blocks": [
     "variables_set",
     "varDoMethod",
     "text"
    ],
    "user_blocks_xml": "<xml xmlns=\"https://developers.google.com/blockly/xml\"><variables><variable id=\"0zfUO$}u$G4I(G1e~N#r\">groups</variable><variable id=\"FUXr7i7@?fN1xCAh/=Fn\">df</variable></variables><block type=\"variables_set\" id=\"kr80`.2l6nJi|eO*fce[\" x=\"29\" y=\"145\"><field name=\"VAR\" id=\"0zfUO$}u$G4I(G1e~N#r\">groups</field><value name=\"VALUE\"><block type=\"varDoMethod\" id=\"x-nB@sYwAL|7o-0;9DUU\"><mutation items=\"1\"></mutation><field name=\"VAR\" id=\"FUXr7i7@?fN1xCAh/=Fn\">df</field><field name=\"MEMBER\">groupby</field><data>df:groupby</data><value name=\"ADD0\"><block type=\"text\" id=\"Lby0o8dWqy8ta:56K|bn\"><field name=\"TEXT\">Type</field></block></value></block></value></block></xml>",
    "user_code_from_blocks": "groups = df.groupby('Type')\n"
   },
   "outputs": [],
   "source": [
    "groups = df.groupby('Type')\n",
    "\n",
    "#<xml xmlns=\"https://developers.google.com/blockly/xml\"><variables><variable id=\"0zfUO$}u$G4I(G1e~N#r\">groups</variable><variable id=\"FUXr7i7@?fN1xCAh/=Fn\">df</variable></variables><block type=\"variables_set\" id=\"kr80`.2l6nJi|eO*fce[\" x=\"29\" y=\"145\"><field name=\"VAR\" id=\"0zfUO$}u$G4I(G1e~N#r\">groups</field><value name=\"VALUE\"><block type=\"varDoMethod\" id=\"x-nB@sYwAL|7o-0;9DUU\"><mutation items=\"1\"></mutation><field name=\"VAR\" id=\"FUXr7i7@?fN1xCAh/=Fn\">df</field><field name=\"MEMBER\">groupby</field><data>df:groupby</data><value name=\"ADD0\"><block type=\"text\" id=\"Lby0o8dWqy8ta:56K|bn\"><field name=\"TEXT\">Type</field></block></value></block></value></block></xml>"
   ]
  },
  {
   "cell_type": "markdown",
   "metadata": {},
   "source": [
    "Now `describe` groups:\n",
    "\n",
    "- with `groups` do `describe`"
   ]
  },
  {
   "cell_type": "code",
   "execution_count": 101,
   "metadata": {
    "user_blocks": [
     "varDoMethod"
    ],
    "user_blocks_xml": "<xml xmlns=\"https://developers.google.com/blockly/xml\"><variables><variable id=\"0zfUO$}u$G4I(G1e~N#r\">groups</variable></variables><block type=\"varDoMethod\" id=\"]q4DcYnB3HUf/GehIu+T\" x=\"8\" y=\"188\"><mutation items=\"1\"></mutation><field name=\"VAR\" id=\"0zfUO$}u$G4I(G1e~N#r\">groups</field><field name=\"MEMBER\">describe</field><data>groups:describe</data></block></xml>",
    "user_code_from_blocks": "groups.describe()\n"
   },
   "outputs": [
    {
     "data": {
      "text/html": [
       "<div>\n",
       "<style scoped>\n",
       "    .dataframe tbody tr th:only-of-type {\n",
       "        vertical-align: middle;\n",
       "    }\n",
       "\n",
       "    .dataframe tbody tr th {\n",
       "        vertical-align: top;\n",
       "    }\n",
       "\n",
       "    .dataframe thead tr th {\n",
       "        text-align: left;\n",
       "    }\n",
       "\n",
       "    .dataframe thead tr:last-of-type th {\n",
       "        text-align: right;\n",
       "    }\n",
       "</style>\n",
       "<table border=\"1\" class=\"dataframe\">\n",
       "  <thead>\n",
       "    <tr>\n",
       "      <th></th>\n",
       "      <th colspan=\"8\" halign=\"left\">Girth</th>\n",
       "      <th colspan=\"2\" halign=\"left\">Height</th>\n",
       "      <th>...</th>\n",
       "      <th colspan=\"2\" halign=\"left\">Volume</th>\n",
       "      <th colspan=\"8\" halign=\"left\">Type_plum</th>\n",
       "    </tr>\n",
       "    <tr>\n",
       "      <th></th>\n",
       "      <th>count</th>\n",
       "      <th>mean</th>\n",
       "      <th>std</th>\n",
       "      <th>min</th>\n",
       "      <th>25%</th>\n",
       "      <th>50%</th>\n",
       "      <th>75%</th>\n",
       "      <th>max</th>\n",
       "      <th>count</th>\n",
       "      <th>mean</th>\n",
       "      <th>...</th>\n",
       "      <th>75%</th>\n",
       "      <th>max</th>\n",
       "      <th>count</th>\n",
       "      <th>mean</th>\n",
       "      <th>std</th>\n",
       "      <th>min</th>\n",
       "      <th>25%</th>\n",
       "      <th>50%</th>\n",
       "      <th>75%</th>\n",
       "      <th>max</th>\n",
       "    </tr>\n",
       "    <tr>\n",
       "      <th>Type</th>\n",
       "      <th></th>\n",
       "      <th></th>\n",
       "      <th></th>\n",
       "      <th></th>\n",
       "      <th></th>\n",
       "      <th></th>\n",
       "      <th></th>\n",
       "      <th></th>\n",
       "      <th></th>\n",
       "      <th></th>\n",
       "      <th></th>\n",
       "      <th></th>\n",
       "      <th></th>\n",
       "      <th></th>\n",
       "      <th></th>\n",
       "      <th></th>\n",
       "      <th></th>\n",
       "      <th></th>\n",
       "      <th></th>\n",
       "      <th></th>\n",
       "      <th></th>\n",
       "    </tr>\n",
       "  </thead>\n",
       "  <tbody>\n",
       "    <tr>\n",
       "      <th>cherry</th>\n",
       "      <td>31.0</td>\n",
       "      <td>13.248387</td>\n",
       "      <td>3.138139</td>\n",
       "      <td>8.3</td>\n",
       "      <td>11.05</td>\n",
       "      <td>12.9</td>\n",
       "      <td>15.25</td>\n",
       "      <td>20.6</td>\n",
       "      <td>31.0</td>\n",
       "      <td>76.000000</td>\n",
       "      <td>...</td>\n",
       "      <td>37.30</td>\n",
       "      <td>77.0</td>\n",
       "      <td>31.0</td>\n",
       "      <td>0.0</td>\n",
       "      <td>0.0</td>\n",
       "      <td>0.0</td>\n",
       "      <td>0.0</td>\n",
       "      <td>0.0</td>\n",
       "      <td>0.0</td>\n",
       "      <td>0.0</td>\n",
       "    </tr>\n",
       "    <tr>\n",
       "      <th>plum</th>\n",
       "      <td>31.0</td>\n",
       "      <td>13.116129</td>\n",
       "      <td>3.673608</td>\n",
       "      <td>8.4</td>\n",
       "      <td>10.10</td>\n",
       "      <td>11.9</td>\n",
       "      <td>16.30</td>\n",
       "      <td>21.1</td>\n",
       "      <td>31.0</td>\n",
       "      <td>63.077419</td>\n",
       "      <td>...</td>\n",
       "      <td>35.65</td>\n",
       "      <td>69.8</td>\n",
       "      <td>31.0</td>\n",
       "      <td>1.0</td>\n",
       "      <td>0.0</td>\n",
       "      <td>1.0</td>\n",
       "      <td>1.0</td>\n",
       "      <td>1.0</td>\n",
       "      <td>1.0</td>\n",
       "      <td>1.0</td>\n",
       "    </tr>\n",
       "  </tbody>\n",
       "</table>\n",
       "<p>2 rows × 32 columns</p>\n",
       "</div>"
      ],
      "text/plain": [
       "       Girth                                                     Height  \\\n",
       "       count       mean       std  min    25%   50%    75%   max  count   \n",
       "Type                                                                      \n",
       "cherry  31.0  13.248387  3.138139  8.3  11.05  12.9  15.25  20.6   31.0   \n",
       "plum    31.0  13.116129  3.673608  8.4  10.10  11.9  16.30  21.1   31.0   \n",
       "\n",
       "                   ... Volume       Type_plum                                \\\n",
       "             mean  ...    75%   max     count mean  std  min  25%  50%  75%   \n",
       "Type               ...                                                        \n",
       "cherry  76.000000  ...  37.30  77.0      31.0  0.0  0.0  0.0  0.0  0.0  0.0   \n",
       "plum    63.077419  ...  35.65  69.8      31.0  1.0  0.0  1.0  1.0  1.0  1.0   \n",
       "\n",
       "             \n",
       "        max  \n",
       "Type         \n",
       "cherry  0.0  \n",
       "plum    1.0  \n",
       "\n",
       "[2 rows x 32 columns]"
      ]
     },
     "execution_count": 101,
     "metadata": {},
     "output_type": "execute_result"
    }
   ],
   "source": [
    "groups.describe()\n",
    "\n",
    "#<xml xmlns=\"https://developers.google.com/blockly/xml\"><variables><variable id=\"0zfUO$}u$G4I(G1e~N#r\">groups</variable></variables><block type=\"varDoMethod\" id=\"]q4DcYnB3HUf/GehIu+T\" x=\"8\" y=\"188\"><mutation items=\"1\"></mutation><field name=\"VAR\" id=\"0zfUO$}u$G4I(G1e~N#r\">groups</field><field name=\"MEMBER\">describe</field><data>groups:describe</data></block></xml>"
   ]
  },
  {
   "cell_type": "markdown",
   "metadata": {},
   "source": [
    "Notice this results table has been rotated compared to the normal `describe`.\n",
    "The rows are our two tree types, and the columns are **stacked columns** where the header (e.g. `Girth`) applies to the labels below it until they start repeating. \n",
    "\n",
    "From this we see that the `Girth` is about the same across trees, the `Height` is  13ft different on average, and `Volume` is 5ft different on average."
   ]
  },
  {
   "cell_type": "markdown",
   "metadata": {},
   "source": [
    "Let's do a plot.\n",
    "We can sneak all the variables into a 2D scatterplot with some clever annotations.\n",
    "\n",
    "First import `plotly` for plotting:\n",
    "\n",
    "- `import plotly.express as px`"
   ]
  },
  {
   "cell_type": "code",
   "execution_count": 103,
   "metadata": {
    "user_blocks": [
     "importAs"
    ],
    "user_blocks_xml": "<xml xmlns=\"https://developers.google.com/blockly/xml\"><variables><variable id=\"k#w4n=KvP~*sLy*OW|Jl\">px</variable></variables><block type=\"importAs\" id=\"kPF|afHe60B:rsCmJI2O\" x=\"128\" y=\"178\"><field name=\"libraryName\">plotly.express</field><field name=\"VAR\" id=\"k#w4n=KvP~*sLy*OW|Jl\">px</field></block></xml>",
    "user_code_from_blocks": "import plotly.express as px\n"
   },
   "outputs": [],
   "source": [
    "import plotly.express as px\n",
    "\n",
    "#<xml xmlns=\"https://developers.google.com/blockly/xml\"><variables><variable id=\"k#w4n=KvP~*sLy*OW|Jl\">px</variable></variables><block type=\"importAs\" id=\"kPF|afHe60B:rsCmJI2O\" x=\"128\" y=\"178\"><field name=\"libraryName\">plotly.express</field><field name=\"VAR\" id=\"k#w4n=KvP~*sLy*OW|Jl\">px</field></block></xml>"
   ]
  },
  {
   "cell_type": "markdown",
   "metadata": {},
   "source": [
    "Create the scatterplot:\n",
    "\n",
    "- with `px` do `scatter` using\n",
    "    - `df`\n",
    "    - freestyle `x=\"Height\"`\n",
    "    - freestyle `y=\"Volume\"`\n",
    "    - freestyle `color=\"Type\"`\n",
    "    - freestyle `size=\"Girth\"`"
   ]
  },
  {
   "cell_type": "code",
   "execution_count": 106,
   "metadata": {
    "user_blocks": [
     "varDoMethod",
     "variables_get",
     "dummyOutputCodeBlock",
     "dummyOutputCodeBlock",
     "dummyOutputCodeBlock",
     "dummyOutputCodeBlock"
    ],
    "user_blocks_xml": "<xml xmlns=\"https://developers.google.com/blockly/xml\"><variables><variable id=\"k#w4n=KvP~*sLy*OW|Jl\">px</variable><variable id=\"FUXr7i7@?fN1xCAh/=Fn\">df</variable></variables><block type=\"varDoMethod\" id=\"O07?sQIdula@ap]/9Ogq\" x=\"67\" y=\"127\"><mutation items=\"5\"></mutation><field name=\"VAR\" id=\"k#w4n=KvP~*sLy*OW|Jl\">px</field><field name=\"MEMBER\">scatter</field><data>px:scatter</data><value name=\"ADD0\"><block type=\"variables_get\" id=\"UE)!btph,4mdjsf[F37|\"><field name=\"VAR\" id=\"FUXr7i7@?fN1xCAh/=Fn\">df</field></block></value><value name=\"ADD1\"><block type=\"dummyOutputCodeBlock\" id=\"~L)yq!Jze#v9R[^p;2{O\"><field name=\"CODE\">x=\"Height\"</field></block></value><value name=\"ADD2\"><block type=\"dummyOutputCodeBlock\" id=\"yu5^$n1zXY3)#RcRx:~;\"><field name=\"CODE\">y=\"Volume\"</field></block></value><value name=\"ADD3\"><block type=\"dummyOutputCodeBlock\" id=\"aCZ,k0LzStF1D(+SB2%A\"><field name=\"CODE\">color=\"Type\"</field></block></value><value name=\"ADD4\"><block type=\"dummyOutputCodeBlock\" id=\"4yv:pfYUrA=V0bO}PLcX\"><field name=\"CODE\">size=\"Girth\"</field></block></value></block></xml>",
    "user_code_from_blocks": "px.scatter(df,x=\"Height\",y=\"Volume\",color=\"Type\",size=\"Girth\")\n"
   },
   "outputs": [
    {
     "data": {
      "application/vnd.plotly.v1+json": {
       "config": {
        "plotlyServerURL": "https://plot.ly"
       },
       "data": [
        {
         "hovertemplate": "Type=cherry<br>Height=%{x}<br>Volume=%{y}<br>Girth=%{marker.size}<extra></extra>",
         "legendgroup": "cherry",
         "marker": {
          "color": "#636efa",
          "size": {
           "bdata": "mpmZmZmZIEAzMzMzMzMhQJqZmZmZmSFAAAAAAAAAJUBmZmZmZmYlQJqZmZmZmSVAAAAAAAAAJkAAAAAAAAAmQDMzMzMzMyZAZmZmZmZmJkCamZmZmZkmQM3MzMzMzCZAzczMzMzMJkBmZmZmZmYnQAAAAAAAAChAzczMzMzMKUDNzMzMzMwpQJqZmZmZmSpAZmZmZmZmK0CamZmZmZkrQAAAAAAAACxAZmZmZmZmLEAAAAAAAAAtQAAAAAAAADBAzczMzMxMMEDNzMzMzEwxQAAAAAAAgDFAZmZmZmbmMUAAAAAAAAAyQAAAAAAAADJAmpmZmZmZNEA=",
           "dtype": "f8"
          },
          "sizemode": "area",
          "sizeref": 0.052750000000000005,
          "symbol": "circle"
         },
         "mode": "markers",
         "name": "cherry",
         "orientation": "v",
         "showlegend": true,
         "type": "scatter",
         "x": {
          "bdata": "AAAAAACAUUAAAAAAAEBQQAAAAAAAgE9AAAAAAAAAUkAAAAAAAEBUQAAAAAAAwFRAAAAAAACAUEAAAAAAAMBSQAAAAAAAAFRAAAAAAADAUkAAAAAAAMBTQAAAAAAAAFNAAAAAAAAAU0AAAAAAAEBRQAAAAAAAwFJAAAAAAACAUkAAAAAAAEBVQAAAAAAAgFVAAAAAAADAUUAAAAAAAABQQAAAAAAAgFNAAAAAAAAAVEAAAAAAAIBSQAAAAAAAAFJAAAAAAABAU0AAAAAAAEBUQAAAAAAAgFRAAAAAAAAAVEAAAAAAAABUQAAAAAAAAFRAAAAAAADAVUA=",
          "dtype": "f8"
         },
         "xaxis": "x",
         "y": {
          "bdata": "mpmZmZmZJECamZmZmZkkQGZmZmZmZiRAZmZmZmZmMEDNzMzMzMwyQDMzMzMzszNAMzMzMzMzL0AzMzMzMzMyQJqZmZmZmTZAZmZmZmbmM0AzMzMzMzM4QAAAAAAAADVAZmZmZmZmNUDNzMzMzEw1QJqZmZmZGTNAMzMzMzMzNkBmZmZmZuZAQGZmZmZmZjtAMzMzMzOzOUBmZmZmZuY4QAAAAAAAQEFAMzMzMzOzP0BmZmZmZiZCQGZmZmZmJkNAzczMzMxMRUAzMzMzM7NLQJqZmZmZ2UtAZmZmZmYmTUAAAAAAAMBJQAAAAAAAgElAAAAAAABAU0A=",
          "dtype": "f8"
         },
         "yaxis": "y"
        },
        {
         "hovertemplate": "Type=plum<br>Height=%{x}<br>Volume=%{y}<br>Girth=%{marker.size}<extra></extra>",
         "legendgroup": "plum",
         "marker": {
          "color": "#EF553B",
          "size": {
           "bdata": "ZmZmZmZmIkAzMzMzMzMhQM3MzMzMzCBAMzMzMzMzI0AzMzMzMzMkQM3MzMzMzChAmpmZmZmZJUAzMzMzMzMkQDMzMzMzMyNAzczMzMzMIkDNzMzMzMwmQM3MzMzMzCdAAAAAAAAAJkAAAAAAAAAkQDMzMzMzMylAAAAAAAAAKEDNzMzMzMwmQAAAAAAAACdAzczMzMzMJ0AAAAAAAAAtQDMzMzMzMylAmpmZmZkZMEAzMzMzMzMrQAAAAAAAgDBAzczMzMzMMUBmZmZmZuYyQGZmZmZm5jFAzczMzMzMMkAzMzMzM7MzQDMzMzMzMzFAmpmZmZkZNUA=",
           "dtype": "f8"
          },
          "sizemode": "area",
          "sizeref": 0.052750000000000005,
          "symbol": "circle"
         },
         "mode": "markers",
         "name": "plum",
         "orientation": "v",
         "showlegend": true,
         "type": "scatter",
         "x": {
          "bdata": "MzMzMzOzTEBmZmZmZiZKQGZmZmZmJklAmpmZmZlZTUAzMzMzMxNRQDMzMzMzc1FAAAAAAACASkCamZmZmdlOQDMzMzMzs1BAAAAAAAAAT0CamZmZmXlQQAAAAAAAwE9AAAAAAABAT0BmZmZmZiZMQDMzMzMzM09AAAAAAACATkBmZmZmZuZRQGZmZmZmJlJAzczMzMwMTUBmZmZmZmZJQJqZmZmZOVBAzczMzMzMUECamZmZmZlOQGZmZmZmpk1AmpmZmZkZUECamZmZmRlRQM3MzMzMTFFAMzMzMzPTUECamZmZmdlQQDMzMzMz01BAMzMzMzNzUkA=",
          "dtype": "f8"
         },
         "xaxis": "x",
         "y": {
          "bdata": "mpmZmZmZJEBmZmZmZmYgQAAAAAAAAB5AAAAAAAAAJ0CamZmZmZktQM3MzMzMzDZAMzMzMzMzKkDNzMzMzMwqQDMzMzMzMypAMzMzMzMzJ0AzMzMzMzMyQJqZmZmZGTNAmpmZmZkZMEAAAAAAAAAoQAAAAAAAADVAMzMzMzOzMkDNzMzMzMwzQGZmZmZmZjRAAAAAAACAMUAzMzMzM7M2QGZmZmZm5jVAAAAAAACAQkAAAAAAAAA4QGZmZmZmJkFAZmZmZmamRUAzMzMzM/NJQM3MzMzMjEdAAAAAAABASUDNzMzMzMxLQGZmZmZmJkVAMzMzMzNzUUA=",
          "dtype": "f8"
         },
         "yaxis": "y"
        }
       ],
       "layout": {
        "legend": {
         "itemsizing": "constant",
         "title": {
          "text": "Type"
         },
         "tracegroupgap": 0
        },
        "margin": {
         "t": 60
        },
        "template": {
         "data": {
          "bar": [
           {
            "error_x": {
             "color": "#2a3f5f"
            },
            "error_y": {
             "color": "#2a3f5f"
            },
            "marker": {
             "line": {
              "color": "#E5ECF6",
              "width": 0.5
             },
             "pattern": {
              "fillmode": "overlay",
              "size": 10,
              "solidity": 0.2
             }
            },
            "type": "bar"
           }
          ],
          "barpolar": [
           {
            "marker": {
             "line": {
              "color": "#E5ECF6",
              "width": 0.5
             },
             "pattern": {
              "fillmode": "overlay",
              "size": 10,
              "solidity": 0.2
             }
            },
            "type": "barpolar"
           }
          ],
          "carpet": [
           {
            "aaxis": {
             "endlinecolor": "#2a3f5f",
             "gridcolor": "white",
             "linecolor": "white",
             "minorgridcolor": "white",
             "startlinecolor": "#2a3f5f"
            },
            "baxis": {
             "endlinecolor": "#2a3f5f",
             "gridcolor": "white",
             "linecolor": "white",
             "minorgridcolor": "white",
             "startlinecolor": "#2a3f5f"
            },
            "type": "carpet"
           }
          ],
          "choropleth": [
           {
            "colorbar": {
             "outlinewidth": 0,
             "ticks": ""
            },
            "type": "choropleth"
           }
          ],
          "contour": [
           {
            "colorbar": {
             "outlinewidth": 0,
             "ticks": ""
            },
            "colorscale": [
             [
              0,
              "#0d0887"
             ],
             [
              0.1111111111111111,
              "#46039f"
             ],
             [
              0.2222222222222222,
              "#7201a8"
             ],
             [
              0.3333333333333333,
              "#9c179e"
             ],
             [
              0.4444444444444444,
              "#bd3786"
             ],
             [
              0.5555555555555556,
              "#d8576b"
             ],
             [
              0.6666666666666666,
              "#ed7953"
             ],
             [
              0.7777777777777778,
              "#fb9f3a"
             ],
             [
              0.8888888888888888,
              "#fdca26"
             ],
             [
              1,
              "#f0f921"
             ]
            ],
            "type": "contour"
           }
          ],
          "contourcarpet": [
           {
            "colorbar": {
             "outlinewidth": 0,
             "ticks": ""
            },
            "type": "contourcarpet"
           }
          ],
          "heatmap": [
           {
            "colorbar": {
             "outlinewidth": 0,
             "ticks": ""
            },
            "colorscale": [
             [
              0,
              "#0d0887"
             ],
             [
              0.1111111111111111,
              "#46039f"
             ],
             [
              0.2222222222222222,
              "#7201a8"
             ],
             [
              0.3333333333333333,
              "#9c179e"
             ],
             [
              0.4444444444444444,
              "#bd3786"
             ],
             [
              0.5555555555555556,
              "#d8576b"
             ],
             [
              0.6666666666666666,
              "#ed7953"
             ],
             [
              0.7777777777777778,
              "#fb9f3a"
             ],
             [
              0.8888888888888888,
              "#fdca26"
             ],
             [
              1,
              "#f0f921"
             ]
            ],
            "type": "heatmap"
           }
          ],
          "histogram": [
           {
            "marker": {
             "pattern": {
              "fillmode": "overlay",
              "size": 10,
              "solidity": 0.2
             }
            },
            "type": "histogram"
           }
          ],
          "histogram2d": [
           {
            "colorbar": {
             "outlinewidth": 0,
             "ticks": ""
            },
            "colorscale": [
             [
              0,
              "#0d0887"
             ],
             [
              0.1111111111111111,
              "#46039f"
             ],
             [
              0.2222222222222222,
              "#7201a8"
             ],
             [
              0.3333333333333333,
              "#9c179e"
             ],
             [
              0.4444444444444444,
              "#bd3786"
             ],
             [
              0.5555555555555556,
              "#d8576b"
             ],
             [
              0.6666666666666666,
              "#ed7953"
             ],
             [
              0.7777777777777778,
              "#fb9f3a"
             ],
             [
              0.8888888888888888,
              "#fdca26"
             ],
             [
              1,
              "#f0f921"
             ]
            ],
            "type": "histogram2d"
           }
          ],
          "histogram2dcontour": [
           {
            "colorbar": {
             "outlinewidth": 0,
             "ticks": ""
            },
            "colorscale": [
             [
              0,
              "#0d0887"
             ],
             [
              0.1111111111111111,
              "#46039f"
             ],
             [
              0.2222222222222222,
              "#7201a8"
             ],
             [
              0.3333333333333333,
              "#9c179e"
             ],
             [
              0.4444444444444444,
              "#bd3786"
             ],
             [
              0.5555555555555556,
              "#d8576b"
             ],
             [
              0.6666666666666666,
              "#ed7953"
             ],
             [
              0.7777777777777778,
              "#fb9f3a"
             ],
             [
              0.8888888888888888,
              "#fdca26"
             ],
             [
              1,
              "#f0f921"
             ]
            ],
            "type": "histogram2dcontour"
           }
          ],
          "mesh3d": [
           {
            "colorbar": {
             "outlinewidth": 0,
             "ticks": ""
            },
            "type": "mesh3d"
           }
          ],
          "parcoords": [
           {
            "line": {
             "colorbar": {
              "outlinewidth": 0,
              "ticks": ""
             }
            },
            "type": "parcoords"
           }
          ],
          "pie": [
           {
            "automargin": true,
            "type": "pie"
           }
          ],
          "scatter": [
           {
            "fillpattern": {
             "fillmode": "overlay",
             "size": 10,
             "solidity": 0.2
            },
            "type": "scatter"
           }
          ],
          "scatter3d": [
           {
            "line": {
             "colorbar": {
              "outlinewidth": 0,
              "ticks": ""
             }
            },
            "marker": {
             "colorbar": {
              "outlinewidth": 0,
              "ticks": ""
             }
            },
            "type": "scatter3d"
           }
          ],
          "scattercarpet": [
           {
            "marker": {
             "colorbar": {
              "outlinewidth": 0,
              "ticks": ""
             }
            },
            "type": "scattercarpet"
           }
          ],
          "scattergeo": [
           {
            "marker": {
             "colorbar": {
              "outlinewidth": 0,
              "ticks": ""
             }
            },
            "type": "scattergeo"
           }
          ],
          "scattergl": [
           {
            "marker": {
             "colorbar": {
              "outlinewidth": 0,
              "ticks": ""
             }
            },
            "type": "scattergl"
           }
          ],
          "scattermap": [
           {
            "marker": {
             "colorbar": {
              "outlinewidth": 0,
              "ticks": ""
             }
            },
            "type": "scattermap"
           }
          ],
          "scattermapbox": [
           {
            "marker": {
             "colorbar": {
              "outlinewidth": 0,
              "ticks": ""
             }
            },
            "type": "scattermapbox"
           }
          ],
          "scatterpolar": [
           {
            "marker": {
             "colorbar": {
              "outlinewidth": 0,
              "ticks": ""
             }
            },
            "type": "scatterpolar"
           }
          ],
          "scatterpolargl": [
           {
            "marker": {
             "colorbar": {
              "outlinewidth": 0,
              "ticks": ""
             }
            },
            "type": "scatterpolargl"
           }
          ],
          "scatterternary": [
           {
            "marker": {
             "colorbar": {
              "outlinewidth": 0,
              "ticks": ""
             }
            },
            "type": "scatterternary"
           }
          ],
          "surface": [
           {
            "colorbar": {
             "outlinewidth": 0,
             "ticks": ""
            },
            "colorscale": [
             [
              0,
              "#0d0887"
             ],
             [
              0.1111111111111111,
              "#46039f"
             ],
             [
              0.2222222222222222,
              "#7201a8"
             ],
             [
              0.3333333333333333,
              "#9c179e"
             ],
             [
              0.4444444444444444,
              "#bd3786"
             ],
             [
              0.5555555555555556,
              "#d8576b"
             ],
             [
              0.6666666666666666,
              "#ed7953"
             ],
             [
              0.7777777777777778,
              "#fb9f3a"
             ],
             [
              0.8888888888888888,
              "#fdca26"
             ],
             [
              1,
              "#f0f921"
             ]
            ],
            "type": "surface"
           }
          ],
          "table": [
           {
            "cells": {
             "fill": {
              "color": "#EBF0F8"
             },
             "line": {
              "color": "white"
             }
            },
            "header": {
             "fill": {
              "color": "#C8D4E3"
             },
             "line": {
              "color": "white"
             }
            },
            "type": "table"
           }
          ]
         },
         "layout": {
          "annotationdefaults": {
           "arrowcolor": "#2a3f5f",
           "arrowhead": 0,
           "arrowwidth": 1
          },
          "autotypenumbers": "strict",
          "coloraxis": {
           "colorbar": {
            "outlinewidth": 0,
            "ticks": ""
           }
          },
          "colorscale": {
           "diverging": [
            [
             0,
             "#8e0152"
            ],
            [
             0.1,
             "#c51b7d"
            ],
            [
             0.2,
             "#de77ae"
            ],
            [
             0.3,
             "#f1b6da"
            ],
            [
             0.4,
             "#fde0ef"
            ],
            [
             0.5,
             "#f7f7f7"
            ],
            [
             0.6,
             "#e6f5d0"
            ],
            [
             0.7,
             "#b8e186"
            ],
            [
             0.8,
             "#7fbc41"
            ],
            [
             0.9,
             "#4d9221"
            ],
            [
             1,
             "#276419"
            ]
           ],
           "sequential": [
            [
             0,
             "#0d0887"
            ],
            [
             0.1111111111111111,
             "#46039f"
            ],
            [
             0.2222222222222222,
             "#7201a8"
            ],
            [
             0.3333333333333333,
             "#9c179e"
            ],
            [
             0.4444444444444444,
             "#bd3786"
            ],
            [
             0.5555555555555556,
             "#d8576b"
            ],
            [
             0.6666666666666666,
             "#ed7953"
            ],
            [
             0.7777777777777778,
             "#fb9f3a"
            ],
            [
             0.8888888888888888,
             "#fdca26"
            ],
            [
             1,
             "#f0f921"
            ]
           ],
           "sequentialminus": [
            [
             0,
             "#0d0887"
            ],
            [
             0.1111111111111111,
             "#46039f"
            ],
            [
             0.2222222222222222,
             "#7201a8"
            ],
            [
             0.3333333333333333,
             "#9c179e"
            ],
            [
             0.4444444444444444,
             "#bd3786"
            ],
            [
             0.5555555555555556,
             "#d8576b"
            ],
            [
             0.6666666666666666,
             "#ed7953"
            ],
            [
             0.7777777777777778,
             "#fb9f3a"
            ],
            [
             0.8888888888888888,
             "#fdca26"
            ],
            [
             1,
             "#f0f921"
            ]
           ]
          },
          "colorway": [
           "#636efa",
           "#EF553B",
           "#00cc96",
           "#ab63fa",
           "#FFA15A",
           "#19d3f3",
           "#FF6692",
           "#B6E880",
           "#FF97FF",
           "#FECB52"
          ],
          "font": {
           "color": "#2a3f5f"
          },
          "geo": {
           "bgcolor": "white",
           "lakecolor": "white",
           "landcolor": "#E5ECF6",
           "showlakes": true,
           "showland": true,
           "subunitcolor": "white"
          },
          "hoverlabel": {
           "align": "left"
          },
          "hovermode": "closest",
          "mapbox": {
           "style": "light"
          },
          "paper_bgcolor": "white",
          "plot_bgcolor": "#E5ECF6",
          "polar": {
           "angularaxis": {
            "gridcolor": "white",
            "linecolor": "white",
            "ticks": ""
           },
           "bgcolor": "#E5ECF6",
           "radialaxis": {
            "gridcolor": "white",
            "linecolor": "white",
            "ticks": ""
           }
          },
          "scene": {
           "xaxis": {
            "backgroundcolor": "#E5ECF6",
            "gridcolor": "white",
            "gridwidth": 2,
            "linecolor": "white",
            "showbackground": true,
            "ticks": "",
            "zerolinecolor": "white"
           },
           "yaxis": {
            "backgroundcolor": "#E5ECF6",
            "gridcolor": "white",
            "gridwidth": 2,
            "linecolor": "white",
            "showbackground": true,
            "ticks": "",
            "zerolinecolor": "white"
           },
           "zaxis": {
            "backgroundcolor": "#E5ECF6",
            "gridcolor": "white",
            "gridwidth": 2,
            "linecolor": "white",
            "showbackground": true,
            "ticks": "",
            "zerolinecolor": "white"
           }
          },
          "shapedefaults": {
           "line": {
            "color": "#2a3f5f"
           }
          },
          "ternary": {
           "aaxis": {
            "gridcolor": "white",
            "linecolor": "white",
            "ticks": ""
           },
           "baxis": {
            "gridcolor": "white",
            "linecolor": "white",
            "ticks": ""
           },
           "bgcolor": "#E5ECF6",
           "caxis": {
            "gridcolor": "white",
            "linecolor": "white",
            "ticks": ""
           }
          },
          "title": {
           "x": 0.05
          },
          "xaxis": {
           "automargin": true,
           "gridcolor": "white",
           "linecolor": "white",
           "ticks": "",
           "title": {
            "standoff": 15
           },
           "zerolinecolor": "white",
           "zerolinewidth": 2
          },
          "yaxis": {
           "automargin": true,
           "gridcolor": "white",
           "linecolor": "white",
           "ticks": "",
           "title": {
            "standoff": 15
           },
           "zerolinecolor": "white",
           "zerolinewidth": 2
          }
         }
        },
        "xaxis": {
         "anchor": "y",
         "domain": [
          0,
          1
         ],
         "title": {
          "text": "Height"
         }
        },
        "yaxis": {
         "anchor": "x",
         "domain": [
          0,
          1
         ],
         "title": {
          "text": "Volume"
         }
        }
       }
      },
      "image/png": "[encoded data removed]"
     },
     "metadata": {},
     "output_type": "display_data"
    }
   ],
   "source": [
    "px.scatter(df,x=\"Height\",y=\"Volume\",color=\"Type\",size=\"Girth\")\n",
    "\n",
    "#<xml xmlns=\"https://developers.google.com/blockly/xml\"><variables><variable id=\"k#w4n=KvP~*sLy*OW|Jl\">px</variable><variable id=\"FUXr7i7@?fN1xCAh/=Fn\">df</variable></variables><block type=\"varDoMethod\" id=\"O07?sQIdula@ap]/9Ogq\" x=\"67\" y=\"127\"><mutation items=\"5\"></mutation><field name=\"VAR\" id=\"k#w4n=KvP~*sLy*OW|Jl\">px</field><field name=\"MEMBER\">scatter</field><data>px:scatter</data><value name=\"ADD0\"><block type=\"variables_get\" id=\"UE)!btph,4mdjsf[F37|\"><field name=\"VAR\" id=\"FUXr7i7@?fN1xCAh/=Fn\">df</field></block></value><value name=\"ADD1\"><block type=\"dummyOutputCodeBlock\" id=\"~L)yq!Jze#v9R[^p;2{O\"><field name=\"CODE\">x=\"Height\"</field></block></value><value name=\"ADD2\"><block type=\"dummyOutputCodeBlock\" id=\"yu5^$n1zXY3)#RcRx:~;\"><field name=\"CODE\">y=\"Volume\"</field></block></value><value name=\"ADD3\"><block type=\"dummyOutputCodeBlock\" id=\"aCZ,k0LzStF1D(+SB2%A\"><field name=\"CODE\">color=\"Type\"</field></block></value><value name=\"ADD4\"><block type=\"dummyOutputCodeBlock\" id=\"4yv:pfYUrA=V0bO}PLcX\"><field name=\"CODE\">size=\"Girth\"</field></block></value></block></xml>"
   ]
  },
  {
   "cell_type": "markdown",
   "metadata": {},
   "source": [
    "Notice that in this scatterplot, each point **position** shows the relationship between `Height` and `Volume`, each point **size** shows `Girth`, and each **color** represents these values for a different `Type`.\n",
    "It's not always possible to pack so much information into a single plot, but it can be extraordinarily useful when you can do it.\n",
    "In this case, we can see that `Girth` also increases with `Height` and `Volume`, but this relationship does not appear to change with `Type`. "
   ]
  },
  {
   "cell_type": "markdown",
   "metadata": {},
   "source": [
    "### Modeling 1\n",
    "\n",
    "Last time we looked at `trees`, we used `Height` to predict `Volume`.\n",
    "With multiple linear regression, we can use more that one variable.\n",
    "Let's start with using `Girth` and `Height` to predict `Volume`.\n",
    "\n",
    "Start by importing `sklearn.linear_model` for regression and `numpy` for conversion:\n",
    "\n",
    "- `import sklearn.linear_model as sklearn`\n",
    "- `import numpy as np`"
   ]
  },
  {
   "cell_type": "code",
   "execution_count": 108,
   "metadata": {
    "user_blocks": [
     "importAs",
     "importAs"
    ],
    "user_blocks_xml": "<xml xmlns=\"https://developers.google.com/blockly/xml\"><variables><variable id=\"!+Hi;Yx;ZB!EQYU8ItpO\">linear_model</variable><variable id=\"YynR+H75hTgW`vKfMxOx\">np</variable></variables><block type=\"importAs\" id=\"m;0Uju49an!8G3YKn4cP\" x=\"93\" y=\"288\"><field name=\"libraryName\">sklearn.linear_model</field><field name=\"VAR\" id=\"!+Hi;Yx;ZB!EQYU8ItpO\">linear_model</field><next><block type=\"importAs\" id=\"^iL#`T{6G3.Uxfj*r`Cv\"><field name=\"libraryName\">numpy</field><field name=\"VAR\" id=\"YynR+H75hTgW`vKfMxOx\">np</field></block></next></block></xml>",
    "user_code_from_blocks": "import sklearn.linear_model as linear_model\nimport numpy as np\n"
   },
   "outputs": [],
   "source": [
    "import sklearn.linear_model as linear_model\n",
    "import numpy as np\n",
    "\n",
    "#<xml xmlns=\"https://developers.google.com/blockly/xml\"><variables><variable id=\"!+Hi;Yx;ZB!EQYU8ItpO\">linear_model</variable><variable id=\"YynR+H75hTgW`vKfMxOx\">np</variable></variables><block type=\"importAs\" id=\"m;0Uju49an!8G3YKn4cP\" x=\"93\" y=\"288\"><field name=\"libraryName\">sklearn.linear_model</field><field name=\"VAR\" id=\"!+Hi;Yx;ZB!EQYU8ItpO\">linear_model</field><next><block type=\"importAs\" id=\"^iL#`T{6G3.Uxfj*r`Cv\"><field name=\"libraryName\">numpy</field><field name=\"VAR\" id=\"YynR+H75hTgW`vKfMxOx\">np</field></block></next></block></xml>"
   ]
  },
  {
   "cell_type": "markdown",
   "metadata": {},
   "source": [
    "Create the regression model:\n",
    "\n",
    "- Create variable `lm` (for linear model)\n",
    "- Set it to `with sklearn create LinearRegression using`"
   ]
  },
  {
   "cell_type": "code",
   "execution_count": 110,
   "metadata": {
    "user_blocks": [
     "variables_set",
     "varCreateObject"
    ],
    "user_blocks_xml": "<xml xmlns=\"https://developers.google.com/blockly/xml\"><variables><variable id=\"F]q147x/*m|PMfPQU-lZ\">lm</variable><variable id=\"!+Hi;Yx;ZB!EQYU8ItpO\">linear_model</variable></variables><block type=\"variables_set\" id=\"!H`J#y,K:4I.h#,HPeK{\" x=\"127\" y=\"346\"><field name=\"VAR\" id=\"F]q147x/*m|PMfPQU-lZ\">lm</field><value name=\"VALUE\"><block type=\"varCreateObject\" id=\"h:O3ZfE(*c[Hz3sF=$Mm\"><mutation items=\"1\"></mutation><field name=\"VAR\" id=\"!+Hi;Yx;ZB!EQYU8ItpO\">linear_model</field><field name=\"MEMBER\">LinearRegression</field><data>linear_model:LinearRegression</data></block></value></block></xml>",
    "user_code_from_blocks": "lm = linear_model.LinearRegression()\n"
   },
   "outputs": [],
   "source": [
    "lm = linear_model.LinearRegression()\n",
    "\n",
    "#<xml xmlns=\"https://developers.google.com/blockly/xml\"><variables><variable id=\"F]q147x/*m|PMfPQU-lZ\">lm</variable><variable id=\"!+Hi;Yx;ZB!EQYU8ItpO\">linear_model</variable></variables><block type=\"variables_set\" id=\"!H`J#y,K:4I.h#,HPeK{\" x=\"127\" y=\"346\"><field name=\"VAR\" id=\"F]q147x/*m|PMfPQU-lZ\">lm</field><value name=\"VALUE\"><block type=\"varCreateObject\" id=\"h:O3ZfE(*c[Hz3sF=$Mm\"><mutation items=\"1\"></mutation><field name=\"VAR\" id=\"!+Hi;Yx;ZB!EQYU8ItpO\">linear_model</field><field name=\"MEMBER\">LinearRegression</field><data>linear_model:LinearRegression</data></block></value></block></xml>"
   ]
  },
  {
   "cell_type": "markdown",
   "metadata": {},
   "source": [
    "Train the model using all the data:\n",
    "\n",
    "- with `lm` do `fit` using\n",
    "    - `df [ ]`  (use {dictVariable} from LISTS) containing a list containing\n",
    "        - `\"Girth\"` (this is $X_1$)\n",
    "        - `\"Height\"` (this is $X_2$)\n",
    "    - `df [ ]` containing a list containing\n",
    "        - `\"Volume\"` (this is $Y$)"
   ]
  },
  {
   "cell_type": "code",
   "execution_count": 114,
   "metadata": {
    "user_blocks": [
     "varDoMethod",
     "indexer",
     "lists_create_with",
     "text",
     "text",
     "indexer",
     "lists_create_with",
     "text"
    ],
    "user_blocks_xml": "<xml xmlns=\"https://developers.google.com/blockly/xml\"><variables><variable id=\"F]q147x/*m|PMfPQU-lZ\">lm</variable><variable id=\"FUXr7i7@?fN1xCAh/=Fn\">df</variable></variables><block type=\"varDoMethod\" id=\"W6(0}aPsJ;vA9C3A!:G@\" x=\"129\" y=\"135\"><mutation items=\"2\"></mutation><field name=\"VAR\" id=\"F]q147x/*m|PMfPQU-lZ\">lm</field><field name=\"MEMBER\">fit</field><data>lm:fit</data><value name=\"ADD0\"><block type=\"indexer\" id=\".|%fa!U;=I@;!6$?B7Id\"><field name=\"VAR\" id=\"FUXr7i7@?fN1xCAh/=Fn\">df</field><value name=\"INDEX\"><block type=\"lists_create_with\" id=\"o5szXy4*HmKGA;-.~H?H\"><mutation items=\"2\"></mutation><value name=\"ADD0\"><block type=\"text\" id=\"{*5MFGJL4(x-JLsuD9qv\"><field name=\"TEXT\">Girth</field></block></value><value name=\"ADD1\"><block type=\"text\" id=\"#cqoT/|u(kuI^=VOHoB@\"><field name=\"TEXT\">Height</field></block></value></block></value></block></value><value name=\"ADD1\"><block type=\"indexer\" id=\"o.R`*;zvaP%^K2/_t`6*\"><field name=\"VAR\" id=\"FUXr7i7@?fN1xCAh/=Fn\">df</field><value name=\"INDEX\"><block type=\"lists_create_with\" id=\"[WAkSKWMcU+j3zS)uzVG\"><mutation items=\"1\"></mutation><value name=\"ADD0\"><block type=\"text\" id=\"w0w/T-Wh/df/waYll,rv\"><field name=\"TEXT\">Volume</field></block></value></block></value></block></value></block></xml>",
    "user_code_from_blocks": "lm.fit(df[['Girth', 'Height']],df[['Volume']])\n"
   },
   "outputs": [
    {
     "data": {
      "text/html": [
       "<style>#sk-container-id-6 {\n",
       "  /* Definition of color scheme common for light and dark mode */\n",
       "  --sklearn-color-text: #000;\n",
       "  --sklearn-color-text-muted: #666;\n",
       "  --sklearn-color-line: gray;\n",
       "  /* Definition of color scheme for unfitted estimators */\n",
       "  --sklearn-color-unfitted-level-0: #fff5e6;\n",
       "  --sklearn-color-unfitted-level-1: #f6e4d2;\n",
       "  --sklearn-color-unfitted-level-2: #ffe0b3;\n",
       "  --sklearn-color-unfitted-level-3: chocolate;\n",
       "  /* Definition of color scheme for fitted estimators */\n",
       "  --sklearn-color-fitted-level-0: #f0f8ff;\n",
       "  --sklearn-color-fitted-level-1: #d4ebff;\n",
       "  --sklearn-color-fitted-level-2: #b3dbfd;\n",
       "  --sklearn-color-fitted-level-3: cornflowerblue;\n",
       "\n",
       "  /* Specific color for light theme */\n",
       "  --sklearn-color-text-on-default-background: var(--sg-text-color, var(--theme-code-foreground, var(--jp-content-font-color1, black)));\n",
       "  --sklearn-color-background: var(--sg-background-color, var(--theme-background, var(--jp-layout-color0, white)));\n",
       "  --sklearn-color-border-box: var(--sg-text-color, var(--theme-code-foreground, var(--jp-content-font-color1, black)));\n",
       "  --sklearn-color-icon: #696969;\n",
       "\n",
       "  @media (prefers-color-scheme: dark) {\n",
       "    /* Redefinition of color scheme for dark theme */\n",
       "    --sklearn-color-text-on-default-background: var(--sg-text-color, var(--theme-code-foreground, var(--jp-content-font-color1, white)));\n",
       "    --sklearn-color-background: var(--sg-background-color, var(--theme-background, var(--jp-layout-color0, #111)));\n",
       "    --sklearn-color-border-box: var(--sg-text-color, var(--theme-code-foreground, var(--jp-content-font-color1, white)));\n",
       "    --sklearn-color-icon: #878787;\n",
       "  }\n",
       "}\n",
       "\n",
       "#sk-container-id-6 {\n",
       "  color: var(--sklearn-color-text);\n",
       "}\n",
       "\n",
       "#sk-container-id-6 pre {\n",
       "  padding: 0;\n",
       "}\n",
       "\n",
       "#sk-container-id-6 input.sk-hidden--visually {\n",
       "  border: 0;\n",
       "  clip: rect(1px 1px 1px 1px);\n",
       "  clip: rect(1px, 1px, 1px, 1px);\n",
       "  height: 1px;\n",
       "  margin: -1px;\n",
       "  overflow: hidden;\n",
       "  padding: 0;\n",
       "  position: absolute;\n",
       "  width: 1px;\n",
       "}\n",
       "\n",
       "#sk-container-id-6 div.sk-dashed-wrapped {\n",
       "  border: 1px dashed var(--sklearn-color-line);\n",
       "  margin: 0 0.4em 0.5em 0.4em;\n",
       "  box-sizing: border-box;\n",
       "  padding-bottom: 0.4em;\n",
       "  background-color: var(--sklearn-color-background);\n",
       "}\n",
       "\n",
       "#sk-container-id-6 div.sk-container {\n",
       "  /* jupyter's `normalize.less` sets `[hidden] { display: none; }`\n",
       "     but bootstrap.min.css set `[hidden] { display: none !important; }`\n",
       "     so we also need the `!important` here to be able to override the\n",
       "     default hidden behavior on the sphinx rendered scikit-learn.org.\n",
       "     See: https://github.com/scikit-learn/scikit-learn/issues/21755 */\n",
       "  display: inline-block !important;\n",
       "  position: relative;\n",
       "}\n",
       "\n",
       "#sk-container-id-6 div.sk-text-repr-fallback {\n",
       "  display: none;\n",
       "}\n",
       "\n",
       "div.sk-parallel-item,\n",
       "div.sk-serial,\n",
       "div.sk-item {\n",
       "  /* draw centered vertical line to link estimators */\n",
       "  background-image: linear-gradient(var(--sklearn-color-text-on-default-background), var(--sklearn-color-text-on-default-background));\n",
       "  background-size: 2px 100%;\n",
       "  background-repeat: no-repeat;\n",
       "  background-position: center center;\n",
       "}\n",
       "\n",
       "/* Parallel-specific style estimator block */\n",
       "\n",
       "#sk-container-id-6 div.sk-parallel-item::after {\n",
       "  content: \"\";\n",
       "  width: 100%;\n",
       "  border-bottom: 2px solid var(--sklearn-color-text-on-default-background);\n",
       "  flex-grow: 1;\n",
       "}\n",
       "\n",
       "#sk-container-id-6 div.sk-parallel {\n",
       "  display: flex;\n",
       "  align-items: stretch;\n",
       "  justify-content: center;\n",
       "  background-color: var(--sklearn-color-background);\n",
       "  position: relative;\n",
       "}\n",
       "\n",
       "#sk-container-id-6 div.sk-parallel-item {\n",
       "  display: flex;\n",
       "  flex-direction: column;\n",
       "}\n",
       "\n",
       "#sk-container-id-6 div.sk-parallel-item:first-child::after {\n",
       "  align-self: flex-end;\n",
       "  width: 50%;\n",
       "}\n",
       "\n",
       "#sk-container-id-6 div.sk-parallel-item:last-child::after {\n",
       "  align-self: flex-start;\n",
       "  width: 50%;\n",
       "}\n",
       "\n",
       "#sk-container-id-6 div.sk-parallel-item:only-child::after {\n",
       "  width: 0;\n",
       "}\n",
       "\n",
       "/* Serial-specific style estimator block */\n",
       "\n",
       "#sk-container-id-6 div.sk-serial {\n",
       "  display: flex;\n",
       "  flex-direction: column;\n",
       "  align-items: center;\n",
       "  background-color: var(--sklearn-color-background);\n",
       "  padding-right: 1em;\n",
       "  padding-left: 1em;\n",
       "}\n",
       "\n",
       "\n",
       "/* Toggleable style: style used for estimator/Pipeline/ColumnTransformer box that is\n",
       "clickable and can be expanded/collapsed.\n",
       "- Pipeline and ColumnTransformer use this feature and define the default style\n",
       "- Estimators will overwrite some part of the style using the `sk-estimator` class\n",
       "*/\n",
       "\n",
       "/* Pipeline and ColumnTransformer style (default) */\n",
       "\n",
       "#sk-container-id-6 div.sk-toggleable {\n",
       "  /* Default theme specific background. It is overwritten whether we have a\n",
       "  specific estimator or a Pipeline/ColumnTransformer */\n",
       "  background-color: var(--sklearn-color-background);\n",
       "}\n",
       "\n",
       "/* Toggleable label */\n",
       "#sk-container-id-6 label.sk-toggleable__label {\n",
       "  cursor: pointer;\n",
       "  display: flex;\n",
       "  width: 100%;\n",
       "  margin-bottom: 0;\n",
       "  padding: 0.5em;\n",
       "  box-sizing: border-box;\n",
       "  text-align: center;\n",
       "  align-items: start;\n",
       "  justify-content: space-between;\n",
       "  gap: 0.5em;\n",
       "}\n",
       "\n",
       "#sk-container-id-6 label.sk-toggleable__label .caption {\n",
       "  font-size: 0.6rem;\n",
       "  font-weight: lighter;\n",
       "  color: var(--sklearn-color-text-muted);\n",
       "}\n",
       "\n",
       "#sk-container-id-6 label.sk-toggleable__label-arrow:before {\n",
       "  /* Arrow on the left of the label */\n",
       "  content: \"▸\";\n",
       "  float: left;\n",
       "  margin-right: 0.25em;\n",
       "  color: var(--sklearn-color-icon);\n",
       "}\n",
       "\n",
       "#sk-container-id-6 label.sk-toggleable__label-arrow:hover:before {\n",
       "  color: var(--sklearn-color-text);\n",
       "}\n",
       "\n",
       "/* Toggleable content - dropdown */\n",
       "\n",
       "#sk-container-id-6 div.sk-toggleable__content {\n",
       "  max-height: 0;\n",
       "  max-width: 0;\n",
       "  overflow: hidden;\n",
       "  text-align: left;\n",
       "  /* unfitted */\n",
       "  background-color: var(--sklearn-color-unfitted-level-0);\n",
       "}\n",
       "\n",
       "#sk-container-id-6 div.sk-toggleable__content.fitted {\n",
       "  /* fitted */\n",
       "  background-color: var(--sklearn-color-fitted-level-0);\n",
       "}\n",
       "\n",
       "#sk-container-id-6 div.sk-toggleable__content pre {\n",
       "  margin: 0.2em;\n",
       "  border-radius: 0.25em;\n",
       "  color: var(--sklearn-color-text);\n",
       "  /* unfitted */\n",
       "  background-color: var(--sklearn-color-unfitted-level-0);\n",
       "}\n",
       "\n",
       "#sk-container-id-6 div.sk-toggleable__content.fitted pre {\n",
       "  /* unfitted */\n",
       "  background-color: var(--sklearn-color-fitted-level-0);\n",
       "}\n",
       "\n",
       "#sk-container-id-6 input.sk-toggleable__control:checked~div.sk-toggleable__content {\n",
       "  /* Expand drop-down */\n",
       "  max-height: 200px;\n",
       "  max-width: 100%;\n",
       "  overflow: auto;\n",
       "}\n",
       "\n",
       "#sk-container-id-6 input.sk-toggleable__control:checked~label.sk-toggleable__label-arrow:before {\n",
       "  content: \"▾\";\n",
       "}\n",
       "\n",
       "/* Pipeline/ColumnTransformer-specific style */\n",
       "\n",
       "#sk-container-id-6 div.sk-label input.sk-toggleable__control:checked~label.sk-toggleable__label {\n",
       "  color: var(--sklearn-color-text);\n",
       "  background-color: var(--sklearn-color-unfitted-level-2);\n",
       "}\n",
       "\n",
       "#sk-container-id-6 div.sk-label.fitted input.sk-toggleable__control:checked~label.sk-toggleable__label {\n",
       "  background-color: var(--sklearn-color-fitted-level-2);\n",
       "}\n",
       "\n",
       "/* Estimator-specific style */\n",
       "\n",
       "/* Colorize estimator box */\n",
       "#sk-container-id-6 div.sk-estimator input.sk-toggleable__control:checked~label.sk-toggleable__label {\n",
       "  /* unfitted */\n",
       "  background-color: var(--sklearn-color-unfitted-level-2);\n",
       "}\n",
       "\n",
       "#sk-container-id-6 div.sk-estimator.fitted input.sk-toggleable__control:checked~label.sk-toggleable__label {\n",
       "  /* fitted */\n",
       "  background-color: var(--sklearn-color-fitted-level-2);\n",
       "}\n",
       "\n",
       "#sk-container-id-6 div.sk-label label.sk-toggleable__label,\n",
       "#sk-container-id-6 div.sk-label label {\n",
       "  /* The background is the default theme color */\n",
       "  color: var(--sklearn-color-text-on-default-background);\n",
       "}\n",
       "\n",
       "/* On hover, darken the color of the background */\n",
       "#sk-container-id-6 div.sk-label:hover label.sk-toggleable__label {\n",
       "  color: var(--sklearn-color-text);\n",
       "  background-color: var(--sklearn-color-unfitted-level-2);\n",
       "}\n",
       "\n",
       "/* Label box, darken color on hover, fitted */\n",
       "#sk-container-id-6 div.sk-label.fitted:hover label.sk-toggleable__label.fitted {\n",
       "  color: var(--sklearn-color-text);\n",
       "  background-color: var(--sklearn-color-fitted-level-2);\n",
       "}\n",
       "\n",
       "/* Estimator label */\n",
       "\n",
       "#sk-container-id-6 div.sk-label label {\n",
       "  font-family: monospace;\n",
       "  font-weight: bold;\n",
       "  display: inline-block;\n",
       "  line-height: 1.2em;\n",
       "}\n",
       "\n",
       "#sk-container-id-6 div.sk-label-container {\n",
       "  text-align: center;\n",
       "}\n",
       "\n",
       "/* Estimator-specific */\n",
       "#sk-container-id-6 div.sk-estimator {\n",
       "  font-family: monospace;\n",
       "  border: 1px dotted var(--sklearn-color-border-box);\n",
       "  border-radius: 0.25em;\n",
       "  box-sizing: border-box;\n",
       "  margin-bottom: 0.5em;\n",
       "  /* unfitted */\n",
       "  background-color: var(--sklearn-color-unfitted-level-0);\n",
       "}\n",
       "\n",
       "#sk-container-id-6 div.sk-estimator.fitted {\n",
       "  /* fitted */\n",
       "  background-color: var(--sklearn-color-fitted-level-0);\n",
       "}\n",
       "\n",
       "/* on hover */\n",
       "#sk-container-id-6 div.sk-estimator:hover {\n",
       "  /* unfitted */\n",
       "  background-color: var(--sklearn-color-unfitted-level-2);\n",
       "}\n",
       "\n",
       "#sk-container-id-6 div.sk-estimator.fitted:hover {\n",
       "  /* fitted */\n",
       "  background-color: var(--sklearn-color-fitted-level-2);\n",
       "}\n",
       "\n",
       "/* Specification for estimator info (e.g. \"i\" and \"?\") */\n",
       "\n",
       "/* Common style for \"i\" and \"?\" */\n",
       "\n",
       ".sk-estimator-doc-link,\n",
       "a:link.sk-estimator-doc-link,\n",
       "a:visited.sk-estimator-doc-link {\n",
       "  float: right;\n",
       "  font-size: smaller;\n",
       "  line-height: 1em;\n",
       "  font-family: monospace;\n",
       "  background-color: var(--sklearn-color-background);\n",
       "  border-radius: 1em;\n",
       "  height: 1em;\n",
       "  width: 1em;\n",
       "  text-decoration: none !important;\n",
       "  margin-left: 0.5em;\n",
       "  text-align: center;\n",
       "  /* unfitted */\n",
       "  border: var(--sklearn-color-unfitted-level-1) 1pt solid;\n",
       "  color: var(--sklearn-color-unfitted-level-1);\n",
       "}\n",
       "\n",
       ".sk-estimator-doc-link.fitted,\n",
       "a:link.sk-estimator-doc-link.fitted,\n",
       "a:visited.sk-estimator-doc-link.fitted {\n",
       "  /* fitted */\n",
       "  border: var(--sklearn-color-fitted-level-1) 1pt solid;\n",
       "  color: var(--sklearn-color-fitted-level-1);\n",
       "}\n",
       "\n",
       "/* On hover */\n",
       "div.sk-estimator:hover .sk-estimator-doc-link:hover,\n",
       ".sk-estimator-doc-link:hover,\n",
       "div.sk-label-container:hover .sk-estimator-doc-link:hover,\n",
       ".sk-estimator-doc-link:hover {\n",
       "  /* unfitted */\n",
       "  background-color: var(--sklearn-color-unfitted-level-3);\n",
       "  color: var(--sklearn-color-background);\n",
       "  text-decoration: none;\n",
       "}\n",
       "\n",
       "div.sk-estimator.fitted:hover .sk-estimator-doc-link.fitted:hover,\n",
       ".sk-estimator-doc-link.fitted:hover,\n",
       "div.sk-label-container:hover .sk-estimator-doc-link.fitted:hover,\n",
       ".sk-estimator-doc-link.fitted:hover {\n",
       "  /* fitted */\n",
       "  background-color: var(--sklearn-color-fitted-level-3);\n",
       "  color: var(--sklearn-color-background);\n",
       "  text-decoration: none;\n",
       "}\n",
       "\n",
       "/* Span, style for the box shown on hovering the info icon */\n",
       ".sk-estimator-doc-link span {\n",
       "  display: none;\n",
       "  z-index: 9999;\n",
       "  position: relative;\n",
       "  font-weight: normal;\n",
       "  right: .2ex;\n",
       "  padding: .5ex;\n",
       "  margin: .5ex;\n",
       "  width: min-content;\n",
       "  min-width: 20ex;\n",
       "  max-width: 50ex;\n",
       "  color: var(--sklearn-color-text);\n",
       "  box-shadow: 2pt 2pt 4pt #999;\n",
       "  /* unfitted */\n",
       "  background: var(--sklearn-color-unfitted-level-0);\n",
       "  border: .5pt solid var(--sklearn-color-unfitted-level-3);\n",
       "}\n",
       "\n",
       ".sk-estimator-doc-link.fitted span {\n",
       "  /* fitted */\n",
       "  background: var(--sklearn-color-fitted-level-0);\n",
       "  border: var(--sklearn-color-fitted-level-3);\n",
       "}\n",
       "\n",
       ".sk-estimator-doc-link:hover span {\n",
       "  display: block;\n",
       "}\n",
       "\n",
       "/* \"?\"-specific style due to the `<a>` HTML tag */\n",
       "\n",
       "#sk-container-id-6 a.estimator_doc_link {\n",
       "  float: right;\n",
       "  font-size: 1rem;\n",
       "  line-height: 1em;\n",
       "  font-family: monospace;\n",
       "  background-color: var(--sklearn-color-background);\n",
       "  border-radius: 1rem;\n",
       "  height: 1rem;\n",
       "  width: 1rem;\n",
       "  text-decoration: none;\n",
       "  /* unfitted */\n",
       "  color: var(--sklearn-color-unfitted-level-1);\n",
       "  border: var(--sklearn-color-unfitted-level-1) 1pt solid;\n",
       "}\n",
       "\n",
       "#sk-container-id-6 a.estimator_doc_link.fitted {\n",
       "  /* fitted */\n",
       "  border: var(--sklearn-color-fitted-level-1) 1pt solid;\n",
       "  color: var(--sklearn-color-fitted-level-1);\n",
       "}\n",
       "\n",
       "/* On hover */\n",
       "#sk-container-id-6 a.estimator_doc_link:hover {\n",
       "  /* unfitted */\n",
       "  background-color: var(--sklearn-color-unfitted-level-3);\n",
       "  color: var(--sklearn-color-background);\n",
       "  text-decoration: none;\n",
       "}\n",
       "\n",
       "#sk-container-id-6 a.estimator_doc_link.fitted:hover {\n",
       "  /* fitted */\n",
       "  background-color: var(--sklearn-color-fitted-level-3);\n",
       "}\n",
       "</style><div id=\"sk-container-id-6\" class=\"sk-top-container\"><div class=\"sk-text-repr-fallback\"><pre>LinearRegression()</pre><b>In a Jupyter environment, please rerun this cell to show the HTML representation or trust the notebook. <br />On GitHub, the HTML representation is unable to render, please try loading this page with nbviewer.org.</b></div><div class=\"sk-container\" hidden><div class=\"sk-item\"><div class=\"sk-estimator fitted sk-toggleable\"><input class=\"sk-toggleable__control sk-hidden--visually\" id=\"sk-estimator-id-6\" type=\"checkbox\" checked><label for=\"sk-estimator-id-6\" class=\"sk-toggleable__label fitted sk-toggleable__label-arrow\"><div><div>LinearRegression</div></div><div><a class=\"sk-estimator-doc-link fitted\" rel=\"noreferrer\" target=\"_blank\" href=\"https://scikit-learn.org/1.6/modules/generated/sklearn.linear_model.LinearRegression.html\">?<span>Documentation for LinearRegression</span></a><span class=\"sk-estimator-doc-link fitted\">i<span>Fitted</span></span></div></label><div class=\"sk-toggleable__content fitted\"><pre>LinearRegression()</pre></div> </div></div></div></div>"
      ],
      "text/plain": [
       "LinearRegression()"
      ]
     },
     "execution_count": 114,
     "metadata": {},
     "output_type": "execute_result"
    }
   ],
   "source": [
    "lm.fit(df[['Girth', 'Height']],df[['Volume']])\n",
    "\n",
    "#<xml xmlns=\"https://developers.google.com/blockly/xml\"><variables><variable id=\"F]q147x/*m|PMfPQU-lZ\">lm</variable><variable id=\"FUXr7i7@?fN1xCAh/=Fn\">df</variable></variables><block type=\"varDoMethod\" id=\"W6(0}aPsJ;vA9C3A!:G@\" x=\"129\" y=\"135\"><mutation items=\"2\"></mutation><field name=\"VAR\" id=\"F]q147x/*m|PMfPQU-lZ\">lm</field><field name=\"MEMBER\">fit</field><data>lm:fit</data><value name=\"ADD0\"><block type=\"indexer\" id=\".|%fa!U;=I@;!6$?B7Id\"><field name=\"VAR\" id=\"FUXr7i7@?fN1xCAh/=Fn\">df</field><value name=\"INDEX\"><block type=\"lists_create_with\" id=\"o5szXy4*HmKGA;-.~H?H\"><mutation items=\"2\"></mutation><value name=\"ADD0\"><block type=\"text\" id=\"{*5MFGJL4(x-JLsuD9qv\"><field name=\"TEXT\">Girth</field></block></value><value name=\"ADD1\"><block type=\"text\" id=\"#cqoT/|u(kuI^=VOHoB@\"><field name=\"TEXT\">Height</field></block></value></block></value></block></value><value name=\"ADD1\"><block type=\"indexer\" id=\"o.R`*;zvaP%^K2/_t`6*\"><field name=\"VAR\" id=\"FUXr7i7@?fN1xCAh/=Fn\">df</field><value name=\"INDEX\"><block type=\"lists_create_with\" id=\"[WAkSKWMcU+j3zS)uzVG\"><mutation items=\"1\"></mutation><value name=\"ADD0\"><block type=\"text\" id=\"w0w/T-Wh/df/waYll,rv\"><field name=\"TEXT\">Volume</field></block></value></block></value></block></value></block></xml>"
   ]
  },
  {
   "cell_type": "markdown",
   "metadata": {},
   "source": [
    "Go ahead and get the $r^2$ ; you can just copy the blocks from the last cell and change `fit` to `score`."
   ]
  },
  {
   "cell_type": "code",
   "execution_count": 118,
   "metadata": {
    "user_blocks": [
     "varDoMethod",
     "indexer",
     "lists_create_with",
     "text",
     "text",
     "indexer",
     "lists_create_with",
     "text"
    ],
    "user_blocks_xml": "<xml xmlns=\"https://developers.google.com/blockly/xml\"><variables><variable id=\"F]q147x/*m|PMfPQU-lZ\">lm</variable><variable id=\"FUXr7i7@?fN1xCAh/=Fn\">df</variable></variables><block type=\"varDoMethod\" id=\"W6(0}aPsJ;vA9C3A!:G@\" x=\"129\" y=\"135\"><mutation items=\"2\"></mutation><field name=\"VAR\" id=\"F]q147x/*m|PMfPQU-lZ\">lm</field><field name=\"MEMBER\">score</field><data>lm:score</data><value name=\"ADD0\"><block type=\"indexer\" id=\".|%fa!U;=I@;!6$?B7Id\"><field name=\"VAR\" id=\"FUXr7i7@?fN1xCAh/=Fn\">df</field><value name=\"INDEX\"><block type=\"lists_create_with\" id=\"o5szXy4*HmKGA;-.~H?H\"><mutation items=\"2\"></mutation><value name=\"ADD0\"><block type=\"text\" id=\"{*5MFGJL4(x-JLsuD9qv\"><field name=\"TEXT\">Girth</field></block></value><value name=\"ADD1\"><block type=\"text\" id=\"#cqoT/|u(kuI^=VOHoB@\"><field name=\"TEXT\">Height</field></block></value></block></value></block></value><value name=\"ADD1\"><block type=\"indexer\" id=\"o.R`*;zvaP%^K2/_t`6*\"><field name=\"VAR\" id=\"FUXr7i7@?fN1xCAh/=Fn\">df</field><value name=\"INDEX\"><block type=\"lists_create_with\" id=\"[WAkSKWMcU+j3zS)uzVG\"><mutation items=\"1\"></mutation><value name=\"ADD0\"><block type=\"text\" id=\"w0w/T-Wh/df/waYll,rv\"><field name=\"TEXT\">Volume</field></block></value></block></value></block></value></block></xml>",
    "user_code_from_blocks": "lm.score(df[['Girth', 'Height']],df[['Volume']])\n"
   },
   "outputs": [
    {
     "data": {
      "text/plain": [
       "0.9561010145657578"
      ]
     },
     "execution_count": 118,
     "metadata": {},
     "output_type": "execute_result"
    }
   ],
   "source": [
    "lm.score(df[['Girth', 'Height']],df[['Volume']])\n",
    "\n",
    "#<xml xmlns=\"https://developers.google.com/blockly/xml\"><variables><variable id=\"F]q147x/*m|PMfPQU-lZ\">lm</variable><variable id=\"FUXr7i7@?fN1xCAh/=Fn\">df</variable></variables><block type=\"varDoMethod\" id=\"W6(0}aPsJ;vA9C3A!:G@\" x=\"129\" y=\"135\"><mutation items=\"2\"></mutation><field name=\"VAR\" id=\"F]q147x/*m|PMfPQU-lZ\">lm</field><field name=\"MEMBER\">score</field><data>lm:score</data><value name=\"ADD0\"><block type=\"indexer\" id=\".|%fa!U;=I@;!6$?B7Id\"><field name=\"VAR\" id=\"FUXr7i7@?fN1xCAh/=Fn\">df</field><value name=\"INDEX\"><block type=\"lists_create_with\" id=\"o5szXy4*HmKGA;-.~H?H\"><mutation items=\"2\"></mutation><value name=\"ADD0\"><block type=\"text\" id=\"{*5MFGJL4(x-JLsuD9qv\"><field name=\"TEXT\">Girth</field></block></value><value name=\"ADD1\"><block type=\"text\" id=\"#cqoT/|u(kuI^=VOHoB@\"><field name=\"TEXT\">Height</field></block></value></block></value></block></value><value name=\"ADD1\"><block type=\"indexer\" id=\"o.R`*;zvaP%^K2/_t`6*\"><field name=\"VAR\" id=\"FUXr7i7@?fN1xCAh/=Fn\">df</field><value name=\"INDEX\"><block type=\"lists_create_with\" id=\"[WAkSKWMcU+j3zS)uzVG\"><mutation items=\"1\"></mutation><value name=\"ADD0\"><block type=\"text\" id=\"w0w/T-Wh/df/waYll,rv\"><field name=\"TEXT\">Volume</field></block></value></block></value></block></value></block></xml>"
   ]
  },
  {
   "cell_type": "markdown",
   "metadata": {},
   "source": [
    "Based on that $r^2$, we'd think we have a really good model, right?"
   ]
  },
  {
   "cell_type": "markdown",
   "metadata": {},
   "source": [
    "### Diagnostics 1\n",
    "\n",
    "To check the model, the first thing we need to do is get the predictions from the model. \n",
    "Once we have the predictions, we can `assign` them to a column in the `df`:\n",
    "\n",
    "- Set `df` to with `df` do `assign` using\n",
    "    - freestyle `predictions1=` *followed by*\n",
    "        - with `lm` do `predict` using\n",
    "            - `df [ ]` containing a list containing\n",
    "                - `\"Girth\"`\n",
    "                - `\"Height\"`\n",
    "- `df` (to display)\n",
    "\n",
    "**This makes a very long block, so you probably want to create all the blocks and then connect them in reverse order.**"
   ]
  },
  {
   "cell_type": "code",
   "execution_count": 126,
   "metadata": {
    "user_blocks": [
     "variables_set",
     "varDoMethod",
     "valueOutputCodeBlock",
     "varDoMethod",
     "indexer",
     "lists_create_with",
     "text",
     "text",
     "variables_get"
    ],
    "user_blocks_xml": "<xml xmlns=\"https://developers.google.com/blockly/xml\"><variables><variable id=\"FUXr7i7@?fN1xCAh/=Fn\">df</variable><variable id=\"F]q147x/*m|PMfPQU-lZ\">lm</variable></variables><block type=\"variables_set\" id=\"rn0LHF%t,0JD5-!Ov?-U\" x=\"2\" y=\"82\"><field name=\"VAR\" id=\"FUXr7i7@?fN1xCAh/=Fn\">df</field><value name=\"VALUE\"><block type=\"varDoMethod\" id=\"ou+aFod:USt{s9i+emN}\"><mutation items=\"1\"></mutation><field name=\"VAR\" id=\"FUXr7i7@?fN1xCAh/=Fn\">df</field><field name=\"MEMBER\">assign</field><data>df:assign</data><value name=\"ADD0\"><block type=\"valueOutputCodeBlock\" id=\"UFqs+Ox{QF6j*LkUvNvu\"><field name=\"CODE\">predictions1=</field><value name=\"INPUT\"><block type=\"varDoMethod\" id=\"(2l5d}m6K9#ZC6_^/JXe\"><mutation items=\"1\"></mutation><field name=\"VAR\" id=\"F]q147x/*m|PMfPQU-lZ\">lm</field><field name=\"MEMBER\">predict</field><data>lm:predict</data><value name=\"ADD0\"><block type=\"indexer\" id=\"WQaaM]1BPY=1wxWQsv:$\"><field name=\"VAR\" id=\"FUXr7i7@?fN1xCAh/=Fn\">df</field><value name=\"INDEX\"><block type=\"lists_create_with\" id=\"Asy|RX,d{QfgBQmjI{@@\"><mutation items=\"2\"></mutation><value name=\"ADD0\"><block type=\"text\" id=\"+5PTgD[9U~pl`q#YlA^!\"><field name=\"TEXT\">Girth</field></block></value><value name=\"ADD1\"><block type=\"text\" id=\"{vo.7:W51MOg?Ef(L-Rn\"><field name=\"TEXT\">Height</field></block></value></block></value></block></value></block></value></block></value></block></value></block><block type=\"variables_get\" id=\"M$f:)yu6%B2SZyI:D+V+\" x=\"8\" y=\"296\"><field name=\"VAR\" id=\"FUXr7i7@?fN1xCAh/=Fn\">df</field></block></xml>",
    "user_code_from_blocks": "df = df.assign(predictions1= (lm.predict(df[['Girth', 'Height']])))\n\ndf\n"
   },
   "outputs": [
    {
     "data": {
      "text/html": [
       "<div>\n",
       "<style scoped>\n",
       "    .dataframe tbody tr th:only-of-type {\n",
       "        vertical-align: middle;\n",
       "    }\n",
       "\n",
       "    .dataframe tbody tr th {\n",
       "        vertical-align: top;\n",
       "    }\n",
       "\n",
       "    .dataframe thead th {\n",
       "        text-align: right;\n",
       "    }\n",
       "</style>\n",
       "<table border=\"1\" class=\"dataframe\">\n",
       "  <thead>\n",
       "    <tr style=\"text-align: right;\">\n",
       "      <th></th>\n",
       "      <th>Girth</th>\n",
       "      <th>Height</th>\n",
       "      <th>Volume</th>\n",
       "      <th>Type_plum</th>\n",
       "      <th>Type</th>\n",
       "      <th>predictions1</th>\n",
       "    </tr>\n",
       "  </thead>\n",
       "  <tbody>\n",
       "    <tr>\n",
       "      <th>0</th>\n",
       "      <td>8.3</td>\n",
       "      <td>70.0</td>\n",
       "      <td>10.3</td>\n",
       "      <td>0</td>\n",
       "      <td>cherry</td>\n",
       "      <td>6.826375</td>\n",
       "    </tr>\n",
       "    <tr>\n",
       "      <th>1</th>\n",
       "      <td>8.6</td>\n",
       "      <td>65.0</td>\n",
       "      <td>10.3</td>\n",
       "      <td>0</td>\n",
       "      <td>cherry</td>\n",
       "      <td>6.493821</td>\n",
       "    </tr>\n",
       "    <tr>\n",
       "      <th>2</th>\n",
       "      <td>8.8</td>\n",
       "      <td>63.0</td>\n",
       "      <td>10.2</td>\n",
       "      <td>0</td>\n",
       "      <td>cherry</td>\n",
       "      <td>6.707254</td>\n",
       "    </tr>\n",
       "    <tr>\n",
       "      <th>3</th>\n",
       "      <td>10.5</td>\n",
       "      <td>72.0</td>\n",
       "      <td>16.4</td>\n",
       "      <td>0</td>\n",
       "      <td>cherry</td>\n",
       "      <td>17.006587</td>\n",
       "    </tr>\n",
       "    <tr>\n",
       "      <th>4</th>\n",
       "      <td>10.7</td>\n",
       "      <td>81.0</td>\n",
       "      <td>18.8</td>\n",
       "      <td>0</td>\n",
       "      <td>cherry</td>\n",
       "      <td>20.809891</td>\n",
       "    </tr>\n",
       "    <tr>\n",
       "      <th>...</th>\n",
       "      <td>...</td>\n",
       "      <td>...</td>\n",
       "      <td>...</td>\n",
       "      <td>...</td>\n",
       "      <td>...</td>\n",
       "      <td>...</td>\n",
       "    </tr>\n",
       "    <tr>\n",
       "      <th>57</th>\n",
       "      <td>17.9</td>\n",
       "      <td>69.2</td>\n",
       "      <td>47.1</td>\n",
       "      <td>1</td>\n",
       "      <td>plum</td>\n",
       "      <td>48.139871</td>\n",
       "    </tr>\n",
       "    <tr>\n",
       "      <th>58</th>\n",
       "      <td>18.8</td>\n",
       "      <td>67.3</td>\n",
       "      <td>50.5</td>\n",
       "      <td>1</td>\n",
       "      <td>plum</td>\n",
       "      <td>51.417419</td>\n",
       "    </tr>\n",
       "    <tr>\n",
       "      <th>59</th>\n",
       "      <td>19.7</td>\n",
       "      <td>67.4</td>\n",
       "      <td>55.6</td>\n",
       "      <td>1</td>\n",
       "      <td>plum</td>\n",
       "      <td>55.347671</td>\n",
       "    </tr>\n",
       "    <tr>\n",
       "      <th>60</th>\n",
       "      <td>17.2</td>\n",
       "      <td>67.3</td>\n",
       "      <td>42.3</td>\n",
       "      <td>1</td>\n",
       "      <td>plum</td>\n",
       "      <td>44.488323</td>\n",
       "    </tr>\n",
       "    <tr>\n",
       "      <th>61</th>\n",
       "      <td>21.1</td>\n",
       "      <td>73.8</td>\n",
       "      <td>69.8</td>\n",
       "      <td>1</td>\n",
       "      <td>plum</td>\n",
       "      <td>63.499282</td>\n",
       "    </tr>\n",
       "  </tbody>\n",
       "</table>\n",
       "<p>62 rows × 6 columns</p>\n",
       "</div>"
      ],
      "text/plain": [
       "    Girth  Height  Volume  Type_plum    Type  predictions1\n",
       "0     8.3    70.0    10.3          0  cherry      6.826375\n",
       "1     8.6    65.0    10.3          0  cherry      6.493821\n",
       "2     8.8    63.0    10.2          0  cherry      6.707254\n",
       "3    10.5    72.0    16.4          0  cherry     17.006587\n",
       "4    10.7    81.0    18.8          0  cherry     20.809891\n",
       "..    ...     ...     ...        ...     ...           ...\n",
       "57   17.9    69.2    47.1          1    plum     48.139871\n",
       "58   18.8    67.3    50.5          1    plum     51.417419\n",
       "59   19.7    67.4    55.6          1    plum     55.347671\n",
       "60   17.2    67.3    42.3          1    plum     44.488323\n",
       "61   21.1    73.8    69.8          1    plum     63.499282\n",
       "\n",
       "[62 rows x 6 columns]"
      ]
     },
     "execution_count": 126,
     "metadata": {},
     "output_type": "execute_result"
    }
   ],
   "source": [
    "df = df.assign(predictions1= (lm.predict(df[['Girth', 'Height']])))\n",
    "\n",
    "df\n",
    "\n",
    "#<xml xmlns=\"https://developers.google.com/blockly/xml\"><variables><variable id=\"FUXr7i7@?fN1xCAh/=Fn\">df</variable><variable id=\"F]q147x/*m|PMfPQU-lZ\">lm</variable></variables><block type=\"variables_set\" id=\"rn0LHF%t,0JD5-!Ov?-U\" x=\"2\" y=\"82\"><field name=\"VAR\" id=\"FUXr7i7@?fN1xCAh/=Fn\">df</field><value name=\"VALUE\"><block type=\"varDoMethod\" id=\"ou+aFod:USt{s9i+emN}\"><mutation items=\"1\"></mutation><field name=\"VAR\" id=\"FUXr7i7@?fN1xCAh/=Fn\">df</field><field name=\"MEMBER\">assign</field><data>df:assign</data><value name=\"ADD0\"><block type=\"valueOutputCodeBlock\" id=\"UFqs+Ox{QF6j*LkUvNvu\"><field name=\"CODE\">predictions1=</field><value name=\"INPUT\"><block type=\"varDoMethod\" id=\"(2l5d}m6K9#ZC6_^/JXe\"><mutation items=\"1\"></mutation><field name=\"VAR\" id=\"F]q147x/*m|PMfPQU-lZ\">lm</field><field name=\"MEMBER\">predict</field><data>lm:predict</data><value name=\"ADD0\"><block type=\"indexer\" id=\"WQaaM]1BPY=1wxWQsv:$\"><field name=\"VAR\" id=\"FUXr7i7@?fN1xCAh/=Fn\">df</field><value name=\"INDEX\"><block type=\"lists_create_with\" id=\"Asy|RX,d{QfgBQmjI{@@\"><mutation items=\"2\"></mutation><value name=\"ADD0\"><block type=\"text\" id=\"+5PTgD[9U~pl`q#YlA^!\"><field name=\"TEXT\">Girth</field></block></value><value name=\"ADD1\"><block type=\"text\" id=\"{vo.7:W51MOg?Ef(L-Rn\"><field name=\"TEXT\">Height</field></block></value></block></value></block></value></block></value></block></value></block></value></block><block type=\"variables_get\" id=\"M$f:)yu6%B2SZyI:D+V+\" x=\"8\" y=\"296\"><field name=\"VAR\" id=\"FUXr7i7@?fN1xCAh/=Fn\">df</field></block></xml>"
   ]
  },
  {
   "cell_type": "markdown",
   "metadata": {},
   "source": [
    "Similarly, we want to add the residuals to `df`:\n",
    "    \n",
    "- Set `df` to with `df` do `assign` using\n",
    "    - freestyle `residuals1=` *followed by* `df [ \"Volume\" ] - df [ \"predictions1\" ]`\n",
    "\n",
    "- `df` (to display)\n",
    "\n",
    "**Hint: use {dictVariable}[] and the + block from MATH**"
   ]
  },
  {
   "cell_type": "code",
   "execution_count": 133,
   "metadata": {
    "user_blocks": [
     "variables_set",
     "varDoMethod",
     "valueOutputCodeBlock",
     "math_arithmetic",
     "indexer",
     "text",
     "indexer",
     "text",
     "variables_get"
    ],
    "user_blocks_xml": "<xml xmlns=\"https://developers.google.com/blockly/xml\"><variables><variable id=\"FUXr7i7@?fN1xCAh/=Fn\">df</variable></variables><block type=\"variables_set\" id=\"rn0LHF%t,0JD5-!Ov?-U\" x=\"-10\" y=\"139\"><field name=\"VAR\" id=\"FUXr7i7@?fN1xCAh/=Fn\">df</field><value name=\"VALUE\"><block type=\"varDoMethod\" id=\"(2l5d}m6K9#ZC6_^/JXe\"><mutation items=\"1\"></mutation><field name=\"VAR\" id=\"FUXr7i7@?fN1xCAh/=Fn\">df</field><field name=\"MEMBER\">assign</field><data>df:assign</data><value name=\"ADD0\"><block type=\"valueOutputCodeBlock\" id=\"^$QWpb1hPzxWt/?~mZBX\"><field name=\"CODE\">residuals1=</field><value name=\"INPUT\"><block type=\"math_arithmetic\" id=\"=szmSC[EoihfyX_5cH6v\"><field name=\"OP\">MINUS</field><value name=\"A\"><shadow type=\"math_number\" id=\"E[2Ss)z+r1pVe~OSDMne\"><field name=\"NUM\">1</field></shadow><block type=\"indexer\" id=\"WQaaM]1BPY=1wxWQsv:$\"><field name=\"VAR\" id=\"FUXr7i7@?fN1xCAh/=Fn\">df</field><value name=\"INDEX\"><block type=\"text\" id=\"+5PTgD[9U~pl`q#YlA^!\"><field name=\"TEXT\">Volume</field></block></value></block></value><value name=\"B\"><shadow type=\"math_number\" id=\"Z%,Q(P8VED{wb;Q#^bM4\"><field name=\"NUM\">1</field></shadow><block type=\"indexer\" id=\"b.`x=!iTEC%|-VGV[Hu5\"><field name=\"VAR\" id=\"FUXr7i7@?fN1xCAh/=Fn\">df</field><value name=\"INDEX\"><block type=\"text\" id=\"g`tk1*Psq~biS1z%3c`q\"><field name=\"TEXT\">predictions1</field></block></value></block></value></block></value></block></value></block></value></block><block type=\"variables_get\" id=\"h0wMz)I}*q%AYU/9Rp;o\" x=\"8\" y=\"296\"><field name=\"VAR\" id=\"FUXr7i7@?fN1xCAh/=Fn\">df</field></block></xml>",
    "user_code_from_blocks": "df = df.assign(residuals1= (df['Volume'] - df['predictions1']))\n\ndf\n"
   },
   "outputs": [
    {
     "data": {
      "text/html": [
       "<div>\n",
       "<style scoped>\n",
       "    .dataframe tbody tr th:only-of-type {\n",
       "        vertical-align: middle;\n",
       "    }\n",
       "\n",
       "    .dataframe tbody tr th {\n",
       "        vertical-align: top;\n",
       "    }\n",
       "\n",
       "    .dataframe thead th {\n",
       "        text-align: right;\n",
       "    }\n",
       "</style>\n",
       "<table border=\"1\" class=\"dataframe\">\n",
       "  <thead>\n",
       "    <tr style=\"text-align: right;\">\n",
       "      <th></th>\n",
       "      <th>Girth</th>\n",
       "      <th>Height</th>\n",
       "      <th>Volume</th>\n",
       "      <th>Type_plum</th>\n",
       "      <th>Type</th>\n",
       "      <th>predictions1</th>\n",
       "      <th>residuals1</th>\n",
       "    </tr>\n",
       "  </thead>\n",
       "  <tbody>\n",
       "    <tr>\n",
       "      <th>0</th>\n",
       "      <td>8.3</td>\n",
       "      <td>70.0</td>\n",
       "      <td>10.3</td>\n",
       "      <td>0</td>\n",
       "      <td>cherry</td>\n",
       "      <td>6.826375</td>\n",
       "      <td>3.473625</td>\n",
       "    </tr>\n",
       "    <tr>\n",
       "      <th>1</th>\n",
       "      <td>8.6</td>\n",
       "      <td>65.0</td>\n",
       "      <td>10.3</td>\n",
       "      <td>0</td>\n",
       "      <td>cherry</td>\n",
       "      <td>6.493821</td>\n",
       "      <td>3.806179</td>\n",
       "    </tr>\n",
       "    <tr>\n",
       "      <th>2</th>\n",
       "      <td>8.8</td>\n",
       "      <td>63.0</td>\n",
       "      <td>10.2</td>\n",
       "      <td>0</td>\n",
       "      <td>cherry</td>\n",
       "      <td>6.707254</td>\n",
       "      <td>3.492746</td>\n",
       "    </tr>\n",
       "    <tr>\n",
       "      <th>3</th>\n",
       "      <td>10.5</td>\n",
       "      <td>72.0</td>\n",
       "      <td>16.4</td>\n",
       "      <td>0</td>\n",
       "      <td>cherry</td>\n",
       "      <td>17.006587</td>\n",
       "      <td>-0.606587</td>\n",
       "    </tr>\n",
       "    <tr>\n",
       "      <th>4</th>\n",
       "      <td>10.7</td>\n",
       "      <td>81.0</td>\n",
       "      <td>18.8</td>\n",
       "      <td>0</td>\n",
       "      <td>cherry</td>\n",
       "      <td>20.809891</td>\n",
       "      <td>-2.009891</td>\n",
       "    </tr>\n",
       "    <tr>\n",
       "      <th>...</th>\n",
       "      <td>...</td>\n",
       "      <td>...</td>\n",
       "      <td>...</td>\n",
       "      <td>...</td>\n",
       "      <td>...</td>\n",
       "      <td>...</td>\n",
       "      <td>...</td>\n",
       "    </tr>\n",
       "    <tr>\n",
       "      <th>57</th>\n",
       "      <td>17.9</td>\n",
       "      <td>69.2</td>\n",
       "      <td>47.1</td>\n",
       "      <td>1</td>\n",
       "      <td>plum</td>\n",
       "      <td>48.139871</td>\n",
       "      <td>-1.039871</td>\n",
       "    </tr>\n",
       "    <tr>\n",
       "      <th>58</th>\n",
       "      <td>18.8</td>\n",
       "      <td>67.3</td>\n",
       "      <td>50.5</td>\n",
       "      <td>1</td>\n",
       "      <td>plum</td>\n",
       "      <td>51.417419</td>\n",
       "      <td>-0.917419</td>\n",
       "    </tr>\n",
       "    <tr>\n",
       "      <th>59</th>\n",
       "      <td>19.7</td>\n",
       "      <td>67.4</td>\n",
       "      <td>55.6</td>\n",
       "      <td>1</td>\n",
       "      <td>plum</td>\n",
       "      <td>55.347671</td>\n",
       "      <td>0.252329</td>\n",
       "    </tr>\n",
       "    <tr>\n",
       "      <th>60</th>\n",
       "      <td>17.2</td>\n",
       "      <td>67.3</td>\n",
       "      <td>42.3</td>\n",
       "      <td>1</td>\n",
       "      <td>plum</td>\n",
       "      <td>44.488323</td>\n",
       "      <td>-2.188323</td>\n",
       "    </tr>\n",
       "    <tr>\n",
       "      <th>61</th>\n",
       "      <td>21.1</td>\n",
       "      <td>73.8</td>\n",
       "      <td>69.8</td>\n",
       "      <td>1</td>\n",
       "      <td>plum</td>\n",
       "      <td>63.499282</td>\n",
       "      <td>6.300718</td>\n",
       "    </tr>\n",
       "  </tbody>\n",
       "</table>\n",
       "<p>62 rows × 7 columns</p>\n",
       "</div>"
      ],
      "text/plain": [
       "    Girth  Height  Volume  Type_plum    Type  predictions1  residuals1\n",
       "0     8.3    70.0    10.3          0  cherry      6.826375    3.473625\n",
       "1     8.6    65.0    10.3          0  cherry      6.493821    3.806179\n",
       "2     8.8    63.0    10.2          0  cherry      6.707254    3.492746\n",
       "3    10.5    72.0    16.4          0  cherry     17.006587   -0.606587\n",
       "4    10.7    81.0    18.8          0  cherry     20.809891   -2.009891\n",
       "..    ...     ...     ...        ...     ...           ...         ...\n",
       "57   17.9    69.2    47.1          1    plum     48.139871   -1.039871\n",
       "58   18.8    67.3    50.5          1    plum     51.417419   -0.917419\n",
       "59   19.7    67.4    55.6          1    plum     55.347671    0.252329\n",
       "60   17.2    67.3    42.3          1    plum     44.488323   -2.188323\n",
       "61   21.1    73.8    69.8          1    plum     63.499282    6.300718\n",
       "\n",
       "[62 rows x 7 columns]"
      ]
     },
     "execution_count": 133,
     "metadata": {},
     "output_type": "execute_result"
    }
   ],
   "source": [
    "df = df.assign(residuals1= (df['Volume'] - df['predictions1']))\n",
    "\n",
    "df\n",
    "\n",
    "#<xml xmlns=\"https://developers.google.com/blockly/xml\"><variables><variable id=\"FUXr7i7@?fN1xCAh/=Fn\">df</variable></variables><block type=\"variables_set\" id=\"rn0LHF%t,0JD5-!Ov?-U\" x=\"-10\" y=\"139\"><field name=\"VAR\" id=\"FUXr7i7@?fN1xCAh/=Fn\">df</field><value name=\"VALUE\"><block type=\"varDoMethod\" id=\"(2l5d}m6K9#ZC6_^/JXe\"><mutation items=\"1\"></mutation><field name=\"VAR\" id=\"FUXr7i7@?fN1xCAh/=Fn\">df</field><field name=\"MEMBER\">assign</field><data>df:assign</data><value name=\"ADD0\"><block type=\"valueOutputCodeBlock\" id=\"^$QWpb1hPzxWt/?~mZBX\"><field name=\"CODE\">residuals1=</field><value name=\"INPUT\"><block type=\"math_arithmetic\" id=\"=szmSC[EoihfyX_5cH6v\"><field name=\"OP\">MINUS</field><value name=\"A\"><shadow type=\"math_number\" id=\"E[2Ss)z+r1pVe~OSDMne\"><field name=\"NUM\">1</field></shadow><block type=\"indexer\" id=\"WQaaM]1BPY=1wxWQsv:$\"><field name=\"VAR\" id=\"FUXr7i7@?fN1xCAh/=Fn\">df</field><value name=\"INDEX\"><block type=\"text\" id=\"+5PTgD[9U~pl`q#YlA^!\"><field name=\"TEXT\">Volume</field></block></value></block></value><value name=\"B\"><shadow type=\"math_number\" id=\"Z%,Q(P8VED{wb;Q#^bM4\"><field name=\"NUM\">1</field></shadow><block type=\"indexer\" id=\"b.`x=!iTEC%|-VGV[Hu5\"><field name=\"VAR\" id=\"FUXr7i7@?fN1xCAh/=Fn\">df</field><value name=\"INDEX\"><block type=\"text\" id=\"g`tk1*Psq~biS1z%3c`q\"><field name=\"TEXT\">predictions1</field></block></value></block></value></block></value></block></value></block></value></block><block type=\"variables_get\" id=\"h0wMz)I}*q%AYU/9Rp;o\" x=\"8\" y=\"296\"><field name=\"VAR\" id=\"FUXr7i7@?fN1xCAh/=Fn\">df</field></block></xml>"
   ]
  },
  {
   "cell_type": "markdown",
   "metadata": {},
   "source": [
    "Now let's do some plots!\n",
    "\n",
    "Let's check linearity and equal variance:\n",
    "\n",
    "- Linearity means the residuals will be close to zero\n",
    "- Equal variance means residuals will be evenly away from zero\n",
    "\n",
    "- with `px` do `scatter` using\n",
    "    - `df`\n",
    "    - freestyle `x=\"predictions1\"`\n",
    "    - freestyle `y=\"residuals1\"`"
   ]
  },
  {
   "cell_type": "code",
   "execution_count": 137,
   "metadata": {
    "user_blocks": [
     "varDoMethod",
     "variables_get",
     "dummyOutputCodeBlock",
     "dummyOutputCodeBlock"
    ],
    "user_blocks_xml": "<xml xmlns=\"https://developers.google.com/blockly/xml\"><variables><variable id=\"k#w4n=KvP~*sLy*OW|Jl\">px</variable><variable id=\"FUXr7i7@?fN1xCAh/=Fn\">df</variable></variables><block type=\"varDoMethod\" id=\"O07?sQIdula@ap]/9Ogq\" x=\"50\" y=\"123\"><mutation items=\"3\"></mutation><field name=\"VAR\" id=\"k#w4n=KvP~*sLy*OW|Jl\">px</field><field name=\"MEMBER\">scatter</field><data>px:scatter</data><value name=\"ADD0\"><block type=\"variables_get\" id=\"UE)!btph,4mdjsf[F37|\"><field name=\"VAR\" id=\"FUXr7i7@?fN1xCAh/=Fn\">df</field></block></value><value name=\"ADD1\"><block type=\"dummyOutputCodeBlock\" id=\"~L)yq!Jze#v9R[^p;2{O\"><field name=\"CODE\">x=\"predictions1\"</field></block></value><value name=\"ADD2\"><block type=\"dummyOutputCodeBlock\" id=\"yu5^$n1zXY3)#RcRx:~;\"><field name=\"CODE\">y=\"residuals1\"</field></block></value></block></xml>",
    "user_code_from_blocks": "px.scatter(df,x=\"predictions1\",y=\"residuals1\")\n"
   },
   "outputs": [
    {
     "data": {
      "application/vnd.plotly.v1+json": {
       "config": {
        "plotlyServerURL": "https://plot.ly"
       },
       "data": [
        {
         "hovertemplate": "predictions1=%{x}<br>residuals1=%{y}<extra></extra>",
         "legendgroup": "",
         "marker": {
          "color": "#636efa",
          "symbol": "circle"
         },
         "mode": "markers",
         "name": "",
         "orientation": "v",
         "showlegend": false,
         "type": "scatter",
         "x": {
          "bdata": "gM8MYDVOG0Bw4cBLrPkZQGDshoM61BpAfM1Cqa8BMUAoLiUGVc80QPjOGTRK5TVAhPQfv7w2MUDUkhP0piY0QBATBIk/NzZAMFUCHGIENUCgNfTjbsE2QFy37xCpNTZAXLfvEKk1NkA4fN8xbzk1QKRevbtOezhAdClxIo0NPEBkB2LxjqQ/QPYVH4fI2UBAdFMwW9aJPkD0VTFU4a88QNhqBtmgD0FA1mv8OQrSQUAsnvMws31BQDhXtDmlaURAhvgjGM/gRUAOHvaVOrJIQCTPbBDeSklAsPFcaw3VSUBIolg1fAxKQEiiWDV8DEpAfeAxAxNpUEB4A08GpXIaQOBV2ggQywJAABjp5eeR6j+wKhJrd4khQOjyB/k0IixAVKQ7e1SEOEAwKYZc0DUoQGC1swBm0ydApEdiyunSJkC4xF6XaPUhQERpSkfY6TJAnM9VcqlLNEAsxaRxUxIwQAg1OplebyNAFMhn6dH3NkBEodCFqekzQDD4KL4OxjRALPkeH3iINUCgcJBSg4gyQLTAoGchaTtAnFfkaa/IN0BCiOZKkdhDQBzUrFQ46DpAXFO0okpsQ0CQYtLI9RFHQKw4oBDQGkpAspKXS+cRSEAwsEv8bbVJQH5t/nmArEtAvqaQXIE+RkAqFSR86L9PQA==",
          "dtype": "f8"
         },
         "xaxis": "x",
         "y": {
          "bdata": "aMdMpvvJC0CIo+TODXMOQNjAi5Ik8QtAwOKMWyhp47/YCsPKQRQAwCjeNAe4kAHAqK5lWDLS+b8Q+gUOPDf/v4CiYSWEltg/oOy+Wbvf8b8w2e/zRBz3P8B1+w6RWvO/wB4qUVXo6b8AlVDtml2zPygUj4jUhhXABNn3vGdpF8BAK1bb7kEBQBgWX5+qNBnABIH0n4xaE8BwfFdu10sOwACUynyTL9g/yCMtBgqHD8BAB1muZhb1PyAN3zTtMwTAIHflakmA8r8oqejpxAcYQLBTZkncdRRAsKVL2MeKGkAAkihWDR/jvwBJFKuGj/G/GPxw5me3JkB4X8hZHIENQNyhX8hEZxdAAN1CA8OtGkBAVbdTItoFQCBrGglKduc/cHjt5np4+78woNBqLdbvP2i7yGA2y/c/eFyHRksC+z/suVFvKvcEQCDC5oKi1Oa/IGDDi/0g878AuFHTnxidP+ArF5uFQgJAQIF8lh59/78Q4dYpZWfzv2BshSs+KO+/YCyJixsh8r8ACgcpNYjwvwQ2ttG41xLAYBPfN5Ak/r8ghGiuFIkFwOCgZqXCQQfAsGdv4iEvEsCgwr8m9rgGwIC8grZuztO/oLxY2U+j8L8ADOwSf1vtv4CnL2cpJtA/gAWkYq+BAcDgiRJS7zMZQA==",
          "dtype": "f8"
         },
         "yaxis": "y"
        }
       ],
       "layout": {
        "legend": {
         "tracegroupgap": 0
        },
        "margin": {
         "t": 60
        },
        "template": {
         "data": {
          "bar": [
           {
            "error_x": {
             "color": "#2a3f5f"
            },
            "error_y": {
             "color": "#2a3f5f"
            },
            "marker": {
             "line": {
              "color": "#E5ECF6",
              "width": 0.5
             },
             "pattern": {
              "fillmode": "overlay",
              "size": 10,
              "solidity": 0.2
             }
            },
            "type": "bar"
           }
          ],
          "barpolar": [
           {
            "marker": {
             "line": {
              "color": "#E5ECF6",
              "width": 0.5
             },
             "pattern": {
              "fillmode": "overlay",
              "size": 10,
              "solidity": 0.2
             }
            },
            "type": "barpolar"
           }
          ],
          "carpet": [
           {
            "aaxis": {
             "endlinecolor": "#2a3f5f",
             "gridcolor": "white",
             "linecolor": "white",
             "minorgridcolor": "white",
             "startlinecolor": "#2a3f5f"
            },
            "baxis": {
             "endlinecolor": "#2a3f5f",
             "gridcolor": "white",
             "linecolor": "white",
             "minorgridcolor": "white",
             "startlinecolor": "#2a3f5f"
            },
            "type": "carpet"
           }
          ],
          "choropleth": [
           {
            "colorbar": {
             "outlinewidth": 0,
             "ticks": ""
            },
            "type": "choropleth"
           }
          ],
          "contour": [
           {
            "colorbar": {
             "outlinewidth": 0,
             "ticks": ""
            },
            "colorscale": [
             [
              0,
              "#0d0887"
             ],
             [
              0.1111111111111111,
              "#46039f"
             ],
             [
              0.2222222222222222,
              "#7201a8"
             ],
             [
              0.3333333333333333,
              "#9c179e"
             ],
             [
              0.4444444444444444,
              "#bd3786"
             ],
             [
              0.5555555555555556,
              "#d8576b"
             ],
             [
              0.6666666666666666,
              "#ed7953"
             ],
             [
              0.7777777777777778,
              "#fb9f3a"
             ],
             [
              0.8888888888888888,
              "#fdca26"
             ],
             [
              1,
              "#f0f921"
             ]
            ],
            "type": "contour"
           }
          ],
          "contourcarpet": [
           {
            "colorbar": {
             "outlinewidth": 0,
             "ticks": ""
            },
            "type": "contourcarpet"
           }
          ],
          "heatmap": [
           {
            "colorbar": {
             "outlinewidth": 0,
             "ticks": ""
            },
            "colorscale": [
             [
              0,
              "#0d0887"
             ],
             [
              0.1111111111111111,
              "#46039f"
             ],
             [
              0.2222222222222222,
              "#7201a8"
             ],
             [
              0.3333333333333333,
              "#9c179e"
             ],
             [
              0.4444444444444444,
              "#bd3786"
             ],
             [
              0.5555555555555556,
              "#d8576b"
             ],
             [
              0.6666666666666666,
              "#ed7953"
             ],
             [
              0.7777777777777778,
              "#fb9f3a"
             ],
             [
              0.8888888888888888,
              "#fdca26"
             ],
             [
              1,
              "#f0f921"
             ]
            ],
            "type": "heatmap"
           }
          ],
          "histogram": [
           {
            "marker": {
             "pattern": {
              "fillmode": "overlay",
              "size": 10,
              "solidity": 0.2
             }
            },
            "type": "histogram"
           }
          ],
          "histogram2d": [
           {
            "colorbar": {
             "outlinewidth": 0,
             "ticks": ""
            },
            "colorscale": [
             [
              0,
              "#0d0887"
             ],
             [
              0.1111111111111111,
              "#46039f"
             ],
             [
              0.2222222222222222,
              "#7201a8"
             ],
             [
              0.3333333333333333,
              "#9c179e"
             ],
             [
              0.4444444444444444,
              "#bd3786"
             ],
             [
              0.5555555555555556,
              "#d8576b"
             ],
             [
              0.6666666666666666,
              "#ed7953"
             ],
             [
              0.7777777777777778,
              "#fb9f3a"
             ],
             [
              0.8888888888888888,
              "#fdca26"
             ],
             [
              1,
              "#f0f921"
             ]
            ],
            "type": "histogram2d"
           }
          ],
          "histogram2dcontour": [
           {
            "colorbar": {
             "outlinewidth": 0,
             "ticks": ""
            },
            "colorscale": [
             [
              0,
              "#0d0887"
             ],
             [
              0.1111111111111111,
              "#46039f"
             ],
             [
              0.2222222222222222,
              "#7201a8"
             ],
             [
              0.3333333333333333,
              "#9c179e"
             ],
             [
              0.4444444444444444,
              "#bd3786"
             ],
             [
              0.5555555555555556,
              "#d8576b"
             ],
             [
              0.6666666666666666,
              "#ed7953"
             ],
             [
              0.7777777777777778,
              "#fb9f3a"
             ],
             [
              0.8888888888888888,
              "#fdca26"
             ],
             [
              1,
              "#f0f921"
             ]
            ],
            "type": "histogram2dcontour"
           }
          ],
          "mesh3d": [
           {
            "colorbar": {
             "outlinewidth": 0,
             "ticks": ""
            },
            "type": "mesh3d"
           }
          ],
          "parcoords": [
           {
            "line": {
             "colorbar": {
              "outlinewidth": 0,
              "ticks": ""
             }
            },
            "type": "parcoords"
           }
          ],
          "pie": [
           {
            "automargin": true,
            "type": "pie"
           }
          ],
          "scatter": [
           {
            "fillpattern": {
             "fillmode": "overlay",
             "size": 10,
             "solidity": 0.2
            },
            "type": "scatter"
           }
          ],
          "scatter3d": [
           {
            "line": {
             "colorbar": {
              "outlinewidth": 0,
              "ticks": ""
             }
            },
            "marker": {
             "colorbar": {
              "outlinewidth": 0,
              "ticks": ""
             }
            },
            "type": "scatter3d"
           }
          ],
          "scattercarpet": [
           {
            "marker": {
             "colorbar": {
              "outlinewidth": 0,
              "ticks": ""
             }
            },
            "type": "scattercarpet"
           }
          ],
          "scattergeo": [
           {
            "marker": {
             "colorbar": {
              "outlinewidth": 0,
              "ticks": ""
             }
            },
            "type": "scattergeo"
           }
          ],
          "scattergl": [
           {
            "marker": {
             "colorbar": {
              "outlinewidth": 0,
              "ticks": ""
             }
            },
            "type": "scattergl"
           }
          ],
          "scattermap": [
           {
            "marker": {
             "colorbar": {
              "outlinewidth": 0,
              "ticks": ""
             }
            },
            "type": "scattermap"
           }
          ],
          "scattermapbox": [
           {
            "marker": {
             "colorbar": {
              "outlinewidth": 0,
              "ticks": ""
             }
            },
            "type": "scattermapbox"
           }
          ],
          "scatterpolar": [
           {
            "marker": {
             "colorbar": {
              "outlinewidth": 0,
              "ticks": ""
             }
            },
            "type": "scatterpolar"
           }
          ],
          "scatterpolargl": [
           {
            "marker": {
             "colorbar": {
              "outlinewidth": 0,
              "ticks": ""
             }
            },
            "type": "scatterpolargl"
           }
          ],
          "scatterternary": [
           {
            "marker": {
             "colorbar": {
              "outlinewidth": 0,
              "ticks": ""
             }
            },
            "type": "scatterternary"
           }
          ],
          "surface": [
           {
            "colorbar": {
             "outlinewidth": 0,
             "ticks": ""
            },
            "colorscale": [
             [
              0,
              "#0d0887"
             ],
             [
              0.1111111111111111,
              "#46039f"
             ],
             [
              0.2222222222222222,
              "#7201a8"
             ],
             [
              0.3333333333333333,
              "#9c179e"
             ],
             [
              0.4444444444444444,
              "#bd3786"
             ],
             [
              0.5555555555555556,
              "#d8576b"
             ],
             [
              0.6666666666666666,
              "#ed7953"
             ],
             [
              0.7777777777777778,
              "#fb9f3a"
             ],
             [
              0.8888888888888888,
              "#fdca26"
             ],
             [
              1,
              "#f0f921"
             ]
            ],
            "type": "surface"
           }
          ],
          "table": [
           {
            "cells": {
             "fill": {
              "color": "#EBF0F8"
             },
             "line": {
              "color": "white"
             }
            },
            "header": {
             "fill": {
              "color": "#C8D4E3"
             },
             "line": {
              "color": "white"
             }
            },
            "type": "table"
           }
          ]
         },
         "layout": {
          "annotationdefaults": {
           "arrowcolor": "#2a3f5f",
           "arrowhead": 0,
           "arrowwidth": 1
          },
          "autotypenumbers": "strict",
          "coloraxis": {
           "colorbar": {
            "outlinewidth": 0,
            "ticks": ""
           }
          },
          "colorscale": {
           "diverging": [
            [
             0,
             "#8e0152"
            ],
            [
             0.1,
             "#c51b7d"
            ],
            [
             0.2,
             "#de77ae"
            ],
            [
             0.3,
             "#f1b6da"
            ],
            [
             0.4,
             "#fde0ef"
            ],
            [
             0.5,
             "#f7f7f7"
            ],
            [
             0.6,
             "#e6f5d0"
            ],
            [
             0.7,
             "#b8e186"
            ],
            [
             0.8,
             "#7fbc41"
            ],
            [
             0.9,
             "#4d9221"
            ],
            [
             1,
             "#276419"
            ]
           ],
           "sequential": [
            [
             0,
             "#0d0887"
            ],
            [
             0.1111111111111111,
             "#46039f"
            ],
            [
             0.2222222222222222,
             "#7201a8"
            ],
            [
             0.3333333333333333,
             "#9c179e"
            ],
            [
             0.4444444444444444,
             "#bd3786"
            ],
            [
             0.5555555555555556,
             "#d8576b"
            ],
            [
             0.6666666666666666,
             "#ed7953"
            ],
            [
             0.7777777777777778,
             "#fb9f3a"
            ],
            [
             0.8888888888888888,
             "#fdca26"
            ],
            [
             1,
             "#f0f921"
            ]
           ],
           "sequentialminus": [
            [
             0,
             "#0d0887"
            ],
            [
             0.1111111111111111,
             "#46039f"
            ],
            [
             0.2222222222222222,
             "#7201a8"
            ],
            [
             0.3333333333333333,
             "#9c179e"
            ],
            [
             0.4444444444444444,
             "#bd3786"
            ],
            [
             0.5555555555555556,
             "#d8576b"
            ],
            [
             0.6666666666666666,
             "#ed7953"
            ],
            [
             0.7777777777777778,
             "#fb9f3a"
            ],
            [
             0.8888888888888888,
             "#fdca26"
            ],
            [
             1,
             "#f0f921"
            ]
           ]
          },
          "colorway": [
           "#636efa",
           "#EF553B",
           "#00cc96",
           "#ab63fa",
           "#FFA15A",
           "#19d3f3",
           "#FF6692",
           "#B6E880",
           "#FF97FF",
           "#FECB52"
          ],
          "font": {
           "color": "#2a3f5f"
          },
          "geo": {
           "bgcolor": "white",
           "lakecolor": "white",
           "landcolor": "#E5ECF6",
           "showlakes": true,
           "showland": true,
           "subunitcolor": "white"
          },
          "hoverlabel": {
           "align": "left"
          },
          "hovermode": "closest",
          "mapbox": {
           "style": "light"
          },
          "paper_bgcolor": "white",
          "plot_bgcolor": "#E5ECF6",
          "polar": {
           "angularaxis": {
            "gridcolor": "white",
            "linecolor": "white",
            "ticks": ""
           },
           "bgcolor": "#E5ECF6",
           "radialaxis": {
            "gridcolor": "white",
            "linecolor": "white",
            "ticks": ""
           }
          },
          "scene": {
           "xaxis": {
            "backgroundcolor": "#E5ECF6",
            "gridcolor": "white",
            "gridwidth": 2,
            "linecolor": "white",
            "showbackground": true,
            "ticks": "",
            "zerolinecolor": "white"
           },
           "yaxis": {
            "backgroundcolor": "#E5ECF6",
            "gridcolor": "white",
            "gridwidth": 2,
            "linecolor": "white",
            "showbackground": true,
            "ticks": "",
            "zerolinecolor": "white"
           },
           "zaxis": {
            "backgroundcolor": "#E5ECF6",
            "gridcolor": "white",
            "gridwidth": 2,
            "linecolor": "white",
            "showbackground": true,
            "ticks": "",
            "zerolinecolor": "white"
           }
          },
          "shapedefaults": {
           "line": {
            "color": "#2a3f5f"
           }
          },
          "ternary": {
           "aaxis": {
            "gridcolor": "white",
            "linecolor": "white",
            "ticks": ""
           },
           "baxis": {
            "gridcolor": "white",
            "linecolor": "white",
            "ticks": ""
           },
           "bgcolor": "#E5ECF6",
           "caxis": {
            "gridcolor": "white",
            "linecolor": "white",
            "ticks": ""
           }
          },
          "title": {
           "x": 0.05
          },
          "xaxis": {
           "automargin": true,
           "gridcolor": "white",
           "linecolor": "white",
           "ticks": "",
           "title": {
            "standoff": 15
           },
           "zerolinecolor": "white",
           "zerolinewidth": 2
          },
          "yaxis": {
           "automargin": true,
           "gridcolor": "white",
           "linecolor": "white",
           "ticks": "",
           "title": {
            "standoff": 15
           },
           "zerolinecolor": "white",
           "zerolinewidth": 2
          }
         }
        },
        "xaxis": {
         "anchor": "y",
         "domain": [
          0,
          1
         ],
         "title": {
          "text": "predictions1"
         }
        },
        "yaxis": {
         "anchor": "x",
         "domain": [
          0,
          1
         ],
         "title": {
          "text": "residuals1"
         }
        }
       }
      },
      "image/png": "[encoded data removed]"
     },
     "metadata": {},
     "output_type": "display_data"
    }
   ],
   "source": [
    "px.scatter(df,x=\"predictions1\",y=\"residuals1\")\n",
    "\n",
    "#<xml xmlns=\"https://developers.google.com/blockly/xml\"><variables><variable id=\"k#w4n=KvP~*sLy*OW|Jl\">px</variable><variable id=\"FUXr7i7@?fN1xCAh/=Fn\">df</variable></variables><block type=\"varDoMethod\" id=\"O07?sQIdula@ap]/9Ogq\" x=\"50\" y=\"123\"><mutation items=\"3\"></mutation><field name=\"VAR\" id=\"k#w4n=KvP~*sLy*OW|Jl\">px</field><field name=\"MEMBER\">scatter</field><data>px:scatter</data><value name=\"ADD0\"><block type=\"variables_get\" id=\"UE)!btph,4mdjsf[F37|\"><field name=\"VAR\" id=\"FUXr7i7@?fN1xCAh/=Fn\">df</field></block></value><value name=\"ADD1\"><block type=\"dummyOutputCodeBlock\" id=\"~L)yq!Jze#v9R[^p;2{O\"><field name=\"CODE\">x=\"predictions1\"</field></block></value><value name=\"ADD2\"><block type=\"dummyOutputCodeBlock\" id=\"yu5^$n1zXY3)#RcRx:~;\"><field name=\"CODE\">y=\"residuals1\"</field></block></value></block></xml>"
   ]
  },
  {
   "cell_type": "markdown",
   "metadata": {},
   "source": [
    "We see something very, very wrong here: a \"U\" shape from left to right.\n",
    "This means our residuals are positive for low predictions, go negative for mid predictions, and go positive again for high predictions.\n",
    "The only way this can happen is if something is quadratic (squared) in the phenomenon we're trying to model."
   ]
  },
  {
   "cell_type": "markdown",
   "metadata": {},
   "source": [
    "### Modeling 2\n",
    "\n",
    "Step back for a moment and consider what we are trying to do.\n",
    "We are trying to predict volume from other measurements of the tree.\n",
    "What is the formula for volume?\n",
    "\n",
    "$$V = \\pi r^2 h$$\n",
    "\n",
    "Since this is the mathematical definition, we don't expect any differences for `plum` vs. `cherry`.\n",
    "\n",
    "What are our variables?\n",
    "\n",
    "- `Volume`\n",
    "- `Girth` (diameter, which is twice $r$)\n",
    "- `Height`\n",
    "\n",
    "In other words, we basically have everything in the formula.\n",
    "Let's create a new column that is closer to what we want, `Girth` * `Girth` * `Height`:\n",
    "\n",
    "- Set `df` to with `df` do `assign` using\n",
    "    - freestyle `GGH=` *followed by* `df [ \"Girth\" ] * df [ \"Girth\" ] * df [ \"Height\" ]`\n",
    "\n",
    "- `df` (to display)"
   ]
  },
  {
   "cell_type": "code",
   "execution_count": 145,
   "metadata": {
    "user_blocks": [
     "variables_set",
     "varDoMethod",
     "valueOutputCodeBlock",
     "math_arithmetic",
     "indexer",
     "text",
     "math_arithmetic",
     "indexer",
     "text",
     "indexer",
     "text",
     "variables_get"
    ],
    "user_blocks_xml": "<xml xmlns=\"https://developers.google.com/blockly/xml\"><variables><variable id=\"FUXr7i7@?fN1xCAh/=Fn\">df</variable></variables><block type=\"variables_set\" id=\"rn0LHF%t,0JD5-!Ov?-U\" x=\"17\" y=\"142\"><field name=\"VAR\" id=\"FUXr7i7@?fN1xCAh/=Fn\">df</field><value name=\"VALUE\"><block type=\"varDoMethod\" id=\"(2l5d}m6K9#ZC6_^/JXe\"><mutation items=\"1\"></mutation><field name=\"VAR\" id=\"FUXr7i7@?fN1xCAh/=Fn\">df</field><field name=\"MEMBER\">assign</field><data>df:assign</data><value name=\"ADD0\"><block type=\"valueOutputCodeBlock\" id=\"^$QWpb1hPzxWt/?~mZBX\"><field name=\"CODE\">GGH=</field><value name=\"INPUT\"><block type=\"math_arithmetic\" id=\"5RK=q#[GZz]1)F{}r5DR\"><field name=\"OP\">MULTIPLY</field><value name=\"A\"><shadow type=\"math_number\" id=\"kDdp0NynnLT3.6o])vPm\"><field name=\"NUM\">1</field></shadow><block type=\"indexer\" id=\"Xh!r5Y0#k:n+aqBjuvad\"><field name=\"VAR\" id=\"FUXr7i7@?fN1xCAh/=Fn\">df</field><value name=\"INDEX\"><block type=\"text\" id=\"|4#UlYaNe-aeV+s$,Wn]\"><field name=\"TEXT\">Girth</field></block></value></block></value><value name=\"B\"><shadow type=\"math_number\" id=\";S0XthTRZu#Q.w|qt88k\"><field name=\"NUM\">1</field></shadow><block type=\"math_arithmetic\" id=\"=szmSC[EoihfyX_5cH6v\"><field name=\"OP\">MULTIPLY</field><value name=\"A\"><shadow type=\"math_number\" id=\"E[2Ss)z+r1pVe~OSDMne\"><field name=\"NUM\">1</field></shadow><block type=\"indexer\" id=\"WQaaM]1BPY=1wxWQsv:$\"><field name=\"VAR\" id=\"FUXr7i7@?fN1xCAh/=Fn\">df</field><value name=\"INDEX\"><block type=\"text\" id=\"+5PTgD[9U~pl`q#YlA^!\"><field name=\"TEXT\">Girth</field></block></value></block></value><value name=\"B\"><shadow type=\"math_number\" id=\"Z%,Q(P8VED{wb;Q#^bM4\"><field name=\"NUM\">1</field></shadow><block type=\"indexer\" id=\"b.`x=!iTEC%|-VGV[Hu5\"><field name=\"VAR\" id=\"FUXr7i7@?fN1xCAh/=Fn\">df</field><value name=\"INDEX\"><block type=\"text\" id=\"g`tk1*Psq~biS1z%3c`q\"><field name=\"TEXT\">Height</field></block></value></block></value></block></value></block></value></block></value></block></value></block><block type=\"variables_get\" id=\"|:#)c3^OVHRz0,Iw)mSN\" x=\"8\" y=\"296\"><field name=\"VAR\" id=\"FUXr7i7@?fN1xCAh/=Fn\">df</field></block></xml>",
    "user_code_from_blocks": "df = df.assign(GGH= (df['Girth'] * (df['Girth'] * df['Height'])))\n\ndf\n"
   },
   "outputs": [
    {
     "data": {
      "text/html": [
       "<div>\n",
       "<style scoped>\n",
       "    .dataframe tbody tr th:only-of-type {\n",
       "        vertical-align: middle;\n",
       "    }\n",
       "\n",
       "    .dataframe tbody tr th {\n",
       "        vertical-align: top;\n",
       "    }\n",
       "\n",
       "    .dataframe thead th {\n",
       "        text-align: right;\n",
       "    }\n",
       "</style>\n",
       "<table border=\"1\" class=\"dataframe\">\n",
       "  <thead>\n",
       "    <tr style=\"text-align: right;\">\n",
       "      <th></th>\n",
       "      <th>Girth</th>\n",
       "      <th>Height</th>\n",
       "      <th>Volume</th>\n",
       "      <th>Type_plum</th>\n",
       "      <th>Type</th>\n",
       "      <th>predictions1</th>\n",
       "      <th>residuals1</th>\n",
       "      <th>GGH</th>\n",
       "    </tr>\n",
       "  </thead>\n",
       "  <tbody>\n",
       "    <tr>\n",
       "      <th>0</th>\n",
       "      <td>8.3</td>\n",
       "      <td>70.0</td>\n",
       "      <td>10.3</td>\n",
       "      <td>0</td>\n",
       "      <td>cherry</td>\n",
       "      <td>6.826375</td>\n",
       "      <td>3.473625</td>\n",
       "      <td>4822.300</td>\n",
       "    </tr>\n",
       "    <tr>\n",
       "      <th>1</th>\n",
       "      <td>8.6</td>\n",
       "      <td>65.0</td>\n",
       "      <td>10.3</td>\n",
       "      <td>0</td>\n",
       "      <td>cherry</td>\n",
       "      <td>6.493821</td>\n",
       "      <td>3.806179</td>\n",
       "      <td>4807.400</td>\n",
       "    </tr>\n",
       "    <tr>\n",
       "      <th>2</th>\n",
       "      <td>8.8</td>\n",
       "      <td>63.0</td>\n",
       "      <td>10.2</td>\n",
       "      <td>0</td>\n",
       "      <td>cherry</td>\n",
       "      <td>6.707254</td>\n",
       "      <td>3.492746</td>\n",
       "      <td>4878.720</td>\n",
       "    </tr>\n",
       "    <tr>\n",
       "      <th>3</th>\n",
       "      <td>10.5</td>\n",
       "      <td>72.0</td>\n",
       "      <td>16.4</td>\n",
       "      <td>0</td>\n",
       "      <td>cherry</td>\n",
       "      <td>17.006587</td>\n",
       "      <td>-0.606587</td>\n",
       "      <td>7938.000</td>\n",
       "    </tr>\n",
       "    <tr>\n",
       "      <th>4</th>\n",
       "      <td>10.7</td>\n",
       "      <td>81.0</td>\n",
       "      <td>18.8</td>\n",
       "      <td>0</td>\n",
       "      <td>cherry</td>\n",
       "      <td>20.809891</td>\n",
       "      <td>-2.009891</td>\n",
       "      <td>9273.690</td>\n",
       "    </tr>\n",
       "    <tr>\n",
       "      <th>...</th>\n",
       "      <td>...</td>\n",
       "      <td>...</td>\n",
       "      <td>...</td>\n",
       "      <td>...</td>\n",
       "      <td>...</td>\n",
       "      <td>...</td>\n",
       "      <td>...</td>\n",
       "      <td>...</td>\n",
       "    </tr>\n",
       "    <tr>\n",
       "      <th>57</th>\n",
       "      <td>17.9</td>\n",
       "      <td>69.2</td>\n",
       "      <td>47.1</td>\n",
       "      <td>1</td>\n",
       "      <td>plum</td>\n",
       "      <td>48.139871</td>\n",
       "      <td>-1.039871</td>\n",
       "      <td>22172.372</td>\n",
       "    </tr>\n",
       "    <tr>\n",
       "      <th>58</th>\n",
       "      <td>18.8</td>\n",
       "      <td>67.3</td>\n",
       "      <td>50.5</td>\n",
       "      <td>1</td>\n",
       "      <td>plum</td>\n",
       "      <td>51.417419</td>\n",
       "      <td>-0.917419</td>\n",
       "      <td>23786.512</td>\n",
       "    </tr>\n",
       "    <tr>\n",
       "      <th>59</th>\n",
       "      <td>19.7</td>\n",
       "      <td>67.4</td>\n",
       "      <td>55.6</td>\n",
       "      <td>1</td>\n",
       "      <td>plum</td>\n",
       "      <td>55.347671</td>\n",
       "      <td>0.252329</td>\n",
       "      <td>26157.266</td>\n",
       "    </tr>\n",
       "    <tr>\n",
       "      <th>60</th>\n",
       "      <td>17.2</td>\n",
       "      <td>67.3</td>\n",
       "      <td>42.3</td>\n",
       "      <td>1</td>\n",
       "      <td>plum</td>\n",
       "      <td>44.488323</td>\n",
       "      <td>-2.188323</td>\n",
       "      <td>19910.032</td>\n",
       "    </tr>\n",
       "    <tr>\n",
       "      <th>61</th>\n",
       "      <td>21.1</td>\n",
       "      <td>73.8</td>\n",
       "      <td>69.8</td>\n",
       "      <td>1</td>\n",
       "      <td>plum</td>\n",
       "      <td>63.499282</td>\n",
       "      <td>6.300718</td>\n",
       "      <td>32856.498</td>\n",
       "    </tr>\n",
       "  </tbody>\n",
       "</table>\n",
       "<p>62 rows × 8 columns</p>\n",
       "</div>"
      ],
      "text/plain": [
       "    Girth  Height  Volume  Type_plum    Type  predictions1  residuals1  \\\n",
       "0     8.3    70.0    10.3          0  cherry      6.826375    3.473625   \n",
       "1     8.6    65.0    10.3          0  cherry      6.493821    3.806179   \n",
       "2     8.8    63.0    10.2          0  cherry      6.707254    3.492746   \n",
       "3    10.5    72.0    16.4          0  cherry     17.006587   -0.606587   \n",
       "4    10.7    81.0    18.8          0  cherry     20.809891   -2.009891   \n",
       "..    ...     ...     ...        ...     ...           ...         ...   \n",
       "57   17.9    69.2    47.1          1    plum     48.139871   -1.039871   \n",
       "58   18.8    67.3    50.5          1    plum     51.417419   -0.917419   \n",
       "59   19.7    67.4    55.6          1    plum     55.347671    0.252329   \n",
       "60   17.2    67.3    42.3          1    plum     44.488323   -2.188323   \n",
       "61   21.1    73.8    69.8          1    plum     63.499282    6.300718   \n",
       "\n",
       "          GGH  \n",
       "0    4822.300  \n",
       "1    4807.400  \n",
       "2    4878.720  \n",
       "3    7938.000  \n",
       "4    9273.690  \n",
       "..        ...  \n",
       "57  22172.372  \n",
       "58  23786.512  \n",
       "59  26157.266  \n",
       "60  19910.032  \n",
       "61  32856.498  \n",
       "\n",
       "[62 rows x 8 columns]"
      ]
     },
     "execution_count": 145,
     "metadata": {},
     "output_type": "execute_result"
    }
   ],
   "source": [
    "df = df.assign(GGH= (df['Girth'] * (df['Girth'] * df['Height'])))\n",
    "\n",
    "df\n",
    "\n",
    "#<xml xmlns=\"https://developers.google.com/blockly/xml\"><variables><variable id=\"FUXr7i7@?fN1xCAh/=Fn\">df</variable></variables><block type=\"variables_set\" id=\"rn0LHF%t,0JD5-!Ov?-U\" x=\"17\" y=\"142\"><field name=\"VAR\" id=\"FUXr7i7@?fN1xCAh/=Fn\">df</field><value name=\"VALUE\"><block type=\"varDoMethod\" id=\"(2l5d}m6K9#ZC6_^/JXe\"><mutation items=\"1\"></mutation><field name=\"VAR\" id=\"FUXr7i7@?fN1xCAh/=Fn\">df</field><field name=\"MEMBER\">assign</field><data>df:assign</data><value name=\"ADD0\"><block type=\"valueOutputCodeBlock\" id=\"^$QWpb1hPzxWt/?~mZBX\"><field name=\"CODE\">GGH=</field><value name=\"INPUT\"><block type=\"math_arithmetic\" id=\"5RK=q#[GZz]1)F{}r5DR\"><field name=\"OP\">MULTIPLY</field><value name=\"A\"><shadow type=\"math_number\" id=\"kDdp0NynnLT3.6o])vPm\"><field name=\"NUM\">1</field></shadow><block type=\"indexer\" id=\"Xh!r5Y0#k:n+aqBjuvad\"><field name=\"VAR\" id=\"FUXr7i7@?fN1xCAh/=Fn\">df</field><value name=\"INDEX\"><block type=\"text\" id=\"|4#UlYaNe-aeV+s$,Wn]\"><field name=\"TEXT\">Girth</field></block></value></block></value><value name=\"B\"><shadow type=\"math_number\" id=\";S0XthTRZu#Q.w|qt88k\"><field name=\"NUM\">1</field></shadow><block type=\"math_arithmetic\" id=\"=szmSC[EoihfyX_5cH6v\"><field name=\"OP\">MULTIPLY</field><value name=\"A\"><shadow type=\"math_number\" id=\"E[2Ss)z+r1pVe~OSDMne\"><field name=\"NUM\">1</field></shadow><block type=\"indexer\" id=\"WQaaM]1BPY=1wxWQsv:$\"><field name=\"VAR\" id=\"FUXr7i7@?fN1xCAh/=Fn\">df</field><value name=\"INDEX\"><block type=\"text\" id=\"+5PTgD[9U~pl`q#YlA^!\"><field name=\"TEXT\">Girth</field></block></value></block></value><value name=\"B\"><shadow type=\"math_number\" id=\"Z%,Q(P8VED{wb;Q#^bM4\"><field name=\"NUM\">1</field></shadow><block type=\"indexer\" id=\"b.`x=!iTEC%|-VGV[Hu5\"><field name=\"VAR\" id=\"FUXr7i7@?fN1xCAh/=Fn\">df</field><value name=\"INDEX\"><block type=\"text\" id=\"g`tk1*Psq~biS1z%3c`q\"><field name=\"TEXT\">Height</field></block></value></block></value></block></value></block></value></block></value></block></value></block><block type=\"variables_get\" id=\"|:#)c3^OVHRz0,Iw)mSN\" x=\"8\" y=\"296\"><field name=\"VAR\" id=\"FUXr7i7@?fN1xCAh/=Fn\">df</field></block></xml>"
   ]
  },
  {
   "cell_type": "markdown",
   "metadata": {},
   "source": [
    "As you might have noticed, `GGH` is an interaction. \n",
    "Often when we use interactions in a model, we also include the variables that the interactions are made of (also known as **main effects**).\n",
    "However, in this case, that doesn't make sense because we know the interaction is close to the definition of `Volume`.\n",
    "\n",
    "So let's fit a new model using *just* `GGH`, save its predictions and residuals, and plot its predicted vs. residual diagnostic plot.\n",
    "\n",
    "First, fit the model:\n",
    "\n",
    "- with `lm` do `fit` using\n",
    "    - `df [ ]` containing a list containing\n",
    "        - `\"GGH\"`\n",
    "    - `df [ ]` containing a list containing\n",
    "        - `\"Volume\"` "
   ]
  },
  {
   "cell_type": "code",
   "execution_count": 149,
   "metadata": {
    "user_blocks": [
     "varDoMethod",
     "indexer",
     "lists_create_with",
     "text",
     "indexer",
     "lists_create_with",
     "text"
    ],
    "user_blocks_xml": "<xml xmlns=\"https://developers.google.com/blockly/xml\"><variables><variable id=\"F]q147x/*m|PMfPQU-lZ\">lm</variable><variable id=\"FUXr7i7@?fN1xCAh/=Fn\">df</variable></variables><block type=\"varDoMethod\" id=\"W6(0}aPsJ;vA9C3A!:G@\" x=\"96\" y=\"130\"><mutation items=\"2\"></mutation><field name=\"VAR\" id=\"F]q147x/*m|PMfPQU-lZ\">lm</field><field name=\"MEMBER\">fit</field><data>lm:fit</data><value name=\"ADD0\"><block type=\"indexer\" id=\".|%fa!U;=I@;!6$?B7Id\"><field name=\"VAR\" id=\"FUXr7i7@?fN1xCAh/=Fn\">df</field><value name=\"INDEX\"><block type=\"lists_create_with\" id=\"o5szXy4*HmKGA;-.~H?H\"><mutation items=\"1\"></mutation><value name=\"ADD0\"><block type=\"text\" id=\"{*5MFGJL4(x-JLsuD9qv\"><field name=\"TEXT\">GGH</field></block></value></block></value></block></value><value name=\"ADD1\"><block type=\"indexer\" id=\"o.R`*;zvaP%^K2/_t`6*\"><field name=\"VAR\" id=\"FUXr7i7@?fN1xCAh/=Fn\">df</field><value name=\"INDEX\"><block type=\"lists_create_with\" id=\"[WAkSKWMcU+j3zS)uzVG\"><mutation items=\"1\"></mutation><value name=\"ADD0\"><block type=\"text\" id=\"w0w/T-Wh/df/waYll,rv\"><field name=\"TEXT\">Volume</field></block></value></block></value></block></value></block></xml>",
    "user_code_from_blocks": "lm.fit(df[['GGH']],df[['Volume']])\n"
   },
   "outputs": [
    {
     "data": {
      "text/html": [
       "<style>#sk-container-id-8 {\n",
       "  /* Definition of color scheme common for light and dark mode */\n",
       "  --sklearn-color-text: #000;\n",
       "  --sklearn-color-text-muted: #666;\n",
       "  --sklearn-color-line: gray;\n",
       "  /* Definition of color scheme for unfitted estimators */\n",
       "  --sklearn-color-unfitted-level-0: #fff5e6;\n",
       "  --sklearn-color-unfitted-level-1: #f6e4d2;\n",
       "  --sklearn-color-unfitted-level-2: #ffe0b3;\n",
       "  --sklearn-color-unfitted-level-3: chocolate;\n",
       "  /* Definition of color scheme for fitted estimators */\n",
       "  --sklearn-color-fitted-level-0: #f0f8ff;\n",
       "  --sklearn-color-fitted-level-1: #d4ebff;\n",
       "  --sklearn-color-fitted-level-2: #b3dbfd;\n",
       "  --sklearn-color-fitted-level-3: cornflowerblue;\n",
       "\n",
       "  /* Specific color for light theme */\n",
       "  --sklearn-color-text-on-default-background: var(--sg-text-color, var(--theme-code-foreground, var(--jp-content-font-color1, black)));\n",
       "  --sklearn-color-background: var(--sg-background-color, var(--theme-background, var(--jp-layout-color0, white)));\n",
       "  --sklearn-color-border-box: var(--sg-text-color, var(--theme-code-foreground, var(--jp-content-font-color1, black)));\n",
       "  --sklearn-color-icon: #696969;\n",
       "\n",
       "  @media (prefers-color-scheme: dark) {\n",
       "    /* Redefinition of color scheme for dark theme */\n",
       "    --sklearn-color-text-on-default-background: var(--sg-text-color, var(--theme-code-foreground, var(--jp-content-font-color1, white)));\n",
       "    --sklearn-color-background: var(--sg-background-color, var(--theme-background, var(--jp-layout-color0, #111)));\n",
       "    --sklearn-color-border-box: var(--sg-text-color, var(--theme-code-foreground, var(--jp-content-font-color1, white)));\n",
       "    --sklearn-color-icon: #878787;\n",
       "  }\n",
       "}\n",
       "\n",
       "#sk-container-id-8 {\n",
       "  color: var(--sklearn-color-text);\n",
       "}\n",
       "\n",
       "#sk-container-id-8 pre {\n",
       "  padding: 0;\n",
       "}\n",
       "\n",
       "#sk-container-id-8 input.sk-hidden--visually {\n",
       "  border: 0;\n",
       "  clip: rect(1px 1px 1px 1px);\n",
       "  clip: rect(1px, 1px, 1px, 1px);\n",
       "  height: 1px;\n",
       "  margin: -1px;\n",
       "  overflow: hidden;\n",
       "  padding: 0;\n",
       "  position: absolute;\n",
       "  width: 1px;\n",
       "}\n",
       "\n",
       "#sk-container-id-8 div.sk-dashed-wrapped {\n",
       "  border: 1px dashed var(--sklearn-color-line);\n",
       "  margin: 0 0.4em 0.5em 0.4em;\n",
       "  box-sizing: border-box;\n",
       "  padding-bottom: 0.4em;\n",
       "  background-color: var(--sklearn-color-background);\n",
       "}\n",
       "\n",
       "#sk-container-id-8 div.sk-container {\n",
       "  /* jupyter's `normalize.less` sets `[hidden] { display: none; }`\n",
       "     but bootstrap.min.css set `[hidden] { display: none !important; }`\n",
       "     so we also need the `!important` here to be able to override the\n",
       "     default hidden behavior on the sphinx rendered scikit-learn.org.\n",
       "     See: https://github.com/scikit-learn/scikit-learn/issues/21755 */\n",
       "  display: inline-block !important;\n",
       "  position: relative;\n",
       "}\n",
       "\n",
       "#sk-container-id-8 div.sk-text-repr-fallback {\n",
       "  display: none;\n",
       "}\n",
       "\n",
       "div.sk-parallel-item,\n",
       "div.sk-serial,\n",
       "div.sk-item {\n",
       "  /* draw centered vertical line to link estimators */\n",
       "  background-image: linear-gradient(var(--sklearn-color-text-on-default-background), var(--sklearn-color-text-on-default-background));\n",
       "  background-size: 2px 100%;\n",
       "  background-repeat: no-repeat;\n",
       "  background-position: center center;\n",
       "}\n",
       "\n",
       "/* Parallel-specific style estimator block */\n",
       "\n",
       "#sk-container-id-8 div.sk-parallel-item::after {\n",
       "  content: \"\";\n",
       "  width: 100%;\n",
       "  border-bottom: 2px solid var(--sklearn-color-text-on-default-background);\n",
       "  flex-grow: 1;\n",
       "}\n",
       "\n",
       "#sk-container-id-8 div.sk-parallel {\n",
       "  display: flex;\n",
       "  align-items: stretch;\n",
       "  justify-content: center;\n",
       "  background-color: var(--sklearn-color-background);\n",
       "  position: relative;\n",
       "}\n",
       "\n",
       "#sk-container-id-8 div.sk-parallel-item {\n",
       "  display: flex;\n",
       "  flex-direction: column;\n",
       "}\n",
       "\n",
       "#sk-container-id-8 div.sk-parallel-item:first-child::after {\n",
       "  align-self: flex-end;\n",
       "  width: 50%;\n",
       "}\n",
       "\n",
       "#sk-container-id-8 div.sk-parallel-item:last-child::after {\n",
       "  align-self: flex-start;\n",
       "  width: 50%;\n",
       "}\n",
       "\n",
       "#sk-container-id-8 div.sk-parallel-item:only-child::after {\n",
       "  width: 0;\n",
       "}\n",
       "\n",
       "/* Serial-specific style estimator block */\n",
       "\n",
       "#sk-container-id-8 div.sk-serial {\n",
       "  display: flex;\n",
       "  flex-direction: column;\n",
       "  align-items: center;\n",
       "  background-color: var(--sklearn-color-background);\n",
       "  padding-right: 1em;\n",
       "  padding-left: 1em;\n",
       "}\n",
       "\n",
       "\n",
       "/* Toggleable style: style used for estimator/Pipeline/ColumnTransformer box that is\n",
       "clickable and can be expanded/collapsed.\n",
       "- Pipeline and ColumnTransformer use this feature and define the default style\n",
       "- Estimators will overwrite some part of the style using the `sk-estimator` class\n",
       "*/\n",
       "\n",
       "/* Pipeline and ColumnTransformer style (default) */\n",
       "\n",
       "#sk-container-id-8 div.sk-toggleable {\n",
       "  /* Default theme specific background. It is overwritten whether we have a\n",
       "  specific estimator or a Pipeline/ColumnTransformer */\n",
       "  background-color: var(--sklearn-color-background);\n",
       "}\n",
       "\n",
       "/* Toggleable label */\n",
       "#sk-container-id-8 label.sk-toggleable__label {\n",
       "  cursor: pointer;\n",
       "  display: flex;\n",
       "  width: 100%;\n",
       "  margin-bottom: 0;\n",
       "  padding: 0.5em;\n",
       "  box-sizing: border-box;\n",
       "  text-align: center;\n",
       "  align-items: start;\n",
       "  justify-content: space-between;\n",
       "  gap: 0.5em;\n",
       "}\n",
       "\n",
       "#sk-container-id-8 label.sk-toggleable__label .caption {\n",
       "  font-size: 0.6rem;\n",
       "  font-weight: lighter;\n",
       "  color: var(--sklearn-color-text-muted);\n",
       "}\n",
       "\n",
       "#sk-container-id-8 label.sk-toggleable__label-arrow:before {\n",
       "  /* Arrow on the left of the label */\n",
       "  content: \"▸\";\n",
       "  float: left;\n",
       "  margin-right: 0.25em;\n",
       "  color: var(--sklearn-color-icon);\n",
       "}\n",
       "\n",
       "#sk-container-id-8 label.sk-toggleable__label-arrow:hover:before {\n",
       "  color: var(--sklearn-color-text);\n",
       "}\n",
       "\n",
       "/* Toggleable content - dropdown */\n",
       "\n",
       "#sk-container-id-8 div.sk-toggleable__content {\n",
       "  max-height: 0;\n",
       "  max-width: 0;\n",
       "  overflow: hidden;\n",
       "  text-align: left;\n",
       "  /* unfitted */\n",
       "  background-color: var(--sklearn-color-unfitted-level-0);\n",
       "}\n",
       "\n",
       "#sk-container-id-8 div.sk-toggleable__content.fitted {\n",
       "  /* fitted */\n",
       "  background-color: var(--sklearn-color-fitted-level-0);\n",
       "}\n",
       "\n",
       "#sk-container-id-8 div.sk-toggleable__content pre {\n",
       "  margin: 0.2em;\n",
       "  border-radius: 0.25em;\n",
       "  color: var(--sklearn-color-text);\n",
       "  /* unfitted */\n",
       "  background-color: var(--sklearn-color-unfitted-level-0);\n",
       "}\n",
       "\n",
       "#sk-container-id-8 div.sk-toggleable__content.fitted pre {\n",
       "  /* unfitted */\n",
       "  background-color: var(--sklearn-color-fitted-level-0);\n",
       "}\n",
       "\n",
       "#sk-container-id-8 input.sk-toggleable__control:checked~div.sk-toggleable__content {\n",
       "  /* Expand drop-down */\n",
       "  max-height: 200px;\n",
       "  max-width: 100%;\n",
       "  overflow: auto;\n",
       "}\n",
       "\n",
       "#sk-container-id-8 input.sk-toggleable__control:checked~label.sk-toggleable__label-arrow:before {\n",
       "  content: \"▾\";\n",
       "}\n",
       "\n",
       "/* Pipeline/ColumnTransformer-specific style */\n",
       "\n",
       "#sk-container-id-8 div.sk-label input.sk-toggleable__control:checked~label.sk-toggleable__label {\n",
       "  color: var(--sklearn-color-text);\n",
       "  background-color: var(--sklearn-color-unfitted-level-2);\n",
       "}\n",
       "\n",
       "#sk-container-id-8 div.sk-label.fitted input.sk-toggleable__control:checked~label.sk-toggleable__label {\n",
       "  background-color: var(--sklearn-color-fitted-level-2);\n",
       "}\n",
       "\n",
       "/* Estimator-specific style */\n",
       "\n",
       "/* Colorize estimator box */\n",
       "#sk-container-id-8 div.sk-estimator input.sk-toggleable__control:checked~label.sk-toggleable__label {\n",
       "  /* unfitted */\n",
       "  background-color: var(--sklearn-color-unfitted-level-2);\n",
       "}\n",
       "\n",
       "#sk-container-id-8 div.sk-estimator.fitted input.sk-toggleable__control:checked~label.sk-toggleable__label {\n",
       "  /* fitted */\n",
       "  background-color: var(--sklearn-color-fitted-level-2);\n",
       "}\n",
       "\n",
       "#sk-container-id-8 div.sk-label label.sk-toggleable__label,\n",
       "#sk-container-id-8 div.sk-label label {\n",
       "  /* The background is the default theme color */\n",
       "  color: var(--sklearn-color-text-on-default-background);\n",
       "}\n",
       "\n",
       "/* On hover, darken the color of the background */\n",
       "#sk-container-id-8 div.sk-label:hover label.sk-toggleable__label {\n",
       "  color: var(--sklearn-color-text);\n",
       "  background-color: var(--sklearn-color-unfitted-level-2);\n",
       "}\n",
       "\n",
       "/* Label box, darken color on hover, fitted */\n",
       "#sk-container-id-8 div.sk-label.fitted:hover label.sk-toggleable__label.fitted {\n",
       "  color: var(--sklearn-color-text);\n",
       "  background-color: var(--sklearn-color-fitted-level-2);\n",
       "}\n",
       "\n",
       "/* Estimator label */\n",
       "\n",
       "#sk-container-id-8 div.sk-label label {\n",
       "  font-family: monospace;\n",
       "  font-weight: bold;\n",
       "  display: inline-block;\n",
       "  line-height: 1.2em;\n",
       "}\n",
       "\n",
       "#sk-container-id-8 div.sk-label-container {\n",
       "  text-align: center;\n",
       "}\n",
       "\n",
       "/* Estimator-specific */\n",
       "#sk-container-id-8 div.sk-estimator {\n",
       "  font-family: monospace;\n",
       "  border: 1px dotted var(--sklearn-color-border-box);\n",
       "  border-radius: 0.25em;\n",
       "  box-sizing: border-box;\n",
       "  margin-bottom: 0.5em;\n",
       "  /* unfitted */\n",
       "  background-color: var(--sklearn-color-unfitted-level-0);\n",
       "}\n",
       "\n",
       "#sk-container-id-8 div.sk-estimator.fitted {\n",
       "  /* fitted */\n",
       "  background-color: var(--sklearn-color-fitted-level-0);\n",
       "}\n",
       "\n",
       "/* on hover */\n",
       "#sk-container-id-8 div.sk-estimator:hover {\n",
       "  /* unfitted */\n",
       "  background-color: var(--sklearn-color-unfitted-level-2);\n",
       "}\n",
       "\n",
       "#sk-container-id-8 div.sk-estimator.fitted:hover {\n",
       "  /* fitted */\n",
       "  background-color: var(--sklearn-color-fitted-level-2);\n",
       "}\n",
       "\n",
       "/* Specification for estimator info (e.g. \"i\" and \"?\") */\n",
       "\n",
       "/* Common style for \"i\" and \"?\" */\n",
       "\n",
       ".sk-estimator-doc-link,\n",
       "a:link.sk-estimator-doc-link,\n",
       "a:visited.sk-estimator-doc-link {\n",
       "  float: right;\n",
       "  font-size: smaller;\n",
       "  line-height: 1em;\n",
       "  font-family: monospace;\n",
       "  background-color: var(--sklearn-color-background);\n",
       "  border-radius: 1em;\n",
       "  height: 1em;\n",
       "  width: 1em;\n",
       "  text-decoration: none !important;\n",
       "  margin-left: 0.5em;\n",
       "  text-align: center;\n",
       "  /* unfitted */\n",
       "  border: var(--sklearn-color-unfitted-level-1) 1pt solid;\n",
       "  color: var(--sklearn-color-unfitted-level-1);\n",
       "}\n",
       "\n",
       ".sk-estimator-doc-link.fitted,\n",
       "a:link.sk-estimator-doc-link.fitted,\n",
       "a:visited.sk-estimator-doc-link.fitted {\n",
       "  /* fitted */\n",
       "  border: var(--sklearn-color-fitted-level-1) 1pt solid;\n",
       "  color: var(--sklearn-color-fitted-level-1);\n",
       "}\n",
       "\n",
       "/* On hover */\n",
       "div.sk-estimator:hover .sk-estimator-doc-link:hover,\n",
       ".sk-estimator-doc-link:hover,\n",
       "div.sk-label-container:hover .sk-estimator-doc-link:hover,\n",
       ".sk-estimator-doc-link:hover {\n",
       "  /* unfitted */\n",
       "  background-color: var(--sklearn-color-unfitted-level-3);\n",
       "  color: var(--sklearn-color-background);\n",
       "  text-decoration: none;\n",
       "}\n",
       "\n",
       "div.sk-estimator.fitted:hover .sk-estimator-doc-link.fitted:hover,\n",
       ".sk-estimator-doc-link.fitted:hover,\n",
       "div.sk-label-container:hover .sk-estimator-doc-link.fitted:hover,\n",
       ".sk-estimator-doc-link.fitted:hover {\n",
       "  /* fitted */\n",
       "  background-color: var(--sklearn-color-fitted-level-3);\n",
       "  color: var(--sklearn-color-background);\n",
       "  text-decoration: none;\n",
       "}\n",
       "\n",
       "/* Span, style for the box shown on hovering the info icon */\n",
       ".sk-estimator-doc-link span {\n",
       "  display: none;\n",
       "  z-index: 9999;\n",
       "  position: relative;\n",
       "  font-weight: normal;\n",
       "  right: .2ex;\n",
       "  padding: .5ex;\n",
       "  margin: .5ex;\n",
       "  width: min-content;\n",
       "  min-width: 20ex;\n",
       "  max-width: 50ex;\n",
       "  color: var(--sklearn-color-text);\n",
       "  box-shadow: 2pt 2pt 4pt #999;\n",
       "  /* unfitted */\n",
       "  background: var(--sklearn-color-unfitted-level-0);\n",
       "  border: .5pt solid var(--sklearn-color-unfitted-level-3);\n",
       "}\n",
       "\n",
       ".sk-estimator-doc-link.fitted span {\n",
       "  /* fitted */\n",
       "  background: var(--sklearn-color-fitted-level-0);\n",
       "  border: var(--sklearn-color-fitted-level-3);\n",
       "}\n",
       "\n",
       ".sk-estimator-doc-link:hover span {\n",
       "  display: block;\n",
       "}\n",
       "\n",
       "/* \"?\"-specific style due to the `<a>` HTML tag */\n",
       "\n",
       "#sk-container-id-8 a.estimator_doc_link {\n",
       "  float: right;\n",
       "  font-size: 1rem;\n",
       "  line-height: 1em;\n",
       "  font-family: monospace;\n",
       "  background-color: var(--sklearn-color-background);\n",
       "  border-radius: 1rem;\n",
       "  height: 1rem;\n",
       "  width: 1rem;\n",
       "  text-decoration: none;\n",
       "  /* unfitted */\n",
       "  color: var(--sklearn-color-unfitted-level-1);\n",
       "  border: var(--sklearn-color-unfitted-level-1) 1pt solid;\n",
       "}\n",
       "\n",
       "#sk-container-id-8 a.estimator_doc_link.fitted {\n",
       "  /* fitted */\n",
       "  border: var(--sklearn-color-fitted-level-1) 1pt solid;\n",
       "  color: var(--sklearn-color-fitted-level-1);\n",
       "}\n",
       "\n",
       "/* On hover */\n",
       "#sk-container-id-8 a.estimator_doc_link:hover {\n",
       "  /* unfitted */\n",
       "  background-color: var(--sklearn-color-unfitted-level-3);\n",
       "  color: var(--sklearn-color-background);\n",
       "  text-decoration: none;\n",
       "}\n",
       "\n",
       "#sk-container-id-8 a.estimator_doc_link.fitted:hover {\n",
       "  /* fitted */\n",
       "  background-color: var(--sklearn-color-fitted-level-3);\n",
       "}\n",
       "</style><div id=\"sk-container-id-8\" class=\"sk-top-container\"><div class=\"sk-text-repr-fallback\"><pre>LinearRegression()</pre><b>In a Jupyter environment, please rerun this cell to show the HTML representation or trust the notebook. <br />On GitHub, the HTML representation is unable to render, please try loading this page with nbviewer.org.</b></div><div class=\"sk-container\" hidden><div class=\"sk-item\"><div class=\"sk-estimator fitted sk-toggleable\"><input class=\"sk-toggleable__control sk-hidden--visually\" id=\"sk-estimator-id-8\" type=\"checkbox\" checked><label for=\"sk-estimator-id-8\" class=\"sk-toggleable__label fitted sk-toggleable__label-arrow\"><div><div>LinearRegression</div></div><div><a class=\"sk-estimator-doc-link fitted\" rel=\"noreferrer\" target=\"_blank\" href=\"https://scikit-learn.org/1.6/modules/generated/sklearn.linear_model.LinearRegression.html\">?<span>Documentation for LinearRegression</span></a><span class=\"sk-estimator-doc-link fitted\">i<span>Fitted</span></span></div></label><div class=\"sk-toggleable__content fitted\"><pre>LinearRegression()</pre></div> </div></div></div></div>"
      ],
      "text/plain": [
       "LinearRegression()"
      ]
     },
     "execution_count": 149,
     "metadata": {},
     "output_type": "execute_result"
    }
   ],
   "source": [
    "lm.fit(df[['GGH']],df[['Volume']])\n",
    "\n",
    "#<xml xmlns=\"https://developers.google.com/blockly/xml\"><variables><variable id=\"F]q147x/*m|PMfPQU-lZ\">lm</variable><variable id=\"FUXr7i7@?fN1xCAh/=Fn\">df</variable></variables><block type=\"varDoMethod\" id=\"W6(0}aPsJ;vA9C3A!:G@\" x=\"96\" y=\"130\"><mutation items=\"2\"></mutation><field name=\"VAR\" id=\"F]q147x/*m|PMfPQU-lZ\">lm</field><field name=\"MEMBER\">fit</field><data>lm:fit</data><value name=\"ADD0\"><block type=\"indexer\" id=\".|%fa!U;=I@;!6$?B7Id\"><field name=\"VAR\" id=\"FUXr7i7@?fN1xCAh/=Fn\">df</field><value name=\"INDEX\"><block type=\"lists_create_with\" id=\"o5szXy4*HmKGA;-.~H?H\"><mutation items=\"1\"></mutation><value name=\"ADD0\"><block type=\"text\" id=\"{*5MFGJL4(x-JLsuD9qv\"><field name=\"TEXT\">GGH</field></block></value></block></value></block></value><value name=\"ADD1\"><block type=\"indexer\" id=\"o.R`*;zvaP%^K2/_t`6*\"><field name=\"VAR\" id=\"FUXr7i7@?fN1xCAh/=Fn\">df</field><value name=\"INDEX\"><block type=\"lists_create_with\" id=\"[WAkSKWMcU+j3zS)uzVG\"><mutation items=\"1\"></mutation><value name=\"ADD0\"><block type=\"text\" id=\"w0w/T-Wh/df/waYll,rv\"><field name=\"TEXT\">Volume</field></block></value></block></value></block></value></block></xml>"
   ]
  },
  {
   "cell_type": "markdown",
   "metadata": {},
   "source": [
    "### Diagnostics 2\n",
    "\n",
    "Save the predictions:\n",
    "\n",
    "- Set `df` to with `df` do `assign` using\n",
    "    - freestyle `predictions2=` *followed by*\n",
    "        - with `lm` do `predict` using\n",
    "            - `df [ ]` containing a list containing\n",
    "                - `\"GGH\"`\n",
    "- `df` (to display)"
   ]
  },
  {
   "cell_type": "code",
   "execution_count": 155,
   "metadata": {
    "user_blocks": [
     "variables_set",
     "varDoMethod",
     "valueOutputCodeBlock",
     "varDoMethod",
     "indexer",
     "lists_create_with",
     "text",
     "variables_get"
    ],
    "user_blocks_xml": "<xml xmlns=\"https://developers.google.com/blockly/xml\"><variables><variable id=\"FUXr7i7@?fN1xCAh/=Fn\">df</variable><variable id=\"F]q147x/*m|PMfPQU-lZ\">lm</variable></variables><block type=\"variables_set\" id=\"rn0LHF%t,0JD5-!Ov?-U\" x=\"-4\" y=\"123\"><field name=\"VAR\" id=\"FUXr7i7@?fN1xCAh/=Fn\">df</field><value name=\"VALUE\"><block type=\"varDoMethod\" id=\"ou+aFod:USt{s9i+emN}\"><mutation items=\"1\"></mutation><field name=\"VAR\" id=\"FUXr7i7@?fN1xCAh/=Fn\">df</field><field name=\"MEMBER\">assign</field><data>df:assign</data><value name=\"ADD0\"><block type=\"valueOutputCodeBlock\" id=\"UFqs+Ox{QF6j*LkUvNvu\"><field name=\"CODE\">predictions2=</field><value name=\"INPUT\"><block type=\"varDoMethod\" id=\"(2l5d}m6K9#ZC6_^/JXe\"><mutation items=\"1\"></mutation><field name=\"VAR\" id=\"F]q147x/*m|PMfPQU-lZ\">lm</field><field name=\"MEMBER\">predict</field><data>lm:predict</data><value name=\"ADD0\"><block type=\"indexer\" id=\"WQaaM]1BPY=1wxWQsv:$\"><field name=\"VAR\" id=\"FUXr7i7@?fN1xCAh/=Fn\">df</field><value name=\"INDEX\"><block type=\"lists_create_with\" id=\"rugUT!#.Lk(@nt!}4hC;\"><mutation items=\"1\"></mutation><value name=\"ADD0\"><block type=\"text\" id=\"4nD6,I;gq.Y.D%v3$kFX\"><field name=\"TEXT\">GGH</field></block></value></block></value></block></value></block></value></block></value></block></value></block><block type=\"variables_get\" id=\"f1yeKv2^vn4poU(:x!RQ\" x=\"8\" y=\"296\"><field name=\"VAR\" id=\"FUXr7i7@?fN1xCAh/=Fn\">df</field></block></xml>",
    "user_code_from_blocks": "df = df.assign(predictions2= (lm.predict(df[['GGH']])))\n\ndf\n"
   },
   "outputs": [
    {
     "data": {
      "text/html": [
       "<div>\n",
       "<style scoped>\n",
       "    .dataframe tbody tr th:only-of-type {\n",
       "        vertical-align: middle;\n",
       "    }\n",
       "\n",
       "    .dataframe tbody tr th {\n",
       "        vertical-align: top;\n",
       "    }\n",
       "\n",
       "    .dataframe thead th {\n",
       "        text-align: right;\n",
       "    }\n",
       "</style>\n",
       "<table border=\"1\" class=\"dataframe\">\n",
       "  <thead>\n",
       "    <tr style=\"text-align: right;\">\n",
       "      <th></th>\n",
       "      <th>Girth</th>\n",
       "      <th>Height</th>\n",
       "      <th>Volume</th>\n",
       "      <th>Type_plum</th>\n",
       "      <th>Type</th>\n",
       "      <th>predictions1</th>\n",
       "      <th>residuals1</th>\n",
       "      <th>GGH</th>\n",
       "      <th>predictions2</th>\n",
       "    </tr>\n",
       "  </thead>\n",
       "  <tbody>\n",
       "    <tr>\n",
       "      <th>0</th>\n",
       "      <td>8.3</td>\n",
       "      <td>70.0</td>\n",
       "      <td>10.3</td>\n",
       "      <td>0</td>\n",
       "      <td>cherry</td>\n",
       "      <td>6.826375</td>\n",
       "      <td>3.473625</td>\n",
       "      <td>4822.300</td>\n",
       "      <td>10.120712</td>\n",
       "    </tr>\n",
       "    <tr>\n",
       "      <th>1</th>\n",
       "      <td>8.6</td>\n",
       "      <td>65.0</td>\n",
       "      <td>10.3</td>\n",
       "      <td>0</td>\n",
       "      <td>cherry</td>\n",
       "      <td>6.493821</td>\n",
       "      <td>3.806179</td>\n",
       "      <td>4807.400</td>\n",
       "      <td>10.089105</td>\n",
       "    </tr>\n",
       "    <tr>\n",
       "      <th>2</th>\n",
       "      <td>8.8</td>\n",
       "      <td>63.0</td>\n",
       "      <td>10.2</td>\n",
       "      <td>0</td>\n",
       "      <td>cherry</td>\n",
       "      <td>6.707254</td>\n",
       "      <td>3.492746</td>\n",
       "      <td>4878.720</td>\n",
       "      <td>10.240395</td>\n",
       "    </tr>\n",
       "    <tr>\n",
       "      <th>3</th>\n",
       "      <td>10.5</td>\n",
       "      <td>72.0</td>\n",
       "      <td>16.4</td>\n",
       "      <td>0</td>\n",
       "      <td>cherry</td>\n",
       "      <td>17.006587</td>\n",
       "      <td>-0.606587</td>\n",
       "      <td>7938.000</td>\n",
       "      <td>16.729991</td>\n",
       "    </tr>\n",
       "    <tr>\n",
       "      <th>4</th>\n",
       "      <td>10.7</td>\n",
       "      <td>81.0</td>\n",
       "      <td>18.8</td>\n",
       "      <td>0</td>\n",
       "      <td>cherry</td>\n",
       "      <td>20.809891</td>\n",
       "      <td>-2.009891</td>\n",
       "      <td>9273.690</td>\n",
       "      <td>19.563366</td>\n",
       "    </tr>\n",
       "    <tr>\n",
       "      <th>...</th>\n",
       "      <td>...</td>\n",
       "      <td>...</td>\n",
       "      <td>...</td>\n",
       "      <td>...</td>\n",
       "      <td>...</td>\n",
       "      <td>...</td>\n",
       "      <td>...</td>\n",
       "      <td>...</td>\n",
       "      <td>...</td>\n",
       "    </tr>\n",
       "    <tr>\n",
       "      <th>57</th>\n",
       "      <td>17.9</td>\n",
       "      <td>69.2</td>\n",
       "      <td>47.1</td>\n",
       "      <td>1</td>\n",
       "      <td>plum</td>\n",
       "      <td>48.139871</td>\n",
       "      <td>-1.039871</td>\n",
       "      <td>22172.372</td>\n",
       "      <td>46.925109</td>\n",
       "    </tr>\n",
       "    <tr>\n",
       "      <th>58</th>\n",
       "      <td>18.8</td>\n",
       "      <td>67.3</td>\n",
       "      <td>50.5</td>\n",
       "      <td>1</td>\n",
       "      <td>plum</td>\n",
       "      <td>51.417419</td>\n",
       "      <td>-0.917419</td>\n",
       "      <td>23786.512</td>\n",
       "      <td>50.349155</td>\n",
       "    </tr>\n",
       "    <tr>\n",
       "      <th>59</th>\n",
       "      <td>19.7</td>\n",
       "      <td>67.4</td>\n",
       "      <td>55.6</td>\n",
       "      <td>1</td>\n",
       "      <td>plum</td>\n",
       "      <td>55.347671</td>\n",
       "      <td>0.252329</td>\n",
       "      <td>26157.266</td>\n",
       "      <td>55.378193</td>\n",
       "    </tr>\n",
       "    <tr>\n",
       "      <th>60</th>\n",
       "      <td>17.2</td>\n",
       "      <td>67.3</td>\n",
       "      <td>42.3</td>\n",
       "      <td>1</td>\n",
       "      <td>plum</td>\n",
       "      <td>44.488323</td>\n",
       "      <td>-2.188323</td>\n",
       "      <td>19910.032</td>\n",
       "      <td>42.126048</td>\n",
       "    </tr>\n",
       "    <tr>\n",
       "      <th>61</th>\n",
       "      <td>21.1</td>\n",
       "      <td>73.8</td>\n",
       "      <td>69.8</td>\n",
       "      <td>1</td>\n",
       "      <td>plum</td>\n",
       "      <td>63.499282</td>\n",
       "      <td>6.300718</td>\n",
       "      <td>32856.498</td>\n",
       "      <td>69.589154</td>\n",
       "    </tr>\n",
       "  </tbody>\n",
       "</table>\n",
       "<p>62 rows × 9 columns</p>\n",
       "</div>"
      ],
      "text/plain": [
       "    Girth  Height  Volume  Type_plum    Type  predictions1  residuals1  \\\n",
       "0     8.3    70.0    10.3          0  cherry      6.826375    3.473625   \n",
       "1     8.6    65.0    10.3          0  cherry      6.493821    3.806179   \n",
       "2     8.8    63.0    10.2          0  cherry      6.707254    3.492746   \n",
       "3    10.5    72.0    16.4          0  cherry     17.006587   -0.606587   \n",
       "4    10.7    81.0    18.8          0  cherry     20.809891   -2.009891   \n",
       "..    ...     ...     ...        ...     ...           ...         ...   \n",
       "57   17.9    69.2    47.1          1    plum     48.139871   -1.039871   \n",
       "58   18.8    67.3    50.5          1    plum     51.417419   -0.917419   \n",
       "59   19.7    67.4    55.6          1    plum     55.347671    0.252329   \n",
       "60   17.2    67.3    42.3          1    plum     44.488323   -2.188323   \n",
       "61   21.1    73.8    69.8          1    plum     63.499282    6.300718   \n",
       "\n",
       "          GGH  predictions2  \n",
       "0    4822.300     10.120712  \n",
       "1    4807.400     10.089105  \n",
       "2    4878.720     10.240395  \n",
       "3    7938.000     16.729991  \n",
       "4    9273.690     19.563366  \n",
       "..        ...           ...  \n",
       "57  22172.372     46.925109  \n",
       "58  23786.512     50.349155  \n",
       "59  26157.266     55.378193  \n",
       "60  19910.032     42.126048  \n",
       "61  32856.498     69.589154  \n",
       "\n",
       "[62 rows x 9 columns]"
      ]
     },
     "execution_count": 155,
     "metadata": {},
     "output_type": "execute_result"
    }
   ],
   "source": [
    "df = df.assign(predictions2= (lm.predict(df[['GGH']])))\n",
    "\n",
    "df\n",
    "\n",
    "#<xml xmlns=\"https://developers.google.com/blockly/xml\"><variables><variable id=\"FUXr7i7@?fN1xCAh/=Fn\">df</variable><variable id=\"F]q147x/*m|PMfPQU-lZ\">lm</variable></variables><block type=\"variables_set\" id=\"rn0LHF%t,0JD5-!Ov?-U\" x=\"-4\" y=\"123\"><field name=\"VAR\" id=\"FUXr7i7@?fN1xCAh/=Fn\">df</field><value name=\"VALUE\"><block type=\"varDoMethod\" id=\"ou+aFod:USt{s9i+emN}\"><mutation items=\"1\"></mutation><field name=\"VAR\" id=\"FUXr7i7@?fN1xCAh/=Fn\">df</field><field name=\"MEMBER\">assign</field><data>df:assign</data><value name=\"ADD0\"><block type=\"valueOutputCodeBlock\" id=\"UFqs+Ox{QF6j*LkUvNvu\"><field name=\"CODE\">predictions2=</field><value name=\"INPUT\"><block type=\"varDoMethod\" id=\"(2l5d}m6K9#ZC6_^/JXe\"><mutation items=\"1\"></mutation><field name=\"VAR\" id=\"F]q147x/*m|PMfPQU-lZ\">lm</field><field name=\"MEMBER\">predict</field><data>lm:predict</data><value name=\"ADD0\"><block type=\"indexer\" id=\"WQaaM]1BPY=1wxWQsv:$\"><field name=\"VAR\" id=\"FUXr7i7@?fN1xCAh/=Fn\">df</field><value name=\"INDEX\"><block type=\"lists_create_with\" id=\"rugUT!#.Lk(@nt!}4hC;\"><mutation items=\"1\"></mutation><value name=\"ADD0\"><block type=\"text\" id=\"4nD6,I;gq.Y.D%v3$kFX\"><field name=\"TEXT\">GGH</field></block></value></block></value></block></value></block></value></block></value></block></value></block><block type=\"variables_get\" id=\"f1yeKv2^vn4poU(:x!RQ\" x=\"8\" y=\"296\"><field name=\"VAR\" id=\"FUXr7i7@?fN1xCAh/=Fn\">df</field></block></xml>"
   ]
  },
  {
   "cell_type": "markdown",
   "metadata": {},
   "source": [
    "Save the residuals:\n",
    "    \n",
    "- Set `df` to with `df` do `assign` using\n",
    "    - freestyle `residuals2=` *followed by* `df [ \"Volume\" ] - df [ \"predictions2\" ]`\n",
    "\n",
    "- `df` (to display)\n"
   ]
  },
  {
   "cell_type": "code",
   "execution_count": 163,
   "metadata": {
    "user_blocks": [
     "variables_set",
     "varDoMethod",
     "valueOutputCodeBlock",
     "math_arithmetic",
     "indexer",
     "text",
     "indexer",
     "text",
     "variables_get"
    ],
    "user_blocks_xml": "<xml xmlns=\"https://developers.google.com/blockly/xml\"><variables><variable id=\"FUXr7i7@?fN1xCAh/=Fn\">df</variable></variables><block type=\"variables_set\" id=\"rn0LHF%t,0JD5-!Ov?-U\" x=\"64\" y=\"149\"><field name=\"VAR\" id=\"FUXr7i7@?fN1xCAh/=Fn\">df</field><value name=\"VALUE\"><block type=\"varDoMethod\" id=\"(2l5d}m6K9#ZC6_^/JXe\"><mutation items=\"1\"></mutation><field name=\"VAR\" id=\"FUXr7i7@?fN1xCAh/=Fn\">df</field><field name=\"MEMBER\">assign</field><data>df:assign</data><value name=\"ADD0\"><block type=\"valueOutputCodeBlock\" id=\"^$QWpb1hPzxWt/?~mZBX\"><field name=\"CODE\">residuals2=</field><value name=\"INPUT\"><block type=\"math_arithmetic\" id=\"=szmSC[EoihfyX_5cH6v\"><field name=\"OP\">MINUS</field><value name=\"A\"><shadow type=\"math_number\" id=\"E[2Ss)z+r1pVe~OSDMne\"><field name=\"NUM\">1</field></shadow><block type=\"indexer\" id=\"WQaaM]1BPY=1wxWQsv:$\"><field name=\"VAR\" id=\"FUXr7i7@?fN1xCAh/=Fn\">df</field><value name=\"INDEX\"><block type=\"text\" id=\"+5PTgD[9U~pl`q#YlA^!\"><field name=\"TEXT\">Volume</field></block></value></block></value><value name=\"B\"><shadow type=\"math_number\" id=\"Z%,Q(P8VED{wb;Q#^bM4\"><field name=\"NUM\">1</field></shadow><block type=\"indexer\" id=\"b.`x=!iTEC%|-VGV[Hu5\"><field name=\"VAR\" id=\"FUXr7i7@?fN1xCAh/=Fn\">df</field><value name=\"INDEX\"><block type=\"text\" id=\"g`tk1*Psq~biS1z%3c`q\"><field name=\"TEXT\">predictions2</field></block></value></block></value></block></value></block></value></block></value></block><block type=\"variables_get\" id=\"5+a8Y;3[A*+`N:?:J/]l\" x=\"67\" y=\"261\"><field name=\"VAR\" id=\"FUXr7i7@?fN1xCAh/=Fn\">df</field></block></xml>",
    "user_code_from_blocks": "df = df.assign(residuals2= (df['Volume'] - df['predictions2']))\n\ndf\n"
   },
   "outputs": [
    {
     "data": {
      "text/html": [
       "<div>\n",
       "<style scoped>\n",
       "    .dataframe tbody tr th:only-of-type {\n",
       "        vertical-align: middle;\n",
       "    }\n",
       "\n",
       "    .dataframe tbody tr th {\n",
       "        vertical-align: top;\n",
       "    }\n",
       "\n",
       "    .dataframe thead th {\n",
       "        text-align: right;\n",
       "    }\n",
       "</style>\n",
       "<table border=\"1\" class=\"dataframe\">\n",
       "  <thead>\n",
       "    <tr style=\"text-align: right;\">\n",
       "      <th></th>\n",
       "      <th>Girth</th>\n",
       "      <th>Height</th>\n",
       "      <th>Volume</th>\n",
       "      <th>Type_plum</th>\n",
       "      <th>Type</th>\n",
       "      <th>predictions1</th>\n",
       "      <th>residuals1</th>\n",
       "      <th>GGH</th>\n",
       "      <th>predictions2</th>\n",
       "      <th>residuals2</th>\n",
       "    </tr>\n",
       "  </thead>\n",
       "  <tbody>\n",
       "    <tr>\n",
       "      <th>0</th>\n",
       "      <td>8.3</td>\n",
       "      <td>70.0</td>\n",
       "      <td>10.3</td>\n",
       "      <td>0</td>\n",
       "      <td>cherry</td>\n",
       "      <td>6.826375</td>\n",
       "      <td>3.473625</td>\n",
       "      <td>4822.300</td>\n",
       "      <td>10.120712</td>\n",
       "      <td>0.179288</td>\n",
       "    </tr>\n",
       "    <tr>\n",
       "      <th>1</th>\n",
       "      <td>8.6</td>\n",
       "      <td>65.0</td>\n",
       "      <td>10.3</td>\n",
       "      <td>0</td>\n",
       "      <td>cherry</td>\n",
       "      <td>6.493821</td>\n",
       "      <td>3.806179</td>\n",
       "      <td>4807.400</td>\n",
       "      <td>10.089105</td>\n",
       "      <td>0.210895</td>\n",
       "    </tr>\n",
       "    <tr>\n",
       "      <th>2</th>\n",
       "      <td>8.8</td>\n",
       "      <td>63.0</td>\n",
       "      <td>10.2</td>\n",
       "      <td>0</td>\n",
       "      <td>cherry</td>\n",
       "      <td>6.707254</td>\n",
       "      <td>3.492746</td>\n",
       "      <td>4878.720</td>\n",
       "      <td>10.240395</td>\n",
       "      <td>-0.040395</td>\n",
       "    </tr>\n",
       "    <tr>\n",
       "      <th>3</th>\n",
       "      <td>10.5</td>\n",
       "      <td>72.0</td>\n",
       "      <td>16.4</td>\n",
       "      <td>0</td>\n",
       "      <td>cherry</td>\n",
       "      <td>17.006587</td>\n",
       "      <td>-0.606587</td>\n",
       "      <td>7938.000</td>\n",
       "      <td>16.729991</td>\n",
       "      <td>-0.329991</td>\n",
       "    </tr>\n",
       "    <tr>\n",
       "      <th>4</th>\n",
       "      <td>10.7</td>\n",
       "      <td>81.0</td>\n",
       "      <td>18.8</td>\n",
       "      <td>0</td>\n",
       "      <td>cherry</td>\n",
       "      <td>20.809891</td>\n",
       "      <td>-2.009891</td>\n",
       "      <td>9273.690</td>\n",
       "      <td>19.563366</td>\n",
       "      <td>-0.763366</td>\n",
       "    </tr>\n",
       "    <tr>\n",
       "      <th>...</th>\n",
       "      <td>...</td>\n",
       "      <td>...</td>\n",
       "      <td>...</td>\n",
       "      <td>...</td>\n",
       "      <td>...</td>\n",
       "      <td>...</td>\n",
       "      <td>...</td>\n",
       "      <td>...</td>\n",
       "      <td>...</td>\n",
       "      <td>...</td>\n",
       "    </tr>\n",
       "    <tr>\n",
       "      <th>57</th>\n",
       "      <td>17.9</td>\n",
       "      <td>69.2</td>\n",
       "      <td>47.1</td>\n",
       "      <td>1</td>\n",
       "      <td>plum</td>\n",
       "      <td>48.139871</td>\n",
       "      <td>-1.039871</td>\n",
       "      <td>22172.372</td>\n",
       "      <td>46.925109</td>\n",
       "      <td>0.174891</td>\n",
       "    </tr>\n",
       "    <tr>\n",
       "      <th>58</th>\n",
       "      <td>18.8</td>\n",
       "      <td>67.3</td>\n",
       "      <td>50.5</td>\n",
       "      <td>1</td>\n",
       "      <td>plum</td>\n",
       "      <td>51.417419</td>\n",
       "      <td>-0.917419</td>\n",
       "      <td>23786.512</td>\n",
       "      <td>50.349155</td>\n",
       "      <td>0.150845</td>\n",
       "    </tr>\n",
       "    <tr>\n",
       "      <th>59</th>\n",
       "      <td>19.7</td>\n",
       "      <td>67.4</td>\n",
       "      <td>55.6</td>\n",
       "      <td>1</td>\n",
       "      <td>plum</td>\n",
       "      <td>55.347671</td>\n",
       "      <td>0.252329</td>\n",
       "      <td>26157.266</td>\n",
       "      <td>55.378193</td>\n",
       "      <td>0.221807</td>\n",
       "    </tr>\n",
       "    <tr>\n",
       "      <th>60</th>\n",
       "      <td>17.2</td>\n",
       "      <td>67.3</td>\n",
       "      <td>42.3</td>\n",
       "      <td>1</td>\n",
       "      <td>plum</td>\n",
       "      <td>44.488323</td>\n",
       "      <td>-2.188323</td>\n",
       "      <td>19910.032</td>\n",
       "      <td>42.126048</td>\n",
       "      <td>0.173952</td>\n",
       "    </tr>\n",
       "    <tr>\n",
       "      <th>61</th>\n",
       "      <td>21.1</td>\n",
       "      <td>73.8</td>\n",
       "      <td>69.8</td>\n",
       "      <td>1</td>\n",
       "      <td>plum</td>\n",
       "      <td>63.499282</td>\n",
       "      <td>6.300718</td>\n",
       "      <td>32856.498</td>\n",
       "      <td>69.589154</td>\n",
       "      <td>0.210846</td>\n",
       "    </tr>\n",
       "  </tbody>\n",
       "</table>\n",
       "<p>62 rows × 10 columns</p>\n",
       "</div>"
      ],
      "text/plain": [
       "    Girth  Height  Volume  Type_plum    Type  predictions1  residuals1  \\\n",
       "0     8.3    70.0    10.3          0  cherry      6.826375    3.473625   \n",
       "1     8.6    65.0    10.3          0  cherry      6.493821    3.806179   \n",
       "2     8.8    63.0    10.2          0  cherry      6.707254    3.492746   \n",
       "3    10.5    72.0    16.4          0  cherry     17.006587   -0.606587   \n",
       "4    10.7    81.0    18.8          0  cherry     20.809891   -2.009891   \n",
       "..    ...     ...     ...        ...     ...           ...         ...   \n",
       "57   17.9    69.2    47.1          1    plum     48.139871   -1.039871   \n",
       "58   18.8    67.3    50.5          1    plum     51.417419   -0.917419   \n",
       "59   19.7    67.4    55.6          1    plum     55.347671    0.252329   \n",
       "60   17.2    67.3    42.3          1    plum     44.488323   -2.188323   \n",
       "61   21.1    73.8    69.8          1    plum     63.499282    6.300718   \n",
       "\n",
       "          GGH  predictions2  residuals2  \n",
       "0    4822.300     10.120712    0.179288  \n",
       "1    4807.400     10.089105    0.210895  \n",
       "2    4878.720     10.240395   -0.040395  \n",
       "3    7938.000     16.729991   -0.329991  \n",
       "4    9273.690     19.563366   -0.763366  \n",
       "..        ...           ...         ...  \n",
       "57  22172.372     46.925109    0.174891  \n",
       "58  23786.512     50.349155    0.150845  \n",
       "59  26157.266     55.378193    0.221807  \n",
       "60  19910.032     42.126048    0.173952  \n",
       "61  32856.498     69.589154    0.210846  \n",
       "\n",
       "[62 rows x 10 columns]"
      ]
     },
     "execution_count": 163,
     "metadata": {},
     "output_type": "execute_result"
    }
   ],
   "source": [
    "df = df.assign(residuals2= (df['Volume'] - df['predictions2']))\n",
    "\n",
    "df\n",
    "\n",
    "#<xml xmlns=\"https://developers.google.com/blockly/xml\"><variables><variable id=\"FUXr7i7@?fN1xCAh/=Fn\">df</variable></variables><block type=\"variables_set\" id=\"rn0LHF%t,0JD5-!Ov?-U\" x=\"64\" y=\"149\"><field name=\"VAR\" id=\"FUXr7i7@?fN1xCAh/=Fn\">df</field><value name=\"VALUE\"><block type=\"varDoMethod\" id=\"(2l5d}m6K9#ZC6_^/JXe\"><mutation items=\"1\"></mutation><field name=\"VAR\" id=\"FUXr7i7@?fN1xCAh/=Fn\">df</field><field name=\"MEMBER\">assign</field><data>df:assign</data><value name=\"ADD0\"><block type=\"valueOutputCodeBlock\" id=\"^$QWpb1hPzxWt/?~mZBX\"><field name=\"CODE\">residuals2=</field><value name=\"INPUT\"><block type=\"math_arithmetic\" id=\"=szmSC[EoihfyX_5cH6v\"><field name=\"OP\">MINUS</field><value name=\"A\"><shadow type=\"math_number\" id=\"E[2Ss)z+r1pVe~OSDMne\"><field name=\"NUM\">1</field></shadow><block type=\"indexer\" id=\"WQaaM]1BPY=1wxWQsv:$\"><field name=\"VAR\" id=\"FUXr7i7@?fN1xCAh/=Fn\">df</field><value name=\"INDEX\"><block type=\"text\" id=\"+5PTgD[9U~pl`q#YlA^!\"><field name=\"TEXT\">Volume</field></block></value></block></value><value name=\"B\"><shadow type=\"math_number\" id=\"Z%,Q(P8VED{wb;Q#^bM4\"><field name=\"NUM\">1</field></shadow><block type=\"indexer\" id=\"b.`x=!iTEC%|-VGV[Hu5\"><field name=\"VAR\" id=\"FUXr7i7@?fN1xCAh/=Fn\">df</field><value name=\"INDEX\"><block type=\"text\" id=\"g`tk1*Psq~biS1z%3c`q\"><field name=\"TEXT\">predictions2</field></block></value></block></value></block></value></block></value></block></value></block><block type=\"variables_get\" id=\"5+a8Y;3[A*+`N:?:J/]l\" x=\"67\" y=\"261\"><field name=\"VAR\" id=\"FUXr7i7@?fN1xCAh/=Fn\">df</field></block></xml>"
   ]
  },
  {
   "cell_type": "markdown",
   "metadata": {},
   "source": [
    "And now plot the predicted vs residuals to check linearity and equal variance:\n",
    "\n",
    "- with `px` do `scatter` using\n",
    "    - `df`\n",
    "    - freestyle `x=\"predictions2\"`\n",
    "    - freestyle `y=\"residuals2\"`"
   ]
  },
  {
   "cell_type": "code",
   "execution_count": 167,
   "metadata": {
    "user_blocks": [
     "varDoMethod",
     "variables_get",
     "dummyOutputCodeBlock",
     "dummyOutputCodeBlock"
    ],
    "user_blocks_xml": "<xml xmlns=\"https://developers.google.com/blockly/xml\"><variables><variable id=\"k#w4n=KvP~*sLy*OW|Jl\">px</variable><variable id=\"FUXr7i7@?fN1xCAh/=Fn\">df</variable></variables><block type=\"varDoMethod\" id=\"O07?sQIdula@ap]/9Ogq\" x=\"0\" y=\"0\"><mutation items=\"3\"></mutation><field name=\"VAR\" id=\"k#w4n=KvP~*sLy*OW|Jl\">px</field><field name=\"MEMBER\">scatter</field><data>px:scatter</data><value name=\"ADD0\"><block type=\"variables_get\" id=\"UE)!btph,4mdjsf[F37|\"><field name=\"VAR\" id=\"FUXr7i7@?fN1xCAh/=Fn\">df</field></block></value><value name=\"ADD1\"><block type=\"dummyOutputCodeBlock\" id=\"~L)yq!Jze#v9R[^p;2{O\"><field name=\"CODE\">x=\"predictions2\"</field></block></value><value name=\"ADD2\"><block type=\"dummyOutputCodeBlock\" id=\"yu5^$n1zXY3)#RcRx:~;\"><field name=\"CODE\">y=\"residuals2\"</field></block></value></block></xml>",
    "user_code_from_blocks": "px.scatter(df,x=\"predictions2\",y=\"residuals2\")\n"
   },
   "outputs": [
    {
     "data": {
      "application/vnd.plotly.v1+json": {
       "config": {
        "plotlyServerURL": "https://plot.ly"
       },
       "data": [
        {
         "hovertemplate": "predictions2=%{x}<br>residuals2=%{y}<extra></extra>",
         "legendgroup": "",
         "marker": {
          "color": "#636efa",
          "symbol": "circle"
         },
         "mode": "markers",
         "name": "",
         "orientation": "v",
         "showlegend": false,
         "type": "scatter",
         "x": {
          "bdata": "eJ9jBs49JEC/uAA4ny0kQG79khQVeyRAVGxMseC6MEA2vv3FOJAzQNt119R5bTRA8llDq/HUMEDfiFXSUiQzQED61OzgzDRAVpl2mCjZM0AxjOpOKko1QLHOQZPT1zRAsc5Bk9PXNEAqK7hYee0zQDiEb+kUzTZAFqwQ+nADOkDIwHUaf+U9QP4xwt2mFEBAsr3t59AoPEC8zNlj6745QLCmjxokKUBAJrR7FBcOQUA4bOOalnJAQKKM5hTQfkNAai1+ufSkRUAU81E8gKhJQAbskce6lEpAdAXt6wAiS0C68iI+/G9LQLryIj78b0tATBbKbUiNU0AiSsJ/8WQkQJLDCtR1MSBApkSaEB+uHUAu0+Kz4LsmQPJd8JB2Vy1AAb5Iz2WoNkCc/T+zewIqQGq6Djo7fCpAk58c9qTmKUCvelJGTgYnQLR/uQcGDzJAmUiRzWD3MkDycrEb7d0vQNuVVnwLqydAZNuCee/nNEBSiOzmS4YyQHiVNmhMoTNA43TALShCNEAeCA7IHFgxQHAy+MhLjDZAyXEBpni/NUCwG1QpvGtCQP2HazU55zdAFlIeWq4RQUBMeradZJZFQHjHmgRG3ElAPiuy+ml2R0DMP3ggsSxJQG7kmaRosEtA4Ju9ViIQRUC7+uSztGVRQA==",
          "dtype": "f8"
         },
         "xaxis": "x",
         "y": {
          "bdata": "gIh+zeTyxj/ANjhmmP7KPwAIlyyurqS/gHuBuZIe1b8gLR4mf23ovwBViDTUSOe/iAWcGoG187+AtUrk8yPuv6D1ScyKy/w/ACCa35t7qj8QOEUiR0gHQICnGF82FsQ/oPaSZFrS4T8wGkpBN/X1P/BUr37amw3AGMfrNu6BDsAgYLiSbToPQFj2d1SdCxPA+FPUpe2sA8DAymyunxDrvwCVBVe+bQFAyKghrtdHA8Dgoi+4/DwLQACPCaBrGua/QCdYLPsJ5r/4AAq3l1UQQEDZeiDtTQRAkAfL0ysjEECgKy/iw/8KwKArL+LD/w7AAJOFchtS878AvKfrDFS6PwBq0S1JeLo/gNZu2Tt4tD+ANEsH0wfBPwDqTirCiMA/AGYHwn4zwj+Ay5r5v1u4P8CYhK9kJMQ/AOikRY8jwz8AQlxwdnK2P4C/2byVFsI/gIAoBGYcwT+AEHDghVHFP0CJWuogPcU/AJwkfYYQuD+AcFUjpnPGP4CqG0sywMU/gMH4Uhwfwj8A8fv4m/HDP4BhgB21c8M/gE56MuB2wz8AUOSr1kPEPwADeJTKxrg/AFAUSAy4xD8AGuyvyAHAPwC7a5gu7cY/AI+hGtJixj8ANMCH307DPwBf6DIoZMw/AIbKqA9Exj8A8HCc/vzKPw==",
          "dtype": "f8"
         },
         "yaxis": "y"
        }
       ],
       "layout": {
        "legend": {
         "tracegroupgap": 0
        },
        "margin": {
         "t": 60
        },
        "template": {
         "data": {
          "bar": [
           {
            "error_x": {
             "color": "#2a3f5f"
            },
            "error_y": {
             "color": "#2a3f5f"
            },
            "marker": {
             "line": {
              "color": "#E5ECF6",
              "width": 0.5
             },
             "pattern": {
              "fillmode": "overlay",
              "size": 10,
              "solidity": 0.2
             }
            },
            "type": "bar"
           }
          ],
          "barpolar": [
           {
            "marker": {
             "line": {
              "color": "#E5ECF6",
              "width": 0.5
             },
             "pattern": {
              "fillmode": "overlay",
              "size": 10,
              "solidity": 0.2
             }
            },
            "type": "barpolar"
           }
          ],
          "carpet": [
           {
            "aaxis": {
             "endlinecolor": "#2a3f5f",
             "gridcolor": "white",
             "linecolor": "white",
             "minorgridcolor": "white",
             "startlinecolor": "#2a3f5f"
            },
            "baxis": {
             "endlinecolor": "#2a3f5f",
             "gridcolor": "white",
             "linecolor": "white",
             "minorgridcolor": "white",
             "startlinecolor": "#2a3f5f"
            },
            "type": "carpet"
           }
          ],
          "choropleth": [
           {
            "colorbar": {
             "outlinewidth": 0,
             "ticks": ""
            },
            "type": "choropleth"
           }
          ],
          "contour": [
           {
            "colorbar": {
             "outlinewidth": 0,
             "ticks": ""
            },
            "colorscale": [
             [
              0,
              "#0d0887"
             ],
             [
              0.1111111111111111,
              "#46039f"
             ],
             [
              0.2222222222222222,
              "#7201a8"
             ],
             [
              0.3333333333333333,
              "#9c179e"
             ],
             [
              0.4444444444444444,
              "#bd3786"
             ],
             [
              0.5555555555555556,
              "#d8576b"
             ],
             [
              0.6666666666666666,
              "#ed7953"
             ],
             [
              0.7777777777777778,
              "#fb9f3a"
             ],
             [
              0.8888888888888888,
              "#fdca26"
             ],
             [
              1,
              "#f0f921"
             ]
            ],
            "type": "contour"
           }
          ],
          "contourcarpet": [
           {
            "colorbar": {
             "outlinewidth": 0,
             "ticks": ""
            },
            "type": "contourcarpet"
           }
          ],
          "heatmap": [
           {
            "colorbar": {
             "outlinewidth": 0,
             "ticks": ""
            },
            "colorscale": [
             [
              0,
              "#0d0887"
             ],
             [
              0.1111111111111111,
              "#46039f"
             ],
             [
              0.2222222222222222,
              "#7201a8"
             ],
             [
              0.3333333333333333,
              "#9c179e"
             ],
             [
              0.4444444444444444,
              "#bd3786"
             ],
             [
              0.5555555555555556,
              "#d8576b"
             ],
             [
              0.6666666666666666,
              "#ed7953"
             ],
             [
              0.7777777777777778,
              "#fb9f3a"
             ],
             [
              0.8888888888888888,
              "#fdca26"
             ],
             [
              1,
              "#f0f921"
             ]
            ],
            "type": "heatmap"
           }
          ],
          "histogram": [
           {
            "marker": {
             "pattern": {
              "fillmode": "overlay",
              "size": 10,
              "solidity": 0.2
             }
            },
            "type": "histogram"
           }
          ],
          "histogram2d": [
           {
            "colorbar": {
             "outlinewidth": 0,
             "ticks": ""
            },
            "colorscale": [
             [
              0,
              "#0d0887"
             ],
             [
              0.1111111111111111,
              "#46039f"
             ],
             [
              0.2222222222222222,
              "#7201a8"
             ],
             [
              0.3333333333333333,
              "#9c179e"
             ],
             [
              0.4444444444444444,
              "#bd3786"
             ],
             [
              0.5555555555555556,
              "#d8576b"
             ],
             [
              0.6666666666666666,
              "#ed7953"
             ],
             [
              0.7777777777777778,
              "#fb9f3a"
             ],
             [
              0.8888888888888888,
              "#fdca26"
             ],
             [
              1,
              "#f0f921"
             ]
            ],
            "type": "histogram2d"
           }
          ],
          "histogram2dcontour": [
           {
            "colorbar": {
             "outlinewidth": 0,
             "ticks": ""
            },
            "colorscale": [
             [
              0,
              "#0d0887"
             ],
             [
              0.1111111111111111,
              "#46039f"
             ],
             [
              0.2222222222222222,
              "#7201a8"
             ],
             [
              0.3333333333333333,
              "#9c179e"
             ],
             [
              0.4444444444444444,
              "#bd3786"
             ],
             [
              0.5555555555555556,
              "#d8576b"
             ],
             [
              0.6666666666666666,
              "#ed7953"
             ],
             [
              0.7777777777777778,
              "#fb9f3a"
             ],
             [
              0.8888888888888888,
              "#fdca26"
             ],
             [
              1,
              "#f0f921"
             ]
            ],
            "type": "histogram2dcontour"
           }
          ],
          "mesh3d": [
           {
            "colorbar": {
             "outlinewidth": 0,
             "ticks": ""
            },
            "type": "mesh3d"
           }
          ],
          "parcoords": [
           {
            "line": {
             "colorbar": {
              "outlinewidth": 0,
              "ticks": ""
             }
            },
            "type": "parcoords"
           }
          ],
          "pie": [
           {
            "automargin": true,
            "type": "pie"
           }
          ],
          "scatter": [
           {
            "fillpattern": {
             "fillmode": "overlay",
             "size": 10,
             "solidity": 0.2
            },
            "type": "scatter"
           }
          ],
          "scatter3d": [
           {
            "line": {
             "colorbar": {
              "outlinewidth": 0,
              "ticks": ""
             }
            },
            "marker": {
             "colorbar": {
              "outlinewidth": 0,
              "ticks": ""
             }
            },
            "type": "scatter3d"
           }
          ],
          "scattercarpet": [
           {
            "marker": {
             "colorbar": {
              "outlinewidth": 0,
              "ticks": ""
             }
            },
            "type": "scattercarpet"
           }
          ],
          "scattergeo": [
           {
            "marker": {
             "colorbar": {
              "outlinewidth": 0,
              "ticks": ""
             }
            },
            "type": "scattergeo"
           }
          ],
          "scattergl": [
           {
            "marker": {
             "colorbar": {
              "outlinewidth": 0,
              "ticks": ""
             }
            },
            "type": "scattergl"
           }
          ],
          "scattermap": [
           {
            "marker": {
             "colorbar": {
              "outlinewidth": 0,
              "ticks": ""
             }
            },
            "type": "scattermap"
           }
          ],
          "scattermapbox": [
           {
            "marker": {
             "colorbar": {
              "outlinewidth": 0,
              "ticks": ""
             }
            },
            "type": "scattermapbox"
           }
          ],
          "scatterpolar": [
           {
            "marker": {
             "colorbar": {
              "outlinewidth": 0,
              "ticks": ""
             }
            },
            "type": "scatterpolar"
           }
          ],
          "scatterpolargl": [
           {
            "marker": {
             "colorbar": {
              "outlinewidth": 0,
              "ticks": ""
             }
            },
            "type": "scatterpolargl"
           }
          ],
          "scatterternary": [
           {
            "marker": {
             "colorbar": {
              "outlinewidth": 0,
              "ticks": ""
             }
            },
            "type": "scatterternary"
           }
          ],
          "surface": [
           {
            "colorbar": {
             "outlinewidth": 0,
             "ticks": ""
            },
            "colorscale": [
             [
              0,
              "#0d0887"
             ],
             [
              0.1111111111111111,
              "#46039f"
             ],
             [
              0.2222222222222222,
              "#7201a8"
             ],
             [
              0.3333333333333333,
              "#9c179e"
             ],
             [
              0.4444444444444444,
              "#bd3786"
             ],
             [
              0.5555555555555556,
              "#d8576b"
             ],
             [
              0.6666666666666666,
              "#ed7953"
             ],
             [
              0.7777777777777778,
              "#fb9f3a"
             ],
             [
              0.8888888888888888,
              "#fdca26"
             ],
             [
              1,
              "#f0f921"
             ]
            ],
            "type": "surface"
           }
          ],
          "table": [
           {
            "cells": {
             "fill": {
              "color": "#EBF0F8"
             },
             "line": {
              "color": "white"
             }
            },
            "header": {
             "fill": {
              "color": "#C8D4E3"
             },
             "line": {
              "color": "white"
             }
            },
            "type": "table"
           }
          ]
         },
         "layout": {
          "annotationdefaults": {
           "arrowcolor": "#2a3f5f",
           "arrowhead": 0,
           "arrowwidth": 1
          },
          "autotypenumbers": "strict",
          "coloraxis": {
           "colorbar": {
            "outlinewidth": 0,
            "ticks": ""
           }
          },
          "colorscale": {
           "diverging": [
            [
             0,
             "#8e0152"
            ],
            [
             0.1,
             "#c51b7d"
            ],
            [
             0.2,
             "#de77ae"
            ],
            [
             0.3,
             "#f1b6da"
            ],
            [
             0.4,
             "#fde0ef"
            ],
            [
             0.5,
             "#f7f7f7"
            ],
            [
             0.6,
             "#e6f5d0"
            ],
            [
             0.7,
             "#b8e186"
            ],
            [
             0.8,
             "#7fbc41"
            ],
            [
             0.9,
             "#4d9221"
            ],
            [
             1,
             "#276419"
            ]
           ],
           "sequential": [
            [
             0,
             "#0d0887"
            ],
            [
             0.1111111111111111,
             "#46039f"
            ],
            [
             0.2222222222222222,
             "#7201a8"
            ],
            [
             0.3333333333333333,
             "#9c179e"
            ],
            [
             0.4444444444444444,
             "#bd3786"
            ],
            [
             0.5555555555555556,
             "#d8576b"
            ],
            [
             0.6666666666666666,
             "#ed7953"
            ],
            [
             0.7777777777777778,
             "#fb9f3a"
            ],
            [
             0.8888888888888888,
             "#fdca26"
            ],
            [
             1,
             "#f0f921"
            ]
           ],
           "sequentialminus": [
            [
             0,
             "#0d0887"
            ],
            [
             0.1111111111111111,
             "#46039f"
            ],
            [
             0.2222222222222222,
             "#7201a8"
            ],
            [
             0.3333333333333333,
             "#9c179e"
            ],
            [
             0.4444444444444444,
             "#bd3786"
            ],
            [
             0.5555555555555556,
             "#d8576b"
            ],
            [
             0.6666666666666666,
             "#ed7953"
            ],
            [
             0.7777777777777778,
             "#fb9f3a"
            ],
            [
             0.8888888888888888,
             "#fdca26"
            ],
            [
             1,
             "#f0f921"
            ]
           ]
          },
          "colorway": [
           "#636efa",
           "#EF553B",
           "#00cc96",
           "#ab63fa",
           "#FFA15A",
           "#19d3f3",
           "#FF6692",
           "#B6E880",
           "#FF97FF",
           "#FECB52"
          ],
          "font": {
           "color": "#2a3f5f"
          },
          "geo": {
           "bgcolor": "white",
           "lakecolor": "white",
           "landcolor": "#E5ECF6",
           "showlakes": true,
           "showland": true,
           "subunitcolor": "white"
          },
          "hoverlabel": {
           "align": "left"
          },
          "hovermode": "closest",
          "mapbox": {
           "style": "light"
          },
          "paper_bgcolor": "white",
          "plot_bgcolor": "#E5ECF6",
          "polar": {
           "angularaxis": {
            "gridcolor": "white",
            "linecolor": "white",
            "ticks": ""
           },
           "bgcolor": "#E5ECF6",
           "radialaxis": {
            "gridcolor": "white",
            "linecolor": "white",
            "ticks": ""
           }
          },
          "scene": {
           "xaxis": {
            "backgroundcolor": "#E5ECF6",
            "gridcolor": "white",
            "gridwidth": 2,
            "linecolor": "white",
            "showbackground": true,
            "ticks": "",
            "zerolinecolor": "white"
           },
           "yaxis": {
            "backgroundcolor": "#E5ECF6",
            "gridcolor": "white",
            "gridwidth": 2,
            "linecolor": "white",
            "showbackground": true,
            "ticks": "",
            "zerolinecolor": "white"
           },
           "zaxis": {
            "backgroundcolor": "#E5ECF6",
            "gridcolor": "white",
            "gridwidth": 2,
            "linecolor": "white",
            "showbackground": true,
            "ticks": "",
            "zerolinecolor": "white"
           }
          },
          "shapedefaults": {
           "line": {
            "color": "#2a3f5f"
           }
          },
          "ternary": {
           "aaxis": {
            "gridcolor": "white",
            "linecolor": "white",
            "ticks": ""
           },
           "baxis": {
            "gridcolor": "white",
            "linecolor": "white",
            "ticks": ""
           },
           "bgcolor": "#E5ECF6",
           "caxis": {
            "gridcolor": "white",
            "linecolor": "white",
            "ticks": ""
           }
          },
          "title": {
           "x": 0.05
          },
          "xaxis": {
           "automargin": true,
           "gridcolor": "white",
           "linecolor": "white",
           "ticks": "",
           "title": {
            "standoff": 15
           },
           "zerolinecolor": "white",
           "zerolinewidth": 2
          },
          "yaxis": {
           "automargin": true,
           "gridcolor": "white",
           "linecolor": "white",
           "ticks": "",
           "title": {
            "standoff": 15
           },
           "zerolinecolor": "white",
           "zerolinewidth": 2
          }
         }
        },
        "xaxis": {
         "anchor": "y",
         "domain": [
          0,
          1
         ],
         "title": {
          "text": "predictions2"
         }
        },
        "yaxis": {
         "anchor": "x",
         "domain": [
          0,
          1
         ],
         "title": {
          "text": "residuals2"
         }
        }
       }
      },
      "image/png": "[encoded data removed]"
     },
     "metadata": {},
     "output_type": "display_data"
    }
   ],
   "source": [
    "px.scatter(df,x=\"predictions2\",y=\"residuals2\")\n",
    "\n",
    "#<xml xmlns=\"https://developers.google.com/blockly/xml\"><variables><variable id=\"k#w4n=KvP~*sLy*OW|Jl\">px</variable><variable id=\"FUXr7i7@?fN1xCAh/=Fn\">df</variable></variables><block type=\"varDoMethod\" id=\"O07?sQIdula@ap]/9Ogq\" x=\"0\" y=\"0\"><mutation items=\"3\"></mutation><field name=\"VAR\" id=\"k#w4n=KvP~*sLy*OW|Jl\">px</field><field name=\"MEMBER\">scatter</field><data>px:scatter</data><value name=\"ADD0\"><block type=\"variables_get\" id=\"UE)!btph,4mdjsf[F37|\"><field name=\"VAR\" id=\"FUXr7i7@?fN1xCAh/=Fn\">df</field></block></value><value name=\"ADD1\"><block type=\"dummyOutputCodeBlock\" id=\"~L)yq!Jze#v9R[^p;2{O\"><field name=\"CODE\">x=\"predictions2\"</field></block></value><value name=\"ADD2\"><block type=\"dummyOutputCodeBlock\" id=\"yu5^$n1zXY3)#RcRx:~;\"><field name=\"CODE\">y=\"residuals2\"</field></block></value></block></xml>"
   ]
  },
  {
   "cell_type": "markdown",
   "metadata": {},
   "source": [
    "This is a pretty good plot.\n",
    "Most of the residuals are close to zero, and what residuals aren't are fairly evenly spread.\n",
    "We want to see an evenly spaced band above and below 0 as we scan from left to right, and we do.\n",
    "\n",
    "With this new model, calculate $r^2$ by copying the blocks above and making appropriate adjustments:"
   ]
  },
  {
   "cell_type": "code",
   "execution_count": 171,
   "metadata": {
    "user_blocks": [
     "varDoMethod",
     "indexer",
     "lists_create_with",
     "text",
     "indexer",
     "lists_create_with",
     "text"
    ],
    "user_blocks_xml": "<xml xmlns=\"https://developers.google.com/blockly/xml\"><variables><variable id=\"F]q147x/*m|PMfPQU-lZ\">lm</variable><variable id=\"FUXr7i7@?fN1xCAh/=Fn\">df</variable></variables><block type=\"varDoMethod\" id=\"W6(0}aPsJ;vA9C3A!:G@\" x=\"18\" y=\"91\"><mutation items=\"2\"></mutation><field name=\"VAR\" id=\"F]q147x/*m|PMfPQU-lZ\">lm</field><field name=\"MEMBER\">score</field><data>lm:score</data><value name=\"ADD0\"><block type=\"indexer\" id=\".|%fa!U;=I@;!6$?B7Id\"><field name=\"VAR\" id=\"FUXr7i7@?fN1xCAh/=Fn\">df</field><value name=\"INDEX\"><block type=\"lists_create_with\" id=\"o5szXy4*HmKGA;-.~H?H\"><mutation items=\"1\"></mutation><value name=\"ADD0\"><block type=\"text\" id=\"{*5MFGJL4(x-JLsuD9qv\"><field name=\"TEXT\">GGH</field></block></value></block></value></block></value><value name=\"ADD1\"><block type=\"indexer\" id=\"o.R`*;zvaP%^K2/_t`6*\"><field name=\"VAR\" id=\"FUXr7i7@?fN1xCAh/=Fn\">df</field><value name=\"INDEX\"><block type=\"lists_create_with\" id=\"[WAkSKWMcU+j3zS)uzVG\"><mutation items=\"1\"></mutation><value name=\"ADD0\"><block type=\"text\" id=\"w0w/T-Wh/df/waYll,rv\"><field name=\"TEXT\">Volume</field></block></value></block></value></block></value></block></xml>",
    "user_code_from_blocks": "lm.score(df[['GGH']],df[['Volume']])\n"
   },
   "outputs": [
    {
     "data": {
      "text/plain": [
       "0.9888672544444991"
      ]
     },
     "execution_count": 171,
     "metadata": {},
     "output_type": "execute_result"
    }
   ],
   "source": [
    "lm.score(df[['GGH']],df[['Volume']])\n",
    "\n",
    "#<xml xmlns=\"https://developers.google.com/blockly/xml\"><variables><variable id=\"F]q147x/*m|PMfPQU-lZ\">lm</variable><variable id=\"FUXr7i7@?fN1xCAh/=Fn\">df</variable></variables><block type=\"varDoMethod\" id=\"W6(0}aPsJ;vA9C3A!:G@\" x=\"18\" y=\"91\"><mutation items=\"2\"></mutation><field name=\"VAR\" id=\"F]q147x/*m|PMfPQU-lZ\">lm</field><field name=\"MEMBER\">score</field><data>lm:score</data><value name=\"ADD0\"><block type=\"indexer\" id=\".|%fa!U;=I@;!6$?B7Id\"><field name=\"VAR\" id=\"FUXr7i7@?fN1xCAh/=Fn\">df</field><value name=\"INDEX\"><block type=\"lists_create_with\" id=\"o5szXy4*HmKGA;-.~H?H\"><mutation items=\"1\"></mutation><value name=\"ADD0\"><block type=\"text\" id=\"{*5MFGJL4(x-JLsuD9qv\"><field name=\"TEXT\">GGH</field></block></value></block></value></block></value><value name=\"ADD1\"><block type=\"indexer\" id=\"o.R`*;zvaP%^K2/_t`6*\"><field name=\"VAR\" id=\"FUXr7i7@?fN1xCAh/=Fn\">df</field><value name=\"INDEX\"><block type=\"lists_create_with\" id=\"[WAkSKWMcU+j3zS)uzVG\"><mutation items=\"1\"></mutation><value name=\"ADD0\"><block type=\"text\" id=\"w0w/T-Wh/df/waYll,rv\"><field name=\"TEXT\">Volume</field></block></value></block></value></block></value></block></xml>"
   ]
  },
  {
   "cell_type": "markdown",
   "metadata": {},
   "source": [
    "## Check your understanding\n",
    "\n",
    "**Hover to see the correct answer.**"
   ]
  },
  {
   "cell_type": "markdown",
   "metadata": {},
   "source": [
    "1.  What is the primary purpose of multiple regression models?\n",
    "-  To determine the causal relationship between variables.\n",
    "-  To analyze data with a categorical response variable.\n",
    "-  <div><div title=\"Correct answer\"> To predict a continuous response variable using multiple predictors and identify influential predictors.</div></div>\n",
    "-  To visualize data in a 3D scatterplot.\n",
    "\n",
    "2.  In the theoretical main effects multiple regression model $BW = \\beta_0 + \\beta_1 MA + \\beta_2 MW + \\beta_3 MH + \\beta_4 GP+ \\epsilon$, what does $\\beta_0$ represent?\n",
    "-  The effect of mother's age on birth weight.\n",
    "-  <div><div title=\"Correct answer\"> The expected birth weight when all predictor variables are zero.</div></div>\n",
    "-  The random error term.\n",
    "-  The variance of the birth weight.\n",
    "\n",
    "3.  What does it mean if an interaction effect is significant in a multiple regression model?\n",
    "-  The effects of the variables involved are additive.\n",
    "-  <div><div title=\"Correct answer\"> The effect of one predictor variable on the response depends on the level of another predictor variable.</div></div>\n",
    "-  All main effects are also significant.\n",
    "-  The model is overfitted.\n",
    "\n",
    "4.  Based on the \"Feature Selection\" table, which predictor variable has a statistically significant impact on baby birth weight (using a p-value threshold of 0.05)?\n",
    "\n",
    "    | Coefficients | Estimate | Std. Error | p-value |\n",
    "    |--------------|----------|------------|---------|\n",
    "    | Intercept    | 36.69    | 5.97       | 1.44e-6 |\n",
    "    | MA           | 0.36     | 1.00       | 0.7197  |\n",
    "    | MW           | 3.02     | 0.85       | 0.0014  |\n",
    "    | MH           | -0.02    | 0.01       | 0.1792  |\n",
    "    | GP           | -0.81    | 0.66       | 0.2311  |\n",
    "-  MA (mother's age)\n",
    "-  <div><div title=\"Correct answer\"> MW (mother's weight)</div></div>\n",
    "-  MH (mother's height)\n",
    "-  GP (gestation period)\n",
    "\n",
    "5.  Which of the following statements about multicollinearity is true?\n",
    "-  It occurs when two variables have a weak correlation.\n",
    "-  It helps in obtaining unique solutions for OLS parameter estimates.\n",
    "-  <div><div title=\"Correct answer\"> It occurs when two or more independent variables are highly linearly related, making parameter estimates unreliable.</div></div>\n",
    "-  It is not a concern in multiple linear regression.\n",
    "\n",
    "6.  In the \"Categorical Variables\" section, how are categorical variables like \"mother's activity level\" incorporated into a multiple regression model?\n",
    "-  By assigning them numerical ranks (e.g., low=1, moderate=2, high=3).\n",
    "-  <div><div title=\"Correct answer\"> By creating dummy variables, where a 1 indicates the presence of a level and a 0 indicates its absence.</div></div>\n",
    "-  By treating them as continuous variables and ignoring their categorical nature.\n",
    "-  They cannot be directly used in multiple linear regression models.\n",
    "\n",
    "7.  After fitting the initial `lm` model with `Girth` and `Height` to predict `Volume`, what did the scatterplot of `predictions1` vs. `residuals1` indicate?\n",
    "-  The residuals were randomly scattered around zero, indicating a good fit.\n",
    "-  The residuals showed a fan shape, indicating non-constant variance.\n",
    "-  <div><div title=\"Correct answer\"> The residuals formed a \"U\" shape, suggesting that a quadratic term or interaction might be missing from the model.</div></div>\n",
    "-  The residuals were all positive, indicating an underestimation by the model.\n",
    "\n",
    "8.  In the \"Modeling 2\" section, a new variable `GGH` was created as `Girth * Girth * Height`. Why was this specific interaction chosen?\n",
    "-  Because it was the only possible two-way interaction.\n",
    "-  <div><div title=\"Correct answer\"> Because the mathematical formula for volume ($V = \\pi r^2 h$) suggested a relationship involving the square of the radius (related to Girth) and Height.</div></div>\n",
    "-  To intentionally create multicollinearity in the model.\n",
    "-  To simplify the model by reducing the number of predictors."
   ]
  },
  {
   "cell_type": "markdown",
   "metadata": {},
   "source": [
    "<!--  -->"
   ]
  }
 ],
 "metadata": {
  "kernelspec": {
   "display_name": "Python 3 (ipykernel)",
   "language": "python",
   "name": "python3"
  },
  "language_info": {
   "codemirror_mode": {
    "name": "ipython",
    "version": 3
   },
   "file_extension": ".py",
   "mimetype": "text/x-python",
   "name": "python",
   "nbconvert_exporter": "python",
   "pygments_lexer": "ipython3",
   "version": "3.12.6"
  }
 },
 "nbformat": 4,
 "nbformat_minor": 4
}
