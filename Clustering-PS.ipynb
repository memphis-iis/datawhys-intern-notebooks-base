{
 "cells": [
  {
   "cell_type": "markdown",
   "metadata": {
    "deletable": false,
    "editable": false
   },
   "source": [
    "Copyright 2020 Andrew M. Olney, Dale Bowman and made available under [CC BY-SA](https://creativecommons.org/licenses/by-sa/4.0) for text and [Apache-2.0](http://www.apache.org/licenses/LICENSE-2.0) for code."
   ]
  },
  {
   "cell_type": "markdown",
   "metadata": {},
   "source": [
    "# Clustering: Problem solving"
   ]
  },
  {
   "cell_type": "markdown",
   "metadata": {},
   "source": [
    "In this session, you will look at at dataset of teeth from different animals.\n",
    "\n",
    "Each row contains the name of an animal with measurements of these variables for teeth:\n",
    "\n",
    "| Variable | Type  | Description                    |\n",
    "|:----------|:-------|:--------------------------------|\n",
    "| Name     | Nominal | the name of the animal         |\n",
    "| I        | Ratio | the number of top incisors     |\n",
    "| i        | Ratio | the number of bottom incisors  |\n",
    "| C        | Ratio | the number of top canines      |\n",
    "| c        | Ratio | the number of bottom canines   |\n",
    "| P        | Ratio | the number of top premolars    |\n",
    "| p        | Ratio | the number of bottom premolars |\n",
    "| M        | Ratio | the number of top molars       |\n",
    "| m        | Ratio | the number of bottom molars    |\n",
    "\n",
    "from *Dentition of Mammals*, Hartigan (1975), p 170.\n",
    "\n",
    "First, you will cluster the data using hierarchical clustering (a dendrogram), followed by k-means clusters with different sizes of *g*."
   ]
  },
  {
   "cell_type": "markdown",
   "metadata": {},
   "source": [
    "## Hierarchical clustering"
   ]
  },
  {
   "cell_type": "markdown",
   "metadata": {},
   "source": [
    "We need to load the data into a dataframe, so start with importing `pandas`."
   ]
  },
  {
   "cell_type": "code",
   "execution_count": 2,
   "metadata": {
    "user_blocks": [
     "importAs"
    ],
    "user_blocks_xml": "<xml xmlns=\"https://developers.google.com/blockly/xml\"><variables><variable id=\"mC[uX4U|oLK=BVZP#Kfx\">pd</variable></variables><block type=\"importAs\" id=\"wK54u3LS3m+Ce1wKHTHo\" x=\"46\" y=\"69\"><field name=\"libraryName\">pandas</field><field name=\"VAR\" id=\"mC[uX4U|oLK=BVZP#Kfx\">pd</field></block></xml>",
    "user_code_from_blocks": "import pandas as pd\n"
   },
   "outputs": [],
   "source": []
  },
  {
   "cell_type": "markdown",
   "metadata": {},
   "source": [
    "Now load the data in `\"datasets/teeth.csv\"` into a dataframe, remembering that `Name` is an ID column."
   ]
  },
  {
   "cell_type": "code",
   "execution_count": 4,
   "metadata": {
    "user_blocks": [
     "variables_set",
     "varDoMethod",
     "text",
     "dummyOutputCodeBlock",
     "variables_get"
    ],
    "user_blocks_xml": "<xml xmlns=\"https://developers.google.com/blockly/xml\"><variables><variable id=\"w0MtU$GK$_0i(vCQ@}s{\">dataframe</variable><variable id=\"mC[uX4U|oLK=BVZP#Kfx\">pd</variable></variables><block type=\"variables_set\" id=\"KuM+Lztpz,t0b!J7}N|,\" x=\"50\" y=\"208\"><field name=\"VAR\" id=\"w0MtU$GK$_0i(vCQ@}s{\">dataframe</field><value name=\"VALUE\"><block type=\"varDoMethod\" id=\":xzb]Ha/C/-.*NCGILgi\"><mutation items=\"2\"></mutation><field name=\"VAR\" id=\"mC[uX4U|oLK=BVZP#Kfx\">pd</field><field name=\"MEMBER\">read_csv</field><data>pd:read_csv</data><value name=\"ADD0\"><block type=\"text\" id=\"q6UO9z*=pZ(n5Nnu0ihn\"><field name=\"TEXT\">datasets/teeth.csv</field></block></value><value name=\"ADD1\"><block type=\"dummyOutputCodeBlock\" id=\"RsfI_:+.WWNPE?H5U3bO\"><field name=\"CODE\">index_col=\"Name\"</field></block></value></block></value></block><block type=\"variables_get\" id=\"sZ#pek-1Uu0@L62P^GQW\" x=\"8\" y=\"296\"><field name=\"VAR\" id=\"w0MtU$GK$_0i(vCQ@}s{\">dataframe</field></block></xml>",
    "user_code_from_blocks": "dataframe = pd.read_csv('datasets/teeth.csv',index_col=\"Name\")\n\ndataframe\n"
   },
   "outputs": [],
   "source": []
  },
  {
   "cell_type": "markdown",
   "metadata": {},
   "source": [
    "Now create a dendrogram using this dataframe.\n",
    "\n",
    "Start by importing `plotly.figure_factory` and from importing `scipy.cluster.hierarchy`."
   ]
  },
  {
   "cell_type": "code",
   "execution_count": 6,
   "metadata": {
    "user_blocks": [
     "importAs",
     "importFrom"
    ],
    "user_blocks_xml": "<xml xmlns=\"https://developers.google.com/blockly/xml\"><variables><variable id=\"%;`~.nPXEejOY1;C=99]\">ff</variable><variable id=\"ILvYb;i4@WP!P5Jwp){@\">linkage</variable></variables><block type=\"importAs\" id=\"ik?}Kh}Yq-Oj[NMa2UQ=\" x=\"16\" y=\"10\"><field name=\"libraryName\">plotly.figure_factory</field><field name=\"VAR\" id=\"%;`~.nPXEejOY1;C=99]\">ff</field><next><block type=\"importFrom\" id=\",=q^gd8SM.^z;BY+jxcJ\"><field name=\"libraryName\">scipy.cluster.hierarchy</field><field name=\"VAR\" id=\"ILvYb;i4@WP!P5Jwp){@\">linkage</field></block></next></block></xml>",
    "user_code_from_blocks": "import plotly.figure_factory as ff\nfrom scipy.cluster.hierarchy import linkage\n"
   },
   "outputs": [],
   "source": []
  },
  {
   "cell_type": "markdown",
   "metadata": {},
   "source": [
    "Now create a dendrogram using a `linkagfun` like before.  "
   ]
  },
  {
   "cell_type": "code",
   "execution_count": 8,
   "metadata": {
    "user_blocks": [
     "varDoMethod",
     "variables_get",
     "dummyOutputCodeBlock",
     "dummyOutputCodeBlock"
    ],
    "user_blocks_xml": "<xml xmlns=\"https://developers.google.com/blockly/xml\"><variables><variable id=\"%;`~.nPXEejOY1;C=99]\">ff</variable><variable id=\"w0MtU$GK$_0i(vCQ@}s{\">dataframe</variable></variables><block type=\"varDoMethod\" id=\"+O_0iEpbpse+?QPja?B)\" x=\"8\" y=\"176\"><mutation items=\"3\"></mutation><field name=\"VAR\" id=\"%;`~.nPXEejOY1;C=99]\">ff</field><field name=\"MEMBER\">create_dendrogram</field><data>ff:create_dendrogram</data><value name=\"ADD0\"><block type=\"variables_get\" id=\"{KzeCp3;G1:ZheyGIA.A\"><field name=\"VAR\" id=\"w0MtU$GK$_0i(vCQ@}s{\">dataframe</field></block></value><value name=\"ADD1\"><block type=\"dummyOutputCodeBlock\" id=\"m=Jnsk{m#k?|oDDuIZau\"><field name=\"CODE\">labels=dataframe.index</field></block></value><value name=\"ADD2\"><block type=\"dummyOutputCodeBlock\" id=\"9:Ae#!2koBrVX~m34|_l\"><field name=\"CODE\">linkagefun=lambda x: linkage(dataframe, 'single', metric='euclidean')</field></block></value></block></xml>",
    "user_code_from_blocks": "ff.create_dendrogram(dataframe,labels=dataframe.index,linkagefun=lambda x: linkage(dataframe, 'single', metric='euclidean'))\n"
   },
   "outputs": [],
   "source": []
  },
  {
   "cell_type": "markdown",
   "metadata": {},
   "source": [
    "If it's hard to read because of the size, try using the plot interactive tools that appear in the top right of the plot when you hover over it."
   ]
  },
  {
   "cell_type": "markdown",
   "metadata": {},
   "source": [
    "-----------------\n",
    "**QUESTION:**\n",
    "\n",
    "At what point on the y-axis (between 0 and 7) would you draw a horizontal line to get the best clusters?\n",
    "Why wouldn't you draw it higher or lower?\n",
    "How many clusters would this give you?"
   ]
  },
  {
   "cell_type": "markdown",
   "metadata": {},
   "source": [
    "**ANSWER: (click here to edit)**\n",
    "\n\n<hr>"
   ]
  },
  {
   "cell_type": "markdown",
   "metadata": {},
   "source": [
    "## K-means\n",
    "\n",
    "Do K-means with this same data, using the number of clusters you identified above using the dendrogram."
   ]
  },
  {
   "cell_type": "markdown",
   "metadata": {},
   "source": [
    "First import `sklearn.cluster`."
   ]
  },
  {
   "cell_type": "code",
   "execution_count": 10,
   "metadata": {
    "user_blocks": [
     "importAs"
    ],
    "user_blocks_xml": "<xml xmlns=\"https://developers.google.com/blockly/xml\"><variables><variable id=\"=4%?D}KQzh(;hT$}4r1B\">cluster</variable></variables><block type=\"importAs\" id=\"V!Slhkt7E`ZS,(q7,q?4\" x=\"16\" y=\"10\"><field name=\"libraryName\">sklearn.cluster</field><field name=\"VAR\" id=\"=4%?D}KQzh(;hT$}4r1B\">cluster</field></block></xml>",
    "user_code_from_blocks": "import sklearn.cluster as cluster\n"
   },
   "outputs": [],
   "source": []
  },
  {
   "cell_type": "markdown",
   "metadata": {},
   "source": [
    "Create a `KMeans` with your number of clusters and store it in a variable."
   ]
  },
  {
   "cell_type": "code",
   "execution_count": 12,
   "metadata": {
    "user_blocks": [
     "variables_set",
     "varCreateObject",
     "dummyOutputCodeBlock"
    ],
    "user_blocks_xml": "<xml xmlns=\"https://developers.google.com/blockly/xml\"><variables><variable id=\"8$7LU#7XT!kIhX2_B{h!\">kmeans</variable><variable id=\"=4%?D}KQzh(;hT$}4r1B\">cluster</variable></variables><block type=\"variables_set\" id=\"?4-jgMaj`8xuGn2JXC|K\" x=\"-51\" y=\"167\"><field name=\"VAR\" id=\"8$7LU#7XT!kIhX2_B{h!\">kmeans</field><value name=\"VALUE\"><block type=\"varCreateObject\" id=\"2zBw%H,SCeuvo;eWIqNE\"><mutation items=\"1\"></mutation><field name=\"VAR\" id=\"=4%?D}KQzh(;hT$}4r1B\">cluster</field><field name=\"MEMBER\">KMeans</field><data>cluster:KMeans</data><value name=\"ADD0\"><block type=\"dummyOutputCodeBlock\" id=\"~P+jUJFNkLea!lJvEq{O\"><field name=\"CODE\">n_clusters=6</field></block></value></block></value></block></xml>",
    "user_code_from_blocks": "kmeans = cluster.KMeans(n_clusters=6)\n"
   },
   "outputs": [],
   "source": []
  },
  {
   "cell_type": "markdown",
   "metadata": {},
   "source": [
    "Using `fit_predict` get clusters and display them."
   ]
  },
  {
   "cell_type": "code",
   "execution_count": 14,
   "metadata": {
    "user_blocks": [
     "variables_set",
     "varDoMethod",
     "variables_get",
     "variables_get"
    ],
    "user_blocks_xml": "<xml xmlns=\"https://developers.google.com/blockly/xml\"><variables><variable id=\"%tOoU9%wt$a7gwK!}w6I\">kmeansPredictions</variable><variable id=\"8$7LU#7XT!kIhX2_B{h!\">kmeans</variable><variable id=\"w0MtU$GK$_0i(vCQ@}s{\">dataframe</variable></variables><block type=\"variables_set\" id=\"eW`j#vgy%L}_2,!aFrk$\" x=\"-14\" y=\"150\"><field name=\"VAR\" id=\"%tOoU9%wt$a7gwK!}w6I\">kmeansPredictions</field><value name=\"VALUE\"><block type=\"varDoMethod\" id=\"f@W.Y*=7*XvrYClk$b6^\"><mutation items=\"1\"></mutation><field name=\"VAR\" id=\"8$7LU#7XT!kIhX2_B{h!\">kmeans</field><field name=\"MEMBER\">fit_predict</field><data>kmeans:fit_predict</data><value name=\"ADD0\"><block type=\"variables_get\" id=\"+D|]0Am8;GATjh#ckRhz\"><field name=\"VAR\" id=\"w0MtU$GK$_0i(vCQ@}s{\">dataframe</field></block></value></block></value></block><block type=\"variables_get\" id=\"05l$^=D]KUe2C:Rd]8Lr\" x=\"-20\" y=\"233\"><field name=\"VAR\" id=\"%tOoU9%wt$a7gwK!}w6I\">kmeansPredictions</field></block></xml>",
    "user_code_from_blocks": "kmeansPredictions = kmeans.fit_predict(dataframe)\n\nkmeansPredictions\n"
   },
   "outputs": [],
   "source": []
  },
  {
   "cell_type": "markdown",
   "metadata": {},
   "source": [
    "Add these predictions as a new column, `cluster` in your dataframe, converting them to `str` type for plotting:"
   ]
  },
  {
   "cell_type": "code",
   "execution_count": 27,
   "metadata": {
    "user_blocks": [
     "varDoMethod",
     "valueOutputCodeBlock",
     "varDoMethod",
     "dummyOutputCodeBlock",
     "variables_get"
    ],
    "user_blocks_xml": "<xml xmlns=\"https://developers.google.com/blockly/xml\"><variables><variable id=\"w0MtU$GK$_0i(vCQ@}s{\">dataframe</variable><variable id=\"%tOoU9%wt$a7gwK!}w6I\">kmeansPredictions</variable></variables><block type=\"varDoMethod\" id=\"v+8hRH^+Pm[2z_D0y:/8\" x=\"28\" y=\"70\"><mutation items=\"1\"></mutation><field name=\"VAR\" id=\"w0MtU$GK$_0i(vCQ@}s{\">dataframe</field><field name=\"MEMBER\">assign</field><data>dataframe:assign</data><value name=\"ADD0\"><block type=\"valueOutputCodeBlock\" id=\"?A3fIujkSDtVqq+9Giq_\"><field name=\"CODE\">cluster=</field><value name=\"INPUT\"><block type=\"varDoMethod\" id=\"^G$n(gB1tSV7s$y`ZTex\"><mutation items=\"1\"></mutation><field name=\"VAR\" id=\"%tOoU9%wt$a7gwK!}w6I\">kmeansPredictions</field><field name=\"MEMBER\">astype</field><data>kmeansPredictions:astype</data><value name=\"ADD0\"><block type=\"dummyOutputCodeBlock\" id=\":--7H/U:ySsbwmv9bG9|\"><field name=\"CODE\">str</field></block></value></block></value></block></value></block><block type=\"variables_get\" id=\"kl*dsWU=Y?#A=Lqr9t`4\" x=\"17\" y=\"243\"><field name=\"VAR\" id=\"w0MtU$GK$_0i(vCQ@}s{\">dataframe</field></block></xml>",
    "user_code_from_blocks": "dataframe.assign(cluster= (kmeansPredictions.astype(str)))\n\ndataframe\n"
   },
   "outputs": [],
   "source": []
  },
  {
   "cell_type": "markdown",
   "metadata": {},
   "source": [
    "Take a look at your clusters with this trick to show the whole thing:\n",
    "\n",
    "- `print with dataframe do to_string using`"
   ]
  },
  {
   "cell_type": "code",
   "execution_count": 29,
   "metadata": {
    "user_blocks": [
     "text_print",
     "varDoMethod"
    ],
    "user_blocks_xml": "<xml xmlns=\"https://developers.google.com/blockly/xml\"><variables><variable id=\"w0MtU$GK$_0i(vCQ@}s{\">dataframe</variable></variables><block type=\"text_print\" id=\"bD+I+Zcqh}ln]Z$PkFg9\" x=\"35\" y=\"27\"><value name=\"TEXT\"><block type=\"varDoMethod\" id=\"%kFDvIpl1]#$XQQS!{mW\"><mutation items=\"1\"></mutation><field name=\"VAR\" id=\"w0MtU$GK$_0i(vCQ@}s{\">dataframe</field><field name=\"MEMBER\">to_string</field><data>dataframe:to_string</data></block></value></block></xml>",
    "user_code_from_blocks": "print(dataframe.to_string())\n"
   },
   "outputs": [],
   "source": []
  },
  {
   "cell_type": "markdown",
   "metadata": {},
   "source": [
    "-----------------\n",
    "**QUESTION:**\n",
    "\n",
    "For each one of your clusters, what kind of animal does the cluster correspond to?"
   ]
  },
  {
   "cell_type": "markdown",
   "metadata": {},
   "source": [
    "**ANSWER: (click here to edit)**\n",
    "\n\n<hr>"
   ]
  },
  {
   "cell_type": "markdown",
   "metadata": {},
   "source": [
    "### Scatterplots\n",
    "\n",
    "Make 3 scatterplots\n",
    "\n",
    "- I vs. P\n",
    "- I vs. M\n",
    "- P vs. M\n",
    "\n",
    "and color the categories in each one.\n",
    "This is necessary because our data has many dimensions, but our plots only have two dimensions.\n",
    "\n",
    "First, import `plotly.express`."
   ]
  },
  {
   "cell_type": "code",
   "execution_count": 31,
   "metadata": {
    "user_blocks": [
     "importAs"
    ],
    "user_blocks_xml": "<xml xmlns=\"https://developers.google.com/blockly/xml\"><variables><variable id=\"o]8d]RxO,Gcx(.ogOS#{\">px</variable></variables><block type=\"importAs\" id=\"[})$jZc$15Z?OmY2rm3M\" x=\"16\" y=\"10\"><field name=\"libraryName\">plotly.express</field><field name=\"VAR\" id=\"o]8d]RxO,Gcx(.ogOS#{\">px</field></block></xml>",
    "user_code_from_blocks": "import plotly.express as px\n"
   },
   "outputs": [],
   "source": []
  },
  {
   "cell_type": "markdown",
   "metadata": {},
   "source": [
    "Create the I vs P scatterplot, but remove `ols`."
   ]
  },
  {
   "cell_type": "code",
   "execution_count": 33,
   "metadata": {
    "user_blocks": [
     "varDoMethod",
     "variables_get",
     "dummyOutputCodeBlock",
     "dummyOutputCodeBlock",
     "dummyOutputCodeBlock"
    ],
    "user_blocks_xml": "<xml xmlns=\"https://developers.google.com/blockly/xml\"><variables><variable id=\"o]8d]RxO,Gcx(.ogOS#{\">px</variable><variable id=\"w0MtU$GK$_0i(vCQ@}s{\">dataframe</variable></variables><block type=\"varDoMethod\" id=\"Dn5fvKUj5b*)^9)1eTd8\" x=\"-72\" y=\"81\"><mutation items=\"4\"></mutation><field name=\"VAR\" id=\"o]8d]RxO,Gcx(.ogOS#{\">px</field><field name=\"MEMBER\">scatter</field><data>px:scatter</data><value name=\"ADD0\"><block type=\"variables_get\" id=\"j7;K-#L?vCt~imZ?=Oax\"><field name=\"VAR\" id=\"w0MtU$GK$_0i(vCQ@}s{\">dataframe</field></block></value><value name=\"ADD1\"><block type=\"dummyOutputCodeBlock\" id=\"Od4~8dz?HlhMIYS8s~gV\"><field name=\"CODE\">x = \"I\"</field></block></value><value name=\"ADD2\"><block type=\"dummyOutputCodeBlock\" id=\"pwXKi)V{FZ:PE[jU!H,r\"><field name=\"CODE\">y = \"P\"</field></block></value><value name=\"ADD3\"><block type=\"dummyOutputCodeBlock\" id=\"-O+U-Gyb3EVUUL/h0pO?\"><field name=\"CODE\">color = \"cluster\"</field></block></value></block></xml>",
    "user_code_from_blocks": "px.scatter(dataframe,x = \"I\",y = \"P\",color = \"cluster\")\n"
   },
   "outputs": [],
   "source": []
  },
  {
   "cell_type": "markdown",
   "metadata": {},
   "source": [
    "-----------------\n",
    "**QUESTION:**\n",
    "\n",
    "Mouse over each do to see what cluster it belongs to (it will be darker if there are many datapoints under it). \n",
    "Which clusters are well separated? \n",
    "Which are not?"
   ]
  },
  {
   "cell_type": "markdown",
   "metadata": {},
   "source": [
    "**ANSWER: (click here to edit)**\n",
    "\n\n<hr>"
   ]
  },
  {
   "cell_type": "markdown",
   "metadata": {},
   "source": [
    "Create the I vs M scatterplot."
   ]
  },
  {
   "cell_type": "code",
   "execution_count": 35,
   "metadata": {
    "user_blocks": [
     "varDoMethod",
     "variables_get",
     "dummyOutputCodeBlock",
     "dummyOutputCodeBlock",
     "dummyOutputCodeBlock"
    ],
    "user_blocks_xml": "<xml xmlns=\"https://developers.google.com/blockly/xml\"><variables><variable id=\"o]8d]RxO,Gcx(.ogOS#{\">px</variable><variable id=\"w0MtU$GK$_0i(vCQ@}s{\">dataframe</variable></variables><block type=\"varDoMethod\" id=\"Dn5fvKUj5b*)^9)1eTd8\" x=\"-72\" y=\"81\"><mutation items=\"4\"></mutation><field name=\"VAR\" id=\"o]8d]RxO,Gcx(.ogOS#{\">px</field><field name=\"MEMBER\">scatter</field><data>px:scatter</data><value name=\"ADD0\"><block type=\"variables_get\" id=\"j7;K-#L?vCt~imZ?=Oax\"><field name=\"VAR\" id=\"w0MtU$GK$_0i(vCQ@}s{\">dataframe</field></block></value><value name=\"ADD1\"><block type=\"dummyOutputCodeBlock\" id=\"Od4~8dz?HlhMIYS8s~gV\"><field name=\"CODE\">x = \"I\"</field></block></value><value name=\"ADD2\"><block type=\"dummyOutputCodeBlock\" id=\"pwXKi)V{FZ:PE[jU!H,r\"><field name=\"CODE\">y = \"M\"</field></block></value><value name=\"ADD3\"><block type=\"dummyOutputCodeBlock\" id=\"-O+U-Gyb3EVUUL/h0pO?\"><field name=\"CODE\">color = \"cluster\"</field></block></value></block></xml>",
    "user_code_from_blocks": "px.scatter(dataframe,x = \"I\",y = \"M\",color = \"cluster\")\n"
   },
   "outputs": [],
   "source": []
  },
  {
   "cell_type": "markdown",
   "metadata": {},
   "source": [
    "-----------------\n",
    "\n",
    "**QUESTION:**\n",
    "\n",
    "Mouse over each do to see what cluster it belongs to (it will be darker if there are many datapoints under it). \n",
    "Which clusters are well separated? \n",
    "Which are not?"
   ]
  },
  {
   "cell_type": "markdown",
   "metadata": {},
   "source": [
    "**ANSWER: (click here to edit)**\n",
    "\n\n<hr>"
   ]
  },
  {
   "cell_type": "markdown",
   "metadata": {},
   "source": [
    "Create the P vs M scatterplot."
   ]
  },
  {
   "cell_type": "code",
   "execution_count": 37,
   "metadata": {
    "user_blocks": [
     "varDoMethod",
     "variables_get",
     "dummyOutputCodeBlock",
     "dummyOutputCodeBlock",
     "dummyOutputCodeBlock"
    ],
    "user_blocks_xml": "<xml xmlns=\"https://developers.google.com/blockly/xml\"><variables><variable id=\"o]8d]RxO,Gcx(.ogOS#{\">px</variable><variable id=\"w0MtU$GK$_0i(vCQ@}s{\">dataframe</variable></variables><block type=\"varDoMethod\" id=\"Dn5fvKUj5b*)^9)1eTd8\" x=\"-72\" y=\"81\"><mutation items=\"4\"></mutation><field name=\"VAR\" id=\"o]8d]RxO,Gcx(.ogOS#{\">px</field><field name=\"MEMBER\">scatter</field><data>px:scatter</data><value name=\"ADD0\"><block type=\"variables_get\" id=\"j7;K-#L?vCt~imZ?=Oax\"><field name=\"VAR\" id=\"w0MtU$GK$_0i(vCQ@}s{\">dataframe</field></block></value><value name=\"ADD1\"><block type=\"dummyOutputCodeBlock\" id=\"Od4~8dz?HlhMIYS8s~gV\"><field name=\"CODE\">x = \"P\"</field></block></value><value name=\"ADD2\"><block type=\"dummyOutputCodeBlock\" id=\"pwXKi)V{FZ:PE[jU!H,r\"><field name=\"CODE\">y = \"M\"</field></block></value><value name=\"ADD3\"><block type=\"dummyOutputCodeBlock\" id=\"-O+U-Gyb3EVUUL/h0pO?\"><field name=\"CODE\">color = \"cluster\"</field></block></value></block></xml>",
    "user_code_from_blocks": "px.scatter(dataframe,x = \"P\",y = \"M\",color = \"cluster\")\n"
   },
   "outputs": [],
   "source": []
  },
  {
   "cell_type": "markdown",
   "metadata": {},
   "source": [
    "-----------------\n",
    "\n",
    "**QUESTION:**\n",
    "\n",
    "Mouse over each do to see what cluster it belongs to (it will be darker if there are many datapoints under it). \n",
    "Which clusters are well separated? \n",
    "Which are not?"
   ]
  },
  {
   "cell_type": "markdown",
   "metadata": {},
   "source": [
    "**ANSWER: (click here to edit)**\n",
    "\n\n<hr>"
   ]
  },
  {
   "cell_type": "markdown",
   "metadata": {},
   "source": [
    "### Summary\n",
    "\n",
    "Now consider all your plots and clusters."
   ]
  },
  {
   "cell_type": "markdown",
   "metadata": {},
   "source": [
    "-----------------\n",
    "**QUESTION:**\n",
    "\n",
    "Do you still think your number of clusters is the best? \n",
    "Why or why not?"
   ]
  },
  {
   "cell_type": "markdown",
   "metadata": {},
   "source": [
    "**ANSWER: (click here to edit)**\n",
    "\n\n<hr>"
   ]
  },
  {
   "cell_type": "markdown",
   "metadata": {},
   "source": [
    "**QUESTION:**\n",
    "\n",
    "If any of your scatterplot clusters were not well separated, does that concern you?"
   ]
  },
  {
   "cell_type": "markdown",
   "metadata": {},
   "source": [
    "**ANSWER: (click here to edit)**\n",
    "\n\n<hr>"
   ]
  },
  {
   "cell_type": "markdown",
   "metadata": {},
   "source": [
    "<!--  -->"
   ]
  }
 ],
 "metadata": {
  "kernelspec": {
   "display_name": "Python 3 (ipykernel)",
   "language": "python",
   "name": "python3"
  },
  "language_info": {
   "codemirror_mode": {
    "name": "ipython",
    "version": 3
   },
   "file_extension": ".py",
   "mimetype": "text/x-python",
   "name": "python",
   "nbconvert_exporter": "python",
   "pygments_lexer": "ipython3",
   "version": "3.12.6"
  }
 },
 "nbformat": 4,
 "nbformat_minor": 4
}
