{
 "cells": [
  {
   "cell_type": "markdown",
   "metadata": {
    "deletable": false,
    "editable": false
   },
   "source": [
    "Copyright 2020 Andrew M. Olney and made available under [CC BY-SA](https://creativecommons.org/licenses/by-sa/4.0) for text and [Apache-2.0](http://www.apache.org/licenses/LICENSE-2.0) for code.\n"
   ]
  },
  {
   "cell_type": "markdown",
   "metadata": {},
   "source": [
    "# Multiple linear regression: Problem solving\n",
    "\n",
    "In this session, you'll apply multiple linear regression to a new dataset, `ToothGrowth`, which has the following variables:\n",
    "\n",
    "| Variable | Type    | Description                |\n",
    "|----------|---------|:----------------------------|\n",
    "| len      | Ratio   | Tooth length               |\n",
    "| supp     | Nominal | Supplement type (VC or OJ) |\n",
    "| dose     | Ratio   | Dose in milligrams/day     |\n",
    "\n",
    "These data were collected in an experiment measuring the effect of vitamin C supplements (`supp`; either orange juice, `OJ` or ascorbic acid, `VC`) on tooth length (`len`) at three different doses (`dose`; 0.5, 1, and 2 mg/day) in guinea pigs.\n",
    "\n",
    "Our outcome variable that we'd like to predict is `len`\n",
    "\n",
    "**QUESTION:**\n",
    "\n",
    "What relationship to you expect between `dose` and `len`?"
   ]
  },
  {
   "cell_type": "markdown",
   "metadata": {},
   "source": [
    "**ANSWER: (click here to edit)**\n",
    "\n\n<hr>"
   ]
  },
  {
   "cell_type": "markdown",
   "metadata": {},
   "source": [
    "**QUESTION:**\n",
    "\n",
    "What relationship do you expect between `supp` and `len`?"
   ]
  },
  {
   "cell_type": "markdown",
   "metadata": {},
   "source": [
    "**ANSWER: (click here to edit)**\n",
    "\n\n<hr>"
   ]
  },
  {
   "cell_type": "markdown",
   "metadata": {},
   "source": [
    "## Load data\n",
    "\n",
    "Start with importing `pandas`."
   ]
  },
  {
   "cell_type": "code",
   "execution_count": 2,
   "metadata": {
    "user_blocks": [
     "importAs"
    ],
    "user_blocks_xml": "<xml xmlns=\"https://developers.google.com/blockly/xml\"><variables><variable id=\"Vd-20qkN(WN5nJAUj;?4\">pd</variable></variables><block type=\"importAs\" id=\"ji{aK+A5l`eBa?Q1/|Pf\" x=\"128\" y=\"319\"><field name=\"libraryName\">pandas</field><field name=\"VAR\" id=\"Vd-20qkN(WN5nJAUj;?4\">pd</field></block></xml>",
    "user_code_from_blocks": "import pandas as pd\n"
   },
   "outputs": [],
   "source": []
  },
  {
   "cell_type": "markdown",
   "metadata": {},
   "source": [
    "Load a dataframe with `\"datasets/toothgrowth.csv\"` and display it."
   ]
  },
  {
   "cell_type": "code",
   "execution_count": 4,
   "metadata": {
    "user_blocks": [
     "variables_set",
     "varDoMethod",
     "text",
     "variables_get"
    ],
    "user_blocks_xml": "<xml xmlns=\"https://developers.google.com/blockly/xml\"><variables><variable id=\"B5p-Xul6IZ.0%nd96oa%\">dataframe</variable><variable id=\"Vd-20qkN(WN5nJAUj;?4\">pd</variable></variables><block type=\"variables_set\" id=\"9aUm-oG6/!Z54ivA^qkm\" x=\"36\" y=\"169\"><field name=\"VAR\" id=\"B5p-Xul6IZ.0%nd96oa%\">dataframe</field><value name=\"VALUE\"><block type=\"varDoMethod\" id=\"g.yE$oK%3]$!k91|6U|I\"><mutation items=\"1\"></mutation><field name=\"VAR\" id=\"Vd-20qkN(WN5nJAUj;?4\">pd</field><field name=\"MEMBER\">read_csv</field><data>pd:read_csv</data><value name=\"ADD0\"><block type=\"text\" id=\"fBBU[Z}QCipaz#y=F$!p\"><field name=\"TEXT\">datasets/toothgrowth.csv</field></block></value></block></value></block><block type=\"variables_get\" id=\".kIRsPV4CnEtZh=5+Y3:\" x=\"8\" y=\"296\"><field name=\"VAR\" id=\"B5p-Xul6IZ.0%nd96oa%\">dataframe</field></block></xml>",
    "user_code_from_blocks": "dataframe = pd.read_csv('datasets/toothgrowth.csv')\n\ndataframe\n"
   },
   "outputs": [],
   "source": []
  },
  {
   "cell_type": "markdown",
   "metadata": {},
   "source": [
    "Before converting `supp` into a dummy variable, save it to a variable so you can put it back into the dataframe later."
   ]
  },
  {
   "cell_type": "code",
   "execution_count": 6,
   "metadata": {
    "user_blocks": [
     "variables_set",
     "indexer",
     "lists_create_with",
     "text",
     "variables_get"
    ],
    "user_blocks_xml": "<xml xmlns=\"https://developers.google.com/blockly/xml\"><variables><variable id=\"ZuppZy%mevG;P-:nHc5$\">supp</variable><variable id=\"B5p-Xul6IZ.0%nd96oa%\">dataframe</variable></variables><block type=\"variables_set\" id=\"n?M6{W!2xggQx@X7_00@\" x=\"0\" y=\"391\"><field name=\"VAR\" id=\"ZuppZy%mevG;P-:nHc5$\">supp</field><value name=\"VALUE\"><block type=\"indexer\" id=\"3_O9X7-U(%IcMj/dcLIo\"><field name=\"VAR\" id=\"B5p-Xul6IZ.0%nd96oa%\">dataframe</field><value name=\"INDEX\"><block type=\"lists_create_with\" id=\"?V*^3XN6]-U+o1C:Vzq$\"><mutation items=\"1\"></mutation><value name=\"ADD0\"><block type=\"text\" id=\"^a?w!r[mo5(HVwiC0q=4\"><field name=\"TEXT\">supp</field></block></value></block></value></block></value></block><block type=\"variables_get\" id=\"Lvbr[Vv2??Mx*R}-s{,0\" x=\"8\" y=\"470\"><field name=\"VAR\" id=\"ZuppZy%mevG;P-:nHc5$\">supp</field></block></xml>",
    "user_code_from_blocks": "supp = dataframe[['supp']]\n\nsupp\n"
   },
   "outputs": [],
   "source": []
  },
  {
   "cell_type": "markdown",
   "metadata": {},
   "source": [
    "Now convert the nominal variables in the dataframe to dummies and save the result."
   ]
  },
  {
   "cell_type": "code",
   "execution_count": 52,
   "metadata": {
    "user_blocks": [
     "variables_set",
     "varDoMethod",
     "variables_get",
     "dummyOutputCodeBlock",
     "dummyOutputCodeBlock",
     "variables_get"
    ],
    "user_blocks_xml": "<xml xmlns=\"https://developers.google.com/blockly/xml\"><variables><variable id=\"B5p-Xul6IZ.0%nd96oa%\">dataframe</variable><variable id=\"Vd-20qkN(WN5nJAUj;?4\">pd</variable></variables><block type=\"variables_set\" id=\"f~Vi_+$-EAjHP]f_eV;K\" x=\"-12\" y=\"118\"><field name=\"VAR\" id=\"B5p-Xul6IZ.0%nd96oa%\">dataframe</field><value name=\"VALUE\"><block type=\"varDoMethod\" id=\"|n$+[JUtgfsvt4?c:yr_\"><mutation items=\"3\"></mutation><field name=\"VAR\" id=\"Vd-20qkN(WN5nJAUj;?4\">pd</field><field name=\"MEMBER\">get_dummies</field><data>pd:get_dummies</data><value name=\"ADD0\"><block type=\"variables_get\" id=\"Bbsj2h*vF?=ou`pb%n59\"><field name=\"VAR\" id=\"B5p-Xul6IZ.0%nd96oa%\">dataframe</field></block></value><value name=\"ADD1\"><block type=\"dummyOutputCodeBlock\" id=\"bMU2}K@krqBgj]d/*N%r\"><field name=\"CODE\">drop_first=True</field></block></value><value name=\"ADD2\"><block type=\"dummyOutputCodeBlock\" id=\"xtn#Tu}^y3gD*?FYaVN`\"><field name=\"CODE\">dtype=int</field></block></value></block></value></block><block type=\"variables_get\" id=\"O}n(u8[Tmbxs{7+=n#[$\" x=\"8\" y=\"296\"><field name=\"VAR\" id=\"B5p-Xul6IZ.0%nd96oa%\">dataframe</field></block></xml>",
    "user_code_from_blocks": "dataframe = pd.get_dummies(dataframe,drop_first=True,dtype=int)\n\ndataframe\n"
   },
   "outputs": [],
   "source": []
  },
  {
   "cell_type": "markdown",
   "metadata": {},
   "source": [
    "**QUESTION:**\n",
    "\n",
    "Which supplement is base level (or reference level) after coverting `supp` to dummies?"
   ]
  },
  {
   "cell_type": "markdown",
   "metadata": {},
   "source": [
    "**ANSWER: (click here to edit)**\n",
    "\n\n<hr>"
   ]
  },
  {
   "cell_type": "markdown",
   "metadata": {},
   "source": [
    "Next put the `supp` variable you saved back into the dataframe."
   ]
  },
  {
   "cell_type": "code",
   "execution_count": 10,
   "metadata": {
    "user_blocks": [
     "variables_set",
     "varDoMethod",
     "dummyOutputCodeBlock",
     "variables_get"
    ],
    "user_blocks_xml": "<xml xmlns=\"https://developers.google.com/blockly/xml\"><variables><variable id=\"B5p-Xul6IZ.0%nd96oa%\">dataframe</variable></variables><block type=\"variables_set\" id=\"asM(PJ)BfN(o4N+9wUt$\" x=\"42\" y=\"181\"><field name=\"VAR\" id=\"B5p-Xul6IZ.0%nd96oa%\">dataframe</field><value name=\"VALUE\"><block type=\"varDoMethod\" id=\";29VMd-(]?GAtxBc4RYY\"><mutation items=\"1\"></mutation><field name=\"VAR\" id=\"B5p-Xul6IZ.0%nd96oa%\">dataframe</field><field name=\"MEMBER\">assign</field><data>dataframe:assign</data><value name=\"ADD0\"><block type=\"dummyOutputCodeBlock\" id=\"0yKT_^W!N#JL!5%=T_+J\"><field name=\"CODE\">supp=supp</field></block></value></block></value></block><block type=\"variables_get\" id=\"lDK;Z$W(7oNiK4C.*1|4\" x=\"8\" y=\"296\"><field name=\"VAR\" id=\"B5p-Xul6IZ.0%nd96oa%\">dataframe</field></block></xml>",
    "user_code_from_blocks": "dataframe = dataframe.assign(supp=supp)\n\ndataframe\n"
   },
   "outputs": [],
   "source": []
  },
  {
   "cell_type": "markdown",
   "metadata": {},
   "source": [
    "## Explore data\n",
    "\n",
    "### Descriptive statistics\n",
    "\n",
    "Display the overall descriptive statistics."
   ]
  },
  {
   "cell_type": "code",
   "execution_count": 12,
   "metadata": {
    "user_blocks": [
     "varDoMethod"
    ],
    "user_blocks_xml": "<xml xmlns=\"https://developers.google.com/blockly/xml\"><variables><variable id=\"B5p-Xul6IZ.0%nd96oa%\">dataframe</variable></variables><block type=\"varDoMethod\" id=\"?LJ($9e@x-B.Y,`==|to\" x=\"8\" y=\"188\"><mutation items=\"1\"></mutation><field name=\"VAR\" id=\"B5p-Xul6IZ.0%nd96oa%\">dataframe</field><field name=\"MEMBER\">describe</field><data>dataframe:describe</data></block></xml>",
    "user_code_from_blocks": "dataframe.describe()\n"
   },
   "outputs": [],
   "source": []
  },
  {
   "cell_type": "markdown",
   "metadata": {},
   "source": [
    "**QUESTION:**\n",
    "\n",
    "If the mean of `supp_VC` is .50, what does that tell you?"
   ]
  },
  {
   "cell_type": "markdown",
   "metadata": {},
   "source": [
    "**ANSWER: (click here to edit)**\n",
    "\n\n<hr>"
   ]
  },
  {
   "cell_type": "markdown",
   "metadata": {},
   "source": [
    "Group the dataframe by `supp`."
   ]
  },
  {
   "cell_type": "code",
   "execution_count": 14,
   "metadata": {
    "user_blocks": [
     "variables_set",
     "varDoMethod",
     "text"
    ],
    "user_blocks_xml": "<xml xmlns=\"https://developers.google.com/blockly/xml\"><variables><variable id=\"0zfUO$}u$G4I(G1e~N#r\">groups</variable><variable id=\"B5p-Xul6IZ.0%nd96oa%\">dataframe</variable></variables><block type=\"variables_set\" id=\"kr80`.2l6nJi|eO*fce[\" x=\"7\" y=\"29\"><field name=\"VAR\" id=\"0zfUO$}u$G4I(G1e~N#r\">groups</field><value name=\"VALUE\"><block type=\"varDoMethod\" id=\"x-nB@sYwAL|7o-0;9DUU\"><mutation items=\"1\"></mutation><field name=\"VAR\" id=\"B5p-Xul6IZ.0%nd96oa%\">dataframe</field><field name=\"MEMBER\">groupby</field><data>dataframe:groupby</data><value name=\"ADD0\"><block type=\"text\" id=\"Lby0o8dWqy8ta:56K|bn\"><field name=\"TEXT\">supp</field></block></value></block></value></block></xml>",
    "user_code_from_blocks": "groups = dataframe.groupby('supp')\n"
   },
   "outputs": [],
   "source": []
  },
  {
   "cell_type": "markdown",
   "metadata": {},
   "source": [
    "Display descriptive statistics for the groups."
   ]
  },
  {
   "cell_type": "code",
   "execution_count": 16,
   "metadata": {
    "user_blocks": [
     "varDoMethod"
    ],
    "user_blocks_xml": "<xml xmlns=\"https://developers.google.com/blockly/xml\"><variables><variable id=\"0zfUO$}u$G4I(G1e~N#r\">groups</variable></variables><block type=\"varDoMethod\" id=\"]q4DcYnB3HUf/GehIu+T\" x=\"8\" y=\"188\"><mutation items=\"1\"></mutation><field name=\"VAR\" id=\"0zfUO$}u$G4I(G1e~N#r\">groups</field><field name=\"MEMBER\">describe</field><data>groups:describe</data></block></xml>",
    "user_code_from_blocks": "groups.describe()\n"
   },
   "outputs": [],
   "source": []
  },
  {
   "cell_type": "markdown",
   "metadata": {},
   "source": [
    "**QUESTION:**\n",
    "\n",
    "Which `supp` had a higher mean `len`?"
   ]
  },
  {
   "cell_type": "markdown",
   "metadata": {},
   "source": [
    "**ANSWER: (click here to edit)**\n",
    "\n\n<hr>"
   ]
  },
  {
   "cell_type": "markdown",
   "metadata": {},
   "source": [
    "**QUESTION:**\n",
    "\n",
    "Why is the mean `dose` the same for OJ and VC?"
   ]
  },
  {
   "cell_type": "markdown",
   "metadata": {},
   "source": [
    "**ANSWER: (click here to edit)**\n",
    "\n\n<hr>"
   ]
  },
  {
   "cell_type": "markdown",
   "metadata": {},
   "source": [
    "### Plots"
   ]
  },
  {
   "cell_type": "markdown",
   "metadata": {},
   "source": [
    "Import `plotly.express`."
   ]
  },
  {
   "cell_type": "code",
   "execution_count": 18,
   "metadata": {
    "user_blocks": [
     "importAs"
    ],
    "user_blocks_xml": "<xml xmlns=\"https://developers.google.com/blockly/xml\"><variables><variable id=\"k#w4n=KvP~*sLy*OW|Jl\">px</variable></variables><block type=\"importAs\" id=\"kPF|afHe60B:rsCmJI2O\" x=\"128\" y=\"178\"><field name=\"libraryName\">plotly.express</field><field name=\"VAR\" id=\"k#w4n=KvP~*sLy*OW|Jl\">px</field></block></xml>",
    "user_code_from_blocks": "import plotly.express as px\n"
   },
   "outputs": [],
   "source": []
  },
  {
   "cell_type": "markdown",
   "metadata": {},
   "source": [
    "Create a **boxplot** (`with px do box`) with `dose` as X, `len` as Y, and color as `supp`"
   ]
  },
  {
   "cell_type": "code",
   "execution_count": 20,
   "metadata": {
    "user_blocks": [
     "varDoMethod",
     "variables_get",
     "dummyOutputCodeBlock",
     "dummyOutputCodeBlock",
     "dummyOutputCodeBlock"
    ],
    "user_blocks_xml": "<xml xmlns=\"https://developers.google.com/blockly/xml\"><variables><variable id=\"k#w4n=KvP~*sLy*OW|Jl\">px</variable><variable id=\"B5p-Xul6IZ.0%nd96oa%\">dataframe</variable></variables><block type=\"varDoMethod\" id=\"O07?sQIdula@ap]/9Ogq\" x=\"38\" y=\"59\"><mutation items=\"4\"></mutation><field name=\"VAR\" id=\"k#w4n=KvP~*sLy*OW|Jl\">px</field><field name=\"MEMBER\">box</field><data>px:box</data><value name=\"ADD0\"><block type=\"variables_get\" id=\"UE)!btph,4mdjsf[F37|\"><field name=\"VAR\" id=\"B5p-Xul6IZ.0%nd96oa%\">dataframe</field></block></value><value name=\"ADD1\"><block type=\"dummyOutputCodeBlock\" id=\"~L)yq!Jze#v9R[^p;2{O\"><field name=\"CODE\">x=\"dose\"</field></block></value><value name=\"ADD2\"><block type=\"dummyOutputCodeBlock\" id=\"yu5^$n1zXY3)#RcRx:~;\"><field name=\"CODE\">y=\"len\"</field></block></value><value name=\"ADD3\"><block type=\"dummyOutputCodeBlock\" id=\"aCZ,k0LzStF1D(+SB2%A\"><field name=\"CODE\">color=\"supp\"</field></block></value></block></xml>",
    "user_code_from_blocks": "px.box(dataframe,x=\"dose\",y=\"len\",color=\"supp\")\n"
   },
   "outputs": [],
   "source": []
  },
  {
   "cell_type": "markdown",
   "metadata": {},
   "source": [
    "The box plot matches the descriptive statistics in a useful way:\n",
    "\n",
    "- The line in the middle of the boxplot is the **median**\n",
    "- The top/bottoms of each box are the **75th percentile** and **25th percentile**, respectively\n",
    "- The \"whiskers\" or bars above and below the box stop at the point furthest from the median that is within 1.5 times the difference between the 75th and 25th percentiles\n",
    "\n",
    "Boxplots are a good way at getting a feel for the distribution of data, especially when you are comparing two groups like this."
   ]
  },
  {
   "cell_type": "markdown",
   "metadata": {},
   "source": [
    "**QUESTION:**\n",
    "\n",
    "Why didn't we use scatterplots instead? Try it and see."
   ]
  },
  {
   "cell_type": "markdown",
   "metadata": {},
   "source": [
    "**ANSWER: (click here to edit)**\n",
    "\n\n<hr>"
   ]
  },
  {
   "cell_type": "markdown",
   "metadata": {},
   "source": [
    "**QUESTION:**\n",
    "\n",
    "Which `supp` has a higher median `len`? \n",
    "Is it the same across `dose`? \n",
    "What does this tell you?"
   ]
  },
  {
   "cell_type": "markdown",
   "metadata": {},
   "source": [
    "**ANSWER: (click here to edit)**\n",
    "\n\n<hr>"
   ]
  },
  {
   "cell_type": "markdown",
   "metadata": {},
   "source": [
    "## Modeling\n",
    "\n",
    "### Model 1\n",
    "\n",
    "Start with a model that predicts `len` based on `dose`.\n",
    "\n",
    "Import `sklearn.linear_model` and `numpy`."
   ]
  },
  {
   "cell_type": "code",
   "execution_count": 22,
   "metadata": {
    "user_blocks": [
     "importAs",
     "importAs"
    ],
    "user_blocks_xml": "<xml xmlns=\"https://developers.google.com/blockly/xml\"><variables><variable id=\"!+Hi;Yx;ZB!EQYU8ItpO\">linear_model</variable><variable id=\"YynR+H75hTgW`vKfMxOx\">np</variable></variables><block type=\"importAs\" id=\"m;0Uju49an!8G3YKn4cP\" x=\"93\" y=\"288\"><field name=\"libraryName\">sklearn.linear_model</field><field name=\"VAR\" id=\"!+Hi;Yx;ZB!EQYU8ItpO\">linear_model</field><next><block type=\"importAs\" id=\"^iL#`T{6G3.Uxfj*r`Cv\"><field name=\"libraryName\">numpy</field><field name=\"VAR\" id=\"YynR+H75hTgW`vKfMxOx\">np</field></block></next></block></xml>",
    "user_code_from_blocks": "import sklearn.linear_model as linear_model\nimport numpy as np\n"
   },
   "outputs": [],
   "source": []
  },
  {
   "cell_type": "markdown",
   "metadata": {},
   "source": [
    "Create a linear regression model."
   ]
  },
  {
   "cell_type": "code",
   "execution_count": 24,
   "metadata": {
    "user_blocks": [
     "variables_set",
     "varCreateObject"
    ],
    "user_blocks_xml": "<xml xmlns=\"https://developers.google.com/blockly/xml\"><variables><variable id=\"F]q147x/*m|PMfPQU-lZ\">lm</variable><variable id=\"!+Hi;Yx;ZB!EQYU8ItpO\">linear_model</variable></variables><block type=\"variables_set\" id=\"!H`J#y,K:4I.h#,HPeK{\" x=\"127\" y=\"346\"><field name=\"VAR\" id=\"F]q147x/*m|PMfPQU-lZ\">lm</field><value name=\"VALUE\"><block type=\"varCreateObject\" id=\"h:O3ZfE(*c[Hz3sF=$Mm\"><mutation items=\"1\"></mutation><field name=\"VAR\" id=\"!+Hi;Yx;ZB!EQYU8ItpO\">linear_model</field><field name=\"MEMBER\">LinearRegression</field><data>linear_model:LinearRegression</data></block></value></block></xml>",
    "user_code_from_blocks": "lm = linear_model.LinearRegression()\n"
   },
   "outputs": [],
   "source": []
  },
  {
   "cell_type": "markdown",
   "metadata": {},
   "source": [
    "Train the model to predict `len` based on `dose` using all the data."
   ]
  },
  {
   "cell_type": "code",
   "execution_count": 26,
   "metadata": {
    "user_blocks": [
     "varDoMethod",
     "indexer",
     "lists_create_with",
     "text",
     "indexer",
     "lists_create_with",
     "text"
    ],
    "user_blocks_xml": "<xml xmlns=\"https://developers.google.com/blockly/xml\"><variables><variable id=\"F]q147x/*m|PMfPQU-lZ\">lm</variable><variable id=\"B5p-Xul6IZ.0%nd96oa%\">dataframe</variable></variables><block type=\"varDoMethod\" id=\"W6(0}aPsJ;vA9C3A!:G@\" x=\"35\" y=\"137\"><mutation items=\"2\"></mutation><field name=\"VAR\" id=\"F]q147x/*m|PMfPQU-lZ\">lm</field><field name=\"MEMBER\">fit</field><data>lm:fit</data><value name=\"ADD0\"><block type=\"indexer\" id=\".|%fa!U;=I@;!6$?B7Id\"><field name=\"VAR\" id=\"B5p-Xul6IZ.0%nd96oa%\">dataframe</field><value name=\"INDEX\"><block type=\"lists_create_with\" id=\"o5szXy4*HmKGA;-.~H?H\"><mutation items=\"1\"></mutation><value name=\"ADD0\"><block type=\"text\" id=\"{*5MFGJL4(x-JLsuD9qv\"><field name=\"TEXT\">dose</field></block></value></block></value></block></value><value name=\"ADD1\"><block type=\"indexer\" id=\"o.R`*;zvaP%^K2/_t`6*\"><field name=\"VAR\" id=\"B5p-Xul6IZ.0%nd96oa%\">dataframe</field><value name=\"INDEX\"><block type=\"lists_create_with\" id=\"[WAkSKWMcU+j3zS)uzVG\"><mutation items=\"1\"></mutation><value name=\"ADD0\"><block type=\"text\" id=\"w0w/T-Wh/df/waYll,rv\"><field name=\"TEXT\">len</field></block></value></block></value></block></value></block></xml>",
    "user_code_from_blocks": "lm.fit(dataframe[['dose']],dataframe[['len']])\n"
   },
   "outputs": [],
   "source": []
  },
  {
   "cell_type": "markdown",
   "metadata": {},
   "source": [
    "Get the $r^2$."
   ]
  },
  {
   "cell_type": "code",
   "execution_count": 28,
   "metadata": {
    "user_blocks": [
     "varDoMethod",
     "indexer",
     "lists_create_with",
     "text",
     "indexer",
     "lists_create_with",
     "text"
    ],
    "user_blocks_xml": "<xml xmlns=\"https://developers.google.com/blockly/xml\"><variables><variable id=\"F]q147x/*m|PMfPQU-lZ\">lm</variable><variable id=\"B5p-Xul6IZ.0%nd96oa%\">dataframe</variable></variables><block type=\"varDoMethod\" id=\"W6(0}aPsJ;vA9C3A!:G@\" x=\"35\" y=\"137\"><mutation items=\"2\"></mutation><field name=\"VAR\" id=\"F]q147x/*m|PMfPQU-lZ\">lm</field><field name=\"MEMBER\">score</field><data>lm:score</data><value name=\"ADD0\"><block type=\"indexer\" id=\".|%fa!U;=I@;!6$?B7Id\"><field name=\"VAR\" id=\"B5p-Xul6IZ.0%nd96oa%\">dataframe</field><value name=\"INDEX\"><block type=\"lists_create_with\" id=\"o5szXy4*HmKGA;-.~H?H\"><mutation items=\"1\"></mutation><value name=\"ADD0\"><block type=\"text\" id=\"{*5MFGJL4(x-JLsuD9qv\"><field name=\"TEXT\">dose</field></block></value></block></value></block></value><value name=\"ADD1\"><block type=\"indexer\" id=\"o.R`*;zvaP%^K2/_t`6*\"><field name=\"VAR\" id=\"B5p-Xul6IZ.0%nd96oa%\">dataframe</field><value name=\"INDEX\"><block type=\"lists_create_with\" id=\"[WAkSKWMcU+j3zS)uzVG\"><mutation items=\"1\"></mutation><value name=\"ADD0\"><block type=\"text\" id=\"w0w/T-Wh/df/waYll,rv\"><field name=\"TEXT\">len</field></block></value></block></value></block></value></block></xml>",
    "user_code_from_blocks": "lm.score(dataframe[['dose']],dataframe[['len']])\n"
   },
   "outputs": [],
   "source": []
  },
  {
   "cell_type": "markdown",
   "metadata": {},
   "source": [
    "**QUESTION:**\n",
    "\n",
    "Do you think this is a good $r^2$?\n",
    "Why or why not?\n",
    "\n",
    "**ANSWER: (click here to edit)**\n",
    "\n\n<hr>"
   ]
  },
  {
   "cell_type": "markdown",
   "metadata": {},
   "source": [
    "### Diagnostics 1\n",
    "\n",
    "Get the predictions from the model and put them in the dataframe."
   ]
  },
  {
   "cell_type": "code",
   "execution_count": 30,
   "metadata": {
    "user_blocks": [
     "variables_set",
     "varDoMethod",
     "valueOutputCodeBlock",
     "varDoMethod",
     "indexer",
     "lists_create_with",
     "text",
     "variables_get"
    ],
    "user_blocks_xml": "<xml xmlns=\"https://developers.google.com/blockly/xml\"><variables><variable id=\"B5p-Xul6IZ.0%nd96oa%\">dataframe</variable><variable id=\"F]q147x/*m|PMfPQU-lZ\">lm</variable></variables><block type=\"variables_set\" id=\"rn0LHF%t,0JD5-!Ov?-U\" x=\"21\" y=\"25\"><field name=\"VAR\" id=\"B5p-Xul6IZ.0%nd96oa%\">dataframe</field><value name=\"VALUE\"><block type=\"varDoMethod\" id=\"ou+aFod:USt{s9i+emN}\"><mutation items=\"1\"></mutation><field name=\"VAR\" id=\"B5p-Xul6IZ.0%nd96oa%\">dataframe</field><field name=\"MEMBER\">assign</field><data>dataframe:assign</data><value name=\"ADD0\"><block type=\"valueOutputCodeBlock\" id=\"UFqs+Ox{QF6j*LkUvNvu\"><field name=\"CODE\">predictions1=</field><value name=\"INPUT\"><block type=\"varDoMethod\" id=\"(2l5d}m6K9#ZC6_^/JXe\"><mutation items=\"1\"></mutation><field name=\"VAR\" id=\"F]q147x/*m|PMfPQU-lZ\">lm</field><field name=\"MEMBER\">predict</field><data>lm:predict</data><value name=\"ADD0\"><block type=\"indexer\" id=\"J1)p6y/1^;|L|guiCR%2\"><field name=\"VAR\" id=\"B5p-Xul6IZ.0%nd96oa%\">dataframe</field><value name=\"INDEX\"><block type=\"lists_create_with\" id=\"Asy|RX,d{QfgBQmjI{@@\"><mutation items=\"1\"></mutation><value name=\"ADD0\"><block type=\"text\" id=\"+5PTgD[9U~pl`q#YlA^!\"><field name=\"TEXT\">dose</field></block></value></block></value></block></value></block></value></block></value></block></value></block><block type=\"variables_get\" id=\"lzSWs1CWzS{|krE3$|,]\" x=\"8\" y=\"296\"><field name=\"VAR\" id=\"B5p-Xul6IZ.0%nd96oa%\">dataframe</field></block></xml>",
    "user_code_from_blocks": "dataframe = dataframe.assign(predictions1= (lm.predict(dataframe[['dose']])))\n\ndataframe\n"
   },
   "outputs": [],
   "source": []
  },
  {
   "cell_type": "markdown",
   "metadata": {},
   "source": [
    "**QUESTION:**\n",
    "\n",
    "How many predictions did you get? Why?\n",
    "\n",
    "**ANSWER: (click here to edit)**\n",
    "\n\n<hr>"
   ]
  },
  {
   "cell_type": "markdown",
   "metadata": {},
   "source": [
    "Add the residuals to `dataframe`."
   ]
  },
  {
   "cell_type": "code",
   "execution_count": 32,
   "metadata": {
    "user_blocks": [
     "variables_set",
     "varDoMethod",
     "valueOutputCodeBlock",
     "math_arithmetic",
     "indexer",
     "text",
     "indexer",
     "text",
     "variables_get"
    ],
    "user_blocks_xml": "<xml xmlns=\"https://developers.google.com/blockly/xml\"><variables><variable id=\"B5p-Xul6IZ.0%nd96oa%\">dataframe</variable></variables><block type=\"variables_set\" id=\"rn0LHF%t,0JD5-!Ov?-U\" x=\"-10\" y=\"139\"><field name=\"VAR\" id=\"B5p-Xul6IZ.0%nd96oa%\">dataframe</field><value name=\"VALUE\"><block type=\"varDoMethod\" id=\"(2l5d}m6K9#ZC6_^/JXe\"><mutation items=\"1\"></mutation><field name=\"VAR\" id=\"B5p-Xul6IZ.0%nd96oa%\">dataframe</field><field name=\"MEMBER\">assign</field><data>dataframe:assign</data><value name=\"ADD0\"><block type=\"valueOutputCodeBlock\" id=\"^$QWpb1hPzxWt/?~mZBX\"><field name=\"CODE\">residuals1=</field><value name=\"INPUT\"><block type=\"math_arithmetic\" id=\"=szmSC[EoihfyX_5cH6v\"><field name=\"OP\">MINUS</field><value name=\"A\"><shadow type=\"math_number\" id=\"E[2Ss)z+r1pVe~OSDMne\"><field name=\"NUM\">1</field></shadow><block type=\"indexer\" id=\"WQaaM]1BPY=1wxWQsv:$\"><field name=\"VAR\" id=\"B5p-Xul6IZ.0%nd96oa%\">dataframe</field><value name=\"INDEX\"><block type=\"text\" id=\"+5PTgD[9U~pl`q#YlA^!\"><field name=\"TEXT\">len</field></block></value></block></value><value name=\"B\"><shadow type=\"math_number\" id=\"Z%,Q(P8VED{wb;Q#^bM4\"><field name=\"NUM\">1</field></shadow><block type=\"indexer\" id=\"b.`x=!iTEC%|-VGV[Hu5\"><field name=\"VAR\" id=\"B5p-Xul6IZ.0%nd96oa%\">dataframe</field><value name=\"INDEX\"><block type=\"text\" id=\"g`tk1*Psq~biS1z%3c`q\"><field name=\"TEXT\">predictions1</field></block></value></block></value></block></value></block></value></block></value></block><block type=\"variables_get\" id=\"h0wMz)I}*q%AYU/9Rp;o\" x=\"8\" y=\"296\"><field name=\"VAR\" id=\"B5p-Xul6IZ.0%nd96oa%\">dataframe</field></block></xml>",
    "user_code_from_blocks": "dataframe = dataframe.assign(residuals1= (dataframe['len'] - dataframe['predictions1']))\n\ndataframe\n"
   },
   "outputs": [],
   "source": []
  },
  {
   "cell_type": "markdown",
   "metadata": {},
   "source": [
    "**QUESTION:**\n",
    "\n",
    "How do the residuals compare to the predictions? Why?"
   ]
  },
  {
   "cell_type": "markdown",
   "metadata": {},
   "source": [
    "**ANSWER: (click here to edit)**\n",
    "\n\n<hr>"
   ]
  },
  {
   "cell_type": "markdown",
   "metadata": {},
   "source": [
    "Make a figure to check linearity and equal variance **with boxplots**."
   ]
  },
  {
   "cell_type": "code",
   "execution_count": 34,
   "metadata": {
    "user_blocks": [
     "varDoMethod",
     "variables_get",
     "dummyOutputCodeBlock",
     "dummyOutputCodeBlock"
    ],
    "user_blocks_xml": "<xml xmlns=\"https://developers.google.com/blockly/xml\"><variables><variable id=\"k#w4n=KvP~*sLy*OW|Jl\">px</variable><variable id=\"B5p-Xul6IZ.0%nd96oa%\">dataframe</variable></variables><block type=\"varDoMethod\" id=\"O07?sQIdula@ap]/9Ogq\" x=\"35\" y=\"53\"><mutation items=\"3\"></mutation><field name=\"VAR\" id=\"k#w4n=KvP~*sLy*OW|Jl\">px</field><field name=\"MEMBER\">box</field><data>px:box</data><value name=\"ADD0\"><block type=\"variables_get\" id=\"UE)!btph,4mdjsf[F37|\"><field name=\"VAR\" id=\"B5p-Xul6IZ.0%nd96oa%\">dataframe</field></block></value><value name=\"ADD1\"><block type=\"dummyOutputCodeBlock\" id=\"~L)yq!Jze#v9R[^p;2{O\"><field name=\"CODE\">x=\"predictions1\"</field></block></value><value name=\"ADD2\"><block type=\"dummyOutputCodeBlock\" id=\"yu5^$n1zXY3)#RcRx:~;\"><field name=\"CODE\">y=\"residuals1\"</field></block></value></block></xml>",
    "user_code_from_blocks": "px.box(dataframe,x=\"predictions1\",y=\"residuals1\")\n"
   },
   "outputs": [],
   "source": []
  },
  {
   "cell_type": "markdown",
   "metadata": {},
   "source": [
    "**QUESTION:**\n",
    "\n",
    "Do we have linearity and equal variance? Why?"
   ]
  },
  {
   "cell_type": "markdown",
   "metadata": {},
   "source": [
    "**ANSWER: (click here to edit)**\n",
    "\n\n<hr>"
   ]
  },
  {
   "cell_type": "markdown",
   "metadata": {},
   "source": [
    "### Model 2\n",
    "\n",
    "Create an interaction variable `ds` = `dose` * `supp_VC` and add it to the dataframe."
   ]
  },
  {
   "cell_type": "code",
   "execution_count": 36,
   "metadata": {
    "user_blocks": [
     "variables_set",
     "varDoMethod",
     "valueOutputCodeBlock",
     "math_arithmetic",
     "indexer",
     "text",
     "indexer",
     "text",
     "variables_get"
    ],
    "user_blocks_xml": "<xml xmlns=\"https://developers.google.com/blockly/xml\"><variables><variable id=\"B5p-Xul6IZ.0%nd96oa%\">dataframe</variable></variables><block type=\"variables_set\" id=\"rn0LHF%t,0JD5-!Ov?-U\" x=\"17\" y=\"142\"><field name=\"VAR\" id=\"B5p-Xul6IZ.0%nd96oa%\">dataframe</field><value name=\"VALUE\"><block type=\"varDoMethod\" id=\"(2l5d}m6K9#ZC6_^/JXe\"><mutation items=\"1\"></mutation><field name=\"VAR\" id=\"B5p-Xul6IZ.0%nd96oa%\">dataframe</field><field name=\"MEMBER\">assign</field><data>dataframe:assign</data><value name=\"ADD0\"><block type=\"valueOutputCodeBlock\" id=\"^$QWpb1hPzxWt/?~mZBX\"><field name=\"CODE\">ds=</field><value name=\"INPUT\"><block type=\"math_arithmetic\" id=\"5RK=q#[GZz]1)F{}r5DR\"><field name=\"OP\">MULTIPLY</field><value name=\"A\"><shadow type=\"math_number\" id=\"HSr6hs;fnYbxDdpw8o*6\"><field name=\"NUM\">1</field></shadow><block type=\"indexer\" id=\"Xh!r5Y0#k:n+aqBjuvad\"><field name=\"VAR\" id=\"B5p-Xul6IZ.0%nd96oa%\">dataframe</field><value name=\"INDEX\"><block type=\"text\" id=\"|4#UlYaNe-aeV+s$,Wn]\"><field name=\"TEXT\">dose</field></block></value></block></value><value name=\"B\"><shadow type=\"math_number\" id=\";S0XthTRZu#Q.w|qt88k\"><field name=\"NUM\">1</field></shadow><block type=\"indexer\" id=\"WQaaM]1BPY=1wxWQsv:$\"><field name=\"VAR\" id=\"B5p-Xul6IZ.0%nd96oa%\">dataframe</field><value name=\"INDEX\"><block type=\"text\" id=\"+5PTgD[9U~pl`q#YlA^!\"><field name=\"TEXT\">supp_VC</field></block></value></block></value></block></value></block></value></block></value></block><block type=\"variables_get\" id=\"|:#)c3^OVHRz0,Iw)mSN\" x=\"8\" y=\"296\"><field name=\"VAR\" id=\"B5p-Xul6IZ.0%nd96oa%\">dataframe</field></block></xml>",
    "user_code_from_blocks": "dataframe = dataframe.assign(ds= (dataframe['dose'] * dataframe['supp_VC']))\n\ndataframe\n"
   },
   "outputs": [],
   "source": []
  },
  {
   "cell_type": "markdown",
   "metadata": {},
   "source": [
    "**QUESTION:**\n",
    "\n",
    "What is value of `ds` across the dataframe? Why?"
   ]
  },
  {
   "cell_type": "markdown",
   "metadata": {},
   "source": [
    "**ANSWER: (click here to edit)**\n",
    "\n\n<hr>"
   ]
  },
  {
   "cell_type": "markdown",
   "metadata": {},
   "source": [
    "Fit the model using `dose`, `supp_VC`, and the interaction `ds`."
   ]
  },
  {
   "cell_type": "code",
   "execution_count": 38,
   "metadata": {
    "user_blocks": [
     "varDoMethod",
     "indexer",
     "lists_create_with",
     "text",
     "text",
     "text",
     "indexer",
     "lists_create_with",
     "text"
    ],
    "user_blocks_xml": "<xml xmlns=\"https://developers.google.com/blockly/xml\"><variables><variable id=\"F]q147x/*m|PMfPQU-lZ\">lm</variable><variable id=\"B5p-Xul6IZ.0%nd96oa%\">dataframe</variable></variables><block type=\"varDoMethod\" id=\"W6(0}aPsJ;vA9C3A!:G@\" x=\"67\" y=\"168\"><mutation items=\"2\"></mutation><field name=\"VAR\" id=\"F]q147x/*m|PMfPQU-lZ\">lm</field><field name=\"MEMBER\">fit</field><data>lm:fit</data><value name=\"ADD0\"><block type=\"indexer\" id=\".|%fa!U;=I@;!6$?B7Id\"><field name=\"VAR\" id=\"B5p-Xul6IZ.0%nd96oa%\">dataframe</field><value name=\"INDEX\"><block type=\"lists_create_with\" id=\"o5szXy4*HmKGA;-.~H?H\"><mutation items=\"3\"></mutation><value name=\"ADD0\"><block type=\"text\" id=\"{*5MFGJL4(x-JLsuD9qv\"><field name=\"TEXT\">supp_VC</field></block></value><value name=\"ADD1\"><block type=\"text\" id=\"C8]]`!~bXAF2k`Y,B3^n\"><field name=\"TEXT\">dose</field></block></value><value name=\"ADD2\"><block type=\"text\" id=\"ih6aJeYmVx$YNlbSZuhF\"><field name=\"TEXT\">ds</field></block></value></block></value></block></value><value name=\"ADD1\"><block type=\"indexer\" id=\"o.R`*;zvaP%^K2/_t`6*\"><field name=\"VAR\" id=\"B5p-Xul6IZ.0%nd96oa%\">dataframe</field><value name=\"INDEX\"><block type=\"lists_create_with\" id=\"[WAkSKWMcU+j3zS)uzVG\"><mutation items=\"1\"></mutation><value name=\"ADD0\"><block type=\"text\" id=\"w0w/T-Wh/df/waYll,rv\"><field name=\"TEXT\">len</field></block></value></block></value></block></value></block></xml>",
    "user_code_from_blocks": "lm.fit(dataframe[['supp_VC', 'dose', 'ds']],dataframe[['len']])\n"
   },
   "outputs": [],
   "source": []
  },
  {
   "cell_type": "markdown",
   "metadata": {},
   "source": [
    "### Diagnostics 2\n",
    "\n",
    "Save the predictions from the model to the dataframe."
   ]
  },
  {
   "cell_type": "code",
   "execution_count": 40,
   "metadata": {
    "user_blocks": [
     "variables_set",
     "varDoMethod",
     "valueOutputCodeBlock",
     "varDoMethod",
     "indexer",
     "lists_create_with",
     "text",
     "text",
     "text",
     "variables_get"
    ],
    "user_blocks_xml": "<xml xmlns=\"https://developers.google.com/blockly/xml\"><variables><variable id=\"B5p-Xul6IZ.0%nd96oa%\">dataframe</variable><variable id=\"F]q147x/*m|PMfPQU-lZ\">lm</variable></variables><block type=\"variables_set\" id=\"rn0LHF%t,0JD5-!Ov?-U\" x=\"0\" y=\"0\"><field name=\"VAR\" id=\"B5p-Xul6IZ.0%nd96oa%\">dataframe</field><value name=\"VALUE\"><block type=\"varDoMethod\" id=\"ou+aFod:USt{s9i+emN}\"><mutation items=\"1\"></mutation><field name=\"VAR\" id=\"B5p-Xul6IZ.0%nd96oa%\">dataframe</field><field name=\"MEMBER\">assign</field><data>dataframe:assign</data><value name=\"ADD0\"><block type=\"valueOutputCodeBlock\" id=\"UFqs+Ox{QF6j*LkUvNvu\"><field name=\"CODE\">predictions2=</field><value name=\"INPUT\"><block type=\"varDoMethod\" id=\"(2l5d}m6K9#ZC6_^/JXe\"><mutation items=\"1\"></mutation><field name=\"VAR\" id=\"F]q147x/*m|PMfPQU-lZ\">lm</field><field name=\"MEMBER\">predict</field><data>lm:predict</data><value name=\"ADD0\"><block type=\"indexer\" id=\"WQaaM]1BPY=1wxWQsv:$\"><field name=\"VAR\" id=\"B5p-Xul6IZ.0%nd96oa%\">dataframe</field><value name=\"INDEX\"><block type=\"lists_create_with\" id=\"rugUT!#.Lk(@nt!}4hC;\"><mutation items=\"3\"></mutation><value name=\"ADD0\"><block type=\"text\" id=\"4nD6,I;gq.Y.D%v3$kFX\"><field name=\"TEXT\">supp_VC</field></block></value><value name=\"ADD1\"><block type=\"text\" id=\",!{J#Tttn_Cxfw*/X9?F\"><field name=\"TEXT\">dose</field></block></value><value name=\"ADD2\"><block type=\"text\" id=\"UU~+_mFV?x?wIxQQ9c#z\"><field name=\"TEXT\">ds</field></block></value></block></value></block></value></block></value></block></value></block></value></block><block type=\"variables_get\" id=\"MO?8@JtX]Dar4%T(Oa:A\" x=\"8\" y=\"296\"><field name=\"VAR\" id=\"B5p-Xul6IZ.0%nd96oa%\">dataframe</field></block></xml>",
    "user_code_from_blocks": "dataframe = dataframe.assign(predictions2= (lm.predict(dataframe[['supp_VC', 'dose', 'ds']])))\n\ndataframe\n"
   },
   "outputs": [],
   "source": []
  },
  {
   "cell_type": "markdown",
   "metadata": {},
   "source": [
    "**QUESTION:**\n",
    "\n",
    "What are the values of the new predictions across the dataframe? \n",
    "How do they differ between OJ and VC?"
   ]
  },
  {
   "cell_type": "markdown",
   "metadata": {},
   "source": [
    "**ANSWER: (click here to edit)**\n",
    "\n\n<hr>"
   ]
  },
  {
   "cell_type": "markdown",
   "metadata": {},
   "source": [
    "Save the residuals from the model to the dataframe."
   ]
  },
  {
   "cell_type": "code",
   "execution_count": 42,
   "metadata": {
    "user_blocks": [
     "variables_set",
     "varDoMethod",
     "valueOutputCodeBlock",
     "math_arithmetic",
     "indexer",
     "text",
     "indexer",
     "text",
     "variables_get"
    ],
    "user_blocks_xml": "<xml xmlns=\"https://developers.google.com/blockly/xml\"><variables><variable id=\"B5p-Xul6IZ.0%nd96oa%\">dataframe</variable></variables><block type=\"variables_set\" id=\"rn0LHF%t,0JD5-!Ov?-U\" x=\"86\" y=\"190\"><field name=\"VAR\" id=\"B5p-Xul6IZ.0%nd96oa%\">dataframe</field><value name=\"VALUE\"><block type=\"varDoMethod\" id=\"(2l5d}m6K9#ZC6_^/JXe\"><mutation items=\"1\"></mutation><field name=\"VAR\" id=\"B5p-Xul6IZ.0%nd96oa%\">dataframe</field><field name=\"MEMBER\">assign</field><data>dataframe:assign</data><value name=\"ADD0\"><block type=\"valueOutputCodeBlock\" id=\"^$QWpb1hPzxWt/?~mZBX\"><field name=\"CODE\">residuals2=</field><value name=\"INPUT\"><block type=\"math_arithmetic\" id=\"=szmSC[EoihfyX_5cH6v\"><field name=\"OP\">MINUS</field><value name=\"A\"><shadow type=\"math_number\" id=\"E[2Ss)z+r1pVe~OSDMne\"><field name=\"NUM\">1</field></shadow><block type=\"indexer\" id=\"WQaaM]1BPY=1wxWQsv:$\"><field name=\"VAR\" id=\"B5p-Xul6IZ.0%nd96oa%\">dataframe</field><value name=\"INDEX\"><block type=\"text\" id=\"+5PTgD[9U~pl`q#YlA^!\"><field name=\"TEXT\">len</field></block></value></block></value><value name=\"B\"><shadow type=\"math_number\" id=\"Z%,Q(P8VED{wb;Q#^bM4\"><field name=\"NUM\">1</field></shadow><block type=\"indexer\" id=\"b.`x=!iTEC%|-VGV[Hu5\"><field name=\"VAR\" id=\"B5p-Xul6IZ.0%nd96oa%\">dataframe</field><value name=\"INDEX\"><block type=\"text\" id=\"g`tk1*Psq~biS1z%3c`q\"><field name=\"TEXT\">predictions2</field></block></value></block></value></block></value></block></value></block></value></block><block type=\"variables_get\" id=\"6|_!aJ#q-oris$$h)#F^\" x=\"8\" y=\"296\"><field name=\"VAR\" id=\"B5p-Xul6IZ.0%nd96oa%\">dataframe</field></block></xml>",
    "user_code_from_blocks": "dataframe = dataframe.assign(residuals2= (dataframe['len'] - dataframe['predictions2']))\n\ndataframe\n"
   },
   "outputs": [],
   "source": []
  },
  {
   "cell_type": "markdown",
   "metadata": {},
   "source": [
    "Plot the predicted vs residuals **as a boxplot** to check linearity and equal variance."
   ]
  },
  {
   "cell_type": "code",
   "execution_count": 44,
   "metadata": {
    "user_blocks": [
     "varDoMethod",
     "variables_get",
     "dummyOutputCodeBlock",
     "dummyOutputCodeBlock"
    ],
    "user_blocks_xml": "<xml xmlns=\"https://developers.google.com/blockly/xml\"><variables><variable id=\"k#w4n=KvP~*sLy*OW|Jl\">px</variable><variable id=\"B5p-Xul6IZ.0%nd96oa%\">dataframe</variable></variables><block type=\"varDoMethod\" id=\"O07?sQIdula@ap]/9Ogq\" x=\"0\" y=\"0\"><mutation items=\"3\"></mutation><field name=\"VAR\" id=\"k#w4n=KvP~*sLy*OW|Jl\">px</field><field name=\"MEMBER\">box</field><data>px:box</data><value name=\"ADD0\"><block type=\"variables_get\" id=\"UE)!btph,4mdjsf[F37|\"><field name=\"VAR\" id=\"B5p-Xul6IZ.0%nd96oa%\">dataframe</field></block></value><value name=\"ADD1\"><block type=\"dummyOutputCodeBlock\" id=\"~L)yq!Jze#v9R[^p;2{O\"><field name=\"CODE\">x=\"predictions2\"</field></block></value><value name=\"ADD2\"><block type=\"dummyOutputCodeBlock\" id=\"yu5^$n1zXY3)#RcRx:~;\"><field name=\"CODE\">y=\"residuals2\"</field></block></value></block></xml>",
    "user_code_from_blocks": "px.box(dataframe,x=\"predictions2\",y=\"residuals2\")\n"
   },
   "outputs": [],
   "source": []
  },
  {
   "cell_type": "markdown",
   "metadata": {},
   "source": [
    "**QUESTION:**\n",
    "\n",
    "Do we have linearity and equal variance? Why?"
   ]
  },
  {
   "cell_type": "markdown",
   "metadata": {},
   "source": [
    "**ANSWER: (click here to edit)**\n",
    "\n\n<hr>"
   ]
  },
  {
   "cell_type": "markdown",
   "metadata": {},
   "source": [
    "With this new model, calculate $r^2$ :"
   ]
  },
  {
   "cell_type": "code",
   "execution_count": 46,
   "metadata": {
    "user_blocks": [
     "varDoMethod",
     "indexer",
     "lists_create_with",
     "text",
     "text",
     "text",
     "indexer",
     "lists_create_with",
     "text"
    ],
    "user_blocks_xml": "<xml xmlns=\"https://developers.google.com/blockly/xml\"><variables><variable id=\"F]q147x/*m|PMfPQU-lZ\">lm</variable><variable id=\"B5p-Xul6IZ.0%nd96oa%\">dataframe</variable></variables><block type=\"varDoMethod\" id=\"W6(0}aPsJ;vA9C3A!:G@\" x=\"0\" y=\"0\"><mutation items=\"2\"></mutation><field name=\"VAR\" id=\"F]q147x/*m|PMfPQU-lZ\">lm</field><field name=\"MEMBER\">score</field><data>lm:score</data><value name=\"ADD0\"><block type=\"indexer\" id=\".|%fa!U;=I@;!6$?B7Id\"><field name=\"VAR\" id=\"B5p-Xul6IZ.0%nd96oa%\">dataframe</field><value name=\"INDEX\"><block type=\"lists_create_with\" id=\"o5szXy4*HmKGA;-.~H?H\"><mutation items=\"3\"></mutation><value name=\"ADD0\"><block type=\"text\" id=\"^8=3t%ElxVkV`ccPZa6L\"><field name=\"TEXT\">supp_VC</field></block></value><value name=\"ADD1\"><block type=\"text\" id=\"{*5MFGJL4(x-JLsuD9qv\"><field name=\"TEXT\">dose</field></block></value><value name=\"ADD2\"><block type=\"text\" id=\"a@4k~6jqr$XYOxb/QSzi\"><field name=\"TEXT\">ds</field></block></value></block></value></block></value><value name=\"ADD1\"><block type=\"indexer\" id=\"o.R`*;zvaP%^K2/_t`6*\"><field name=\"VAR\" id=\"B5p-Xul6IZ.0%nd96oa%\">dataframe</field><value name=\"INDEX\"><block type=\"lists_create_with\" id=\"[WAkSKWMcU+j3zS)uzVG\"><mutation items=\"1\"></mutation><value name=\"ADD0\"><block type=\"text\" id=\"w0w/T-Wh/df/waYll,rv\"><field name=\"TEXT\">len</field></block></value></block></value></block></value></block></xml>",
    "user_code_from_blocks": "lm.score(dataframe[['supp_VC', 'dose', 'ds']],dataframe[['len']])\n"
   },
   "outputs": [],
   "source": []
  },
  {
   "cell_type": "markdown",
   "metadata": {},
   "source": [
    "**QUESTION:**\n",
    "\n",
    "How does this $r^2$  compare to the model without the interaction?"
   ]
  },
  {
   "cell_type": "markdown",
   "metadata": {},
   "source": [
    "**ANSWER: (click here to edit)**\n",
    "\n\n<hr>"
   ]
  },
  {
   "cell_type": "markdown",
   "metadata": {},
   "source": [
    "<!--  -->"
   ]
  }
 ],
 "metadata": {
  "kernelspec": {
   "display_name": "Python 3 (ipykernel)",
   "language": "python",
   "name": "python3"
  },
  "language_info": {
   "codemirror_mode": {
    "name": "ipython",
    "version": 3
   },
   "file_extension": ".py",
   "mimetype": "text/x-python",
   "name": "python",
   "nbconvert_exporter": "python",
   "pygments_lexer": "ipython3",
   "version": "3.12.6"
  }
 },
 "nbformat": 4,
 "nbformat_minor": 4
}
