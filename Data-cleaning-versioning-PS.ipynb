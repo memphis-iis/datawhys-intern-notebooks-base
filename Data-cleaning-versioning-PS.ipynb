{
 "cells": [
  {
   "cell_type": "markdown",
   "metadata": {
    "deletable": false,
    "editable": false
   },
   "source": [
    "Copyright 2020 Andrew M. Olney and made available under [CC BY-SA](https://creativecommons.org/licenses/by-sa/4.0) for text and [Apache-2.0](http://www.apache.org/licenses/LICENSE-2.0) for code."
   ]
  },
  {
   "cell_type": "markdown",
   "metadata": {},
   "source": [
    "# Data cleaning, transformations, & versioning: Problem solving\n",
    "\n",
    "This session will use the `mpg` dataset, which contains measurements of fuel economy and other properties of cars from the 1970s, to practice data cleaning, transformation, and versioning concept.s\n",
    "\n",
    "| Variable     | Type     | Description                              |\n",
    "|:--------------|:----------|:------------------------------------------|\n",
    "| mpg          | Ratio    | Miles per gallon; fuel economy           |\n",
    "| cylinders    | Ordinal  | Number of cylinders in engine            |\n",
    "| displacement | Ratio    | Volume inside cylinders (likely inches)                  |\n",
    "| horsepower   | Ratio    | Unit of power                            |\n",
    "| weight       | Ratio    | Weight of car (likely pounds)                           |\n",
    "| acceleration | Ratio    | Acceleration of car (likely in seconds to 60 MPH) |\n",
    "| model_year   | Interval | Year of car manufacture; last two digits |\n",
    "| origin       | Nominal  | Numeric code corresponding to continent  |\n",
    "| name     | Nominal  | Car model name (ID)                      |\n",
    "\n",
    "<div style=\"text-align:center;font-size: smaller\">\n",
    "    <b>Source:</b> This dataset was taken from the StatLib library which is maintained at Carnegie Mellon University.\n",
    "</div>\n",
    "<br>"
   ]
  },
  {
   "cell_type": "markdown",
   "metadata": {},
   "source": [
    "## Missing data\n",
    "\n",
    "Import `pandas` so you can load a dataframe."
   ]
  },
  {
   "cell_type": "code",
   "execution_count": 3,
   "metadata": {
    "user_blocks": [
     "importAs"
    ],
    "user_blocks_xml": "<xml xmlns=\"https://developers.google.com/blockly/xml\"><variables><variable id=\"Nzt=g[pEt(%l}kD/){CM\">pd</variable></variables><block type=\"importAs\" id=\"Q%nZ$%KG#|1A:4A9|%=4\" x=\"16\" y=\"10\"><field name=\"libraryName\">pandas</field><field name=\"VAR\" id=\"Nzt=g[pEt(%l}kD/){CM\">pd</field></block></xml>",
    "user_code_from_blocks": "import pandas as pd\n"
   },
   "outputs": [],
   "source": []
  },
  {
   "cell_type": "markdown",
   "metadata": {},
   "source": [
    "Load a dataframe with `datasets/mpg-na-hidden.csv` and display it."
   ]
  },
  {
   "cell_type": "code",
   "execution_count": 5,
   "metadata": {
    "user_blocks": [
     "variables_set",
     "varDoMethod",
     "text",
     "dummyOutputCodeBlock",
     "variables_get"
    ],
    "user_blocks_xml": "<xml xmlns=\"https://developers.google.com/blockly/xml\"><variables><variable id=\"/z]X|sEpLfH7ip{3^4{[\">dataframe</variable><variable id=\"Nzt=g[pEt(%l}kD/){CM\">pd</variable></variables><block type=\"variables_set\" id=\"b?N6-i,)knP9k=Cx-aQo\" x=\"74\" y=\"218\"><field name=\"VAR\" id=\"/z]X|sEpLfH7ip{3^4{[\">dataframe</field><value name=\"VALUE\"><block type=\"varDoMethod\" id=\"IduV!unUxquz$R)OF$8Q\"><mutation items=\"2\"></mutation><field name=\"VAR\" id=\"Nzt=g[pEt(%l}kD/){CM\">pd</field><field name=\"MEMBER\">read_csv</field><data>pd:read_csv</data><value name=\"ADD0\"><block type=\"text\" id=\"UV-{,|(UTl=c/MWb]u5W\"><field name=\"TEXT\">datasets/mpg-na-hidden.csv</field></block></value><value name=\"ADD1\"><block type=\"dummyOutputCodeBlock\" id=\"DFyp`q!g^B9HUlhF8x%;\"><field name=\"CODE\">na_values=[\"?\"]</field></block></value></block></value></block><block type=\"variables_get\" id=\"Db(XgspuHOj8$BWD85L}\" x=\"52\" y=\"297\"><field name=\"VAR\" id=\"/z]X|sEpLfH7ip{3^4{[\">dataframe</field></block></xml>",
    "user_code_from_blocks": "dataframe = pd.read_csv('datasets/mpg-na-hidden.csv',na_values=[\"?\"])\n\ndataframe\n"
   },
   "outputs": [],
   "source": []
  },
  {
   "cell_type": "markdown",
   "metadata": {},
   "source": [
    "-----------\n",
    "**QUESTION:**\n",
    "\n",
    "Do you think there are any `NaN` values? Why? "
   ]
  },
  {
   "cell_type": "markdown",
   "metadata": {},
   "source": [
    "**ANSWER: (click here to edit)**\n",
    "\n\n<hr>"
   ]
  },
  {
   "cell_type": "markdown",
   "metadata": {},
   "source": [
    "`describe` the dataframe."
   ]
  },
  {
   "cell_type": "code",
   "execution_count": 7,
   "metadata": {
    "user_blocks": [
     "varDoMethod"
    ],
    "user_blocks_xml": "<xml xmlns=\"https://developers.google.com/blockly/xml\"><variables><variable id=\"/z]X|sEpLfH7ip{3^4{[\">dataframe</variable></variables><block type=\"varDoMethod\" id=\"^yCV!E3eMZL.3}#4MS8r\" x=\"8\" y=\"188\"><mutation items=\"1\"></mutation><field name=\"VAR\" id=\"/z]X|sEpLfH7ip{3^4{[\">dataframe</field><field name=\"MEMBER\">describe</field><data>dataframe:describe</data></block></xml>",
    "user_code_from_blocks": "dataframe.describe()\n"
   },
   "outputs": [],
   "source": []
  },
  {
   "cell_type": "markdown",
   "metadata": {},
   "source": [
    "Look at the min, mean, and max."
   ]
  },
  {
   "cell_type": "markdown",
   "metadata": {},
   "source": [
    "-----------\n",
    "**QUESTION:**\n",
    "\n",
    "Do you think there are any `NaN` values? Why and what are they?"
   ]
  },
  {
   "cell_type": "markdown",
   "metadata": {},
   "source": [
    "**ANSWER: (click here to edit)**\n",
    "\n\n<hr>"
   ]
  },
  {
   "cell_type": "markdown",
   "metadata": {},
   "source": [
    "One way to tell if your guess is correct is to plot the variable(s) in question.\n",
    "\n",
    "To make a plots, import `plotly.express`."
   ]
  },
  {
   "cell_type": "code",
   "execution_count": 10,
   "metadata": {
    "user_blocks": [
     "importAs"
    ],
    "user_blocks_xml": "<xml xmlns=\"https://developers.google.com/blockly/xml\"><variables><variable id=\"zZmWV$gHDceKnNTL0qJD\">px</variable></variables><block type=\"importAs\" id=\"Zq^c/BhiMuX?Od,m^$/)\" x=\"-161\" y=\"4\"><field name=\"libraryName\">plotly.express</field><field name=\"VAR\" id=\"zZmWV$gHDceKnNTL0qJD\">px</field></block></xml>",
    "user_code_from_blocks": "import plotly.express as px\n"
   },
   "outputs": [],
   "source": []
  },
  {
   "cell_type": "markdown",
   "metadata": {},
   "source": [
    "Now plot a histogram with the variable(s) in question."
   ]
  },
  {
   "cell_type": "code",
   "execution_count": 12,
   "metadata": {
    "user_blocks": [
     "varDoMethod",
     "indexer",
     "text"
    ],
    "user_blocks_xml": "<xml xmlns=\"https://developers.google.com/blockly/xml\"><variables><variable id=\"zZmWV$gHDceKnNTL0qJD\">px</variable><variable id=\"/z]X|sEpLfH7ip{3^4{[\">dataframe</variable></variables><block type=\"varDoMethod\" id=\";3XBa2S8*(1iI?altE[v\" x=\"-115\" y=\"207\"><mutation items=\"1\"></mutation><field name=\"VAR\" id=\"zZmWV$gHDceKnNTL0qJD\">px</field><field name=\"MEMBER\">histogram</field><data>px:histogram</data><value name=\"ADD0\"><block type=\"indexer\" id=\"ZQGGecy}9v^qC^zH#438\"><field name=\"VAR\" id=\"/z]X|sEpLfH7ip{3^4{[\">dataframe</field><value name=\"INDEX\"><block type=\"text\" id=\":5!?d_2r8:.l]OVh|M|M\"><field name=\"TEXT\">horsepower</field></block></value></block></value></block></xml>",
    "user_code_from_blocks": "px.histogram(dataframe['horsepower'])\n"
   },
   "outputs": [],
   "source": []
  },
  {
   "cell_type": "markdown",
   "metadata": {},
   "source": [
    "Another way to see this is with a boxplot.\n",
    "Copy the code above, but change `histogram` to `box`."
   ]
  },
  {
   "cell_type": "code",
   "execution_count": 14,
   "metadata": {
    "user_blocks": [
     "varDoMethod",
     "indexer",
     "text"
    ],
    "user_blocks_xml": "<xml xmlns=\"https://developers.google.com/blockly/xml\"><variables><variable id=\"zZmWV$gHDceKnNTL0qJD\">px</variable><variable id=\"/z]X|sEpLfH7ip{3^4{[\">dataframe</variable></variables><block type=\"varDoMethod\" id=\";3XBa2S8*(1iI?altE[v\" x=\"-115\" y=\"207\"><mutation items=\"1\"></mutation><field name=\"VAR\" id=\"zZmWV$gHDceKnNTL0qJD\">px</field><field name=\"MEMBER\">box</field><data>px:box</data><value name=\"ADD0\"><block type=\"indexer\" id=\"ZQGGecy}9v^qC^zH#438\"><field name=\"VAR\" id=\"/z]X|sEpLfH7ip{3^4{[\">dataframe</field><value name=\"INDEX\"><block type=\"text\" id=\":5!?d_2r8:.l]OVh|M|M\"><field name=\"TEXT\">horsepower</field></block></value></block></value></block></xml>",
    "user_code_from_blocks": "px.box(dataframe['horsepower'])\n"
   },
   "outputs": [],
   "source": []
  },
  {
   "cell_type": "markdown",
   "metadata": {},
   "source": [
    "-----------\n",
    "**QUESTION:**\n",
    "\n",
    "Does these plots support your guess?\n",
    "How do we know this is missing data and not outliers?\n"
   ]
  },
  {
   "cell_type": "markdown",
   "metadata": {},
   "source": [
    "**ANSWER: (click here to edit)**\n",
    "\n\n<hr>"
   ]
  },
  {
   "cell_type": "markdown",
   "metadata": {},
   "source": [
    "Load the dataframe again, but this time tell `pandas` that the value you found is `NaN`"
   ]
  },
  {
   "cell_type": "code",
   "execution_count": 15,
   "metadata": {},
   "outputs": [],
   "source": []
  },
  {
   "cell_type": "markdown",
   "metadata": {},
   "source": [
    "-----------\n",
    "**QUESTION:**\n",
    "\n",
    "You have two choices at this point: `dropna` or `fillna` with another value (like the median).\n",
    "Which would you do, and why?\n"
   ]
  },
  {
   "cell_type": "markdown",
   "metadata": {},
   "source": [
    "**ANSWER: (click here to edit)**\n",
    "\n\n<hr>"
   ]
  },
  {
   "cell_type": "markdown",
   "metadata": {},
   "source": [
    "Do whichever of the two options you chose above."
   ]
  },
  {
   "cell_type": "code",
   "execution_count": 16,
   "metadata": {},
   "outputs": [],
   "source": []
  },
  {
   "cell_type": "markdown",
   "metadata": {},
   "source": [
    "## Transforming data\n",
    "\n",
    "### Outliers\n",
    "\n",
    "`clip` the values below the 1st percentile and above the 99th percentile for each variable in the dataframe, save this in the dataframe, and display it."
   ]
  },
  {
   "cell_type": "code",
   "execution_count": 24,
   "metadata": {
    "user_blocks": [
     "varDoMethod",
     "varDoMethod",
     "math_number",
     "dummyOutputCodeBlock",
     "varDoMethod",
     "math_number",
     "dummyOutputCodeBlock",
     "dummyOutputCodeBlock",
     "variables_get"
    ],
    "user_blocks_xml": "<xml xmlns=\"https://developers.google.com/blockly/xml\"><variables><variable id=\"/z]X|sEpLfH7ip{3^4{[\">dataframe</variable></variables><block type=\"varDoMethod\" id=\"=X,Xz;1HmgnYDU{uM;j}\" x=\"59\" y=\"349\"><mutation items=\"3\"></mutation><field name=\"VAR\" id=\"/z]X|sEpLfH7ip{3^4{[\">dataframe</field><field name=\"MEMBER\">clip</field><data>dataframe:clip</data><value name=\"ADD0\"><block type=\"varDoMethod\" id=\"B(#[`;7U(5;A$dY9|*/g\"><mutation items=\"2\"></mutation><field name=\"VAR\" id=\"/z]X|sEpLfH7ip{3^4{[\">dataframe</field><field name=\"MEMBER\">quantile</field><data>dataframe:quantile</data><value name=\"ADD0\"><block type=\"math_number\" id=\"0cCw7vNV6P*]CpF2cIeq\"><field name=\"NUM\">0.01</field></block></value><value name=\"ADD1\"><block type=\"dummyOutputCodeBlock\" id=\"Zb#)X)$O|SQTBk6k=];f\"><field name=\"CODE\">numeric_only=True</field></block></value></block></value><value name=\"ADD1\"><block type=\"varDoMethod\" id=\"]P!}OG8@M#XL#.zc%prR\"><mutation items=\"2\"></mutation><field name=\"VAR\" id=\"/z]X|sEpLfH7ip{3^4{[\">dataframe</field><field name=\"MEMBER\">quantile</field><data>dataframe:quantile</data><value name=\"ADD0\"><block type=\"math_number\" id=\"8]6p2:^I*Lwc$;`vy/wc\"><field name=\"NUM\">0.99</field></block></value><value name=\"ADD1\"><block type=\"dummyOutputCodeBlock\" id=\"3G^8{Vc2=_7T]7054xjK\"><field name=\"CODE\">numeric_only=True</field></block></value></block></value><value name=\"ADD2\"><block type=\"dummyOutputCodeBlock\" id=\"gbFUHZwYi!K:kEOHI!9I\"><field name=\"CODE\">axis=1</field></block></value></block><block type=\"variables_get\" id=\"PNqfL95iCFxEb:T9oPa|\" x=\"51\" y=\"540\"><field name=\"VAR\" id=\"/z]X|sEpLfH7ip{3^4{[\">dataframe</field></block></xml>",
    "user_code_from_blocks": "dataframe.clip(dataframe.quantile(0.01,numeric_only=True),dataframe.quantile(0.99,numeric_only=True),axis=1)\n\ndataframe\n"
   },
   "outputs": [],
   "source": []
  },
  {
   "cell_type": "markdown",
   "metadata": {},
   "source": [
    "-----------\n",
    "**QUESTION:**\n",
    "\n",
    "Did anything happen that you didn't expect? Are you concerned? What could you do about it?\n"
   ]
  },
  {
   "cell_type": "markdown",
   "metadata": {},
   "source": [
    "**ANSWER: (click here to edit)**\n",
    "\n\n<hr>"
   ]
  },
  {
   "cell_type": "markdown",
   "metadata": {},
   "source": [
    "`describe` the dataframe again."
   ]
  },
  {
   "cell_type": "code",
   "execution_count": 26,
   "metadata": {
    "user_blocks": [
     "varDoMethod"
    ],
    "user_blocks_xml": "<xml xmlns=\"https://developers.google.com/blockly/xml\"><variables><variable id=\"/z]X|sEpLfH7ip{3^4{[\">dataframe</variable></variables><block type=\"varDoMethod\" id=\"^yCV!E3eMZL.3}#4MS8r\" x=\"8\" y=\"188\"><mutation items=\"1\"></mutation><field name=\"VAR\" id=\"/z]X|sEpLfH7ip{3^4{[\">dataframe</field><field name=\"MEMBER\">describe</field><data>dataframe:describe</data></block></xml>",
    "user_code_from_blocks": "dataframe.describe()\n"
   },
   "outputs": [],
   "source": []
  },
  {
   "cell_type": "markdown",
   "metadata": {},
   "source": [
    "-----------\n",
    "**QUESTION:**\n",
    "\n",
    "Did the min, mean, and max change?\n",
    "What about the 25th, 50th (median), and 75th percentiles?\n",
    "Are you surprised?\n"
   ]
  },
  {
   "cell_type": "markdown",
   "metadata": {},
   "source": [
    "**ANSWER: (click here to edit)**\n",
    "\n\n<hr>"
   ]
  },
  {
   "cell_type": "markdown",
   "metadata": {},
   "source": [
    "### Non-normality\n",
    "\n",
    "Plot a histogram of `displacement`."
   ]
  },
  {
   "cell_type": "code",
   "execution_count": 28,
   "metadata": {
    "user_blocks": [
     "varDoMethod",
     "variables_get",
     "dummyOutputCodeBlock"
    ],
    "user_blocks_xml": "<xml xmlns=\"https://developers.google.com/blockly/xml\"><variables><variable id=\"zZmWV$gHDceKnNTL0qJD\">px</variable><variable id=\"/z]X|sEpLfH7ip{3^4{[\">dataframe</variable></variables><block type=\"varDoMethod\" id=\";3XBa2S8*(1iI?altE[v\" x=\"-115\" y=\"207\"><mutation items=\"2\"></mutation><field name=\"VAR\" id=\"zZmWV$gHDceKnNTL0qJD\">px</field><field name=\"MEMBER\">histogram</field><data>px:histogram</data><value name=\"ADD0\"><block type=\"variables_get\" id=\"BwJzSVtxVG};cH=9|/.*\"><field name=\"VAR\" id=\"/z]X|sEpLfH7ip{3^4{[\">dataframe</field></block></value><value name=\"ADD1\"><block type=\"dummyOutputCodeBlock\" id=\"~BA1[^jmdq+qzIO-z`s1\"><field name=\"CODE\">x=\"displacement\"</field></block></value></block></xml>",
    "user_code_from_blocks": "px.histogram(dataframe,x=\"displacement\")\n"
   },
   "outputs": [],
   "source": []
  },
  {
   "cell_type": "markdown",
   "metadata": {},
   "source": [
    "-----------\n",
    "**QUESTION:**\n",
    "\n",
    "Suppose we wanted to predict `displacement` in a linear regression.\n",
    "Should we transform it to make it more normal?\n"
   ]
  },
  {
   "cell_type": "markdown",
   "metadata": {},
   "source": [
    "**ANSWER: (click here to edit)**\n",
    "\n\n<hr>"
   ]
  },
  {
   "cell_type": "markdown",
   "metadata": {},
   "source": [
    "Import `numpy` so you can transform `displacement`."
   ]
  },
  {
   "cell_type": "code",
   "execution_count": 31,
   "metadata": {
    "user_blocks": [
     "importAs"
    ],
    "user_blocks_xml": "<xml xmlns=\"https://developers.google.com/blockly/xml\"><variables><variable id=\"]r.MVxn$.B;84`lPo@#0\">np</variable></variables><block type=\"importAs\" id=\"405[o%Y^^u?jrH7uGE3H\" x=\"50\" y=\"96\"><field name=\"libraryName\">numpy</field><field name=\"VAR\" id=\"]r.MVxn$.B;84`lPo@#0\">np</field></block></xml>",
    "user_code_from_blocks": "import numpy as np\n"
   },
   "outputs": [],
   "source": []
  },
  {
   "cell_type": "markdown",
   "metadata": {},
   "source": [
    "Plot a log transformed `displacement`."
   ]
  },
  {
   "cell_type": "code",
   "execution_count": 33,
   "metadata": {
    "user_blocks": [
     "varDoMethod",
     "dummyOutputCodeBlock"
    ],
    "user_blocks_xml": "<xml xmlns=\"https://developers.google.com/blockly/xml\"><variables><variable id=\"zZmWV$gHDceKnNTL0qJD\">px</variable></variables><block type=\"varDoMethod\" id=\";3XBa2S8*(1iI?altE[v\" x=\"-115\" y=\"207\"><mutation items=\"1\"></mutation><field name=\"VAR\" id=\"zZmWV$gHDceKnNTL0qJD\">px</field><field name=\"MEMBER\">histogram</field><data>px:histogram</data><value name=\"ADD0\"><block type=\"dummyOutputCodeBlock\" id=\"v2~j@?227+GX^/(Du7(P\"><field name=\"CODE\">np.log1p(dataframe[\"displacement\"])</field></block></value></block></xml>",
    "user_code_from_blocks": "px.histogram(np.log1p(dataframe[\"displacement\"]))\n"
   },
   "outputs": [],
   "source": []
  },
  {
   "cell_type": "markdown",
   "metadata": {},
   "source": [
    "-----------\n",
    "**QUESTION:**\n",
    "\n",
    "Is this better?\n",
    "What else might you consider doing?\n"
   ]
  },
  {
   "cell_type": "markdown",
   "metadata": {},
   "source": [
    "**ANSWER: (click here to edit)**\n",
    "\n\n<hr>"
   ]
  },
  {
   "cell_type": "markdown",
   "metadata": {},
   "source": [
    "## Create new variables"
   ]
  },
  {
   "cell_type": "markdown",
   "metadata": {},
   "source": [
    "Create a new variable `ratio` in the dataframe that is `weight` divided by `horsepower`.\n",
    "This is called the power to weight ratio."
   ]
  },
  {
   "cell_type": "code",
   "execution_count": 35,
   "metadata": {
    "user_blocks": [
     "variables_set",
     "varDoMethod",
     "valueOutputCodeBlock",
     "math_arithmetic",
     "indexer",
     "text",
     "indexer",
     "text",
     "variables_get"
    ],
    "user_blocks_xml": "<xml xmlns=\"https://developers.google.com/blockly/xml\"><variables><variable id=\"/z]X|sEpLfH7ip{3^4{[\">dataframe</variable></variables><block type=\"variables_set\" id=\"o1ct$+ge.@t#IWxzqDuf\" x=\"-177\" y=\"104\"><field name=\"VAR\" id=\"/z]X|sEpLfH7ip{3^4{[\">dataframe</field><value name=\"VALUE\"><block type=\"varDoMethod\" id=\"{60QkieNtlIe!8pofv*j\"><mutation items=\"1\"></mutation><field name=\"VAR\" id=\"/z]X|sEpLfH7ip{3^4{[\">dataframe</field><field name=\"MEMBER\">assign</field><data>dataframe:assign</data><value name=\"ADD0\"><block type=\"valueOutputCodeBlock\" id=\"X/E.e+WlpSIe/yc:L^Bx\"><field name=\"CODE\">ratio=</field><value name=\"INPUT\"><block type=\"math_arithmetic\" id=\"(@KKNt8RN{99pjjzOzhf\"><field name=\"OP\">DIVIDE</field><value name=\"A\"><shadow type=\"math_number\" id=\"WZW,S?V3a!yHpWw}3wgh\"><field name=\"NUM\">1</field></shadow><block type=\"indexer\" id=\"U,rmi6B;8.sp]Wp]-cDs\"><field name=\"VAR\" id=\"/z]X|sEpLfH7ip{3^4{[\">dataframe</field><value name=\"INDEX\"><block type=\"text\" id=\"+CzdXBJrqJ_kB;uryeTt\"><field name=\"TEXT\">weight</field></block></value></block></value><value name=\"B\"><shadow type=\"math_number\" id=\"p3:TTG6s0VGd$!+33Tt%\"><field name=\"NUM\">1</field></shadow><block type=\"indexer\" id=\"^?_42r/5u_]V)l!tEXi^\"><field name=\"VAR\" id=\"/z]X|sEpLfH7ip{3^4{[\">dataframe</field><value name=\"INDEX\"><block type=\"text\" id=\"ODv=7HD#(EacB]av0dbv\"><field name=\"TEXT\">horsepower</field></block></value></block></value></block></value></block></value></block></value></block><block type=\"variables_get\" id=\"(6Afq^C~smg)Yqm.BpSu\" x=\"-192\" y=\"296\"><field name=\"VAR\" id=\"/z]X|sEpLfH7ip{3^4{[\">dataframe</field></block></xml>",
    "user_code_from_blocks": "dataframe = dataframe.assign(ratio= (dataframe['weight'] / dataframe['horsepower']))\n\ndataframe\n"
   },
   "outputs": [],
   "source": []
  },
  {
   "cell_type": "markdown",
   "metadata": {},
   "source": [
    "Compare `ratio` to `weight` and `horsepower` in three plots.\n",
    "\n",
    "First, plot the histogram of weight."
   ]
  },
  {
   "cell_type": "code",
   "execution_count": 37,
   "metadata": {
    "user_blocks": [
     "varDoMethod",
     "indexer",
     "text"
    ],
    "user_blocks_xml": "<xml xmlns=\"https://developers.google.com/blockly/xml\"><variables><variable id=\"zZmWV$gHDceKnNTL0qJD\">px</variable><variable id=\"/z]X|sEpLfH7ip{3^4{[\">dataframe</variable></variables><block type=\"varDoMethod\" id=\";3XBa2S8*(1iI?altE[v\" x=\"-115\" y=\"207\"><mutation items=\"1\"></mutation><field name=\"VAR\" id=\"zZmWV$gHDceKnNTL0qJD\">px</field><field name=\"MEMBER\">histogram</field><data>px:histogram</data><value name=\"ADD0\"><block type=\"indexer\" id=\"ZQGGecy}9v^qC^zH#438\"><field name=\"VAR\" id=\"/z]X|sEpLfH7ip{3^4{[\">dataframe</field><value name=\"INDEX\"><block type=\"text\" id=\":5!?d_2r8:.l]OVh|M|M\"><field name=\"TEXT\">weight</field></block></value></block></value></block></xml>",
    "user_code_from_blocks": "px.histogram(dataframe['weight'])\n"
   },
   "outputs": [],
   "source": []
  },
  {
   "cell_type": "markdown",
   "metadata": {},
   "source": [
    "Next plot the histogram of `horsepower`."
   ]
  },
  {
   "cell_type": "code",
   "execution_count": 39,
   "metadata": {
    "user_blocks": [
     "varDoMethod",
     "indexer",
     "text"
    ],
    "user_blocks_xml": "<xml xmlns=\"https://developers.google.com/blockly/xml\"><variables><variable id=\"zZmWV$gHDceKnNTL0qJD\">px</variable><variable id=\"/z]X|sEpLfH7ip{3^4{[\">dataframe</variable></variables><block type=\"varDoMethod\" id=\";3XBa2S8*(1iI?altE[v\" x=\"-115\" y=\"207\"><mutation items=\"1\"></mutation><field name=\"VAR\" id=\"zZmWV$gHDceKnNTL0qJD\">px</field><field name=\"MEMBER\">histogram</field><data>px:histogram</data><value name=\"ADD0\"><block type=\"indexer\" id=\"ZQGGecy}9v^qC^zH#438\"><field name=\"VAR\" id=\"/z]X|sEpLfH7ip{3^4{[\">dataframe</field><value name=\"INDEX\"><block type=\"text\" id=\":5!?d_2r8:.l]OVh|M|M\"><field name=\"TEXT\">horsepower</field></block></value></block></value></block></xml>",
    "user_code_from_blocks": "px.histogram(dataframe['horsepower'])\n"
   },
   "outputs": [],
   "source": []
  },
  {
   "cell_type": "markdown",
   "metadata": {},
   "source": [
    "Finally plot the histogram of `ratio`."
   ]
  },
  {
   "cell_type": "code",
   "execution_count": 41,
   "metadata": {
    "user_blocks": [
     "varDoMethod",
     "indexer",
     "text"
    ],
    "user_blocks_xml": "<xml xmlns=\"https://developers.google.com/blockly/xml\"><variables><variable id=\"zZmWV$gHDceKnNTL0qJD\">px</variable><variable id=\"/z]X|sEpLfH7ip{3^4{[\">dataframe</variable></variables><block type=\"varDoMethod\" id=\";3XBa2S8*(1iI?altE[v\" x=\"-115\" y=\"207\"><mutation items=\"1\"></mutation><field name=\"VAR\" id=\"zZmWV$gHDceKnNTL0qJD\">px</field><field name=\"MEMBER\">histogram</field><data>px:histogram</data><value name=\"ADD0\"><block type=\"indexer\" id=\"ZQGGecy}9v^qC^zH#438\"><field name=\"VAR\" id=\"/z]X|sEpLfH7ip{3^4{[\">dataframe</field><value name=\"INDEX\"><block type=\"text\" id=\":5!?d_2r8:.l]OVh|M|M\"><field name=\"TEXT\">ratio</field></block></value></block></value></block></xml>",
    "user_code_from_blocks": "px.histogram(dataframe['ratio'])\n"
   },
   "outputs": [],
   "source": []
  },
  {
   "cell_type": "markdown",
   "metadata": {},
   "source": [
    "-----------\n",
    "**QUESTION:**\n",
    "\n",
    "What can you say about the distributions of variables in these three plots?\n",
    "How does it make you feel about `ratio`?\n"
   ]
  },
  {
   "cell_type": "markdown",
   "metadata": {},
   "source": [
    "**ANSWER: (click here to edit)**\n",
    "\n\n<hr>"
   ]
  },
  {
   "cell_type": "markdown",
   "metadata": {},
   "source": [
    "## Versioning\n",
    "\n",
    "Try to make a commit using your current workspace. "
   ]
  },
  {
   "cell_type": "markdown",
   "metadata": {},
   "source": [
    "-----------\n",
    "**QUESTION:**\n",
    "\n",
    "Was there anything about your workspace in `git` that surprised you?\n"
   ]
  },
  {
   "cell_type": "markdown",
   "metadata": {},
   "source": [
    "**ANSWER: (click here to edit)**\n",
    "\n\n<hr>"
   ]
  },
  {
   "cell_type": "markdown",
   "metadata": {},
   "source": [
    "<!--  -->"
   ]
  }
 ],
 "metadata": {
  "kernelspec": {
   "display_name": "Python 3 (ipykernel)",
   "language": "python",
   "name": "python3"
  },
  "language_info": {
   "codemirror_mode": {
    "name": "ipython",
    "version": 3
   },
   "file_extension": ".py",
   "mimetype": "text/x-python",
   "name": "python",
   "nbconvert_exporter": "python",
   "pygments_lexer": "ipython3",
   "version": "3.12.6"
  }
 },
 "nbformat": 4,
 "nbformat_minor": 4
}
