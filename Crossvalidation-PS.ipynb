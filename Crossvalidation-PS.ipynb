{
 "cells": [
  {
   "cell_type": "markdown",
   "metadata": {
    "deletable": false,
    "editable": false
   },
   "source": [
    "Copyright 2020 Andrew M. Olney and made available under [CC BY-SA](https://creativecommons.org/licenses/by-sa/4.0) for text and [Apache-2.0](http://www.apache.org/licenses/LICENSE-2.0) for code."
   ]
  },
  {
   "cell_type": "markdown",
   "metadata": {},
   "source": [
    "# Crossvalidation and Nested crossvalidation: Problem solving\n",
    "\n",
    "In this session, you will apply nested crossvalidation to logistic lasso regression, to find the optimal regularization parameter (or penalty term) for predicting breast cancer.\n",
    "\n",
    "The [data](https://scikit-learn.org/stable/datasets/index.html#breast-cancer-dataset) consists of the following variables as mean, standard error, and \"worst\" (mean of three largest variables) collected by digital imagery of a biopsy.\n",
    "\n",
    "| Variable | Type | Description |\n",
    "|:-------|:-------|:-------|\n",
    "|radius | Ratio | mean of distances from center to points on the perimeter|\n",
    "|texture | Ratio | standard deviation of gray-scale values|\n",
    "|perimeter | Ratio | perimeter of cancer|\n",
    "|area | Ratio | area of cancer|\n",
    "|smoothness | Ratio | local variation in radius lengths|\n",
    "|compactness | Ratio |  perimeter^2 / area - 1.0|\n",
    "|concavity | Ratio |  severity of concave portions of the contour|\n",
    "|concave points | Ratio |  number of concave portions of the contour|\n",
    "|symmetry | Ratio | symmetry of cancer|\n",
    "|fractal dimension | Ratio | \"coastline approximation\" - 1|\n",
    "\n",
    "<div style=\"text-align:center;font-size: smaller\">\n",
    "    <b>Source:</b> This dataset was taken from the <a href=\"https://archive.ics.uci.edu/ml/datasets/Breast+Cancer+Wisconsin+(Diagnostic)\">UCI Machine Learning Repository library\n",
    "    </a>\n",
    "</div>\n",
    "<br>\n",
    "\n",
    "\n",
    "In addition to these predictors is the class label:\n",
    "\n",
    "| Variable | Type | Description |\n",
    "|:-------|:-------|:-------|\n",
    "| Target | Nominal (binary) | malignant (1) or benign (0)\n",
    "\n",
    "\n",
    "The goal is to predict `Target`, i.e. the presence of breast cancer."
   ]
  },
  {
   "cell_type": "markdown",
   "metadata": {},
   "source": [
    "### Load data\n",
    "\n",
    "Import `pandas` so we can load a dataframe."
   ]
  },
  {
   "cell_type": "code",
   "execution_count": 3,
   "metadata": {
    "user_blocks": [
     "importAs"
    ],
    "user_blocks_xml": "<xml xmlns=\"https://developers.google.com/blockly/xml\"><variables><variable id=\"A]5Vf/x,=8dk=KKk3OrJ\">pd</variable></variables><block type=\"importAs\" id=\"G*NhDz5Jo?CcaJf3rUv}\" x=\"150\" y=\"308\"><field name=\"libraryName\">pandas</field><field name=\"VAR\" id=\"A]5Vf/x,=8dk=KKk3OrJ\">pd</field></block></xml>",
    "user_code_from_blocks": "import pandas as pd\n"
   },
   "outputs": [],
   "source": []
  },
  {
   "cell_type": "markdown",
   "metadata": {},
   "source": [
    "Load the dataframe with `datasets/cancer.csv`."
   ]
  },
  {
   "cell_type": "code",
   "execution_count": 5,
   "metadata": {
    "user_blocks": [
     "variables_set",
     "varDoMethod",
     "text",
     "variables_get"
    ],
    "user_blocks_xml": "<xml xmlns=\"https://developers.google.com/blockly/xml\"><variables><variable id=\"Y+grzOaS*0=OHV6zO8m/\">dataframe</variable><variable id=\"A]5Vf/x,=8dk=KKk3OrJ\">pd</variable></variables><block type=\"variables_set\" id=\"^p6DH/6N@h{Uka=BzJ_j\" x=\"9\" y=\"196\"><field name=\"VAR\" id=\"Y+grzOaS*0=OHV6zO8m/\">dataframe</field><value name=\"VALUE\"><block type=\"varDoMethod\" id=\"69MJvg`#}wvn~s)@r$Oy\"><mutation items=\"1\"></mutation><field name=\"VAR\" id=\"A]5Vf/x,=8dk=KKk3OrJ\">pd</field><field name=\"MEMBER\">read_csv</field><data>pd:read_csv</data><value name=\"ADD0\"><block type=\"text\" id=\"h]qBQ;Jd,%5[VFJ{5Qrg\"><field name=\"TEXT\">datasets/cancer.csv</field></block></value></block></value></block><block type=\"variables_get\" id=\"cecq@1cDqS`l`^:tG5pI\" x=\"8\" y=\"296\"><field name=\"VAR\" id=\"Y+grzOaS*0=OHV6zO8m/\">dataframe</field></block></xml>",
    "user_code_from_blocks": "dataframe = pd.read_csv('datasets/cancer.csv')\n\ndataframe\n"
   },
   "outputs": [],
   "source": []
  },
  {
   "cell_type": "markdown",
   "metadata": {},
   "source": [
    "## Explore data"
   ]
  },
  {
   "cell_type": "markdown",
   "metadata": {},
   "source": [
    "Since there are clearly some NaN, `dropna` and store the results back into your dataframe."
   ]
  },
  {
   "cell_type": "code",
   "execution_count": 7,
   "metadata": {
    "user_blocks": [
     "variables_set",
     "varDoMethod",
     "variables_get"
    ],
    "user_blocks_xml": "<xml xmlns=\"https://developers.google.com/blockly/xml\"><variables><variable id=\"Y+grzOaS*0=OHV6zO8m/\">dataframe</variable></variables><block type=\"variables_set\" id=\"FJGldw(qFp?V=E]uaN)4\" x=\"31\" y=\"222\"><field name=\"VAR\" id=\"Y+grzOaS*0=OHV6zO8m/\">dataframe</field><value name=\"VALUE\"><block type=\"varDoMethod\" id=\"4s18v%0iqE%_l@{fLYCo\"><mutation items=\"1\"></mutation><field name=\"VAR\" id=\"Y+grzOaS*0=OHV6zO8m/\">dataframe</field><field name=\"MEMBER\">dropna</field><data>dataframe:dropna</data></block></value></block><block type=\"variables_get\" id=\"yN6MT1B[)Pk)cEECN_YZ\" x=\"31\" y=\"286\"><field name=\"VAR\" id=\"Y+grzOaS*0=OHV6zO8m/\">dataframe</field></block></xml>",
    "user_code_from_blocks": "dataframe = dataframe.dropna()\n\ndataframe\n"
   },
   "outputs": [],
   "source": []
  },
  {
   "cell_type": "markdown",
   "metadata": {},
   "source": [
    "Check the data makes sense with the five figure summary."
   ]
  },
  {
   "cell_type": "code",
   "execution_count": 9,
   "metadata": {
    "user_blocks": [
     "varDoMethod"
    ],
    "user_blocks_xml": "<xml xmlns=\"https://developers.google.com/blockly/xml\"><variables><variable id=\"Y+grzOaS*0=OHV6zO8m/\">dataframe</variable></variables><block type=\"varDoMethod\" id=\"-[lX-}4sT`|#7E(Sti)^\" x=\"78\" y=\"266\"><mutation items=\"1\"></mutation><field name=\"VAR\" id=\"Y+grzOaS*0=OHV6zO8m/\">dataframe</field><field name=\"MEMBER\">describe</field><data>dataframe:describe</data></block></xml>",
    "user_code_from_blocks": "dataframe.describe()\n"
   },
   "outputs": [],
   "source": []
  },
  {
   "cell_type": "markdown",
   "metadata": {},
   "source": [
    "-----------\n",
    "**QUESTION:**\n",
    "\n",
    "Do the min, mean, and max look reasonable to you?"
   ]
  },
  {
   "cell_type": "markdown",
   "metadata": {},
   "source": [
    "**ANSWER: (click here to edit)**\n",
    "\n\n<hr>"
   ]
  },
  {
   "cell_type": "markdown",
   "metadata": {},
   "source": [
    "**QUESTION:**\n",
    "\n",
    "What percentage of the data has `Target=1` and `Target=0`?"
   ]
  },
  {
   "cell_type": "markdown",
   "metadata": {},
   "source": [
    "**ANSWER: (click here to edit)**\n",
    "\n\n<hr>"
   ]
  },
  {
   "cell_type": "markdown",
   "metadata": {},
   "source": [
    "To look at the correlations between variables, create a correlation heatmap."
   ]
  },
  {
   "cell_type": "markdown",
   "metadata": {},
   "source": [
    "First import `plotly.express`."
   ]
  },
  {
   "cell_type": "code",
   "execution_count": 12,
   "metadata": {
    "user_blocks": [
     "importAs"
    ],
    "user_blocks_xml": "<xml xmlns=\"https://developers.google.com/blockly/xml\"><variables><variable id=\"+yh,Zg{hON]zy6D~.rH#\">px</variable></variables><block type=\"importAs\" id=\"JKd}DIrGfV*IelKZ!4ls\" x=\"129\" y=\"219\"><field name=\"libraryName\">plotly.express</field><field name=\"VAR\" id=\"+yh,Zg{hON]zy6D~.rH#\">px</field></block></xml>",
    "user_code_from_blocks": "import plotly.express as px\n"
   },
   "outputs": [],
   "source": []
  },
  {
   "cell_type": "markdown",
   "metadata": {},
   "source": [
    "And create a correlation matrix."
   ]
  },
  {
   "cell_type": "code",
   "execution_count": 14,
   "metadata": {
    "user_blocks": [
     "variables_set",
     "varDoMethod"
    ],
    "user_blocks_xml": "<xml xmlns=\"https://developers.google.com/blockly/xml\"><variables><variable id=\"Nzf/=Q)W#.;)QR}gY_Ur\">corr</variable><variable id=\"Y+grzOaS*0=OHV6zO8m/\">dataframe</variable></variables><block type=\"variables_set\" id=\"g:(h]9_d91#9*:0+_W#-\" x=\"56\" y=\"310\"><field name=\"VAR\" id=\"Nzf/=Q)W#.;)QR}gY_Ur\">corr</field><value name=\"VALUE\"><block type=\"varDoMethod\" id=\"8;d*+wxrr5%F3m!clD{p\"><mutation items=\"1\"></mutation><field name=\"VAR\" id=\"Y+grzOaS*0=OHV6zO8m/\">dataframe</field><field name=\"MEMBER\">corr</field><data>dataframe:corr</data></block></value></block></xml>",
    "user_code_from_blocks": "corr = dataframe.corr()\n"
   },
   "outputs": [],
   "source": []
  },
  {
   "cell_type": "markdown",
   "metadata": {},
   "source": [
    "Show a correlation heatmap with row/column labels."
   ]
  },
  {
   "cell_type": "code",
   "execution_count": 16,
   "metadata": {
    "user_blocks": [
     "varDoMethod",
     "variables_get",
     "dummyOutputCodeBlock",
     "dummyOutputCodeBlock"
    ],
    "user_blocks_xml": "<xml xmlns=\"https://developers.google.com/blockly/xml\"><variables><variable id=\"+yh,Zg{hON]zy6D~.rH#\">px</variable><variable id=\"Nzf/=Q)W#.;)QR}gY_Ur\">corr</variable></variables><block type=\"varDoMethod\" id=\";Cb=u8[v?Z=ZqSh!rye-\" x=\"8\" y=\"176\"><mutation items=\"3\"></mutation><field name=\"VAR\" id=\"+yh,Zg{hON]zy6D~.rH#\">px</field><field name=\"MEMBER\">imshow</field><data>px:imshow</data><value name=\"ADD0\"><block type=\"variables_get\" id=\"8R}*biK{_3*YsC5vT-Sw\"><field name=\"VAR\" id=\"Nzf/=Q)W#.;)QR}gY_Ur\">corr</field></block></value><value name=\"ADD1\"><block type=\"dummyOutputCodeBlock\" id=\"P19%UZQYzb=tJWH-[-D.\"><field name=\"CODE\">x=corr.columns</field></block></value><value name=\"ADD2\"><block type=\"dummyOutputCodeBlock\" id=\"`nYiz=e7MyuC3[iPuHsz\"><field name=\"CODE\">y=corr.columns</field></block></value></block></xml>",
    "user_code_from_blocks": "px.imshow(corr,x=corr.columns,y=corr.columns)\n"
   },
   "outputs": [],
   "source": []
  },
  {
   "cell_type": "markdown",
   "metadata": {},
   "source": [
    "-----------\n",
    "**QUESTION:**\n",
    "\n",
    "What can you say about the correlations amongst the variables?"
   ]
  },
  {
   "cell_type": "markdown",
   "metadata": {},
   "source": [
    "**ANSWER: (click here to edit)**\n",
    "\n\n<hr>"
   ]
  },
  {
   "cell_type": "markdown",
   "metadata": {},
   "source": [
    "\n",
    "**QUESTION:**\n",
    "\n",
    "Are there any more plots you'd want to do at this point? Why or why not?"
   ]
  },
  {
   "cell_type": "markdown",
   "metadata": {},
   "source": [
    "**ANSWER: (click here to edit)**\n",
    "\n\n<hr>"
   ]
  },
  {
   "cell_type": "markdown",
   "metadata": {},
   "source": [
    "### Prepare train/test sets"
   ]
  },
  {
   "cell_type": "markdown",
   "metadata": {},
   "source": [
    "Separate our predictors (`X`) from our class label (`Y`), putting each into its own dataframe."
   ]
  },
  {
   "cell_type": "code",
   "execution_count": 18,
   "metadata": {
    "user_blocks": [
     "variables_set",
     "varDoMethod",
     "dummyOutputCodeBlock",
     "variables_set",
     "indexer",
     "lists_create_with",
     "text"
    ],
    "user_blocks_xml": "<xml xmlns=\"https://developers.google.com/blockly/xml\"><variables><variable id=\"_z/H/tTnOYS1Lla2~;*0\">X</variable><variable id=\"o8#tp%!,_Okj2aVwX(DL\">Y</variable><variable id=\"Y+grzOaS*0=OHV6zO8m/\">dataframe</variable></variables><block type=\"variables_set\" id=\"v$m6b}OQu(wF6Gk!)w:Z\" x=\"95\" y=\"191\"><field name=\"VAR\" id=\"_z/H/tTnOYS1Lla2~;*0\">X</field><value name=\"VALUE\"><block type=\"varDoMethod\" id=\"mA!*r=_YYu?ypCUOhdUQ\"><mutation items=\"1\"></mutation><field name=\"VAR\" id=\"Y+grzOaS*0=OHV6zO8m/\">dataframe</field><field name=\"MEMBER\">drop</field><data>dataframe:drop</data><value name=\"ADD0\"><block type=\"dummyOutputCodeBlock\" id=\"zG~mVrGO2la?/4Tc#+4K\"><field name=\"CODE\">columns=[\"Target\"]</field></block></value></block></value></block><block type=\"variables_set\" id=\"J.(r-ci$Z]0(z{=R,T;+\" x=\"99\" y=\"279\"><field name=\"VAR\" id=\"o8#tp%!,_Okj2aVwX(DL\">Y</field><value name=\"VALUE\"><block type=\"indexer\" id=\"6o/%E8zn:UY-`.k%%dlC\"><field name=\"VAR\" id=\"Y+grzOaS*0=OHV6zO8m/\">dataframe</field><value name=\"INDEX\"><block type=\"lists_create_with\" id=\".^J[E#0S[3`@2d@+Mu@n\"><mutation items=\"1\"></mutation><value name=\"ADD0\"><block type=\"text\" id=\"M*Uc@Tv*y}{]xN4#,S9j\"><field name=\"TEXT\">Target</field></block></value></block></value></block></value></block></xml>",
    "user_code_from_blocks": "X = dataframe.drop(columns=[\"Target\"])\n\nY = dataframe[['Target']]\n"
   },
   "outputs": [],
   "source": []
  },
  {
   "cell_type": "markdown",
   "metadata": {},
   "source": [
    "### Train model with nested crossvalidation\n",
    "\n",
    "Import libraries for \n",
    "\n",
    "- Logistic regression (`sklearn.linear_model`)\n",
    "- Crossvalidation\n",
    "- `ravel`\n",
    "- Scale (lasso regression is very sensitive to standardization)\n",
    "- Pipeline (to combine scaling and modeling)\n",
    "- Metrics (for evaluation)"
   ]
  },
  {
   "cell_type": "code",
   "execution_count": 26,
   "metadata": {
    "user_blocks": [
     "importAs",
     "importAs",
     "importAs",
     "importAs",
     "importAs",
     "importAs"
    ],
    "user_blocks_xml": "<xml xmlns=\"https://developers.google.com/blockly/xml\"><variables><variable id=\"cGnMvhq5543q[r$:Og-x\">linear_model</variable><variable id=\"-q~R*yx.VGQ@%!0Q+!gh\">model_selection</variable><variable id=\"hxqH|@PJU~wrI]t*tHgd\">np</variable><variable id=\".T`xqZHAu7r0$MQ4s=Yg\">pp</variable><variable id=\"=z9KfSBWpoDS,oj-?yx,\">pipe</variable><variable id=\"jpz]0=,hLYv~rN^#0dFO\">metrics</variable></variables><block type=\"importAs\" id=\"a_VXotnNJ4I;X-InkXS5\" x=\"-3\" y=\"136\"><field name=\"libraryName\">sklearn.linear_model</field><field name=\"VAR\" id=\"cGnMvhq5543q[r$:Og-x\">linear_model</field><next><block type=\"importAs\" id=\"E{QJ$O@lc8u.;OTWdVgf\"><field name=\"libraryName\">sklearn.model_selection</field><field name=\"VAR\" id=\"-q~R*yx.VGQ@%!0Q+!gh\">model_selection</field><next><block type=\"importAs\" id=\"%54AMyx`5atYhM+,;y=E\"><field name=\"libraryName\">numpy</field><field name=\"VAR\" id=\"hxqH|@PJU~wrI]t*tHgd\">np</field><next><block type=\"importAs\" id=\"Y_X_=wl?6L0]3t_pz!qr\"><field name=\"libraryName\">sklearn.preprocessing</field><field name=\"VAR\" id=\".T`xqZHAu7r0$MQ4s=Yg\">pp</field><next><block type=\"importAs\" id=\"a2fY;O3%6%So/D6a1oop\"><field name=\"libraryName\">sklearn.pipeline</field><field name=\"VAR\" id=\"=z9KfSBWpoDS,oj-?yx,\">pipe</field><next><block type=\"importAs\" id=\"t2i[`M_,(h0KHIF4[UGr\"><field name=\"libraryName\">sklearn.metrics</field><field name=\"VAR\" id=\"jpz]0=,hLYv~rN^#0dFO\">metrics</field></block></next></block></next></block></next></block></next></block></next></block></xml>",
    "user_code_from_blocks": "import sklearn.linear_model as linear_model\nimport sklearn.model_selection as model_selection\nimport numpy as np\nimport sklearn.preprocessing as pp\nimport sklearn.pipeline as pipe\nimport sklearn.metrics as metrics\n"
   },
   "outputs": [],
   "source": []
  },
  {
   "cell_type": "markdown",
   "metadata": {},
   "source": [
    "Create a pipeline to scale and train in one step:\n",
    "- Call stage 1 `\"scale\"` and use `StandardScaler`\n",
    "- Call stage 2 `\"lasso\"` and use `LogisticRegression` with `penalty=\"l2\"`\n"
   ]
  },
  {
   "cell_type": "code",
   "execution_count": 28,
   "metadata": {
    "user_blocks": [
     "variables_set",
     "varCreateObject",
     "lists_create_with",
     "tupleBlock",
     "text",
     "varCreateObject",
     "tupleBlock",
     "text",
     "varCreateObject",
     "dummyOutputCodeBlock"
    ],
    "user_blocks_xml": "<xml xmlns=\"https://developers.google.com/blockly/xml\"><variables><variable id=\"WMn%x,]:2AW7#OLRLzEH\">model</variable><variable id=\"=z9KfSBWpoDS,oj-?yx,\">pipe</variable><variable id=\".T`xqZHAu7r0$MQ4s=Yg\">pp</variable><variable id=\"cGnMvhq5543q[r$:Og-x\">linear_model</variable></variables><block type=\"variables_set\" id=\"/Qq`Z+-E+@?d7iqIa$gt\" x=\"-81\" y=\"270\"><field name=\"VAR\" id=\"WMn%x,]:2AW7#OLRLzEH\">model</field><value name=\"VALUE\"><block type=\"varCreateObject\" id=\"C1|kicy)4reyhtAHqLiy\"><mutation items=\"1\"></mutation><field name=\"VAR\" id=\"=z9KfSBWpoDS,oj-?yx,\">pipe</field><field name=\"MEMBER\">Pipeline</field><data>pipe:Pipeline</data><value name=\"ADD0\"><block type=\"lists_create_with\" id=\"_l)zP/3CzX:}g67,c=WQ\"><mutation items=\"2\"></mutation><value name=\"ADD0\"><block type=\"tupleBlock\" id=\"1maX^Dw3HS=.B.Nu|X36\"><value name=\"FIRST\"><block type=\"text\" id=\"DiZ?E2]);rmc#9%ta{V:\"><field name=\"TEXT\">scale</field></block></value><value name=\"SECOND\"><block type=\"varCreateObject\" id=\"R0A,0sp15n@tOP;u(ZK[\"><mutation items=\"1\"></mutation><field name=\"VAR\" id=\".T`xqZHAu7r0$MQ4s=Yg\">pp</field><field name=\"MEMBER\">StandardScaler</field><data>pp:StandardScaler</data></block></value></block></value><value name=\"ADD1\"><block type=\"tupleBlock\" id=\"X*K@DJs:A2Y[YDBsYLE9\"><value name=\"FIRST\"><block type=\"text\" id=\"zVx=RpJIpMJVwqSv(}r=\"><field name=\"TEXT\">lasso</field></block></value><value name=\"SECOND\"><block type=\"varCreateObject\" id=\"7J3ooiL#@;m{L]Z39ntG\"><mutation items=\"1\"></mutation><field name=\"VAR\" id=\"cGnMvhq5543q[r$:Og-x\">linear_model</field><field name=\"MEMBER\">LogisticRegression</field><data>linear_model:LogisticRegression</data><value name=\"ADD0\"><block type=\"dummyOutputCodeBlock\" id=\"G_=6Myq/5e|A}qv]wKgP\"><field name=\"CODE\">penalty=\"l2\"</field></block></value></block></value></block></value></block></value></block></value></block></xml>",
    "user_code_from_blocks": "model = pipe.Pipeline([('scale',(pp.StandardScaler())), ('lasso',(linear_model.LogisticRegression(penalty=\"l2\")))])\n"
   },
   "outputs": [],
   "source": []
  },
  {
   "cell_type": "markdown",
   "metadata": {},
   "source": [
    "Create a grid search with:\n",
    "- `'lasso__C': [.25, .50, .75, 1.0]`\n",
    "- `cv=10`\n",
    "\n",
    "Create predictions using `cross_val_predict` with the grid search, data and `cv=10`"
   ]
  },
  {
   "cell_type": "code",
   "execution_count": 30,
   "metadata": {
    "user_blocks": [
     "variables_set",
     "varCreateObject",
     "dummyOutputCodeBlock",
     "dummyOutputCodeBlock",
     "dummyOutputCodeBlock",
     "variables_set",
     "varDoMethod",
     "variables_get",
     "variables_get",
     "varDoMethod",
     "variables_get",
     "dummyOutputCodeBlock"
    ],
    "user_blocks_xml": "<xml xmlns=\"https://developers.google.com/blockly/xml\"><variables><variable id=\"yv+gPAZd/8:NDOnmJ~uf\">gridSearch</variable><variable id=\"(`;mrW|63Vww]$wlV9+1\">predictions</variable><variable id=\"-q~R*yx.VGQ@%!0Q+!gh\">model_selection</variable><variable id=\"_z/H/tTnOYS1Lla2~;*0\">X</variable><variable id=\"hxqH|@PJU~wrI]t*tHgd\">np</variable><variable id=\"o8#tp%!,_Okj2aVwX(DL\">Y</variable></variables><block type=\"variables_set\" id=\"MdOb2;C)R63)q*Rc2=ST\" x=\"-121\" y=\"238\"><field name=\"VAR\" id=\"yv+gPAZd/8:NDOnmJ~uf\">gridSearch</field><value name=\"VALUE\"><block type=\"varCreateObject\" id=\"CH5|hYh%Pz@KaZhFAm=y\"><mutation items=\"3\"></mutation><field name=\"VAR\" id=\"-q~R*yx.VGQ@%!0Q+!gh\">model_selection</field><field name=\"MEMBER\">GridSearchCV</field><data>model_selection:GridSearchCV</data><value name=\"ADD0\"><block type=\"dummyOutputCodeBlock\" id=\"_[*=v~x0I=DYlb0$v*)m\"><field name=\"CODE\">estimator=model</field></block></value><value name=\"ADD1\"><block type=\"dummyOutputCodeBlock\" id=\"ei5PqC02zmUAht@0TGE`\"><field name=\"CODE\">param_grid={'lasso__C': [.25, .50, .75, 1.0]}</field></block></value><value name=\"ADD2\"><block type=\"dummyOutputCodeBlock\" id=\"|rwaRAwKdlmxrXv[CB5(\"><field name=\"CODE\">cv=10</field></block></value></block></value></block><block type=\"variables_set\" id=\"lSvA0DytvC@jnk4`j!b@\" x=\"-138\" y=\"386\"><field name=\"VAR\" id=\"(`;mrW|63Vww]$wlV9+1\">predictions</field><value name=\"VALUE\"><block type=\"varDoMethod\" id=\"-wd!`}p_pK]R$T[Yv{yX\"><mutation items=\"4\"></mutation><field name=\"VAR\" id=\"-q~R*yx.VGQ@%!0Q+!gh\">model_selection</field><field name=\"MEMBER\">cross_val_predict</field><data>model_selection:cross_val_predict</data><value name=\"ADD0\"><block type=\"variables_get\" id=\"1TBz_GS_%,|[%?#+^iOT\"><field name=\"VAR\" id=\"yv+gPAZd/8:NDOnmJ~uf\">gridSearch</field></block></value><value name=\"ADD1\"><block type=\"variables_get\" id=\"XJzP!dqd;3(:hPM;G=ZY\"><field name=\"VAR\" id=\"_z/H/tTnOYS1Lla2~;*0\">X</field></block></value><value name=\"ADD2\"><block type=\"varDoMethod\" id=\"$T?4UUb7hL:@:x}.v2[,\"><mutation items=\"1\"></mutation><field name=\"VAR\" id=\"hxqH|@PJU~wrI]t*tHgd\">np</field><field name=\"MEMBER\">ravel</field><data>np:ravel</data><value name=\"ADD0\"><block type=\"variables_get\" id=\"t88}nxVtUKyz,ou8{:p-\"><field name=\"VAR\" id=\"o8#tp%!,_Okj2aVwX(DL\">Y</field></block></value></block></value><value name=\"ADD3\"><block type=\"dummyOutputCodeBlock\" id=\"|:`mH*(*4#?X?haDRohM\"><field name=\"CODE\">cv=10</field></block></value></block></value></block></xml>",
    "user_code_from_blocks": "gridSearch = model_selection.GridSearchCV(estimator=model,param_grid={'lasso__C': [.25, .50, .75, 1.0]},cv=10)\n\npredictions = model_selection.cross_val_predict(gridSearch,X,np.ravel(Y),cv=10)\n"
   },
   "outputs": [],
   "source": []
  },
  {
   "cell_type": "markdown",
   "metadata": {},
   "source": [
    "### Evaluate the model"
   ]
  },
  {
   "cell_type": "markdown",
   "metadata": {},
   "source": [
    "Get the accuracy by comparing the predictions to *all* of `Y`."
   ]
  },
  {
   "cell_type": "code",
   "execution_count": 32,
   "metadata": {
    "user_blocks": [
     "varDoMethod",
     "variables_get",
     "variables_get"
    ],
    "user_blocks_xml": "<xml xmlns=\"https://developers.google.com/blockly/xml\"><variables><variable id=\"jpz]0=,hLYv~rN^#0dFO\">metrics</variable><variable id=\"o8#tp%!,_Okj2aVwX(DL\">Y</variable><variable id=\"(`;mrW|63Vww]$wlV9+1\">predictions</variable></variables><block type=\"varDoMethod\" id=\"F}9p/^p9*;pp~ZcNuE;@\" x=\"0\" y=\"176\"><mutation items=\"2\"></mutation><field name=\"VAR\" id=\"jpz]0=,hLYv~rN^#0dFO\">metrics</field><field name=\"MEMBER\">accuracy_score</field><data>metrics:accuracy_score</data><value name=\"ADD0\"><block type=\"variables_get\" id=\"LErTj1eg0L*3UA7lXLE{\"><field name=\"VAR\" id=\"o8#tp%!,_Okj2aVwX(DL\">Y</field></block></value><value name=\"ADD1\"><block type=\"variables_get\" id=\"lMeh@i^cTm54?r|qefnC\"><field name=\"VAR\" id=\"(`;mrW|63Vww]$wlV9+1\">predictions</field></block></value></block></xml>",
    "user_code_from_blocks": "metrics.accuracy_score(Y,predictions)\n"
   },
   "outputs": [],
   "source": []
  },
  {
   "cell_type": "markdown",
   "metadata": {},
   "source": [
    "Similarly we can get the recall and precision using all of `Y`."
   ]
  },
  {
   "cell_type": "code",
   "execution_count": 34,
   "metadata": {
    "user_blocks": [
     "text_print",
     "varDoMethod",
     "variables_get",
     "variables_get"
    ],
    "user_blocks_xml": "<xml xmlns=\"https://developers.google.com/blockly/xml\"><variables><variable id=\"jpz]0=,hLYv~rN^#0dFO\">metrics</variable><variable id=\"o8#tp%!,_Okj2aVwX(DL\">Y</variable><variable id=\"(`;mrW|63Vww]$wlV9+1\">predictions</variable></variables><block type=\"text_print\" id=\"{9DtH#+Zi{1}^((zc[x!\" x=\"87\" y=\"368\"><value name=\"TEXT\"><shadow type=\"text\" id=\"|?Q+,+Qs3m9t(4eE@qGx\"><field name=\"TEXT\">abc</field></shadow><block type=\"varDoMethod\" id=\"F}9p/^p9*;pp~ZcNuE;@\"><mutation items=\"2\"></mutation><field name=\"VAR\" id=\"jpz]0=,hLYv~rN^#0dFO\">metrics</field><field name=\"MEMBER\">classification_report</field><data>metrics:classification_report</data><value name=\"ADD0\"><block type=\"variables_get\" id=\"LErTj1eg0L*3UA7lXLE{\"><field name=\"VAR\" id=\"o8#tp%!,_Okj2aVwX(DL\">Y</field></block></value><value name=\"ADD1\"><block type=\"variables_get\" id=\"lMeh@i^cTm54?r|qefnC\"><field name=\"VAR\" id=\"(`;mrW|63Vww]$wlV9+1\">predictions</field></block></value></block></value></block></xml>",
    "user_code_from_blocks": "print(metrics.classification_report(Y,predictions))\n"
   },
   "outputs": [],
   "source": []
  },
  {
   "cell_type": "markdown",
   "metadata": {},
   "source": [
    "### Hyperparameter\n",
    "\n",
    "Use `fit` on the grid search to learn the best overall hyperparameter value for `C`."
   ]
  },
  {
   "cell_type": "code",
   "execution_count": 36,
   "metadata": {
    "user_blocks": [
     "varDoMethod",
     "variables_get",
     "varDoMethod",
     "variables_get"
    ],
    "user_blocks_xml": "<xml xmlns=\"https://developers.google.com/blockly/xml\"><variables><variable id=\"yv+gPAZd/8:NDOnmJ~uf\">gridSearch</variable><variable id=\"_z/H/tTnOYS1Lla2~;*0\">X</variable><variable id=\"hxqH|@PJU~wrI]t*tHgd\">np</variable><variable id=\"o8#tp%!,_Okj2aVwX(DL\">Y</variable></variables><block type=\"varDoMethod\" id=\".[DsHG}f2S4=]TC5Wwx1\" x=\"17\" y=\"386\"><mutation items=\"2\"></mutation><field name=\"VAR\" id=\"yv+gPAZd/8:NDOnmJ~uf\">gridSearch</field><field name=\"MEMBER\">fit</field><data>gridSearch:fit</data><value name=\"ADD0\"><block type=\"variables_get\" id=\"`B(AHJOp9Qp}qrPxooSc\"><field name=\"VAR\" id=\"_z/H/tTnOYS1Lla2~;*0\">X</field></block></value><value name=\"ADD1\"><block type=\"varDoMethod\" id=\"$atcQ%H`L]6,1bhQmCH9\"><mutation items=\"1\"></mutation><field name=\"VAR\" id=\"hxqH|@PJU~wrI]t*tHgd\">np</field><field name=\"MEMBER\">ravel</field><data>np:ravel</data><value name=\"ADD0\"><block type=\"variables_get\" id=\"L!.qq-Tn}xc#Lht8WJAL\"><field name=\"VAR\" id=\"o8#tp%!,_Okj2aVwX(DL\">Y</field></block></value></block></value></block></xml>",
    "user_code_from_blocks": "gridSearch.fit(X,np.ravel(Y))\n"
   },
   "outputs": [],
   "source": []
  },
  {
   "cell_type": "markdown",
   "metadata": {},
   "source": [
    "Display the best hyperparameter value for `C`."
   ]
  },
  {
   "cell_type": "code",
   "execution_count": 38,
   "metadata": {
    "user_blocks": [
     "dummyOutputCodeBlock"
    ],
    "user_blocks_xml": "<xml xmlns=\"https://developers.google.com/blockly/xml\"><block type=\"dummyOutputCodeBlock\" id=\"-l+|(Er0I~hx@x,VxdlQ\" x=\"-7\" y=\"10\"><field name=\"CODE\">gridSearch.best_params_</field></block></xml>",
    "user_code_from_blocks": "gridSearch.best_params_\n"
   },
   "outputs": [],
   "source": []
  },
  {
   "cell_type": "markdown",
   "metadata": {},
   "source": [
    "-----------\n",
    "**QUESTION:**\n",
    "\n",
    "In the previous lasso exercise, we used `C=.75`, but our accuracy was 2% worse.\n",
    "Why do you think our results are better now?"
   ]
  },
  {
   "cell_type": "markdown",
   "metadata": {},
   "source": [
    "**ANSWER: (click here to edit)**\n",
    "\n\n<hr>"
   ]
  }
 ],
 "metadata": {
  "kernelspec": {
   "display_name": "Python 3 (ipykernel)",
   "language": "python",
   "name": "python3"
  },
  "language_info": {
   "codemirror_mode": {
    "name": "ipython",
    "version": 3
   },
   "file_extension": ".py",
   "mimetype": "text/x-python",
   "name": "python",
   "nbconvert_exporter": "python",
   "pygments_lexer": "ipython3",
   "version": "3.12.6"
  }
 },
 "nbformat": 4,
 "nbformat_minor": 4
}
