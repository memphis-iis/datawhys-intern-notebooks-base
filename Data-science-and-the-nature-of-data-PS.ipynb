{
 "cells": [
  {
   "cell_type": "markdown",
   "metadata": {
    "deletable": false,
    "editable": false
   },
   "source": [
    "Copyright 2020 Andrew M. Olney and made available under [CC BY-SA](https://creativecommons.org/licenses/by-sa/4.0) for text and [Apache-2.0](http://www.apache.org/licenses/LICENSE-2.0) for code."
   ]
  },
  {
   "cell_type": "markdown",
   "metadata": {},
   "source": [
    "# Data Science and the Nature of Data: Problem Solving\n",
    "\n",
    "This notebook is a companion to [Data Science and the Nature of Data](Data-science-and-the-nature-of-data.ipynb) so please read that first.\n",
    "\n",
    "## Flower data\n",
    "\n",
    "We will first be working with [a set of flower images](https://drive.google.com/file/d/16OFwIazU-dnu27kzP08iuZvk_lnBK9Ak/view?usp=sharing).\n",
    "\n",
    "A previous group has manually coded these data with three variables:\n",
    "\n",
    "- PetalColor: unicolor or multicolor\n",
    "- PetalShape: rounded or unrounded\n",
    "- Size: small, medium, or large\n",
    "\n",
    "Let's begin by loading the data and inspecting the types of variables.\n",
    "\n",
    "Use [Data Science and the Nature of Data](Data-science-and-the-nature-of-data.ipynb) or the [Reference](Reference.ipynb) if you've forgotten any of these steps.\n",
    "\n",
    "Import the `pandas` library, which lets us work with dataframes."
   ]
  },
  {
   "cell_type": "code",
   "execution_count": 5,
   "metadata": {
    "user_blocks": [
     "importAs"
    ],
    "user_blocks_xml": "<xml xmlns=\"https://developers.google.com/blockly/xml\"><variables><variable id=\"LXC0-aK4$bR7Ebrt}Q[j\">&lt;select&gt;</variable></variables><block type=\"importAs\" id=\"8u3elQqk_!6!WoHrlj}e\" x=\"73\" y=\"63\"><field name=\"libraryName\">pandas</field><field name=\"VAR\" id=\"LXC0-aK4$bR7Ebrt}Q[j\">&lt;select&gt;</field></block></xml>",
    "user_code_from_blocks": "import pandas as _3Cselect_3E\n"
   },
   "outputs": [],
   "source": []
  },
  {
   "cell_type": "markdown",
   "metadata": {},
   "source": [
    "Load a dataframe with the data in \"datasets/flowers.csv\" and display it."
   ]
  },
  {
   "cell_type": "code",
   "execution_count": 7,
   "metadata": {
    "user_blocks": [
     "variables_set",
     "varDoMethod",
     "text",
     "variables_get"
    ],
    "user_blocks_xml": "<xml xmlns=\"https://developers.google.com/blockly/xml\"><variables><variable id=\"t[n^Fcp7,s93E17ZZ9J6\">dataframe</variable><variable id=\"i!#]:2XI=^qLb$e.|iwo\">pd</variable></variables><block type=\"variables_set\" id=\"3v`CGfKaBAQlZxNrLh;g\" x=\"93\" y=\"206\"><field name=\"VAR\" id=\"t[n^Fcp7,s93E17ZZ9J6\">dataframe</field><value name=\"VALUE\"><block type=\"varDoMethod\" id=\"_t%9/`1H3Fc{hR:y|JKO\"><mutation items=\"1\"></mutation><field name=\"VAR\" id=\"i!#]:2XI=^qLb$e.|iwo\">pd</field><field name=\"MEMBER\">read_csv</field><data>pd:read_csv</data><value name=\"ADD0\"><block type=\"text\" id=\"Ac(8:^_P3%XN~/eCvim3\"><field name=\"TEXT\">datasets/flowers.csv</field></block></value></block></value></block><block type=\"variables_get\" id=\"#KxUvi=Dm$}ah[(R}s(A\" x=\"98\" y=\"286\"><field name=\"VAR\" id=\"t[n^Fcp7,s93E17ZZ9J6\">dataframe</field></block></xml>",
    "user_code_from_blocks": "dataframe = pd.read_csv('datasets/flowers.csv')\n\ndataframe\n"
   },
   "outputs": [],
   "source": []
  },
  {
   "cell_type": "markdown",
   "metadata": {},
   "source": [
    "**QUESTION:**\n",
    "\n",
    "What are the variable types for each variable?\n",
    "\n",
    "**ANSWER: (click here to edit)**\n",
    "\n\n<hr>"
   ]
  },
  {
   "cell_type": "markdown",
   "metadata": {},
   "source": [
    "Get the `dtypes` from the dataframe."
   ]
  },
  {
   "cell_type": "code",
   "execution_count": 10,
   "metadata": {
    "user_blocks": [
     "varGetProperty"
    ],
    "user_blocks_xml": "<xml xmlns=\"https://developers.google.com/blockly/xml\"><variables><variable id=\"t[n^Fcp7,s93E17ZZ9J6\">dataframe</variable></variables><block type=\"varGetProperty\" id=\"BH7oEB_9wN^Cx==6^_[a\" x=\"8\" y=\"142\"><field name=\"VAR\" id=\"t[n^Fcp7,s93E17ZZ9J6\">dataframe</field><field name=\"MEMBER\">dtypes</field><data>dataframe:dtypes</data></block></xml>",
    "user_code_from_blocks": "dataframe.dtypes\n"
   },
   "outputs": [],
   "source": []
  },
  {
   "cell_type": "markdown",
   "metadata": {},
   "source": [
    "**QUESTION:**\n",
    "\n",
    "What do the data types tell you about the variable types and why?\n",
    "\n",
    "**ANSWER: (click here to edit)**\n",
    "\n\n<hr>"
   ]
  },
  {
   "cell_type": "markdown",
   "metadata": {},
   "source": [
    "**QUESTION:**\n",
    "\n",
    "Suppose the students who coded this data made mistakes with Size, so some `small` were coded as `medium` and some `medium` as `large`. \n",
    "Would that affect reliability, validity, or both and why?\n",
    "\n",
    "**ANSWER: (click here to edit)**\n",
    "\n\n<hr>"
   ]
  },
  {
   "cell_type": "markdown",
   "metadata": {},
   "source": [
    "**QUESTION:**\n",
    "\n",
    "Suppose someone made a mistake preparing the data and typed a row like this:\n",
    "\n",
    "`0100.png,,unicolor,rounded,medium`\n",
    "\n",
    "What do you think would happen and why?\n",
    "\n",
    "**ANSWER: (click here to edit)**\n",
    "\n\n<hr>"
   ]
  },
  {
   "cell_type": "markdown",
   "metadata": {},
   "source": [
    "Use `describe` on the dataframe."
   ]
  },
  {
   "cell_type": "code",
   "execution_count": 12,
   "metadata": {
    "user_blocks": [
     "varDoMethod",
     "dummyOutputCodeBlock"
    ],
    "user_blocks_xml": "<xml xmlns=\"https://developers.google.com/blockly/xml\"><variables><variable id=\"t[n^Fcp7,s93E17ZZ9J6\">dataframe</variable></variables><block type=\"varDoMethod\" id=\"PgC]TrEuai$*N/:Fl@hq\" x=\"8\" y=\"176\"><mutation items=\"1\"></mutation><field name=\"VAR\" id=\"t[n^Fcp7,s93E17ZZ9J6\">dataframe</field><field name=\"MEMBER\">describe</field><data>dataframe:describe</data><value name=\"ADD0\"><block type=\"dummyOutputCodeBlock\" id=\"gCh37Jr:x/}|2.Jh~0J1\"><field name=\"CODE\">include='all'</field></block></value></block></xml>",
    "user_code_from_blocks": "dataframe.describe(include='all')\n"
   },
   "outputs": [],
   "source": []
  },
  {
   "cell_type": "markdown",
   "metadata": {},
   "source": [
    "**QUESTION:**\n",
    "\n",
    "What is the most frequent petal color?\n",
    "\n",
    "**ANSWER: (click here to edit)**\n",
    "\n\n<hr>"
   ]
  },
  {
   "cell_type": "markdown",
   "metadata": {},
   "source": [
    "## Flower data - dirty version\n",
    "\n",
    "Now let's look at the same data, but a messed up version of it.\n",
    "\n",
    "Your job is too figure out the problems!\n",
    "\n",
    "Start by loading \"datasets/flowers-dirty\" into the dataframe."
   ]
  },
  {
   "cell_type": "code",
   "execution_count": 14,
   "metadata": {
    "user_blocks": [
     "variables_set",
     "varDoMethod",
     "text"
    ],
    "user_blocks_xml": "<xml xmlns=\"https://developers.google.com/blockly/xml\"><variables><variable id=\"t[n^Fcp7,s93E17ZZ9J6\">dataframe</variable><variable id=\"i!#]:2XI=^qLb$e.|iwo\">pd</variable></variables><block type=\"variables_set\" id=\"3v`CGfKaBAQlZxNrLh;g\" x=\"93\" y=\"206\"><field name=\"VAR\" id=\"t[n^Fcp7,s93E17ZZ9J6\">dataframe</field><value name=\"VALUE\"><block type=\"varDoMethod\" id=\"_t%9/`1H3Fc{hR:y|JKO\"><mutation items=\"1\"></mutation><field name=\"VAR\" id=\"i!#]:2XI=^qLb$e.|iwo\">pd</field><field name=\"MEMBER\">read_csv</field><data>pd:read_csv</data><value name=\"ADD0\"><block type=\"text\" id=\"Ac(8:^_P3%XN~/eCvim3\"><field name=\"TEXT\">datasets/flowers-dirty.csv</field></block></value></block></value></block></xml>",
    "user_code_from_blocks": "dataframe = pd.read_csv('datasets/flowers-dirty.csv')\n"
   },
   "outputs": [],
   "source": []
  },
  {
   "cell_type": "markdown",
   "metadata": {},
   "source": [
    "Now describe it and compare to the original above."
   ]
  },
  {
   "cell_type": "code",
   "execution_count": 16,
   "metadata": {
    "user_blocks": [
     "varDoMethod",
     "dummyOutputCodeBlock"
    ],
    "user_blocks_xml": "<xml xmlns=\"https://developers.google.com/blockly/xml\"><variables><variable id=\"t[n^Fcp7,s93E17ZZ9J6\">dataframe</variable></variables><block type=\"varDoMethod\" id=\"PgC]TrEuai$*N/:Fl@hq\" x=\"8\" y=\"176\"><mutation items=\"1\"></mutation><field name=\"VAR\" id=\"t[n^Fcp7,s93E17ZZ9J6\">dataframe</field><field name=\"MEMBER\">describe</field><data>dataframe:describe</data><value name=\"ADD0\"><block type=\"dummyOutputCodeBlock\" id=\"gCh37Jr:x/}|2.Jh~0J1\"><field name=\"CODE\">include='all'</field></block></value></block></xml>",
    "user_code_from_blocks": "dataframe.describe(include='all')\n"
   },
   "outputs": [],
   "source": []
  },
  {
   "cell_type": "markdown",
   "metadata": {},
   "source": [
    "**QUESTION:**\n",
    "\n",
    "What problems do you see?\n",
    "\n",
    "**ANSWER: (click here to edit)**\n",
    "\n\n<hr>"
   ]
  },
  {
   "cell_type": "markdown",
   "metadata": {},
   "source": [
    "### Missing values\n",
    "\n",
    "Use code to confirm the missing value.\n",
    "First, get whether values are missing."
   ]
  },
  {
   "cell_type": "code",
   "execution_count": 18,
   "metadata": {
    "user_blocks": [
     "variables_set",
     "varDoMethod"
    ],
    "user_blocks_xml": "<xml xmlns=\"https://developers.google.com/blockly/xml\"><variables><variable id=\"Y[%k.R#:6/St%z5mke*3\">missing</variable><variable id=\"t[n^Fcp7,s93E17ZZ9J6\">dataframe</variable></variables><block type=\"variables_set\" id=\"[cvG~Q`fmxO{{q)1VM4?\" x=\"4\" y=\"183\"><field name=\"VAR\" id=\"Y[%k.R#:6/St%z5mke*3\">missing</field><value name=\"VALUE\"><block type=\"varDoMethod\" id=\"#coK8HQ6wgNvZ5{1HL){\"><mutation items=\"1\"></mutation><field name=\"VAR\" id=\"t[n^Fcp7,s93E17ZZ9J6\">dataframe</field><field name=\"MEMBER\">isnull</field><data>dataframe:isnull</data></block></value></block></xml>",
    "user_code_from_blocks": "missing = dataframe.isnull()\n"
   },
   "outputs": [],
   "source": []
  },
  {
   "cell_type": "markdown",
   "metadata": {},
   "source": [
    "Now sum the missing values in each column."
   ]
  },
  {
   "cell_type": "code",
   "execution_count": 20,
   "metadata": {
    "user_blocks": [
     "varDoMethod"
    ],
    "user_blocks_xml": "<xml xmlns=\"https://developers.google.com/blockly/xml\"><variables><variable id=\"Y[%k.R#:6/St%z5mke*3\">missing</variable></variables><block type=\"varDoMethod\" id=\"r*8K.}/8#$[x*@V/qN:g\" x=\"8\" y=\"176\"><mutation items=\"1\"></mutation><field name=\"VAR\" id=\"Y[%k.R#:6/St%z5mke*3\">missing</field><field name=\"MEMBER\">sum</field><data>missing:sum</data></block></xml>",
    "user_code_from_blocks": "missing.sum()\n"
   },
   "outputs": [],
   "source": []
  },
  {
   "cell_type": "markdown",
   "metadata": {},
   "source": [
    "### Extra values\n",
    "\n",
    "First, get the column you want to check."
   ]
  },
  {
   "cell_type": "code",
   "execution_count": 23,
   "metadata": {
    "user_blocks": [
     "variables_set",
     "indexer",
     "text"
    ],
    "user_blocks_xml": "<xml xmlns=\"https://developers.google.com/blockly/xml\"><variables><variable id=\"0MvLf}O4*leP;K0x-s,?\">pc</variable><variable id=\"t[n^Fcp7,s93E17ZZ9J6\">dataframe</variable></variables><block type=\"variables_set\" id=\"egQSB$%{GFk|}me18P|2\" x=\"43\" y=\"111\"><field name=\"VAR\" id=\"0MvLf}O4*leP;K0x-s,?\">pc</field><value name=\"VALUE\"><block type=\"indexer\" id=\"Dbka$JDA,nFAp|kiO@Ld\"><field name=\"VAR\" id=\"t[n^Fcp7,s93E17ZZ9J6\">dataframe</field><value name=\"INDEX\"><block type=\"text\" id=\"d6|Y|4N8Ai[C#mAxGHH;\"><field name=\"TEXT\">PetalColor</field></block></value></block></value></block></xml>",
    "user_code_from_blocks": "pc = dataframe['PetalColor']\n"
   },
   "outputs": [],
   "source": []
  },
  {
   "cell_type": "markdown",
   "metadata": {},
   "source": [
    "Now get the unique values in that column."
   ]
  },
  {
   "cell_type": "code",
   "execution_count": 25,
   "metadata": {
    "user_blocks": [
     "varDoMethod"
    ],
    "user_blocks_xml": "<xml xmlns=\"https://developers.google.com/blockly/xml\"><variables><variable id=\"0MvLf}O4*leP;K0x-s,?\">pc</variable></variables><block type=\"varDoMethod\" id=\"1WVS^M{Q6B04+R4eW@kZ\" x=\"8\" y=\"176\"><mutation items=\"1\"></mutation><field name=\"VAR\" id=\"0MvLf}O4*leP;K0x-s,?\">pc</field><field name=\"MEMBER\">unique</field><data>pc:unique</data></block></xml>",
    "user_code_from_blocks": "pc.unique()\n"
   },
   "outputs": [],
   "source": []
  },
  {
   "cell_type": "markdown",
   "metadata": {},
   "source": [
    "**QUESTION:**\n",
    "\n",
    "What problems do you see and how would you fix it?\n",
    "\n",
    "**ANSWER: (click here to edit)**\n",
    "\n\n<hr>"
   ]
  },
  {
   "cell_type": "markdown",
   "metadata": {},
   "source": [
    "### Duplicate variables\n",
    "\n",
    "Compare the distributions of the two similar variables to see if they match.\n",
    "\n",
    "Start by getting the first distribution."
   ]
  },
  {
   "cell_type": "code",
   "execution_count": 27,
   "metadata": {
    "user_blocks": [
     "varDoMethod"
    ],
    "user_blocks_xml": "<xml xmlns=\"https://developers.google.com/blockly/xml\"><variables><variable id=\"0MvLf}O4*leP;K0x-s,?\">pc</variable></variables><block type=\"varDoMethod\" id=\"FPi518`a/Z$wu`S`yb7p\" x=\"200\" y=\"315\"><mutation items=\"1\"></mutation><field name=\"VAR\" id=\"0MvLf}O4*leP;K0x-s,?\">pc</field><field name=\"MEMBER\">value_counts</field><data>pc:value_counts</data></block></xml>",
    "user_code_from_blocks": "pc.value_counts()\n"
   },
   "outputs": [],
   "source": []
  },
  {
   "cell_type": "markdown",
   "metadata": {},
   "source": [
    "To get the same for the other variable, we must first get that column."
   ]
  },
  {
   "cell_type": "code",
   "execution_count": 29,
   "metadata": {
    "user_blocks": [
     "variables_set",
     "indexer",
     "text"
    ],
    "user_blocks_xml": "<xml xmlns=\"https://developers.google.com/blockly/xml\"><variables><variable id=\"xa3n`IM3Y^5L~Dn7ycGd\">ps</variable><variable id=\"t[n^Fcp7,s93E17ZZ9J6\">dataframe</variable></variables><block type=\"variables_set\" id=\"jN@/rW]R%36py}xWqx7t\" x=\"30\" y=\"110\"><field name=\"VAR\" id=\"xa3n`IM3Y^5L~Dn7ycGd\">ps</field><value name=\"VALUE\"><block type=\"indexer\" id=\"O[YQ?-8mYMC?wAT4g-P5\"><field name=\"VAR\" id=\"t[n^Fcp7,s93E17ZZ9J6\">dataframe</field><value name=\"INDEX\"><block type=\"text\" id=\"Js]y_egVIzA/TI:c[R6e\"><field name=\"TEXT\">PetalShape</field></block></value></block></value></block></xml>",
    "user_code_from_blocks": "ps = dataframe['PetalShape']\n"
   },
   "outputs": [],
   "source": []
  },
  {
   "cell_type": "markdown",
   "metadata": {},
   "source": [
    "Now get the distribution."
   ]
  },
  {
   "cell_type": "code",
   "execution_count": 33,
   "metadata": {
    "user_blocks": [
     "varDoMethod"
    ],
    "user_blocks_xml": "<xml xmlns=\"https://developers.google.com/blockly/xml\"><variables><variable id=\"xa3n`IM3Y^5L~Dn7ycGd\">ps</variable></variables><block type=\"varDoMethod\" id=\"v:n[qOBvESROb]wBs;c6\" x=\"200\" y=\"315\"><mutation items=\"1\"></mutation><field name=\"VAR\" id=\"xa3n`IM3Y^5L~Dn7ycGd\">ps</field><field name=\"MEMBER\">value_counts</field><data>ps:value_counts</data></block></xml>",
    "user_code_from_blocks": "ps.value_counts()\n"
   },
   "outputs": [],
   "source": []
  },
  {
   "cell_type": "markdown",
   "metadata": {},
   "source": [
    "**QUESTION:**\n",
    "\n",
    "How are these variables different? Should we consider them the same and why?\n",
    "\n",
    "**ANSWER: (click here to edit)**\n",
    "\n\n<hr>"
   ]
  },
  {
   "cell_type": "markdown",
   "metadata": {},
   "source": [
    "<!--  -->"
   ]
  }
 ],
 "metadata": {
  "kernelspec": {
   "display_name": "Python 3 (ipykernel)",
   "language": "python",
   "name": "python3"
  },
  "language_info": {
   "codemirror_mode": {
    "name": "ipython",
    "version": 3
   },
   "file_extension": ".py",
   "mimetype": "text/x-python",
   "name": "python",
   "nbconvert_exporter": "python",
   "pygments_lexer": "ipython3",
   "version": "3.12.6"
  }
 },
 "nbformat": 4,
 "nbformat_minor": 4
}
