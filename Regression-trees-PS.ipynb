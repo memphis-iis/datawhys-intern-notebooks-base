{
 "cells": [
  {
   "cell_type": "markdown",
   "metadata": {
    "deletable": false,
    "editable": false
   },
   "source": [
    "Copyright 2020 Andrew M. Olney and made available under [CC BY-SA](https://creativecommons.org/licenses/by-sa/4.0) for text and [Apache-2.0](http://www.apache.org/licenses/LICENSE-2.0) for code.\n"
   ]
  },
  {
   "cell_type": "markdown",
   "metadata": {},
   "source": [
    "# Regression trees: Problem solving\n",
    "\n",
    "In this session we will look at the `mpg` dataset, which contains measurements of fuel economy and other properties of cars from the 1970s.\n",
    "\n",
    "Our goal is to predict miles per gallon.\n",
    "\n",
    "| Variable     | Type     | Description                              |\n",
    "|:--------------|:----------|:------------------------------------------|\n",
    "| mpg          | Ratio    | Miles per gallon; fuel economy           |\n",
    "| cylinders    | Ordinal  | Number of cylinders in engine            |\n",
    "| displacement | Ratio    | Volume inside cylinders (likely inches)                  |\n",
    "| horsepower   | Ratio    | Unit of power                            |\n",
    "| weight       | Ratio    | Weight of car (likely pounds)                           |\n",
    "| acceleration | Ratio    | Acceleration of car (likely in seconds to 60 MPH) |\n",
    "| model_year   | Interval | Year of car manufacture; last two digits |\n",
    "| origin       | Nominal  | Numeric code corresponding to continent  |\n",
    "| name     | Nominal  | Car model name (ID)                      |\n",
    "\n",
    "<div style=\"text-align:center;font-size: smaller\">\n",
    "    <b>Source:</b> This dataset was taken from the StatLib library which is maintained at Carnegie Mellon University.\n",
    "</div>"
   ]
  },
  {
   "cell_type": "markdown",
   "metadata": {},
   "source": [
    "## Import libraries\n",
    "\n",
    "We need to load our data into a dataframe and do some plots, so import `pandas` and `plotly.express` below."
   ]
  },
  {
   "cell_type": "code",
   "execution_count": 4,
   "metadata": {
    "user_blocks": [
     "importAs",
     "importAs"
    ],
    "user_blocks_xml": "<xml xmlns=\"https://developers.google.com/blockly/xml\"><variables><variable id=\"/%IFN5#t2uAm}E`8:KV:\">pd</variable><variable id=\"YtOOS!JE-+8IZ!JNUh]l\">px</variable></variables><block type=\"importAs\" id=\"_@5-r*j4E`}d?=DXLinf\" x=\"16\" y=\"10\"><field name=\"libraryName\">pandas</field><field name=\"VAR\" id=\"/%IFN5#t2uAm}E`8:KV:\">pd</field><next><block type=\"importAs\" id=\"k)WXmx+7tU4zC$jYXhJw\"><field name=\"libraryName\">plotly.express</field><field name=\"VAR\" id=\"YtOOS!JE-+8IZ!JNUh]l\">px</field></block></next></block></xml>",
    "user_code_from_blocks": "import pandas as pd\nimport plotly.express as px\n"
   },
   "outputs": [],
   "source": []
  },
  {
   "cell_type": "markdown",
   "metadata": {},
   "source": [
    "Load `\"datasets/mpg.csv\"` into a dataframe, using `index_col=` to tell it to use `\"name\"` as an ID."
   ]
  },
  {
   "cell_type": "code",
   "execution_count": 6,
   "metadata": {
    "user_blocks": [
     "variables_set",
     "varDoMethod",
     "text",
     "dummyOutputCodeBlock",
     "variables_get"
    ],
    "user_blocks_xml": "<xml xmlns=\"https://developers.google.com/blockly/xml\"><variables><variable id=\"SI@^,P?H2_w62.Ew9{z*\">dataframe</variable><variable id=\"/%IFN5#t2uAm}E`8:KV:\">pd</variable></variables><block type=\"variables_set\" id=\"gM*jw`FfIR3)8=g0iEB7\" x=\"-105\" y=\"137\"><field name=\"VAR\" id=\"SI@^,P?H2_w62.Ew9{z*\">dataframe</field><value name=\"VALUE\"><block type=\"varDoMethod\" id=\"ny0sjvqTnn2B]K2za7Li\"><mutation items=\"2\"></mutation><field name=\"VAR\" id=\"/%IFN5#t2uAm}E`8:KV:\">pd</field><field name=\"MEMBER\">read_csv</field><data>pd:read_csv</data><value name=\"ADD0\"><block type=\"text\" id=\"dfrpI5b@DHr+DQ:|@vpv\"><field name=\"TEXT\">datasets/mpg.csv</field></block></value><value name=\"ADD1\"><block type=\"dummyOutputCodeBlock\" id=\"#SWWDt|[b*)iHTwAfM_K\"><field name=\"CODE\">index_col=\"name\"</field></block></value></block></value></block><block type=\"variables_get\" id=\"q1)x{YWm@)fhD*6[EJGf\" x=\"-81\" y=\"398\"><field name=\"VAR\" id=\"SI@^,P?H2_w62.Ew9{z*\">dataframe</field></block></xml>",
    "user_code_from_blocks": "dataframe = pd.read_csv('datasets/mpg.csv',index_col=\"name\")\n\ndataframe\n"
   },
   "outputs": [],
   "source": []
  },
  {
   "cell_type": "markdown",
   "metadata": {},
   "source": [
    "The last time we looked at this data, we used the `mpg-nona` dataset that I'd already removed the `NaN` from.\n",
    "\n",
    "This `mpg` still has `NaN`, so remove them."
   ]
  },
  {
   "cell_type": "code",
   "execution_count": 8,
   "metadata": {
    "user_blocks": [
     "variables_set",
     "varDoMethod",
     "variables_get"
    ],
    "user_blocks_xml": "<xml xmlns=\"https://developers.google.com/blockly/xml\"><variables><variable id=\"SI@^,P?H2_w62.Ew9{z*\">dataframe</variable></variables><block type=\"variables_set\" id=\"9fdSqn(p63;|xF2dsBzV\" x=\"-58\" y=\"248\"><field name=\"VAR\" id=\"SI@^,P?H2_w62.Ew9{z*\">dataframe</field><value name=\"VALUE\"><block type=\"varDoMethod\" id=\"k414[4+X9^ReM#GZsDps\"><mutation items=\"1\"></mutation><field name=\"VAR\" id=\"SI@^,P?H2_w62.Ew9{z*\">dataframe</field><field name=\"MEMBER\">dropna</field><data>dataframe:dropna</data></block></value></block><block type=\"variables_get\" id=\"W=AALkkNnq64,NQ~6w6.\" x=\"-60\" y=\"304\"><field name=\"VAR\" id=\"SI@^,P?H2_w62.Ew9{z*\">dataframe</field></block></xml>",
    "user_code_from_blocks": "dataframe = dataframe.dropna()\n\ndataframe\n"
   },
   "outputs": [],
   "source": []
  },
  {
   "cell_type": "markdown",
   "metadata": {},
   "source": [
    "Get the five figure summary (descriptive statistics) of the data using `describe`."
   ]
  },
  {
   "cell_type": "code",
   "execution_count": 10,
   "metadata": {
    "user_blocks": [
     "varDoMethod"
    ],
    "user_blocks_xml": "<xml xmlns=\"https://developers.google.com/blockly/xml\"><variables><variable id=\"SI@^,P?H2_w62.Ew9{z*\">dataframe</variable></variables><block type=\"varDoMethod\" id=\"!Zc!z*.{~{;mL/TXW,^H\" x=\"8\" y=\"188\"><mutation items=\"1\"></mutation><field name=\"VAR\" id=\"SI@^,P?H2_w62.Ew9{z*\">dataframe</field><field name=\"MEMBER\">describe</field><data>dataframe:describe</data></block></xml>",
    "user_code_from_blocks": "dataframe.describe()\n"
   },
   "outputs": [],
   "source": []
  },
  {
   "cell_type": "markdown",
   "metadata": {},
   "source": [
    "------------------\n",
    "**QUESTION:**\n",
    "\n",
    "Do the min/max/mean of these values look OK to you?"
   ]
  },
  {
   "cell_type": "markdown",
   "metadata": {},
   "source": [
    "**ANSWER: (click here to edit)**\n",
    "\n\n<hr>"
   ]
  },
  {
   "cell_type": "markdown",
   "metadata": {},
   "source": [
    "Ultimately we want to predict miles per gallon (`mpg`), so make a histogram of that."
   ]
  },
  {
   "cell_type": "code",
   "execution_count": 12,
   "metadata": {
    "user_blocks": [
     "varDoMethod",
     "variables_get",
     "dummyOutputCodeBlock"
    ],
    "user_blocks_xml": "<xml xmlns=\"https://developers.google.com/blockly/xml\"><variables><variable id=\"YtOOS!JE-+8IZ!JNUh]l\">px</variable><variable id=\"SI@^,P?H2_w62.Ew9{z*\">dataframe</variable></variables><block type=\"varDoMethod\" id=\"BA;^5Vw*oM|6hd_74/:@\" x=\"0\" y=\"0\"><mutation items=\"2\"></mutation><field name=\"VAR\" id=\"YtOOS!JE-+8IZ!JNUh]l\">px</field><field name=\"MEMBER\">histogram</field><data>px:histogram</data><value name=\"ADD0\"><block type=\"variables_get\" id=\"xcKQ|UB~$Lic5K+++,]}\"><field name=\"VAR\" id=\"SI@^,P?H2_w62.Ew9{z*\">dataframe</field></block></value><value name=\"ADD1\"><block type=\"dummyOutputCodeBlock\" id=\"Z6+99ubtI^8E_8qB=7Vu\"><field name=\"CODE\">x=\"mpg\"</field></block></value></block></xml>",
    "user_code_from_blocks": "px.histogram(dataframe,x=\"mpg\")\n"
   },
   "outputs": [],
   "source": []
  },
  {
   "cell_type": "markdown",
   "metadata": {},
   "source": [
    "------------------\n",
    "**QUESTION:**\n",
    "\n",
    "Do you think we need to transform `mpg` to make it more normal? Why or why not?"
   ]
  },
  {
   "cell_type": "markdown",
   "metadata": {},
   "source": [
    "**ANSWER: (click here to edit)**\n",
    "\n\n<hr>"
   ]
  },
  {
   "cell_type": "markdown",
   "metadata": {},
   "source": [
    "Use `plotly` to make a `scatter_matrix` of the dataframe.\n",
    "If you have a hard time reading the labels, you can give it something like `width=1000` and `height=1000` to make it bigger."
   ]
  },
  {
   "cell_type": "code",
   "execution_count": 14,
   "metadata": {
    "user_blocks": [
     "varDoMethod",
     "variables_get"
    ],
    "user_blocks_xml": "<xml xmlns=\"https://developers.google.com/blockly/xml\"><variables><variable id=\"YtOOS!JE-+8IZ!JNUh]l\">px</variable><variable id=\"SI@^,P?H2_w62.Ew9{z*\">dataframe</variable></variables><block type=\"varDoMethod\" id=\"BA;^5Vw*oM|6hd_74/:@\" x=\"0\" y=\"0\"><mutation items=\"1\"></mutation><field name=\"VAR\" id=\"YtOOS!JE-+8IZ!JNUh]l\">px</field><field name=\"MEMBER\">scatter_matrix</field><data>px:scatter_matrix</data><value name=\"ADD0\"><block type=\"variables_get\" id=\"xcKQ|UB~$Lic5K+++,]}\"><field name=\"VAR\" id=\"SI@^,P?H2_w62.Ew9{z*\">dataframe</field></block></value></block></xml>",
    "user_code_from_blocks": "px.scatter_matrix(dataframe)\n"
   },
   "outputs": [],
   "source": []
  },
  {
   "cell_type": "markdown",
   "metadata": {},
   "source": [
    "-----------------\n",
    "**QUESTION:**\n",
    "\n",
    "Looking at the scatterplot matrix, which variables have curved (nonlinear) relationships with `mpg`?"
   ]
  },
  {
   "cell_type": "markdown",
   "metadata": {},
   "source": [
    "**ANSWER: (click here to edit)**\n",
    "\n\n<hr>"
   ]
  },
  {
   "cell_type": "markdown",
   "metadata": {},
   "source": [
    "**QUESTION:**\n",
    "\n",
    "What do you think would be better for this data, linear regression or a regression tree? Why?"
   ]
  },
  {
   "cell_type": "markdown",
   "metadata": {},
   "source": [
    "**ANSWER: (click here to edit)**\n",
    "\n\n<hr>"
   ]
  },
  {
   "cell_type": "markdown",
   "metadata": {},
   "source": [
    "## Prepare train/test sets\n",
    "\n",
    "You need to split the data into train/test sets.\n",
    "\n",
    "Start by dropping the label, `mpg` to make a new dataframe called `X`.\n",
    "\n",
    "Save a dataframe with just `mpg` in `Y`. "
   ]
  },
  {
   "cell_type": "code",
   "execution_count": 16,
   "metadata": {
    "user_blocks": [
     "variables_set",
     "varDoMethod",
     "dummyOutputCodeBlock",
     "variables_set",
     "indexer",
     "lists_create_with",
     "text"
    ],
    "user_blocks_xml": "<xml xmlns=\"https://developers.google.com/blockly/xml\"><variables><variable id=\"_z/H/tTnOYS1Lla2~;*0\">X</variable><variable id=\"o8#tp%!,_Okj2aVwX(DL\">Y</variable><variable id=\"SI@^,P?H2_w62.Ew9{z*\">dataframe</variable></variables><block type=\"variables_set\" id=\"M9g^9:hbZQ0Cb9jKq9V6\" x=\"-22\" y=\"85\"><field name=\"VAR\" id=\"_z/H/tTnOYS1Lla2~;*0\">X</field><value name=\"VALUE\"><block type=\"varDoMethod\" id=\"k7t38%eJz)@=B8{vW^(u\"><mutation items=\"1\"></mutation><field name=\"VAR\" id=\"SI@^,P?H2_w62.Ew9{z*\">dataframe</field><field name=\"MEMBER\">drop</field><data>dataframe:drop</data><value name=\"ADD0\"><block type=\"dummyOutputCodeBlock\" id=\"fk{P(H^@/_!^1+tw-Hi*\"><field name=\"CODE\">columns=[\"mpg\"]</field></block></value></block></value></block><block type=\"variables_set\" id=\"A/{OGL825.2|zl]Pe^/X\" x=\"-20\" y=\"211\"><field name=\"VAR\" id=\"o8#tp%!,_Okj2aVwX(DL\">Y</field><value name=\"VALUE\"><block type=\"indexer\" id=\"JJ!pli[y(Kob1,@A!H|A\"><field name=\"VAR\" id=\"SI@^,P?H2_w62.Ew9{z*\">dataframe</field><value name=\"INDEX\"><block type=\"lists_create_with\" id=\"5nH7kNbU}!/TT_F:#b;x\"><mutation items=\"1\"></mutation><value name=\"ADD0\"><block type=\"text\" id=\"XZJHIkBK~O3,J~n.$j50\"><field name=\"TEXT\">mpg</field></block></value></block></value></block></value></block></xml>",
    "user_code_from_blocks": "X = dataframe.drop(columns=[\"mpg\"])\n\nY = dataframe[['mpg']]\n"
   },
   "outputs": [],
   "source": []
  },
  {
   "cell_type": "markdown",
   "metadata": {},
   "source": [
    "Import `sklearn.model_selection` to split the data into train/test sets."
   ]
  },
  {
   "cell_type": "code",
   "execution_count": 19,
   "metadata": {
    "user_blocks": [
     "importAs"
    ],
    "user_blocks_xml": "<xml xmlns=\"https://developers.google.com/blockly/xml\"><variables><variable id=\"-q~R*yx.VGQ@%!0Q+!gh\">model_selection</variable></variables><block type=\"importAs\" id=\"E{QJ$O@lc8u.;OTWdVgf\" x=\"-89\" y=\"168\"><field name=\"libraryName\">sklearn.model_selection</field><field name=\"VAR\" id=\"-q~R*yx.VGQ@%!0Q+!gh\">model_selection</field></block></xml>",
    "user_code_from_blocks": "import sklearn.model_selection as model_selection\n"
   },
   "outputs": [],
   "source": []
  },
  {
   "cell_type": "markdown",
   "metadata": {},
   "source": [
    "And do the actual split."
   ]
  },
  {
   "cell_type": "code",
   "execution_count": 21,
   "metadata": {
    "user_blocks": [
     "variables_set",
     "varDoMethod",
     "variables_get",
     "variables_get",
     "dummyOutputCodeBlock"
    ],
    "user_blocks_xml": "<xml xmlns=\"https://developers.google.com/blockly/xml\"><variables><variable id=\"{Yt*9=2tTC$JepE9BcRz\">splits</variable><variable id=\"-q~R*yx.VGQ@%!0Q+!gh\">model_selection</variable><variable id=\"_z/H/tTnOYS1Lla2~;*0\">X</variable><variable id=\"o8#tp%!,_Okj2aVwX(DL\">Y</variable></variables><block type=\"variables_set\" id=\"HpD!.HSC`PPRg]21i*7c\" x=\"-23\" y=\"72\"><field name=\"VAR\" id=\"{Yt*9=2tTC$JepE9BcRz\">splits</field><value name=\"VALUE\"><block type=\"varDoMethod\" id=\"fUetl3$Ak=SI~T6T5!6c\"><mutation items=\"3\"></mutation><field name=\"VAR\" id=\"-q~R*yx.VGQ@%!0Q+!gh\">model_selection</field><field name=\"MEMBER\">train_test_split</field><data>model_selection:train_test_split</data><value name=\"ADD0\"><block type=\"variables_get\" id=\"jN^;NIVaV%22*W_^|!uK\"><field name=\"VAR\" id=\"_z/H/tTnOYS1Lla2~;*0\">X</field></block></value><value name=\"ADD1\"><block type=\"variables_get\" id=\"OOZSj;YDm{T6q%{~5?B1\"><field name=\"VAR\" id=\"o8#tp%!,_Okj2aVwX(DL\">Y</field></block></value><value name=\"ADD2\"><block type=\"dummyOutputCodeBlock\" id=\"Gg*^%q4qIJwc*of,V|rb\"><field name=\"CODE\">random_state=1</field></block></value></block></value></block></xml>",
    "user_code_from_blocks": "splits = model_selection.train_test_split(X,Y,random_state=1)\n"
   },
   "outputs": [],
   "source": []
  },
  {
   "cell_type": "markdown",
   "metadata": {},
   "source": [
    "## Fit models\n",
    "\n",
    "Fit two models, a linear regression model and a regression tree model.\n",
    "\n",
    "Import the `sklearn.tree` and `sklearn.linear_model` libraries."
   ]
  },
  {
   "cell_type": "code",
   "execution_count": 25,
   "metadata": {
    "user_blocks": [
     "importAs",
     "importAs"
    ],
    "user_blocks_xml": "<xml xmlns=\"https://developers.google.com/blockly/xml\"><variables><variable id=\"tkeU~z;dQ]^6[?rbF?)9\">tree</variable><variable id=\"cGnMvhq5543q[r$:Og-x\">linear_model</variable></variables><block type=\"importAs\" id=\"goc_V=/,8MnTaM{TCljC\" x=\"50\" y=\"70\"><field name=\"libraryName\">sklearn.tree</field><field name=\"VAR\" id=\"tkeU~z;dQ]^6[?rbF?)9\">tree</field><next><block type=\"importAs\" id=\"T+2[8x{hGt/|GLh2xlS$\"><field name=\"libraryName\">sklearn.linear_model</field><field name=\"VAR\" id=\"cGnMvhq5543q[r$:Og-x\">linear_model</field></block></next></block></xml>",
    "user_code_from_blocks": "import sklearn.tree as tree\nimport sklearn.linear_model as linear_model\n"
   },
   "outputs": [],
   "source": []
  },
  {
   "cell_type": "markdown",
   "metadata": {},
   "source": [
    "### Linear regression model \n",
    "\n",
    "Create the linear regression model."
   ]
  },
  {
   "cell_type": "code",
   "execution_count": 27,
   "metadata": {
    "user_blocks": [
     "variables_set",
     "varCreateObject"
    ],
    "user_blocks_xml": "<xml xmlns=\"https://developers.google.com/blockly/xml\"><variables><variable id=\"F]q147x/*m|PMfPQU-lZ\">lm</variable><variable id=\"cGnMvhq5543q[r$:Og-x\">linear_model</variable></variables><block type=\"variables_set\" id=\"kQmyFi!|3ETIOi1@|LJ6\" x=\"35\" y=\"272\"><field name=\"VAR\" id=\"F]q147x/*m|PMfPQU-lZ\">lm</field><value name=\"VALUE\"><block type=\"varCreateObject\" id=\"AJDD:e}}mjM~tRz.rWTR\"><mutation items=\"1\"></mutation><field name=\"VAR\" id=\"cGnMvhq5543q[r$:Og-x\">linear_model</field><field name=\"MEMBER\">LinearRegression</field><data>linear_model:LinearRegression</data></block></value></block></xml>",
    "user_code_from_blocks": "lm = linear_model.LinearRegression()\n"
   },
   "outputs": [],
   "source": []
  },
  {
   "cell_type": "markdown",
   "metadata": {},
   "source": [
    "Fit the linear regression model and get predictions."
   ]
  },
  {
   "cell_type": "code",
   "execution_count": 29,
   "metadata": {
    "user_blocks": [
     "varDoMethod",
     "lists_getIndex",
     "variables_get",
     "math_number",
     "lists_getIndex",
     "variables_get",
     "math_number",
     "variables_set",
     "varDoMethod",
     "lists_getIndex",
     "variables_get",
     "math_number"
    ],
    "user_blocks_xml": "<xml xmlns=\"https://developers.google.com/blockly/xml\"><variables><variable id=\"F]q147x/*m|PMfPQU-lZ\">lm</variable><variable id=\"ty]z2lzV|f{hCWniG*SJ\">lmPredictions</variable><variable id=\"{Yt*9=2tTC$JepE9BcRz\">splits</variable></variables><block type=\"varDoMethod\" id=\"-@fm,911cJiCu@jkys%R\" x=\"0\" y=\"0\"><mutation items=\"2\"></mutation><field name=\"VAR\" id=\"F]q147x/*m|PMfPQU-lZ\">lm</field><field name=\"MEMBER\">fit</field><data>lm:fit</data><value name=\"ADD0\"><block type=\"lists_getIndex\" id=\"W~.ZU([-)(,-i3=bTsB|\"><mutation statement=\"false\" at=\"true\"></mutation><field name=\"MODE\">GET</field><field name=\"WHERE\">FROM_START</field><value name=\"VALUE\"><block type=\"variables_get\" id=\"GIJn[jpD_~wa}#7IO!1K\"><field name=\"VAR\" id=\"{Yt*9=2tTC$JepE9BcRz\">splits</field></block></value><value name=\"AT\"><block type=\"math_number\" id=\"Rh[;nrMLN$[cFFsZC~T|\"><field name=\"NUM\">1</field></block></value></block></value><value name=\"ADD1\"><block type=\"lists_getIndex\" id=\"YkCD57xF*SSN3[`_op{u\"><mutation statement=\"false\" at=\"true\"></mutation><field name=\"MODE\">GET</field><field name=\"WHERE\">FROM_START</field><value name=\"VALUE\"><block type=\"variables_get\" id=\"M@?wn}aoHxJYan0=AE3$\"><field name=\"VAR\" id=\"{Yt*9=2tTC$JepE9BcRz\">splits</field></block></value><value name=\"AT\"><block type=\"math_number\" id=\"jNUa2BdXPG?H8|.br*@e\"><field name=\"NUM\">3</field></block></value></block></value></block><block type=\"variables_set\" id=\"8GF@]VO%5B2QY(9W8S42\" x=\"1\" y=\"195\"><field name=\"VAR\" id=\"ty]z2lzV|f{hCWniG*SJ\">lmPredictions</field><value name=\"VALUE\"><block type=\"varDoMethod\" id=\"_[M^?b_]5WAk~%i)W7vs\"><mutation items=\"1\"></mutation><field name=\"VAR\" id=\"F]q147x/*m|PMfPQU-lZ\">lm</field><field name=\"MEMBER\">predict</field><data>lm:predict</data><value name=\"ADD0\"><block type=\"lists_getIndex\" id=\"uk!H]Ac4Jb-{:Gm,nnj[\"><mutation statement=\"false\" at=\"true\"></mutation><field name=\"MODE\">GET</field><field name=\"WHERE\">FROM_START</field><value name=\"VALUE\"><block type=\"variables_get\" id=\"7cK(q-9*S_,V0/|Yvf=g\"><field name=\"VAR\" id=\"{Yt*9=2tTC$JepE9BcRz\">splits</field></block></value><value name=\"AT\"><block type=\"math_number\" id=\"+{r,qcOEw@AR=6_4oMG8\"><field name=\"NUM\">2</field></block></value></block></value></block></value></block></xml>",
    "user_code_from_blocks": "lm.fit(splits[0],splits[2])\n\nlmPredictions = lm.predict(splits[1])\n"
   },
   "outputs": [],
   "source": []
  },
  {
   "cell_type": "markdown",
   "metadata": {},
   "source": [
    "### Regression tree model\n",
    "\n",
    "Create the regression tree model."
   ]
  },
  {
   "cell_type": "code",
   "execution_count": 31,
   "metadata": {
    "user_blocks": [
     "variables_set",
     "varCreateObject",
     "dummyOutputCodeBlock"
    ],
    "user_blocks_xml": "<xml xmlns=\"https://developers.google.com/blockly/xml\"><variables><variable id=\"y)}CJbWuNk[5e38?/#{t\">model</variable><variable id=\"tkeU~z;dQ]^6[?rbF?)9\">tree</variable></variables><block type=\"variables_set\" id=\"zW~dc)uX.9yIdvHf.vvz\" x=\"74\" y=\"231\"><field name=\"VAR\" id=\"y)}CJbWuNk[5e38?/#{t\">model</field><value name=\"VALUE\"><block type=\"varCreateObject\" id=\"0I6gCe=.wV.oI1[UHnIf\"><mutation items=\"1\"></mutation><field name=\"VAR\" id=\"tkeU~z;dQ]^6[?rbF?)9\">tree</field><field name=\"MEMBER\">DecisionTreeRegressor</field><data>tree:DecisionTreeRegressor</data><value name=\"ADD0\"><block type=\"dummyOutputCodeBlock\" id=\"hB)+jESMQM{e2WM[;CMJ\"><field name=\"CODE\">ccp_alpha=0.004</field></block></value></block></value></block></xml>",
    "user_code_from_blocks": "model = tree.DecisionTreeRegressor(ccp_alpha=0.004)\n"
   },
   "outputs": [],
   "source": []
  },
  {
   "cell_type": "markdown",
   "metadata": {},
   "source": [
    "Fit the regression tree model and get predictions."
   ]
  },
  {
   "cell_type": "code",
   "execution_count": 33,
   "metadata": {
    "user_blocks": [
     "varDoMethod",
     "lists_getIndex",
     "variables_get",
     "math_number",
     "lists_getIndex",
     "variables_get",
     "math_number",
     "variables_set",
     "varDoMethod",
     "lists_getIndex",
     "variables_get",
     "math_number"
    ],
    "user_blocks_xml": "<xml xmlns=\"https://developers.google.com/blockly/xml\"><variables><variable id=\"y)}CJbWuNk[5e38?/#{t\">model</variable><variable id=\".hU+?FvKPIm~!dS$d-nj\">predictions</variable><variable id=\"{Yt*9=2tTC$JepE9BcRz\">splits</variable></variables><block type=\"varDoMethod\" id=\"-@fm,911cJiCu@jkys%R\" x=\"0\" y=\"0\"><mutation items=\"2\"></mutation><field name=\"VAR\" id=\"y)}CJbWuNk[5e38?/#{t\">model</field><field name=\"MEMBER\">fit</field><data>model:fit</data><value name=\"ADD0\"><block type=\"lists_getIndex\" id=\"W~.ZU([-)(,-i3=bTsB|\"><mutation statement=\"false\" at=\"true\"></mutation><field name=\"MODE\">GET</field><field name=\"WHERE\">FROM_START</field><value name=\"VALUE\"><block type=\"variables_get\" id=\"GIJn[jpD_~wa}#7IO!1K\"><field name=\"VAR\" id=\"{Yt*9=2tTC$JepE9BcRz\">splits</field></block></value><value name=\"AT\"><block type=\"math_number\" id=\"Rh[;nrMLN$[cFFsZC~T|\"><field name=\"NUM\">1</field></block></value></block></value><value name=\"ADD1\"><block type=\"lists_getIndex\" id=\"YkCD57xF*SSN3[`_op{u\"><mutation statement=\"false\" at=\"true\"></mutation><field name=\"MODE\">GET</field><field name=\"WHERE\">FROM_START</field><value name=\"VALUE\"><block type=\"variables_get\" id=\"M@?wn}aoHxJYan0=AE3$\"><field name=\"VAR\" id=\"{Yt*9=2tTC$JepE9BcRz\">splits</field></block></value><value name=\"AT\"><block type=\"math_number\" id=\"jNUa2BdXPG?H8|.br*@e\"><field name=\"NUM\">3</field></block></value></block></value></block><block type=\"variables_set\" id=\"8GF@]VO%5B2QY(9W8S42\" x=\"1\" y=\"195\"><field name=\"VAR\" id=\".hU+?FvKPIm~!dS$d-nj\">predictions</field><value name=\"VALUE\"><block type=\"varDoMethod\" id=\"_[M^?b_]5WAk~%i)W7vs\"><mutation items=\"1\"></mutation><field name=\"VAR\" id=\"y)}CJbWuNk[5e38?/#{t\">model</field><field name=\"MEMBER\">predict</field><data>model:predict</data><value name=\"ADD0\"><block type=\"lists_getIndex\" id=\"uk!H]Ac4Jb-{:Gm,nnj[\"><mutation statement=\"false\" at=\"true\"></mutation><field name=\"MODE\">GET</field><field name=\"WHERE\">FROM_START</field><value name=\"VALUE\"><block type=\"variables_get\" id=\"7cK(q-9*S_,V0/|Yvf=g\"><field name=\"VAR\" id=\"{Yt*9=2tTC$JepE9BcRz\">splits</field></block></value><value name=\"AT\"><block type=\"math_number\" id=\"+{r,qcOEw@AR=6_4oMG8\"><field name=\"NUM\">2</field></block></value></block></value></block></value></block></xml>",
    "user_code_from_blocks": "model.fit(splits[0],splits[2])\n\npredictions = model.predict(splits[1])\n"
   },
   "outputs": [],
   "source": []
  },
  {
   "cell_type": "markdown",
   "metadata": {},
   "source": [
    "## Evaluate the models\n",
    "\n",
    "For the linear regression model:\n",
    "\n",
    "- Get the $r^2$ on the *training* set\n",
    "\n",
    "- Get the $r^2$ on the *testing* set"
   ]
  },
  {
   "cell_type": "code",
   "execution_count": 35,
   "metadata": {
    "user_blocks": [
     "text_print",
     "text_join",
     "text",
     "varDoMethod",
     "lists_getIndex",
     "variables_get",
     "math_number",
     "lists_getIndex",
     "variables_get",
     "math_number",
     "text_print",
     "text_join",
     "text",
     "varDoMethod",
     "lists_getIndex",
     "variables_get",
     "math_number",
     "lists_getIndex",
     "variables_get",
     "math_number"
    ],
    "user_blocks_xml": "<xml xmlns=\"https://developers.google.com/blockly/xml\"><variables><variable id=\"F]q147x/*m|PMfPQU-lZ\">lm</variable><variable id=\"{Yt*9=2tTC$JepE9BcRz\">splits</variable></variables><block type=\"text_print\" id=\"~IM}M:,`?~tIB8VB1m^X\" x=\"-47\" y=\"306\"><value name=\"TEXT\"><block type=\"text_join\" id=\"SP${6|~=}gsMxiy4{Nq6\"><mutation items=\"2\"></mutation><value name=\"ADD0\"><block type=\"text\" id=\"A9Io`Zzs7V]5]Q{u_YJb\"><field name=\"TEXT\">Training r2:</field></block></value><value name=\"ADD1\"><block type=\"varDoMethod\" id=\"%!VjUHB:+Srn(8bKuAIJ\"><mutation items=\"2\"></mutation><field name=\"VAR\" id=\"F]q147x/*m|PMfPQU-lZ\">lm</field><field name=\"MEMBER\">score</field><data>lm:score</data><value name=\"ADD0\"><block type=\"lists_getIndex\" id=\"d#d#BS{ihm?]_9Sy!`n1\"><mutation statement=\"false\" at=\"true\"></mutation><field name=\"MODE\">GET</field><field name=\"WHERE\">FROM_START</field><value name=\"VALUE\"><block type=\"variables_get\" id=\"Hz=Ub^QN}T3,w[Q~vkCp\"><field name=\"VAR\" id=\"{Yt*9=2tTC$JepE9BcRz\">splits</field></block></value><value name=\"AT\"><block type=\"math_number\" id=\";~m;0oTRak[R?]rp!IkI\"><field name=\"NUM\">1</field></block></value></block></value><value name=\"ADD1\"><block type=\"lists_getIndex\" id=\"G/?J@!@Zg}9|fSK;WcH:\"><mutation statement=\"false\" at=\"true\"></mutation><field name=\"MODE\">GET</field><field name=\"WHERE\">FROM_START</field><value name=\"VALUE\"><block type=\"variables_get\" id=\"V$Rp`[Cu:yN7vsE5_b+w\"><field name=\"VAR\" id=\"{Yt*9=2tTC$JepE9BcRz\">splits</field></block></value><value name=\"AT\"><block type=\"math_number\" id=\"~R]wA!S4a75y!9c.F{9d\"><field name=\"NUM\">3</field></block></value></block></value></block></value></block></value><next><block type=\"text_print\" id=\"|-ERRuo3*XHY80H}YhXF\"><value name=\"TEXT\"><block type=\"text_join\" id=\";Te5E~GtH9dv8{qp[U:@\"><mutation items=\"2\"></mutation><value name=\"ADD0\"><block type=\"text\" id=\":-11rvnXpgdoNr[C_:^a\"><field name=\"TEXT\">Testing r2:</field></block></value><value name=\"ADD1\"><block type=\"varDoMethod\" id=\"R==U1*znQ/jMAW#;s]29\"><mutation items=\"2\"></mutation><field name=\"VAR\" id=\"F]q147x/*m|PMfPQU-lZ\">lm</field><field name=\"MEMBER\">score</field><data>lm:score</data><value name=\"ADD0\"><block type=\"lists_getIndex\" id=\"i084N_e9(a%L7p.SDi.s\"><mutation statement=\"false\" at=\"true\"></mutation><field name=\"MODE\">GET</field><field name=\"WHERE\">FROM_START</field><value name=\"VALUE\"><block type=\"variables_get\" id=\"S%I(G6amV-zzpHsiM#;Y\"><field name=\"VAR\" id=\"{Yt*9=2tTC$JepE9BcRz\">splits</field></block></value><value name=\"AT\"><block type=\"math_number\" id=\"F.D=M4Lo7*q?IwMyCy;[\"><field name=\"NUM\">2</field></block></value></block></value><value name=\"ADD1\"><block type=\"lists_getIndex\" id=\".JqtS=TqJGtibpup#b%@\"><mutation statement=\"false\" at=\"true\"></mutation><field name=\"MODE\">GET</field><field name=\"WHERE\">FROM_START</field><value name=\"VALUE\"><block type=\"variables_get\" id=\"wh]FU*Pa{:_=vg)k_4iA\"><field name=\"VAR\" id=\"{Yt*9=2tTC$JepE9BcRz\">splits</field></block></value><value name=\"AT\"><block type=\"math_number\" id=\"/SbPu0b2ew/^kOIk%h^G\"><field name=\"NUM\">4</field></block></value></block></value></block></value></block></value></block></next></block></xml>",
    "user_code_from_blocks": "print('Training r2:' + str(lm.score(splits[0],splits[2])))\nprint('Testing r2:' + str(lm.score(splits[1],splits[3])))\n"
   },
   "outputs": [],
   "source": []
  },
  {
   "cell_type": "markdown",
   "metadata": {},
   "source": [
    "For the regression tree model:\n",
    "\n",
    "- Get the $r^2$ on the *training* set\n",
    "\n",
    "- Get the $r^2$ on the *testing* set"
   ]
  },
  {
   "cell_type": "code",
   "execution_count": 37,
   "metadata": {
    "user_blocks": [
     "text_print",
     "text_join",
     "text",
     "varDoMethod",
     "lists_getIndex",
     "variables_get",
     "math_number",
     "lists_getIndex",
     "variables_get",
     "math_number",
     "text_print",
     "text_join",
     "text",
     "varDoMethod",
     "lists_getIndex",
     "variables_get",
     "math_number",
     "lists_getIndex",
     "variables_get",
     "math_number"
    ],
    "user_blocks_xml": "<xml xmlns=\"https://developers.google.com/blockly/xml\"><variables><variable id=\"y)}CJbWuNk[5e38?/#{t\">model</variable><variable id=\"{Yt*9=2tTC$JepE9BcRz\">splits</variable></variables><block type=\"text_print\" id=\"~IM}M:,`?~tIB8VB1m^X\" x=\"-47\" y=\"306\"><value name=\"TEXT\"><block type=\"text_join\" id=\"SP${6|~=}gsMxiy4{Nq6\"><mutation items=\"2\"></mutation><value name=\"ADD0\"><block type=\"text\" id=\"A9Io`Zzs7V]5]Q{u_YJb\"><field name=\"TEXT\">Training r2:</field></block></value><value name=\"ADD1\"><block type=\"varDoMethod\" id=\"%!VjUHB:+Srn(8bKuAIJ\"><mutation items=\"2\"></mutation><field name=\"VAR\" id=\"y)}CJbWuNk[5e38?/#{t\">model</field><field name=\"MEMBER\">score</field><data>model:score</data><value name=\"ADD0\"><block type=\"lists_getIndex\" id=\"d#d#BS{ihm?]_9Sy!`n1\"><mutation statement=\"false\" at=\"true\"></mutation><field name=\"MODE\">GET</field><field name=\"WHERE\">FROM_START</field><value name=\"VALUE\"><block type=\"variables_get\" id=\"Hz=Ub^QN}T3,w[Q~vkCp\"><field name=\"VAR\" id=\"{Yt*9=2tTC$JepE9BcRz\">splits</field></block></value><value name=\"AT\"><block type=\"math_number\" id=\";~m;0oTRak[R?]rp!IkI\"><field name=\"NUM\">1</field></block></value></block></value><value name=\"ADD1\"><block type=\"lists_getIndex\" id=\"G/?J@!@Zg}9|fSK;WcH:\"><mutation statement=\"false\" at=\"true\"></mutation><field name=\"MODE\">GET</field><field name=\"WHERE\">FROM_START</field><value name=\"VALUE\"><block type=\"variables_get\" id=\"V$Rp`[Cu:yN7vsE5_b+w\"><field name=\"VAR\" id=\"{Yt*9=2tTC$JepE9BcRz\">splits</field></block></value><value name=\"AT\"><block type=\"math_number\" id=\"~R]wA!S4a75y!9c.F{9d\"><field name=\"NUM\">3</field></block></value></block></value></block></value></block></value><next><block type=\"text_print\" id=\"|-ERRuo3*XHY80H}YhXF\"><value name=\"TEXT\"><block type=\"text_join\" id=\";Te5E~GtH9dv8{qp[U:@\"><mutation items=\"2\"></mutation><value name=\"ADD0\"><block type=\"text\" id=\":-11rvnXpgdoNr[C_:^a\"><field name=\"TEXT\">Testing r2:</field></block></value><value name=\"ADD1\"><block type=\"varDoMethod\" id=\"R==U1*znQ/jMAW#;s]29\"><mutation items=\"2\"></mutation><field name=\"VAR\" id=\"y)}CJbWuNk[5e38?/#{t\">model</field><field name=\"MEMBER\">score</field><data>model:score</data><value name=\"ADD0\"><block type=\"lists_getIndex\" id=\"i084N_e9(a%L7p.SDi.s\"><mutation statement=\"false\" at=\"true\"></mutation><field name=\"MODE\">GET</field><field name=\"WHERE\">FROM_START</field><value name=\"VALUE\"><block type=\"variables_get\" id=\"S%I(G6amV-zzpHsiM#;Y\"><field name=\"VAR\" id=\"{Yt*9=2tTC$JepE9BcRz\">splits</field></block></value><value name=\"AT\"><block type=\"math_number\" id=\"F.D=M4Lo7*q?IwMyCy;[\"><field name=\"NUM\">2</field></block></value></block></value><value name=\"ADD1\"><block type=\"lists_getIndex\" id=\".JqtS=TqJGtibpup#b%@\"><mutation statement=\"false\" at=\"true\"></mutation><field name=\"MODE\">GET</field><field name=\"WHERE\">FROM_START</field><value name=\"VALUE\"><block type=\"variables_get\" id=\"wh]FU*Pa{:_=vg)k_4iA\"><field name=\"VAR\" id=\"{Yt*9=2tTC$JepE9BcRz\">splits</field></block></value><value name=\"AT\"><block type=\"math_number\" id=\"/SbPu0b2ew/^kOIk%h^G\"><field name=\"NUM\">4</field></block></value></block></value></block></value></block></value></block></next></block></xml>",
    "user_code_from_blocks": "print('Training r2:' + str(model.score(splits[0],splits[2])))\nprint('Testing r2:' + str(model.score(splits[1],splits[3])))\n"
   },
   "outputs": [],
   "source": []
  },
  {
   "cell_type": "markdown",
   "metadata": {},
   "source": [
    "------------------\n",
    "**QUESTION:**\n",
    "\n",
    "Compare the two models with respect to their *training data performance*. Which is better?\n",
    "Now compare the two models with respect to their *testing data performance*. Which is better?\n",
    "What do these differences tell you?"
   ]
  },
  {
   "cell_type": "markdown",
   "metadata": {},
   "source": [
    "**ANSWER: (click here to edit)**\n",
    "\n\n<hr>"
   ]
  },
  {
   "cell_type": "markdown",
   "metadata": {},
   "source": [
    "## Penalize the regression tree\n",
    "\n",
    "Start with `ccp_alpha=0.004` and look at peformance.\n",
    "Try a few values less than this and greater than this (max of 1.0).\n",
    "\n",
    "------------------\n",
    "**QUESTION:**\n",
    "\n",
    "What values did you try? Did any of them do better than linear regression on the test set?"
   ]
  },
  {
   "cell_type": "markdown",
   "metadata": {},
   "source": [
    "**ANSWER: (click here to edit)**\n",
    "\n\n<hr>"
   ]
  },
  {
   "cell_type": "markdown",
   "metadata": {},
   "source": [
    "## Visualize the model\n",
    "\n",
    "If you have time, try to do this for whatever value of `ccp_alpha` you liked the best.\n",
    "\n",
    "Import `graphviz`."
   ]
  },
  {
   "cell_type": "code",
   "execution_count": 41,
   "metadata": {
    "user_blocks": [
     "importAs"
    ],
    "user_blocks_xml": "<xml xmlns=\"https://developers.google.com/blockly/xml\"><variables><variable id=\"rrXqQ:9R(~X0,}F[1UD]\">graphviz</variable></variables><block type=\"importAs\" id=\"7{/s^=v`Fuc^Gk2M%VYV\" x=\"16\" y=\"36\"><field name=\"libraryName\">graphviz</field><field name=\"VAR\" id=\"rrXqQ:9R(~X0,}F[1UD]\">graphviz</field></block></xml>",
    "user_code_from_blocks": "import graphviz as graphviz\n"
   },
   "outputs": [],
   "source": []
  },
  {
   "cell_type": "markdown",
   "metadata": {},
   "source": [
    "Create the graph and display it.\n",
    "\n",
    "To save you time, here are the feature names: `\"cylinders\",\"displacement\",\"horsepower\",\"weight\",\"acceleration\",\"model_year\",\"origin\"`"
   ]
  },
  {
   "cell_type": "code",
   "execution_count": 43,
   "metadata": {
    "user_blocks": [
     "variables_set",
     "varDoMethod",
     "variables_get",
     "dummyOutputCodeBlock",
     "dummyOutputCodeBlock",
     "dummyOutputCodeBlock",
     "dummyOutputCodeBlock",
     "dummyOutputCodeBlock",
     "dummyOutputCodeBlock",
     "varCreateObject",
     "variables_get"
    ],
    "user_blocks_xml": "<xml xmlns=\"https://developers.google.com/blockly/xml\"><variables><variable id=\"F.ej=Hud7vT9uozVaF5C\">dot_data</variable><variable id=\"rrXqQ:9R(~X0,}F[1UD]\">graphviz</variable><variable id=\"tkeU~z;dQ]^6[?rbF?)9\">tree</variable><variable id=\"y)}CJbWuNk[5e38?/#{t\">model</variable></variables><block type=\"variables_set\" id=\":6*zm74#9$!O3?QVUukE\" x=\"33\" y=\"70\"><field name=\"VAR\" id=\"F.ej=Hud7vT9uozVaF5C\">dot_data</field><value name=\"VALUE\"><block type=\"varDoMethod\" id=\"jsRyzb,9t~G^G@G@SMkS\"><mutation items=\"7\"></mutation><field name=\"VAR\" id=\"tkeU~z;dQ]^6[?rbF?)9\">tree</field><field name=\"MEMBER\">export_graphviz</field><data>tree:export_graphviz</data><value name=\"ADD0\"><block type=\"variables_get\" id=\"x$]b$%X#}qjO@0H/!O|N\"><field name=\"VAR\" id=\"y)}CJbWuNk[5e38?/#{t\">model</field></block></value><value name=\"ADD1\"><block type=\"dummyOutputCodeBlock\" id=\"K!=:ty3DMPs#b^ziH=5p\"><field name=\"CODE\">out_file=None</field></block></value><value name=\"ADD2\"><block type=\"dummyOutputCodeBlock\" id=\"by]EM[Y$kMG~MfF0{q^,\"><field name=\"CODE\">feature_names=[\"cylinders\",\"displacement\",\"horsepower\",\"weight\",\"acceleration\",\"model_year\",\"origin\"]</field></block></value><value name=\"ADD3\"><block type=\"dummyOutputCodeBlock\" id=\"2hz~E.{8:W9-wWb*9Ut~\"><field name=\"CODE\">class_names=['mpg']</field></block></value><value name=\"ADD4\"><block type=\"dummyOutputCodeBlock\" id=\"^IJ3b3Eg7K9k^6Of_4i%\"><field name=\"CODE\">filled=True</field></block></value><value name=\"ADD5\"><block type=\"dummyOutputCodeBlock\" id=\"VH!NxdBRgItjnN]Zs^Uh\"><field name=\"CODE\">rounded=True</field></block></value><value name=\"ADD6\"><block type=\"dummyOutputCodeBlock\" id=\"f*|7fCy,K/0{_WzfribG\"><field name=\"CODE\">special_characters=True</field></block></value></block></value></block><block type=\"varCreateObject\" id=\"112,RjG4uBP/IYpAL!NY\" x=\"36\" y=\"403\"><mutation items=\"1\"></mutation><field name=\"VAR\" id=\"rrXqQ:9R(~X0,}F[1UD]\">graphviz</field><field name=\"MEMBER\">Source</field><data>graphviz:Source</data><value name=\"ADD0\"><block type=\"variables_get\" id=\"!_lPB2E+UI{S0Fxx-M;@\"><field name=\"VAR\" id=\"F.ej=Hud7vT9uozVaF5C\">dot_data</field></block></value></block></xml>",
    "user_code_from_blocks": "dot_data = tree.export_graphviz(model,out_file=None,feature_names=[\"cylinders\",\"displacement\",\"horsepower\",\"weight\",\"acceleration\",\"model_year\",\"origin\"],class_names=['mpg'],filled=True,rounded=True,special_characters=True)\n\ngraphviz.Source(dot_data)\n"
   },
   "outputs": [],
   "source": []
  },
  {
   "cell_type": "markdown",
   "metadata": {},
   "source": [
    "------------------\n",
    "**QUESTION:**\n",
    "\n",
    "Explain the top three nodes in your tree.\n",
    "\n",
    "**ANSWER: (click here to edit)**\n",
    "\n\n<hr>"
   ]
  },
  {
   "cell_type": "markdown",
   "metadata": {},
   "source": [
    "\n",
    "-------------------\n",
    "\n",
    "**QUESTION:**\n",
    "\n",
    "Which model do you prefer, linear regression or regression trees, in this situation, and why?\n",
    "\n",
    "**ANSWER: (click here to edit)**\n",
    "\n\n<hr>"
   ]
  },
  {
   "cell_type": "markdown",
   "metadata": {},
   "source": [
    "<!--  -->"
   ]
  },
  {
   "cell_type": "markdown",
   "metadata": {},
   "source": [
    "<!-- path = model.cost_complexity_pruning_path(splits[0], splits[2])\n",
    "ccp_alphas, impurities = path.ccp_alphas, path.impurities\n",
    "\n",
    "clfs = []\n",
    "for ccp_alpha in ccp_alphas:\n",
    "    clf = tree.DecisionTreeRegressor(random_state=0, ccp_alpha=ccp_alpha)\n",
    "    clf.fit(splits[0], splits[2])\n",
    "    clfs.append(clf)\n",
    "node_counts = [clf.tree_.node_count for clf in clfs]\n",
    "depth = [clf.tree_.max_depth for clf in clfs]\n",
    "px.scatter(x=ccp_alphas,y=node_counts) -->"
   ]
  }
 ],
 "metadata": {
  "kernelspec": {
   "display_name": "Python 3 (ipykernel)",
   "language": "python",
   "name": "python3"
  },
  "language_info": {
   "codemirror_mode": {
    "name": "ipython",
    "version": 3
   },
   "file_extension": ".py",
   "mimetype": "text/x-python",
   "name": "python",
   "nbconvert_exporter": "python",
   "pygments_lexer": "ipython3",
   "version": "3.12.6"
  }
 },
 "nbformat": 4,
 "nbformat_minor": 4
}
